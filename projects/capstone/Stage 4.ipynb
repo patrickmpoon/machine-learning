{
 "cells": [
  {
   "cell_type": "markdown",
   "metadata": {},
   "source": [
    "# Stage 4\n",
    "\n",
    "- has **`location_raw`**: False\n",
    "- vars one-hot encoded: True\n",
    "- var label-encoded: False\n",
    "- oversampled: False"
   ]
  },
  {
   "cell_type": "code",
   "execution_count": 1,
   "metadata": {
    "ExecuteTime": {
     "end_time": "2018-05-23T12:02:16.367025Z",
     "start_time": "2018-05-23T12:02:15.657886Z"
    },
    "collapsed": true
   },
   "outputs": [],
   "source": [
    "import pickle\n",
    "\n",
    "import humanize\n",
    "import numpy as np\n",
    "import pandas as pd\n",
    "from datetime import datetime\n",
    "from sklearn.ensemble import RandomForestClassifier, GradientBoostingClassifier\n",
    "from sklearn.externals.joblib import parallel_backend\n",
    "from sklearn.metrics import accuracy_score, confusion_matrix, precision_recall_fscore_support\n",
    "from sklearn.model_selection import train_test_split\n",
    "\n",
    "\n",
    "%matplotlib inline\n",
    "%load_ext autoreload"
   ]
  },
  {
   "cell_type": "code",
   "execution_count": 2,
   "metadata": {
    "ExecuteTime": {
     "end_time": "2018-05-23T12:02:16.513820Z",
     "start_time": "2018-05-23T12:02:16.367911Z"
    }
   },
   "outputs": [
    {
     "name": "stdout",
     "output_type": "stream",
     "text": [
      "Row counts:\n",
      "\ttrain: 324869\n",
      "\ttest: 62534\n"
     ]
    }
   ],
   "source": [
    "X_train = pickle.load(open('./data/stage4-train.pkl', 'rb'))\n",
    "y_train = X_train.pop('stop_outcome')\n",
    "X_test = pickle.load(open('./data/stage4-test.pkl', 'rb'))\n",
    "y_test = X_test.pop('stop_outcome')\n",
    "\n",
    "print('Row counts:\\n\\ttrain: {}\\n\\ttest: {}'.format(X_train.shape[0], X_test.shape[0]))\n"
   ]
  },
  {
   "cell_type": "markdown",
   "metadata": {},
   "source": [
    "# Classifiers"
   ]
  },
  {
   "cell_type": "code",
   "execution_count": 3,
   "metadata": {
    "ExecuteTime": {
     "end_time": "2018-05-23T12:02:16.563408Z",
     "start_time": "2018-05-23T12:02:16.514578Z"
    },
    "collapsed": true
   },
   "outputs": [],
   "source": [
    "from sklearn.ensemble import RandomForestClassifier, GradientBoostingClassifier\n",
    "from sklearn.linear_model import SGDClassifier\n",
    "from sklearn.naive_bayes import GaussianNB\n",
    "from sklearn.tree import DecisionTreeClassifier\n",
    "\n",
    "\n",
    "class Classifier(object):\n",
    "    def __init__(self, classifier):\n",
    "        self.clf = classifier\n",
    "        self.fitted = False\n",
    "        self.name = self.get_name(self.clf)\n",
    "        self.score_val = 0.0\n",
    "\n",
    "    def get_name(self, classifier):\n",
    "        return str(classifier.__class__).split('.')[-1].replace(\"'>\", \"\")\n",
    "        \n",
    "    def fit(self, X_train, y_train):\n",
    "        self.clf.fit(X_train, y_train)\n",
    "        self.fitted = True\n",
    "\n",
    "    def score(self, X_train, y_train):\n",
    "        if self.fitted:\n",
    "            print('Scoring...')\n",
    "            self.score_val = self.clf.score(X_train, y_train)\n",
    "            print(self.score_val)\n",
    "        else:\n",
    "            print('Please run the .fit() method first')\n",
    "\n",
    "        \n",
    "clf = {\n",
    "    'sgd': Classifier(SGDClassifier()),\n",
    "    'gnb': Classifier(GaussianNB()),\n",
    "    'dtc': Classifier(DecisionTreeClassifier(random_state=0)),\n",
    "    'rfc': Classifier(RandomForestClassifier(n_jobs=8, verbose=3, random_state=0)),\n",
    "    'gbc': Classifier(GradientBoostingClassifier(random_state=0)),\n",
    "    'gbc_tuned': Classifier(GradientBoostingClassifier(\n",
    "    #     learning_rate=0.0983,\n",
    "        max_depth=6,\n",
    "    #     max_features=len(list(X_train.columns.values)),\n",
    "        subsample=0.9,\n",
    "        verbose=3,\n",
    "        random_state=0,\n",
    "    )),\n",
    "}\n",
    "        \n",
    "    "
   ]
  },
  {
   "cell_type": "code",
   "execution_count": 4,
   "metadata": {
    "ExecuteTime": {
     "end_time": "2018-05-23T12:02:16.567224Z",
     "start_time": "2018-05-23T12:02:16.564257Z"
    },
    "collapsed": true
   },
   "outputs": [],
   "source": [
    "# Split the 'features' and 'labels' data into training and testing sets\n",
    "# X_train, X_test, y_train, y_test = train_test_split(features,\n",
    "#                                                     labels, \n",
    "#                                                     test_size=0.2, \n",
    "#                                                     random_state=0)\n",
    "# final_test_features = pickle.load(open('./data/final_test_set.pkl', 'rb'))\n",
    "# final_test_outcomes = final_test_features.pop('stop_outcome')\n",
    "# print('Final test set row count: {}'.format(final_test_features.shape[0]))\n",
    "\n",
    "# X_train = features\n",
    "# y_train = labels\n",
    "# X_test = final_test_features\n",
    "# y_test = final_test_outcomes"
   ]
  },
  {
   "cell_type": "markdown",
   "metadata": {},
   "source": [
    "# Benchmark"
   ]
  },
  {
   "cell_type": "code",
   "execution_count": 5,
   "metadata": {
    "ExecuteTime": {
     "end_time": "2018-05-23T12:02:16.584775Z",
     "start_time": "2018-05-23T12:02:16.568127Z"
    }
   },
   "outputs": [
    {
     "data": {
      "text/plain": [
       "0.69127194806025527"
      ]
     },
     "execution_count": 5,
     "metadata": {},
     "output_type": "execute_result"
    }
   ],
   "source": [
    "# LabelEncoded value for \"Ticket\" outcome is 2\n",
    "predictions = [2]\n",
    "accuracy_score(y_test, predictions * y_test.shape[0])"
   ]
  },
  {
   "cell_type": "markdown",
   "metadata": {},
   "source": [
    "# Simple Linear Classifier"
   ]
  },
  {
   "cell_type": "code",
   "execution_count": 6,
   "metadata": {
    "ExecuteTime": {
     "end_time": "2018-05-23T12:02:17.694603Z",
     "start_time": "2018-05-23T12:02:16.585580Z"
    }
   },
   "outputs": [
    {
     "name": "stderr",
     "output_type": "stream",
     "text": [
      "/home/pato/anaconda2/envs/py36/lib/python3.6/site-packages/sklearn/linear_model/stochastic_gradient.py:128: FutureWarning: max_iter and tol parameters have been added in <class 'sklearn.linear_model.stochastic_gradient.SGDClassifier'> in 0.19. If both are left unset, they default to max_iter=5 and tol=None. If tol is not None, max_iter defaults to max_iter=1000. From 0.21, default max_iter will be 1000, and default tol will be 1e-3.\n",
      "  \"and default tol will be 1e-3.\" % type(self), FutureWarning)\n"
     ]
    },
    {
     "name": "stdout",
     "output_type": "stream",
     "text": [
      "Scoring...\n",
      "0.704464771164\n"
     ]
    }
   ],
   "source": [
    "clf['sgd'].fit(X_train, y_train)\n",
    "clf['sgd'].score(X_test, y_test)"
   ]
  },
  {
   "cell_type": "markdown",
   "metadata": {
    "collapsed": true
   },
   "source": [
    "# GaussianNB"
   ]
  },
  {
   "cell_type": "code",
   "execution_count": 7,
   "metadata": {
    "ExecuteTime": {
     "end_time": "2018-05-23T12:02:17.893630Z",
     "start_time": "2018-05-23T12:02:17.695416Z"
    }
   },
   "outputs": [
    {
     "name": "stdout",
     "output_type": "stream",
     "text": [
      "Scoring...\n",
      "0.68514727988\n"
     ]
    }
   ],
   "source": [
    "clf['gnb'].fit(X_train, y_train)\n",
    "clf['gnb'].score(X_test, y_test)"
   ]
  },
  {
   "cell_type": "markdown",
   "metadata": {
    "collapsed": true
   },
   "source": [
    "# DecisionTreeClassifier"
   ]
  },
  {
   "cell_type": "code",
   "execution_count": 8,
   "metadata": {
    "ExecuteTime": {
     "end_time": "2018-05-23T12:02:19.794914Z",
     "start_time": "2018-05-23T12:02:17.894697Z"
    }
   },
   "outputs": [
    {
     "name": "stdout",
     "output_type": "stream",
     "text": [
      "Scoring...\n",
      "0.567211436978\n"
     ]
    }
   ],
   "source": [
    "clf['dtc'].fit(X_train, y_train)\n",
    "clf['dtc'].score(X_test, y_test)"
   ]
  },
  {
   "cell_type": "markdown",
   "metadata": {
    "collapsed": true
   },
   "source": [
    "# RandomForestClassifier"
   ]
  },
  {
   "cell_type": "code",
   "execution_count": 9,
   "metadata": {
    "ExecuteTime": {
     "end_time": "2018-05-23T12:02:21.685052Z",
     "start_time": "2018-05-23T12:02:19.795720Z"
    }
   },
   "outputs": [
    {
     "name": "stdout",
     "output_type": "stream",
     "text": [
      "building tree 2 of 10building tree 1 of 10building tree 3 of 10building tree 4 of 10building tree 5 of 10building tree 6 of 10building tree 7 of 10\n",
      "\n",
      "\n",
      "\n",
      "\n",
      "\n",
      "\n",
      "building tree 8 of 10\n",
      "building tree 9 of 10\n",
      "building tree 10 of 10\n"
     ]
    },
    {
     "name": "stderr",
     "output_type": "stream",
     "text": [
      "[Parallel(n_jobs=8)]: Done   3 out of  10 | elapsed:    1.0s remaining:    2.4s\n",
      "[Parallel(n_jobs=8)]: Done   7 out of  10 | elapsed:    1.1s remaining:    0.5s\n",
      "[Parallel(n_jobs=8)]: Done  10 out of  10 | elapsed:    1.5s finished\n",
      "[Parallel(n_jobs=8)]: Done   3 out of  10 | elapsed:    0.1s remaining:    0.2s\n",
      "[Parallel(n_jobs=8)]: Done   7 out of  10 | elapsed:    0.1s remaining:    0.0s\n"
     ]
    },
    {
     "name": "stdout",
     "output_type": "stream",
     "text": [
      "Scoring...\n",
      "0.681789106726\n"
     ]
    },
    {
     "name": "stderr",
     "output_type": "stream",
     "text": [
      "[Parallel(n_jobs=8)]: Done  10 out of  10 | elapsed:    0.1s finished\n"
     ]
    }
   ],
   "source": [
    "# rfc = RandomForestClassifier(n_jobs=8, verbose=3, random_state=0)\n",
    "clf['rfc'].fit(X_train, y_train)\n",
    "clf['rfc'].score(X_test, y_test)"
   ]
  },
  {
   "cell_type": "markdown",
   "metadata": {
    "collapsed": true
   },
   "source": [
    "# GradientBoostingClassifier"
   ]
  },
  {
   "cell_type": "code",
   "execution_count": 10,
   "metadata": {
    "ExecuteTime": {
     "end_time": "2018-05-23T12:04:47.780795Z",
     "start_time": "2018-05-23T12:02:21.686129Z"
    }
   },
   "outputs": [
    {
     "name": "stdout",
     "output_type": "stream",
     "text": [
      "Scoring...\n",
      "0.7117887869\n"
     ]
    }
   ],
   "source": [
    "# gbc = GradientBoostingClassifier(random_state=0)\n",
    "clf['gbc'].fit(X_train, y_train)\n",
    "clf['gbc'].score(X_test, y_test)"
   ]
  },
  {
   "cell_type": "markdown",
   "metadata": {},
   "source": [
    "## GradientBoostingClassifier (Tuned)\n"
   ]
  },
  {
   "cell_type": "code",
   "execution_count": 11,
   "metadata": {
    "ExecuteTime": {
     "end_time": "2018-05-23T12:12:23.586302Z",
     "start_time": "2018-05-23T12:04:47.781543Z"
    },
    "scrolled": true
   },
   "outputs": [
    {
     "name": "stdout",
     "output_type": "stream",
     "text": [
      "      Iter       Train Loss      OOB Improve   Remaining Time \n",
      "         1      402903.0858        2593.8862            6.92m\n",
      "         2      384691.3571        2018.6188            6.80m\n",
      "         3      370125.8310        1631.6277            6.70m\n",
      "         4      357929.2777        1316.9687            6.68m\n",
      "         5      347194.9056        1197.5037            6.83m\n",
      "         6      338767.6199         908.3092            6.82m\n",
      "         7      331883.2088         764.2980            6.79m\n",
      "         8      325991.3885         661.0333            6.75m\n",
      "         9      320204.6765         621.3865            6.67m\n",
      "        10      315827.7784         496.6222            6.55m\n",
      "        11      311931.4011         413.7259            6.46m\n",
      "        12      308430.1278         371.8687            6.39m\n",
      "        13      305177.3327         328.7210            6.31m\n",
      "        14      302563.2125         318.0224            6.25m\n",
      "        15      299565.5632         290.0132            6.21m\n",
      "        16      297756.4173         224.1488            6.14m\n",
      "        17      295262.0231         238.2271            6.12m\n",
      "        18      292906.1014         220.7921            6.07m\n",
      "        19      291439.1531         185.7828            6.02m\n",
      "        20      289889.2601         151.3903            5.95m\n",
      "        21      288615.2247         135.6833            5.89m\n",
      "        22      287053.9747         143.3946            5.84m\n",
      "        23      286304.6554          90.8780            5.78m\n",
      "        24      284982.7964         120.5810            5.72m\n",
      "        25      284007.0671          93.1262            5.66m\n",
      "        26      282920.8862         112.6557            5.61m\n",
      "        27      281893.8618          76.9460            5.55m\n",
      "        28      281409.9905          94.4316            5.48m\n",
      "        29      280382.3145          70.7719            5.41m\n",
      "        30      279497.6371          81.6639            5.34m\n",
      "        31      278957.2192          65.0449            5.26m\n",
      "        32      277874.6586          60.2683            5.19m\n",
      "        33      277614.7082          51.8900            5.11m\n",
      "        34      277210.5716          56.7982            5.04m\n",
      "        35      276231.3042          42.0855            4.95m\n",
      "        36      275781.5571          59.1298            4.88m\n",
      "        37      274995.9618          48.1297            4.80m\n",
      "        38      274748.8152          48.0112            4.73m\n",
      "        39      274170.0852          42.9878            4.65m\n",
      "        40      273812.1754          29.3003            4.57m\n",
      "        41      273404.1324          36.5524            4.48m\n",
      "        42      273092.5402          50.8484            4.41m\n",
      "        43      272663.3228          30.7083            4.34m\n",
      "        44      271876.9210          33.3131            4.26m\n",
      "        45      271862.0274          32.1675            4.18m\n",
      "        46      271325.0567          31.6813            4.12m\n",
      "        47      271071.1077          13.5601            4.04m\n",
      "        48      270819.1608          17.3609            3.95m\n",
      "        49      270432.9724          29.8081            3.88m\n",
      "        50      270125.9746          23.3149            3.80m\n",
      "        51      269969.8184          22.3573            3.73m\n",
      "        52      269498.6322          21.5485            3.65m\n",
      "        53      269216.3911          22.4574            3.57m\n",
      "        54      268856.8289          22.7881            3.51m\n",
      "        55      268655.1396          24.2485            3.43m\n",
      "        56      268187.7629          23.4198            3.36m\n",
      "        57      267742.1190          23.8370            3.27m\n",
      "        58      267641.5765          17.2928            3.20m\n",
      "        59      267564.3544          11.5991            3.12m\n",
      "        60      267239.9099          13.8040            3.04m\n",
      "        61      267057.8873          28.9415            2.97m\n",
      "        62      266821.8888          11.3784            2.89m\n",
      "        63      266371.7030          20.6199            2.81m\n",
      "        64      266381.1039          11.6952            2.73m\n",
      "        65      265731.4027          16.5960            2.66m\n",
      "        66      265818.8915          22.9688            2.58m\n",
      "        67      265433.2450          13.0171            2.50m\n",
      "        68      265430.9898          12.0330            2.42m\n",
      "        69      264956.3947          11.8161            2.34m\n",
      "        70      264906.0805          14.6957            2.27m\n",
      "        71      264690.8264          22.5773            2.20m\n",
      "        72      264244.4397          16.0955            2.12m\n",
      "        73      264040.1205          10.8437            2.04m\n",
      "        74      263872.5118          13.6034            1.97m\n",
      "        75      263787.2141           7.9559            1.89m\n",
      "        76      263608.8990          17.9434            1.81m\n",
      "        77      263100.9977          14.4853            1.74m\n",
      "        78      263117.7226          13.1501            1.66m\n",
      "        79      263059.3078           8.1578            1.59m\n",
      "        80      262650.7565           7.9752            1.51m\n",
      "        81      262472.4280          16.3603            1.43m\n",
      "        82      262239.9743           5.8578            1.36m\n",
      "        83      261973.5748           6.6669            1.28m\n",
      "        84      261860.8916          12.5988            1.21m\n",
      "        85      261979.8051          15.2731            1.13m\n",
      "        86      261389.2656          11.1202            1.06m\n",
      "        87      261171.2805           9.1598           58.95s\n",
      "        88      261089.5418          13.2064           54.47s\n",
      "        89      260869.8682           9.5652           49.94s\n",
      "        90      260692.8078           8.8501           45.38s\n",
      "        91      260577.3297           7.4457           40.90s\n",
      "        92      260407.8820           6.7784           36.34s\n",
      "        93      260117.5857          13.9782           31.81s\n",
      "        94      259766.3082          18.2120           27.28s\n",
      "        95      259848.3925           5.8081           22.75s\n",
      "        96      259382.9877           6.6574           18.20s\n",
      "        97      259548.0434           9.9085           13.65s\n",
      "        98      259100.7635          10.5049            9.10s\n",
      "        99      259103.7677           6.3365            4.55s\n",
      "       100      258585.6872          10.6500            0.00s\n",
      "Scoring...\n",
      "0.706415709854\n"
     ]
    }
   ],
   "source": [
    "# gbc_tuned = GradientBoostingClassifier(\n",
    "# #     learning_rate=0.0983,\n",
    "#     max_depth=6,\n",
    "# #     max_features=len(list(X_train.columns.values)),\n",
    "#     subsample=0.9,\n",
    "#     verbose=3,\n",
    "#     random_state=0,\n",
    "# )\n",
    "clf['gbc_tuned'].fit(X_train, y_train)\n",
    "clf['gbc_tuned'].score(X_test, y_test)"
   ]
  },
  {
   "cell_type": "markdown",
   "metadata": {},
   "source": [
    "### Confusion Matrix"
   ]
  },
  {
   "cell_type": "code",
   "execution_count": 12,
   "metadata": {
    "ExecuteTime": {
     "end_time": "2018-05-23T12:12:24.207787Z",
     "start_time": "2018-05-23T12:12:23.587054Z"
    }
   },
   "outputs": [
    {
     "data": {
      "text/html": [
       "<div>\n",
       "<style scoped>\n",
       "    .dataframe tbody tr th:only-of-type {\n",
       "        vertical-align: middle;\n",
       "    }\n",
       "\n",
       "    .dataframe tbody tr th {\n",
       "        vertical-align: top;\n",
       "    }\n",
       "\n",
       "    .dataframe thead th {\n",
       "        text-align: right;\n",
       "    }\n",
       "</style>\n",
       "<table border=\"1\" class=\"dataframe\">\n",
       "  <thead>\n",
       "    <tr style=\"text-align: right;\">\n",
       "      <th></th>\n",
       "      <th>Arrest</th>\n",
       "      <th>Summons</th>\n",
       "      <th>Ticket</th>\n",
       "      <th>Verbal Warning</th>\n",
       "      <th>Written Warning</th>\n",
       "    </tr>\n",
       "  </thead>\n",
       "  <tbody>\n",
       "    <tr>\n",
       "      <th>Arrest</th>\n",
       "      <td>625</td>\n",
       "      <td>240</td>\n",
       "      <td>440</td>\n",
       "      <td>90</td>\n",
       "      <td>13</td>\n",
       "    </tr>\n",
       "    <tr>\n",
       "      <th>Summons</th>\n",
       "      <td>228</td>\n",
       "      <td>1088</td>\n",
       "      <td>1147</td>\n",
       "      <td>137</td>\n",
       "      <td>57</td>\n",
       "    </tr>\n",
       "    <tr>\n",
       "      <th>Ticket</th>\n",
       "      <td>418</td>\n",
       "      <td>828</td>\n",
       "      <td>37591</td>\n",
       "      <td>3516</td>\n",
       "      <td>875</td>\n",
       "    </tr>\n",
       "    <tr>\n",
       "      <th>Verbal Warning</th>\n",
       "      <td>45</td>\n",
       "      <td>95</td>\n",
       "      <td>4585</td>\n",
       "      <td>3678</td>\n",
       "      <td>340</td>\n",
       "    </tr>\n",
       "    <tr>\n",
       "      <th>Written Warning</th>\n",
       "      <td>34</td>\n",
       "      <td>57</td>\n",
       "      <td>3287</td>\n",
       "      <td>1927</td>\n",
       "      <td>1193</td>\n",
       "    </tr>\n",
       "  </tbody>\n",
       "</table>\n",
       "</div>"
      ],
      "text/plain": [
       "                 Arrest  Summons  Ticket  Verbal Warning  Written Warning\n",
       "Arrest              625      240     440              90               13\n",
       "Summons             228     1088    1147             137               57\n",
       "Ticket              418      828   37591            3516              875\n",
       "Verbal Warning       45       95    4585            3678              340\n",
       "Written Warning      34       57    3287            1927             1193"
      ]
     },
     "execution_count": 12,
     "metadata": {},
     "output_type": "execute_result"
    }
   ],
   "source": [
    "headers = ['Arrest', 'Summons', 'Ticket', 'Verbal Warning', 'Written Warning']\n",
    "cm = pd.DataFrame(data=confusion_matrix(y_test, clf['gbc_tuned'].clf.predict(X_test)), columns=headers, index=headers)\n",
    "cm"
   ]
  },
  {
   "cell_type": "code",
   "execution_count": 13,
   "metadata": {
    "ExecuteTime": {
     "end_time": "2018-05-23T12:12:24.784018Z",
     "start_time": "2018-05-23T12:12:24.209086Z"
    }
   },
   "outputs": [
    {
     "data": {
      "text/plain": [
       "(array([ 0.46296296,  0.47140381,  0.79895855,  0.39345315,  0.48143664]),\n",
       " array([ 0.44389205,  0.40948438,  0.86959841,  0.4206794 ,  0.18359495]),\n",
       " array([ 0.45322698,  0.43826788,  0.83278318,  0.40661102,  0.26581996]),\n",
       " array([ 1408,  2657, 43228,  8743,  6498]))"
      ]
     },
     "execution_count": 13,
     "metadata": {},
     "output_type": "execute_result"
    }
   ],
   "source": [
    "precision_recall_fscore_support(y_test, clf['gbc_tuned'].clf.predict(X_test), average=None)"
   ]
  },
  {
   "cell_type": "code",
   "execution_count": 14,
   "metadata": {
    "ExecuteTime": {
     "end_time": "2018-05-23T12:12:25.359731Z",
     "start_time": "2018-05-23T12:12:24.784789Z"
    }
   },
   "outputs": [
    {
     "data": {
      "text/plain": [
       "(0.7064157098538395, 0.7064157098538395, 0.7064157098538395, None)"
      ]
     },
     "execution_count": 14,
     "metadata": {},
     "output_type": "execute_result"
    }
   ],
   "source": [
    "precision_recall_fscore_support(y_test, clf['gbc_tuned'].clf.predict(X_test), average='micro')"
   ]
  },
  {
   "cell_type": "code",
   "execution_count": 15,
   "metadata": {
    "ExecuteTime": {
     "end_time": "2018-05-23T12:12:25.957867Z",
     "start_time": "2018-05-23T12:12:25.360839Z"
    }
   },
   "outputs": [
    {
     "data": {
      "text/plain": [
       "(0.52164302360565784, 0.46544983754612279, 0.47934180368828788, None)"
      ]
     },
     "execution_count": 15,
     "metadata": {},
     "output_type": "execute_result"
    }
   ],
   "source": [
    "precision_recall_fscore_support(y_test, clf['gbc_tuned'].clf.predict(X_test), average='macro')"
   ]
  },
  {
   "cell_type": "code",
   "execution_count": 16,
   "metadata": {
    "ExecuteTime": {
     "end_time": "2018-05-23T12:12:26.304391Z",
     "start_time": "2018-05-23T12:12:25.958733Z"
    }
   },
   "outputs": [
    {
     "data": {
      "image/png": "[encoded data removed]",
      "text/plain": [
       "<matplotlib.figure.Figure at 0x7f73cbc04940>"
      ]
     },
     "metadata": {},
     "output_type": "display_data"
    }
   ],
   "source": [
    "gbc_tuned_df = pd.DataFrame(data=clf['gbc_tuned'].clf.feature_importances_, index=X_train.columns.values)\n",
    "gbc_tuned_plot = gbc_tuned_df.sort_values(by=0).plot.barh(figsize=(15, 10), fontsize=14)\n",
    "gbc_tuned_plot.axes.legend().set_visible(False)"
   ]
  },
  {
   "cell_type": "code",
   "execution_count": 17,
   "metadata": {
    "ExecuteTime": {
     "end_time": "2018-05-23T12:12:26.309585Z",
     "start_time": "2018-05-23T12:12:26.305204Z"
    }
   },
   "outputs": [
    {
     "data": {
      "text/plain": [
       "sgd          0.704465\n",
       "gnb          0.685147\n",
       "dtc          0.567211\n",
       "rfc          0.681789\n",
       "gbc          0.711789\n",
       "gbc_tuned    0.706416\n",
       "dtype: float64"
      ]
     },
     "execution_count": 17,
     "metadata": {},
     "output_type": "execute_result"
    }
   ],
   "source": [
    "keys = clf.keys()\n",
    "scores = [clf[key].score_val for key in keys]\n",
    "results = pd.Series(scores, index=keys)\n",
    "results"
   ]
  },
  {
   "cell_type": "code",
   "execution_count": null,
   "metadata": {
    "collapsed": true
   },
   "outputs": [],
   "source": []
  }
 ],
 "metadata": {
  "anaconda-cloud": {},
  "hide_input": false,
  "kernelspec": {
   "display_name": "Python 3",
   "language": "python",
   "name": "python3"
  },
  "language_info": {
   "codemirror_mode": {
    "name": "ipython",
    "version": 3
   },
   "file_extension": ".py",
   "mimetype": "text/x-python",
   "name": "python",
   "nbconvert_exporter": "python",
   "pygments_lexer": "ipython3",
   "version": "3.6.1"
  },
  "toc": {
   "base_numbering": 1,
   "nav_menu": {},
   "number_sections": true,
   "sideBar": true,
   "skip_h1_title": false,
   "title_cell": "Table of Contents",
   "title_sidebar": "Contents",
   "toc_cell": false,
   "toc_position": {},
   "toc_section_display": true,
   "toc_window_display": false
  },
  "varInspector": {
   "cols": {
    "lenName": 16,
    "lenType": 16,
    "lenVar": 40
   },
   "kernels_config": {
    "python": {
     "delete_cmd_postfix": "",
     "delete_cmd_prefix": "del ",
     "library": "var_list.py",
     "varRefreshCmd": "print(var_dic_list())"
    },
    "r": {
     "delete_cmd_postfix": ") ",
     "delete_cmd_prefix": "rm(",
     "library": "var_list.r",
     "varRefreshCmd": "cat(var_dic_list()) "
    }
   },
   "types_to_exclude": [
    "module",
    "function",
    "builtin_function_or_method",
    "instance",
    "_Feature"
   ],
   "window_display": false
  }
 },
 "nbformat": 4,
 "nbformat_minor": 2
}
