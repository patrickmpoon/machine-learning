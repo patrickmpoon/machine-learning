{
 "cells": [
  {
   "cell_type": "markdown",
   "metadata": {
    "deletable": true,
    "editable": true
   },
   "source": [
    "# Stage 4\n",
    "\n",
    "- has **`location_raw`**: True\n",
    "- vars one-hot encoded: False\n",
    "- var label-encoded: True\n",
    "- oversampled: True"
   ]
  },
  {
   "cell_type": "code",
   "execution_count": 1,
   "metadata": {
    "ExecuteTime": {
     "end_time": "2018-05-18T01:47:13.361216Z",
     "start_time": "2018-05-17T21:47:12.603048-04:00"
    },
    "collapsed": false,
    "deletable": true,
    "editable": true
   },
   "outputs": [],
   "source": [
    "from datetime import datetime\n",
    "import pickle\n",
    "\n",
    "from sklearn.model_selection import RandomizedSearchCV, train_test_split\n",
    "import humanize\n",
    "import numpy as np\n",
    "import pandas as pd\n",
    "\n",
    "%matplotlib inline\n",
    "%load_ext autoreload"
   ]
  },
  {
   "cell_type": "code",
   "execution_count": 2,
   "metadata": {
    "ExecuteTime": {
     "end_time": "2018-05-18T01:47:13.510728Z",
     "start_time": "2018-05-17T21:47:13.362221-04:00"
    },
    "collapsed": false,
    "deletable": true,
    "editable": true
   },
   "outputs": [],
   "source": [
    "features = pickle.load(open('./data/stage4-l_encoded-oversampled.pkl', 'rb'))\n",
    "labels = features.pop('stop_outcome')"
   ]
  },
  {
   "cell_type": "code",
   "execution_count": 3,
   "metadata": {
    "ExecuteTime": {
     "end_time": "2018-05-18T01:47:13.518637Z",
     "start_time": "2018-05-17T21:47:13.511617-04:00"
    },
    "collapsed": false,
    "deletable": true,
    "editable": true
   },
   "outputs": [
    {
     "name": "stdout",
     "output_type": "stream",
     "text": [
      "lop_off_idx = 50452\n"
     ]
    }
   ],
   "source": [
    "# Take out 5% of data for final final testing; shuffle first\n",
    "lop_off_pct = .05\n",
    "lop_off_idx = round(features.shape[0] * lop_off_pct)\n",
    "print('lop_off_idx = {}'.format(lop_off_idx))\n",
    "\n",
    "final_test_features = features[:lop_off_idx]\n",
    "final_test_outcomes = labels[:lop_off_idx]\n",
    "\n",
    "features = features[lop_off_idx:]\n",
    "labels = labels[lop_off_idx:]"
   ]
  },
  {
   "cell_type": "code",
   "execution_count": 4,
   "metadata": {
    "ExecuteTime": {
     "end_time": "2018-05-18T01:47:13.765290Z",
     "start_time": "2018-05-17T21:47:13.519639-04:00"
    },
    "collapsed": false,
    "deletable": true,
    "editable": true
   },
   "outputs": [],
   "source": [
    "# Split the 'features' and 'labels' data into training and testing sets\n",
    "X_train, X_test, y_train, y_test = train_test_split(features,\n",
    "                                                    labels, \n",
    "                                                    test_size=0.2, \n",
    "                                                    random_state=0)\n"
   ]
  },
  {
   "cell_type": "markdown",
   "metadata": {
    "deletable": true,
    "editable": true
   },
   "source": [
    "# Simple Linear Classifier"
   ]
  },
  {
   "cell_type": "code",
   "execution_count": 5,
   "metadata": {
    "ExecuteTime": {
     "end_time": "2018-05-18T01:47:17.043989Z",
     "start_time": "2018-05-17T21:47:13.766293-04:00"
    },
    "collapsed": false,
    "deletable": true,
    "editable": true
   },
   "outputs": [
    {
     "data": {
      "text/plain": [
       "0.3378990194032965"
      ]
     },
     "execution_count": 5,
     "metadata": {},
     "output_type": "execute_result"
    }
   ],
   "source": [
    "from sklearn import linear_model\n",
    "\n",
    "clf_sgd = linear_model.SGDClassifier()\n",
    "clf_sgd.fit(X_train, y_train)\n",
    "clf_sgd.score(X_test, y_test)"
   ]
  },
  {
   "cell_type": "markdown",
   "metadata": {
    "deletable": true,
    "editable": true
   },
   "source": [
    "# VotingClassifier"
   ]
  },
  {
   "cell_type": "code",
   "execution_count": 6,
   "metadata": {
    "ExecuteTime": {
     "end_time": "2018-05-18T01:53:44.256388Z",
     "start_time": "2018-05-17T21:47:17.044992-04:00"
    },
    "collapsed": false,
    "deletable": true,
    "editable": true,
    "scrolled": true
   },
   "outputs": [
    {
     "name": "stdout",
     "output_type": "stream",
     "text": [
      "building tree 1 of 10\n",
      "building tree 2 of 10building tree 3 of 10building tree 4 of 10building tree 5 of 10building tree 6 of 10building tree 7 of 10building tree 8 of 10\n",
      "\n",
      "\n",
      "\n",
      "\n",
      "\n",
      "\n",
      "building tree 9 of 10\n",
      "building tree 10 of 10\n"
     ]
    },
    {
     "name": "stderr",
     "output_type": "stream",
     "text": [
      "[Parallel(n_jobs=8)]: Done   3 out of  10 | elapsed:    2.4s remaining:    5.8s\n",
      "[Parallel(n_jobs=8)]: Done   7 out of  10 | elapsed:    2.6s remaining:    1.1s\n",
      "[Parallel(n_jobs=8)]: Done  10 out of  10 | elapsed:    3.7s finished\n"
     ]
    },
    {
     "name": "stdout",
     "output_type": "stream",
     "text": [
      "      Iter       Train Loss   Remaining Time \n",
      "         1     1187900.7108            6.46m\n",
      "         2     1152995.9413            6.43m\n",
      "         3     1124551.9853            6.37m\n",
      "         4     1101427.0958            6.30m\n",
      "         5     1082203.7407            6.23m\n",
      "         6     1066006.8552            6.17m\n",
      "         7     1052415.2320            6.10m\n",
      "         8     1040518.8799            6.03m\n",
      "         9     1030610.1183            5.94m\n",
      "        10     1021594.6732            5.87m\n",
      "        11     1014262.3764            5.78m\n",
      "        12     1007610.3982            5.72m\n",
      "        13     1001957.0192            5.64m\n",
      "        14      996821.0877            5.57m\n",
      "        15      992076.4098            5.50m\n",
      "        16      988206.6664            5.44m\n",
      "        17      984871.8128            5.36m\n",
      "        18      981818.2121            5.28m\n",
      "        19      978691.7189            5.21m\n",
      "        20      976324.8110            5.13m\n",
      "        21      973820.5017            5.06m\n",
      "        22      971664.6463            4.98m\n",
      "        23      969389.8291            4.91m\n",
      "        24      967070.4456            4.85m\n",
      "        25      965331.6542            4.78m\n",
      "        26      963373.1583            4.72m\n",
      "        27      961603.4816            4.65m\n",
      "        28      959682.3477            4.59m\n",
      "        29      958426.6472            4.52m\n",
      "        30      957138.6322            4.45m\n",
      "        31      955518.1632            4.39m\n",
      "        32      954439.8527            4.32m\n",
      "        33      953298.4903            4.25m\n",
      "        34      952115.6528            4.18m\n",
      "        35      950690.8017            4.12m\n",
      "        36      949230.7530            4.06m\n",
      "        37      948251.3101            4.00m\n",
      "        38      946717.2938            3.93m\n",
      "        39      945777.6852            3.87m\n",
      "        40      944462.0325            3.82m\n",
      "        41      943545.2323            3.75m\n",
      "        42      942733.8976            3.69m\n",
      "        43      941946.0314            3.62m\n",
      "        44      941097.6682            3.56m\n",
      "        45      939670.6012            3.50m\n",
      "        46      938597.0414            3.44m\n",
      "        47      937823.3069            3.38m\n",
      "        48      936943.5062            3.31m\n",
      "        49      935950.4404            3.25m\n",
      "        50      935335.6155            3.18m\n",
      "        51      934784.5141            3.11m\n",
      "        52      934248.4644            3.05m\n",
      "        53      933654.7289            2.98m\n",
      "        54      932749.7076            2.92m\n",
      "        55      932156.5585            2.85m\n",
      "        56      931472.4639            2.79m\n",
      "        57      930690.1807            2.73m\n",
      "        58      930175.5952            2.67m\n",
      "        59      929661.4540            2.60m\n",
      "        60      928773.3930            2.54m\n",
      "        61      928010.7168            2.48m\n",
      "        62      927470.9895            2.41m\n",
      "        63      926899.0283            2.35m\n",
      "        64      926427.7350            2.29m\n",
      "        65      925932.1894            2.22m\n",
      "        66      925317.7695            2.16m\n",
      "        67      924808.7208            2.09m\n",
      "        68      924180.6232            2.03m\n",
      "        69      923761.0866            1.97m\n",
      "        70      923413.8076            1.90m\n",
      "        71      922934.2338            1.84m\n",
      "        72      922259.0789            1.78m\n",
      "        73      921672.9987            1.71m\n",
      "        74      921257.3322            1.65m\n",
      "        75      920813.1004            1.58m\n",
      "        76      920518.9873            1.52m\n",
      "        77      920108.2844            1.46m\n",
      "        78      919810.6660            1.39m\n",
      "        79      919181.9190            1.33m\n",
      "        80      918789.8657            1.26m\n",
      "        81      918493.9526            1.20m\n",
      "        82      918256.1423            1.13m\n",
      "        83      917789.0267            1.07m\n",
      "        84      917477.5988            1.01m\n",
      "        85      917098.7018           56.73s\n",
      "        86      916812.3944           52.89s\n",
      "        87      916489.4394           49.04s\n",
      "        88      916220.5080           45.25s\n",
      "        89      915965.2008           41.41s\n",
      "        90      915659.1706           37.60s\n",
      "        91      915397.8615           33.84s\n",
      "        92      915149.1137           30.06s\n",
      "        93      914779.3084           26.31s\n",
      "        94      914529.2451           22.53s\n",
      "        95      913821.2291           18.79s\n",
      "        96      913615.7572           15.02s\n",
      "        97      913298.2086           11.26s\n",
      "        98      912730.3596            7.51s\n",
      "        99      912433.6278            3.76s\n",
      "       100      912049.4107            0.00s\n"
     ]
    },
    {
     "name": "stderr",
     "output_type": "stream",
     "text": [
      "[Parallel(n_jobs=8)]: Done   3 out of  10 | elapsed:    0.0s remaining:    0.2s\n",
      "[Parallel(n_jobs=8)]: Done   7 out of  10 | elapsed:    0.0s remaining:    0.0s\n",
      "[Parallel(n_jobs=8)]: Done  10 out of  10 | elapsed:    0.1s finished\n"
     ]
    },
    {
     "name": "stdout",
     "output_type": "stream",
     "text": [
      "eclf score: 0.9291571041101606\n"
     ]
    },
    {
     "name": "stderr",
     "output_type": "stream",
     "text": [
      "D:\\AppData\\Local\\conda\\conda\\envs\\kaggle\\lib\\site-packages\\sklearn\\preprocessing\\label.py:171: DeprecationWarning: The truth value of an empty array is ambiguous. Returning False, but in future this will result in an error. Use `array.size > 0` to check that an array is not empty.\n",
      "  if diff:\n"
     ]
    }
   ],
   "source": [
    "from sklearn.linear_model import LogisticRegression\n",
    "from sklearn.naive_bayes import GaussianNB\n",
    "from sklearn.ensemble import RandomForestClassifier, GradientBoostingClassifier, VotingClassifier\n",
    "from sklearn.tree import DecisionTreeClassifier\n",
    "\n",
    "clf1 = RandomForestClassifier(n_jobs=8, verbose=3, random_state=0)\n",
    "clf2 = GaussianNB()\n",
    "clf3 = DecisionTreeClassifier(random_state=0)\n",
    "clf4 = GradientBoostingClassifier(verbose=3, random_state=0)\n",
    "\n",
    "eclf = VotingClassifier(estimators=[('rf', clf1), ('gnb', clf2), ('dt', clf3), ('gb', clf4)],\n",
    "                        voting='soft')\n",
    "eclf = eclf.fit(X_train, y_train)\n",
    "print('eclf score: {}'.format(eclf.score(X_test, y_test)))"
   ]
  },
  {
   "cell_type": "code",
   "execution_count": 7,
   "metadata": {
    "ExecuteTime": {
     "end_time": "2018-05-18T01:53:44.261402Z",
     "start_time": "2018-05-17T21:53:44.257391-04:00"
    },
    "collapsed": false,
    "deletable": true,
    "editable": true
   },
   "outputs": [
    {
     "data": {
      "text/plain": [
       "[RandomForestClassifier(bootstrap=True, class_weight=None, criterion='gini',\n",
       "             max_depth=None, max_features='auto', max_leaf_nodes=None,\n",
       "             min_impurity_split=1e-07, min_samples_leaf=1,\n",
       "             min_samples_split=2, min_weight_fraction_leaf=0.0,\n",
       "             n_estimators=10, n_jobs=8, oob_score=False, random_state=0,\n",
       "             verbose=3, warm_start=False),\n",
       " GaussianNB(priors=None),\n",
       " DecisionTreeClassifier(class_weight=None, criterion='gini', max_depth=None,\n",
       "             max_features=None, max_leaf_nodes=None,\n",
       "             min_impurity_split=1e-07, min_samples_leaf=1,\n",
       "             min_samples_split=2, min_weight_fraction_leaf=0.0,\n",
       "             presort=False, random_state=0, splitter='best'),\n",
       " GradientBoostingClassifier(criterion='friedman_mse', init=None,\n",
       "               learning_rate=0.1, loss='deviance', max_depth=3,\n",
       "               max_features=None, max_leaf_nodes=None,\n",
       "               min_impurity_split=1e-07, min_samples_leaf=1,\n",
       "               min_samples_split=2, min_weight_fraction_leaf=0.0,\n",
       "               n_estimators=100, presort='auto', random_state=0,\n",
       "               subsample=1.0, verbose=3, warm_start=False)]"
      ]
     },
     "execution_count": 7,
     "metadata": {},
     "output_type": "execute_result"
    }
   ],
   "source": [
    "eclf.estimators_"
   ]
  },
  {
   "cell_type": "markdown",
   "metadata": {
    "deletable": true,
    "editable": true
   },
   "source": [
    "# GaussianNB"
   ]
  },
  {
   "cell_type": "code",
   "execution_count": 8,
   "metadata": {
    "ExecuteTime": {
     "end_time": "2018-05-18T01:53:46.054169Z",
     "start_time": "2018-05-17T21:53:44.262404-04:00"
    },
    "collapsed": false,
    "deletable": true,
    "editable": true
   },
   "outputs": [
    {
     "name": "stdout",
     "output_type": "stream",
     "text": [
      "0.37561026496974753\n"
     ]
    }
   ],
   "source": [
    "gnb = GaussianNB()\n",
    "gnb.fit(X_train, y_train)\n",
    "print('{}'.format(gnb.score(X_test, y_test)))"
   ]
  },
  {
   "cell_type": "markdown",
   "metadata": {
    "deletable": true,
    "editable": true
   },
   "source": [
    "# DecisionTreeClassifier"
   ]
  },
  {
   "cell_type": "code",
   "execution_count": 9,
   "metadata": {
    "ExecuteTime": {
     "end_time": "2018-05-18T01:53:50.513059Z",
     "start_time": "2018-05-17T21:53:46.055174-04:00"
    },
    "collapsed": false,
    "deletable": true,
    "editable": true
   },
   "outputs": [
    {
     "name": "stdout",
     "output_type": "stream",
     "text": [
      "0.9171343626121428\n"
     ]
    }
   ],
   "source": [
    "dtc = DecisionTreeClassifier(random_state=0)\n",
    "dtc.fit(X_train, y_train)\n",
    "print('{}'.format(dtc.score(X_test, y_test)))"
   ]
  },
  {
   "cell_type": "markdown",
   "metadata": {
    "deletable": true,
    "editable": true
   },
   "source": [
    "# RandomForestClassifier"
   ]
  },
  {
   "cell_type": "code",
   "execution_count": 10,
   "metadata": {
    "ExecuteTime": {
     "end_time": "2018-05-18T01:54:02.679414Z",
     "start_time": "2018-05-17T21:53:50.514033-04:00"
    },
    "collapsed": false,
    "deletable": true,
    "editable": true
   },
   "outputs": [
    {
     "name": "stdout",
     "output_type": "stream",
     "text": [
      "0.9266430210723973\n"
     ]
    }
   ],
   "source": [
    "rfc = RandomForestClassifier(random_state=0)\n",
    "rfc.fit(X_train, y_train)\n",
    "print('{}'.format(rfc.score(X_test, y_test)))"
   ]
  },
  {
   "cell_type": "markdown",
   "metadata": {
    "deletable": true,
    "editable": true
   },
   "source": [
    "# GradientBoostingClassifier"
   ]
  },
  {
   "cell_type": "code",
   "execution_count": 11,
   "metadata": {
    "ExecuteTime": {
     "end_time": "2018-05-18T02:00:20.996128Z",
     "start_time": "2018-05-17T21:54:02.680390-04:00"
    },
    "collapsed": false,
    "deletable": true,
    "editable": true
   },
   "outputs": [
    {
     "name": "stdout",
     "output_type": "stream",
     "text": [
      "0.5134884206133945\n"
     ]
    }
   ],
   "source": [
    "gbc = GradientBoostingClassifier(random_state=0)\n",
    "gbc.fit(X_train, y_train)\n",
    "print('{}'.format(gbc.score(X_test, y_test)))"
   ]
  },
  {
   "cell_type": "markdown",
   "metadata": {
    "deletable": true,
    "editable": true
   },
   "source": [
    "## GradientBoostingClassifier (Tuned)\n"
   ]
  },
  {
   "cell_type": "code",
   "execution_count": 12,
   "metadata": {
    "ExecuteTime": {
     "end_time": "2018-05-18T02:18:33.604891Z",
     "start_time": "2018-05-17T22:00:20.997105-04:00"
    },
    "collapsed": false,
    "deletable": true,
    "editable": true,
    "scrolled": true
   },
   "outputs": [
    {
     "name": "stdout",
     "output_type": "stream",
     "text": [
      "      Iter       Train Loss      OOB Improve   Remaining Time \n",
      "         1     1060718.7142        5483.9738           18.87m\n",
      "         2     1023406.7530        4154.9098           18.65m\n",
      "         3      993750.0567        3279.4409           18.41m\n",
      "         4      969674.1077        2633.1252           18.14m\n",
      "         5      949954.0988        2251.2836           18.00m\n",
      "         6      933092.3104        1862.7866           17.78m\n",
      "         7      918762.2123        1547.0532           17.62m\n",
      "         8      905864.4375        1418.3274           17.46m\n",
      "         9      894845.1320        1231.1475           17.31m\n",
      "        10      885371.7876        1026.6359           17.16m\n",
      "        11      877584.1297         871.0142           17.01m\n",
      "        12      870845.0213         744.4410           16.83m\n",
      "        13      864690.8080         649.4040           16.66m\n",
      "        14      858987.1990         623.7105           16.50m\n",
      "        15      853412.0273         590.1140           16.33m\n",
      "        16      849350.9508         451.0323           16.15m\n",
      "        17      845443.7712         432.6478           16.01m\n",
      "        18      841103.4034         451.7724           15.87m\n",
      "        19      838237.9659         331.8552           15.69m\n",
      "        20      835241.0746         312.3908           15.50m\n",
      "        21      832200.4672         361.0349           15.30m\n",
      "        22      828982.0730         294.6639           15.12m\n",
      "        23      826968.3717         214.9536           14.91m\n",
      "        24      825112.2808         227.7101           14.67m\n",
      "        25      822395.4221         240.4967           14.49m\n",
      "        26      821104.2892         184.9030           14.27m\n",
      "        27      819099.3942         177.2942           14.06m\n",
      "        28      817294.5836         185.0906           13.83m\n",
      "        29      815798.5425         152.1031           13.62m\n",
      "        30      814288.9814         171.7456           13.43m\n",
      "        31      813038.9658         111.2564           13.19m\n",
      "        32      811255.8731         162.7365           13.02m\n",
      "        33      810145.8331         119.5603           12.81m\n",
      "        34      808539.4827         164.0365           12.61m\n",
      "        35      807342.4213         134.2689           12.40m\n",
      "        36      805386.9479         183.1825           12.19m\n",
      "        37      803899.3273         156.8994           11.99m\n",
      "        38      802748.4718         127.6773           11.80m\n",
      "        39      801572.9457         115.5283           11.60m\n",
      "        40      800285.7443         105.6014           11.40m\n",
      "        41      799659.9501         117.2505           11.20m\n",
      "        42      798111.5104         108.9630           11.01m\n",
      "        43      797195.2140         112.5332           10.81m\n",
      "        44      796182.2158         136.4466           10.62m\n",
      "        45      794844.5591          94.6297           10.41m\n",
      "        46      793874.4218         105.8419           10.23m\n",
      "        47      792543.2891         101.5355           10.03m\n",
      "        48      791870.0790         107.1432            9.82m\n",
      "        49      790963.8276          79.9003            9.63m\n",
      "        50      789905.3367         126.8439            9.42m\n",
      "        51      789020.6998          93.3718            9.23m\n",
      "        52      787660.5766         120.6274            9.04m\n",
      "        53      786869.2318          91.7982            8.85m\n",
      "        54      786217.7147          75.8045            8.66m\n",
      "        55      785357.0994          71.7570            8.45m\n",
      "        56      784621.4589          61.2741            8.25m\n",
      "        57      783402.0129         118.5967            8.06m\n",
      "        58      782575.6009          92.5228            7.86m\n",
      "        59      781473.4924          92.6407            7.67m\n",
      "        60      781054.4108          68.9937            7.48m\n",
      "        61      779890.8047          74.0764            7.28m\n",
      "        62      779446.1976          69.3857            7.09m\n",
      "        63      778520.8552          61.6703            6.89m\n",
      "        64      777848.0068          71.2941            6.70m\n",
      "        65      777312.6812          61.8688            6.50m\n",
      "        66      776409.3462          84.3497            6.31m\n",
      "        67      776021.7792          62.6616            6.11m\n",
      "        68      775013.2790          57.6048            5.92m\n",
      "        69      774093.7991         103.0550            5.73m\n",
      "        70      773915.7871          47.8448            5.54m\n",
      "        71      773073.6960          62.1380            5.35m\n",
      "        72      771725.3520          92.8510            5.16m\n",
      "        73      771570.4707          73.0825            4.97m\n",
      "        74      770336.7457          55.7511            4.79m\n",
      "        75      770168.8697          90.0020            4.60m\n",
      "        76      769241.2698          78.1295            4.42m\n",
      "        77      768297.4401          62.3689            4.23m\n",
      "        78      767579.5799          62.8360            4.04m\n",
      "        79      767178.6367          47.2409            3.86m\n",
      "        80      767026.1537          58.3394            3.67m\n",
      "        81      765806.0239          78.0613            3.49m\n",
      "        82      765176.8016          46.6485            3.30m\n",
      "        83      764208.0068          80.5194            3.12m\n",
      "        84      763694.8687          46.6228            2.93m\n",
      "        85      763257.4034          65.8959            2.75m\n",
      "        86      762618.9993          49.7172            2.56m\n",
      "        87      762330.3040          48.1485            2.38m\n",
      "        88      761624.4211          46.2432            2.19m\n",
      "        89      760999.3720          39.0399            2.01m\n",
      "        90      760848.1993          50.7512            1.82m\n",
      "        91      760317.9827          60.4131            1.64m\n",
      "        92      759190.9883          60.2066            1.46m\n",
      "        93      758588.9032          56.9803            1.28m\n",
      "        94      758193.3799          59.9076            1.09m\n",
      "        95      757772.5962          51.1713           54.65s\n",
      "        96      756833.3876          36.3827           43.66s\n",
      "        97      756361.2850          36.9048           32.72s\n",
      "        98      756214.2218          37.3929           21.78s\n",
      "        99      755696.6377          51.2733           10.89s\n",
      "       100      755230.3021          64.2488            0.00s\n",
      "0.5596912163571875\n"
     ]
    }
   ],
   "source": [
    "gbc_tuned = GradientBoostingClassifier(\n",
    "    learning_rate=0.0983,\n",
    "    max_depth=6,\n",
    "    max_features=len(list(X_train.columns.values)),\n",
    "    subsample=0.9,\n",
    "    verbose=3,\n",
    "    random_state=0,\n",
    ")\n",
    "gbc_tuned.fit(X_train, y_train)\n",
    "print('{}'.format(gbc_tuned.score(X_test, y_test)))"
   ]
  },
  {
   "cell_type": "markdown",
   "metadata": {
    "deletable": true,
    "editable": true
   },
   "source": [
    "# XGBoost"
   ]
  },
  {
   "cell_type": "code",
   "execution_count": 13,
   "metadata": {
    "ExecuteTime": {
     "end_time": "2018-05-18T02:18:33.623943Z",
     "start_time": "2018-05-17T22:18:33.605894-04:00"
    },
    "collapsed": true,
    "deletable": true,
    "editable": true
   },
   "outputs": [],
   "source": [
    "import xgboost as xgb\n",
    "from xgboost import XGBClassifier\n",
    "from sklearn.model_selection import GridSearchCV\n",
    "from sklearn.model_selection import StratifiedKFold\n",
    "import matplotlib\n",
    "# matplotlib.use('Agg')\n",
    "from matplotlib import pyplot\n"
   ]
  },
  {
   "cell_type": "code",
   "execution_count": 14,
   "metadata": {
    "ExecuteTime": {
     "end_time": "2018-05-18T02:18:33.629959Z",
     "start_time": "2018-05-17T22:18:33.625948-04:00"
    },
    "collapsed": true,
    "deletable": true,
    "editable": true
   },
   "outputs": [],
   "source": [
    "from sklearn.preprocessing import LabelEncoder\n",
    "from sklearn.utils import shuffle\n",
    "\n",
    "le_outcomes = LabelEncoder()\n"
   ]
  },
  {
   "cell_type": "code",
   "execution_count": 15,
   "metadata": {
    "ExecuteTime": {
     "end_time": "2018-05-18T02:18:34.653681Z",
     "start_time": "2018-05-17T22:18:33.631963-04:00"
    },
    "collapsed": false,
    "deletable": true,
    "editable": true
   },
   "outputs": [],
   "source": [
    "xg_train = xgb.DMatrix(X_train.values, label=le_outcomes.fit_transform(y_train))\n",
    "xg_test = xgb.DMatrix(X_test.values, label=le_outcomes.fit_transform(y_test))\n",
    "xg_test_2 = xgb.DMatrix(final_test_features.values, label=le_outcomes.fit_transform(final_test_outcomes))"
   ]
  },
  {
   "cell_type": "code",
   "execution_count": 16,
   "metadata": {
    "ExecuteTime": {
     "end_time": "2018-05-18T02:18:34.660700Z",
     "start_time": "2018-05-17T22:18:34.654684-04:00"
    },
    "collapsed": true,
    "deletable": true,
    "editable": true
   },
   "outputs": [],
   "source": [
    "params = {\n",
    "    'objective': 'multi:softmax',\n",
    "    'learning_rate': 0.0983,\n",
    "    'max_depth': 19,\n",
    "    'silent': 0,\n",
    "    'nthread': 8,\n",
    "#     'num_class': 45,\n",
    "#     'predictor': 'gpu_predictor',\n",
    "#     'max_bin': 512,\n",
    "    'tree_method': 'gpu_hist',\n",
    "#     'alpha': 0.8,\n",
    "#     'gamma': 10.0,\n",
    "    'subsample': 0.9,\n",
    "#     'lambda': 0.9,,\n",
    "#     'colsample_bytree': 0.9,\n",
    "#     'colsample_bylevel': 0.3,\n",
    "#     'scale_pos_weight': 0.1,\n",
    "#     'updater': 'grow_histmaker,refresh,prune',\n",
    "#     'grow_policy': 'lossguide',\n",
    "#     'max_leaves': 20000,\n",
    "#     'max_bin': 1024,\n",
    "#     'base_score': 1.0,\n",
    "#     'eval_metric': 'merror',\n",
    "#     'max_delta_step': 8,\n",
    "}\n",
    "\n",
    "params['num_class'] = len(list(X_train.columns.values))\n"
   ]
  },
  {
   "cell_type": "code",
   "execution_count": 17,
   "metadata": {
    "ExecuteTime": {
     "end_time": "2018-05-18T03:17:14.436339Z",
     "start_time": "2018-05-17T22:18:34.661702-04:00"
    },
    "collapsed": false,
    "deletable": true,
    "editable": true,
    "scrolled": false
   },
   "outputs": [
    {
     "name": "stdout",
     "output_type": "stream",
     "text": [
      "[0]\ttrain-merror:0.336579\ttest-merror:0.355054\n",
      "Multiple eval metrics have been passed: 'test-merror' will be used for early stopping.\n",
      "\n",
      "Will train until test-merror hasn't improved in 50 rounds.\n",
      "[1]\ttrain-merror:0.291634\ttest-merror:0.313833\n",
      "[2]\ttrain-merror:0.267108\ttest-merror:0.291352\n",
      "[3]\ttrain-merror:0.250459\ttest-merror:0.27621\n",
      "[4]\ttrain-merror:0.237941\ttest-merror:0.263953\n",
      "[5]\ttrain-merror:0.223942\ttest-merror:0.252321\n",
      "[6]\ttrain-merror:0.21321\ttest-merror:0.242484\n",
      "[7]\ttrain-merror:0.204757\ttest-merror:0.235802\n",
      "[8]\ttrain-merror:0.197341\ttest-merror:0.228615\n",
      "[9]\ttrain-merror:0.190732\ttest-merror:0.222861\n",
      "[10]\ttrain-merror:0.185446\ttest-merror:0.21811\n",
      "[11]\ttrain-merror:0.179793\ttest-merror:0.213259\n",
      "[12]\ttrain-merror:0.174515\ttest-merror:0.208528\n",
      "[13]\ttrain-merror:0.170312\ttest-merror:0.2046\n",
      "[14]\ttrain-merror:0.166531\ttest-merror:0.201273\n",
      "[15]\ttrain-merror:0.162942\ttest-merror:0.198242\n",
      "[16]\ttrain-merror:0.160233\ttest-merror:0.19553\n",
      "[17]\ttrain-merror:0.157525\ttest-merror:0.193324\n",
      "[18]\ttrain-merror:0.15487\ttest-merror:0.19045\n",
      "[19]\ttrain-merror:0.152199\ttest-merror:0.187982\n",
      "[20]\ttrain-merror:0.150019\ttest-merror:0.186084\n",
      "[21]\ttrain-merror:0.147429\ttest-merror:0.183643\n",
      "[22]\ttrain-merror:0.145529\ttest-merror:0.18189\n",
      "[23]\ttrain-merror:0.143536\ttest-merror:0.180013\n",
      "[24]\ttrain-merror:0.1412\ttest-merror:0.177921\n",
      "[25]\ttrain-merror:0.139334\ttest-merror:0.176226\n",
      "[26]\ttrain-merror:0.137137\ttest-merror:0.174212\n",
      "[27]\ttrain-merror:0.135633\ttest-merror:0.173065\n",
      "[28]\ttrain-merror:0.134103\ttest-merror:0.171631\n",
      "[29]\ttrain-merror:0.13259\ttest-merror:0.170332\n",
      "[30]\ttrain-merror:0.130514\ttest-merror:0.168423\n",
      "[31]\ttrain-merror:0.128488\ttest-merror:0.166785\n",
      "[32]\ttrain-merror:0.12686\ttest-merror:0.165543\n",
      "[33]\ttrain-merror:0.125195\ttest-merror:0.164161\n",
      "[34]\ttrain-merror:0.123853\ttest-merror:0.163009\n",
      "[35]\ttrain-merror:0.122573\ttest-merror:0.161929\n",
      "[36]\ttrain-merror:0.121289\ttest-merror:0.160724\n",
      "[37]\ttrain-merror:0.11994\ttest-merror:0.159404\n",
      "[38]\ttrain-merror:0.119027\ttest-merror:0.158638\n",
      "[39]\ttrain-merror:0.11796\ttest-merror:0.157881\n",
      "[40]\ttrain-merror:0.116844\ttest-merror:0.157182\n",
      "[41]\ttrain-merror:0.115941\ttest-merror:0.15617\n",
      "[42]\ttrain-merror:0.114481\ttest-merror:0.15507\n",
      "[43]\ttrain-merror:0.113318\ttest-merror:0.15422\n",
      "[44]\ttrain-merror:0.1127\ttest-merror:0.153615\n",
      "[45]\ttrain-merror:0.111633\ttest-merror:0.152551\n",
      "[46]\ttrain-merror:0.110743\ttest-merror:0.151815\n",
      "[47]\ttrain-merror:0.109273\ttest-merror:0.150621\n",
      "[48]\ttrain-merror:0.108473\ttest-merror:0.149744\n",
      "[49]\ttrain-merror:0.107493\ttest-merror:0.148759\n",
      "[50]\ttrain-merror:0.106526\ttest-merror:0.148227\n",
      "[51]\ttrain-merror:0.10513\ttest-merror:0.147116\n",
      "[52]\ttrain-merror:0.104325\ttest-merror:0.146344\n",
      "[53]\ttrain-merror:0.103373\ttest-merror:0.145426\n",
      "[54]\ttrain-merror:0.102575\ttest-merror:0.144941\n",
      "[55]\ttrain-merror:0.101829\ttest-merror:0.144169\n",
      "[56]\ttrain-merror:0.100779\ttest-merror:0.14335\n",
      "[57]\ttrain-merror:0.099853\ttest-merror:0.142557\n",
      "[58]\ttrain-merror:0.098993\ttest-merror:0.141743\n",
      "[59]\ttrain-merror:0.097715\ttest-merror:0.14069\n",
      "[60]\ttrain-merror:0.096867\ttest-merror:0.139792\n",
      "[61]\ttrain-merror:0.096013\ttest-merror:0.139146\n",
      "[62]\ttrain-merror:0.094865\ttest-merror:0.138248\n",
      "[63]\ttrain-merror:0.093873\ttest-merror:0.137628\n",
      "[64]\ttrain-merror:0.092625\ttest-merror:0.136459\n",
      "[65]\ttrain-merror:0.091085\ttest-merror:0.134884\n",
      "[66]\ttrain-merror:0.0897\ttest-merror:0.133512\n",
      "[67]\ttrain-merror:0.088759\ttest-merror:0.132699\n",
      "[68]\ttrain-merror:0.087971\ttest-merror:0.132172\n",
      "[69]\ttrain-merror:0.087095\ttest-merror:0.131452\n",
      "[70]\ttrain-merror:0.085642\ttest-merror:0.130284\n",
      "[71]\ttrain-merror:0.084564\ttest-merror:0.129168\n",
      "[72]\ttrain-merror:0.083321\ttest-merror:0.128124\n",
      "[73]\ttrain-merror:0.081704\ttest-merror:0.126596\n",
      "[74]\ttrain-merror:0.080486\ttest-merror:0.125605\n",
      "[75]\ttrain-merror:0.079334\ttest-merror:0.124541\n",
      "[76]\ttrain-merror:0.077752\ttest-merror:0.123242\n",
      "[77]\ttrain-merror:0.076264\ttest-merror:0.121766\n",
      "[78]\ttrain-merror:0.074879\ttest-merror:0.120796\n",
      "[79]\ttrain-merror:0.073485\ttest-merror:0.119424\n",
      "[80]\ttrain-merror:0.072164\ttest-merror:0.118219\n",
      "[81]\ttrain-merror:0.070955\ttest-merror:0.117244\n",
      "[82]\ttrain-merror:0.070035\ttest-merror:0.116331\n",
      "[83]\ttrain-merror:0.069039\ttest-merror:0.115413\n",
      "[84]\ttrain-merror:0.067933\ttest-merror:0.114333\n",
      "[85]\ttrain-merror:0.067003\ttest-merror:0.113457\n",
      "[86]\ttrain-merror:0.066081\ttest-merror:0.112763\n",
      "[87]\ttrain-merror:0.064767\ttest-merror:0.111637\n",
      "[88]\ttrain-merror:0.064027\ttest-merror:0.110995\n",
      "[89]\ttrain-merror:0.063126\ttest-merror:0.110239\n",
      "[90]\ttrain-merror:0.061327\ttest-merror:0.108758\n",
      "[91]\ttrain-merror:0.060054\ttest-merror:0.107761\n",
      "[92]\ttrain-merror:0.058989\ttest-merror:0.106723\n",
      "[93]\ttrain-merror:0.057562\ttest-merror:0.105216\n",
      "[94]\ttrain-merror:0.056876\ttest-merror:0.104595\n",
      "[95]\ttrain-merror:0.056086\ttest-merror:0.104027\n",
      "[96]\ttrain-merror:0.055014\ttest-merror:0.102926\n",
      "[97]\ttrain-merror:0.054405\ttest-merror:0.102259\n",
      "[98]\ttrain-merror:0.053637\ttest-merror:0.101507\n",
      "[99]\ttrain-merror:0.053036\ttest-merror:0.100897\n",
      "[100]\ttrain-merror:0.052042\ttest-merror:0.099844\n",
      "[101]\ttrain-merror:0.051106\ttest-merror:0.098899\n",
      "[102]\ttrain-merror:0.050408\ttest-merror:0.09806\n",
      "[103]\ttrain-merror:0.049766\ttest-merror:0.097507\n",
      "[104]\ttrain-merror:0.049115\ttest-merror:0.096829\n",
      "[105]\ttrain-merror:0.048708\ttest-merror:0.096391\n",
      "[106]\ttrain-merror:0.048365\ttest-merror:0.095937\n",
      "[107]\ttrain-merror:0.0479\ttest-merror:0.09553\n",
      "[108]\ttrain-merror:0.047301\ttest-merror:0.094894\n",
      "[109]\ttrain-merror:0.046718\ttest-merror:0.094513\n",
      "[110]\ttrain-merror:0.046005\ttest-merror:0.093678\n",
      "[111]\ttrain-merror:0.045522\ttest-merror:0.093224\n",
      "[112]\ttrain-merror:0.044924\ttest-merror:0.092546\n",
      "[113]\ttrain-merror:0.044406\ttest-merror:0.091999\n",
      "[114]\ttrain-merror:0.044057\ttest-merror:0.091368\n",
      "[115]\ttrain-merror:0.043506\ttest-merror:0.090883\n",
      "[116]\ttrain-merror:0.043066\ttest-merror:0.090413\n",
      "[117]\ttrain-merror:0.042734\ttest-merror:0.090142\n",
      "[118]\ttrain-merror:0.042428\ttest-merror:0.089845\n",
      "[119]\ttrain-merror:0.042125\ttest-merror:0.08949\n",
      "[120]\ttrain-merror:0.041737\ttest-merror:0.089078\n",
      "[121]\ttrain-merror:0.041286\ttest-merror:0.088666\n",
      "[122]\ttrain-merror:0.040825\ttest-merror:0.088222\n",
      "[123]\ttrain-merror:0.040465\ttest-merror:0.087706\n",
      "[124]\ttrain-merror:0.040253\ttest-merror:0.087424\n",
      "[125]\ttrain-merror:0.039881\ttest-merror:0.087033\n",
      "[126]\ttrain-merror:0.039555\ttest-merror:0.086647\n",
      "[127]\ttrain-merror:0.039314\ttest-merror:0.086366\n",
      "[128]\ttrain-merror:0.038925\ttest-merror:0.08588\n",
      "[129]\ttrain-merror:0.038481\ttest-merror:0.085427\n",
      "[130]\ttrain-merror:0.038174\ttest-merror:0.084994\n",
      "[131]\ttrain-merror:0.037942\ttest-merror:0.084842\n",
      "[132]\ttrain-merror:0.03755\ttest-merror:0.084389\n",
      "[133]\ttrain-merror:0.037157\ttest-merror:0.083997\n",
      "[134]\ttrain-merror:0.036864\ttest-merror:0.083533\n",
      "[135]\ttrain-merror:0.03659\ttest-merror:0.083325\n",
      "[136]\ttrain-merror:0.036312\ttest-merror:0.08297\n",
      "[137]\ttrain-merror:0.036117\ttest-merror:0.082829\n",
      "[138]\ttrain-merror:0.035905\ttest-merror:0.08262\n",
      "[139]\ttrain-merror:0.035688\ttest-merror:0.082302\n",
      "[140]\ttrain-merror:0.03544\ttest-merror:0.082047\n",
      "[141]\ttrain-merror:0.035244\ttest-merror:0.081729\n",
      "[142]\ttrain-merror:0.034891\ttest-merror:0.081264\n",
      "[143]\ttrain-merror:0.034523\ttest-merror:0.080847\n",
      "[144]\ttrain-merror:0.034266\ttest-merror:0.080529\n",
      "[145]\ttrain-merror:0.034062\ttest-merror:0.08032\n",
      "[146]\ttrain-merror:0.033743\ttest-merror:0.079924\n",
      "[147]\ttrain-merror:0.033524\ttest-merror:0.0797\n",
      "[148]\ttrain-merror:0.033262\ttest-merror:0.07947\n",
      "[149]\ttrain-merror:0.033104\ttest-merror:0.079261\n",
      "[150]\ttrain-merror:0.032962\ttest-merror:0.079168\n",
      "[151]\ttrain-merror:0.032816\ttest-merror:0.079074\n",
      "[152]\ttrain-merror:0.03267\ttest-merror:0.078875\n",
      "[153]\ttrain-merror:0.032546\ttest-merror:0.078562\n",
      "[154]\ttrain-merror:0.03234\ttest-merror:0.078396\n",
      "[155]\ttrain-merror:0.032109\ttest-merror:0.078083\n",
      "[156]\ttrain-merror:0.031867\ttest-merror:0.077942\n",
      "[157]\ttrain-merror:0.031691\ttest-merror:0.077733\n",
      "[158]\ttrain-merror:0.031583\ttest-merror:0.077436\n",
      "[159]\ttrain-merror:0.031351\ttest-merror:0.077238\n",
      "[160]\ttrain-merror:0.031212\ttest-merror:0.077066\n",
      "[161]\ttrain-merror:0.031006\ttest-merror:0.07681\n",
      "[162]\ttrain-merror:0.030865\ttest-merror:0.076674\n",
      "[163]\ttrain-merror:0.030734\ttest-merror:0.076659\n",
      "[164]\ttrain-merror:0.030619\ttest-merror:0.07645\n",
      "[165]\ttrain-merror:0.030425\ttest-merror:0.076262\n",
      "[166]\ttrain-merror:0.030276\ttest-merror:0.07609\n",
      "[167]\ttrain-merror:0.030133\ttest-merror:0.075939\n",
      "[168]\ttrain-merror:0.030037\ttest-merror:0.075642\n",
      "[169]\ttrain-merror:0.029846\ttest-merror:0.075376\n",
      "[170]\ttrain-merror:0.029749\ttest-merror:0.075245\n",
      "[171]\ttrain-merror:0.02962\ttest-merror:0.075078\n",
      "[172]\ttrain-merror:0.029537\ttest-merror:0.074958\n",
      "[173]\ttrain-merror:0.029427\ttest-merror:0.074864\n",
      "[174]\ttrain-merror:0.029315\ttest-merror:0.074781\n",
      "[175]\ttrain-merror:0.029221\ttest-merror:0.074724\n",
      "[176]\ttrain-merror:0.029066\ttest-merror:0.074546\n",
      "[177]\ttrain-merror:0.028984\ttest-merror:0.074421\n",
      "[178]\ttrain-merror:0.028893\ttest-merror:0.074259\n",
      "[179]\ttrain-merror:0.028701\ttest-merror:0.073967\n",
      "[180]\ttrain-merror:0.028634\ttest-merror:0.073905\n",
      "[181]\ttrain-merror:0.028504\ttest-merror:0.073743\n",
      "[182]\ttrain-merror:0.028427\ttest-merror:0.073592\n",
      "[183]\ttrain-merror:0.028312\ttest-merror:0.073404\n",
      "[184]\ttrain-merror:0.02816\ttest-merror:0.073159\n",
      "[185]\ttrain-merror:0.028068\ttest-merror:0.073018\n",
      "[186]\ttrain-merror:0.02801\ttest-merror:0.072929\n",
      "[187]\ttrain-merror:0.027892\ttest-merror:0.072762\n",
      "[188]\ttrain-merror:0.027817\ttest-merror:0.072663\n",
      "[189]\ttrain-merror:0.027749\ttest-merror:0.072517\n",
      "[190]\ttrain-merror:0.027651\ttest-merror:0.072371\n",
      "[191]\ttrain-merror:0.027611\ttest-merror:0.072288\n",
      "[192]\ttrain-merror:0.027543\ttest-merror:0.072251\n",
      "[193]\ttrain-merror:0.027479\ttest-merror:0.0721\n",
      "[194]\ttrain-merror:0.027316\ttest-merror:0.071907\n",
      "[195]\ttrain-merror:0.027255\ttest-merror:0.071803\n",
      "[196]\ttrain-merror:0.027169\ttest-merror:0.071803\n",
      "[197]\ttrain-merror:0.027103\ttest-merror:0.071756\n",
      "[198]\ttrain-merror:0.026974\ttest-merror:0.071474\n",
      "[199]\ttrain-merror:0.026937\ttest-merror:0.071427\n",
      "[200]\ttrain-merror:0.026862\ttest-merror:0.071281\n",
      "[201]\ttrain-merror:0.026757\ttest-merror:0.071177\n",
      "[202]\ttrain-merror:0.026727\ttest-merror:0.071156\n",
      "[203]\ttrain-merror:0.026651\ttest-merror:0.071104\n",
      "[204]\ttrain-merror:0.026598\ttest-merror:0.071083\n",
      "[205]\ttrain-merror:0.026521\ttest-merror:0.070916\n",
      "[206]\ttrain-merror:0.026457\ttest-merror:0.070801\n",
      "[207]\ttrain-merror:0.026414\ttest-merror:0.07077\n",
      "[208]\ttrain-merror:0.026386\ttest-merror:0.070754\n",
      "[209]\ttrain-merror:0.026324\ttest-merror:0.070598\n",
      "[210]\ttrain-merror:0.026244\ttest-merror:0.070556\n",
      "[211]\ttrain-merror:0.026185\ttest-merror:0.070488\n",
      "[212]\ttrain-merror:0.026124\ttest-merror:0.070353\n",
      "[213]\ttrain-merror:0.026063\ttest-merror:0.070368\n",
      "[214]\ttrain-merror:0.026019\ttest-merror:0.070238\n",
      "[215]\ttrain-merror:0.025986\ttest-merror:0.070201\n",
      "[216]\ttrain-merror:0.025969\ttest-merror:0.070191\n",
      "[217]\ttrain-merror:0.025887\ttest-merror:0.07004\n",
      "[218]\ttrain-merror:0.025858\ttest-merror:0.070055\n",
      "[219]\ttrain-merror:0.025792\ttest-merror:0.069883\n",
      "[220]\ttrain-merror:0.025719\ttest-merror:0.0698\n",
      "[221]\ttrain-merror:0.025648\ttest-merror:0.069617\n",
      "[222]\ttrain-merror:0.02558\ttest-merror:0.069461\n",
      "[223]\ttrain-merror:0.025507\ttest-merror:0.069362\n",
      "[224]\ttrain-merror:0.025477\ttest-merror:0.069362\n",
      "[225]\ttrain-merror:0.025404\ttest-merror:0.069195\n",
      "[226]\ttrain-merror:0.025346\ttest-merror:0.069122\n",
      "[227]\ttrain-merror:0.0253\ttest-merror:0.069101\n",
      "[228]\ttrain-merror:0.025245\ttest-merror:0.068981\n",
      "[229]\ttrain-merror:0.025162\ttest-merror:0.06884\n",
      "[230]\ttrain-merror:0.025093\ttest-merror:0.068746\n",
      "[231]\ttrain-merror:0.025031\ttest-merror:0.068751\n",
      "[232]\ttrain-merror:0.024988\ttest-merror:0.068569\n",
      "[233]\ttrain-merror:0.024962\ttest-merror:0.068579\n",
      "[234]\ttrain-merror:0.024938\ttest-merror:0.068584\n",
      "[235]\ttrain-merror:0.024872\ttest-merror:0.068532\n",
      "[236]\ttrain-merror:0.024824\ttest-merror:0.068454\n",
      "[237]\ttrain-merror:0.024776\ttest-merror:0.068376\n",
      "[238]\ttrain-merror:0.024755\ttest-merror:0.068298\n",
      "[239]\ttrain-merror:0.024695\ttest-merror:0.068245\n",
      "[240]\ttrain-merror:0.024679\ttest-merror:0.068167\n",
      "[241]\ttrain-merror:0.024651\ttest-merror:0.068151\n",
      "[242]\ttrain-merror:0.024627\ttest-merror:0.068026\n",
      "[243]\ttrain-merror:0.024563\ttest-merror:0.068021\n",
      "[244]\ttrain-merror:0.024523\ttest-merror:0.067974\n",
      "[245]\ttrain-merror:0.024484\ttest-merror:0.067891\n",
      "[246]\ttrain-merror:0.024439\ttest-merror:0.067865\n",
      "[247]\ttrain-merror:0.024403\ttest-merror:0.067823\n",
      "[248]\ttrain-merror:0.024369\ttest-merror:0.067823\n",
      "[249]\ttrain-merror:0.024334\ttest-merror:0.067771\n",
      "[250]\ttrain-merror:0.024284\ttest-merror:0.067719\n",
      "[251]\ttrain-merror:0.024252\ttest-merror:0.067567\n",
      "[252]\ttrain-merror:0.024211\ttest-merror:0.067562\n",
      "[253]\ttrain-merror:0.024172\ttest-merror:0.067619\n",
      "[254]\ttrain-merror:0.024138\ttest-merror:0.067505\n",
      "[255]\ttrain-merror:0.024102\ttest-merror:0.067562\n",
      "[256]\ttrain-merror:0.024066\ttest-merror:0.067536\n",
      "[257]\ttrain-merror:0.024022\ttest-merror:0.067484\n",
      "[258]\ttrain-merror:0.023995\ttest-merror:0.067327\n",
      "[259]\ttrain-merror:0.023936\ttest-merror:0.067286\n",
      "[260]\ttrain-merror:0.023917\ttest-merror:0.06726\n",
      "[261]\ttrain-merror:0.023875\ttest-merror:0.067254\n",
      "[262]\ttrain-merror:0.023853\ttest-merror:0.067192\n",
      "[263]\ttrain-merror:0.023815\ttest-merror:0.06714\n",
      "[264]\ttrain-merror:0.023793\ttest-merror:0.067093\n",
      "[265]\ttrain-merror:0.02376\ttest-merror:0.067009\n",
      "[266]\ttrain-merror:0.023743\ttest-merror:0.066941\n",
      "[267]\ttrain-merror:0.023708\ttest-merror:0.066889\n",
      "[268]\ttrain-merror:0.023678\ttest-merror:0.066837\n",
      "[269]\ttrain-merror:0.023654\ttest-merror:0.066717\n",
      "[270]\ttrain-merror:0.0236\ttest-merror:0.066675\n",
      "[271]\ttrain-merror:0.023594\ttest-merror:0.066707\n",
      "[272]\ttrain-merror:0.023564\ttest-merror:0.066691\n",
      "[273]\ttrain-merror:0.023553\ttest-merror:0.066581\n",
      "[274]\ttrain-merror:0.023516\ttest-merror:0.066498\n",
      "[275]\ttrain-merror:0.023502\ttest-merror:0.066415\n",
      "[276]\ttrain-merror:0.023484\ttest-merror:0.066394\n",
      "[277]\ttrain-merror:0.023469\ttest-merror:0.066373\n",
      "[278]\ttrain-merror:0.023448\ttest-merror:0.066404\n",
      "[279]\ttrain-merror:0.02342\ttest-merror:0.066352\n",
      "[280]\ttrain-merror:0.023405\ttest-merror:0.066342\n",
      "[281]\ttrain-merror:0.023383\ttest-merror:0.066279\n",
      "[282]\ttrain-merror:0.02337\ttest-merror:0.066284\n",
      "[283]\ttrain-merror:0.023345\ttest-merror:0.066237\n",
      "[284]\ttrain-merror:0.023335\ttest-merror:0.066117\n",
      "[285]\ttrain-merror:0.023306\ttest-merror:0.066008\n",
      "[286]\ttrain-merror:0.023285\ttest-merror:0.066044\n",
      "[287]\ttrain-merror:0.023251\ttest-merror:0.066018\n",
      "[288]\ttrain-merror:0.023224\ttest-merror:0.065961\n",
      "[289]\ttrain-merror:0.023212\ttest-merror:0.065909\n",
      "[290]\ttrain-merror:0.023194\ttest-merror:0.065856\n",
      "[291]\ttrain-merror:0.023169\ttest-merror:0.065856\n",
      "[292]\ttrain-merror:0.023148\ttest-merror:0.065783\n",
      "[293]\ttrain-merror:0.023128\ttest-merror:0.065653\n",
      "[294]\ttrain-merror:0.02312\ttest-merror:0.065643\n",
      "[295]\ttrain-merror:0.023086\ttest-merror:0.065627\n",
      "[296]\ttrain-merror:0.023068\ttest-merror:0.065507\n",
      "[297]\ttrain-merror:0.023058\ttest-merror:0.065544\n",
      "[298]\ttrain-merror:0.023048\ttest-merror:0.065481\n",
      "[299]\ttrain-merror:0.023032\ttest-merror:0.065314\n",
      "[300]\ttrain-merror:0.023009\ttest-merror:0.065371\n",
      "[301]\ttrain-merror:0.022996\ttest-merror:0.06533\n",
      "[302]\ttrain-merror:0.022966\ttest-merror:0.065298\n",
      "[303]\ttrain-merror:0.02294\ttest-merror:0.065272\n",
      "[304]\ttrain-merror:0.022925\ttest-merror:0.065137\n",
      "[305]\ttrain-merror:0.022899\ttest-merror:0.06509\n",
      "[306]\ttrain-merror:0.022881\ttest-merror:0.065048\n",
      "[307]\ttrain-merror:0.02285\ttest-merror:0.064975\n",
      "[308]\ttrain-merror:0.022833\ttest-merror:0.065017\n",
      "[309]\ttrain-merror:0.022824\ttest-merror:0.065001\n",
      "[310]\ttrain-merror:0.022816\ttest-merror:0.064928\n",
      "[311]\ttrain-merror:0.022789\ttest-merror:0.064902\n",
      "[312]\ttrain-merror:0.022783\ttest-merror:0.06486\n",
      "[313]\ttrain-merror:0.022772\ttest-merror:0.064886\n",
      "[314]\ttrain-merror:0.022757\ttest-merror:0.064865\n",
      "[315]\ttrain-merror:0.022731\ttest-merror:0.064803\n",
      "[316]\ttrain-merror:0.022729\ttest-merror:0.064756\n",
      "[317]\ttrain-merror:0.022705\ttest-merror:0.064719\n",
      "[318]\ttrain-merror:0.022695\ttest-merror:0.064699\n",
      "[319]\ttrain-merror:0.022682\ttest-merror:0.064662\n",
      "[320]\ttrain-merror:0.022663\ttest-merror:0.064657\n",
      "[321]\ttrain-merror:0.022648\ttest-merror:0.064599\n",
      "[322]\ttrain-merror:0.022636\ttest-merror:0.064683\n",
      "[323]\ttrain-merror:0.022627\ttest-merror:0.064605\n",
      "[324]\ttrain-merror:0.022624\ttest-merror:0.06461\n",
      "[325]\ttrain-merror:0.022602\ttest-merror:0.064532\n",
      "[326]\ttrain-merror:0.022586\ttest-merror:0.064532\n",
      "[327]\ttrain-merror:0.022584\ttest-merror:0.064485\n",
      "[328]\ttrain-merror:0.022554\ttest-merror:0.064406\n",
      "[329]\ttrain-merror:0.022539\ttest-merror:0.064406\n",
      "[330]\ttrain-merror:0.022532\ttest-merror:0.064333\n",
      "[331]\ttrain-merror:0.022516\ttest-merror:0.064438\n",
      "[332]\ttrain-merror:0.022495\ttest-merror:0.064349\n",
      "[333]\ttrain-merror:0.02249\ttest-merror:0.064406\n",
      "[334]\ttrain-merror:0.022482\ttest-merror:0.06438\n",
      "[335]\ttrain-merror:0.022472\ttest-merror:0.064412\n",
      "[336]\ttrain-merror:0.022457\ttest-merror:0.064412\n",
      "[337]\ttrain-merror:0.022452\ttest-merror:0.064453\n",
      "[338]\ttrain-merror:0.022436\ttest-merror:0.064422\n",
      "[339]\ttrain-merror:0.022421\ttest-merror:0.064333\n",
      "[340]\ttrain-merror:0.022406\ttest-merror:0.06426\n",
      "[341]\ttrain-merror:0.0224\ttest-merror:0.064229\n",
      "[342]\ttrain-merror:0.02238\ttest-merror:0.06426\n",
      "[343]\ttrain-merror:0.022367\ttest-merror:0.064166\n",
      "[344]\ttrain-merror:0.02236\ttest-merror:0.064156\n",
      "[345]\ttrain-merror:0.022353\ttest-merror:0.064078\n",
      "[346]\ttrain-merror:0.022345\ttest-merror:0.064088\n",
      "[347]\ttrain-merror:0.022348\ttest-merror:0.06412\n",
      "[348]\ttrain-merror:0.022336\ttest-merror:0.064161\n",
      "[349]\ttrain-merror:0.022327\ttest-merror:0.064151\n",
      "[350]\ttrain-merror:0.022322\ttest-merror:0.064083\n",
      "[351]\ttrain-merror:0.022307\ttest-merror:0.064114\n",
      "[352]\ttrain-merror:0.022296\ttest-merror:0.064088\n",
      "[353]\ttrain-merror:0.022288\ttest-merror:0.064135\n",
      "[354]\ttrain-merror:0.022281\ttest-merror:0.064125\n",
      "[355]\ttrain-merror:0.022257\ttest-merror:0.063979\n",
      "[356]\ttrain-merror:0.022254\ttest-merror:0.064052\n",
      "[357]\ttrain-merror:0.022245\ttest-merror:0.063937\n",
      "[358]\ttrain-merror:0.022233\ttest-merror:0.064062\n",
      "[359]\ttrain-merror:0.022217\ttest-merror:0.06388\n",
      "[360]\ttrain-merror:0.022216\ttest-merror:0.063864\n",
      "[361]\ttrain-merror:0.02221\ttest-merror:0.063906\n",
      "[362]\ttrain-merror:0.022198\ttest-merror:0.063885\n",
      "[363]\ttrain-merror:0.022185\ttest-merror:0.063817\n",
      "[364]\ttrain-merror:0.02218\ttest-merror:0.063848\n",
      "[365]\ttrain-merror:0.022169\ttest-merror:0.063822\n",
      "[366]\ttrain-merror:0.022161\ttest-merror:0.063827\n",
      "[367]\ttrain-merror:0.022156\ttest-merror:0.063807\n",
      "[368]\ttrain-merror:0.022154\ttest-merror:0.063781\n",
      "[369]\ttrain-merror:0.022146\ttest-merror:0.063749\n",
      "[370]\ttrain-merror:0.022139\ttest-merror:0.063754\n",
      "[371]\ttrain-merror:0.022134\ttest-merror:0.06376\n",
      "[372]\ttrain-merror:0.02213\ttest-merror:0.063713\n",
      "[373]\ttrain-merror:0.022126\ttest-merror:0.063697\n",
      "[374]\ttrain-merror:0.022124\ttest-merror:0.063697\n",
      "[375]\ttrain-merror:0.022118\ttest-merror:0.063697\n",
      "[376]\ttrain-merror:0.022107\ttest-merror:0.063546\n",
      "[377]\ttrain-merror:0.0221\ttest-merror:0.063608\n",
      "[378]\ttrain-merror:0.022096\ttest-merror:0.063629\n",
      "[379]\ttrain-merror:0.022084\ttest-merror:0.063478\n",
      "[380]\ttrain-merror:0.022083\ttest-merror:0.063509\n",
      "[381]\ttrain-merror:0.022082\ttest-merror:0.063582\n",
      "[382]\ttrain-merror:0.022077\ttest-merror:0.063572\n",
      "[383]\ttrain-merror:0.022066\ttest-merror:0.063483\n",
      "[384]\ttrain-merror:0.022065\ttest-merror:0.063483\n",
      "[385]\ttrain-merror:0.022058\ttest-merror:0.063452\n",
      "[386]\ttrain-merror:0.022048\ttest-merror:0.063452\n",
      "[387]\ttrain-merror:0.022039\ttest-merror:0.063447\n",
      "[388]\ttrain-merror:0.022037\ttest-merror:0.063441\n",
      "[389]\ttrain-merror:0.022026\ttest-merror:0.063436\n",
      "[390]\ttrain-merror:0.022023\ttest-merror:0.063363\n",
      "[391]\ttrain-merror:0.022015\ttest-merror:0.063353\n",
      "[392]\ttrain-merror:0.022011\ttest-merror:0.063348\n",
      "[393]\ttrain-merror:0.022002\ttest-merror:0.063327\n",
      "[394]\ttrain-merror:0.021997\ttest-merror:0.063306\n",
      "[395]\ttrain-merror:0.021987\ttest-merror:0.063301\n",
      "[396]\ttrain-merror:0.02198\ttest-merror:0.063243\n",
      "[397]\ttrain-merror:0.021974\ttest-merror:0.063175\n",
      "[398]\ttrain-merror:0.021971\ttest-merror:0.063181\n",
      "[399]\ttrain-merror:0.021968\ttest-merror:0.063238\n",
      "[400]\ttrain-merror:0.021967\ttest-merror:0.063269\n",
      "[401]\ttrain-merror:0.021959\ttest-merror:0.063228\n",
      "[402]\ttrain-merror:0.021954\ttest-merror:0.063285\n",
      "[403]\ttrain-merror:0.021955\ttest-merror:0.063269\n",
      "[404]\ttrain-merror:0.021953\ttest-merror:0.063254\n",
      "[405]\ttrain-merror:0.021949\ttest-merror:0.063306\n",
      "[406]\ttrain-merror:0.02195\ttest-merror:0.063275\n",
      "[407]\ttrain-merror:0.021949\ttest-merror:0.063259\n",
      "[408]\ttrain-merror:0.021946\ttest-merror:0.063275\n",
      "[409]\ttrain-merror:0.021942\ttest-merror:0.06328\n",
      "[410]\ttrain-merror:0.021938\ttest-merror:0.063259\n",
      "[411]\ttrain-merror:0.021933\ttest-merror:0.063358\n",
      "[412]\ttrain-merror:0.021924\ttest-merror:0.063191\n",
      "[413]\ttrain-merror:0.021919\ttest-merror:0.063275\n",
      "[414]\ttrain-merror:0.021923\ttest-merror:0.063311\n",
      "[415]\ttrain-merror:0.021921\ttest-merror:0.063259\n",
      "[416]\ttrain-merror:0.02192\ttest-merror:0.063264\n",
      "[417]\ttrain-merror:0.021911\ttest-merror:0.063212\n",
      "[418]\ttrain-merror:0.021907\ttest-merror:0.063191\n",
      "[419]\ttrain-merror:0.021906\ttest-merror:0.063123\n",
      "[420]\ttrain-merror:0.021901\ttest-merror:0.063149\n",
      "[421]\ttrain-merror:0.021899\ttest-merror:0.063165\n",
      "[422]\ttrain-merror:0.021893\ttest-merror:0.063102\n",
      "[423]\ttrain-merror:0.021897\ttest-merror:0.063118\n",
      "[424]\ttrain-merror:0.021894\ttest-merror:0.063118\n",
      "[425]\ttrain-merror:0.021891\ttest-merror:0.06304\n",
      "[426]\ttrain-merror:0.021882\ttest-merror:0.063066\n",
      "[427]\ttrain-merror:0.021878\ttest-merror:0.063024\n",
      "[428]\ttrain-merror:0.021874\ttest-merror:0.063024\n",
      "[429]\ttrain-merror:0.021877\ttest-merror:0.063076\n",
      "[430]\ttrain-merror:0.021873\ttest-merror:0.063071\n",
      "[431]\ttrain-merror:0.021871\ttest-merror:0.063066\n",
      "[432]\ttrain-merror:0.021863\ttest-merror:0.06305\n",
      "[433]\ttrain-merror:0.021859\ttest-merror:0.063108\n",
      "[434]\ttrain-merror:0.021854\ttest-merror:0.063092\n",
      "[435]\ttrain-merror:0.021847\ttest-merror:0.062967\n",
      "[436]\ttrain-merror:0.021847\ttest-merror:0.062972\n",
      "[437]\ttrain-merror:0.021846\ttest-merror:0.062993\n",
      "[438]\ttrain-merror:0.021843\ttest-merror:0.063035\n",
      "[439]\ttrain-merror:0.021839\ttest-merror:0.062967\n",
      "[440]\ttrain-merror:0.021837\ttest-merror:0.063082\n",
      "[441]\ttrain-merror:0.021835\ttest-merror:0.063071\n",
      "[442]\ttrain-merror:0.021835\ttest-merror:0.062998\n",
      "[443]\ttrain-merror:0.02183\ttest-merror:0.062941\n",
      "[444]\ttrain-merror:0.021822\ttest-merror:0.06293\n",
      "[445]\ttrain-merror:0.021818\ttest-merror:0.06292\n",
      "[446]\ttrain-merror:0.021817\ttest-merror:0.062946\n",
      "[447]\ttrain-merror:0.021812\ttest-merror:0.062993\n",
      "[448]\ttrain-merror:0.021807\ttest-merror:0.062993\n",
      "[449]\ttrain-merror:0.021804\ttest-merror:0.062863\n",
      "[450]\ttrain-merror:0.021807\ttest-merror:0.062946\n",
      "[451]\ttrain-merror:0.021804\ttest-merror:0.062941\n",
      "[452]\ttrain-merror:0.021803\ttest-merror:0.062878\n",
      "[453]\ttrain-merror:0.021798\ttest-merror:0.062842\n",
      "[454]\ttrain-merror:0.021798\ttest-merror:0.062774\n",
      "[455]\ttrain-merror:0.021792\ttest-merror:0.062753\n",
      "[456]\ttrain-merror:0.021791\ttest-merror:0.062779\n",
      "[457]\ttrain-merror:0.021784\ttest-merror:0.062748\n",
      "[458]\ttrain-merror:0.021782\ttest-merror:0.062633\n",
      "[459]\ttrain-merror:0.021781\ttest-merror:0.062638\n",
      "[460]\ttrain-merror:0.021779\ttest-merror:0.062722\n",
      "[461]\ttrain-merror:0.021779\ttest-merror:0.062649\n",
      "[462]\ttrain-merror:0.021775\ttest-merror:0.062617\n",
      "[463]\ttrain-merror:0.021774\ttest-merror:0.062654\n",
      "[464]\ttrain-merror:0.021777\ttest-merror:0.062623\n",
      "[465]\ttrain-merror:0.021775\ttest-merror:0.062654\n",
      "[466]\ttrain-merror:0.021774\ttest-merror:0.062711\n",
      "[467]\ttrain-merror:0.021771\ttest-merror:0.062685\n",
      "[468]\ttrain-merror:0.021771\ttest-merror:0.062716\n",
      "[469]\ttrain-merror:0.021773\ttest-merror:0.062711\n",
      "[470]\ttrain-merror:0.021769\ttest-merror:0.062706\n",
      "[471]\ttrain-merror:0.021766\ttest-merror:0.062805\n",
      "[472]\ttrain-merror:0.021765\ttest-merror:0.0628\n",
      "[473]\ttrain-merror:0.021756\ttest-merror:0.062831\n",
      "[474]\ttrain-merror:0.021751\ttest-merror:0.062774\n",
      "[475]\ttrain-merror:0.021749\ttest-merror:0.062805\n",
      "[476]\ttrain-merror:0.021751\ttest-merror:0.062675\n",
      "[477]\ttrain-merror:0.021749\ttest-merror:0.06267\n",
      "[478]\ttrain-merror:0.021749\ttest-merror:0.062696\n",
      "[479]\ttrain-merror:0.021745\ttest-merror:0.062649\n",
      "[480]\ttrain-merror:0.021745\ttest-merror:0.062633\n",
      "[481]\ttrain-merror:0.021747\ttest-merror:0.062633\n",
      "[482]\ttrain-merror:0.021745\ttest-merror:0.06267\n",
      "[483]\ttrain-merror:0.021745\ttest-merror:0.062607\n",
      "[484]\ttrain-merror:0.021745\ttest-merror:0.062529\n",
      "[485]\ttrain-merror:0.021743\ttest-merror:0.06257\n",
      "[486]\ttrain-merror:0.021743\ttest-merror:0.062534\n",
      "[487]\ttrain-merror:0.021739\ttest-merror:0.062565\n",
      "[488]\ttrain-merror:0.021738\ttest-merror:0.062487\n",
      "[489]\ttrain-merror:0.021739\ttest-merror:0.062466\n",
      "[490]\ttrain-merror:0.021736\ttest-merror:0.062477\n",
      "[491]\ttrain-merror:0.021738\ttest-merror:0.062409\n",
      "[492]\ttrain-merror:0.021735\ttest-merror:0.062351\n",
      "[493]\ttrain-merror:0.021735\ttest-merror:0.062471\n",
      "[494]\ttrain-merror:0.021732\ttest-merror:0.062482\n",
      "[495]\ttrain-merror:0.021732\ttest-merror:0.062487\n",
      "[496]\ttrain-merror:0.021727\ttest-merror:0.062435\n",
      "[497]\ttrain-merror:0.021728\ttest-merror:0.062529\n",
      "[498]\ttrain-merror:0.021728\ttest-merror:0.062534\n",
      "[499]\ttrain-merror:0.021727\ttest-merror:0.062497\n",
      "[500]\ttrain-merror:0.021727\ttest-merror:0.062534\n",
      "[501]\ttrain-merror:0.021727\ttest-merror:0.062398\n",
      "[502]\ttrain-merror:0.021727\ttest-merror:0.062404\n",
      "[503]\ttrain-merror:0.021723\ttest-merror:0.062466\n",
      "[504]\ttrain-merror:0.021722\ttest-merror:0.062513\n",
      "[505]\ttrain-merror:0.021717\ttest-merror:0.062482\n",
      "[506]\ttrain-merror:0.021718\ttest-merror:0.062503\n",
      "[507]\ttrain-merror:0.021717\ttest-merror:0.062492\n",
      "[508]\ttrain-merror:0.021713\ttest-merror:0.062513\n",
      "[509]\ttrain-merror:0.02171\ttest-merror:0.062617\n",
      "[510]\ttrain-merror:0.02171\ttest-merror:0.062544\n",
      "[511]\ttrain-merror:0.021711\ttest-merror:0.062529\n",
      "[512]\ttrain-merror:0.021709\ttest-merror:0.062482\n",
      "[513]\ttrain-merror:0.02171\ttest-merror:0.062393\n",
      "[514]\ttrain-merror:0.021708\ttest-merror:0.062414\n",
      "[515]\ttrain-merror:0.021706\ttest-merror:0.062414\n",
      "[516]\ttrain-merror:0.021705\ttest-merror:0.062325\n",
      "[517]\ttrain-merror:0.021704\ttest-merror:0.062398\n",
      "[518]\ttrain-merror:0.0217\ttest-merror:0.062414\n",
      "[519]\ttrain-merror:0.0217\ttest-merror:0.062351\n",
      "[520]\ttrain-merror:0.021701\ttest-merror:0.062388\n",
      "[521]\ttrain-merror:0.021701\ttest-merror:0.062419\n",
      "[522]\ttrain-merror:0.021697\ttest-merror:0.062388\n",
      "[523]\ttrain-merror:0.021698\ttest-merror:0.062341\n",
      "[524]\ttrain-merror:0.0217\ttest-merror:0.062304\n",
      "[525]\ttrain-merror:0.021697\ttest-merror:0.062325\n",
      "[526]\ttrain-merror:0.021696\ttest-merror:0.062357\n",
      "[527]\ttrain-merror:0.021695\ttest-merror:0.062372\n",
      "[528]\ttrain-merror:0.021693\ttest-merror:0.062289\n",
      "[529]\ttrain-merror:0.021695\ttest-merror:0.062357\n",
      "[530]\ttrain-merror:0.021695\ttest-merror:0.062346\n",
      "[531]\ttrain-merror:0.021695\ttest-merror:0.062304\n",
      "[532]\ttrain-merror:0.021695\ttest-merror:0.062231\n",
      "[533]\ttrain-merror:0.021695\ttest-merror:0.062226\n",
      "[534]\ttrain-merror:0.021695\ttest-merror:0.062231\n",
      "[535]\ttrain-merror:0.021693\ttest-merror:0.062226\n",
      "[536]\ttrain-merror:0.021693\ttest-merror:0.062242\n",
      "[537]\ttrain-merror:0.021692\ttest-merror:0.062284\n",
      "[538]\ttrain-merror:0.021692\ttest-merror:0.062263\n",
      "[539]\ttrain-merror:0.021692\ttest-merror:0.06231\n",
      "[540]\ttrain-merror:0.021692\ttest-merror:0.06232\n",
      "[541]\ttrain-merror:0.021693\ttest-merror:0.06233\n",
      "[542]\ttrain-merror:0.021689\ttest-merror:0.062362\n",
      "[543]\ttrain-merror:0.021688\ttest-merror:0.062357\n",
      "[544]\ttrain-merror:0.021687\ttest-merror:0.062273\n",
      "[545]\ttrain-merror:0.021687\ttest-merror:0.062268\n",
      "[546]\ttrain-merror:0.021687\ttest-merror:0.062231\n",
      "[547]\ttrain-merror:0.021685\ttest-merror:0.062268\n",
      "[548]\ttrain-merror:0.021685\ttest-merror:0.062357\n",
      "[549]\ttrain-merror:0.021685\ttest-merror:0.0622\n",
      "[550]\ttrain-merror:0.021687\ttest-merror:0.062195\n",
      "[551]\ttrain-merror:0.021687\ttest-merror:0.062284\n",
      "[552]\ttrain-merror:0.021687\ttest-merror:0.062247\n",
      "[553]\ttrain-merror:0.021687\ttest-merror:0.062184\n",
      "[554]\ttrain-merror:0.021687\ttest-merror:0.062226\n",
      "[555]\ttrain-merror:0.021687\ttest-merror:0.062273\n",
      "[556]\ttrain-merror:0.021687\ttest-merror:0.062184\n",
      "[557]\ttrain-merror:0.021685\ttest-merror:0.062257\n",
      "[558]\ttrain-merror:0.021685\ttest-merror:0.06233\n",
      "[559]\ttrain-merror:0.021687\ttest-merror:0.062289\n",
      "[560]\ttrain-merror:0.021685\ttest-merror:0.062247\n",
      "[561]\ttrain-merror:0.021685\ttest-merror:0.062315\n",
      "[562]\ttrain-merror:0.021685\ttest-merror:0.062289\n",
      "[563]\ttrain-merror:0.021685\ttest-merror:0.062294\n",
      "[564]\ttrain-merror:0.021684\ttest-merror:0.062263\n",
      "[565]\ttrain-merror:0.021683\ttest-merror:0.062263\n",
      "[566]\ttrain-merror:0.021683\ttest-merror:0.062304\n",
      "[567]\ttrain-merror:0.02168\ttest-merror:0.062304\n",
      "[568]\ttrain-merror:0.021679\ttest-merror:0.062289\n",
      "[569]\ttrain-merror:0.02168\ttest-merror:0.062242\n",
      "[570]\ttrain-merror:0.02168\ttest-merror:0.06233\n",
      "[571]\ttrain-merror:0.021679\ttest-merror:0.062263\n",
      "[572]\ttrain-merror:0.021679\ttest-merror:0.062106\n",
      "[573]\ttrain-merror:0.021679\ttest-merror:0.062132\n",
      "[574]\ttrain-merror:0.021679\ttest-merror:0.062143\n",
      "[575]\ttrain-merror:0.021679\ttest-merror:0.062184\n",
      "[576]\ttrain-merror:0.021679\ttest-merror:0.062117\n",
      "[577]\ttrain-merror:0.021679\ttest-merror:0.06207\n",
      "[578]\ttrain-merror:0.021676\ttest-merror:0.062117\n",
      "[579]\ttrain-merror:0.021676\ttest-merror:0.062101\n",
      "[580]\ttrain-merror:0.021678\ttest-merror:0.062075\n",
      "[581]\ttrain-merror:0.021678\ttest-merror:0.062091\n",
      "[582]\ttrain-merror:0.021679\ttest-merror:0.062012\n",
      "[583]\ttrain-merror:0.021676\ttest-merror:0.062044\n",
      "[584]\ttrain-merror:0.021676\ttest-merror:0.06208\n",
      "[585]\ttrain-merror:0.021676\ttest-merror:0.062096\n",
      "[586]\ttrain-merror:0.021676\ttest-merror:0.062059\n",
      "[587]\ttrain-merror:0.021676\ttest-merror:0.06208\n",
      "[588]\ttrain-merror:0.021675\ttest-merror:0.061918\n",
      "[589]\ttrain-merror:0.021675\ttest-merror:0.06207\n",
      "[590]\ttrain-merror:0.021675\ttest-merror:0.06208\n",
      "[591]\ttrain-merror:0.021675\ttest-merror:0.06207\n",
      "[592]\ttrain-merror:0.021675\ttest-merror:0.061971\n",
      "[593]\ttrain-merror:0.021674\ttest-merror:0.061965\n",
      "[594]\ttrain-merror:0.021675\ttest-merror:0.06196\n",
      "[595]\ttrain-merror:0.021675\ttest-merror:0.062028\n",
      "[596]\ttrain-merror:0.021674\ttest-merror:0.062012\n",
      "[597]\ttrain-merror:0.021674\ttest-merror:0.062002\n",
      "[598]\ttrain-merror:0.021672\ttest-merror:0.062023\n",
      "[599]\ttrain-merror:0.021671\ttest-merror:0.062018\n",
      "[600]\ttrain-merror:0.02167\ttest-merror:0.061908\n",
      "[601]\ttrain-merror:0.02167\ttest-merror:0.061945\n",
      "[602]\ttrain-merror:0.021671\ttest-merror:0.062038\n",
      "[603]\ttrain-merror:0.02167\ttest-merror:0.062054\n",
      "[604]\ttrain-merror:0.02167\ttest-merror:0.06207\n",
      "[605]\ttrain-merror:0.02167\ttest-merror:0.062012\n",
      "[606]\ttrain-merror:0.02167\ttest-merror:0.062023\n",
      "[607]\ttrain-merror:0.02167\ttest-merror:0.062018\n",
      "[608]\ttrain-merror:0.02167\ttest-merror:0.062064\n",
      "[609]\ttrain-merror:0.021667\ttest-merror:0.061986\n",
      "[610]\ttrain-merror:0.021667\ttest-merror:0.061955\n",
      "[611]\ttrain-merror:0.021667\ttest-merror:0.061997\n",
      "[612]\ttrain-merror:0.021668\ttest-merror:0.06196\n",
      "[613]\ttrain-merror:0.021668\ttest-merror:0.062059\n",
      "[614]\ttrain-merror:0.021668\ttest-merror:0.062028\n",
      "[615]\ttrain-merror:0.021668\ttest-merror:0.06207\n",
      "[616]\ttrain-merror:0.021668\ttest-merror:0.062111\n",
      "[617]\ttrain-merror:0.021668\ttest-merror:0.062153\n",
      "[618]\ttrain-merror:0.021668\ttest-merror:0.062237\n",
      "[619]\ttrain-merror:0.021668\ttest-merror:0.062284\n",
      "[620]\ttrain-merror:0.021668\ttest-merror:0.062184\n",
      "[621]\ttrain-merror:0.021668\ttest-merror:0.062195\n",
      "[622]\ttrain-merror:0.021668\ttest-merror:0.062179\n",
      "[623]\ttrain-merror:0.021667\ttest-merror:0.062216\n",
      "[624]\ttrain-merror:0.021667\ttest-merror:0.062211\n",
      "[625]\ttrain-merror:0.021668\ttest-merror:0.062247\n",
      "[626]\ttrain-merror:0.021668\ttest-merror:0.062237\n",
      "[627]\ttrain-merror:0.021668\ttest-merror:0.062315\n",
      "[628]\ttrain-merror:0.021668\ttest-merror:0.062336\n",
      "[629]\ttrain-merror:0.021668\ttest-merror:0.062273\n",
      "[630]\ttrain-merror:0.021667\ttest-merror:0.062252\n",
      "[631]\ttrain-merror:0.021667\ttest-merror:0.062273\n",
      "[632]\ttrain-merror:0.021667\ttest-merror:0.062257\n",
      "[633]\ttrain-merror:0.021668\ttest-merror:0.062294\n",
      "[634]\ttrain-merror:0.021668\ttest-merror:0.062372\n",
      "[635]\ttrain-merror:0.021667\ttest-merror:0.062341\n",
      "[636]\ttrain-merror:0.021667\ttest-merror:0.062226\n",
      "[637]\ttrain-merror:0.021667\ttest-merror:0.062304\n",
      "[638]\ttrain-merror:0.021667\ttest-merror:0.062268\n",
      "[639]\ttrain-merror:0.021667\ttest-merror:0.062221\n",
      "[640]\ttrain-merror:0.021667\ttest-merror:0.062158\n",
      "[641]\ttrain-merror:0.021667\ttest-merror:0.062143\n",
      "[642]\ttrain-merror:0.021667\ttest-merror:0.062101\n",
      "[643]\ttrain-merror:0.021667\ttest-merror:0.062158\n",
      "[644]\ttrain-merror:0.021667\ttest-merror:0.062122\n",
      "[645]\ttrain-merror:0.021667\ttest-merror:0.062205\n",
      "[646]\ttrain-merror:0.021667\ttest-merror:0.062252\n",
      "[647]\ttrain-merror:0.021667\ttest-merror:0.062226\n",
      "[648]\ttrain-merror:0.021667\ttest-merror:0.062226\n",
      "[649]\ttrain-merror:0.021667\ttest-merror:0.062216\n",
      "[650]\ttrain-merror:0.021667\ttest-merror:0.062164\n",
      "Stopping. Best iteration:\n",
      "[600]\ttrain-merror:0.02167\ttest-merror:0.061908\n",
      "\n"
     ]
    }
   ],
   "source": [
    "watchlist = [(xg_train, 'train'), (xg_test, 'test')]\n",
    "num_round = 10000\n",
    "# num_round = 5\n",
    "\n",
    "bst = xgb.train(params=params, dtrain=xg_train, num_boost_round=num_round, evals=watchlist, early_stopping_rounds=50)\n",
    "# bst = xgb.train(params=params, dtrain=xg_train, num_boost_round=num_round, evals=watchlist)"
   ]
  },
  {
   "cell_type": "code",
   "execution_count": 18,
   "metadata": {
    "ExecuteTime": {
     "end_time": "2018-05-18T03:17:23.260116Z",
     "start_time": "2018-05-17T23:17:14.437341-04:00"
    },
    "collapsed": false
   },
   "outputs": [],
   "source": [
    "timestamp = datetime.now().strftime('%Y%m%d%H%M%S')\n",
    "pickle.dump(bst, open('./model-xgboost-{}.pkl'.format(timestamp), 'wb'))"
   ]
  },
  {
   "cell_type": "code",
   "execution_count": 19,
   "metadata": {
    "ExecuteTime": {
     "end_time": "2018-05-18T03:17:23.286155Z",
     "start_time": "2018-05-17T23:17:23.261090-04:00"
    },
    "collapsed": true,
    "deletable": true,
    "editable": true
   },
   "outputs": [],
   "source": [
    "pred = bst.predict(xg_test)"
   ]
  },
  {
   "cell_type": "code",
   "execution_count": 22,
   "metadata": {
    "ExecuteTime": {
     "end_time": "2018-05-18T03:18:20.736704Z",
     "start_time": "2018-05-17T23:18:20.620393-04:00"
    },
    "collapsed": false,
    "deletable": true,
    "editable": true
   },
   "outputs": [
    {
     "name": "stdout",
     "output_type": "stream",
     "text": [
      "Test error using softmax = 0.06216357187565199\n"
     ]
    }
   ],
   "source": [
    "error_rate = np.sum(pred != le_outcomes.fit_transform(y_test)) / y_test.shape[0]\n",
    "print('Test error using softmax = {}'.format(error_rate))"
   ]
  },
  {
   "cell_type": "code",
   "execution_count": 24,
   "metadata": {
    "ExecuteTime": {
     "end_time": "2018-05-18T03:20:39.315196Z",
     "start_time": "2018-05-17T23:19:32.263510-04:00"
    },
    "collapsed": false,
    "deletable": true,
    "editable": true
   },
   "outputs": [
    {
     "data": {
      "image/png": "[encoded data removed]",
      "text/plain": [
       "<matplotlib.figure.Figure at 0x1f6165cb9b0>"
      ]
     },
     "metadata": {},
     "output_type": "display_data"
    }
   ],
   "source": [
    "ax = xgb.plot_importance(bst)\n",
    "fig = ax.figure\n",
    "fig.set_size_inches(15, 10)"
   ]
  },
  {
   "cell_type": "code",
   "execution_count": 25,
   "metadata": {
    "ExecuteTime": {
     "end_time": "2018-05-18T03:20:49.746728Z",
     "start_time": "2018-05-17T23:20:49.740711-04:00"
    },
    "collapsed": false,
    "deletable": true,
    "editable": true
   },
   "outputs": [
    {
     "name": "stdout",
     "output_type": "stream",
     "text": [
      "0: location_raw\n",
      "1: county_name\n",
      "2: driver_age_raw\n",
      "3: driver_race\n",
      "4: search_conducted\n",
      "5: contraband_found\n",
      "6: stop_duration\n",
      "7: day_period\n",
      "8: season\n",
      "9: is_male\n",
      "10: violation_bad_stop\n",
      "11: violation_cell_phone\n",
      "12: violation_display_of_plates\n",
      "13: violation_equipment\n",
      "14: violation_license\n",
      "15: violation_lights\n",
      "16: violation_moving_violation\n",
      "17: violation_other\n",
      "18: violation_registration\n",
      "19: violation_safe_movement\n",
      "20: violation_seatbelt\n",
      "21: violation_speeding\n",
      "22: violation_suspended_license\n",
      "23: violation_traffic_control_signal\n",
      "24: violation_window_tint\n"
     ]
    }
   ],
   "source": [
    "for idx, c in enumerate(X_train.columns.values):\n",
    "    print('{}: {}'.format(idx, c))"
   ]
  },
  {
   "cell_type": "code",
   "execution_count": 26,
   "metadata": {
    "ExecuteTime": {
     "end_time": "2018-05-18T03:20:53.015885Z",
     "start_time": "2018-05-17T23:20:52.026164-04:00"
    },
    "collapsed": false,
    "deletable": true,
    "editable": true
   },
   "outputs": [
    {
     "data": {
      "text/plain": [
       "<matplotlib.text.Text at 0x1f620908208>"
      ]
     },
     "execution_count": 26,
     "metadata": {},
     "output_type": "execute_result"
    },
    {
     "data": {
      "image/png": "[encoded data removed]",
      "text/plain": [
       "<matplotlib.figure.Figure at 0x1f6769f2908>"
      ]
     },
     "metadata": {},
     "output_type": "display_data"
    }
   ],
   "source": [
    "error_results = {\n",
    "    'train': [],\n",
    "    'test': [],\n",
    "}\n",
    "\n",
    "logfile = 'runs/201805111748-oversampled-0.0626-error-592-run.log'\n",
    "with open(logfile, 'r') as f:\n",
    "    for line in f:\n",
    "        tokens = line.strip().split('\\t')\n",
    "        error_results['train'].append(float(tokens[1].split(':')[1]))\n",
    "        error_results['test'].append(float(tokens[2].split(':')[1]))\n",
    "\n",
    "df_errors = pd.DataFrame(error_results)\n",
    "\n",
    "learning_curve = df_errors.plot.line(title='Learning curve', figsize=(8,5))\n",
    "learning_curve.set_xlabel('Number of runs')\n",
    "learning_curve.set_ylabel('Error')"
   ]
  },
  {
   "cell_type": "code",
   "execution_count": 27,
   "metadata": {
    "ExecuteTime": {
     "end_time": "2018-05-18T03:20:57.282217Z",
     "start_time": "2018-05-17T23:20:56.475049-04:00"
    },
    "collapsed": false,
    "deletable": true,
    "editable": true
   },
   "outputs": [
    {
     "data": {
      "text/plain": [
       "<matplotlib.text.Text at 0x1f621e26470>"
      ]
     },
     "execution_count": 27,
     "metadata": {},
     "output_type": "execute_result"
    },
    {
     "data": {
      "image/png": "[encoded data removed]",
      "text/plain": [
       "<matplotlib.figure.Figure at 0x1f620965550>"
      ]
     },
     "metadata": {},
     "output_type": "display_data"
    }
   ],
   "source": [
    "df_accuracy = df_errors.copy()\n",
    "df_accuracy_processed = df_accuracy.mul(-1).add(1)\n",
    "\n",
    "learning_curve = df_accuracy_processed.plot.line(title='Learning curve', figsize=(8,5))\n",
    "learning_curve.set_xlabel('Number of runs')\n",
    "learning_curve.set_ylabel('Accuracy')"
   ]
  },
  {
   "cell_type": "markdown",
   "metadata": {
    "deletable": true,
    "editable": true
   },
   "source": [
    "# RandomSearchCV"
   ]
  },
  {
   "cell_type": "code",
   "execution_count": null,
   "metadata": {
    "ExecuteTime": {
     "end_time": "2018-05-18T03:19:21.909069Z",
     "start_time": "2018-05-18T03:18:20.627Z"
    },
    "collapsed": false,
    "deletable": true,
    "editable": true
   },
   "outputs": [],
   "source": [
    "params_rfc = {\n",
    "#     'class_weight': None,\n",
    "    'n_estimators': [10, 100],\n",
    "    'criterion': ['gini', 'entropy'],\n",
    "    'max_depth': [None, 19],\n",
    "    'max_features': [None, 'sqrt', 'log2'],\n",
    "#     'min_impurity_split': [0.0000001],\n",
    "\n",
    "#     'min_samples_split': [2, 5, 10], \n",
    "#     'min_samples_leaf':[1, 2, 4],\n",
    "\n",
    "#     'min_weight_fraction_leaf': [0],\n",
    "\n",
    "#     'max_leaf_nodes': [None, 100, 1000, 2000],\n",
    "    'n_jobs': [8],\n",
    "    'random_state': [0],\n",
    "    'verbose': [3],\n",
    "}\n",
    "\n",
    "rfc = RandomForestClassifier()\n",
    "\n",
    "clf = RandomizedSearchCV(rfc, params_rfc, scoring='accuracy', n_jobs=8, cv=5, verbose=3)\n",
    "clf.fit(X_train, y_train)\n",
    "\n",
    "timestamp = datetime.now().strftime('%Y%m%d%H%M%S')\n",
    "pickle.dump(clf, open('{}-randomforestclassifier-clf.pkl'.format(timestamp), 'wb'))"
   ]
  }
 ],
 "metadata": {
  "anaconda-cloud": {},
  "hide_input": false,
  "kernelspec": {
   "display_name": "Python 3",
   "language": "python",
   "name": "python3"
  },
  "language_info": {
   "codemirror_mode": {
    "name": "ipython",
    "version": 3
   },
   "file_extension": ".py",
   "mimetype": "text/x-python",
   "name": "python",
   "nbconvert_exporter": "python",
   "pygments_lexer": "ipython3",
   "version": "3.5.3"
  },
  "toc": {
   "base_numbering": 1,
   "nav_menu": {},
   "number_sections": true,
   "sideBar": true,
   "skip_h1_title": false,
   "title_cell": "Table of Contents",
   "title_sidebar": "Contents",
   "toc_cell": false,
   "toc_position": {},
   "toc_section_display": true,
   "toc_window_display": false
  },
  "varInspector": {
   "cols": {
    "lenName": 16,
    "lenType": 16,
    "lenVar": 40
   },
   "kernels_config": {
    "python": {
     "delete_cmd_postfix": "",
     "delete_cmd_prefix": "del ",
     "library": "var_list.py",
     "varRefreshCmd": "print(var_dic_list())"
    },
    "r": {
     "delete_cmd_postfix": ") ",
     "delete_cmd_prefix": "rm(",
     "library": "var_list.r",
     "varRefreshCmd": "cat(var_dic_list()) "
    }
   },
   "types_to_exclude": [
    "module",
    "function",
    "builtin_function_or_method",
    "instance",
    "_Feature"
   ],
   "window_display": false
  }
 },
 "nbformat": 4,
 "nbformat_minor": 2
}
