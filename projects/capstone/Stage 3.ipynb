{
 "cells": [
  {
   "cell_type": "markdown",
   "metadata": {},
   "source": [
    "# Stage 1\n",
    "\n",
    "- has **`location_raw`**: False\n",
    "- vars one-hot encoded: True\n",
    "- var label-encoded: False\n",
    "- oversampled: False"
   ]
  },
  {
   "cell_type": "code",
   "execution_count": 1,
   "metadata": {
    "ExecuteTime": {
     "end_time": "2018-05-23T12:13:12.807945Z",
     "start_time": "2018-05-23T12:13:12.184057Z"
    },
    "collapsed": true
   },
   "outputs": [],
   "source": [
    "import pickle\n",
    "\n",
    "import humanize\n",
    "import numpy as np\n",
    "import pandas as pd\n",
    "from datetime import datetime\n",
    "from sklearn.ensemble import RandomForestClassifier, GradientBoostingClassifier\n",
    "from sklearn.externals.joblib import parallel_backend\n",
    "from sklearn.metrics import accuracy_score, confusion_matrix, precision_recall_fscore_support\n",
    "from sklearn.model_selection import train_test_split\n",
    "\n",
    "\n",
    "%matplotlib inline\n",
    "%load_ext autoreload"
   ]
  },
  {
   "cell_type": "code",
   "execution_count": 2,
   "metadata": {
    "ExecuteTime": {
     "end_time": "2018-05-23T12:13:13.285266Z",
     "start_time": "2018-05-23T12:13:12.808688Z"
    }
   },
   "outputs": [
    {
     "name": "stdout",
     "output_type": "stream",
     "text": [
      "Row counts:\n",
      "\ttrain: 250134\n",
      "\ttest: 62534\n"
     ]
    }
   ],
   "source": [
    "X_train = pickle.load(open('./data/stage3-train.pkl', 'rb'))\n",
    "y_train = X_train.pop('stop_outcome')\n",
    "X_test = pickle.load(open('./data/stage3-test.pkl', 'rb'))\n",
    "y_test = X_test.pop('stop_outcome')\n",
    "\n",
    "print('Row counts:\\n\\ttrain: {}\\n\\ttest: {}'.format(X_train.shape[0], X_test.shape[0]))\n"
   ]
  },
  {
   "cell_type": "markdown",
   "metadata": {},
   "source": [
    "# Classifiers"
   ]
  },
  {
   "cell_type": "code",
   "execution_count": 3,
   "metadata": {
    "ExecuteTime": {
     "end_time": "2018-05-23T12:13:13.360906Z",
     "start_time": "2018-05-23T12:13:13.286286Z"
    },
    "collapsed": true
   },
   "outputs": [],
   "source": [
    "from sklearn.ensemble import RandomForestClassifier, GradientBoostingClassifier\n",
    "from sklearn.linear_model import SGDClassifier\n",
    "from sklearn.naive_bayes import GaussianNB\n",
    "from sklearn.tree import DecisionTreeClassifier\n",
    "\n",
    "\n",
    "class Classifier(object):\n",
    "    def __init__(self, classifier):\n",
    "        self.clf = classifier\n",
    "        self.fitted = False\n",
    "        self.name = self.get_name(self.clf)\n",
    "        self.score_val = 0.0\n",
    "\n",
    "    def get_name(self, classifier):\n",
    "        return str(classifier.__class__).split('.')[-1].replace(\"'>\", \"\")\n",
    "        \n",
    "    def fit(self, X_train, y_train):\n",
    "        self.clf.fit(X_train, y_train)\n",
    "        self.fitted = True\n",
    "\n",
    "    def score(self, X_train, y_train):\n",
    "        if self.fitted:\n",
    "            print('Scoring...')\n",
    "            self.score_val = self.clf.score(X_train, y_train)\n",
    "            print(self.score_val)\n",
    "        else:\n",
    "            print('Please run the .fit() method first')\n",
    "\n",
    "        \n",
    "clf = {\n",
    "    'sgd': Classifier(SGDClassifier()),\n",
    "    'gnb': Classifier(GaussianNB()),\n",
    "    'dtc': Classifier(DecisionTreeClassifier(random_state=0)),\n",
    "    'rfc': Classifier(RandomForestClassifier(n_jobs=8, verbose=3, random_state=0)),\n",
    "    'gbc': Classifier(GradientBoostingClassifier(random_state=0)),\n",
    "    'gbc_tuned': Classifier(GradientBoostingClassifier(\n",
    "    #     learning_rate=0.0983,\n",
    "        max_depth=6,\n",
    "    #     max_features=len(list(X_train.columns.values)),\n",
    "        subsample=0.9,\n",
    "        verbose=3,\n",
    "        random_state=0,\n",
    "    )),\n",
    "}\n",
    "        \n",
    "    "
   ]
  },
  {
   "cell_type": "code",
   "execution_count": 4,
   "metadata": {
    "ExecuteTime": {
     "end_time": "2018-05-23T12:13:13.364319Z",
     "start_time": "2018-05-23T12:13:13.361641Z"
    },
    "collapsed": true
   },
   "outputs": [],
   "source": [
    "# Split the 'features' and 'labels' data into training and testing sets\n",
    "# X_train, X_test, y_train, y_test = train_test_split(features,\n",
    "#                                                     labels, \n",
    "#                                                     test_size=0.2, \n",
    "#                                                     random_state=0)\n",
    "# final_test_features = pickle.load(open('./data/final_test_set.pkl', 'rb'))\n",
    "# final_test_outcomes = final_test_features.pop('stop_outcome')\n",
    "# print('Final test set row count: {}'.format(final_test_features.shape[0]))\n",
    "\n",
    "# X_train = features\n",
    "# y_train = labels\n",
    "# X_test = final_test_features\n",
    "# y_test = final_test_outcomes"
   ]
  },
  {
   "cell_type": "markdown",
   "metadata": {},
   "source": [
    "# Benchmark"
   ]
  },
  {
   "cell_type": "code",
   "execution_count": 5,
   "metadata": {
    "ExecuteTime": {
     "end_time": "2018-05-23T12:13:13.382137Z",
     "start_time": "2018-05-23T12:13:13.365171Z"
    }
   },
   "outputs": [
    {
     "data": {
      "text/plain": [
       "0.69127194806025527"
      ]
     },
     "execution_count": 5,
     "metadata": {},
     "output_type": "execute_result"
    }
   ],
   "source": [
    "# LabelEncoded value for \"Ticket\" outcome is 2\n",
    "predictions = [2]\n",
    "accuracy_score(y_test, predictions * y_test.shape[0])"
   ]
  },
  {
   "cell_type": "markdown",
   "metadata": {},
   "source": [
    "# Simple Linear Classifier"
   ]
  },
  {
   "cell_type": "code",
   "execution_count": 6,
   "metadata": {
    "ExecuteTime": {
     "end_time": "2018-05-23T12:13:14.238303Z",
     "start_time": "2018-05-23T12:13:13.383012Z"
    }
   },
   "outputs": [
    {
     "name": "stderr",
     "output_type": "stream",
     "text": [
      "/home/pato/anaconda2/envs/py36/lib/python3.6/site-packages/sklearn/linear_model/stochastic_gradient.py:128: FutureWarning: max_iter and tol parameters have been added in <class 'sklearn.linear_model.stochastic_gradient.SGDClassifier'> in 0.19. If both are left unset, they default to max_iter=5 and tol=None. If tol is not None, max_iter defaults to max_iter=1000. From 0.21, default max_iter will be 1000, and default tol will be 1e-3.\n",
      "  \"and default tol will be 1e-3.\" % type(self), FutureWarning)\n"
     ]
    },
    {
     "name": "stdout",
     "output_type": "stream",
     "text": [
      "Scoring...\n",
      "0.370454472767\n"
     ]
    }
   ],
   "source": [
    "clf['sgd'].fit(X_train, y_train)\n",
    "clf['sgd'].score(X_test, y_test)"
   ]
  },
  {
   "cell_type": "markdown",
   "metadata": {
    "collapsed": true
   },
   "source": [
    "# GaussianNB"
   ]
  },
  {
   "cell_type": "code",
   "execution_count": 7,
   "metadata": {
    "ExecuteTime": {
     "end_time": "2018-05-23T12:13:14.422448Z",
     "start_time": "2018-05-23T12:13:14.239350Z"
    }
   },
   "outputs": [
    {
     "name": "stdout",
     "output_type": "stream",
     "text": [
      "Scoring...\n",
      "0.686506540442\n"
     ]
    }
   ],
   "source": [
    "clf['gnb'].fit(X_train, y_train)\n",
    "clf['gnb'].score(X_test, y_test)"
   ]
  },
  {
   "cell_type": "markdown",
   "metadata": {
    "collapsed": true
   },
   "source": [
    "# DecisionTreeClassifier"
   ]
  },
  {
   "cell_type": "code",
   "execution_count": 8,
   "metadata": {
    "ExecuteTime": {
     "end_time": "2018-05-23T12:13:15.845022Z",
     "start_time": "2018-05-23T12:13:14.423283Z"
    }
   },
   "outputs": [
    {
     "name": "stdout",
     "output_type": "stream",
     "text": [
      "Scoring...\n",
      "0.559567595228\n"
     ]
    }
   ],
   "source": [
    "clf['dtc'].fit(X_train, y_train)\n",
    "clf['dtc'].score(X_test, y_test)"
   ]
  },
  {
   "cell_type": "markdown",
   "metadata": {
    "collapsed": true
   },
   "source": [
    "# RandomForestClassifier"
   ]
  },
  {
   "cell_type": "code",
   "execution_count": 9,
   "metadata": {
    "ExecuteTime": {
     "end_time": "2018-05-23T12:13:17.140281Z",
     "start_time": "2018-05-23T12:13:15.845805Z"
    }
   },
   "outputs": [
    {
     "name": "stdout",
     "output_type": "stream",
     "text": [
      "building tree 1 of 10building tree 2 of 10building tree 3 of 10building tree 5 of 10building tree 6 of 10building tree 7 of 10building tree 4 of 10building tree 8 of 10\n",
      "\n",
      "\n",
      "\n",
      "\n",
      "\n",
      "\n",
      "\n",
      "building tree 9 of 10\n",
      "building tree 10 of 10\n"
     ]
    },
    {
     "name": "stderr",
     "output_type": "stream",
     "text": [
      "[Parallel(n_jobs=8)]: Done   3 out of  10 | elapsed:    0.7s remaining:    1.5s\n",
      "[Parallel(n_jobs=8)]: Done   7 out of  10 | elapsed:    0.7s remaining:    0.3s\n",
      "[Parallel(n_jobs=8)]: Done  10 out of  10 | elapsed:    1.0s finished\n",
      "[Parallel(n_jobs=8)]: Done   3 out of  10 | elapsed:    0.1s remaining:    0.2s\n",
      "[Parallel(n_jobs=8)]: Done   7 out of  10 | elapsed:    0.1s remaining:    0.0s\n",
      "[Parallel(n_jobs=8)]: Done  10 out of  10 | elapsed:    0.1s finished\n"
     ]
    },
    {
     "name": "stdout",
     "output_type": "stream",
     "text": [
      "Scoring...\n",
      "0.696357181693\n"
     ]
    }
   ],
   "source": [
    "# rfc = RandomForestClassifier(n_jobs=8, verbose=3, random_state=0)\n",
    "clf['rfc'].fit(X_train, y_train)\n",
    "clf['rfc'].score(X_test, y_test)"
   ]
  },
  {
   "cell_type": "markdown",
   "metadata": {
    "collapsed": true
   },
   "source": [
    "# GradientBoostingClassifier"
   ]
  },
  {
   "cell_type": "code",
   "execution_count": 10,
   "metadata": {
    "ExecuteTime": {
     "end_time": "2018-05-23T12:14:51.951369Z",
     "start_time": "2018-05-23T12:13:17.146527Z"
    }
   },
   "outputs": [
    {
     "name": "stdout",
     "output_type": "stream",
     "text": [
      "Scoring...\n",
      "0.721335593437\n"
     ]
    }
   ],
   "source": [
    "# gbc = GradientBoostingClassifier(random_state=0)\n",
    "clf['gbc'].fit(X_train, y_train)\n",
    "clf['gbc'].score(X_test, y_test)"
   ]
  },
  {
   "cell_type": "markdown",
   "metadata": {},
   "source": [
    "## GradientBoostingClassifier (Tuned)\n"
   ]
  },
  {
   "cell_type": "code",
   "execution_count": 11,
   "metadata": {
    "ExecuteTime": {
     "end_time": "2018-05-23T12:19:39.594946Z",
     "start_time": "2018-05-23T12:14:51.952409Z"
    },
    "scrolled": true
   },
   "outputs": [
    {
     "name": "stdout",
     "output_type": "stream",
     "text": [
      "      Iter       Train Loss      OOB Improve   Remaining Time \n",
      "         1      275281.3785        2459.0036            4.43m\n",
      "         2      258050.4094        1900.9359            4.37m\n",
      "         3      244286.6069        1507.6867            4.31m\n",
      "         4      232956.0809        1222.2029            4.30m\n",
      "         5      223985.0113        1012.6959            4.32m\n",
      "         6      216339.5567         818.4876            4.43m\n",
      "         7      210227.7626         665.0982            4.45m\n",
      "         8      205294.7444         557.0056            4.40m\n",
      "         9      200897.2251         464.4619            4.35m\n",
      "        10      197021.0397         416.5450            4.30m\n",
      "        11      193800.0077         332.4796            4.24m\n",
      "        12      191158.1977         280.9167            4.19m\n",
      "        13      188924.8344         266.4147            4.16m\n",
      "        14      186418.6810         226.3294            4.11m\n",
      "        15      184548.4263         205.0783            4.08m\n",
      "        16      182877.3370         177.2690            4.04m\n",
      "        17      180990.4983         170.5432            4.00m\n",
      "        18      180177.5421         121.8323            3.95m\n",
      "        19      178718.3774         139.5553            3.92m\n",
      "        20      177469.9659         116.6069            3.87m\n",
      "        21      176645.0765          87.7995            3.83m\n",
      "        22      175864.7184          77.0720            3.77m\n",
      "        23      174924.4231          73.0124            3.73m\n",
      "        24      174363.5300          77.0788            3.69m\n",
      "        25      173535.6652          65.4460            3.65m\n",
      "        26      172999.9401          57.1486            3.60m\n",
      "        27      172379.1511          51.6146            3.55m\n",
      "        28      171656.8326          50.7501            3.50m\n",
      "        29      171070.0674          58.4886            3.46m\n",
      "        30      170814.9946          30.7233            3.40m\n",
      "        31      170333.0002          38.9360            3.36m\n",
      "        32      169644.1239          26.1028            3.30m\n",
      "        33      169385.3961          29.0769            3.25m\n",
      "        34      169168.5966          34.0109            3.21m\n",
      "        35      168549.0915          41.0827            3.17m\n",
      "        36      168238.5069          30.9683            3.14m\n",
      "        37      168094.9841          18.4308            3.10m\n",
      "        38      167825.0053          15.1179            3.04m\n",
      "        39      167689.7437          23.0521            3.00m\n",
      "        40      166744.6209          22.2932            2.96m\n",
      "        41      166935.9215          12.3239            2.91m\n",
      "        42      166988.4950          19.1146            2.86m\n",
      "        43      166042.4870          20.9717            2.81m\n",
      "        44      165876.0511          16.2137            2.76m\n",
      "        45      165691.5565           8.4123            2.71m\n",
      "        46      165800.3470           4.8538            2.66m\n",
      "        47      165451.3407          20.2419            2.61m\n",
      "        48      165483.8166           9.9388            2.56m\n",
      "        49      164994.0615          11.4050            2.51m\n",
      "        50      164755.8099           7.5012            2.46m\n",
      "        51      164477.5850          15.6908            2.42m\n",
      "        52      164150.8666          10.4422            2.37m\n",
      "        53      164218.3553           6.3937            2.32m\n",
      "        54      164096.9087           1.2565            2.27m\n",
      "        55      163660.2951          13.5906            2.23m\n",
      "        56      163631.7115           5.0403            2.18m\n",
      "        57      163524.5184           4.6797            2.13m\n",
      "        58      163297.0484           4.4078            2.08m\n",
      "        59      163353.6198           4.2240            2.03m\n",
      "        60      163001.5023           3.5390            1.98m\n",
      "        61      163101.0596           8.0624            1.93m\n",
      "        62      162694.1281           3.6377            1.88m\n",
      "        63      162771.8226           3.2397            1.83m\n",
      "        64      162611.3719           6.6251            1.78m\n",
      "        65      162519.9303           2.5089            1.73m\n",
      "        66      162485.5697           6.7606            1.68m\n",
      "        67      161937.6285           6.4879            1.63m\n",
      "        68      161937.8840           6.6788            1.58m\n",
      "        69      161778.3313           1.6603            1.53m\n",
      "        70      161474.3060           5.5904            1.48m\n",
      "        71      161527.9041           0.7298            1.43m\n",
      "        72      161203.2325           5.5653            1.37m\n",
      "        73      161105.6812           0.4754            1.32m\n",
      "        74      161077.2402           5.7938            1.27m\n",
      "        75      161010.7298           3.4549            1.22m\n",
      "        76      160812.4185           5.0796            1.17m\n",
      "        77      160775.5134           4.7351            1.12m\n",
      "        78      160560.6648          -0.1663            1.07m\n",
      "        79      160388.3621           4.7763            1.02m\n",
      "        80      160491.4745          -1.2795           58.35s\n",
      "        81      160374.0460           0.8871           55.32s\n",
      "        82      160107.2623           4.2938           52.40s\n",
      "        83      160081.9907          -2.2747           49.47s\n",
      "        84      160217.7601           1.6992           46.51s\n",
      "        85      159821.8006           4.0873           43.59s\n",
      "        86      160130.9270           2.0469           40.68s\n",
      "        87      159705.3126          -0.7373           37.72s\n",
      "        88      159533.4041           0.0454           34.79s\n",
      "        89      159386.7621           4.9944           31.89s\n",
      "        90      159264.4290          -1.7032           28.95s\n",
      "        91      159274.9398           3.2115           26.04s\n",
      "        92      159332.8463          -0.2881           23.12s\n",
      "        93      159084.4840          -2.0372           20.21s\n",
      "        94      158966.8711          -4.3923           17.30s\n",
      "        95      158848.6380           3.7207           14.40s\n",
      "        96      158774.9213          -0.5591           11.51s\n",
      "        97      158431.0514          -0.0112            8.62s\n",
      "        98      158467.5497          -0.0476            5.75s\n",
      "        99      158067.4917           2.9284            2.87s\n",
      "       100      158470.3339           0.5515            0.00s\n",
      "Scoring...\n",
      "0.728403748361\n"
     ]
    }
   ],
   "source": [
    "# gbc_tuned = GradientBoostingClassifier(\n",
    "# #     learning_rate=0.0983,\n",
    "#     max_depth=6,\n",
    "# #     max_features=len(list(X_train.columns.values)),\n",
    "#     subsample=0.9,\n",
    "#     verbose=3,\n",
    "#     random_state=0,\n",
    "# )\n",
    "clf['gbc_tuned'].fit(X_train, y_train)\n",
    "clf['gbc_tuned'].score(X_test, y_test)"
   ]
  },
  {
   "cell_type": "markdown",
   "metadata": {},
   "source": [
    "### Confusion Matrix"
   ]
  },
  {
   "cell_type": "code",
   "execution_count": 12,
   "metadata": {
    "ExecuteTime": {
     "end_time": "2018-05-23T12:19:40.210954Z",
     "start_time": "2018-05-23T12:19:39.595752Z"
    }
   },
   "outputs": [
    {
     "data": {
      "text/html": [
       "<div>\n",
       "<style scoped>\n",
       "    .dataframe tbody tr th:only-of-type {\n",
       "        vertical-align: middle;\n",
       "    }\n",
       "\n",
       "    .dataframe tbody tr th {\n",
       "        vertical-align: top;\n",
       "    }\n",
       "\n",
       "    .dataframe thead th {\n",
       "        text-align: right;\n",
       "    }\n",
       "</style>\n",
       "<table border=\"1\" class=\"dataframe\">\n",
       "  <thead>\n",
       "    <tr style=\"text-align: right;\">\n",
       "      <th></th>\n",
       "      <th>Arrest</th>\n",
       "      <th>Summons</th>\n",
       "      <th>Ticket</th>\n",
       "      <th>Verbal Warning</th>\n",
       "      <th>Written Warning</th>\n",
       "    </tr>\n",
       "  </thead>\n",
       "  <tbody>\n",
       "    <tr>\n",
       "      <th>Arrest</th>\n",
       "      <td>522</td>\n",
       "      <td>139</td>\n",
       "      <td>694</td>\n",
       "      <td>48</td>\n",
       "      <td>5</td>\n",
       "    </tr>\n",
       "    <tr>\n",
       "      <th>Summons</th>\n",
       "      <td>169</td>\n",
       "      <td>749</td>\n",
       "      <td>1642</td>\n",
       "      <td>76</td>\n",
       "      <td>21</td>\n",
       "    </tr>\n",
       "    <tr>\n",
       "      <th>Ticket</th>\n",
       "      <td>246</td>\n",
       "      <td>284</td>\n",
       "      <td>40987</td>\n",
       "      <td>1391</td>\n",
       "      <td>320</td>\n",
       "    </tr>\n",
       "    <tr>\n",
       "      <th>Verbal Warning</th>\n",
       "      <td>25</td>\n",
       "      <td>48</td>\n",
       "      <td>5897</td>\n",
       "      <td>2547</td>\n",
       "      <td>226</td>\n",
       "    </tr>\n",
       "    <tr>\n",
       "      <th>Written Warning</th>\n",
       "      <td>15</td>\n",
       "      <td>24</td>\n",
       "      <td>4399</td>\n",
       "      <td>1315</td>\n",
       "      <td>745</td>\n",
       "    </tr>\n",
       "  </tbody>\n",
       "</table>\n",
       "</div>"
      ],
      "text/plain": [
       "                 Arrest  Summons  Ticket  Verbal Warning  Written Warning\n",
       "Arrest              522      139     694              48                5\n",
       "Summons             169      749    1642              76               21\n",
       "Ticket              246      284   40987            1391              320\n",
       "Verbal Warning       25       48    5897            2547              226\n",
       "Written Warning      15       24    4399            1315              745"
      ]
     },
     "execution_count": 12,
     "metadata": {},
     "output_type": "execute_result"
    }
   ],
   "source": [
    "headers = ['Arrest', 'Summons', 'Ticket', 'Verbal Warning', 'Written Warning']\n",
    "cm = pd.DataFrame(data=confusion_matrix(y_test, clf['gbc_tuned'].clf.predict(X_test)), columns=headers, index=headers)\n",
    "cm"
   ]
  },
  {
   "cell_type": "code",
   "execution_count": 13,
   "metadata": {
    "ExecuteTime": {
     "end_time": "2018-05-23T12:19:40.764800Z",
     "start_time": "2018-05-23T12:19:40.211793Z"
    }
   },
   "outputs": [
    {
     "data": {
      "text/plain": [
       "(array([ 0.53428864,  0.60209003,  0.76441187,  0.47368421,  0.56567957]),\n",
       " array([ 0.37073864,  0.28189688,  0.9481586 ,  0.29131877,  0.11465066]),\n",
       " array([ 0.43773585,  0.3840041 ,  0.84642787,  0.36076487,  0.19065899]),\n",
       " array([ 1408,  2657, 43228,  8743,  6498]))"
      ]
     },
     "execution_count": 13,
     "metadata": {},
     "output_type": "execute_result"
    }
   ],
   "source": [
    "precision_recall_fscore_support(y_test, clf['gbc_tuned'].clf.predict(X_test), average=None)"
   ]
  },
  {
   "cell_type": "code",
   "execution_count": 14,
   "metadata": {
    "ExecuteTime": {
     "end_time": "2018-05-23T12:19:41.321229Z",
     "start_time": "2018-05-23T12:19:40.765517Z"
    }
   },
   "outputs": [
    {
     "data": {
      "text/plain": [
       "(0.72840374836089172, 0.72840374836089172, 0.72840374836089172, None)"
      ]
     },
     "execution_count": 14,
     "metadata": {},
     "output_type": "execute_result"
    }
   ],
   "source": [
    "precision_recall_fscore_support(y_test, clf['gbc_tuned'].clf.predict(X_test), average='micro')"
   ]
  },
  {
   "cell_type": "code",
   "execution_count": 15,
   "metadata": {
    "ExecuteTime": {
     "end_time": "2018-05-23T12:19:41.926436Z",
     "start_time": "2018-05-23T12:19:41.321992Z"
    }
   },
   "outputs": [
    {
     "data": {
      "text/plain": [
       "(0.58803086501775514, 0.40135270889796482, 0.44391833659579821, None)"
      ]
     },
     "execution_count": 15,
     "metadata": {},
     "output_type": "execute_result"
    }
   ],
   "source": [
    "precision_recall_fscore_support(y_test, clf['gbc_tuned'].clf.predict(X_test), average='macro')"
   ]
  },
  {
   "cell_type": "code",
   "execution_count": 16,
   "metadata": {
    "ExecuteTime": {
     "end_time": "2018-05-23T12:19:42.286501Z",
     "start_time": "2018-05-23T12:19:41.927392Z"
    }
   },
   "outputs": [
    {
     "data": {
      "image/png": "[encoded data removed]",
      "text/plain": [
       "<matplotlib.figure.Figure at 0x7f631140a9b0>"
      ]
     },
     "metadata": {},
     "output_type": "display_data"
    }
   ],
   "source": [
    "gbc_tuned_df = pd.DataFrame(data=clf['gbc_tuned'].clf.feature_importances_, index=X_train.columns.values)\n",
    "gbc_tuned_plot = gbc_tuned_df.sort_values(by=0).plot.barh(figsize=(15, 10), fontsize=14)\n",
    "gbc_tuned_plot.axes.legend().set_visible(False)"
   ]
  },
  {
   "cell_type": "code",
   "execution_count": 17,
   "metadata": {
    "ExecuteTime": {
     "end_time": "2018-05-23T12:19:42.291365Z",
     "start_time": "2018-05-23T12:19:42.287225Z"
    }
   },
   "outputs": [
    {
     "data": {
      "text/plain": [
       "sgd          0.370454\n",
       "gnb          0.686507\n",
       "dtc          0.559568\n",
       "rfc          0.696357\n",
       "gbc          0.721336\n",
       "gbc_tuned    0.728404\n",
       "dtype: float64"
      ]
     },
     "execution_count": 17,
     "metadata": {},
     "output_type": "execute_result"
    }
   ],
   "source": [
    "keys = clf.keys()\n",
    "scores = [clf[key].score_val for key in keys]\n",
    "results = pd.Series(scores, index=keys)\n",
    "results"
   ]
  },
  {
   "cell_type": "code",
   "execution_count": null,
   "metadata": {
    "collapsed": true
   },
   "outputs": [],
   "source": []
  }
 ],
 "metadata": {
  "anaconda-cloud": {},
  "hide_input": false,
  "kernelspec": {
   "display_name": "Python 3",
   "language": "python",
   "name": "python3"
  },
  "language_info": {
   "codemirror_mode": {
    "name": "ipython",
    "version": 3
   },
   "file_extension": ".py",
   "mimetype": "text/x-python",
   "name": "python",
   "nbconvert_exporter": "python",
   "pygments_lexer": "ipython3",
   "version": "3.6.1"
  },
  "toc": {
   "base_numbering": 1,
   "nav_menu": {},
   "number_sections": true,
   "sideBar": true,
   "skip_h1_title": false,
   "title_cell": "Table of Contents",
   "title_sidebar": "Contents",
   "toc_cell": false,
   "toc_position": {},
   "toc_section_display": true,
   "toc_window_display": false
  },
  "varInspector": {
   "cols": {
    "lenName": 16,
    "lenType": 16,
    "lenVar": 40
   },
   "kernels_config": {
    "python": {
     "delete_cmd_postfix": "",
     "delete_cmd_prefix": "del ",
     "library": "var_list.py",
     "varRefreshCmd": "print(var_dic_list())"
    },
    "r": {
     "delete_cmd_postfix": ") ",
     "delete_cmd_prefix": "rm(",
     "library": "var_list.r",
     "varRefreshCmd": "cat(var_dic_list()) "
    }
   },
   "types_to_exclude": [
    "module",
    "function",
    "builtin_function_or_method",
    "instance",
    "_Feature"
   ],
   "window_display": false
  }
 },
 "nbformat": 4,
 "nbformat_minor": 2
}
