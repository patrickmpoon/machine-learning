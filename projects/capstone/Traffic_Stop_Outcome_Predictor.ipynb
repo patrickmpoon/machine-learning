{
 "cells": [
  {
   "cell_type": "markdown",
   "metadata": {
    "deletable": true,
    "editable": true
   },
   "source": [
    "# Machine Learning Engineer Nanodegree\n",
    "## Capstone Project\n",
    "Patrick Poon  \n",
    "May 1, 2018\n",
    "\n",
    "## I. Definition\n",
    "_(approx. 1-2 pages)_\n",
    "\n",
    "### Project Overview\n",
    "\n",
    "In this section, look to provide a high-level overview of the project in layman’s terms. Questions to ask yourself when writing this section:\n",
    "- _Has an overview of the project been provided, such as the problem domain, project origin, and related datasets or input data?_\n",
    "- _Has enough background information been given so that an uninformed reader would understand the problem domain and following problem statement?_\n",
    "<!--\n",
    "-->\n",
    "\n",
    "> Most people...the interaction that they're going to have with a police officer is because [...] they're stopped for speeding.  Or, forgetting to turn their blinker off.[1]\n",
    "> \n",
    ">-- Cheryl Phillips, Journalism Professor at Stanford University\n",
    "\n",
    "On a typical day in the United States, police officers make more than 50,000 traffic stops.[2]  In recent years, there have been numerous incidents that have made national headlines that involve an officer shooting and, in some cases, killing the driver or an occupant.  Many cite racial biases against Blacks and Hispanics for the disproportionate amount of such incidents for these communities.  Here are some relevant articles:\n",
    "\n",
    "- Was the Sandra Bland traffic stop legal -- and fair? (https://www.cnn.com/2015/07/23/opinions/cevallos-sandra-bland-traffic-stop/index.html)\n",
    "- Philando Castile shooting: Dashcam video shows rapid event (https://www.cnn.com/2017/06/20/us/philando-castile-shooting-dashcam/index.html)\n",
    "\n",
    "This Capstone project will not attempt to prove or disprove this controversial topic, and will attempt to  avoid making any controversial or provocative statements on either side of the conversation.\n"
   ]
  },
  {
   "cell_type": "markdown",
   "metadata": {
    "deletable": true,
    "editable": true
   },
   "source": [
    "### Problem Statement\n",
    "\n",
    "In this section, you will want to clearly define the problem that you are trying to solve, including the strategy (outline of tasks) you will use to achieve the desired solution. You should also thoroughly discuss what the intended solution will be for this problem. Questions to ask yourself when writing this section:\n",
    "- _Is the problem statement clearly defined? Will the reader understand what you are expecting to solve?_\n",
    "- _Have you thoroughly discussed how you will attempt to solve the problem?_\n",
    "- _Is an anticipated solution clearly defined? Will the reader understand what results you are looking for?_\n",
    "<!--\n",
    "-->\n",
    "\n",
    "Instead, this project aims to create a multi-class classifier that takes various discrete traffic stop situational values to predict the outcome of a traffic stop, specifically in the state of Connecticut (CT).  Given a driver's age, gender, race, violation, and the county where the traffic stop occurs, can we reliably predict whether the traffic stop will result in a verbal/written warning, a ticket, a summons to appear in court, or an arrest?\n",
    "\n",
    "To accomplish this task, I will parse and process traffic stop data for the state of Connecticut, and feed it into a supervised learning algorithm that I will train and tune to predict these outcomes.  The data comes from the Stanford Open Policing Project (SOPP) at https://openpolicing.stanford.edu/data/. SOPP has collected data for 31 states, but the CT dataset was the cleanest and most consistent.\n",
    "\n",
    "<!-- \n",
    "Direct file link:  https://stacks.stanford.edu/file/druid:py883nd2578/CT-clean.csv.gz\n",
    "-->"
   ]
  },
  {
   "cell_type": "markdown",
   "metadata": {
    "deletable": true,
    "editable": true
   },
   "source": [
    "### Metrics\n",
    "In this section, you will need to clearly define the metrics or calculations you will use to measure performance of a model or result in your project. These calculations and metrics should be justified based on the characteristics of the problem and problem domain. Questions to ask yourself when writing this section:\n",
    "- _Are the metrics you’ve chosen to measure the performance of your models clearly discussed and defined?_\n",
    "- _Have you provided reasonable justification for the metrics chosen based on the problem and solution?_\n",
    "\n",
    "\n",
    "For this project, I will use **accuracy classification score** as my evaluation metric.  According to the sklearn page for the **`accuracy_score`** function[5], in the context of multiclass classification, the function is equivalent to the **`jaccard_similarity_score`** function which calculates the Jaccard index, also known as \"Intersection over Union,\" as illustrated in the following formula:\n",
    "\n",
    "<center>\n",
    "![Intersection over Union formula](./images/IoU.svg)\n",
    "</center>\n",
    "\n",
    "[TODO: Add reference to sklearn accuracy_score page:  http://scikit-learn.org/stable/modules/generated/sklearn.metrics.accuracy_score.html]\n",
    "[TODO: Add reference to wiki source:  https://en.wikipedia.org/wiki/Jaccard_index]\n"
   ]
  },
  {
   "cell_type": "markdown",
   "metadata": {
    "deletable": true,
    "editable": true
   },
   "source": [
    "## II. Analysis\n",
    "_(approx. 2-4 pages)_\n",
    "\n",
    "### Data Exploration & Exploratory Visualization\n",
    "In this section, you will be expected to analyze the data you are using for the problem. This data can either be in the form of a dataset (or datasets), input data (or input files), or even an environment. The type of data should be thoroughly described and, if possible, have basic statistics and information presented (such as discussion of input features or defining characteristics about the input or environment). Any abnormalities or interesting qualities about the data that may need to be addressed have been identified (such as features that need to be transformed or the possibility of outliers). Questions to ask yourself when writing this section:\n",
    "- _If a dataset is present for this problem, have you thoroughly discussed certain features about the dataset? Has a data sample been provided to the reader?_\n",
    "- _If a dataset is present for this problem, are statistics about the dataset calculated and reported? Have any relevant results from this calculation been discussed?_\n",
    "- _If a dataset is **not** present for this problem, has discussion been made about the input space or input data for your problem?_\n",
    "- _Are there any Mabnormalities or characteristics about the input space or dataset that need to be addressed? (categorical variables, missing values, outliers, etc.)_"
   ]
  },
  {
   "cell_type": "markdown",
   "metadata": {
    "deletable": true,
    "editable": true
   },
   "source": [
    "### Exploratory Visualization\n",
    "In this section, you will need to provide some form of visualization that summarizes or extracts a relevant characteristic or feature about the data. The visualization should adequately support the data being used. Discuss why this visualization was chosen and how it is relevant. Questions to ask yourself when writing this section:\n",
    "- _Have you visualized a relevant characteristic or feature about the dataset or input data?_\n",
    "- _Is the visualization thoroughly analyzed and discussed?_\n",
    "- _If a plot is provided, are the axes, title, and datum clearly defined?_"
   ]
  },
  {
   "cell_type": "markdown",
   "metadata": {
    "deletable": true,
    "editable": true
   },
   "source": [
    "In this section, I will break down and decompose the raw data into its basic elements.  In doing so, I will attempt to gain insights that may guide me at different points on this journey to develop an effective and accurate algorithm.  I will start by presenting some sample records, then discuss why certain columns should be dropped, and finally explore characteristics of some columns that may provide predictive power for my classifier.\n"
   ]
  },
  {
   "cell_type": "code",
   "execution_count": 1,
   "metadata": {
    "ExecuteTime": {
     "end_time": "2018-05-10T02:15:07.971069Z",
     "start_time": "2018-05-09T22:15:07.487785-04:00"
    },
    "collapsed": true,
    "deletable": true,
    "editable": true,
    "hide_input": false
   },
   "outputs": [],
   "source": [
    "import humanize\n",
    "import numpy as np\n",
    "import pandas as pd\n",
    "from datetime import datetime\n",
    "\n",
    "%matplotlib inline"
   ]
  },
  {
   "cell_type": "code",
   "execution_count": 2,
   "metadata": {
    "ExecuteTime": {
     "end_time": "2018-05-10T02:15:08.796292Z",
     "start_time": "2018-05-09T22:15:07.972072-04:00"
    },
    "collapsed": false,
    "deletable": true,
    "editable": true
   },
   "outputs": [
    {
     "name": "stderr",
     "output_type": "stream",
     "text": [
      "D:\\AppData\\Local\\conda\\conda\\envs\\kaggle\\lib\\site-packages\\IPython\\core\\interactiveshell.py:2717: DtypeWarning: Columns (22) have mixed types. Specify dtype option on import or set low_memory=False.\n",
      "  interactivity=interactivity, compiler=compiler, result=result)\n"
     ]
    }
   ],
   "source": [
    "df = pd.read_csv('./data/CT-clean.csv', header=0)"
   ]
  },
  {
   "cell_type": "markdown",
   "metadata": {
    "deletable": true,
    "editable": true
   },
   "source": [
    "The raw data is comprised of 318,669 records with 24 columns over a period of 1 year and 5 months from 2013 to 2015.  Here are a few sample rows with the feature columns broken down into three sections due to width restrictions of this document (**Please note**: Different rows have been selected for each section to provide a sense of the complexity involved with different columns in this dataset):"
   ]
  },
  {
   "cell_type": "code",
   "execution_count": 3,
   "metadata": {
    "ExecuteTime": {
     "end_time": "2018-05-10T02:15:08.800275Z",
     "start_time": "2018-05-09T22:15:08.797269-04:00"
    },
    "collapsed": false,
    "deletable": true,
    "editable": true
   },
   "outputs": [
    {
     "data": {
      "text/plain": [
       "(318669, 24)"
      ]
     },
     "execution_count": 3,
     "metadata": {},
     "output_type": "execute_result"
    }
   ],
   "source": [
    "df.shape"
   ]
  },
  {
   "cell_type": "code",
   "execution_count": 4,
   "metadata": {
    "ExecuteTime": {
     "end_time": "2018-05-10T02:15:08.832361Z",
     "start_time": "2018-05-09T22:15:08.802281-04:00"
    },
    "collapsed": false,
    "deletable": true,
    "editable": true
   },
   "outputs": [
    {
     "data": {
      "text/html": [
       "<div>\n",
       "<style scoped>\n",
       "    .dataframe tbody tr th:only-of-type {\n",
       "        vertical-align: middle;\n",
       "    }\n",
       "\n",
       "    .dataframe tbody tr th {\n",
       "        vertical-align: top;\n",
       "    }\n",
       "\n",
       "    .dataframe thead th {\n",
       "        text-align: right;\n",
       "    }\n",
       "</style>\n",
       "<table border=\"1\" class=\"dataframe\">\n",
       "  <thead>\n",
       "    <tr style=\"text-align: right;\">\n",
       "      <th></th>\n",
       "      <th>id</th>\n",
       "      <th>state</th>\n",
       "      <th>stop_date</th>\n",
       "      <th>stop_time</th>\n",
       "      <th>location_raw</th>\n",
       "      <th>county_name</th>\n",
       "      <th>county_fips</th>\n",
       "      <th>fine_grained_location</th>\n",
       "    </tr>\n",
       "  </thead>\n",
       "  <tbody>\n",
       "    <tr>\n",
       "      <th>0</th>\n",
       "      <td>CT-2013-00001</td>\n",
       "      <td>CT</td>\n",
       "      <td>2013-10-01</td>\n",
       "      <td>00:01</td>\n",
       "      <td>westport</td>\n",
       "      <td>Fairfield County</td>\n",
       "      <td>9001.0</td>\n",
       "      <td>00000 N I 95 (WESTPORT, T158) X 18 LL</td>\n",
       "    </tr>\n",
       "    <tr>\n",
       "      <th>1</th>\n",
       "      <td>CT-2013-00002</td>\n",
       "      <td>CT</td>\n",
       "      <td>2013-10-01</td>\n",
       "      <td>00:02</td>\n",
       "      <td>mansfield</td>\n",
       "      <td>Tolland County</td>\n",
       "      <td>9013.0</td>\n",
       "      <td>rte 195 storrs</td>\n",
       "    </tr>\n",
       "    <tr>\n",
       "      <th>2</th>\n",
       "      <td>CT-2013-00003</td>\n",
       "      <td>CT</td>\n",
       "      <td>2013-10-01</td>\n",
       "      <td>00:07</td>\n",
       "      <td>franklin</td>\n",
       "      <td>New London County</td>\n",
       "      <td>9011.0</td>\n",
       "      <td>Rt 32/whippoorwill</td>\n",
       "    </tr>\n",
       "    <tr>\n",
       "      <th>3</th>\n",
       "      <td>CT-2013-00004</td>\n",
       "      <td>CT</td>\n",
       "      <td>2013-10-01</td>\n",
       "      <td>00:10</td>\n",
       "      <td>danbury</td>\n",
       "      <td>Fairfield County</td>\n",
       "      <td>9001.0</td>\n",
       "      <td>I-84</td>\n",
       "    </tr>\n",
       "    <tr>\n",
       "      <th>4</th>\n",
       "      <td>CT-2013-00005</td>\n",
       "      <td>CT</td>\n",
       "      <td>2013-10-01</td>\n",
       "      <td>00:10</td>\n",
       "      <td>east hartford</td>\n",
       "      <td>Hartford County</td>\n",
       "      <td>9003.0</td>\n",
       "      <td>00000 W I 84 (EAST HARTFORD, T043)E.OF XT.56</td>\n",
       "    </tr>\n",
       "  </tbody>\n",
       "</table>\n",
       "</div>"
      ],
      "text/plain": [
       "              id state   stop_date stop_time   location_raw  \\\n",
       "0  CT-2013-00001    CT  2013-10-01     00:01       westport   \n",
       "1  CT-2013-00002    CT  2013-10-01     00:02      mansfield   \n",
       "2  CT-2013-00003    CT  2013-10-01     00:07       franklin   \n",
       "3  CT-2013-00004    CT  2013-10-01     00:10        danbury   \n",
       "4  CT-2013-00005    CT  2013-10-01     00:10  east hartford   \n",
       "\n",
       "         county_name  county_fips  \\\n",
       "0   Fairfield County       9001.0   \n",
       "1     Tolland County       9013.0   \n",
       "2  New London County       9011.0   \n",
       "3   Fairfield County       9001.0   \n",
       "4    Hartford County       9003.0   \n",
       "\n",
       "                          fine_grained_location  \n",
       "0         00000 N I 95 (WESTPORT, T158) X 18 LL  \n",
       "1                                rte 195 storrs  \n",
       "2                            Rt 32/whippoorwill  \n",
       "3                                          I-84  \n",
       "4  00000 W I 84 (EAST HARTFORD, T043)E.OF XT.56  "
      ]
     },
     "execution_count": 4,
     "metadata": {},
     "output_type": "execute_result"
    }
   ],
   "source": [
    "df.iloc[:,:8].head()"
   ]
  },
  {
   "cell_type": "markdown",
   "metadata": {
    "deletable": true,
    "editable": true
   },
   "source": [
    "<br>"
   ]
  },
  {
   "cell_type": "code",
   "execution_count": 5,
   "metadata": {
    "ExecuteTime": {
     "end_time": "2018-05-10T02:15:08.843391Z",
     "start_time": "2018-05-09T22:15:08.833365-04:00"
    },
    "collapsed": false,
    "deletable": true,
    "editable": true
   },
   "outputs": [
    {
     "data": {
      "text/html": [
       "<div>\n",
       "<style scoped>\n",
       "    .dataframe tbody tr th:only-of-type {\n",
       "        vertical-align: middle;\n",
       "    }\n",
       "\n",
       "    .dataframe tbody tr th {\n",
       "        vertical-align: top;\n",
       "    }\n",
       "\n",
       "    .dataframe thead th {\n",
       "        text-align: right;\n",
       "    }\n",
       "</style>\n",
       "<table border=\"1\" class=\"dataframe\">\n",
       "  <thead>\n",
       "    <tr style=\"text-align: right;\">\n",
       "      <th></th>\n",
       "      <th>police_department</th>\n",
       "      <th>driver_gender</th>\n",
       "      <th>driver_age_raw</th>\n",
       "      <th>driver_age</th>\n",
       "      <th>driver_race_raw</th>\n",
       "      <th>driver_race</th>\n",
       "      <th>violation_raw</th>\n",
       "      <th>violation</th>\n",
       "    </tr>\n",
       "  </thead>\n",
       "  <tbody>\n",
       "    <tr>\n",
       "      <th>24500</th>\n",
       "      <td>State Police</td>\n",
       "      <td>M</td>\n",
       "      <td>39</td>\n",
       "      <td>39.0</td>\n",
       "      <td>White</td>\n",
       "      <td>White</td>\n",
       "      <td>Speed Related</td>\n",
       "      <td>Speeding</td>\n",
       "    </tr>\n",
       "    <tr>\n",
       "      <th>24501</th>\n",
       "      <td>State Police</td>\n",
       "      <td>M</td>\n",
       "      <td>62</td>\n",
       "      <td>62.0</td>\n",
       "      <td>White</td>\n",
       "      <td>White</td>\n",
       "      <td>Cell Phone,Other</td>\n",
       "      <td>Cell phone,Other</td>\n",
       "    </tr>\n",
       "    <tr>\n",
       "      <th>24502</th>\n",
       "      <td>State Police</td>\n",
       "      <td>F</td>\n",
       "      <td>31</td>\n",
       "      <td>31.0</td>\n",
       "      <td>White</td>\n",
       "      <td>White</td>\n",
       "      <td>Registration</td>\n",
       "      <td>Registration/plates</td>\n",
       "    </tr>\n",
       "    <tr>\n",
       "      <th>24503</th>\n",
       "      <td>State Police</td>\n",
       "      <td>F</td>\n",
       "      <td>50</td>\n",
       "      <td>50.0</td>\n",
       "      <td>Hispanic</td>\n",
       "      <td>Hispanic</td>\n",
       "      <td>Other</td>\n",
       "      <td>Other</td>\n",
       "    </tr>\n",
       "    <tr>\n",
       "      <th>24504</th>\n",
       "      <td>State Police</td>\n",
       "      <td>M</td>\n",
       "      <td>28</td>\n",
       "      <td>28.0</td>\n",
       "      <td>White</td>\n",
       "      <td>White</td>\n",
       "      <td>Registration</td>\n",
       "      <td>Registration/plates</td>\n",
       "    </tr>\n",
       "  </tbody>\n",
       "</table>\n",
       "</div>"
      ],
      "text/plain": [
       "      police_department driver_gender  driver_age_raw  driver_age  \\\n",
       "24500      State Police             M              39        39.0   \n",
       "24501      State Police             M              62        62.0   \n",
       "24502      State Police             F              31        31.0   \n",
       "24503      State Police             F              50        50.0   \n",
       "24504      State Police             M              28        28.0   \n",
       "\n",
       "      driver_race_raw driver_race     violation_raw            violation  \n",
       "24500           White       White     Speed Related             Speeding  \n",
       "24501           White       White  Cell Phone,Other     Cell phone,Other  \n",
       "24502           White       White      Registration  Registration/plates  \n",
       "24503        Hispanic    Hispanic             Other                Other  \n",
       "24504           White       White      Registration  Registration/plates  "
      ]
     },
     "execution_count": 5,
     "metadata": {},
     "output_type": "execute_result"
    }
   ],
   "source": [
    "df.iloc[24500:24506,8:16].head()"
   ]
  },
  {
   "cell_type": "markdown",
   "metadata": {
    "deletable": true,
    "editable": true
   },
   "source": [
    "<br>"
   ]
  },
  {
   "cell_type": "code",
   "execution_count": 6,
   "metadata": {
    "ExecuteTime": {
     "end_time": "2018-05-10T02:15:08.855423Z",
     "start_time": "2018-05-09T22:15:08.844393-04:00"
    },
    "collapsed": false,
    "deletable": true,
    "editable": true
   },
   "outputs": [
    {
     "data": {
      "text/html": [
       "<div>\n",
       "<style scoped>\n",
       "    .dataframe tbody tr th:only-of-type {\n",
       "        vertical-align: middle;\n",
       "    }\n",
       "\n",
       "    .dataframe tbody tr th {\n",
       "        vertical-align: top;\n",
       "    }\n",
       "\n",
       "    .dataframe thead th {\n",
       "        text-align: right;\n",
       "    }\n",
       "</style>\n",
       "<table border=\"1\" class=\"dataframe\">\n",
       "  <thead>\n",
       "    <tr style=\"text-align: right;\">\n",
       "      <th></th>\n",
       "      <th>search_conducted</th>\n",
       "      <th>search_type_raw</th>\n",
       "      <th>search_type</th>\n",
       "      <th>contraband_found</th>\n",
       "      <th>stop_outcome</th>\n",
       "      <th>is_arrested</th>\n",
       "      <th>officer_id</th>\n",
       "      <th>stop_duration</th>\n",
       "    </tr>\n",
       "  </thead>\n",
       "  <tbody>\n",
       "    <tr>\n",
       "      <th>242</th>\n",
       "      <td>False</td>\n",
       "      <td>NaN</td>\n",
       "      <td>NaN</td>\n",
       "      <td>False</td>\n",
       "      <td>Verbal Warning</td>\n",
       "      <td>False</td>\n",
       "      <td>1000002364</td>\n",
       "      <td>1-15 min</td>\n",
       "    </tr>\n",
       "    <tr>\n",
       "      <th>243</th>\n",
       "      <td>False</td>\n",
       "      <td>NaN</td>\n",
       "      <td>NaN</td>\n",
       "      <td>False</td>\n",
       "      <td>Ticket</td>\n",
       "      <td>False</td>\n",
       "      <td>1000001904</td>\n",
       "      <td>16-30 min</td>\n",
       "    </tr>\n",
       "    <tr>\n",
       "      <th>244</th>\n",
       "      <td>False</td>\n",
       "      <td>NaN</td>\n",
       "      <td>NaN</td>\n",
       "      <td>False</td>\n",
       "      <td>Summons</td>\n",
       "      <td>False</td>\n",
       "      <td>41354688</td>\n",
       "      <td>1-15 min</td>\n",
       "    </tr>\n",
       "    <tr>\n",
       "      <th>245</th>\n",
       "      <td>False</td>\n",
       "      <td>NaN</td>\n",
       "      <td>NaN</td>\n",
       "      <td>False</td>\n",
       "      <td>Written Warning</td>\n",
       "      <td>False</td>\n",
       "      <td>348145142</td>\n",
       "      <td>1-15 min</td>\n",
       "    </tr>\n",
       "    <tr>\n",
       "      <th>246</th>\n",
       "      <td>False</td>\n",
       "      <td>NaN</td>\n",
       "      <td>NaN</td>\n",
       "      <td>False</td>\n",
       "      <td>Ticket</td>\n",
       "      <td>False</td>\n",
       "      <td>1000001914</td>\n",
       "      <td>1-15 min</td>\n",
       "    </tr>\n",
       "  </tbody>\n",
       "</table>\n",
       "</div>"
      ],
      "text/plain": [
       "     search_conducted search_type_raw search_type  contraband_found  \\\n",
       "242             False             NaN         NaN             False   \n",
       "243             False             NaN         NaN             False   \n",
       "244             False             NaN         NaN             False   \n",
       "245             False             NaN         NaN             False   \n",
       "246             False             NaN         NaN             False   \n",
       "\n",
       "        stop_outcome is_arrested  officer_id stop_duration  \n",
       "242   Verbal Warning       False  1000002364      1-15 min  \n",
       "243           Ticket       False  1000001904     16-30 min  \n",
       "244          Summons       False    41354688      1-15 min  \n",
       "245  Written Warning       False   348145142      1-15 min  \n",
       "246           Ticket       False  1000001914      1-15 min  "
      ]
     },
     "execution_count": 6,
     "metadata": {},
     "output_type": "execute_result"
    }
   ],
   "source": [
    "df.iloc[242:248,16:24].head()"
   ]
  },
  {
   "cell_type": "markdown",
   "metadata": {
    "deletable": true,
    "editable": true
   },
   "source": [
    "The dataset is primarily comprised of discrete categorical values with only three columns that contain numerical data, namely `driver_age`, `driver_age_raw`, and `county_fips`."
   ]
  },
  {
   "cell_type": "code",
   "execution_count": 7,
   "metadata": {
    "ExecuteTime": {
     "end_time": "2018-05-10T02:15:09.087071Z",
     "start_time": "2018-05-09T22:15:08.856426-04:00"
    },
    "collapsed": false,
    "deletable": true,
    "editable": true
   },
   "outputs": [
    {
     "name": "stdout",
     "output_type": "stream",
     "text": [
      "<class 'pandas.core.frame.DataFrame'>\n",
      "RangeIndex: 318669 entries, 0 to 318668\n",
      "Data columns (total 24 columns):\n",
      "id                       318669 non-null object\n",
      "state                    318669 non-null object\n",
      "stop_date                318669 non-null object\n",
      "stop_time                318447 non-null object\n",
      "location_raw             318628 non-null object\n",
      "county_name              318627 non-null object\n",
      "county_fips              318627 non-null float64\n",
      "fine_grained_location    317006 non-null object\n",
      "police_department        318669 non-null object\n",
      "driver_gender            318669 non-null object\n",
      "driver_age_raw           318669 non-null int64\n",
      "driver_age               318395 non-null float64\n",
      "driver_race_raw          318669 non-null object\n",
      "driver_race              318669 non-null object\n",
      "violation_raw            318669 non-null object\n",
      "violation                318669 non-null object\n",
      "search_conducted         318669 non-null bool\n",
      "search_type_raw          4846 non-null object\n",
      "search_type              4846 non-null object\n",
      "contraband_found         318669 non-null bool\n",
      "stop_outcome             313313 non-null object\n",
      "is_arrested              313313 non-null object\n",
      "officer_id               318669 non-null object\n",
      "stop_duration            318669 non-null object\n",
      "dtypes: bool(2), float64(2), int64(1), object(19)\n",
      "memory usage: 54.1+ MB\n"
     ]
    }
   ],
   "source": [
    "df.info()"
   ]
  },
  {
   "cell_type": "markdown",
   "metadata": {
    "deletable": true,
    "editable": true
   },
   "source": [
    "However, **`county_fips`** is unlikely to yield any predictive benefit numerically as the values are simple label identifiers for values in the **`county_name`** column.  The **`county_fips`** column can be dropped, and the **`county_name`** column will be one-hot encoded.\n",
    "\n",
    "Also, the driver's age is more characteristic of a discrete categorical value rather than a continuous value.  Whether a driver is 24.5-year-old will not likely increase or decrease their chances of getting arrested during a traffic stop, compared to a driver who is 26.8-year-old.  However, that 24.5-year-old driver may have a higher chance than a 36- or 46-year-old.\n",
    "\n",
    "The **`driver_age`** column can be dropped as it duplicates information in the **`driver_age_raw`** column.  **`driver_age`** also has missing values, as the following table shows:"
   ]
  },
  {
   "cell_type": "code",
   "execution_count": 8,
   "metadata": {
    "ExecuteTime": {
     "end_time": "2018-05-10T02:15:09.300666Z",
     "start_time": "2018-05-09T22:15:09.088074-04:00"
    },
    "collapsed": false,
    "deletable": true,
    "editable": true
   },
   "outputs": [
    {
     "data": {
      "text/html": [
       "<div>\n",
       "<style scoped>\n",
       "    .dataframe tbody tr th:only-of-type {\n",
       "        vertical-align: middle;\n",
       "    }\n",
       "\n",
       "    .dataframe tbody tr th {\n",
       "        vertical-align: top;\n",
       "    }\n",
       "\n",
       "    .dataframe thead th {\n",
       "        text-align: right;\n",
       "    }\n",
       "</style>\n",
       "<table border=\"1\" class=\"dataframe\">\n",
       "  <thead>\n",
       "    <tr style=\"text-align: right;\">\n",
       "      <th></th>\n",
       "      <th>null values count</th>\n",
       "    </tr>\n",
       "  </thead>\n",
       "  <tbody>\n",
       "    <tr>\n",
       "      <th>id</th>\n",
       "      <td>0</td>\n",
       "    </tr>\n",
       "    <tr>\n",
       "      <th>state</th>\n",
       "      <td>0</td>\n",
       "    </tr>\n",
       "    <tr>\n",
       "      <th>stop_date</th>\n",
       "      <td>0</td>\n",
       "    </tr>\n",
       "    <tr>\n",
       "      <th>stop_time</th>\n",
       "      <td>222</td>\n",
       "    </tr>\n",
       "    <tr>\n",
       "      <th>location_raw</th>\n",
       "      <td>41</td>\n",
       "    </tr>\n",
       "    <tr>\n",
       "      <th>county_name</th>\n",
       "      <td>42</td>\n",
       "    </tr>\n",
       "    <tr>\n",
       "      <th>county_fips</th>\n",
       "      <td>42</td>\n",
       "    </tr>\n",
       "    <tr>\n",
       "      <th>fine_grained_location</th>\n",
       "      <td>1663</td>\n",
       "    </tr>\n",
       "    <tr>\n",
       "      <th>police_department</th>\n",
       "      <td>0</td>\n",
       "    </tr>\n",
       "    <tr>\n",
       "      <th>driver_gender</th>\n",
       "      <td>0</td>\n",
       "    </tr>\n",
       "    <tr>\n",
       "      <th>driver_age_raw</th>\n",
       "      <td>0</td>\n",
       "    </tr>\n",
       "    <tr>\n",
       "      <th>driver_age</th>\n",
       "      <td>274</td>\n",
       "    </tr>\n",
       "    <tr>\n",
       "      <th>driver_race_raw</th>\n",
       "      <td>0</td>\n",
       "    </tr>\n",
       "    <tr>\n",
       "      <th>driver_race</th>\n",
       "      <td>0</td>\n",
       "    </tr>\n",
       "    <tr>\n",
       "      <th>violation_raw</th>\n",
       "      <td>0</td>\n",
       "    </tr>\n",
       "    <tr>\n",
       "      <th>violation</th>\n",
       "      <td>0</td>\n",
       "    </tr>\n",
       "    <tr>\n",
       "      <th>search_conducted</th>\n",
       "      <td>0</td>\n",
       "    </tr>\n",
       "    <tr>\n",
       "      <th>search_type_raw</th>\n",
       "      <td>313823</td>\n",
       "    </tr>\n",
       "    <tr>\n",
       "      <th>search_type</th>\n",
       "      <td>313823</td>\n",
       "    </tr>\n",
       "    <tr>\n",
       "      <th>contraband_found</th>\n",
       "      <td>0</td>\n",
       "    </tr>\n",
       "    <tr>\n",
       "      <th>stop_outcome</th>\n",
       "      <td>5356</td>\n",
       "    </tr>\n",
       "    <tr>\n",
       "      <th>is_arrested</th>\n",
       "      <td>5356</td>\n",
       "    </tr>\n",
       "    <tr>\n",
       "      <th>officer_id</th>\n",
       "      <td>0</td>\n",
       "    </tr>\n",
       "    <tr>\n",
       "      <th>stop_duration</th>\n",
       "      <td>0</td>\n",
       "    </tr>\n",
       "  </tbody>\n",
       "</table>\n",
       "</div>"
      ],
      "text/plain": [
       "                       null values count\n",
       "id                                     0\n",
       "state                                  0\n",
       "stop_date                              0\n",
       "stop_time                            222\n",
       "location_raw                          41\n",
       "county_name                           42\n",
       "county_fips                           42\n",
       "fine_grained_location               1663\n",
       "police_department                      0\n",
       "driver_gender                          0\n",
       "driver_age_raw                         0\n",
       "driver_age                           274\n",
       "driver_race_raw                        0\n",
       "driver_race                            0\n",
       "violation_raw                          0\n",
       "violation                              0\n",
       "search_conducted                       0\n",
       "search_type_raw                   313823\n",
       "search_type                       313823\n",
       "contraband_found                       0\n",
       "stop_outcome                        5356\n",
       "is_arrested                         5356\n",
       "officer_id                             0\n",
       "stop_duration                          0"
      ]
     },
     "execution_count": 8,
     "metadata": {},
     "output_type": "execute_result"
    }
   ],
   "source": [
    "df.isnull().sum().to_frame('null values count')"
   ]
  },
  {
   "cell_type": "markdown",
   "metadata": {
    "deletable": true,
    "editable": true
   },
   "source": [
    "One glaring observation with this table is that the **`search_type_raw`** and **`search_type`** columns mostly contain null values and should be dropped.  These fields provide supplementary information when a search is conducted, with both columns containing one of the following values:  \"Consent\", \"Other\", \"Inventory\", or `nan`.  The **`search_conducted`** boolean column by itself should provide an adequate signal about a probable outcome when a car search is involved.\n",
    "\n",
    "The next two columns that have the highest number of null values are **`stop_outcome`** and **`is_arrested`**.  The **`is_arrested`** column should be dropped, because it duplicates information that we can get from the **`stop_outcome`** field, where \"Arrest\" is one of its values.  Also, the rows that contain null values for **`stop_outcome`** should be dropped as the main objective of this project is to predict the outcome of a traffic stop.  It would not make sense to replace the null values in this column with a median or average value.\n",
    "\n",
    "There are a few other columns that make sense to drop as well:\n",
    "- **`id`** column values, like \"CT-2013-00001\", provide no predictive value.\n",
    "- **`state`** and **`police_department`** columns only have one value each, \"CT\" and \"State Police\" respectively. \n",
    "- [TODO:  Keep?] **`location_raw`** contains the specific city in which a traffic stop occurred, but this data may be too granular, and better insight would be gained by using the **`county_name`** instead.\n",
    "- **`fine_grained_location`** values are inconsistent and non-standardized, as the values appear to be simple notes that the officer took about the spot where the traffic stop was conducted.\n",
    "- **`driver_race_raw`** column duplicates data in the **`driver_race`** column.\n",
    "- [TODO:  Keep?] **`officer_id`** has 2,105 unique values and might be too granular, making overfitting likely, so it will be dropped.\n",
    "\n",
    "In the following sub-sections I will delve into the columns that will comprise the input features."
   ]
  },
  {
   "cell_type": "code",
   "execution_count": 9,
   "metadata": {
    "ExecuteTime": {
     "end_time": "2018-05-10T02:15:09.336735Z",
     "start_time": "2018-05-09T22:15:09.301642-04:00"
    },
    "collapsed": true,
    "deletable": true,
    "editable": true
   },
   "outputs": [],
   "source": [
    "# Drop columns that clearly should be dropped\n",
    "\n",
    "drop_cols = [\n",
    "    'county_fips',\n",
    "#     'driver_gender',\n",
    "    'driver_age',\n",
    "    'driver_race_raw',\n",
    "    'fine_grained_location',\n",
    "    'id',\n",
    "    'is_arrested',\n",
    "#     'location_raw',\n",
    "#     'county_name',\n",
    "    'officer_id',\n",
    "    'police_department',\n",
    "    'search_type_raw',\n",
    "    'search_type',\n",
    "    'state',\n",
    "#     'stop_date',\n",
    "#     'stop_time',\n",
    "]\n",
    "\n",
    "df.drop(drop_cols, axis=1, inplace=True)"
   ]
  },
  {
   "cell_type": "code",
   "execution_count": 10,
   "metadata": {
    "ExecuteTime": {
     "end_time": "2018-05-10T02:15:09.343755Z",
     "start_time": "2018-05-09T22:15:09.337738-04:00"
    },
    "collapsed": false,
    "deletable": true,
    "editable": true
   },
   "outputs": [
    {
     "data": {
      "text/plain": [
       "(318669, 13)"
      ]
     },
     "execution_count": 10,
     "metadata": {},
     "output_type": "execute_result"
    }
   ],
   "source": [
    "df.shape"
   ]
  },
  {
   "cell_type": "code",
   "execution_count": 11,
   "metadata": {
    "ExecuteTime": {
     "end_time": "2018-05-10T02:15:09.470120Z",
     "start_time": "2018-05-09T22:15:09.344756-04:00"
    },
    "collapsed": false,
    "deletable": true,
    "editable": true
   },
   "outputs": [
    {
     "data": {
      "text/plain": [
       "stop_date              0\n",
       "stop_time            222\n",
       "location_raw          41\n",
       "county_name           42\n",
       "driver_gender          0\n",
       "driver_age_raw         0\n",
       "driver_race            0\n",
       "violation_raw          0\n",
       "violation              0\n",
       "search_conducted       0\n",
       "contraband_found       0\n",
       "stop_outcome        5356\n",
       "stop_duration          0\n",
       "dtype: int64"
      ]
     },
     "execution_count": 11,
     "metadata": {},
     "output_type": "execute_result"
    }
   ],
   "source": [
    "df.isnull().sum()"
   ]
  },
  {
   "cell_type": "code",
   "execution_count": 12,
   "metadata": {
    "ExecuteTime": {
     "end_time": "2018-05-10T02:15:09.529248Z",
     "start_time": "2018-05-09T22:15:09.471092-04:00"
    },
    "collapsed": true,
    "deletable": true,
    "editable": true
   },
   "outputs": [],
   "source": [
    "# Drop empty stop_outcome and county_name/county_fips rows\n",
    "\n",
    "df.dropna(subset=['stop_outcome', 'county_name'], axis=0, inplace=True)"
   ]
  },
  {
   "cell_type": "code",
   "execution_count": 13,
   "metadata": {
    "ExecuteTime": {
     "end_time": "2018-05-10T02:15:09.534261Z",
     "start_time": "2018-05-09T22:15:09.530251-04:00"
    },
    "collapsed": false,
    "deletable": true,
    "editable": true
   },
   "outputs": [
    {
     "data": {
      "text/plain": [
       "(313274, 13)"
      ]
     },
     "execution_count": 13,
     "metadata": {},
     "output_type": "execute_result"
    }
   ],
   "source": [
    "df.shape"
   ]
  },
  {
   "cell_type": "code",
   "execution_count": 14,
   "metadata": {
    "ExecuteTime": {
     "end_time": "2018-05-10T02:15:09.657616Z",
     "start_time": "2018-05-09T22:15:09.535263-04:00"
    },
    "collapsed": false,
    "deletable": true,
    "editable": true
   },
   "outputs": [
    {
     "data": {
      "text/plain": [
       "stop_date             0\n",
       "stop_time           220\n",
       "location_raw          0\n",
       "county_name           0\n",
       "driver_gender         0\n",
       "driver_age_raw        0\n",
       "driver_race           0\n",
       "violation_raw         0\n",
       "violation             0\n",
       "search_conducted      0\n",
       "contraband_found      0\n",
       "stop_outcome          0\n",
       "stop_duration         0\n",
       "dtype: int64"
      ]
     },
     "execution_count": 14,
     "metadata": {},
     "output_type": "execute_result"
    }
   ],
   "source": [
    "df.isnull().sum()"
   ]
  },
  {
   "cell_type": "markdown",
   "metadata": {
    "deletable": true,
    "editable": true
   },
   "source": [
    "#### Traffic Stop Outcome Breakdown"
   ]
  },
  {
   "cell_type": "markdown",
   "metadata": {
    "ExecuteTime": {
     "end_time": "2018-05-02T19:01:10.455247Z",
     "start_time": "2018-05-02T15:01:10.450234-04:00"
    },
    "deletable": true,
    "editable": true
   },
   "source": [
    "The values from the **`stop_outcome`** column serve as the output labels for my classifier.  Graphing the value distribution for this column makes it clear that the data set is **highly unbalanced**.  A vast majority of traffic stops result in the officer issuing a \"`Ticket`\" in 69.89% of the cases.  \"`Arrest`\"s comprise only 2.33% of traffic stops.  Some fortunate drivers are issued warnings, verbal and/or written, 23.9% of the time, while a few unfortunate drivers receive a \"`Summon`\"s to appear in court in 3.9% of traffic stops."
   ]
  },
  {
   "cell_type": "code",
   "execution_count": 15,
   "metadata": {
    "ExecuteTime": {
     "end_time": "2018-05-10T02:15:09.840075Z",
     "start_time": "2018-05-09T22:15:09.658591-04:00"
    },
    "collapsed": false,
    "deletable": true,
    "editable": true
   },
   "outputs": [
    {
     "data": {
      "image/png": "[encoded data removed]",
      "text/plain": [
       "<matplotlib.figure.Figure at 0x208b4a25f60>"
      ]
     },
     "metadata": {},
     "output_type": "display_data"
    }
   ],
   "source": [
    "outcome_breakdown = df['stop_outcome'].value_counts(normalize=True).mul(100).plot.bar(figsize=(15, 3), table=True)\n",
    "outcome_breakdown.axes.get_xaxis().set_visible(False)\n",
    "outcome_breakdown.axes.set_ylabel('%')\n",
    "outcome_breakdown.tables[0].scale(1, 2)"
   ]
  },
  {
   "cell_type": "markdown",
   "metadata": {
    "deletable": true,
    "editable": true
   },
   "source": [
    "#### Proportion of Searches Conducted Relative to All Stops\n",
    "\n",
    "One interesting data point that CT officers collect is whether a search was conducted during the traffic stop, as captured in the **`search_conducted`** column.  When true, these traffic stops should correlate with a higher number of outcomes resulting in an \"Arrest\"."
   ]
  },
  {
   "cell_type": "code",
   "execution_count": 16,
   "metadata": {
    "ExecuteTime": {
     "end_time": "2018-05-10T02:15:09.940368Z",
     "start_time": "2018-05-09T22:15:09.841078-04:00"
    },
    "collapsed": false,
    "deletable": true,
    "editable": true
   },
   "outputs": [
    {
     "data": {
      "image/png": "[encoded data removed]",
      "text/plain": [
       "<matplotlib.figure.Figure at 0x208a3016048>"
      ]
     },
     "metadata": {},
     "output_type": "display_data"
    }
   ],
   "source": [
    "searches = df['search_conducted'].value_counts(normalize=True).mul(100).plot.bar(figsize=(8, 2), table=True)\n",
    "searches.axes.get_xaxis().set_visible(False)\n",
    "searches.axes.set_ylabel('%')\n",
    "searches.tables[0].scale(1, 2)"
   ]
  },
  {
   "cell_type": "markdown",
   "metadata": {
    "deletable": true,
    "editable": true
   },
   "source": [
    "#### Outcomes When Vehicle Searched\n",
    "\n",
    "Indeed, the proportion of Arrests rises to 27.69% of traffic stops when a search is conducted."
   ]
  },
  {
   "cell_type": "code",
   "execution_count": 17,
   "metadata": {
    "ExecuteTime": {
     "end_time": "2018-05-10T02:15:10.082747Z",
     "start_time": "2018-05-09T22:15:09.941345-04:00"
    },
    "collapsed": false,
    "deletable": true,
    "editable": true
   },
   "outputs": [
    {
     "data": {
      "image/png": "[encoded data removed]",
      "text/plain": [
       "<matplotlib.figure.Figure at 0x208b4717198>"
      ]
     },
     "metadata": {},
     "output_type": "display_data"
    }
   ],
   "source": [
    "outcome_when_searched = df[df['search_conducted'] == True]['stop_outcome'].value_counts(normalize=True).mul(100).plot.bar(figsize=(10, 5), table=True)\n",
    "outcome_when_searched.axes.get_xaxis().set_visible(False)\n",
    "outcome_when_searched.axes.set_ylabel('%')\n",
    "outcome_when_searched.tables[0].scale(1, 2)"
   ]
  },
  {
   "cell_type": "markdown",
   "metadata": {
    "ExecuteTime": {
     "end_time": "2018-05-02T19:22:18.545967Z",
     "start_time": "2018-05-02T15:22:18.541957-04:00"
    },
    "deletable": true,
    "editable": true
   },
   "source": [
    "Still, searches only comprise 1.7% of all traffic stops, so the fact remains that the data set is highly unbalanced."
   ]
  },
  {
   "cell_type": "markdown",
   "metadata": {
    "deletable": true,
    "editable": true
   },
   "source": [
    "#### Outcome by `stop_duration`\n",
    "\n",
    "Another interesting data point is the duration of the traffic stop in the **`stop_duration`** column, which may provide another predictive signal about the likely outcome.  Logically speaking, the longer the duration of a traffic stop, the more likely the outcome will be an \"Arrest\", as the officer may need to ask more questions, search the vehicle, conduct a sobriety test, and perform other duties that take time and extend the duration of the traffic stop.  "
   ]
  },
  {
   "cell_type": "code",
   "execution_count": 18,
   "metadata": {
    "ExecuteTime": {
     "end_time": "2018-05-10T02:15:10.085728Z",
     "start_time": "2018-05-09T22:15:10.083724-04:00"
    },
    "collapsed": true,
    "deletable": true,
    "editable": true
   },
   "outputs": [],
   "source": [
    "# duration_outcomes = df.groupby(['stop_duration', 'stop_outcome'])\n",
    "# duration_outcomes.agg({'id': 'count'}).groupby(level=0).apply(lambda x: 100 * x / float(x.sum())).rename(columns={'id': '%'})"
   ]
  },
  {
   "cell_type": "code",
   "execution_count": 19,
   "metadata": {
    "ExecuteTime": {
     "end_time": "2018-05-10T02:15:10.277237Z",
     "start_time": "2018-05-09T22:15:10.086732-04:00"
    },
    "collapsed": false,
    "deletable": true,
    "editable": true
   },
   "outputs": [
    {
     "data": {
      "text/plain": [
       "<matplotlib.text.Text at 0x208b47be9b0>"
      ]
     },
     "execution_count": 19,
     "metadata": {},
     "output_type": "execute_result"
    },
    {
     "data": {
      "image/png": "[encoded data removed]",
      "text/plain": [
       "<matplotlib.figure.Figure at 0x208b467bda0>"
      ]
     },
     "metadata": {},
     "output_type": "display_data"
    }
   ],
   "source": [
    "duration_dummies = pd.get_dummies(df.stop_duration)\n",
    "outcomes_by_duration = pd.concat([df.stop_outcome, duration_dummies], axis=1)\n",
    "outcomes_by_duration_grouped = outcomes_by_duration.groupby(['stop_outcome']).agg({x: 'sum' for x in duration_dummies.columns.values}).apply(lambda x: 100 * x / float(x.sum())).T\n",
    "ax = outcomes_by_duration_grouped.plot.barh(figsize=(15, 5), width=0.9)\n",
    "ax.set_xlabel('%')\n",
    "ax.set_ylabel('stop_duration')"
   ]
  },
  {
   "cell_type": "markdown",
   "metadata": {
    "deletable": true,
    "editable": true
   },
   "source": [
    "As suspected, the chances of a traffic stop resulting in an `Arrest`, as illustrated by the blue bars, is much higher when the stop lasts longer than 30 minutes at 35.64% than 1.01% when the stop lasts 15 minutes or less."
   ]
  },
  {
   "cell_type": "markdown",
   "metadata": {
    "deletable": true,
    "editable": true
   },
   "source": [
    "#### Race Breakdown\n",
    "\n",
    "Another potential signal for the outcome of a traffic stop is race.\n",
    "\n"
   ]
  },
  {
   "cell_type": "code",
   "execution_count": 20,
   "metadata": {
    "ExecuteTime": {
     "end_time": "2018-05-10T02:15:10.461756Z",
     "start_time": "2018-05-09T22:15:10.278241-04:00"
    },
    "collapsed": false,
    "deletable": true,
    "editable": true
   },
   "outputs": [
    {
     "data": {
      "image/png": "[encoded data removed]",
      "text/plain": [
       "<matplotlib.figure.Figure at 0x208b4713710>"
      ]
     },
     "metadata": {},
     "output_type": "display_data"
    }
   ],
   "source": [
    "stops_by_race = df['driver_race'].value_counts(normalize=True).mul(100).plot.bar(figsize=(15, 4), table=True)\n",
    "stops_by_race.axes.get_xaxis().set_visible(False)\n",
    "stops_by_race.axes.set_ylabel('%')\n",
    "stops_by_race.tables[0].scale(1, 2)"
   ]
  },
  {
   "cell_type": "markdown",
   "metadata": {
    "deletable": true,
    "editable": true
   },
   "source": [
    "The dataset shows that the majority (76%) of traffic stops involved \"`White`\"s, with \"`Black`\"s at 11.75%, \"`Hispanic`\"s at 9.78%, \"`Asian`\"s at 1.87%, and a catch-all value of \"`Other`\" at 0.55%.  This approximately matches the 2010 census figures for Connecticut [**TODO**: reference?  https://www.census.gov/2010census/popmap/ipmtext.php?fl=09], where the racial composition is 77.57% \"`White`\", 10.14% \"`Black`\", 13.4% \"`Hispanic`\", 3.79% \"`Asian`\", and roughly 5.55% \"`Other`\".  For some reason, Hispanics are separated out by Ethnicity, so the numbers I provided have some overlap and sum to more than 100%."
   ]
  },
  {
   "cell_type": "markdown",
   "metadata": {
    "deletable": true,
    "editable": true
   },
   "source": [
    "![CT 2010 Census Data](./images/CT-2010-census-data.PNG)"
   ]
  },
  {
   "cell_type": "markdown",
   "metadata": {
    "deletable": true,
    "editable": true
   },
   "source": [
    "One interesting note about the \"Other\" value is that in the **`driver_race_raw`** column of the dataset, this value was denoted as \"Native American\" and was subsequently replaced with \"Other\" in the **`driver_race`** column."
   ]
  },
  {
   "cell_type": "markdown",
   "metadata": {
    "deletable": true,
    "editable": true
   },
   "source": [
    "#### Arrests by Race by County\n",
    "\n",
    "Looking for further insights, I thought it might be interesting to analyze racial breakdown of traffic stops by county."
   ]
  },
  {
   "cell_type": "code",
   "execution_count": 21,
   "metadata": {
    "ExecuteTime": {
     "end_time": "2018-05-10T02:15:10.465763Z",
     "start_time": "2018-05-09T22:15:10.462731-04:00"
    },
    "collapsed": true,
    "deletable": true,
    "editable": true
   },
   "outputs": [],
   "source": [
    "# df.loc[df['stop_outcome'] == 'Arrest'].groupby(['county_name', 'driver_race']).agg({'id': 'count'}).groupby(level=0).apply(lambda x: 100 * x / float(x.sum())).rename(columns={'id': '%'})"
   ]
  },
  {
   "cell_type": "code",
   "execution_count": 22,
   "metadata": {
    "ExecuteTime": {
     "end_time": "2018-05-10T02:15:10.514869Z",
     "start_time": "2018-05-09T22:15:10.466741-04:00"
    },
    "collapsed": false,
    "deletable": true,
    "editable": true
   },
   "outputs": [
    {
     "data": {
      "text/html": [
       "<div>\n",
       "<style scoped>\n",
       "    .dataframe tbody tr th:only-of-type {\n",
       "        vertical-align: middle;\n",
       "    }\n",
       "\n",
       "    .dataframe tbody tr th {\n",
       "        vertical-align: top;\n",
       "    }\n",
       "\n",
       "    .dataframe thead th {\n",
       "        text-align: right;\n",
       "    }\n",
       "</style>\n",
       "<table border=\"1\" class=\"dataframe\">\n",
       "  <thead>\n",
       "    <tr style=\"text-align: right;\">\n",
       "      <th>driver_race</th>\n",
       "      <th>Asian</th>\n",
       "      <th>Black</th>\n",
       "      <th>Hispanic</th>\n",
       "      <th>Other</th>\n",
       "      <th>White</th>\n",
       "    </tr>\n",
       "  </thead>\n",
       "  <tbody>\n",
       "    <tr>\n",
       "      <th>Fairfield County</th>\n",
       "      <td>1.007049</td>\n",
       "      <td>16.918429</td>\n",
       "      <td>28.700906</td>\n",
       "      <td>0.604230</td>\n",
       "      <td>52.769386</td>\n",
       "    </tr>\n",
       "    <tr>\n",
       "      <th>New Haven County</th>\n",
       "      <td>0.922819</td>\n",
       "      <td>17.533557</td>\n",
       "      <td>22.315436</td>\n",
       "      <td>0.251678</td>\n",
       "      <td>58.976510</td>\n",
       "    </tr>\n",
       "    <tr>\n",
       "      <th>New London County</th>\n",
       "      <td>1.277235</td>\n",
       "      <td>8.715252</td>\n",
       "      <td>9.541698</td>\n",
       "      <td>0.450789</td>\n",
       "      <td>80.015026</td>\n",
       "    </tr>\n",
       "    <tr>\n",
       "      <th>Tolland County</th>\n",
       "      <td>1.121076</td>\n",
       "      <td>7.735426</td>\n",
       "      <td>9.865471</td>\n",
       "      <td>0.112108</td>\n",
       "      <td>81.165919</td>\n",
       "    </tr>\n",
       "    <tr>\n",
       "      <th>Windham County</th>\n",
       "      <td>0.698324</td>\n",
       "      <td>4.748603</td>\n",
       "      <td>17.318436</td>\n",
       "      <td>0.418994</td>\n",
       "      <td>76.815642</td>\n",
       "    </tr>\n",
       "    <tr>\n",
       "      <th>Middlesex County</th>\n",
       "      <td>1.206897</td>\n",
       "      <td>12.586207</td>\n",
       "      <td>13.103448</td>\n",
       "      <td>0.000000</td>\n",
       "      <td>73.103448</td>\n",
       "    </tr>\n",
       "    <tr>\n",
       "      <th>Litchfield County</th>\n",
       "      <td>1.140065</td>\n",
       "      <td>3.094463</td>\n",
       "      <td>10.097720</td>\n",
       "      <td>0.325733</td>\n",
       "      <td>85.342020</td>\n",
       "    </tr>\n",
       "    <tr>\n",
       "      <th>Hartford County</th>\n",
       "      <td>1.319797</td>\n",
       "      <td>23.553299</td>\n",
       "      <td>19.289340</td>\n",
       "      <td>0.507614</td>\n",
       "      <td>55.329949</td>\n",
       "    </tr>\n",
       "  </tbody>\n",
       "</table>\n",
       "</div>"
      ],
      "text/plain": [
       "driver_race           Asian      Black   Hispanic     Other      White\n",
       "Fairfield County   1.007049  16.918429  28.700906  0.604230  52.769386\n",
       "New Haven County   0.922819  17.533557  22.315436  0.251678  58.976510\n",
       "New London County  1.277235   8.715252   9.541698  0.450789  80.015026\n",
       "Tolland County     1.121076   7.735426   9.865471  0.112108  81.165919\n",
       "Windham County     0.698324   4.748603  17.318436  0.418994  76.815642\n",
       "Middlesex County   1.206897  12.586207  13.103448  0.000000  73.103448\n",
       "Litchfield County  1.140065   3.094463  10.097720  0.325733  85.342020\n",
       "Hartford County    1.319797  23.553299  19.289340  0.507614  55.329949"
      ]
     },
     "execution_count": 22,
     "metadata": {},
     "output_type": "execute_result"
    }
   ],
   "source": [
    "arrested = df.loc[df['stop_outcome'] == 'Arrest']\n",
    "arrested_dummies = pd.get_dummies(arrested.county_name)\n",
    "arrested_races_by_county = pd.concat([arrested.driver_race, arrested_dummies], axis=1)\n",
    "county_races = arrested_races_by_county.groupby(['driver_race']).agg({x: 'sum' for x in arrested_dummies.columns.values}).apply(lambda x: 100 * x /float(x.sum())).T\n",
    "county_races\n",
    "# # races_by_county\n",
    "# county_graph = county_races.plot.barh(figsize=(15, 8), width=0.9)\n",
    "# county_graph.axes.set_xlabel('%')\n",
    "\n",
    "#[TODO: Specify the value unit here]"
   ]
  },
  {
   "cell_type": "markdown",
   "metadata": {
    "deletable": true,
    "editable": true
   },
   "source": [
    "While the racial breakdown of traffic stops for the state overall are, for the most part, consistent with 2010 census data, these figures suggest that there are certain counties where Blacks and Hispanics are pulled over disproportionately higher than their composition in the 2010 census, namely Fairfield, Hartford, and New Haven counties."
   ]
  },
  {
   "cell_type": "markdown",
   "metadata": {
    "deletable": true,
    "editable": true
   },
   "source": [
    "#### Traffic Stops by County"
   ]
  },
  {
   "cell_type": "markdown",
   "metadata": {
    "deletable": true,
    "editable": true
   },
   "source": [
    "[TODO] Make a comment here"
   ]
  },
  {
   "cell_type": "code",
   "execution_count": 23,
   "metadata": {
    "ExecuteTime": {
     "end_time": "2018-05-10T02:15:10.728437Z",
     "start_time": "2018-05-09T22:15:10.515872-04:00"
    },
    "collapsed": false,
    "deletable": true,
    "editable": true
   },
   "outputs": [
    {
     "data": {
      "image/png": "[encoded data removed]",
      "text/plain": [
       "<matplotlib.figure.Figure at 0x208b479a7f0>"
      ]
     },
     "metadata": {},
     "output_type": "display_data"
    }
   ],
   "source": [
    "outcomes_by_county = df['county_name'].value_counts(normalize=True).mul(100).plot.bar(figsize=(15, 5), table=True)\n",
    "outcomes_by_county.axes.get_xaxis().set_visible(False)\n",
    "outcomes_by_county.axes.set_ylabel('%')\n",
    "outcomes_by_county.tables[0].scale(1, 2)"
   ]
  },
  {
   "cell_type": "markdown",
   "metadata": {
    "deletable": true,
    "editable": true
   },
   "source": [
    "#### Outcomes by Violations\n",
    "\n",
    "Two columns, **`violation`** and **`violations_raw`**, provide information about the related violation(s) involved in a traffic stop outcome.  Unfortunately, these columns suffer from repetitive values and inconsistent data entry issues.  For example, some values are phrased differently yet have the same meaning.  I will need to settle on a standard value for these duplicate values and perform one-hot encoding for each class value."
   ]
  },
  {
   "cell_type": "code",
   "execution_count": 24,
   "metadata": {
    "ExecuteTime": {
     "end_time": "2018-05-10T02:15:56.686726Z",
     "start_time": "2018-05-09T22:15:10.729440-04:00"
    },
    "collapsed": true,
    "deletable": true,
    "editable": true
   },
   "outputs": [],
   "source": [
    "def normalize_violation(violation):\n",
    "    \"\"\"Normalize violation values\n",
    "    \"\"\"\n",
    "    if violation == 'defective lights':\n",
    "        return 'lights'\n",
    "    elif violation == 'equipment violation':\n",
    "        return 'equipment'\n",
    "    elif violation == 'other/error':\n",
    "        return 'other'\n",
    "    elif violation == 'registration/plates':\n",
    "        return 'registration'\n",
    "    elif violation == 'seat belt':\n",
    "        return 'seatbelt'\n",
    "    elif violation == 'speed related':\n",
    "        return 'speeding'\n",
    "    elif violation == 'stop sign/light' or violation == 'stop sign':\n",
    "        return 'bad_stop'\n",
    "    return violation.replace(' ', '_')\n",
    "\n",
    "\n",
    "def merge_violations(violations):\n",
    "    \"\"\"Merge violation and violation_raw columns\n",
    "    \"\"\"\n",
    "    merged = []\n",
    "    tokens = violations.lower().split(',')\n",
    "    return list(set([normalize_violation(violation) for violation in tokens]))\n",
    "    \n",
    "\n",
    "def onehot_encode_violations(arr_violations):\n",
    "    row = np.zeros(len(violations))\n",
    "    for v in arr_violations:\n",
    "        row[violations.index(v)] = 1\n",
    "    return row\n",
    "\n",
    "\n",
    "violations = []\n",
    "\n",
    "for violation in list(df.violation.unique()) + list(df.violation_raw.unique()):\n",
    "    tokens = violation.lower().split(',')\n",
    "    violations.extend([normalize_violation(token) for token in tokens])\n",
    "\n",
    "violations = sorted(set(violations))\n",
    "\n",
    "merged = df[['violation_raw', 'violation']].apply(lambda x: ','.join(x), axis=1).apply(merge_violations)\n",
    "\n",
    "violation_col_headers = ['violation_{}'.format(violation.replace(' ', '_')) for violation in violations]\n",
    "\n",
    "df_violations = merged.apply(onehot_encode_violations).apply(lambda x: pd.Series(x, dtype=int))\n",
    "df_violations.columns = violation_col_headers"
   ]
  },
  {
   "cell_type": "markdown",
   "metadata": {
    "deletable": true,
    "editable": true
   },
   "source": [
    "The distribution of violation values shows that a majority of traffic stops involve speeding."
   ]
  },
  {
   "cell_type": "code",
   "execution_count": 25,
   "metadata": {
    "ExecuteTime": {
     "end_time": "2018-05-10T02:15:56.889265Z",
     "start_time": "2018-05-09T22:15:56.687727-04:00"
    },
    "collapsed": false,
    "deletable": true,
    "editable": true
   },
   "outputs": [
    {
     "data": {
      "text/plain": [
       "<matplotlib.text.Text at 0x208e0af43c8>"
      ]
     },
     "execution_count": 25,
     "metadata": {},
     "output_type": "execute_result"
    },
    {
     "data": {
      "image/png": "[encoded data removed]",
      "text/plain": [
       "<matplotlib.figure.Figure at 0x208b68b7710>"
      ]
     },
     "metadata": {},
     "output_type": "display_data"
    }
   ],
   "source": [
    "violation_breakdown = df_violations.sum().sort_values(ascending=False).plot.bar(figsize=(17, 5), fontsize=12)\n",
    "violation_breakdown.axes.set_ylabel('Number of traffic stops', fontsize=12)"
   ]
  },
  {
   "cell_type": "markdown",
   "metadata": {
    "deletable": true,
    "editable": true
   },
   "source": [
    "The bar chart below shows the outcome percentages by violation type.  Not surprisingly, most violations result in a \"Ticket\", but there are a few exceptions:\n",
    "- Expired and suspended driver's licenses were more likely to result in a \"Summons\" to appear in court, as shown by the two elongated orange-colored bars.\n",
    "- Improper display of license plates and non-functional lights were likely to result in a \"Verbal Warning.\""
   ]
  },
  {
   "cell_type": "code",
   "execution_count": 26,
   "metadata": {
    "ExecuteTime": {
     "end_time": "2018-05-10T02:15:57.254258Z",
     "start_time": "2018-05-09T22:15:56.890266-04:00"
    },
    "collapsed": false,
    "deletable": true,
    "editable": true
   },
   "outputs": [
    {
     "data": {
      "text/plain": [
       "<matplotlib.axes._subplots.AxesSubplot at 0x208e09fa048>"
      ]
     },
     "execution_count": 26,
     "metadata": {},
     "output_type": "execute_result"
    },
    {
     "data": {
      "image/png": "[encoded data removed]",
      "text/plain": [
       "<matplotlib.figure.Figure at 0x208e096e208>"
      ]
     },
     "metadata": {},
     "output_type": "display_data"
    }
   ],
   "source": [
    "violation_outcomes = pd.concat([df.stop_outcome, df_violations], axis=1)\n",
    "\n",
    "agg_dict = {}\n",
    "outcomes_counts_by_violation = violation_outcomes.groupby(['stop_outcome']).agg({x: 'sum' for x in violation_col_headers}).apply(lambda x: 100 * x /float(x.sum())).rename(columns={x: x.replace('violation_','') for x in violation_col_headers}).T\n",
    "\n",
    "outcomes_counts_by_violation.plot.barh(figsize=(15,15), width=0.9)"
   ]
  },
  {
   "cell_type": "markdown",
   "metadata": {
    "deletable": true,
    "editable": true
   },
   "source": [
    "#### Gender Breakdown\n",
    "\n",
    "Twice as many men got pulled over compared to women, as men comprised almost exactly two-thirds (66.5%) of this dataset."
   ]
  },
  {
   "cell_type": "code",
   "execution_count": 27,
   "metadata": {
    "ExecuteTime": {
     "end_time": "2018-05-10T02:15:57.257745Z",
     "start_time": "2018-05-09T22:15:57.255236-04:00"
    },
    "collapsed": true,
    "deletable": true,
    "editable": true
   },
   "outputs": [],
   "source": [
    "# gender_vbar = df['driver_gender'].value_counts(normalize=True).mul(100).plot.bar(figsize=(8, 4), table=True)\n",
    "# xaxis = gender_vbar.axes.get_xaxis()\n",
    "# xaxis.set_visible(False)\n",
    "# gender_vbar.axes.set_ylabel('%')\n",
    "# table = gender_vbar.tables[0]\n",
    "# table.scale(1, 2)"
   ]
  },
  {
   "cell_type": "code",
   "execution_count": 28,
   "metadata": {
    "ExecuteTime": {
     "end_time": "2018-05-10T02:15:57.339993Z",
     "start_time": "2018-05-09T22:15:57.259247-04:00"
    },
    "collapsed": false,
    "deletable": true,
    "editable": true
   },
   "outputs": [
    {
     "data": {
      "text/plain": [
       "<matplotlib.text.Text at 0x208e05ab9e8>"
      ]
     },
     "execution_count": 28,
     "metadata": {},
     "output_type": "execute_result"
    },
    {
     "data": {
      "image/png": "[encoded data removed]",
      "text/plain": [
       "<matplotlib.figure.Figure at 0x208e091f358>"
      ]
     },
     "metadata": {},
     "output_type": "display_data"
    }
   ],
   "source": [
    "gender_vbar = df['driver_gender'].value_counts(normalize=True).mul(100).plot.pie(figsize=(4, 4))\n",
    "xaxis = gender_vbar.axes.get_xaxis()\n",
    "xaxis.set_visible(False)\n",
    "gender_vbar.axes.set_ylabel('')\n",
    "# gender_vbar.axes.set_ylabel('%')\n",
    "# table = gender_vbar.tables[0]\n",
    "# table.scale(1, 2)"
   ]
  },
  {
   "cell_type": "markdown",
   "metadata": {
    "deletable": true,
    "editable": true
   },
   "source": [
    "#### Age Breakdown\n",
    "\n",
    "The majority of those pulled over are in their 20's at 30.66%, with those in their 30's and 40's following suit, at 20.9% and 18.9% respectively."
   ]
  },
  {
   "cell_type": "code",
   "execution_count": 29,
   "metadata": {
    "ExecuteTime": {
     "end_time": "2018-05-10T02:15:57.371571Z",
     "start_time": "2018-05-09T22:15:57.340965-04:00"
    },
    "collapsed": false,
    "deletable": true,
    "editable": true
   },
   "outputs": [
    {
     "data": {
      "text/plain": [
       "count    313274.000000\n",
       "mean         38.066325\n",
       "std          14.428419\n",
       "min           0.000000\n",
       "25%          26.000000\n",
       "50%          35.000000\n",
       "75%          49.000000\n",
       "max          99.000000\n",
       "Name: driver_age_raw, dtype: float64"
      ]
     },
     "execution_count": 29,
     "metadata": {},
     "output_type": "execute_result"
    }
   ],
   "source": [
    "df['driver_age_raw'].describe()\n",
    "\n",
    "# [TODO:  Remove or make a pretty table]"
   ]
  },
  {
   "cell_type": "code",
   "execution_count": 30,
   "metadata": {
    "ExecuteTime": {
     "end_time": "2018-05-10T02:15:57.496404Z",
     "start_time": "2018-05-09T22:15:57.372549-04:00"
    },
    "collapsed": false,
    "deletable": true,
    "editable": true
   },
   "outputs": [
    {
     "data": {
      "text/plain": [
       "<matplotlib.text.Text at 0x208e02475f8>"
      ]
     },
     "execution_count": 30,
     "metadata": {},
     "output_type": "execute_result"
    },
    {
     "data": {
      "image/png": "[encoded data removed]",
      "text/plain": [
       "<matplotlib.figure.Figure at 0x208e02862e8>"
      ]
     },
     "metadata": {},
     "output_type": "display_data"
    }
   ],
   "source": [
    "age_bins = pd.cut(df['driver_age_raw'], bins=[0, 10, 20, 30, 40, 50, 60, 70, 80, 90, 100], include_lowest=True)\n",
    "ax = age_bins.value_counts(sort=False, normalize=True).mul(100).plot.bar(rot=0, color=\"b\", figsize=(15,4))\n",
    "ax.axes.set_ylabel('%')"
   ]
  },
  {
   "cell_type": "markdown",
   "metadata": {
    "deletable": true,
    "editable": true
   },
   "source": [
    "274 records specify ages that are less than 15 years old, which appear to be typos and will be removed in the pre-processing stage."
   ]
  },
  {
   "cell_type": "code",
   "execution_count": 31,
   "metadata": {
    "ExecuteTime": {
     "end_time": "2018-05-10T02:15:57.689894Z",
     "start_time": "2018-05-09T22:15:57.497382-04:00"
    },
    "collapsed": false,
    "deletable": true,
    "editable": true
   },
   "outputs": [
    {
     "data": {
      "image/png": "[encoded data removed]",
      "text/plain": [
       "<matplotlib.figure.Figure at 0x208e011e828>"
      ]
     },
     "metadata": {},
     "output_type": "display_data"
    }
   ],
   "source": [
    "weird_ages_rows = df[df[\"driver_age_raw\"] < 15]['driver_age_raw']\n",
    "weird_ages = weird_ages_rows.value_counts(sort=False).plot.bar(figsize=(13, 4), table=True, title='Age Values Count')\n",
    "xaxis = weird_ages.axes.get_xaxis()\n",
    "xaxis.set_visible(False)\n",
    "weird_ages.axes.set_ylabel('Count')\n",
    "table = weird_ages.tables[0]\n",
    "table.scale(1, 2)"
   ]
  },
  {
   "cell_type": "markdown",
   "metadata": {
    "deletable": true,
    "editable": true
   },
   "source": [
    "### Algorithms and Techniques\n",
    "In this section, you will need to discuss the algorithms and techniques you intend to use for solving the problem. You should justify the use of each one based on the characteristics of the problem and the problem domain. Questions to ask yourself when writing this section:\n",
    "- _Are the algorithms you will use, including any default variables/parameters in the project clearly defined?_\n",
    "- _Are the techniques to be used thoroughly discussed and justified?_\n",
    "- _Is it made clear how the input data or datasets will be handled by the algorithms and techniques chosen?_\n",
    "\n",
    "To solve this problem, I will experiment with three algorithms:\n",
    "1. The VotingClassifier from the scikit-learn library\n",
    "1. GradientBoostingClassifier also  from the scikit-learn library\n",
    "1. XGBoost from the Distributed(Deep) Machine Learning Community (DMLC) at https://github.com/dmlc/xgboost.\n",
    "\n",
    "[TODO: Describe VotingClassifier]\n",
    "\n",
    "[TODO: Describe GradientBoostingClassifier]\n",
    "\n",
    "[TODO: Describe XGBoost]"
   ]
  },
  {
   "cell_type": "markdown",
   "metadata": {
    "deletable": true,
    "editable": true
   },
   "source": [
    "### Benchmark\n",
    "In this section, you will need to provide a clearly defined benchmark result or threshold for comparing across performances obtained by your solution. The reasoning behind the benchmark (in the case where it is not an established result) should be discussed. Questions to ask yourself when writing this section:\n",
    "- _Has some result or value been provided that acts as a benchmark for measuring performance?_\n",
    "- _Is it clear how this result or value was obtained (whether by data or by hypothesis)?_\n",
    "\n",
    "As far as I know, there is no external benchmark to assess the accuracy of a traffic stop outcome prediction.  From my analysis of the data, generating a naive predictor would be appropriate way to set a benchmark.  The most common `stop_outcome` value in this dataset is 'Ticket' which comprises 70% of all stop outcomes as described in the following table:\n",
    "\n",
    "| Outcome         | Count   |    %   |\n",
    "|:----------------|--------:|-------:|\n",
    "|Arrest           |   7,312 |  2.33% |\n",
    "|Summons          |  12,205 |  3.90% |\n",
    "|Ticket           | 218,973 | 69.89% |\n",
    "|Verbal Warning\t  |  47,753 | 15.24% |\n",
    "|Written Warning  |  27,070 |  8.64% |\n",
    "|                 | 313,313 |        |\n",
    "\n",
    "As a base model without any intelligence, predicting every traffic stop outcome to be 'Ticket' will generate an accuracy score of around 0.70 and serve as our benchmark model.\n",
    "\n"
   ]
  },
  {
   "cell_type": "markdown",
   "metadata": {
    "deletable": true,
    "editable": true
   },
   "source": [
    "## III. Methodology\n",
    "_(approx. 3-5 pages)_\n",
    "\n",
    "### Data Preprocessing\n",
    "In this section, all of your preprocessing steps will need to be clearly documented, if any were necessary. From the previous section, any of the abnormalities or characteristics that you identified about the dataset will be addressed and corrected here. Questions to ask yourself when writing this section:\n",
    "- _If the algorithms chosen require preprocessing steps like feature selection or feature transformations, have they been properly documented?_\n",
    "- _Based on the **Data Exploration** section, if there were abnormalities or characteristics that needed to be addressed, have they been properly corrected?_\n",
    "- _If no preprocessing is needed, has it been made clear why?_\n",
    "\n",
    "\n",
    "[TODO: Elaborate on these]\n",
    "Steps:\n",
    "1. Remove records with age less than 15\n",
    "1. Normalize violations [Actually done above]\n",
    "1. Fill in empty **`stop_time`** with median value\n",
    "1. Categorize overly granular field values\n",
    "1. One-hot encode other categorical feature values\n",
    "1. Drop duplicate rows\n",
    "1. Oversample?"
   ]
  },
  {
   "cell_type": "code",
   "execution_count": 32,
   "metadata": {
    "ExecuteTime": {
     "end_time": "2018-05-10T02:15:58.024343Z",
     "start_time": "2018-05-09T22:15:57.690896-04:00"
    },
    "collapsed": true,
    "deletable": true,
    "editable": true
   },
   "outputs": [],
   "source": [
    "# Append one-hot encoded violations\n",
    "df = pd.concat([df, df_violations], axis=1)\n",
    "\n",
    "# Remove records with age less than 15\n",
    "df.drop(index=weird_ages_rows.index, inplace=True)\n",
    "\n",
    "# Fill in empty **`stop_time`** with median value\n",
    "populated = df[df.stop_time.notnull()]['stop_time'].sort_values()\n",
    "median_stop_time = populated.iloc[populated.shape[0] // 2]\n",
    "df['stop_time'].fillna(median_stop_time, inplace=True)"
   ]
  },
  {
   "cell_type": "code",
   "execution_count": 33,
   "metadata": {
    "ExecuteTime": {
     "end_time": "2018-05-10T02:15:58.028855Z",
     "start_time": "2018-05-09T22:15:58.025346-04:00"
    },
    "collapsed": false,
    "deletable": true,
    "editable": true
   },
   "outputs": [
    {
     "data": {
      "text/plain": [
       "(313129, 28)"
      ]
     },
     "execution_count": 33,
     "metadata": {},
     "output_type": "execute_result"
    }
   ],
   "source": [
    "df.shape"
   ]
  },
  {
   "cell_type": "code",
   "execution_count": 34,
   "metadata": {
    "ExecuteTime": {
     "end_time": "2018-05-10T02:16:08.235113Z",
     "start_time": "2018-05-09T22:15:58.029858-04:00"
    },
    "collapsed": true,
    "deletable": true,
    "editable": true
   },
   "outputs": [],
   "source": [
    "# Categorize stop_time into time-of-day: \"morning, afternoon, evening, small hours\"\n",
    "def day_period(time_str):\n",
    "    hour = time_str.hour\n",
    "    if hour >= 0 and hour < 6:\n",
    "        return 'Small Hours'\n",
    "    elif hour >= 6 and hour < 12:\n",
    "        return 'Morning'\n",
    "    elif hour >= 12 and hour < 18:\n",
    "        return 'Afternoon'\n",
    "    else:\n",
    "        return 'Evening'\n",
    "\n",
    "df['day_period'] = pd.to_datetime(df['stop_time']).apply(day_period)\n"
   ]
  },
  {
   "cell_type": "code",
   "execution_count": 35,
   "metadata": {
    "ExecuteTime": {
     "end_time": "2018-05-10T02:16:08.239533Z",
     "start_time": "2018-05-09T22:16:08.236000-04:00"
    },
    "collapsed": false,
    "deletable": true,
    "editable": true
   },
   "outputs": [
    {
     "data": {
      "text/plain": [
       "(313129, 29)"
      ]
     },
     "execution_count": 35,
     "metadata": {},
     "output_type": "execute_result"
    }
   ],
   "source": [
    "df.shape"
   ]
  },
  {
   "cell_type": "code",
   "execution_count": 36,
   "metadata": {
    "ExecuteTime": {
     "end_time": "2018-05-10T02:16:10.426540Z",
     "start_time": "2018-05-09T22:16:08.240512-04:00"
    },
    "collapsed": true,
    "deletable": true,
    "editable": true
   },
   "outputs": [],
   "source": [
    "# Categorize stop_date by season\n",
    "def season(stop_date):\n",
    "    month = datetime.strptime(stop_date, '%Y-%m-%d').month\n",
    "    if month >= 3 and month < 6:\n",
    "        return 'Spring'\n",
    "    elif month >= 6 and month < 9:\n",
    "        return 'Summer'\n",
    "    elif month >= 9 and month < 12:\n",
    "        return 'Fall'\n",
    "    return 'Winter'\n",
    "\n",
    "df['season'] = df['stop_date'].apply(season)"
   ]
  },
  {
   "cell_type": "code",
   "execution_count": 37,
   "metadata": {
    "ExecuteTime": {
     "end_time": "2018-05-10T02:16:10.512170Z",
     "start_time": "2018-05-09T22:16:10.427425-04:00"
    },
    "collapsed": true,
    "deletable": true,
    "editable": true
   },
   "outputs": [],
   "source": [
    "# Transform driver_gender to binary\n",
    "df['is_male'] = df['driver_gender'].apply(lambda x: 1 if x == 'M' else 0)"
   ]
  },
  {
   "cell_type": "code",
   "execution_count": 38,
   "metadata": {
    "ExecuteTime": {
     "end_time": "2018-05-10T02:16:10.929800Z",
     "start_time": "2018-05-09T22:16:10.513152-04:00"
    },
    "collapsed": true,
    "deletable": true,
    "editable": true
   },
   "outputs": [],
   "source": [
    "# Experiment: See whether labelencoding location_raw improves performance\n",
    "from sklearn.preprocessing import LabelEncoder\n",
    "\n",
    "le = LabelEncoder()\n",
    "df['location_raw'] = le.fit_transform(df['location_raw'])"
   ]
  },
  {
   "cell_type": "code",
   "execution_count": 39,
   "metadata": {
    "ExecuteTime": {
     "end_time": "2018-05-10T02:16:10.933813Z",
     "start_time": "2018-05-09T22:16:10.930804-04:00"
    },
    "collapsed": false,
    "deletable": true,
    "editable": true
   },
   "outputs": [
    {
     "data": {
      "text/plain": [
       "(313129, 31)"
      ]
     },
     "execution_count": 39,
     "metadata": {},
     "output_type": "execute_result"
    }
   ],
   "source": [
    "df.shape"
   ]
  },
  {
   "cell_type": "code",
   "execution_count": 40,
   "metadata": {
    "ExecuteTime": {
     "end_time": "2018-05-10T02:16:11.011111Z",
     "start_time": "2018-05-09T22:16:10.934815-04:00"
    },
    "collapsed": true,
    "deletable": true,
    "editable": true
   },
   "outputs": [],
   "source": [
    "# Drop columns no longer needed due to normalization\n",
    "drop_cols = [\n",
    "    'driver_gender',\n",
    "#     'county_name',\n",
    "#     'location_raw',\n",
    "#     'officer_id',\n",
    "    'stop_date',\n",
    "    'stop_time',\n",
    "    'violation_raw',\n",
    "    'violation',\n",
    "]\n",
    "\n",
    "df.drop(drop_cols, axis=1, inplace=True)"
   ]
  },
  {
   "cell_type": "code",
   "execution_count": 41,
   "metadata": {
    "ExecuteTime": {
     "end_time": "2018-05-10T02:16:11.015622Z",
     "start_time": "2018-05-09T22:16:11.012086-04:00"
    },
    "collapsed": false,
    "deletable": true,
    "editable": true
   },
   "outputs": [
    {
     "data": {
      "text/plain": [
       "(313129, 26)"
      ]
     },
     "execution_count": 41,
     "metadata": {},
     "output_type": "execute_result"
    }
   ],
   "source": [
    "df.shape"
   ]
  },
  {
   "cell_type": "code",
   "execution_count": 42,
   "metadata": {
    "ExecuteTime": {
     "end_time": "2018-05-10T02:16:11.214658Z",
     "start_time": "2018-05-09T22:16:11.016598-04:00"
    },
    "collapsed": true,
    "deletable": true,
    "editable": true
   },
   "outputs": [],
   "source": [
    "# Convert booleans to 0 and 1\n",
    "df['search_conducted'] = df['search_conducted'].apply(lambda x: int(x))\n",
    "df['contraband_found'] = df['contraband_found'].apply(lambda x: int(x))"
   ]
  },
  {
   "cell_type": "code",
   "execution_count": 43,
   "metadata": {
    "ExecuteTime": {
     "end_time": "2018-05-10T02:16:11.363018Z",
     "start_time": "2018-05-09T22:16:11.215628-04:00"
    },
    "collapsed": false,
    "deletable": true,
    "editable": true
   },
   "outputs": [
    {
     "name": "stderr",
     "output_type": "stream",
     "text": [
      "D:\\AppData\\Local\\conda\\conda\\envs\\kaggle\\lib\\site-packages\\ipykernel\\__main__.py:6: FutureWarning: reshape is deprecated and will raise in a subsequent release. Please use .values.reshape(...) instead\n",
      "D:\\AppData\\Local\\conda\\conda\\envs\\kaggle\\lib\\site-packages\\sklearn\\utils\\validation.py:429: DataConversionWarning: Data with input dtype int64 was converted to float64 by MinMaxScaler.\n",
      "  warnings.warn(msg, _DataConversionWarning)\n"
     ]
    },
    {
     "data": {
      "text/html": [
       "<div>\n",
       "<style scoped>\n",
       "    .dataframe tbody tr th:only-of-type {\n",
       "        vertical-align: middle;\n",
       "    }\n",
       "\n",
       "    .dataframe tbody tr th {\n",
       "        vertical-align: top;\n",
       "    }\n",
       "\n",
       "    .dataframe thead th {\n",
       "        text-align: right;\n",
       "    }\n",
       "</style>\n",
       "<table border=\"1\" class=\"dataframe\">\n",
       "  <thead>\n",
       "    <tr style=\"text-align: right;\">\n",
       "      <th></th>\n",
       "      <th>location_raw</th>\n",
       "      <th>county_name</th>\n",
       "      <th>driver_age_raw</th>\n",
       "      <th>driver_race</th>\n",
       "      <th>search_conducted</th>\n",
       "      <th>contraband_found</th>\n",
       "      <th>stop_outcome</th>\n",
       "      <th>stop_duration</th>\n",
       "      <th>violation_bad_stop</th>\n",
       "      <th>violation_cell_phone</th>\n",
       "      <th>...</th>\n",
       "      <th>violation_registration</th>\n",
       "      <th>violation_safe_movement</th>\n",
       "      <th>violation_seatbelt</th>\n",
       "      <th>violation_speeding</th>\n",
       "      <th>violation_suspended_license</th>\n",
       "      <th>violation_traffic_control_signal</th>\n",
       "      <th>violation_window_tint</th>\n",
       "      <th>day_period</th>\n",
       "      <th>season</th>\n",
       "      <th>is_male</th>\n",
       "    </tr>\n",
       "  </thead>\n",
       "  <tbody>\n",
       "    <tr>\n",
       "      <th>0</th>\n",
       "      <td>171</td>\n",
       "      <td>Fairfield County</td>\n",
       "      <td>0.642857</td>\n",
       "      <td>Black</td>\n",
       "      <td>0</td>\n",
       "      <td>0</td>\n",
       "      <td>Ticket</td>\n",
       "      <td>1-15 min</td>\n",
       "      <td>0</td>\n",
       "      <td>0</td>\n",
       "      <td>...</td>\n",
       "      <td>0</td>\n",
       "      <td>0</td>\n",
       "      <td>0</td>\n",
       "      <td>1</td>\n",
       "      <td>0</td>\n",
       "      <td>0</td>\n",
       "      <td>0</td>\n",
       "      <td>Small Hours</td>\n",
       "      <td>Fall</td>\n",
       "      <td>0</td>\n",
       "    </tr>\n",
       "    <tr>\n",
       "      <th>1</th>\n",
       "      <td>85</td>\n",
       "      <td>Tolland County</td>\n",
       "      <td>0.059524</td>\n",
       "      <td>White</td>\n",
       "      <td>0</td>\n",
       "      <td>0</td>\n",
       "      <td>Verbal Warning</td>\n",
       "      <td>1-15 min</td>\n",
       "      <td>0</td>\n",
       "      <td>0</td>\n",
       "      <td>...</td>\n",
       "      <td>0</td>\n",
       "      <td>0</td>\n",
       "      <td>0</td>\n",
       "      <td>0</td>\n",
       "      <td>0</td>\n",
       "      <td>0</td>\n",
       "      <td>0</td>\n",
       "      <td>Small Hours</td>\n",
       "      <td>Fall</td>\n",
       "      <td>1</td>\n",
       "    </tr>\n",
       "    <tr>\n",
       "      <th>2</th>\n",
       "      <td>58</td>\n",
       "      <td>New London County</td>\n",
       "      <td>0.226190</td>\n",
       "      <td>Hispanic</td>\n",
       "      <td>0</td>\n",
       "      <td>0</td>\n",
       "      <td>Ticket</td>\n",
       "      <td>1-15 min</td>\n",
       "      <td>0</td>\n",
       "      <td>0</td>\n",
       "      <td>...</td>\n",
       "      <td>0</td>\n",
       "      <td>0</td>\n",
       "      <td>0</td>\n",
       "      <td>1</td>\n",
       "      <td>0</td>\n",
       "      <td>0</td>\n",
       "      <td>0</td>\n",
       "      <td>Small Hours</td>\n",
       "      <td>Fall</td>\n",
       "      <td>1</td>\n",
       "    </tr>\n",
       "    <tr>\n",
       "      <th>3</th>\n",
       "      <td>34</td>\n",
       "      <td>Fairfield County</td>\n",
       "      <td>0.369048</td>\n",
       "      <td>Black</td>\n",
       "      <td>0</td>\n",
       "      <td>0</td>\n",
       "      <td>Written Warning</td>\n",
       "      <td>1-15 min</td>\n",
       "      <td>0</td>\n",
       "      <td>0</td>\n",
       "      <td>...</td>\n",
       "      <td>0</td>\n",
       "      <td>0</td>\n",
       "      <td>0</td>\n",
       "      <td>1</td>\n",
       "      <td>0</td>\n",
       "      <td>0</td>\n",
       "      <td>0</td>\n",
       "      <td>Small Hours</td>\n",
       "      <td>Fall</td>\n",
       "      <td>1</td>\n",
       "    </tr>\n",
       "    <tr>\n",
       "      <th>4</th>\n",
       "      <td>46</td>\n",
       "      <td>Hartford County</td>\n",
       "      <td>0.178571</td>\n",
       "      <td>White</td>\n",
       "      <td>0</td>\n",
       "      <td>0</td>\n",
       "      <td>Ticket</td>\n",
       "      <td>1-15 min</td>\n",
       "      <td>0</td>\n",
       "      <td>0</td>\n",
       "      <td>...</td>\n",
       "      <td>0</td>\n",
       "      <td>0</td>\n",
       "      <td>0</td>\n",
       "      <td>1</td>\n",
       "      <td>0</td>\n",
       "      <td>0</td>\n",
       "      <td>0</td>\n",
       "      <td>Small Hours</td>\n",
       "      <td>Fall</td>\n",
       "      <td>1</td>\n",
       "    </tr>\n",
       "    <tr>\n",
       "      <th>5</th>\n",
       "      <td>156</td>\n",
       "      <td>Fairfield County</td>\n",
       "      <td>0.119048</td>\n",
       "      <td>Black</td>\n",
       "      <td>0</td>\n",
       "      <td>0</td>\n",
       "      <td>Verbal Warning</td>\n",
       "      <td>1-15 min</td>\n",
       "      <td>0</td>\n",
       "      <td>0</td>\n",
       "      <td>...</td>\n",
       "      <td>0</td>\n",
       "      <td>0</td>\n",
       "      <td>0</td>\n",
       "      <td>0</td>\n",
       "      <td>0</td>\n",
       "      <td>0</td>\n",
       "      <td>0</td>\n",
       "      <td>Small Hours</td>\n",
       "      <td>Fall</td>\n",
       "      <td>1</td>\n",
       "    </tr>\n",
       "    <tr>\n",
       "      <th>6</th>\n",
       "      <td>72</td>\n",
       "      <td>Litchfield County</td>\n",
       "      <td>0.142857</td>\n",
       "      <td>White</td>\n",
       "      <td>0</td>\n",
       "      <td>0</td>\n",
       "      <td>Ticket</td>\n",
       "      <td>1-15 min</td>\n",
       "      <td>0</td>\n",
       "      <td>0</td>\n",
       "      <td>...</td>\n",
       "      <td>0</td>\n",
       "      <td>0</td>\n",
       "      <td>0</td>\n",
       "      <td>0</td>\n",
       "      <td>0</td>\n",
       "      <td>0</td>\n",
       "      <td>0</td>\n",
       "      <td>Small Hours</td>\n",
       "      <td>Fall</td>\n",
       "      <td>1</td>\n",
       "    </tr>\n",
       "    <tr>\n",
       "      <th>7</th>\n",
       "      <td>171</td>\n",
       "      <td>Fairfield County</td>\n",
       "      <td>0.392857</td>\n",
       "      <td>White</td>\n",
       "      <td>0</td>\n",
       "      <td>0</td>\n",
       "      <td>Verbal Warning</td>\n",
       "      <td>1-15 min</td>\n",
       "      <td>0</td>\n",
       "      <td>0</td>\n",
       "      <td>...</td>\n",
       "      <td>0</td>\n",
       "      <td>0</td>\n",
       "      <td>0</td>\n",
       "      <td>1</td>\n",
       "      <td>0</td>\n",
       "      <td>0</td>\n",
       "      <td>0</td>\n",
       "      <td>Small Hours</td>\n",
       "      <td>Fall</td>\n",
       "      <td>1</td>\n",
       "    </tr>\n",
       "    <tr>\n",
       "      <th>8</th>\n",
       "      <td>84</td>\n",
       "      <td>Hartford County</td>\n",
       "      <td>0.119048</td>\n",
       "      <td>White</td>\n",
       "      <td>0</td>\n",
       "      <td>0</td>\n",
       "      <td>Ticket</td>\n",
       "      <td>1-15 min</td>\n",
       "      <td>0</td>\n",
       "      <td>0</td>\n",
       "      <td>...</td>\n",
       "      <td>0</td>\n",
       "      <td>0</td>\n",
       "      <td>0</td>\n",
       "      <td>1</td>\n",
       "      <td>0</td>\n",
       "      <td>0</td>\n",
       "      <td>0</td>\n",
       "      <td>Small Hours</td>\n",
       "      <td>Fall</td>\n",
       "      <td>1</td>\n",
       "    </tr>\n",
       "    <tr>\n",
       "      <th>9</th>\n",
       "      <td>5</td>\n",
       "      <td>New Haven County</td>\n",
       "      <td>0.202381</td>\n",
       "      <td>White</td>\n",
       "      <td>0</td>\n",
       "      <td>0</td>\n",
       "      <td>Verbal Warning</td>\n",
       "      <td>1-15 min</td>\n",
       "      <td>0</td>\n",
       "      <td>0</td>\n",
       "      <td>...</td>\n",
       "      <td>0</td>\n",
       "      <td>0</td>\n",
       "      <td>0</td>\n",
       "      <td>0</td>\n",
       "      <td>0</td>\n",
       "      <td>0</td>\n",
       "      <td>0</td>\n",
       "      <td>Small Hours</td>\n",
       "      <td>Fall</td>\n",
       "      <td>1</td>\n",
       "    </tr>\n",
       "    <tr>\n",
       "      <th>10</th>\n",
       "      <td>171</td>\n",
       "      <td>Fairfield County</td>\n",
       "      <td>0.392857</td>\n",
       "      <td>Black</td>\n",
       "      <td>0</td>\n",
       "      <td>0</td>\n",
       "      <td>Ticket</td>\n",
       "      <td>1-15 min</td>\n",
       "      <td>0</td>\n",
       "      <td>0</td>\n",
       "      <td>...</td>\n",
       "      <td>0</td>\n",
       "      <td>0</td>\n",
       "      <td>0</td>\n",
       "      <td>1</td>\n",
       "      <td>0</td>\n",
       "      <td>0</td>\n",
       "      <td>0</td>\n",
       "      <td>Small Hours</td>\n",
       "      <td>Fall</td>\n",
       "      <td>0</td>\n",
       "    </tr>\n",
       "    <tr>\n",
       "      <th>11</th>\n",
       "      <td>5</td>\n",
       "      <td>New Haven County</td>\n",
       "      <td>0.142857</td>\n",
       "      <td>Hispanic</td>\n",
       "      <td>0</td>\n",
       "      <td>0</td>\n",
       "      <td>Verbal Warning</td>\n",
       "      <td>1-15 min</td>\n",
       "      <td>0</td>\n",
       "      <td>0</td>\n",
       "      <td>...</td>\n",
       "      <td>0</td>\n",
       "      <td>0</td>\n",
       "      <td>0</td>\n",
       "      <td>0</td>\n",
       "      <td>0</td>\n",
       "      <td>0</td>\n",
       "      <td>0</td>\n",
       "      <td>Small Hours</td>\n",
       "      <td>Fall</td>\n",
       "      <td>0</td>\n",
       "    </tr>\n",
       "    <tr>\n",
       "      <th>12</th>\n",
       "      <td>170</td>\n",
       "      <td>Middlesex County</td>\n",
       "      <td>0.202381</td>\n",
       "      <td>White</td>\n",
       "      <td>0</td>\n",
       "      <td>0</td>\n",
       "      <td>Verbal Warning</td>\n",
       "      <td>1-15 min</td>\n",
       "      <td>0</td>\n",
       "      <td>0</td>\n",
       "      <td>...</td>\n",
       "      <td>0</td>\n",
       "      <td>0</td>\n",
       "      <td>0</td>\n",
       "      <td>0</td>\n",
       "      <td>0</td>\n",
       "      <td>0</td>\n",
       "      <td>0</td>\n",
       "      <td>Small Hours</td>\n",
       "      <td>Fall</td>\n",
       "      <td>1</td>\n",
       "    </tr>\n",
       "    <tr>\n",
       "      <th>13</th>\n",
       "      <td>171</td>\n",
       "      <td>Fairfield County</td>\n",
       "      <td>0.142857</td>\n",
       "      <td>White</td>\n",
       "      <td>0</td>\n",
       "      <td>0</td>\n",
       "      <td>Ticket</td>\n",
       "      <td>1-15 min</td>\n",
       "      <td>0</td>\n",
       "      <td>0</td>\n",
       "      <td>...</td>\n",
       "      <td>0</td>\n",
       "      <td>0</td>\n",
       "      <td>0</td>\n",
       "      <td>1</td>\n",
       "      <td>0</td>\n",
       "      <td>0</td>\n",
       "      <td>0</td>\n",
       "      <td>Small Hours</td>\n",
       "      <td>Fall</td>\n",
       "      <td>1</td>\n",
       "    </tr>\n",
       "    <tr>\n",
       "      <th>14</th>\n",
       "      <td>14</td>\n",
       "      <td>Fairfield County</td>\n",
       "      <td>0.059524</td>\n",
       "      <td>Black</td>\n",
       "      <td>0</td>\n",
       "      <td>0</td>\n",
       "      <td>Ticket</td>\n",
       "      <td>1-15 min</td>\n",
       "      <td>0</td>\n",
       "      <td>0</td>\n",
       "      <td>...</td>\n",
       "      <td>0</td>\n",
       "      <td>0</td>\n",
       "      <td>0</td>\n",
       "      <td>1</td>\n",
       "      <td>0</td>\n",
       "      <td>0</td>\n",
       "      <td>0</td>\n",
       "      <td>Small Hours</td>\n",
       "      <td>Fall</td>\n",
       "      <td>0</td>\n",
       "    </tr>\n",
       "    <tr>\n",
       "      <th>15</th>\n",
       "      <td>85</td>\n",
       "      <td>Tolland County</td>\n",
       "      <td>0.071429</td>\n",
       "      <td>Black</td>\n",
       "      <td>0</td>\n",
       "      <td>0</td>\n",
       "      <td>Ticket</td>\n",
       "      <td>1-15 min</td>\n",
       "      <td>0</td>\n",
       "      <td>0</td>\n",
       "      <td>...</td>\n",
       "      <td>0</td>\n",
       "      <td>0</td>\n",
       "      <td>0</td>\n",
       "      <td>0</td>\n",
       "      <td>0</td>\n",
       "      <td>0</td>\n",
       "      <td>0</td>\n",
       "      <td>Small Hours</td>\n",
       "      <td>Fall</td>\n",
       "      <td>0</td>\n",
       "    </tr>\n",
       "    <tr>\n",
       "      <th>16</th>\n",
       "      <td>165</td>\n",
       "      <td>New Haven County</td>\n",
       "      <td>0.619048</td>\n",
       "      <td>White</td>\n",
       "      <td>0</td>\n",
       "      <td>0</td>\n",
       "      <td>Verbal Warning</td>\n",
       "      <td>1-15 min</td>\n",
       "      <td>0</td>\n",
       "      <td>0</td>\n",
       "      <td>...</td>\n",
       "      <td>0</td>\n",
       "      <td>0</td>\n",
       "      <td>0</td>\n",
       "      <td>0</td>\n",
       "      <td>0</td>\n",
       "      <td>0</td>\n",
       "      <td>0</td>\n",
       "      <td>Small Hours</td>\n",
       "      <td>Fall</td>\n",
       "      <td>1</td>\n",
       "    </tr>\n",
       "    <tr>\n",
       "      <th>17</th>\n",
       "      <td>158</td>\n",
       "      <td>Tolland County</td>\n",
       "      <td>0.321429</td>\n",
       "      <td>Hispanic</td>\n",
       "      <td>0</td>\n",
       "      <td>0</td>\n",
       "      <td>Verbal Warning</td>\n",
       "      <td>1-15 min</td>\n",
       "      <td>0</td>\n",
       "      <td>0</td>\n",
       "      <td>...</td>\n",
       "      <td>0</td>\n",
       "      <td>0</td>\n",
       "      <td>0</td>\n",
       "      <td>0</td>\n",
       "      <td>0</td>\n",
       "      <td>0</td>\n",
       "      <td>0</td>\n",
       "      <td>Small Hours</td>\n",
       "      <td>Fall</td>\n",
       "      <td>1</td>\n",
       "    </tr>\n",
       "    <tr>\n",
       "      <th>18</th>\n",
       "      <td>176</td>\n",
       "      <td>Windham County</td>\n",
       "      <td>0.071429</td>\n",
       "      <td>White</td>\n",
       "      <td>0</td>\n",
       "      <td>0</td>\n",
       "      <td>Verbal Warning</td>\n",
       "      <td>1-15 min</td>\n",
       "      <td>0</td>\n",
       "      <td>0</td>\n",
       "      <td>...</td>\n",
       "      <td>0</td>\n",
       "      <td>0</td>\n",
       "      <td>0</td>\n",
       "      <td>1</td>\n",
       "      <td>0</td>\n",
       "      <td>0</td>\n",
       "      <td>0</td>\n",
       "      <td>Small Hours</td>\n",
       "      <td>Fall</td>\n",
       "      <td>1</td>\n",
       "    </tr>\n",
       "    <tr>\n",
       "      <th>19</th>\n",
       "      <td>73</td>\n",
       "      <td>Tolland County</td>\n",
       "      <td>0.095238</td>\n",
       "      <td>White</td>\n",
       "      <td>0</td>\n",
       "      <td>0</td>\n",
       "      <td>Ticket</td>\n",
       "      <td>1-15 min</td>\n",
       "      <td>0</td>\n",
       "      <td>0</td>\n",
       "      <td>...</td>\n",
       "      <td>0</td>\n",
       "      <td>0</td>\n",
       "      <td>0</td>\n",
       "      <td>0</td>\n",
       "      <td>0</td>\n",
       "      <td>0</td>\n",
       "      <td>0</td>\n",
       "      <td>Small Hours</td>\n",
       "      <td>Fall</td>\n",
       "      <td>1</td>\n",
       "    </tr>\n",
       "    <tr>\n",
       "      <th>20</th>\n",
       "      <td>5</td>\n",
       "      <td>New Haven County</td>\n",
       "      <td>0.083333</td>\n",
       "      <td>White</td>\n",
       "      <td>0</td>\n",
       "      <td>0</td>\n",
       "      <td>Verbal Warning</td>\n",
       "      <td>1-15 min</td>\n",
       "      <td>0</td>\n",
       "      <td>0</td>\n",
       "      <td>...</td>\n",
       "      <td>0</td>\n",
       "      <td>0</td>\n",
       "      <td>0</td>\n",
       "      <td>0</td>\n",
       "      <td>0</td>\n",
       "      <td>0</td>\n",
       "      <td>0</td>\n",
       "      <td>Small Hours</td>\n",
       "      <td>Fall</td>\n",
       "      <td>1</td>\n",
       "    </tr>\n",
       "    <tr>\n",
       "      <th>21</th>\n",
       "      <td>66</td>\n",
       "      <td>New Haven County</td>\n",
       "      <td>0.345238</td>\n",
       "      <td>Hispanic</td>\n",
       "      <td>0</td>\n",
       "      <td>0</td>\n",
       "      <td>Verbal Warning</td>\n",
       "      <td>1-15 min</td>\n",
       "      <td>0</td>\n",
       "      <td>0</td>\n",
       "      <td>...</td>\n",
       "      <td>0</td>\n",
       "      <td>0</td>\n",
       "      <td>0</td>\n",
       "      <td>0</td>\n",
       "      <td>0</td>\n",
       "      <td>0</td>\n",
       "      <td>0</td>\n",
       "      <td>Small Hours</td>\n",
       "      <td>Fall</td>\n",
       "      <td>1</td>\n",
       "    </tr>\n",
       "    <tr>\n",
       "      <th>22</th>\n",
       "      <td>171</td>\n",
       "      <td>Fairfield County</td>\n",
       "      <td>0.488095</td>\n",
       "      <td>White</td>\n",
       "      <td>0</td>\n",
       "      <td>0</td>\n",
       "      <td>Ticket</td>\n",
       "      <td>1-15 min</td>\n",
       "      <td>0</td>\n",
       "      <td>0</td>\n",
       "      <td>...</td>\n",
       "      <td>0</td>\n",
       "      <td>0</td>\n",
       "      <td>0</td>\n",
       "      <td>1</td>\n",
       "      <td>0</td>\n",
       "      <td>0</td>\n",
       "      <td>0</td>\n",
       "      <td>Small Hours</td>\n",
       "      <td>Fall</td>\n",
       "      <td>0</td>\n",
       "    </tr>\n",
       "    <tr>\n",
       "      <th>23</th>\n",
       "      <td>176</td>\n",
       "      <td>Windham County</td>\n",
       "      <td>0.142857</td>\n",
       "      <td>White</td>\n",
       "      <td>0</td>\n",
       "      <td>0</td>\n",
       "      <td>Ticket</td>\n",
       "      <td>1-15 min</td>\n",
       "      <td>0</td>\n",
       "      <td>0</td>\n",
       "      <td>...</td>\n",
       "      <td>0</td>\n",
       "      <td>0</td>\n",
       "      <td>0</td>\n",
       "      <td>0</td>\n",
       "      <td>0</td>\n",
       "      <td>0</td>\n",
       "      <td>0</td>\n",
       "      <td>Small Hours</td>\n",
       "      <td>Fall</td>\n",
       "      <td>1</td>\n",
       "    </tr>\n",
       "    <tr>\n",
       "      <th>24</th>\n",
       "      <td>46</td>\n",
       "      <td>Hartford County</td>\n",
       "      <td>0.107143</td>\n",
       "      <td>White</td>\n",
       "      <td>0</td>\n",
       "      <td>0</td>\n",
       "      <td>Ticket</td>\n",
       "      <td>1-15 min</td>\n",
       "      <td>0</td>\n",
       "      <td>0</td>\n",
       "      <td>...</td>\n",
       "      <td>0</td>\n",
       "      <td>0</td>\n",
       "      <td>0</td>\n",
       "      <td>0</td>\n",
       "      <td>0</td>\n",
       "      <td>0</td>\n",
       "      <td>0</td>\n",
       "      <td>Small Hours</td>\n",
       "      <td>Fall</td>\n",
       "      <td>1</td>\n",
       "    </tr>\n",
       "    <tr>\n",
       "      <th>25</th>\n",
       "      <td>95</td>\n",
       "      <td>New Haven County</td>\n",
       "      <td>0.214286</td>\n",
       "      <td>White</td>\n",
       "      <td>0</td>\n",
       "      <td>0</td>\n",
       "      <td>Ticket</td>\n",
       "      <td>1-15 min</td>\n",
       "      <td>0</td>\n",
       "      <td>0</td>\n",
       "      <td>...</td>\n",
       "      <td>1</td>\n",
       "      <td>0</td>\n",
       "      <td>0</td>\n",
       "      <td>0</td>\n",
       "      <td>0</td>\n",
       "      <td>0</td>\n",
       "      <td>0</td>\n",
       "      <td>Small Hours</td>\n",
       "      <td>Fall</td>\n",
       "      <td>1</td>\n",
       "    </tr>\n",
       "    <tr>\n",
       "      <th>26</th>\n",
       "      <td>70</td>\n",
       "      <td>Hartford County</td>\n",
       "      <td>0.095238</td>\n",
       "      <td>White</td>\n",
       "      <td>0</td>\n",
       "      <td>0</td>\n",
       "      <td>Written Warning</td>\n",
       "      <td>1-15 min</td>\n",
       "      <td>0</td>\n",
       "      <td>0</td>\n",
       "      <td>...</td>\n",
       "      <td>1</td>\n",
       "      <td>0</td>\n",
       "      <td>0</td>\n",
       "      <td>0</td>\n",
       "      <td>0</td>\n",
       "      <td>0</td>\n",
       "      <td>0</td>\n",
       "      <td>Small Hours</td>\n",
       "      <td>Fall</td>\n",
       "      <td>1</td>\n",
       "    </tr>\n",
       "    <tr>\n",
       "      <th>27</th>\n",
       "      <td>70</td>\n",
       "      <td>Hartford County</td>\n",
       "      <td>0.404762</td>\n",
       "      <td>Black</td>\n",
       "      <td>0</td>\n",
       "      <td>0</td>\n",
       "      <td>Ticket</td>\n",
       "      <td>1-15 min</td>\n",
       "      <td>0</td>\n",
       "      <td>0</td>\n",
       "      <td>...</td>\n",
       "      <td>1</td>\n",
       "      <td>0</td>\n",
       "      <td>0</td>\n",
       "      <td>0</td>\n",
       "      <td>0</td>\n",
       "      <td>0</td>\n",
       "      <td>0</td>\n",
       "      <td>Small Hours</td>\n",
       "      <td>Fall</td>\n",
       "      <td>0</td>\n",
       "    </tr>\n",
       "    <tr>\n",
       "      <th>28</th>\n",
       "      <td>91</td>\n",
       "      <td>New Haven County</td>\n",
       "      <td>0.250000</td>\n",
       "      <td>Black</td>\n",
       "      <td>0</td>\n",
       "      <td>0</td>\n",
       "      <td>Verbal Warning</td>\n",
       "      <td>1-15 min</td>\n",
       "      <td>0</td>\n",
       "      <td>0</td>\n",
       "      <td>...</td>\n",
       "      <td>0</td>\n",
       "      <td>0</td>\n",
       "      <td>0</td>\n",
       "      <td>1</td>\n",
       "      <td>0</td>\n",
       "      <td>0</td>\n",
       "      <td>0</td>\n",
       "      <td>Small Hours</td>\n",
       "      <td>Fall</td>\n",
       "      <td>1</td>\n",
       "    </tr>\n",
       "    <tr>\n",
       "      <th>29</th>\n",
       "      <td>84</td>\n",
       "      <td>Hartford County</td>\n",
       "      <td>0.095238</td>\n",
       "      <td>White</td>\n",
       "      <td>0</td>\n",
       "      <td>0</td>\n",
       "      <td>Ticket</td>\n",
       "      <td>1-15 min</td>\n",
       "      <td>0</td>\n",
       "      <td>0</td>\n",
       "      <td>...</td>\n",
       "      <td>0</td>\n",
       "      <td>0</td>\n",
       "      <td>0</td>\n",
       "      <td>1</td>\n",
       "      <td>0</td>\n",
       "      <td>0</td>\n",
       "      <td>0</td>\n",
       "      <td>Small Hours</td>\n",
       "      <td>Fall</td>\n",
       "      <td>1</td>\n",
       "    </tr>\n",
       "    <tr>\n",
       "      <th>...</th>\n",
       "      <td>...</td>\n",
       "      <td>...</td>\n",
       "      <td>...</td>\n",
       "      <td>...</td>\n",
       "      <td>...</td>\n",
       "      <td>...</td>\n",
       "      <td>...</td>\n",
       "      <td>...</td>\n",
       "      <td>...</td>\n",
       "      <td>...</td>\n",
       "      <td>...</td>\n",
       "      <td>...</td>\n",
       "      <td>...</td>\n",
       "      <td>...</td>\n",
       "      <td>...</td>\n",
       "      <td>...</td>\n",
       "      <td>...</td>\n",
       "      <td>...</td>\n",
       "      <td>...</td>\n",
       "      <td>...</td>\n",
       "      <td>...</td>\n",
       "    </tr>\n",
       "    <tr>\n",
       "      <th>318639</th>\n",
       "      <td>128</td>\n",
       "      <td>Hartford County</td>\n",
       "      <td>0.345238</td>\n",
       "      <td>White</td>\n",
       "      <td>0</td>\n",
       "      <td>0</td>\n",
       "      <td>Ticket</td>\n",
       "      <td>1-15 min</td>\n",
       "      <td>0</td>\n",
       "      <td>0</td>\n",
       "      <td>...</td>\n",
       "      <td>0</td>\n",
       "      <td>0</td>\n",
       "      <td>0</td>\n",
       "      <td>0</td>\n",
       "      <td>0</td>\n",
       "      <td>0</td>\n",
       "      <td>0</td>\n",
       "      <td>Afternoon</td>\n",
       "      <td>Spring</td>\n",
       "      <td>1</td>\n",
       "    </tr>\n",
       "    <tr>\n",
       "      <th>318640</th>\n",
       "      <td>165</td>\n",
       "      <td>New Haven County</td>\n",
       "      <td>0.535714</td>\n",
       "      <td>White</td>\n",
       "      <td>0</td>\n",
       "      <td>0</td>\n",
       "      <td>Verbal Warning</td>\n",
       "      <td>1-15 min</td>\n",
       "      <td>0</td>\n",
       "      <td>0</td>\n",
       "      <td>...</td>\n",
       "      <td>0</td>\n",
       "      <td>0</td>\n",
       "      <td>0</td>\n",
       "      <td>0</td>\n",
       "      <td>0</td>\n",
       "      <td>0</td>\n",
       "      <td>0</td>\n",
       "      <td>Afternoon</td>\n",
       "      <td>Spring</td>\n",
       "      <td>1</td>\n",
       "    </tr>\n",
       "    <tr>\n",
       "      <th>318641</th>\n",
       "      <td>57</td>\n",
       "      <td>Hartford County</td>\n",
       "      <td>0.797619</td>\n",
       "      <td>White</td>\n",
       "      <td>0</td>\n",
       "      <td>0</td>\n",
       "      <td>Verbal Warning</td>\n",
       "      <td>16-30 min</td>\n",
       "      <td>0</td>\n",
       "      <td>0</td>\n",
       "      <td>...</td>\n",
       "      <td>0</td>\n",
       "      <td>0</td>\n",
       "      <td>0</td>\n",
       "      <td>1</td>\n",
       "      <td>0</td>\n",
       "      <td>0</td>\n",
       "      <td>0</td>\n",
       "      <td>Afternoon</td>\n",
       "      <td>Spring</td>\n",
       "      <td>1</td>\n",
       "    </tr>\n",
       "    <tr>\n",
       "      <th>318642</th>\n",
       "      <td>70</td>\n",
       "      <td>Hartford County</td>\n",
       "      <td>0.500000</td>\n",
       "      <td>Hispanic</td>\n",
       "      <td>0</td>\n",
       "      <td>0</td>\n",
       "      <td>Ticket</td>\n",
       "      <td>1-15 min</td>\n",
       "      <td>0</td>\n",
       "      <td>0</td>\n",
       "      <td>...</td>\n",
       "      <td>0</td>\n",
       "      <td>0</td>\n",
       "      <td>1</td>\n",
       "      <td>0</td>\n",
       "      <td>0</td>\n",
       "      <td>0</td>\n",
       "      <td>0</td>\n",
       "      <td>Afternoon</td>\n",
       "      <td>Spring</td>\n",
       "      <td>1</td>\n",
       "    </tr>\n",
       "    <tr>\n",
       "      <th>318643</th>\n",
       "      <td>156</td>\n",
       "      <td>Fairfield County</td>\n",
       "      <td>0.107143</td>\n",
       "      <td>Hispanic</td>\n",
       "      <td>0</td>\n",
       "      <td>0</td>\n",
       "      <td>Ticket</td>\n",
       "      <td>1-15 min</td>\n",
       "      <td>0</td>\n",
       "      <td>0</td>\n",
       "      <td>...</td>\n",
       "      <td>0</td>\n",
       "      <td>0</td>\n",
       "      <td>0</td>\n",
       "      <td>1</td>\n",
       "      <td>0</td>\n",
       "      <td>0</td>\n",
       "      <td>0</td>\n",
       "      <td>Afternoon</td>\n",
       "      <td>Spring</td>\n",
       "      <td>1</td>\n",
       "    </tr>\n",
       "    <tr>\n",
       "      <th>318644</th>\n",
       "      <td>176</td>\n",
       "      <td>Windham County</td>\n",
       "      <td>0.404762</td>\n",
       "      <td>White</td>\n",
       "      <td>0</td>\n",
       "      <td>0</td>\n",
       "      <td>Ticket</td>\n",
       "      <td>1-15 min</td>\n",
       "      <td>0</td>\n",
       "      <td>1</td>\n",
       "      <td>...</td>\n",
       "      <td>0</td>\n",
       "      <td>0</td>\n",
       "      <td>0</td>\n",
       "      <td>0</td>\n",
       "      <td>0</td>\n",
       "      <td>0</td>\n",
       "      <td>0</td>\n",
       "      <td>Afternoon</td>\n",
       "      <td>Spring</td>\n",
       "      <td>0</td>\n",
       "    </tr>\n",
       "    <tr>\n",
       "      <th>318645</th>\n",
       "      <td>176</td>\n",
       "      <td>Windham County</td>\n",
       "      <td>0.178571</td>\n",
       "      <td>White</td>\n",
       "      <td>0</td>\n",
       "      <td>0</td>\n",
       "      <td>Verbal Warning</td>\n",
       "      <td>1-15 min</td>\n",
       "      <td>0</td>\n",
       "      <td>0</td>\n",
       "      <td>...</td>\n",
       "      <td>0</td>\n",
       "      <td>0</td>\n",
       "      <td>0</td>\n",
       "      <td>0</td>\n",
       "      <td>0</td>\n",
       "      <td>0</td>\n",
       "      <td>0</td>\n",
       "      <td>Afternoon</td>\n",
       "      <td>Spring</td>\n",
       "      <td>0</td>\n",
       "    </tr>\n",
       "    <tr>\n",
       "      <th>318646</th>\n",
       "      <td>111</td>\n",
       "      <td>New Haven County</td>\n",
       "      <td>0.380952</td>\n",
       "      <td>White</td>\n",
       "      <td>0</td>\n",
       "      <td>0</td>\n",
       "      <td>Ticket</td>\n",
       "      <td>1-15 min</td>\n",
       "      <td>0</td>\n",
       "      <td>0</td>\n",
       "      <td>...</td>\n",
       "      <td>0</td>\n",
       "      <td>0</td>\n",
       "      <td>0</td>\n",
       "      <td>0</td>\n",
       "      <td>0</td>\n",
       "      <td>0</td>\n",
       "      <td>0</td>\n",
       "      <td>Afternoon</td>\n",
       "      <td>Spring</td>\n",
       "      <td>1</td>\n",
       "    </tr>\n",
       "    <tr>\n",
       "      <th>318647</th>\n",
       "      <td>156</td>\n",
       "      <td>Fairfield County</td>\n",
       "      <td>0.357143</td>\n",
       "      <td>White</td>\n",
       "      <td>0</td>\n",
       "      <td>0</td>\n",
       "      <td>Ticket</td>\n",
       "      <td>1-15 min</td>\n",
       "      <td>0</td>\n",
       "      <td>0</td>\n",
       "      <td>...</td>\n",
       "      <td>0</td>\n",
       "      <td>0</td>\n",
       "      <td>0</td>\n",
       "      <td>1</td>\n",
       "      <td>0</td>\n",
       "      <td>0</td>\n",
       "      <td>0</td>\n",
       "      <td>Afternoon</td>\n",
       "      <td>Spring</td>\n",
       "      <td>1</td>\n",
       "    </tr>\n",
       "    <tr>\n",
       "      <th>318648</th>\n",
       "      <td>146</td>\n",
       "      <td>Fairfield County</td>\n",
       "      <td>0.500000</td>\n",
       "      <td>Black</td>\n",
       "      <td>0</td>\n",
       "      <td>0</td>\n",
       "      <td>Ticket</td>\n",
       "      <td>1-15 min</td>\n",
       "      <td>0</td>\n",
       "      <td>0</td>\n",
       "      <td>...</td>\n",
       "      <td>0</td>\n",
       "      <td>0</td>\n",
       "      <td>0</td>\n",
       "      <td>1</td>\n",
       "      <td>0</td>\n",
       "      <td>0</td>\n",
       "      <td>0</td>\n",
       "      <td>Afternoon</td>\n",
       "      <td>Spring</td>\n",
       "      <td>0</td>\n",
       "    </tr>\n",
       "    <tr>\n",
       "      <th>318649</th>\n",
       "      <td>6</td>\n",
       "      <td>Hartford County</td>\n",
       "      <td>0.333333</td>\n",
       "      <td>Hispanic</td>\n",
       "      <td>0</td>\n",
       "      <td>0</td>\n",
       "      <td>Ticket</td>\n",
       "      <td>1-15 min</td>\n",
       "      <td>0</td>\n",
       "      <td>1</td>\n",
       "      <td>...</td>\n",
       "      <td>0</td>\n",
       "      <td>0</td>\n",
       "      <td>0</td>\n",
       "      <td>0</td>\n",
       "      <td>0</td>\n",
       "      <td>0</td>\n",
       "      <td>0</td>\n",
       "      <td>Afternoon</td>\n",
       "      <td>Spring</td>\n",
       "      <td>0</td>\n",
       "    </tr>\n",
       "    <tr>\n",
       "      <th>318650</th>\n",
       "      <td>11</td>\n",
       "      <td>Tolland County</td>\n",
       "      <td>0.095238</td>\n",
       "      <td>Black</td>\n",
       "      <td>0</td>\n",
       "      <td>0</td>\n",
       "      <td>Ticket</td>\n",
       "      <td>1-15 min</td>\n",
       "      <td>0</td>\n",
       "      <td>1</td>\n",
       "      <td>...</td>\n",
       "      <td>0</td>\n",
       "      <td>0</td>\n",
       "      <td>0</td>\n",
       "      <td>0</td>\n",
       "      <td>0</td>\n",
       "      <td>0</td>\n",
       "      <td>0</td>\n",
       "      <td>Afternoon</td>\n",
       "      <td>Spring</td>\n",
       "      <td>0</td>\n",
       "    </tr>\n",
       "    <tr>\n",
       "      <th>318651</th>\n",
       "      <td>111</td>\n",
       "      <td>New Haven County</td>\n",
       "      <td>0.202381</td>\n",
       "      <td>White</td>\n",
       "      <td>0</td>\n",
       "      <td>0</td>\n",
       "      <td>Verbal Warning</td>\n",
       "      <td>1-15 min</td>\n",
       "      <td>0</td>\n",
       "      <td>0</td>\n",
       "      <td>...</td>\n",
       "      <td>0</td>\n",
       "      <td>0</td>\n",
       "      <td>0</td>\n",
       "      <td>0</td>\n",
       "      <td>0</td>\n",
       "      <td>0</td>\n",
       "      <td>0</td>\n",
       "      <td>Afternoon</td>\n",
       "      <td>Spring</td>\n",
       "      <td>1</td>\n",
       "    </tr>\n",
       "    <tr>\n",
       "      <th>318652</th>\n",
       "      <td>76</td>\n",
       "      <td>Windham County</td>\n",
       "      <td>0.214286</td>\n",
       "      <td>White</td>\n",
       "      <td>0</td>\n",
       "      <td>0</td>\n",
       "      <td>Ticket</td>\n",
       "      <td>1-15 min</td>\n",
       "      <td>0</td>\n",
       "      <td>0</td>\n",
       "      <td>...</td>\n",
       "      <td>1</td>\n",
       "      <td>0</td>\n",
       "      <td>0</td>\n",
       "      <td>0</td>\n",
       "      <td>0</td>\n",
       "      <td>0</td>\n",
       "      <td>0</td>\n",
       "      <td>Afternoon</td>\n",
       "      <td>Spring</td>\n",
       "      <td>0</td>\n",
       "    </tr>\n",
       "    <tr>\n",
       "      <th>318653</th>\n",
       "      <td>85</td>\n",
       "      <td>Tolland County</td>\n",
       "      <td>0.095238</td>\n",
       "      <td>White</td>\n",
       "      <td>0</td>\n",
       "      <td>0</td>\n",
       "      <td>Ticket</td>\n",
       "      <td>1-15 min</td>\n",
       "      <td>0</td>\n",
       "      <td>1</td>\n",
       "      <td>...</td>\n",
       "      <td>0</td>\n",
       "      <td>0</td>\n",
       "      <td>0</td>\n",
       "      <td>0</td>\n",
       "      <td>0</td>\n",
       "      <td>0</td>\n",
       "      <td>0</td>\n",
       "      <td>Afternoon</td>\n",
       "      <td>Spring</td>\n",
       "      <td>1</td>\n",
       "    </tr>\n",
       "    <tr>\n",
       "      <th>318654</th>\n",
       "      <td>14</td>\n",
       "      <td>Fairfield County</td>\n",
       "      <td>0.071429</td>\n",
       "      <td>Black</td>\n",
       "      <td>0</td>\n",
       "      <td>0</td>\n",
       "      <td>Ticket</td>\n",
       "      <td>1-15 min</td>\n",
       "      <td>0</td>\n",
       "      <td>0</td>\n",
       "      <td>...</td>\n",
       "      <td>0</td>\n",
       "      <td>0</td>\n",
       "      <td>0</td>\n",
       "      <td>0</td>\n",
       "      <td>0</td>\n",
       "      <td>0</td>\n",
       "      <td>0</td>\n",
       "      <td>Afternoon</td>\n",
       "      <td>Spring</td>\n",
       "      <td>1</td>\n",
       "    </tr>\n",
       "    <tr>\n",
       "      <th>318655</th>\n",
       "      <td>14</td>\n",
       "      <td>Fairfield County</td>\n",
       "      <td>0.273810</td>\n",
       "      <td>Black</td>\n",
       "      <td>0</td>\n",
       "      <td>0</td>\n",
       "      <td>Ticket</td>\n",
       "      <td>16-30 min</td>\n",
       "      <td>0</td>\n",
       "      <td>0</td>\n",
       "      <td>...</td>\n",
       "      <td>0</td>\n",
       "      <td>0</td>\n",
       "      <td>0</td>\n",
       "      <td>0</td>\n",
       "      <td>0</td>\n",
       "      <td>0</td>\n",
       "      <td>0</td>\n",
       "      <td>Afternoon</td>\n",
       "      <td>Spring</td>\n",
       "      <td>1</td>\n",
       "    </tr>\n",
       "    <tr>\n",
       "      <th>318656</th>\n",
       "      <td>86</td>\n",
       "      <td>Hartford County</td>\n",
       "      <td>0.238095</td>\n",
       "      <td>White</td>\n",
       "      <td>1</td>\n",
       "      <td>1</td>\n",
       "      <td>Arrest</td>\n",
       "      <td>30+ min</td>\n",
       "      <td>0</td>\n",
       "      <td>0</td>\n",
       "      <td>...</td>\n",
       "      <td>0</td>\n",
       "      <td>0</td>\n",
       "      <td>0</td>\n",
       "      <td>0</td>\n",
       "      <td>0</td>\n",
       "      <td>0</td>\n",
       "      <td>0</td>\n",
       "      <td>Afternoon</td>\n",
       "      <td>Spring</td>\n",
       "      <td>1</td>\n",
       "    </tr>\n",
       "    <tr>\n",
       "      <th>318657</th>\n",
       "      <td>90</td>\n",
       "      <td>Middlesex County</td>\n",
       "      <td>0.416667</td>\n",
       "      <td>White</td>\n",
       "      <td>0</td>\n",
       "      <td>0</td>\n",
       "      <td>Verbal Warning</td>\n",
       "      <td>1-15 min</td>\n",
       "      <td>0</td>\n",
       "      <td>1</td>\n",
       "      <td>...</td>\n",
       "      <td>0</td>\n",
       "      <td>0</td>\n",
       "      <td>0</td>\n",
       "      <td>0</td>\n",
       "      <td>0</td>\n",
       "      <td>0</td>\n",
       "      <td>0</td>\n",
       "      <td>Afternoon</td>\n",
       "      <td>Spring</td>\n",
       "      <td>1</td>\n",
       "    </tr>\n",
       "    <tr>\n",
       "      <th>318658</th>\n",
       "      <td>111</td>\n",
       "      <td>New Haven County</td>\n",
       "      <td>0.142857</td>\n",
       "      <td>Asian</td>\n",
       "      <td>0</td>\n",
       "      <td>0</td>\n",
       "      <td>Ticket</td>\n",
       "      <td>1-15 min</td>\n",
       "      <td>0</td>\n",
       "      <td>0</td>\n",
       "      <td>...</td>\n",
       "      <td>0</td>\n",
       "      <td>0</td>\n",
       "      <td>0</td>\n",
       "      <td>1</td>\n",
       "      <td>0</td>\n",
       "      <td>0</td>\n",
       "      <td>0</td>\n",
       "      <td>Afternoon</td>\n",
       "      <td>Spring</td>\n",
       "      <td>1</td>\n",
       "    </tr>\n",
       "    <tr>\n",
       "      <th>318659</th>\n",
       "      <td>176</td>\n",
       "      <td>Windham County</td>\n",
       "      <td>0.226190</td>\n",
       "      <td>White</td>\n",
       "      <td>0</td>\n",
       "      <td>0</td>\n",
       "      <td>Ticket</td>\n",
       "      <td>1-15 min</td>\n",
       "      <td>0</td>\n",
       "      <td>1</td>\n",
       "      <td>...</td>\n",
       "      <td>0</td>\n",
       "      <td>0</td>\n",
       "      <td>0</td>\n",
       "      <td>0</td>\n",
       "      <td>0</td>\n",
       "      <td>0</td>\n",
       "      <td>0</td>\n",
       "      <td>Afternoon</td>\n",
       "      <td>Spring</td>\n",
       "      <td>0</td>\n",
       "    </tr>\n",
       "    <tr>\n",
       "      <th>318660</th>\n",
       "      <td>14</td>\n",
       "      <td>Fairfield County</td>\n",
       "      <td>0.488095</td>\n",
       "      <td>White</td>\n",
       "      <td>0</td>\n",
       "      <td>0</td>\n",
       "      <td>Verbal Warning</td>\n",
       "      <td>1-15 min</td>\n",
       "      <td>0</td>\n",
       "      <td>0</td>\n",
       "      <td>...</td>\n",
       "      <td>1</td>\n",
       "      <td>0</td>\n",
       "      <td>0</td>\n",
       "      <td>0</td>\n",
       "      <td>0</td>\n",
       "      <td>0</td>\n",
       "      <td>0</td>\n",
       "      <td>Afternoon</td>\n",
       "      <td>Spring</td>\n",
       "      <td>1</td>\n",
       "    </tr>\n",
       "    <tr>\n",
       "      <th>318661</th>\n",
       "      <td>113</td>\n",
       "      <td>Fairfield County</td>\n",
       "      <td>0.333333</td>\n",
       "      <td>Hispanic</td>\n",
       "      <td>0</td>\n",
       "      <td>0</td>\n",
       "      <td>Ticket</td>\n",
       "      <td>1-15 min</td>\n",
       "      <td>0</td>\n",
       "      <td>0</td>\n",
       "      <td>...</td>\n",
       "      <td>0</td>\n",
       "      <td>0</td>\n",
       "      <td>0</td>\n",
       "      <td>0</td>\n",
       "      <td>0</td>\n",
       "      <td>0</td>\n",
       "      <td>0</td>\n",
       "      <td>Afternoon</td>\n",
       "      <td>Spring</td>\n",
       "      <td>1</td>\n",
       "    </tr>\n",
       "    <tr>\n",
       "      <th>318662</th>\n",
       "      <td>87</td>\n",
       "      <td>New Haven County</td>\n",
       "      <td>0.130952</td>\n",
       "      <td>White</td>\n",
       "      <td>0</td>\n",
       "      <td>0</td>\n",
       "      <td>Ticket</td>\n",
       "      <td>1-15 min</td>\n",
       "      <td>0</td>\n",
       "      <td>0</td>\n",
       "      <td>...</td>\n",
       "      <td>0</td>\n",
       "      <td>0</td>\n",
       "      <td>0</td>\n",
       "      <td>0</td>\n",
       "      <td>0</td>\n",
       "      <td>0</td>\n",
       "      <td>0</td>\n",
       "      <td>Afternoon</td>\n",
       "      <td>Spring</td>\n",
       "      <td>0</td>\n",
       "    </tr>\n",
       "    <tr>\n",
       "      <th>318663</th>\n",
       "      <td>156</td>\n",
       "      <td>Fairfield County</td>\n",
       "      <td>0.297619</td>\n",
       "      <td>White</td>\n",
       "      <td>0</td>\n",
       "      <td>0</td>\n",
       "      <td>Ticket</td>\n",
       "      <td>1-15 min</td>\n",
       "      <td>0</td>\n",
       "      <td>0</td>\n",
       "      <td>...</td>\n",
       "      <td>0</td>\n",
       "      <td>0</td>\n",
       "      <td>0</td>\n",
       "      <td>0</td>\n",
       "      <td>0</td>\n",
       "      <td>0</td>\n",
       "      <td>0</td>\n",
       "      <td>Afternoon</td>\n",
       "      <td>Spring</td>\n",
       "      <td>0</td>\n",
       "    </tr>\n",
       "    <tr>\n",
       "      <th>318664</th>\n",
       "      <td>11</td>\n",
       "      <td>Tolland County</td>\n",
       "      <td>0.154762</td>\n",
       "      <td>White</td>\n",
       "      <td>0</td>\n",
       "      <td>0</td>\n",
       "      <td>Ticket</td>\n",
       "      <td>1-15 min</td>\n",
       "      <td>0</td>\n",
       "      <td>1</td>\n",
       "      <td>...</td>\n",
       "      <td>0</td>\n",
       "      <td>0</td>\n",
       "      <td>0</td>\n",
       "      <td>0</td>\n",
       "      <td>0</td>\n",
       "      <td>0</td>\n",
       "      <td>0</td>\n",
       "      <td>Afternoon</td>\n",
       "      <td>Spring</td>\n",
       "      <td>0</td>\n",
       "    </tr>\n",
       "    <tr>\n",
       "      <th>318665</th>\n",
       "      <td>76</td>\n",
       "      <td>Windham County</td>\n",
       "      <td>0.238095</td>\n",
       "      <td>White</td>\n",
       "      <td>0</td>\n",
       "      <td>0</td>\n",
       "      <td>Written Warning</td>\n",
       "      <td>1-15 min</td>\n",
       "      <td>0</td>\n",
       "      <td>0</td>\n",
       "      <td>...</td>\n",
       "      <td>0</td>\n",
       "      <td>0</td>\n",
       "      <td>0</td>\n",
       "      <td>1</td>\n",
       "      <td>0</td>\n",
       "      <td>0</td>\n",
       "      <td>0</td>\n",
       "      <td>Afternoon</td>\n",
       "      <td>Spring</td>\n",
       "      <td>0</td>\n",
       "    </tr>\n",
       "    <tr>\n",
       "      <th>318666</th>\n",
       "      <td>14</td>\n",
       "      <td>Fairfield County</td>\n",
       "      <td>0.321429</td>\n",
       "      <td>Hispanic</td>\n",
       "      <td>0</td>\n",
       "      <td>0</td>\n",
       "      <td>Ticket</td>\n",
       "      <td>1-15 min</td>\n",
       "      <td>0</td>\n",
       "      <td>0</td>\n",
       "      <td>...</td>\n",
       "      <td>0</td>\n",
       "      <td>0</td>\n",
       "      <td>0</td>\n",
       "      <td>0</td>\n",
       "      <td>0</td>\n",
       "      <td>0</td>\n",
       "      <td>0</td>\n",
       "      <td>Afternoon</td>\n",
       "      <td>Spring</td>\n",
       "      <td>1</td>\n",
       "    </tr>\n",
       "    <tr>\n",
       "      <th>318667</th>\n",
       "      <td>53</td>\n",
       "      <td>Hartford County</td>\n",
       "      <td>0.047619</td>\n",
       "      <td>Black</td>\n",
       "      <td>0</td>\n",
       "      <td>0</td>\n",
       "      <td>Ticket</td>\n",
       "      <td>1-15 min</td>\n",
       "      <td>0</td>\n",
       "      <td>0</td>\n",
       "      <td>...</td>\n",
       "      <td>0</td>\n",
       "      <td>0</td>\n",
       "      <td>0</td>\n",
       "      <td>0</td>\n",
       "      <td>0</td>\n",
       "      <td>0</td>\n",
       "      <td>0</td>\n",
       "      <td>Afternoon</td>\n",
       "      <td>Spring</td>\n",
       "      <td>0</td>\n",
       "    </tr>\n",
       "    <tr>\n",
       "      <th>318668</th>\n",
       "      <td>164</td>\n",
       "      <td>Litchfield County</td>\n",
       "      <td>0.047619</td>\n",
       "      <td>White</td>\n",
       "      <td>0</td>\n",
       "      <td>0</td>\n",
       "      <td>Ticket</td>\n",
       "      <td>1-15 min</td>\n",
       "      <td>0</td>\n",
       "      <td>0</td>\n",
       "      <td>...</td>\n",
       "      <td>0</td>\n",
       "      <td>0</td>\n",
       "      <td>0</td>\n",
       "      <td>1</td>\n",
       "      <td>0</td>\n",
       "      <td>0</td>\n",
       "      <td>0</td>\n",
       "      <td>Afternoon</td>\n",
       "      <td>Spring</td>\n",
       "      <td>1</td>\n",
       "    </tr>\n",
       "  </tbody>\n",
       "</table>\n",
       "<p>313129 rows × 26 columns</p>\n",
       "</div>"
      ],
      "text/plain": [
       "        location_raw        county_name  driver_age_raw driver_race  \\\n",
       "0                171   Fairfield County        0.642857       Black   \n",
       "1                 85     Tolland County        0.059524       White   \n",
       "2                 58  New London County        0.226190    Hispanic   \n",
       "3                 34   Fairfield County        0.369048       Black   \n",
       "4                 46    Hartford County        0.178571       White   \n",
       "5                156   Fairfield County        0.119048       Black   \n",
       "6                 72  Litchfield County        0.142857       White   \n",
       "7                171   Fairfield County        0.392857       White   \n",
       "8                 84    Hartford County        0.119048       White   \n",
       "9                  5   New Haven County        0.202381       White   \n",
       "10               171   Fairfield County        0.392857       Black   \n",
       "11                 5   New Haven County        0.142857    Hispanic   \n",
       "12               170   Middlesex County        0.202381       White   \n",
       "13               171   Fairfield County        0.142857       White   \n",
       "14                14   Fairfield County        0.059524       Black   \n",
       "15                85     Tolland County        0.071429       Black   \n",
       "16               165   New Haven County        0.619048       White   \n",
       "17               158     Tolland County        0.321429    Hispanic   \n",
       "18               176     Windham County        0.071429       White   \n",
       "19                73     Tolland County        0.095238       White   \n",
       "20                 5   New Haven County        0.083333       White   \n",
       "21                66   New Haven County        0.345238    Hispanic   \n",
       "22               171   Fairfield County        0.488095       White   \n",
       "23               176     Windham County        0.142857       White   \n",
       "24                46    Hartford County        0.107143       White   \n",
       "25                95   New Haven County        0.214286       White   \n",
       "26                70    Hartford County        0.095238       White   \n",
       "27                70    Hartford County        0.404762       Black   \n",
       "28                91   New Haven County        0.250000       Black   \n",
       "29                84    Hartford County        0.095238       White   \n",
       "...              ...                ...             ...         ...   \n",
       "318639           128    Hartford County        0.345238       White   \n",
       "318640           165   New Haven County        0.535714       White   \n",
       "318641            57    Hartford County        0.797619       White   \n",
       "318642            70    Hartford County        0.500000    Hispanic   \n",
       "318643           156   Fairfield County        0.107143    Hispanic   \n",
       "318644           176     Windham County        0.404762       White   \n",
       "318645           176     Windham County        0.178571       White   \n",
       "318646           111   New Haven County        0.380952       White   \n",
       "318647           156   Fairfield County        0.357143       White   \n",
       "318648           146   Fairfield County        0.500000       Black   \n",
       "318649             6    Hartford County        0.333333    Hispanic   \n",
       "318650            11     Tolland County        0.095238       Black   \n",
       "318651           111   New Haven County        0.202381       White   \n",
       "318652            76     Windham County        0.214286       White   \n",
       "318653            85     Tolland County        0.095238       White   \n",
       "318654            14   Fairfield County        0.071429       Black   \n",
       "318655            14   Fairfield County        0.273810       Black   \n",
       "318656            86    Hartford County        0.238095       White   \n",
       "318657            90   Middlesex County        0.416667       White   \n",
       "318658           111   New Haven County        0.142857       Asian   \n",
       "318659           176     Windham County        0.226190       White   \n",
       "318660            14   Fairfield County        0.488095       White   \n",
       "318661           113   Fairfield County        0.333333    Hispanic   \n",
       "318662            87   New Haven County        0.130952       White   \n",
       "318663           156   Fairfield County        0.297619       White   \n",
       "318664            11     Tolland County        0.154762       White   \n",
       "318665            76     Windham County        0.238095       White   \n",
       "318666            14   Fairfield County        0.321429    Hispanic   \n",
       "318667            53    Hartford County        0.047619       Black   \n",
       "318668           164  Litchfield County        0.047619       White   \n",
       "\n",
       "        search_conducted  contraband_found     stop_outcome stop_duration  \\\n",
       "0                      0                 0           Ticket      1-15 min   \n",
       "1                      0                 0   Verbal Warning      1-15 min   \n",
       "2                      0                 0           Ticket      1-15 min   \n",
       "3                      0                 0  Written Warning      1-15 min   \n",
       "4                      0                 0           Ticket      1-15 min   \n",
       "5                      0                 0   Verbal Warning      1-15 min   \n",
       "6                      0                 0           Ticket      1-15 min   \n",
       "7                      0                 0   Verbal Warning      1-15 min   \n",
       "8                      0                 0           Ticket      1-15 min   \n",
       "9                      0                 0   Verbal Warning      1-15 min   \n",
       "10                     0                 0           Ticket      1-15 min   \n",
       "11                     0                 0   Verbal Warning      1-15 min   \n",
       "12                     0                 0   Verbal Warning      1-15 min   \n",
       "13                     0                 0           Ticket      1-15 min   \n",
       "14                     0                 0           Ticket      1-15 min   \n",
       "15                     0                 0           Ticket      1-15 min   \n",
       "16                     0                 0   Verbal Warning      1-15 min   \n",
       "17                     0                 0   Verbal Warning      1-15 min   \n",
       "18                     0                 0   Verbal Warning      1-15 min   \n",
       "19                     0                 0           Ticket      1-15 min   \n",
       "20                     0                 0   Verbal Warning      1-15 min   \n",
       "21                     0                 0   Verbal Warning      1-15 min   \n",
       "22                     0                 0           Ticket      1-15 min   \n",
       "23                     0                 0           Ticket      1-15 min   \n",
       "24                     0                 0           Ticket      1-15 min   \n",
       "25                     0                 0           Ticket      1-15 min   \n",
       "26                     0                 0  Written Warning      1-15 min   \n",
       "27                     0                 0           Ticket      1-15 min   \n",
       "28                     0                 0   Verbal Warning      1-15 min   \n",
       "29                     0                 0           Ticket      1-15 min   \n",
       "...                  ...               ...              ...           ...   \n",
       "318639                 0                 0           Ticket      1-15 min   \n",
       "318640                 0                 0   Verbal Warning      1-15 min   \n",
       "318641                 0                 0   Verbal Warning     16-30 min   \n",
       "318642                 0                 0           Ticket      1-15 min   \n",
       "318643                 0                 0           Ticket      1-15 min   \n",
       "318644                 0                 0           Ticket      1-15 min   \n",
       "318645                 0                 0   Verbal Warning      1-15 min   \n",
       "318646                 0                 0           Ticket      1-15 min   \n",
       "318647                 0                 0           Ticket      1-15 min   \n",
       "318648                 0                 0           Ticket      1-15 min   \n",
       "318649                 0                 0           Ticket      1-15 min   \n",
       "318650                 0                 0           Ticket      1-15 min   \n",
       "318651                 0                 0   Verbal Warning      1-15 min   \n",
       "318652                 0                 0           Ticket      1-15 min   \n",
       "318653                 0                 0           Ticket      1-15 min   \n",
       "318654                 0                 0           Ticket      1-15 min   \n",
       "318655                 0                 0           Ticket     16-30 min   \n",
       "318656                 1                 1           Arrest       30+ min   \n",
       "318657                 0                 0   Verbal Warning      1-15 min   \n",
       "318658                 0                 0           Ticket      1-15 min   \n",
       "318659                 0                 0           Ticket      1-15 min   \n",
       "318660                 0                 0   Verbal Warning      1-15 min   \n",
       "318661                 0                 0           Ticket      1-15 min   \n",
       "318662                 0                 0           Ticket      1-15 min   \n",
       "318663                 0                 0           Ticket      1-15 min   \n",
       "318664                 0                 0           Ticket      1-15 min   \n",
       "318665                 0                 0  Written Warning      1-15 min   \n",
       "318666                 0                 0           Ticket      1-15 min   \n",
       "318667                 0                 0           Ticket      1-15 min   \n",
       "318668                 0                 0           Ticket      1-15 min   \n",
       "\n",
       "        violation_bad_stop  violation_cell_phone   ...     \\\n",
       "0                        0                     0   ...      \n",
       "1                        0                     0   ...      \n",
       "2                        0                     0   ...      \n",
       "3                        0                     0   ...      \n",
       "4                        0                     0   ...      \n",
       "5                        0                     0   ...      \n",
       "6                        0                     0   ...      \n",
       "7                        0                     0   ...      \n",
       "8                        0                     0   ...      \n",
       "9                        0                     0   ...      \n",
       "10                       0                     0   ...      \n",
       "11                       0                     0   ...      \n",
       "12                       0                     0   ...      \n",
       "13                       0                     0   ...      \n",
       "14                       0                     0   ...      \n",
       "15                       0                     0   ...      \n",
       "16                       0                     0   ...      \n",
       "17                       0                     0   ...      \n",
       "18                       0                     0   ...      \n",
       "19                       0                     0   ...      \n",
       "20                       0                     0   ...      \n",
       "21                       0                     0   ...      \n",
       "22                       0                     0   ...      \n",
       "23                       0                     0   ...      \n",
       "24                       0                     0   ...      \n",
       "25                       0                     0   ...      \n",
       "26                       0                     0   ...      \n",
       "27                       0                     0   ...      \n",
       "28                       0                     0   ...      \n",
       "29                       0                     0   ...      \n",
       "...                    ...                   ...   ...      \n",
       "318639                   0                     0   ...      \n",
       "318640                   0                     0   ...      \n",
       "318641                   0                     0   ...      \n",
       "318642                   0                     0   ...      \n",
       "318643                   0                     0   ...      \n",
       "318644                   0                     1   ...      \n",
       "318645                   0                     0   ...      \n",
       "318646                   0                     0   ...      \n",
       "318647                   0                     0   ...      \n",
       "318648                   0                     0   ...      \n",
       "318649                   0                     1   ...      \n",
       "318650                   0                     1   ...      \n",
       "318651                   0                     0   ...      \n",
       "318652                   0                     0   ...      \n",
       "318653                   0                     1   ...      \n",
       "318654                   0                     0   ...      \n",
       "318655                   0                     0   ...      \n",
       "318656                   0                     0   ...      \n",
       "318657                   0                     1   ...      \n",
       "318658                   0                     0   ...      \n",
       "318659                   0                     1   ...      \n",
       "318660                   0                     0   ...      \n",
       "318661                   0                     0   ...      \n",
       "318662                   0                     0   ...      \n",
       "318663                   0                     0   ...      \n",
       "318664                   0                     1   ...      \n",
       "318665                   0                     0   ...      \n",
       "318666                   0                     0   ...      \n",
       "318667                   0                     0   ...      \n",
       "318668                   0                     0   ...      \n",
       "\n",
       "        violation_registration  violation_safe_movement  violation_seatbelt  \\\n",
       "0                            0                        0                   0   \n",
       "1                            0                        0                   0   \n",
       "2                            0                        0                   0   \n",
       "3                            0                        0                   0   \n",
       "4                            0                        0                   0   \n",
       "5                            0                        0                   0   \n",
       "6                            0                        0                   0   \n",
       "7                            0                        0                   0   \n",
       "8                            0                        0                   0   \n",
       "9                            0                        0                   0   \n",
       "10                           0                        0                   0   \n",
       "11                           0                        0                   0   \n",
       "12                           0                        0                   0   \n",
       "13                           0                        0                   0   \n",
       "14                           0                        0                   0   \n",
       "15                           0                        0                   0   \n",
       "16                           0                        0                   0   \n",
       "17                           0                        0                   0   \n",
       "18                           0                        0                   0   \n",
       "19                           0                        0                   0   \n",
       "20                           0                        0                   0   \n",
       "21                           0                        0                   0   \n",
       "22                           0                        0                   0   \n",
       "23                           0                        0                   0   \n",
       "24                           0                        0                   0   \n",
       "25                           1                        0                   0   \n",
       "26                           1                        0                   0   \n",
       "27                           1                        0                   0   \n",
       "28                           0                        0                   0   \n",
       "29                           0                        0                   0   \n",
       "...                        ...                      ...                 ...   \n",
       "318639                       0                        0                   0   \n",
       "318640                       0                        0                   0   \n",
       "318641                       0                        0                   0   \n",
       "318642                       0                        0                   1   \n",
       "318643                       0                        0                   0   \n",
       "318644                       0                        0                   0   \n",
       "318645                       0                        0                   0   \n",
       "318646                       0                        0                   0   \n",
       "318647                       0                        0                   0   \n",
       "318648                       0                        0                   0   \n",
       "318649                       0                        0                   0   \n",
       "318650                       0                        0                   0   \n",
       "318651                       0                        0                   0   \n",
       "318652                       1                        0                   0   \n",
       "318653                       0                        0                   0   \n",
       "318654                       0                        0                   0   \n",
       "318655                       0                        0                   0   \n",
       "318656                       0                        0                   0   \n",
       "318657                       0                        0                   0   \n",
       "318658                       0                        0                   0   \n",
       "318659                       0                        0                   0   \n",
       "318660                       1                        0                   0   \n",
       "318661                       0                        0                   0   \n",
       "318662                       0                        0                   0   \n",
       "318663                       0                        0                   0   \n",
       "318664                       0                        0                   0   \n",
       "318665                       0                        0                   0   \n",
       "318666                       0                        0                   0   \n",
       "318667                       0                        0                   0   \n",
       "318668                       0                        0                   0   \n",
       "\n",
       "        violation_speeding  violation_suspended_license  \\\n",
       "0                        1                            0   \n",
       "1                        0                            0   \n",
       "2                        1                            0   \n",
       "3                        1                            0   \n",
       "4                        1                            0   \n",
       "5                        0                            0   \n",
       "6                        0                            0   \n",
       "7                        1                            0   \n",
       "8                        1                            0   \n",
       "9                        0                            0   \n",
       "10                       1                            0   \n",
       "11                       0                            0   \n",
       "12                       0                            0   \n",
       "13                       1                            0   \n",
       "14                       1                            0   \n",
       "15                       0                            0   \n",
       "16                       0                            0   \n",
       "17                       0                            0   \n",
       "18                       1                            0   \n",
       "19                       0                            0   \n",
       "20                       0                            0   \n",
       "21                       0                            0   \n",
       "22                       1                            0   \n",
       "23                       0                            0   \n",
       "24                       0                            0   \n",
       "25                       0                            0   \n",
       "26                       0                            0   \n",
       "27                       0                            0   \n",
       "28                       1                            0   \n",
       "29                       1                            0   \n",
       "...                    ...                          ...   \n",
       "318639                   0                            0   \n",
       "318640                   0                            0   \n",
       "318641                   1                            0   \n",
       "318642                   0                            0   \n",
       "318643                   1                            0   \n",
       "318644                   0                            0   \n",
       "318645                   0                            0   \n",
       "318646                   0                            0   \n",
       "318647                   1                            0   \n",
       "318648                   1                            0   \n",
       "318649                   0                            0   \n",
       "318650                   0                            0   \n",
       "318651                   0                            0   \n",
       "318652                   0                            0   \n",
       "318653                   0                            0   \n",
       "318654                   0                            0   \n",
       "318655                   0                            0   \n",
       "318656                   0                            0   \n",
       "318657                   0                            0   \n",
       "318658                   1                            0   \n",
       "318659                   0                            0   \n",
       "318660                   0                            0   \n",
       "318661                   0                            0   \n",
       "318662                   0                            0   \n",
       "318663                   0                            0   \n",
       "318664                   0                            0   \n",
       "318665                   1                            0   \n",
       "318666                   0                            0   \n",
       "318667                   0                            0   \n",
       "318668                   1                            0   \n",
       "\n",
       "        violation_traffic_control_signal  violation_window_tint   day_period  \\\n",
       "0                                      0                      0  Small Hours   \n",
       "1                                      0                      0  Small Hours   \n",
       "2                                      0                      0  Small Hours   \n",
       "3                                      0                      0  Small Hours   \n",
       "4                                      0                      0  Small Hours   \n",
       "5                                      0                      0  Small Hours   \n",
       "6                                      0                      0  Small Hours   \n",
       "7                                      0                      0  Small Hours   \n",
       "8                                      0                      0  Small Hours   \n",
       "9                                      0                      0  Small Hours   \n",
       "10                                     0                      0  Small Hours   \n",
       "11                                     0                      0  Small Hours   \n",
       "12                                     0                      0  Small Hours   \n",
       "13                                     0                      0  Small Hours   \n",
       "14                                     0                      0  Small Hours   \n",
       "15                                     0                      0  Small Hours   \n",
       "16                                     0                      0  Small Hours   \n",
       "17                                     0                      0  Small Hours   \n",
       "18                                     0                      0  Small Hours   \n",
       "19                                     0                      0  Small Hours   \n",
       "20                                     0                      0  Small Hours   \n",
       "21                                     0                      0  Small Hours   \n",
       "22                                     0                      0  Small Hours   \n",
       "23                                     0                      0  Small Hours   \n",
       "24                                     0                      0  Small Hours   \n",
       "25                                     0                      0  Small Hours   \n",
       "26                                     0                      0  Small Hours   \n",
       "27                                     0                      0  Small Hours   \n",
       "28                                     0                      0  Small Hours   \n",
       "29                                     0                      0  Small Hours   \n",
       "...                                  ...                    ...          ...   \n",
       "318639                                 0                      0    Afternoon   \n",
       "318640                                 0                      0    Afternoon   \n",
       "318641                                 0                      0    Afternoon   \n",
       "318642                                 0                      0    Afternoon   \n",
       "318643                                 0                      0    Afternoon   \n",
       "318644                                 0                      0    Afternoon   \n",
       "318645                                 0                      0    Afternoon   \n",
       "318646                                 0                      0    Afternoon   \n",
       "318647                                 0                      0    Afternoon   \n",
       "318648                                 0                      0    Afternoon   \n",
       "318649                                 0                      0    Afternoon   \n",
       "318650                                 0                      0    Afternoon   \n",
       "318651                                 0                      0    Afternoon   \n",
       "318652                                 0                      0    Afternoon   \n",
       "318653                                 0                      0    Afternoon   \n",
       "318654                                 0                      0    Afternoon   \n",
       "318655                                 0                      0    Afternoon   \n",
       "318656                                 0                      0    Afternoon   \n",
       "318657                                 0                      0    Afternoon   \n",
       "318658                                 0                      0    Afternoon   \n",
       "318659                                 0                      0    Afternoon   \n",
       "318660                                 0                      0    Afternoon   \n",
       "318661                                 0                      0    Afternoon   \n",
       "318662                                 0                      0    Afternoon   \n",
       "318663                                 0                      0    Afternoon   \n",
       "318664                                 0                      0    Afternoon   \n",
       "318665                                 0                      0    Afternoon   \n",
       "318666                                 0                      0    Afternoon   \n",
       "318667                                 0                      0    Afternoon   \n",
       "318668                                 0                      0    Afternoon   \n",
       "\n",
       "        season  is_male  \n",
       "0         Fall        0  \n",
       "1         Fall        1  \n",
       "2         Fall        1  \n",
       "3         Fall        1  \n",
       "4         Fall        1  \n",
       "5         Fall        1  \n",
       "6         Fall        1  \n",
       "7         Fall        1  \n",
       "8         Fall        1  \n",
       "9         Fall        1  \n",
       "10        Fall        0  \n",
       "11        Fall        0  \n",
       "12        Fall        1  \n",
       "13        Fall        1  \n",
       "14        Fall        0  \n",
       "15        Fall        0  \n",
       "16        Fall        1  \n",
       "17        Fall        1  \n",
       "18        Fall        1  \n",
       "19        Fall        1  \n",
       "20        Fall        1  \n",
       "21        Fall        1  \n",
       "22        Fall        0  \n",
       "23        Fall        1  \n",
       "24        Fall        1  \n",
       "25        Fall        1  \n",
       "26        Fall        1  \n",
       "27        Fall        0  \n",
       "28        Fall        1  \n",
       "29        Fall        1  \n",
       "...        ...      ...  \n",
       "318639  Spring        1  \n",
       "318640  Spring        1  \n",
       "318641  Spring        1  \n",
       "318642  Spring        1  \n",
       "318643  Spring        1  \n",
       "318644  Spring        0  \n",
       "318645  Spring        0  \n",
       "318646  Spring        1  \n",
       "318647  Spring        1  \n",
       "318648  Spring        0  \n",
       "318649  Spring        0  \n",
       "318650  Spring        0  \n",
       "318651  Spring        1  \n",
       "318652  Spring        0  \n",
       "318653  Spring        1  \n",
       "318654  Spring        1  \n",
       "318655  Spring        1  \n",
       "318656  Spring        1  \n",
       "318657  Spring        1  \n",
       "318658  Spring        1  \n",
       "318659  Spring        0  \n",
       "318660  Spring        1  \n",
       "318661  Spring        1  \n",
       "318662  Spring        0  \n",
       "318663  Spring        0  \n",
       "318664  Spring        0  \n",
       "318665  Spring        0  \n",
       "318666  Spring        1  \n",
       "318667  Spring        0  \n",
       "318668  Spring        1  \n",
       "\n",
       "[313129 rows x 26 columns]"
      ]
     },
     "execution_count": 43,
     "metadata": {},
     "output_type": "execute_result"
    }
   ],
   "source": [
    "# Normalize driver_age\n",
    "from sklearn.preprocessing import MinMaxScaler\n",
    "\n",
    "scaler = MinMaxScaler() # default=(0, 1)\n",
    "features_transformed = pd.DataFrame(data=df)\n",
    "features_transformed['driver_age_raw'] = scaler.fit_transform(features_transformed['driver_age_raw'].reshape(-1, 1))\n",
    "features_transformed"
   ]
  },
  {
   "cell_type": "code",
   "execution_count": 44,
   "metadata": {
    "ExecuteTime": {
     "end_time": "2018-05-10T02:16:11.368033Z",
     "start_time": "2018-05-09T22:16:11.364022-04:00"
    },
    "collapsed": false,
    "deletable": true,
    "editable": true
   },
   "outputs": [
    {
     "data": {
      "text/plain": [
       "(313129, 26)"
      ]
     },
     "execution_count": 44,
     "metadata": {},
     "output_type": "execute_result"
    }
   ],
   "source": [
    "features_transformed.shape"
   ]
  },
  {
   "cell_type": "code",
   "execution_count": 45,
   "metadata": {
    "ExecuteTime": {
     "end_time": "2018-05-10T02:16:11.572194Z",
     "start_time": "2018-05-09T22:16:11.369035-04:00"
    },
    "collapsed": true,
    "deletable": true,
    "editable": true
   },
   "outputs": [],
   "source": [
    "features_transformed.drop_duplicates(inplace=True)"
   ]
  },
  {
   "cell_type": "code",
   "execution_count": 46,
   "metadata": {
    "ExecuteTime": {
     "end_time": "2018-05-10T02:16:11.577089Z",
     "start_time": "2018-05-09T22:16:11.573080-04:00"
    },
    "collapsed": false,
    "deletable": true,
    "editable": true
   },
   "outputs": [
    {
     "data": {
      "text/plain": [
       "(277733, 26)"
      ]
     },
     "execution_count": 46,
     "metadata": {},
     "output_type": "execute_result"
    }
   ],
   "source": [
    "features_transformed.shape"
   ]
  },
  {
   "cell_type": "code",
   "execution_count": 47,
   "metadata": {
    "ExecuteTime": {
     "end_time": "2018-05-10T02:16:11.584123Z",
     "start_time": "2018-05-09T22:16:11.578595-04:00"
    },
    "collapsed": true,
    "deletable": true,
    "editable": true
   },
   "outputs": [],
   "source": [
    "# Prefix officer id numbers as dtype is object and get_dummies() creates some duplicate columns\n",
    "# features_transformed['officer_id'] = le.fit_transform(features_transformed['officer_id'].apply(lambda x: 'no_{}'.format(x)))\n"
   ]
  },
  {
   "cell_type": "code",
   "execution_count": 48,
   "metadata": {
    "ExecuteTime": {
     "end_time": "2018-05-10T02:16:11.684417Z",
     "start_time": "2018-05-09T22:16:11.585628-04:00"
    },
    "collapsed": false,
    "deletable": true,
    "editable": true
   },
   "outputs": [
    {
     "data": {
      "text/plain": [
       "array(['location_raw', 'driver_age_raw', 'search_conducted',\n",
       "       'contraband_found', 'stop_outcome', 'violation_bad_stop',\n",
       "       'violation_cell_phone', 'violation_display_of_plates',\n",
       "       'violation_equipment', 'violation_license', 'violation_lights',\n",
       "       'violation_moving_violation', 'violation_other',\n",
       "       'violation_registration', 'violation_safe_movement',\n",
       "       'violation_seatbelt', 'violation_speeding',\n",
       "       'violation_suspended_license', 'violation_traffic_control_signal',\n",
       "       'violation_window_tint', 'is_male', 'county_name_Fairfield County',\n",
       "       'county_name_Hartford County', 'county_name_Litchfield County',\n",
       "       'county_name_Middlesex County', 'county_name_New Haven County',\n",
       "       'county_name_New London County', 'county_name_Tolland County',\n",
       "       'county_name_Windham County', 'driver_race_Asian',\n",
       "       'driver_race_Black', 'driver_race_Hispanic', 'driver_race_Other',\n",
       "       'driver_race_White', 'stop_duration_1-15 min',\n",
       "       'stop_duration_16-30 min', 'stop_duration_30+ min',\n",
       "       'day_period_Afternoon', 'day_period_Evening', 'day_period_Morning',\n",
       "       'day_period_Small Hours', 'season_Fall', 'season_Spring',\n",
       "       'season_Summer', 'season_Winter'], dtype=object)"
      ]
     },
     "execution_count": 48,
     "metadata": {},
     "output_type": "execute_result"
    }
   ],
   "source": [
    "# One-hot encode categorical variables\n",
    "cols_to_encode = [\n",
    "#     'location_raw',\n",
    "    'county_name',\n",
    "    'driver_race',\n",
    "#     'officer_id',\n",
    "    'stop_duration',\n",
    "    'day_period',\n",
    "    'season',\n",
    "]\n",
    "final_features = pd.get_dummies(features_transformed, columns=cols_to_encode)\n",
    "final_features.columns.values"
   ]
  },
  {
   "cell_type": "code",
   "execution_count": 49,
   "metadata": {
    "ExecuteTime": {
     "end_time": "2018-05-10T02:16:11.688929Z",
     "start_time": "2018-05-09T22:16:11.685393-04:00"
    },
    "collapsed": false,
    "deletable": true,
    "editable": true
   },
   "outputs": [
    {
     "data": {
      "text/plain": [
       "(277733, 45)"
      ]
     },
     "execution_count": 49,
     "metadata": {},
     "output_type": "execute_result"
    }
   ],
   "source": [
    "final_features.shape"
   ]
  },
  {
   "cell_type": "code",
   "execution_count": 50,
   "metadata": {
    "ExecuteTime": {
     "end_time": "2018-05-10T02:16:12.019721Z",
     "start_time": "2018-05-09T22:16:11.689905-04:00"
    },
    "collapsed": false,
    "deletable": true,
    "editable": true
   },
   "outputs": [
    {
     "name": "stdout",
     "output_type": "stream",
     "text": [
      "timestamp = 20180509221611\n"
     ]
    }
   ],
   "source": [
    "from datetime import datetime\n",
    "\n",
    "timestamp = datetime.now().strftime('%Y%m%d%H%M%S')\n",
    "\n",
    "non_oversampled = final_features.copy(deep=True)\n",
    "non_oversampled_outcomes = non_oversampled.pop('stop_outcome')\n",
    "\n",
    "non_oversampled.to_pickle('./final_features-{}-non_oversampled.pkl'.format(timestamp))\n",
    "non_oversampled_outcomes.to_pickle('./labels-{}-non_oversampled.pkl'.format(timestamp))\n",
    "print('timestamp = {}'.format(timestamp))"
   ]
  },
  {
   "cell_type": "code",
   "execution_count": 51,
   "metadata": {
    "ExecuteTime": {
     "end_time": "2018-05-10T02:16:12.144558Z",
     "start_time": "2018-05-09T22:16:12.021224-04:00"
    },
    "collapsed": true,
    "deletable": true,
    "editable": true
   },
   "outputs": [],
   "source": [
    "tickets = final_features.loc[final_features['stop_outcome'] == 'Ticket']\n",
    "arrests = final_features.loc[final_features['stop_outcome'] == 'Arrest']\n",
    "summons = final_features.loc[final_features['stop_outcome'] == 'Summons']\n",
    "ww = final_features.loc[final_features['stop_outcome'] == 'Written Warning']\n",
    "vw = final_features.loc[final_features['stop_outcome'] == 'Verbal Warning']"
   ]
  },
  {
   "cell_type": "code",
   "execution_count": 52,
   "metadata": {
    "ExecuteTime": {
     "end_time": "2018-05-10T02:16:12.150095Z",
     "start_time": "2018-05-09T22:16:12.145564-04:00"
    },
    "collapsed": false,
    "deletable": true,
    "editable": true
   },
   "outputs": [
    {
     "name": "stdout",
     "output_type": "stream",
     "text": [
      "Multipliers:\n",
      "  Arrests: 26\n",
      "  Summons: 15\n",
      "  WW: 7\n",
      "  VW: 4\n"
     ]
    }
   ],
   "source": [
    "multiplier_arrests = tickets.shape[0] // arrests.shape[0]\n",
    "multiplier_summons = tickets.shape[0] // summons.shape[0]\n",
    "multiplier_ww = tickets.shape[0] // ww.shape[0]\n",
    "multiplier_vw = tickets.shape[0] // vw.shape[0]\n",
    "print('Multipliers:\\n  Arrests: {}\\n  Summons: {}\\n  WW: {}\\n  VW: {}'.format(multiplier_arrests, multiplier_summons, multiplier_ww, multiplier_vw))\n"
   ]
  },
  {
   "cell_type": "code",
   "execution_count": 53,
   "metadata": {
    "ExecuteTime": {
     "end_time": "2018-05-10T02:16:12.396795Z",
     "start_time": "2018-05-09T22:16:12.151602-04:00"
    },
    "collapsed": false,
    "deletable": true,
    "editable": true
   },
   "outputs": [
    {
     "data": {
      "text/plain": [
       "(1009048, 45)"
      ]
     },
     "execution_count": 53,
     "metadata": {},
     "output_type": "execute_result"
    }
   ],
   "source": [
    "oversampled = final_features.append([arrests] * multiplier_arrests, ignore_index=True)\n",
    "oversampled = oversampled.append([summons] * multiplier_summons, ignore_index=True)\n",
    "oversampled = oversampled.append([ww] * multiplier_ww, ignore_index=True)\n",
    "oversampled = oversampled.append([vw] * multiplier_vw, ignore_index=True)\n",
    "oversampled.shape"
   ]
  },
  {
   "cell_type": "code",
   "execution_count": 54,
   "metadata": {
    "ExecuteTime": {
     "end_time": "2018-05-10T02:16:12.400831Z",
     "start_time": "2018-05-09T22:16:12.397799-04:00"
    },
    "collapsed": true,
    "deletable": true,
    "editable": true
   },
   "outputs": [],
   "source": [
    "# Extract target labels\n",
    "outcomes = oversampled.pop('stop_outcome')"
   ]
  },
  {
   "cell_type": "code",
   "execution_count": 55,
   "metadata": {
    "ExecuteTime": {
     "end_time": "2018-05-10T02:16:12.606855Z",
     "start_time": "2018-05-09T22:16:12.402309-04:00"
    },
    "collapsed": false,
    "deletable": true,
    "editable": true,
    "scrolled": false
   },
   "outputs": [
    {
     "data": {
      "image/png": "[encoded data removed]",
      "text/plain": [
       "<matplotlib.figure.Figure at 0x208de2f2518>"
      ]
     },
     "metadata": {},
     "output_type": "display_data"
    }
   ],
   "source": [
    "outcome_breakdown = outcomes.value_counts().mul(100).plot.bar(figsize=(15, 3), table=True)\n",
    "outcome_breakdown.axes.get_xaxis().set_visible(False)\n",
    "outcome_breakdown.axes.set_ylabel('%')\n",
    "outcome_breakdown.tables[0].scale(1, 2)"
   ]
  },
  {
   "cell_type": "code",
   "execution_count": 56,
   "metadata": {
    "ExecuteTime": {
     "end_time": "2018-05-10T02:16:12.610865Z",
     "start_time": "2018-05-09T22:16:12.607856-04:00"
    },
    "collapsed": false,
    "deletable": true,
    "editable": true
   },
   "outputs": [
    {
     "data": {
      "text/plain": [
       "(1009048, 44)"
      ]
     },
     "execution_count": 56,
     "metadata": {},
     "output_type": "execute_result"
    }
   ],
   "source": [
    "oversampled.shape"
   ]
  },
  {
   "cell_type": "code",
   "execution_count": 57,
   "metadata": {
    "ExecuteTime": {
     "end_time": "2018-05-10T02:16:13.511967Z",
     "start_time": "2018-05-09T22:16:12.611868-04:00"
    },
    "collapsed": false,
    "deletable": true,
    "editable": true
   },
   "outputs": [
    {
     "name": "stdout",
     "output_type": "stream",
     "text": [
      "timestamp = 20180509221611\n"
     ]
    }
   ],
   "source": [
    "# from datetime import datetime\n",
    "\n",
    "# timestamp = datetime.now().strftime('%Y%m%d%H%M%S')\n",
    "\n",
    "oversampled.to_pickle('./final_features-{}.pkl'.format(timestamp))\n",
    "outcomes.to_pickle('./labels-{}.pkl'.format(timestamp))\n",
    "print('timestamp = {}'.format(timestamp))"
   ]
  },
  {
   "cell_type": "markdown",
   "metadata": {
    "deletable": true,
    "editable": true
   },
   "source": [
    "### Implementation\n",
    "In this section, the process for which metrics, algorithms, and techniques that you implemented for the given data will need to be clearly documented. It should be abundantly clear how the implementation was carried out, and discussion should be made regarding any complications that occurred during this process. Questions to ask yourself when writing this section:\n",
    "- _Is it made clear how the algorithms and techniques were implemented with the given datasets or input data?_\n",
    "- _Were there any complications with the original metrics or techniques that required changing prior to acquiring a solution?_\n",
    "- _Was there any part of the coding process (e.g., writing complicated functions) that should be documented?_"
   ]
  },
  {
   "cell_type": "markdown",
   "metadata": {
    "deletable": true,
    "editable": true
   },
   "source": [
    "#### Complications\n",
    "\n",
    "- Attempted to one-hot encode **`officer_id`** field that had 1200+ unique values, but ran into memory issues.  Tried to use **`sklearn.preprocessing.LabelEncoder`** function to reduce number of columns to one, but the number of values would have created too many trees, so also encountered out-of-memory errors.\n",
    "- Similarly, one-hot encoding the **`location_raw`** field with 220+ unique values also encountered out-of-memory errors, but fortunately, **`sklearn.preprocessing.LabelEncoder`** function worked well, and helped increase accuracy significantly.\n",
    "- XGBoost's API enables you to create and train a model through a method or a class:  xgb.train or XGBClassifier.  The latter can be used with **`sklearn.model_selection.GridSearchCV`** to perform a grid search.  Unfortunately, I was not able to get it to work with the my GPU, so I implemented a manual grid search in which I experimented with various values for 3 parameter variables [TODO: list the variables] until minimum error was achieved using sample sets of 10,000 rows."
   ]
  },
  {
   "cell_type": "markdown",
   "metadata": {
    "deletable": true,
    "editable": true
   },
   "source": [
    "### Refinement\n",
    "In this section, you will need to discuss the process of improvement you made upon the algorithms and techniques you used in your implementation. For example, adjusting parameters for certain models to acquire improved solutions would fall under the refinement category. Your initial and final solutions should be reported, as well as any significant intermediate results as necessary. Questions to ask yourself when writing this section:\n",
    "- _Has an initial solution been found and clearly reported?_\n",
    "- _Is the process of improvement clearly documented, such as what techniques were used?_\n",
    "- _Are intermediate and final solutions clearly reported as the process is improved?_"
   ]
  },
  {
   "cell_type": "markdown",
   "metadata": {
    "deletable": true,
    "editable": true
   },
   "source": [
    "## IV. Results\n",
    "_(approx. 2-3 pages)_\n",
    "\n",
    "### Model Evaluation and Validation\n",
    "In this section, the final model and any supporting qualities should be evaluated in detail. It should be clear how the final model was derived and why this model was chosen. In addition, some type of analysis should be used to validate the robustness of this model and its solution, such as manipulating the input data or environment to see how the model’s solution is affected (this is called sensitivity analysis). Questions to ask yourself when writing this section:\n",
    "- _Is the final model reasonable and aligning with solution expectations? Are the final parameters of the model appropriate?_\n",
    "- _Has the final model been tested with various inputs to evaluate whether the model generalizes well to unseen data?_\n",
    "- _Is the model robust enough for the problem? Do small perturbations (changes) in training data or the input space greatly affect the results?_\n",
    "- _Can results found from the model be trusted?_"
   ]
  },
  {
   "cell_type": "markdown",
   "metadata": {},
   "source": [
    "#### _Can results found from the model be trusted?_\n",
    "\n",
    "I feel pretty confident the results can be trusted.  To verify, I sliced 5% of the preprocessed training data and ensured that it was not used in the training process at all.  Once training was completed, I used the resulting model to make predictions on this dataset and the accuracy was always within a few 1/10000ths error of that reported by the official testing dataset from **`sklearn.model_selection import train_test_split`** output."
   ]
  },
  {
   "cell_type": "markdown",
   "metadata": {
    "deletable": true,
    "editable": true
   },
   "source": [
    "### Justification\n",
    "In this section, your model’s final solution and its results should be compared to the benchmark you established earlier in the project using some type of statistical analysis. You should also justify whether these results and the solution are significant enough to have solved the problem posed in the project. Questions to ask yourself when writing this section:\n",
    "- _Are the final results found stronger than the benchmark result reported earlier?_\n",
    "- _Have you thoroughly analyzed and discussed the final solution?_\n",
    "- _Is the final solution significant enough to have solved the problem?_"
   ]
  },
  {
   "cell_type": "markdown",
   "metadata": {
    "deletable": true,
    "editable": true
   },
   "source": [
    "## V. Conclusion\n",
    "_(approx. 1-2 pages)_"
   ]
  },
  {
   "cell_type": "markdown",
   "metadata": {
    "deletable": true,
    "editable": true
   },
   "source": [
    "### Free-Form Visualization\n",
    "In this section, you will need to provide some form of visualization that emphasizes an important quality about the project. It is much more free-form, but should reasonably support a significant result or characteristic about the problem that you want to discuss. Questions to ask yourself when writing this section:\n",
    "- _Have you visualized a relevant or important quality about the problem, dataset, input data, or results?_\n",
    "- _Is the visualization thoroughly analyzed and discussed?_\n",
    "- _If a plot is provided, are the axes, title, and datum clearly defined?_"
   ]
  },
  {
   "cell_type": "markdown",
   "metadata": {
    "deletable": true,
    "editable": true
   },
   "source": [
    "### Reflection\n",
    "In this section, you will summarize the entire end-to-end problem solution and discuss one or two particular aspects of the project you found interesting or difficult. You are expected to reflect on the project as a whole to show that you have a firm understanding of the entire process employed in your work. Questions to ask yourself when writing this section:\n",
    "- _Have you thoroughly summarized the entire process you used for this project?_\n",
    "- _Were there any interesting aspects of the project?_\n",
    "- _Were there any difficult aspects of the project?_\n",
    "- _Does the final model and solution fit your expectations for the problem, and should it be used in a general setting to solve these types of problems?_"
   ]
  },
  {
   "cell_type": "markdown",
   "metadata": {},
   "source": [
    "### Improvement\n",
    "In this section, you will need to provide discussion as to how one aspect of the implementation you designed could be improved. As an example, consider ways your implementation can be made more general, and what would need to be modified. You do not need to make this improvement, but the potential solutions resulting from these changes are considered and compared/contrasted to your current solution. Questions to ask yourself when writing this section:\n",
    "- _Are there further improvements that could be made on the algorithms or techniques you used in this project?_\n",
    "- _Were there algorithms or techniques you researched that you did not know how to implement, but would consider using if you knew how?_\n",
    "- _If you used your final solution as the new benchmark, do you think an even better solution exists?_"
   ]
  },
  {
   "cell_type": "markdown",
   "metadata": {
    "ExecuteTime": {
     "end_time": "2018-05-10T15:15:20.388236Z",
     "start_time": "2018-05-10T11:15:20.382220-04:00"
    }
   },
   "source": [
    "#### _Are there further improvements that could be made on the algorithms or techniques you used in this project?_\n",
    "\n",
    "It may be possible to increase accuracy by finding conducting further experiements to accommodate the **`officer_id`** field.  I suspect that increased hardware RAM might make it possible, but there is also the risk that any model created with such granular data might be more prone to overfitting.\n",
    "\n",
    "#### _Were there algorithms or techniques you researched that you did not know how to implement, but would consider using if you knew how?_\n",
    "\n",
    "As I experimented and researched solutions for problems I encountered while developing my model, I came across another boosting framework called, Light GBM, that, at least by one benchmark test by Analytics Vidya, may be slightly more accurate and significantly more performant (see \"Which algorithm takes the crown: Light GBM vs XGBOOST?\" at https://www.analyticsvidhya.com/blog/2017/06/which-algorithm-takes-the-crown-light-gbm-vs-xgboost/).  Light GBM splits its trees leaf-wise, instead of level-wise as XGBoost does.\n",
    "\n",
    "#### - _If you used your final solution as the new benchmark, do you think an even better solution exists?_\n",
    "\n",
    "My benchmark of 95% accuracy is quite high and may be difficult to improve.  Of course, there is always the possibility thtat an even better solution exists.  Further hyperparameter tuning might achieve this.  Plus, experiments with Light GBM or a convolutional neural network might also improve performance."
   ]
  },
  {
   "cell_type": "markdown",
   "metadata": {
    "collapsed": true,
    "deletable": true,
    "editable": true
   },
   "source": [
    "-----------\n",
    "\n",
    "**Before submitting, ask yourself. . .**\n",
    "\n",
    "- Does the project report you’ve written follow a well-organized structure similar to that of the project template?\n",
    "- Is each section (particularly **Analysis** and **Methodology**) written in a clear, concise and specific fashion? Are there any ambiguous terms or phrases that need clarification?\n",
    "- Would the intended audience of your project be able to understand your analysis, methods, and results?\n",
    "- Have you properly proof-read your project report to assure there are minimal grammatical and spelling mistakes?\n",
    "- Are all the resources used for this project correctly cited and referenced?\n",
    "- Is the code that implements your solution easily readable and properly commented?\n",
    "- Does the code execute without error and produce results similar to those reported?"
   ]
  },
  {
   "cell_type": "markdown",
   "metadata": {
    "deletable": true,
    "editable": true
   },
   "source": [
    "## References\n",
    "\n"
   ]
  },
  {
   "cell_type": "code",
   "execution_count": null,
   "metadata": {
    "collapsed": true,
    "deletable": true,
    "editable": true
   },
   "outputs": [],
   "source": []
  }
 ],
 "metadata": {
  "anaconda-cloud": {},
  "hide_input": false,
  "kernelspec": {
   "display_name": "Python 3",
   "language": "python",
   "name": "python3"
  },
  "language_info": {
   "codemirror_mode": {
    "name": "ipython",
    "version": 3
   },
   "file_extension": ".py",
   "mimetype": "text/x-python",
   "name": "python",
   "nbconvert_exporter": "python",
   "pygments_lexer": "ipython3",
   "version": "3.5.3"
  },
  "toc": {
   "base_numbering": 1,
   "nav_menu": {},
   "number_sections": true,
   "sideBar": true,
   "skip_h1_title": false,
   "title_cell": "Table of Contents",
   "title_sidebar": "Contents",
   "toc_cell": false,
   "toc_position": {
    "height": "calc(100% - 180px)",
    "left": "10px",
    "top": "150px",
    "width": "329px"
   },
   "toc_section_display": true,
   "toc_window_display": true
  },
  "varInspector": {
   "cols": {
    "lenName": 16,
    "lenType": 16,
    "lenVar": 40
   },
   "kernels_config": {
    "python": {
     "delete_cmd_postfix": "",
     "delete_cmd_prefix": "del ",
     "library": "var_list.py",
     "varRefreshCmd": "print(var_dic_list())"
    },
    "r": {
     "delete_cmd_postfix": ") ",
     "delete_cmd_prefix": "rm(",
     "library": "var_list.r",
     "varRefreshCmd": "cat(var_dic_list()) "
    }
   },
   "types_to_exclude": [
    "module",
    "function",
    "builtin_function_or_method",
    "instance",
    "_Feature"
   ],
   "window_display": false
  }
 },
 "nbformat": 4,
 "nbformat_minor": 2
}
