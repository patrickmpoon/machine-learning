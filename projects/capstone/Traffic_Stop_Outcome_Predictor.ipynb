{
 "cells": [
  {
   "cell_type": "markdown",
   "metadata": {},
   "source": [
    "# Machine Learning Engineer Nanodegree\n",
    "## Capstone Project\n",
    "Patrick Poon  \n",
    "May 13, 2018\n",
    "\n",
    "## I. Definition\n",
    "_(approx. 1-2 pages)_\n",
    "\n",
    "### Project Overview\n",
    "\n",
    "In this section, look to provide a high-level overview of the project in layman’s terms. Questions to ask yourself when writing this section:\n",
    "- _Has an overview of the project been provided, such as the problem domain, project origin, and related datasets or input data?_\n",
    "- _Has enough background information been given so that an uninformed reader would understand the problem domain and following problem statement?_\n",
    "<!--\n",
    "-->\n",
    "\n",
    "> Most people...the interaction that they're going to have with a police officer is because [...] they're stopped for speeding.  Or, forgetting to turn their blinker off.[1]\n",
    "> \n",
    ">-- Cheryl Phillips, Journalism Professor at Stanford University\n",
    "\n",
    "On a typical day in the United States, police officers make more than 50,000 traffic stops.[2]  In recent years, there have been numerous incidents that have made national headlines that involved an officer shooting and, in some cases, killing the driver or an occupant.  Many cite racial biases against Blacks and Hispanics for the disproportionate number of such incidents.  Here are some relevant articles:\n",
    "\n",
    "- Was the Sandra Bland traffic stop legal -- and fair? (https://www.cnn.com/2015/07/23/opinions/cevallos-sandra-bland-traffic-stop/index.html)\n",
    "- Philando Castile shooting: Dashcam video shows rapid event (https://www.cnn.com/2017/06/20/us/philando-castile-shooting-dashcam/index.html)\n",
    "\n",
    "This Capstone project will not attempt to prove or disprove this controversial topic, and will attempt to  avoid making any controversial or provocative statements on either side of the conversation.\n"
   ]
  },
  {
   "cell_type": "markdown",
   "metadata": {},
   "source": [
    "### Problem Statement\n",
    "\n",
    "<!--\n",
    "In this section, you will want to clearly define the problem that you are trying to solve, including the strategy (outline of tasks) you will use to achieve the desired solution. You should also thoroughly discuss what the intended solution will be for this problem. Questions to ask yourself when writing this section:\n",
    "- _Is the problem statement clearly defined? Will the reader understand what you are expecting to solve?_\n",
    "- _Have you thoroughly discussed how you will attempt to solve the problem?_\n",
    "- _Is an anticipated solution clearly defined? Will the reader understand what results you are looking for?_\n",
    "-->\n",
    "\n",
    "Instead, this project aims to create a multi-class classifier that takes various discrete traffic stop situational values to predict the outcome of a traffic stop, specifically in the state of Connecticut (CT).  Given a driver's age, gender, race, traffic stop violation, and the county in which a traffic stop occurs, can we reliably predict whether the traffic stop will result in a verbal/written warning, a ticket, a summons to appear in court, or an arrest?\n",
    "\n",
    "To accomplish this task, I will parse and process traffic stop data for the state of Connecticut, and feed it into a supervised learning algorithm that I will train and tune to predict these outcomes.  The data comes from the Stanford Open Policing Project (SOPP) at https://openpolicing.stanford.edu/data/. SOPP has collected data for 31 states, but the CT dataset was the cleanest and most consistent.\n",
    "\n",
    "<!-- \n",
    "Direct file link:  https://stacks.stanford.edu/file/druid:py883nd2578/CT-clean.csv.gz\n",
    "-->"
   ]
  },
  {
   "cell_type": "markdown",
   "metadata": {},
   "source": [
    "### Metrics\n",
    "<!--\n",
    "In this section, you will need to clearly define the metrics or calculations you will use to measure performance of a model or result in your project. These calculations and metrics should be justified based on the characteristics of the problem and problem domain. Questions to ask yourself when writing this section:\n",
    "- _Are the metrics you’ve chosen to measure the performance of your models clearly discussed and defined?_\n",
    "- _Have you provided reasonable justification for the metrics chosen based on the problem and solution?_\n",
    "-->\n",
    "\n",
    "For this project, I will use **accuracy classification score** as my evaluation metric.  According to the sklearn page for the **`accuracy_score`** function[5], in the context of multiclass classification, the function is equivalent to the **`jaccard_similarity_score`** function which calculates the Jaccard index, also known as \"Intersection over Union,\" as illustrated in the following formula:\n",
    "\n",
    "<center>\n",
    "![Intersection over Union formula](./images/IoU.svg)\n",
    "</center>\n",
    "\n",
    "[TODO: Add reference to sklearn accuracy_score page:  http://scikit-learn.org/stable/modules/generated/sklearn.metrics.accuracy_score.html]\n",
    "[TODO: Add reference to wiki source:  https://en.wikipedia.org/wiki/Jaccard_index]\n"
   ]
  },
  {
   "cell_type": "markdown",
   "metadata": {},
   "source": [
    "## II. Analysis\n",
    "<!--\n",
    "_(approx. 2-4 pages)_\n",
    "-->\n",
    "\n",
    "### Data Exploration & Exploratory Visualization\n",
    "<!--\n",
    "In this section, you will be expected to analyze the data you are using for the problem. This data can either be in the form of a dataset (or datasets), input data (or input files), or even an environment. The type of data should be thoroughly described and, if possible, have basic statistics and information presented (such as discussion of input features or defining characteristics about the input or environment). Any abnormalities or interesting qualities about the data that may need to be addressed have been identified (such as features that need to be transformed or the possibility of outliers). Questions to ask yourself when writing this section:\n",
    "- _If a dataset is present for this problem, have you thoroughly discussed certain features about the dataset? Has a data sample been provided to the reader?_\n",
    "- _If a dataset is present for this problem, are statistics about the dataset calculated and reported? Have any relevant results from this calculation been discussed?_\n",
    "- _If a dataset is **not** present for this problem, has discussion been made about the input space or input data for your problem?_\n",
    "- _Are there any Mabnormalities or characteristics about the input space or dataset that need to be addressed? (categorical variables, missing values, outliers, etc.)_\n",
    "-->"
   ]
  },
  {
   "cell_type": "markdown",
   "metadata": {},
   "source": [
    "<!--\n",
    "### Exploratory Visualization\n",
    "In this section, you will need to provide some form of visualization that summarizes or extracts a relevant characteristic or feature about the data. The visualization should adequately support the data being used. Discuss why this visualization was chosen and how it is relevant. Questions to ask yourself when writing this section:\n",
    "- _Have you visualized a relevant characteristic or feature about the dataset or input data?_\n",
    "- _Is the visualization thoroughly analyzed and discussed?_\n",
    "- _If a plot is provided, are the axes, title, and datum clearly defined?_\n",
    "-->"
   ]
  },
  {
   "cell_type": "markdown",
   "metadata": {},
   "source": [
    "In this section, I will break down and decompose the raw data into its basic elements.  In doing so, I will attempt to gain insights that may guide me at different points in my journey to develop an effective and accurate classifier.  I will start by presenting some sample records, then discuss why certain columns should be dropped, and finally explore characteristics of some columns that may provide predictive power for my classifier.\n"
   ]
  },
  {
   "cell_type": "code",
   "execution_count": 11,
   "metadata": {
    "ExecuteTime": {
     "end_time": "2018-05-25T22:50:01.466909Z",
     "start_time": "2018-05-25T22:50:01.449988Z"
    },
    "hide_input": false
   },
   "outputs": [],
   "source": [
    "from datetime import datetime\n",
    "import itertools\n",
    "\n",
    "import humanize\n",
    "import matplotlib.pyplot as plt\n",
    "import numpy as np\n",
    "import pandas as pd\n",
    "from IPython.display import display, Math, Latex\n",
    "from sklearn.metrics import confusion_matrix, precision_recall_fscore_support\n",
    "from tabulate import tabulate\n",
    "\n",
    "%matplotlib inline\n"
   ]
  },
  {
   "cell_type": "code",
   "execution_count": 98,
   "metadata": {
    "ExecuteTime": {
     "end_time": "2018-05-13T18:55:01.533912Z",
     "start_time": "2018-05-13T14:54:53.462848-04:00"
    }
   },
   "outputs": [
    {
     "name": "stderr",
     "output_type": "stream",
     "text": [
      "D:\\AppData\\Local\\conda\\conda\\envs\\kaggle\\lib\\site-packages\\IPython\\core\\interactiveshell.py:2717: DtypeWarning: Columns (22) have mixed types. Specify dtype option on import or set low_memory=False.\n",
      "  interactivity=interactivity, compiler=compiler, result=result)\n"
     ]
    }
   ],
   "source": [
    "df = pd.read_csv('./data/CT-clean.csv', header=0)"
   ]
  },
  {
   "cell_type": "markdown",
   "metadata": {},
   "source": [
    "The raw data is available at https://stacks.stanford.edu/file/druid:py883nd2578/CT-clean.csv.gz, and is comprised of 318,669 records with 24 feature columns over a period of 1 year and 5 months from 2013 to 2015.  A few of those columns, namely driver age, driver race, and search type, have overlapping information as these fields have two columns with the name format of \"X\" and \"X_raw\", where the \"X\" values are cleaned or adjusted \"X_raw\" values.  \n",
    "\n",
    "Here are a few sample rows with the feature columns broken down into three sections (**Please note**: Different rows have been selected for each section to provide a sense of the complexity involved with the different columns in this dataset):"
   ]
  },
  {
   "cell_type": "code",
   "execution_count": 99,
   "metadata": {
    "ExecuteTime": {
     "end_time": "2018-05-13T18:55:01.540930Z",
     "start_time": "2018-05-13T14:55:01.534914-04:00"
    }
   },
   "outputs": [
    {
     "data": {
      "text/plain": [
       "(318669, 24)"
      ]
     },
     "execution_count": 99,
     "metadata": {},
     "output_type": "execute_result"
    }
   ],
   "source": [
    "df.shape"
   ]
  },
  {
   "cell_type": "code",
   "execution_count": 100,
   "metadata": {
    "ExecuteTime": {
     "end_time": "2018-05-13T18:55:01.748482Z",
     "start_time": "2018-05-13T14:55:01.542935-04:00"
    }
   },
   "outputs": [
    {
     "data": {
      "text/html": [
       "<div>\n",
       "<style scoped>\n",
       "    .dataframe tbody tr th:only-of-type {\n",
       "        vertical-align: middle;\n",
       "    }\n",
       "\n",
       "    .dataframe tbody tr th {\n",
       "        vertical-align: top;\n",
       "    }\n",
       "\n",
       "    .dataframe thead th {\n",
       "        text-align: right;\n",
       "    }\n",
       "</style>\n",
       "<table border=\"1\" class=\"dataframe\">\n",
       "  <thead>\n",
       "    <tr style=\"text-align: right;\">\n",
       "      <th></th>\n",
       "      <th>id</th>\n",
       "      <th>state</th>\n",
       "      <th>stop_date</th>\n",
       "      <th>stop_time</th>\n",
       "      <th>location_raw</th>\n",
       "      <th>county_name</th>\n",
       "      <th>county_fips</th>\n",
       "      <th>fine_grained_location</th>\n",
       "    </tr>\n",
       "  </thead>\n",
       "  <tbody>\n",
       "    <tr>\n",
       "      <th>0</th>\n",
       "      <td>CT-2013-00001</td>\n",
       "      <td>CT</td>\n",
       "      <td>2013-10-01</td>\n",
       "      <td>00:01</td>\n",
       "      <td>westport</td>\n",
       "      <td>Fairfield County</td>\n",
       "      <td>9001.0</td>\n",
       "      <td>00000 N I 95 (WESTPORT, T158) X 18 LL</td>\n",
       "    </tr>\n",
       "    <tr>\n",
       "      <th>1</th>\n",
       "      <td>CT-2013-00002</td>\n",
       "      <td>CT</td>\n",
       "      <td>2013-10-01</td>\n",
       "      <td>00:02</td>\n",
       "      <td>mansfield</td>\n",
       "      <td>Tolland County</td>\n",
       "      <td>9013.0</td>\n",
       "      <td>rte 195 storrs</td>\n",
       "    </tr>\n",
       "    <tr>\n",
       "      <th>2</th>\n",
       "      <td>CT-2013-00003</td>\n",
       "      <td>CT</td>\n",
       "      <td>2013-10-01</td>\n",
       "      <td>00:07</td>\n",
       "      <td>franklin</td>\n",
       "      <td>New London County</td>\n",
       "      <td>9011.0</td>\n",
       "      <td>Rt 32/whippoorwill</td>\n",
       "    </tr>\n",
       "    <tr>\n",
       "      <th>3</th>\n",
       "      <td>CT-2013-00004</td>\n",
       "      <td>CT</td>\n",
       "      <td>2013-10-01</td>\n",
       "      <td>00:10</td>\n",
       "      <td>danbury</td>\n",
       "      <td>Fairfield County</td>\n",
       "      <td>9001.0</td>\n",
       "      <td>I-84</td>\n",
       "    </tr>\n",
       "    <tr>\n",
       "      <th>4</th>\n",
       "      <td>CT-2013-00005</td>\n",
       "      <td>CT</td>\n",
       "      <td>2013-10-01</td>\n",
       "      <td>00:10</td>\n",
       "      <td>east hartford</td>\n",
       "      <td>Hartford County</td>\n",
       "      <td>9003.0</td>\n",
       "      <td>00000 W I 84 (EAST HARTFORD, T043)E.OF XT.56</td>\n",
       "    </tr>\n",
       "  </tbody>\n",
       "</table>\n",
       "</div>"
      ],
      "text/plain": [
       "              id state   stop_date stop_time   location_raw  \\\n",
       "0  CT-2013-00001    CT  2013-10-01     00:01       westport   \n",
       "1  CT-2013-00002    CT  2013-10-01     00:02      mansfield   \n",
       "2  CT-2013-00003    CT  2013-10-01     00:07       franklin   \n",
       "3  CT-2013-00004    CT  2013-10-01     00:10        danbury   \n",
       "4  CT-2013-00005    CT  2013-10-01     00:10  east hartford   \n",
       "\n",
       "         county_name  county_fips  \\\n",
       "0   Fairfield County       9001.0   \n",
       "1     Tolland County       9013.0   \n",
       "2  New London County       9011.0   \n",
       "3   Fairfield County       9001.0   \n",
       "4    Hartford County       9003.0   \n",
       "\n",
       "                          fine_grained_location  \n",
       "0         00000 N I 95 (WESTPORT, T158) X 18 LL  \n",
       "1                                rte 195 storrs  \n",
       "2                            Rt 32/whippoorwill  \n",
       "3                                          I-84  \n",
       "4  00000 W I 84 (EAST HARTFORD, T043)E.OF XT.56  "
      ]
     },
     "execution_count": 100,
     "metadata": {},
     "output_type": "execute_result"
    }
   ],
   "source": [
    "df.iloc[:,:8].head()"
   ]
  },
  {
   "cell_type": "markdown",
   "metadata": {},
   "source": [
    "<br>"
   ]
  },
  {
   "cell_type": "code",
   "execution_count": 101,
   "metadata": {
    "ExecuteTime": {
     "end_time": "2018-05-13T18:55:01.811651Z",
     "start_time": "2018-05-13T14:55:01.749485-04:00"
    }
   },
   "outputs": [
    {
     "data": {
      "text/html": [
       "<div>\n",
       "<style scoped>\n",
       "    .dataframe tbody tr th:only-of-type {\n",
       "        vertical-align: middle;\n",
       "    }\n",
       "\n",
       "    .dataframe tbody tr th {\n",
       "        vertical-align: top;\n",
       "    }\n",
       "\n",
       "    .dataframe thead th {\n",
       "        text-align: right;\n",
       "    }\n",
       "</style>\n",
       "<table border=\"1\" class=\"dataframe\">\n",
       "  <thead>\n",
       "    <tr style=\"text-align: right;\">\n",
       "      <th></th>\n",
       "      <th>police_department</th>\n",
       "      <th>driver_gender</th>\n",
       "      <th>driver_age_raw</th>\n",
       "      <th>driver_age</th>\n",
       "      <th>driver_race_raw</th>\n",
       "      <th>driver_race</th>\n",
       "      <th>violation_raw</th>\n",
       "      <th>violation</th>\n",
       "    </tr>\n",
       "  </thead>\n",
       "  <tbody>\n",
       "    <tr>\n",
       "      <th>24500</th>\n",
       "      <td>State Police</td>\n",
       "      <td>M</td>\n",
       "      <td>39</td>\n",
       "      <td>39.0</td>\n",
       "      <td>White</td>\n",
       "      <td>White</td>\n",
       "      <td>Speed Related</td>\n",
       "      <td>Speeding</td>\n",
       "    </tr>\n",
       "    <tr>\n",
       "      <th>24501</th>\n",
       "      <td>State Police</td>\n",
       "      <td>M</td>\n",
       "      <td>62</td>\n",
       "      <td>62.0</td>\n",
       "      <td>White</td>\n",
       "      <td>White</td>\n",
       "      <td>Cell Phone,Other</td>\n",
       "      <td>Cell phone,Other</td>\n",
       "    </tr>\n",
       "    <tr>\n",
       "      <th>24502</th>\n",
       "      <td>State Police</td>\n",
       "      <td>F</td>\n",
       "      <td>31</td>\n",
       "      <td>31.0</td>\n",
       "      <td>White</td>\n",
       "      <td>White</td>\n",
       "      <td>Registration</td>\n",
       "      <td>Registration/plates</td>\n",
       "    </tr>\n",
       "    <tr>\n",
       "      <th>24503</th>\n",
       "      <td>State Police</td>\n",
       "      <td>F</td>\n",
       "      <td>50</td>\n",
       "      <td>50.0</td>\n",
       "      <td>Hispanic</td>\n",
       "      <td>Hispanic</td>\n",
       "      <td>Other</td>\n",
       "      <td>Other</td>\n",
       "    </tr>\n",
       "    <tr>\n",
       "      <th>24504</th>\n",
       "      <td>State Police</td>\n",
       "      <td>M</td>\n",
       "      <td>28</td>\n",
       "      <td>28.0</td>\n",
       "      <td>White</td>\n",
       "      <td>White</td>\n",
       "      <td>Registration</td>\n",
       "      <td>Registration/plates</td>\n",
       "    </tr>\n",
       "  </tbody>\n",
       "</table>\n",
       "</div>"
      ],
      "text/plain": [
       "      police_department driver_gender  driver_age_raw  driver_age  \\\n",
       "24500      State Police             M              39        39.0   \n",
       "24501      State Police             M              62        62.0   \n",
       "24502      State Police             F              31        31.0   \n",
       "24503      State Police             F              50        50.0   \n",
       "24504      State Police             M              28        28.0   \n",
       "\n",
       "      driver_race_raw driver_race     violation_raw            violation  \n",
       "24500           White       White     Speed Related             Speeding  \n",
       "24501           White       White  Cell Phone,Other     Cell phone,Other  \n",
       "24502           White       White      Registration  Registration/plates  \n",
       "24503        Hispanic    Hispanic             Other                Other  \n",
       "24504           White       White      Registration  Registration/plates  "
      ]
     },
     "execution_count": 101,
     "metadata": {},
     "output_type": "execute_result"
    }
   ],
   "source": [
    "df.iloc[24500:24506,8:16].head()"
   ]
  },
  {
   "cell_type": "markdown",
   "metadata": {},
   "source": [
    "<br>"
   ]
  },
  {
   "cell_type": "code",
   "execution_count": 102,
   "metadata": {
    "ExecuteTime": {
     "end_time": "2018-05-13T18:55:01.975100Z",
     "start_time": "2018-05-13T14:55:01.813656-04:00"
    }
   },
   "outputs": [
    {
     "data": {
      "text/html": [
       "<div>\n",
       "<style scoped>\n",
       "    .dataframe tbody tr th:only-of-type {\n",
       "        vertical-align: middle;\n",
       "    }\n",
       "\n",
       "    .dataframe tbody tr th {\n",
       "        vertical-align: top;\n",
       "    }\n",
       "\n",
       "    .dataframe thead th {\n",
       "        text-align: right;\n",
       "    }\n",
       "</style>\n",
       "<table border=\"1\" class=\"dataframe\">\n",
       "  <thead>\n",
       "    <tr style=\"text-align: right;\">\n",
       "      <th></th>\n",
       "      <th>search_conducted</th>\n",
       "      <th>search_type_raw</th>\n",
       "      <th>search_type</th>\n",
       "      <th>contraband_found</th>\n",
       "      <th>stop_outcome</th>\n",
       "      <th>is_arrested</th>\n",
       "      <th>officer_id</th>\n",
       "      <th>stop_duration</th>\n",
       "    </tr>\n",
       "  </thead>\n",
       "  <tbody>\n",
       "    <tr>\n",
       "      <th>242</th>\n",
       "      <td>False</td>\n",
       "      <td>NaN</td>\n",
       "      <td>NaN</td>\n",
       "      <td>False</td>\n",
       "      <td>Verbal Warning</td>\n",
       "      <td>False</td>\n",
       "      <td>1000002364</td>\n",
       "      <td>1-15 min</td>\n",
       "    </tr>\n",
       "    <tr>\n",
       "      <th>243</th>\n",
       "      <td>False</td>\n",
       "      <td>NaN</td>\n",
       "      <td>NaN</td>\n",
       "      <td>False</td>\n",
       "      <td>Ticket</td>\n",
       "      <td>False</td>\n",
       "      <td>1000001904</td>\n",
       "      <td>16-30 min</td>\n",
       "    </tr>\n",
       "    <tr>\n",
       "      <th>244</th>\n",
       "      <td>False</td>\n",
       "      <td>NaN</td>\n",
       "      <td>NaN</td>\n",
       "      <td>False</td>\n",
       "      <td>Summons</td>\n",
       "      <td>False</td>\n",
       "      <td>41354688</td>\n",
       "      <td>1-15 min</td>\n",
       "    </tr>\n",
       "    <tr>\n",
       "      <th>245</th>\n",
       "      <td>False</td>\n",
       "      <td>NaN</td>\n",
       "      <td>NaN</td>\n",
       "      <td>False</td>\n",
       "      <td>Written Warning</td>\n",
       "      <td>False</td>\n",
       "      <td>348145142</td>\n",
       "      <td>1-15 min</td>\n",
       "    </tr>\n",
       "    <tr>\n",
       "      <th>246</th>\n",
       "      <td>False</td>\n",
       "      <td>NaN</td>\n",
       "      <td>NaN</td>\n",
       "      <td>False</td>\n",
       "      <td>Ticket</td>\n",
       "      <td>False</td>\n",
       "      <td>1000001914</td>\n",
       "      <td>1-15 min</td>\n",
       "    </tr>\n",
       "  </tbody>\n",
       "</table>\n",
       "</div>"
      ],
      "text/plain": [
       "     search_conducted search_type_raw search_type  contraband_found  \\\n",
       "242             False             NaN         NaN             False   \n",
       "243             False             NaN         NaN             False   \n",
       "244             False             NaN         NaN             False   \n",
       "245             False             NaN         NaN             False   \n",
       "246             False             NaN         NaN             False   \n",
       "\n",
       "        stop_outcome is_arrested  officer_id stop_duration  \n",
       "242   Verbal Warning       False  1000002364      1-15 min  \n",
       "243           Ticket       False  1000001904     16-30 min  \n",
       "244          Summons       False    41354688      1-15 min  \n",
       "245  Written Warning       False   348145142      1-15 min  \n",
       "246           Ticket       False  1000001914      1-15 min  "
      ]
     },
     "execution_count": 102,
     "metadata": {},
     "output_type": "execute_result"
    }
   ],
   "source": [
    "df.iloc[242:248,16:24].head()"
   ]
  },
  {
   "cell_type": "markdown",
   "metadata": {},
   "source": [
    "The dataset is primarily comprised of discrete categorical values with only three columns that contain numerical data, namely **`driver_age`**, **`driver_age_raw`**, and **`county_fips`**."
   ]
  },
  {
   "cell_type": "code",
   "execution_count": 103,
   "metadata": {
    "ExecuteTime": {
     "end_time": "2018-05-13T18:55:02.298968Z",
     "start_time": "2018-05-13T14:55:01.976088-04:00"
    }
   },
   "outputs": [
    {
     "name": "stdout",
     "output_type": "stream",
     "text": [
      "<class 'pandas.core.frame.DataFrame'>\n",
      "RangeIndex: 318669 entries, 0 to 318668\n",
      "Data columns (total 24 columns):\n",
      "id                       318669 non-null object\n",
      "state                    318669 non-null object\n",
      "stop_date                318669 non-null object\n",
      "stop_time                318447 non-null object\n",
      "location_raw             318628 non-null object\n",
      "county_name              318627 non-null object\n",
      "county_fips              318627 non-null float64\n",
      "fine_grained_location    317006 non-null object\n",
      "police_department        318669 non-null object\n",
      "driver_gender            318669 non-null object\n",
      "driver_age_raw           318669 non-null int64\n",
      "driver_age               318395 non-null float64\n",
      "driver_race_raw          318669 non-null object\n",
      "driver_race              318669 non-null object\n",
      "violation_raw            318669 non-null object\n",
      "violation                318669 non-null object\n",
      "search_conducted         318669 non-null bool\n",
      "search_type_raw          4846 non-null object\n",
      "search_type              4846 non-null object\n",
      "contraband_found         318669 non-null bool\n",
      "stop_outcome             313313 non-null object\n",
      "is_arrested              313313 non-null object\n",
      "officer_id               318669 non-null object\n",
      "stop_duration            318669 non-null object\n",
      "dtypes: bool(2), float64(2), int64(1), object(19)\n",
      "memory usage: 54.1+ MB\n"
     ]
    }
   ],
   "source": [
    "df.info()"
   ]
  },
  {
   "cell_type": "markdown",
   "metadata": {},
   "source": [
    "However, **`county_fips`** is unlikely to yield any predictive benefit numerically as the values are simple label identifiers for values in the **`county_name`** column.  The **`county_fips`** column can be dropped, and the **`county_name`** column will be one-hot encoded.\n",
    "\n",
    "Also, the driver's age is more characteristic of a discrete categorical value rather than a continuous value.  Whether a driver is 24.5-year-old will not likely increase or decrease their chances of getting arrested during a traffic stop, compared to a driver who is 26.8-year-old.  However, that 24.5-year-old driver may have a higher chance than a 55- or 66-year-old. [TODO: Clarify the point you're making]\n",
    "\n",
    "The **`driver_age`** column can also be dropped as it duplicates information in the **`driver_age_raw`** column.  **`driver_age`** also has missing values, as the following table shows:"
   ]
  },
  {
   "cell_type": "code",
   "execution_count": 104,
   "metadata": {
    "ExecuteTime": {
     "end_time": "2018-05-13T18:55:02.530585Z",
     "start_time": "2018-05-13T14:55:02.299973-04:00"
    }
   },
   "outputs": [
    {
     "data": {
      "text/html": [
       "<div>\n",
       "<style scoped>\n",
       "    .dataframe tbody tr th:only-of-type {\n",
       "        vertical-align: middle;\n",
       "    }\n",
       "\n",
       "    .dataframe tbody tr th {\n",
       "        vertical-align: top;\n",
       "    }\n",
       "\n",
       "    .dataframe thead th {\n",
       "        text-align: right;\n",
       "    }\n",
       "</style>\n",
       "<table border=\"1\" class=\"dataframe\">\n",
       "  <thead>\n",
       "    <tr style=\"text-align: right;\">\n",
       "      <th></th>\n",
       "      <th>null values count</th>\n",
       "    </tr>\n",
       "  </thead>\n",
       "  <tbody>\n",
       "    <tr>\n",
       "      <th>id</th>\n",
       "      <td>0</td>\n",
       "    </tr>\n",
       "    <tr>\n",
       "      <th>state</th>\n",
       "      <td>0</td>\n",
       "    </tr>\n",
       "    <tr>\n",
       "      <th>stop_date</th>\n",
       "      <td>0</td>\n",
       "    </tr>\n",
       "    <tr>\n",
       "      <th>stop_time</th>\n",
       "      <td>222</td>\n",
       "    </tr>\n",
       "    <tr>\n",
       "      <th>location_raw</th>\n",
       "      <td>41</td>\n",
       "    </tr>\n",
       "    <tr>\n",
       "      <th>county_name</th>\n",
       "      <td>42</td>\n",
       "    </tr>\n",
       "    <tr>\n",
       "      <th>county_fips</th>\n",
       "      <td>42</td>\n",
       "    </tr>\n",
       "    <tr>\n",
       "      <th>fine_grained_location</th>\n",
       "      <td>1663</td>\n",
       "    </tr>\n",
       "    <tr>\n",
       "      <th>police_department</th>\n",
       "      <td>0</td>\n",
       "    </tr>\n",
       "    <tr>\n",
       "      <th>driver_gender</th>\n",
       "      <td>0</td>\n",
       "    </tr>\n",
       "    <tr>\n",
       "      <th>driver_age_raw</th>\n",
       "      <td>0</td>\n",
       "    </tr>\n",
       "    <tr>\n",
       "      <th>driver_age</th>\n",
       "      <td>274</td>\n",
       "    </tr>\n",
       "    <tr>\n",
       "      <th>driver_race_raw</th>\n",
       "      <td>0</td>\n",
       "    </tr>\n",
       "    <tr>\n",
       "      <th>driver_race</th>\n",
       "      <td>0</td>\n",
       "    </tr>\n",
       "    <tr>\n",
       "      <th>violation_raw</th>\n",
       "      <td>0</td>\n",
       "    </tr>\n",
       "    <tr>\n",
       "      <th>violation</th>\n",
       "      <td>0</td>\n",
       "    </tr>\n",
       "    <tr>\n",
       "      <th>search_conducted</th>\n",
       "      <td>0</td>\n",
       "    </tr>\n",
       "    <tr>\n",
       "      <th>search_type_raw</th>\n",
       "      <td>313823</td>\n",
       "    </tr>\n",
       "    <tr>\n",
       "      <th>search_type</th>\n",
       "      <td>313823</td>\n",
       "    </tr>\n",
       "    <tr>\n",
       "      <th>contraband_found</th>\n",
       "      <td>0</td>\n",
       "    </tr>\n",
       "    <tr>\n",
       "      <th>stop_outcome</th>\n",
       "      <td>5356</td>\n",
       "    </tr>\n",
       "    <tr>\n",
       "      <th>is_arrested</th>\n",
       "      <td>5356</td>\n",
       "    </tr>\n",
       "    <tr>\n",
       "      <th>officer_id</th>\n",
       "      <td>0</td>\n",
       "    </tr>\n",
       "    <tr>\n",
       "      <th>stop_duration</th>\n",
       "      <td>0</td>\n",
       "    </tr>\n",
       "  </tbody>\n",
       "</table>\n",
       "</div>"
      ],
      "text/plain": [
       "                       null values count\n",
       "id                                     0\n",
       "state                                  0\n",
       "stop_date                              0\n",
       "stop_time                            222\n",
       "location_raw                          41\n",
       "county_name                           42\n",
       "county_fips                           42\n",
       "fine_grained_location               1663\n",
       "police_department                      0\n",
       "driver_gender                          0\n",
       "driver_age_raw                         0\n",
       "driver_age                           274\n",
       "driver_race_raw                        0\n",
       "driver_race                            0\n",
       "violation_raw                          0\n",
       "violation                              0\n",
       "search_conducted                       0\n",
       "search_type_raw                   313823\n",
       "search_type                       313823\n",
       "contraband_found                       0\n",
       "stop_outcome                        5356\n",
       "is_arrested                         5356\n",
       "officer_id                             0\n",
       "stop_duration                          0"
      ]
     },
     "execution_count": 104,
     "metadata": {},
     "output_type": "execute_result"
    }
   ],
   "source": [
    "df.isnull().sum().to_frame('null values count')"
   ]
  },
  {
   "cell_type": "markdown",
   "metadata": {},
   "source": [
    "One glaring observation with this table is that the **`search_type_raw`** and **`search_type`** columns mostly contain null values and should be dropped.  These fields provide supplementary information when a search is conducted, with both columns containing one of the following values:  \"Consent\", \"Other\", \"Inventory\", or `nan` (not a number).  The **`search_conducted`** boolean column, by itself, should provide an adequate signal about a probable outcome when a car search is involved.\n",
    "\n",
    "The next two columns that have the highest number of null values are **`stop_outcome`** and **`is_arrested`**.  The **`is_arrested`** column should be dropped, because \"Arrest\" is one of the outcome values, and keeping this column would defeat the purpose of creating this classifier.  It would also be cheating in a sense.  Next, the rows that contain null values for **`stop_outcome`** should be dropped, since the main objective of this project is to predict the outcome of a traffic stop.  It would not make sense to replace the null values for this field with a median or average value.\n",
    "\n",
    "There are a few other columns that make sense to drop as well:\n",
    "- **`id`** column values, like \"CT-2013-00001\", provide no predictive value.\n",
    "- **`state`** and **`police_department`** columns only have one value each, \"CT\" and \"State Police\" respectively. \n",
    "- **`location_raw`** contains the specific city in which a traffic stop occurred.  But, this data may be too granular, and better insight might be gained by using the **`county_name`** instead.\n",
    "- **`fine_grained_location`** values are inconsistent and non-standardized, as the values appear to be simple notes that the officer took about the spot where the traffic stop was conducted.\n",
    "- **`driver_race_raw`** column duplicates data in the **`driver_race`** column.\n",
    "- **`officer_id`** has 2,105 unique values and might be too granular, making overfitting likely, so it will be dropped.\n",
    "\n",
    "One could make a case to keep the **`location_raw`** and/or **`officer_id`** columns.  Even though these fields contain granular data that may be too specific to the point that it may contribute to overfitting, they may provide signals for certain biases that lead to certain outcomes.  For example, certain officers may have a propensity to issue a **`Verbal Warning`** to certain demographics instead of issuing a **`Ticket`**.  If my classifier's prediction accuracy seems to reach a ceiling during model development and exhaustive hyperparameter tuning, I will consider adding one or both of these columns back into the training data.\n",
    "\n",
    "In the following sub-sections I will discuss the columns that comprise the input features that will be used to train my classifier."
   ]
  },
  {
   "cell_type": "code",
   "execution_count": 105,
   "metadata": {
    "ExecuteTime": {
     "end_time": "2018-05-13T18:55:02.571694Z",
     "start_time": "2018-05-13T14:55:02.531589-04:00"
    },
    "collapsed": true
   },
   "outputs": [],
   "source": [
    "# Drop columns that clearly should be dropped\n",
    "\n",
    "drop_cols = [\n",
    "    'county_fips',\n",
    "    'driver_age',\n",
    "    'driver_race_raw',\n",
    "    'fine_grained_location',\n",
    "    'id',\n",
    "    'is_arrested',\n",
    "    'officer_id',\n",
    "    'police_department',\n",
    "    'search_type_raw',\n",
    "    'search_type',\n",
    "    'state',\n",
    "]\n",
    "\n",
    "df.drop(drop_cols, axis=1, inplace=True)"
   ]
  },
  {
   "cell_type": "code",
   "execution_count": 106,
   "metadata": {
    "ExecuteTime": {
     "end_time": "2018-05-13T18:55:02.672964Z",
     "start_time": "2018-05-13T14:55:02.572697-04:00"
    }
   },
   "outputs": [
    {
     "data": {
      "text/plain": [
       "(318669, 13)"
      ]
     },
     "execution_count": 106,
     "metadata": {},
     "output_type": "execute_result"
    }
   ],
   "source": [
    "df.shape"
   ]
  },
  {
   "cell_type": "code",
   "execution_count": 107,
   "metadata": {
    "ExecuteTime": {
     "end_time": "2018-05-13T18:55:02.949699Z",
     "start_time": "2018-05-13T14:55:02.673966-04:00"
    }
   },
   "outputs": [
    {
     "data": {
      "text/plain": [
       "stop_date              0\n",
       "stop_time            222\n",
       "location_raw          41\n",
       "county_name           42\n",
       "driver_gender          0\n",
       "driver_age_raw         0\n",
       "driver_race            0\n",
       "violation_raw          0\n",
       "violation              0\n",
       "search_conducted       0\n",
       "contraband_found       0\n",
       "stop_outcome        5356\n",
       "stop_duration          0\n",
       "dtype: int64"
      ]
     },
     "execution_count": 107,
     "metadata": {},
     "output_type": "execute_result"
    }
   ],
   "source": [
    "df.isnull().sum()"
   ]
  },
  {
   "cell_type": "code",
   "execution_count": 108,
   "metadata": {
    "ExecuteTime": {
     "end_time": "2018-05-13T18:55:03.104110Z",
     "start_time": "2018-05-13T14:55:02.950702-04:00"
    },
    "collapsed": true
   },
   "outputs": [],
   "source": [
    "# Drop empty stop_outcome and county_name/county_fips rows\n",
    "df.dropna(subset=['stop_outcome', 'county_name'], axis=0, inplace=True)"
   ]
  },
  {
   "cell_type": "code",
   "execution_count": 109,
   "metadata": {
    "ExecuteTime": {
     "end_time": "2018-05-13T18:55:03.196356Z",
     "start_time": "2018-05-13T14:55:03.105113-04:00"
    }
   },
   "outputs": [
    {
     "data": {
      "text/plain": [
       "(313274, 13)"
      ]
     },
     "execution_count": 109,
     "metadata": {},
     "output_type": "execute_result"
    }
   ],
   "source": [
    "df.shape"
   ]
  },
  {
   "cell_type": "code",
   "execution_count": 110,
   "metadata": {
    "ExecuteTime": {
     "end_time": "2018-05-13T18:55:03.473091Z",
     "start_time": "2018-05-13T14:55:03.197358-04:00"
    }
   },
   "outputs": [
    {
     "data": {
      "text/plain": [
       "stop_date             0\n",
       "stop_time           220\n",
       "location_raw          0\n",
       "county_name           0\n",
       "driver_gender         0\n",
       "driver_age_raw        0\n",
       "driver_race           0\n",
       "violation_raw         0\n",
       "violation             0\n",
       "search_conducted      0\n",
       "contraband_found      0\n",
       "stop_outcome          0\n",
       "stop_duration         0\n",
       "dtype: int64"
      ]
     },
     "execution_count": 110,
     "metadata": {},
     "output_type": "execute_result"
    }
   ],
   "source": [
    "df.isnull().sum()"
   ]
  },
  {
   "cell_type": "markdown",
   "metadata": {},
   "source": [
    "#### Traffic Stop Outcome Breakdown"
   ]
  },
  {
   "cell_type": "markdown",
   "metadata": {
    "ExecuteTime": {
     "end_time": "2018-05-02T19:01:10.455247Z",
     "start_time": "2018-05-02T15:01:10.450234-04:00"
    }
   },
   "source": [
    "The values from the **`stop_outcome`** column will serve as the output labels for my classifier.  Graphing the value distribution for this column makes it clear that the data set is **highly imbalanced**."
   ]
  },
  {
   "cell_type": "code",
   "execution_count": 111,
   "metadata": {
    "ExecuteTime": {
     "end_time": "2018-05-13T18:55:04.486670Z",
     "start_time": "2018-05-13T14:55:03.474094-04:00"
    }
   },
   "outputs": [
    {
     "data": {
      "image/png": "[encoded data removed]",
      "text/plain": [
       "<matplotlib.figure.Figure at 0x227b44051d0>"
      ]
     },
     "metadata": {},
     "output_type": "display_data"
    }
   ],
   "source": [
    "outcome_breakdown = df['stop_outcome'].value_counts(normalize=True).mul(100).plot.bar(figsize=(15, 3), table=True)\n",
    "outcome_breakdown.axes.get_xaxis().set_visible(False)\n",
    "outcome_breakdown.axes.set_ylabel('%')\n",
    "outcome_breakdown.tables[0].scale(1, 2)"
   ]
  },
  {
   "cell_type": "markdown",
   "metadata": {},
   "source": [
    "A vast majority of traffic stops result in the officer issuing a \"`Ticket`\" in 69.89% of the cases.  \"`Arrest`\"s comprise only 2.33% of traffic stops.  Some fortunate drivers are issued warnings, verbal or written, 23.9% of the time, while a few unfortunate drivers receive a \"`Summon`\"s to appear in court in 3.9% of traffic stops.  There is a high risk that a trained model using this dataset unaltered will have a strong bias towards predicting \"Ticket\" as the outcome if not handled properly."
   ]
  },
  {
   "cell_type": "markdown",
   "metadata": {},
   "source": [
    "#### Proportion of Searches Conducted Relative to All Stops\n",
    "\n",
    "One interesting data point that CT officers collect is whether a search was conducted during the traffic stop, as captured in the **`search_conducted`** column.  When true, these traffic stops should correlate with a higher number of outcomes resulting in an \"Arrest\"."
   ]
  },
  {
   "cell_type": "code",
   "execution_count": 112,
   "metadata": {
    "ExecuteTime": {
     "end_time": "2018-05-13T18:55:04.666144Z",
     "start_time": "2018-05-13T14:55:04.489675-04:00"
    }
   },
   "outputs": [
    {
     "data": {
      "image/png": "[encoded data removed]",
      "text/plain": [
       "<matplotlib.figure.Figure at 0x227b43fe128>"
      ]
     },
     "metadata": {},
     "output_type": "display_data"
    }
   ],
   "source": [
    "searches = df['search_conducted'].value_counts(normalize=True).mul(100).plot.bar(figsize=(8, 2), table=True)\n",
    "searches.axes.get_xaxis().set_visible(False)\n",
    "searches.axes.set_ylabel('%')\n",
    "searches.tables[0].scale(1, 2)"
   ]
  },
  {
   "cell_type": "markdown",
   "metadata": {},
   "source": [
    "#### Outcomes When Vehicle Searched\n",
    "\n",
    "Indeed, the proportion of Arrests rises to 27.69% of traffic stops when a search is conducted."
   ]
  },
  {
   "cell_type": "code",
   "execution_count": 113,
   "metadata": {
    "ExecuteTime": {
     "end_time": "2018-05-13T18:55:05.045153Z",
     "start_time": "2018-05-13T14:55:04.667147-04:00"
    }
   },
   "outputs": [
    {
     "data": {
      "image/png": "[encoded data removed]",
      "text/plain": [
       "<matplotlib.figure.Figure at 0x227b56c4358>"
      ]
     },
     "metadata": {},
     "output_type": "display_data"
    }
   ],
   "source": [
    "outcome_when_searched = df[df['search_conducted'] == True]['stop_outcome'].value_counts(normalize=True).mul(100).plot.bar(figsize=(10, 5), table=True)\n",
    "outcome_when_searched.axes.get_xaxis().set_visible(False)\n",
    "outcome_when_searched.axes.set_ylabel('%')\n",
    "outcome_when_searched.tables[0].scale(1, 2)"
   ]
  },
  {
   "cell_type": "markdown",
   "metadata": {
    "ExecuteTime": {
     "end_time": "2018-05-02T19:22:18.545967Z",
     "start_time": "2018-05-02T15:22:18.541957-04:00"
    }
   },
   "source": [
    "Still, searches only comprise 1.7% of all traffic stops, so the fact remains that the data set is highly imbalanced."
   ]
  },
  {
   "cell_type": "markdown",
   "metadata": {},
   "source": [
    "#### Outcome by `stop_duration`\n",
    "\n",
    "Another interesting data point is the duration of the traffic stop in the **`stop_duration`** column, which may provide another predictive signal about the likely outcome.  Logically speaking, the longer the duration of a traffic stop, the more likely the outcome will be an \"Arrest\", as the officer may need to ask more questions, search the vehicle, conduct a sobriety test, and perform other duties that take time and extend the duration of the traffic stop.  "
   ]
  },
  {
   "cell_type": "code",
   "execution_count": 114,
   "metadata": {
    "ExecuteTime": {
     "end_time": "2018-05-13T18:55:05.048190Z",
     "start_time": "2018-05-13T14:55:05.046157-04:00"
    },
    "collapsed": true
   },
   "outputs": [],
   "source": [
    "# duration_outcomes = df.groupby(['stop_duration', 'stop_outcome'])\n",
    "# duration_outcomes.agg({'id': 'count'}).groupby(level=0).apply(lambda x: 100 * x / float(x.sum())).rename(columns={'id': '%'})"
   ]
  },
  {
   "cell_type": "code",
   "execution_count": 115,
   "metadata": {
    "ExecuteTime": {
     "end_time": "2018-05-13T18:55:05.446624Z",
     "start_time": "2018-05-13T14:55:05.049163-04:00"
    }
   },
   "outputs": [
    {
     "data": {
      "text/plain": [
       "<matplotlib.text.Text at 0x227b58d8828>"
      ]
     },
     "execution_count": 115,
     "metadata": {},
     "output_type": "execute_result"
    },
    {
     "data": {
      "image/png": "[encoded data removed]",
      "text/plain": [
       "<matplotlib.figure.Figure at 0x227b58837b8>"
      ]
     },
     "metadata": {},
     "output_type": "display_data"
    }
   ],
   "source": [
    "duration_dummies = pd.get_dummies(df.stop_duration)\n",
    "outcomes_by_duration = pd.concat([df.stop_outcome, duration_dummies], axis=1)\n",
    "outcomes_by_duration_grouped = outcomes_by_duration.groupby(['stop_outcome']).agg({x: 'sum' for x in duration_dummies.columns.values}).apply(lambda x: 100 * x / float(x.sum())).T\n",
    "ax = outcomes_by_duration_grouped.plot.barh(figsize=(15, 5), width=0.9)\n",
    "ax.set_xlabel('%')\n",
    "ax.set_ylabel('stop_duration')"
   ]
  },
  {
   "cell_type": "markdown",
   "metadata": {},
   "source": [
    "As suspected, the chances of a traffic stop resulting in an `Arrest`, as illustrated by the blue bars, is much higher when the stop lasts longer than 30 minutes at 35.64% than 1.01% when the stop lasts 15 minutes or less."
   ]
  },
  {
   "cell_type": "markdown",
   "metadata": {},
   "source": [
    "#### Race Breakdown\n",
    "\n",
    "Another potential signal for the outcome of a traffic stop is race.\n",
    "\n"
   ]
  },
  {
   "cell_type": "code",
   "execution_count": 116,
   "metadata": {
    "ExecuteTime": {
     "end_time": "2018-05-13T18:55:05.653342Z",
     "start_time": "2018-05-13T14:55:05.447628-04:00"
    }
   },
   "outputs": [
    {
     "data": {
      "image/png": "[encoded data removed]",
      "text/plain": [
       "<matplotlib.figure.Figure at 0x227b57fc7b8>"
      ]
     },
     "metadata": {},
     "output_type": "display_data"
    }
   ],
   "source": [
    "stops_by_race = df['driver_race'].value_counts(normalize=True).mul(100).plot.bar(figsize=(15, 4), table=True)\n",
    "stops_by_race.axes.get_xaxis().set_visible(False)\n",
    "stops_by_race.axes.set_ylabel('%')\n",
    "stops_by_race.tables[0].scale(1, 2)"
   ]
  },
  {
   "cell_type": "markdown",
   "metadata": {},
   "source": [
    "The dataset shows that the majority (76%) of traffic stops involved \"`White`\"s, with \"`Black`\"s at 11.75%, \"`Hispanic`\"s at 9.78%, \"`Asian`\"s at 1.87%, and a catch-all value of \"`Other`\" at 0.55%.  This approximately matches the 2010 census figures for Connecticut [**TODO**: reference?  https://www.census.gov/2010census/popmap/ipmtext.php?fl=09], where the racial composition is 77.57% \"`White`\", 10.14% \"`Black`\", 13.4% \"`Hispanic`\", 3.79% \"`Asian`\", and roughly 5.55% \"`Other`\".  For some reason, Hispanics are separated out by Ethnicity, so the numbers I provided have some overlap and sum to more than 100%."
   ]
  },
  {
   "cell_type": "markdown",
   "metadata": {},
   "source": [
    "![CT 2010 Census Data](./images/CT-2010-census-data.PNG)"
   ]
  },
  {
   "cell_type": "markdown",
   "metadata": {},
   "source": [
    "One interesting note about the \"Other\" value is that in the **`driver_race_raw`** column of the dataset, this value was denoted as \"Native American\" and was subsequently replaced with \"Other\" in the **`driver_race`** column."
   ]
  },
  {
   "cell_type": "markdown",
   "metadata": {},
   "source": [
    "#### Arrests by County by Race\n",
    "\n",
    "Looking for further insights, I thought it might be interesting to analyze racial breakdown of traffic stops that resulted in an \"Arrest\" by county.  Please note that the values are in percentages."
   ]
  },
  {
   "cell_type": "code",
   "execution_count": 117,
   "metadata": {
    "ExecuteTime": {
     "end_time": "2018-05-13T18:55:05.656322Z",
     "start_time": "2018-05-13T14:55:05.654315-04:00"
    },
    "collapsed": true
   },
   "outputs": [],
   "source": [
    "# df.loc[df['stop_outcome'] == 'Arrest'].groupby(['county_name', 'driver_race']).agg({'id': 'count'}).groupby(level=0).apply(lambda x: 100 * x / float(x.sum())).rename(columns={'id': '%'})"
   ]
  },
  {
   "cell_type": "code",
   "execution_count": 118,
   "metadata": {
    "ExecuteTime": {
     "end_time": "2018-05-13T18:55:05.730520Z",
     "start_time": "2018-05-13T14:55:05.657324-04:00"
    }
   },
   "outputs": [
    {
     "data": {
      "text/html": [
       "<div>\n",
       "<style scoped>\n",
       "    .dataframe tbody tr th:only-of-type {\n",
       "        vertical-align: middle;\n",
       "    }\n",
       "\n",
       "    .dataframe tbody tr th {\n",
       "        vertical-align: top;\n",
       "    }\n",
       "\n",
       "    .dataframe thead th {\n",
       "        text-align: right;\n",
       "    }\n",
       "</style>\n",
       "<table border=\"1\" class=\"dataframe\">\n",
       "  <thead>\n",
       "    <tr style=\"text-align: right;\">\n",
       "      <th>driver_race</th>\n",
       "      <th>Asian</th>\n",
       "      <th>Black</th>\n",
       "      <th>Hispanic</th>\n",
       "      <th>Other</th>\n",
       "      <th>White</th>\n",
       "    </tr>\n",
       "  </thead>\n",
       "  <tbody>\n",
       "    <tr>\n",
       "      <th>New London County</th>\n",
       "      <td>1.277235</td>\n",
       "      <td>8.715252</td>\n",
       "      <td>9.541698</td>\n",
       "      <td>0.450789</td>\n",
       "      <td>80.015026</td>\n",
       "    </tr>\n",
       "    <tr>\n",
       "      <th>Hartford County</th>\n",
       "      <td>1.319797</td>\n",
       "      <td>23.553299</td>\n",
       "      <td>19.289340</td>\n",
       "      <td>0.507614</td>\n",
       "      <td>55.329949</td>\n",
       "    </tr>\n",
       "    <tr>\n",
       "      <th>Middlesex County</th>\n",
       "      <td>1.206897</td>\n",
       "      <td>12.586207</td>\n",
       "      <td>13.103448</td>\n",
       "      <td>0.000000</td>\n",
       "      <td>73.103448</td>\n",
       "    </tr>\n",
       "    <tr>\n",
       "      <th>New Haven County</th>\n",
       "      <td>0.922819</td>\n",
       "      <td>17.533557</td>\n",
       "      <td>22.315436</td>\n",
       "      <td>0.251678</td>\n",
       "      <td>58.976510</td>\n",
       "    </tr>\n",
       "    <tr>\n",
       "      <th>Litchfield County</th>\n",
       "      <td>1.140065</td>\n",
       "      <td>3.094463</td>\n",
       "      <td>10.097720</td>\n",
       "      <td>0.325733</td>\n",
       "      <td>85.342020</td>\n",
       "    </tr>\n",
       "    <tr>\n",
       "      <th>Windham County</th>\n",
       "      <td>0.698324</td>\n",
       "      <td>4.748603</td>\n",
       "      <td>17.318436</td>\n",
       "      <td>0.418994</td>\n",
       "      <td>76.815642</td>\n",
       "    </tr>\n",
       "    <tr>\n",
       "      <th>Fairfield County</th>\n",
       "      <td>1.007049</td>\n",
       "      <td>16.918429</td>\n",
       "      <td>28.700906</td>\n",
       "      <td>0.604230</td>\n",
       "      <td>52.769386</td>\n",
       "    </tr>\n",
       "    <tr>\n",
       "      <th>Tolland County</th>\n",
       "      <td>1.121076</td>\n",
       "      <td>7.735426</td>\n",
       "      <td>9.865471</td>\n",
       "      <td>0.112108</td>\n",
       "      <td>81.165919</td>\n",
       "    </tr>\n",
       "  </tbody>\n",
       "</table>\n",
       "</div>"
      ],
      "text/plain": [
       "driver_race           Asian      Black   Hispanic     Other      White\n",
       "New London County  1.277235   8.715252   9.541698  0.450789  80.015026\n",
       "Hartford County    1.319797  23.553299  19.289340  0.507614  55.329949\n",
       "Middlesex County   1.206897  12.586207  13.103448  0.000000  73.103448\n",
       "New Haven County   0.922819  17.533557  22.315436  0.251678  58.976510\n",
       "Litchfield County  1.140065   3.094463  10.097720  0.325733  85.342020\n",
       "Windham County     0.698324   4.748603  17.318436  0.418994  76.815642\n",
       "Fairfield County   1.007049  16.918429  28.700906  0.604230  52.769386\n",
       "Tolland County     1.121076   7.735426   9.865471  0.112108  81.165919"
      ]
     },
     "execution_count": 118,
     "metadata": {},
     "output_type": "execute_result"
    }
   ],
   "source": [
    "arrested = df.loc[df['stop_outcome'] == 'Arrest']\n",
    "arrested_dummies = pd.get_dummies(arrested.county_name)\n",
    "arrested_races_by_county = pd.concat([arrested.driver_race, arrested_dummies], axis=1)\n",
    "county_races = arrested_races_by_county.groupby(['driver_race']).agg({x: 'sum' for x in arrested_dummies.columns.values}).apply(lambda x: 100 * x /float(x.sum())).T\n",
    "county_races"
   ]
  },
  {
   "cell_type": "code",
   "execution_count": 119,
   "metadata": {
    "ExecuteTime": {
     "end_time": "2018-05-13T18:55:05.999233Z",
     "start_time": "2018-05-13T14:55:05.731523-04:00"
    }
   },
   "outputs": [
    {
     "data": {
      "text/plain": [
       "<matplotlib.text.Text at 0x227b5b3a128>"
      ]
     },
     "execution_count": 119,
     "metadata": {},
     "output_type": "execute_result"
    },
    {
     "data": {
      "image/png": "[encoded data removed]",
      "text/plain": [
       "<matplotlib.figure.Figure at 0x227b557beb8>"
      ]
     },
     "metadata": {},
     "output_type": "display_data"
    }
   ],
   "source": [
    "# # races_by_county\n",
    "county_graph = county_races.plot.barh(figsize=(15, 8), width=0.9, fontsize=14)\n",
    "county_graph.axes.set_xlabel('%', fontsize=18)\n",
    "\n",
    "#[TODO: Specify the value unit here]"
   ]
  },
  {
   "cell_type": "markdown",
   "metadata": {},
   "source": [
    "While the racial breakdown of traffic stops for the state overall are, for the most part, consistent with 2010 census data, these figures suggest that there are certain counties where Blacks and Hispanics are pulled over disproportionately higher than their composition in the 2010 census, namely in the Fairfield, Hartford, and New Haven counties.  This is not to suggest that they are being pulled over because of racial bias but is simply stated as an observation."
   ]
  },
  {
   "cell_type": "markdown",
   "metadata": {},
   "source": [
    "#### Traffic Stops by County"
   ]
  },
  {
   "cell_type": "markdown",
   "metadata": {},
   "source": [
    "The distribution of traffic stops by county is moderately distributed.  Almost half of traffic stops occurred in New Haven, New London, and Tolland counties."
   ]
  },
  {
   "cell_type": "code",
   "execution_count": 120,
   "metadata": {
    "ExecuteTime": {
     "end_time": "2018-05-13T18:55:06.245922Z",
     "start_time": "2018-05-13T14:55:06.000236-04:00"
    }
   },
   "outputs": [
    {
     "data": {
      "image/png": "[encoded data removed]",
      "text/plain": [
       "<matplotlib.figure.Figure at 0x227b5c4c198>"
      ]
     },
     "metadata": {},
     "output_type": "display_data"
    }
   ],
   "source": [
    "outcomes_by_county = df['county_name'].value_counts(normalize=True).mul(100).apply(lambda x: float('{:.6f}'.format(x))).plot.bar(figsize=(15, 5), table=True, fontsize=12)\n",
    "outcomes_by_county.axes.get_xaxis().set_visible(False)\n",
    "outcomes_by_county.axes.set_ylabel('%', fontsize=18)\n",
    "outcomes_by_county.tables[0].auto_set_font_size(False)\n",
    "outcomes_by_county.tables[0].set_fontsize(10)\n",
    "outcomes_by_county.tables[0].scale(1, 3)"
   ]
  },
  {
   "cell_type": "markdown",
   "metadata": {},
   "source": [
    "#### Outcomes by Violations\n",
    "\n",
    "Two columns, **`violation`** and **`violations_raw`**, provide information about the related violation(s) involved in a traffic stop outcome.  Unfortunately, these columns suffer from repetitive values and inconsistent data entry issues.  For example, some values are phrased differently yet have the same meaning.  I will need to settle on a standard value for these duplicate values and perform one-hot encoding for each class value, since multiple violations can be associated with a single traffic stop."
   ]
  },
  {
   "cell_type": "code",
   "execution_count": 121,
   "metadata": {
    "ExecuteTime": {
     "end_time": "2018-05-13T18:56:04.768115Z",
     "start_time": "2018-05-13T14:55:06.246897-04:00"
    },
    "collapsed": true
   },
   "outputs": [],
   "source": [
    "def normalize_violation(violation):\n",
    "    \"\"\"Normalize violation values\n",
    "    \"\"\"\n",
    "    if violation == 'defective lights':\n",
    "        return 'lights'\n",
    "    elif violation == 'equipment violation':\n",
    "        return 'equipment'\n",
    "    elif violation == 'other/error':\n",
    "        return 'other'\n",
    "    elif violation == 'registration/plates':\n",
    "        return 'registration'\n",
    "    elif violation == 'seat belt':\n",
    "        return 'seatbelt'\n",
    "    elif violation == 'speed related':\n",
    "        return 'speeding'\n",
    "    elif violation == 'stop sign/light' or violation == 'stop sign':\n",
    "        return 'bad_stop'\n",
    "    return violation.replace(' ', '_')\n",
    "\n",
    "\n",
    "def merge_violations(violations):\n",
    "    \"\"\"Merge violation and violation_raw columns\n",
    "    \"\"\"\n",
    "    merged = []\n",
    "    tokens = violations.lower().split(',')\n",
    "    return list(set([normalize_violation(violation) for violation in tokens]))\n",
    "    \n",
    "\n",
    "def onehot_encode_violations(arr_violations):\n",
    "    row = np.zeros(len(violations))\n",
    "    for v in arr_violations:\n",
    "        row[violations.index(v)] = 1\n",
    "    return row\n",
    "\n",
    "\n",
    "violations = []\n",
    "\n",
    "for violation in list(df.violation.unique()) + list(df.violation_raw.unique()):\n",
    "    tokens = violation.lower().split(',')\n",
    "    violations.extend([normalize_violation(token) for token in tokens])\n",
    "\n",
    "violations = sorted(set(violations))\n",
    "\n",
    "merged = df[['violation_raw', 'violation']].apply(lambda x: ','.join(x), axis=1).apply(merge_violations)\n",
    "\n",
    "violation_col_headers = ['violation_{}'.format(violation.replace(' ', '_')) for violation in violations]\n",
    "\n",
    "df_violations = merged.apply(onehot_encode_violations).apply(lambda x: pd.Series(x, dtype=int))\n",
    "df_violations.columns = violation_col_headers"
   ]
  },
  {
   "cell_type": "markdown",
   "metadata": {},
   "source": [
    "The distribution of violation values shows that a majority of traffic stops involve speeding.  Unfortunately, \"Other\" represents a large portion of violations, which is not descriptive and may add noise to the training set."
   ]
  },
  {
   "cell_type": "code",
   "execution_count": 122,
   "metadata": {
    "ExecuteTime": {
     "end_time": "2018-05-13T18:56:04.958029Z",
     "start_time": "2018-05-13T14:56:04.769000-04:00"
    }
   },
   "outputs": [
    {
     "data": {
      "text/plain": [
       "<matplotlib.text.Text at 0x22817a8d8d0>"
      ]
     },
     "execution_count": 122,
     "metadata": {},
     "output_type": "execute_result"
    },
    {
     "data": {
      "image/png": "[encoded data removed]",
      "text/plain": [
       "<matplotlib.figure.Figure at 0x227e4968780>"
      ]
     },
     "metadata": {},
     "output_type": "display_data"
    }
   ],
   "source": [
    "violations = df_violations.copy(deep=True)\n",
    "violations.columns = [x.replace('violation_', '') for x in violations.columns.values]\n",
    "violation_breakdown = violations.sum().sort_values(ascending=False).plot.bar(figsize=(17, 5), fontsize=14)\n",
    "violation_breakdown.axes.set_ylabel('Number of traffic stops', fontsize=14)"
   ]
  },
  {
   "cell_type": "markdown",
   "metadata": {},
   "source": [
    "The bar chart below shows the **outcome percentages** by violation type."
   ]
  },
  {
   "cell_type": "code",
   "execution_count": 123,
   "metadata": {
    "ExecuteTime": {
     "end_time": "2018-05-13T18:56:05.321546Z",
     "start_time": "2018-05-13T14:56:04.959005-04:00"
    }
   },
   "outputs": [
    {
     "data": {
      "text/plain": [
       "<matplotlib.text.Text at 0x227d9fa3860>"
      ]
     },
     "execution_count": 123,
     "metadata": {},
     "output_type": "execute_result"
    },
    {
     "data": {
      "image/png": "[encoded data removed]",
      "text/plain": [
       "<matplotlib.figure.Figure at 0x227e6627160>"
      ]
     },
     "metadata": {},
     "output_type": "display_data"
    }
   ],
   "source": [
    "violation_outcomes = pd.concat([df.stop_outcome, df_violations], axis=1)\n",
    "\n",
    "agg_dict = {}\n",
    "outcomes_counts_by_violation = violation_outcomes.groupby(['stop_outcome']).agg({x: 'sum' for x in violation_col_headers}).apply(lambda x: 100 * x /float(x.sum())).rename(columns={x: x.replace('violation_','') for x in violation_col_headers}).T\n",
    "\n",
    "outcomes_counts_by_violation_chart = outcomes_counts_by_violation.plot.barh(figsize=(15,15), width=0.9, fontsize=14)\n",
    "outcomes_counts_by_violation_chart.axes.set_xlabel('%', fontsize=18)"
   ]
  },
  {
   "cell_type": "markdown",
   "metadata": {},
   "source": [
    "Not surprisingly, most violations resulted in a \"Ticket\", but there are a few exceptions:\n",
    "- Expired and suspended driver's licenses were more likely to result in a \"Summons\" to appear in court, as shown by the two elongated orange-colored bars.\n",
    "- Improper display of license plates and non-functional lights were likely to result in a \"Verbal Warning.\""
   ]
  },
  {
   "cell_type": "markdown",
   "metadata": {},
   "source": [
    "#### Date and Time\n",
    "\n",
    "The **`stop_date`** and **`stop_time`** columns specify when a traffic stop occurred.  In the hopes of detecting potential time patterns, I will transform these into four columns: **`month`**, **`day`**, **`hour`**, and **`minute`**."
   ]
  },
  {
   "cell_type": "code",
   "execution_count": 42,
   "metadata": {
    "ExecuteTime": {
     "end_time": "2018-05-23T04:41:37.389463Z",
     "start_time": "2018-05-23T04:41:37.386818Z"
    },
    "collapsed": true
   },
   "outputs": [],
   "source": [
    "# [TODO: REMOVEME?]\n",
    "# import pandas as pd\n",
    "# %matplotlib inline\n",
    "# df = pd.read_csv('./data/CT-clean.csv', header=0)\n",
    "# day_freq = df['stop_date'].apply(lambda x: x.split('-')[2])\n",
    "# month_freq = df['stop_date'].apply(lambda x: x.split('-')[1])\n",
    "# dt_outcomes = pd.get_dummies(df['stop_outcome'])\n",
    "# dt = pd.concat([month_freq, day_freq, df['stop_outcome']], axis=1)\n",
    "# cols = ['month', 'day', 'outcome']\n",
    "# # cols.extend(list(dt_outcomes.columns.values))\n",
    "# dt.columns=cols\n",
    "# grouped = dt.groupby(['day'])['outcome'].count().plot.barh(figsize=(15, 15), fontsize=14)\n",
    "# grouped.axes.set_xlabel('outcome count', fontsize=14)\n",
    "# grouped.axes.set_ylabel('day', fontsize=14)\n"
   ]
  },
  {
   "cell_type": "markdown",
   "metadata": {},
   "source": [
    "#### Gender Breakdown\n",
    "\n",
    "Twice as many men got pulled over compared to women, as men comprised almost exactly two-thirds (66.5%) of this dataset."
   ]
  },
  {
   "cell_type": "code",
   "execution_count": 124,
   "metadata": {
    "ExecuteTime": {
     "end_time": "2018-05-13T18:56:05.325530Z",
     "start_time": "2018-05-13T14:56:05.322522-04:00"
    },
    "collapsed": true
   },
   "outputs": [],
   "source": [
    "# gender_vbar = df['driver_gender'].value_counts(normalize=True).mul(100).plot.bar(figsize=(8, 4), table=True)\n",
    "# xaxis = gender_vbar.axes.get_xaxis()\n",
    "# xaxis.set_visible(False)\n",
    "# gender_vbar.axes.set_ylabel('%')\n",
    "# table = gender_vbar.tables[0]\n",
    "# table.scale(1, 2)"
   ]
  },
  {
   "cell_type": "code",
   "execution_count": 125,
   "metadata": {
    "ExecuteTime": {
     "end_time": "2018-05-13T18:56:05.415120Z",
     "start_time": "2018-05-13T14:56:05.327035-04:00"
    }
   },
   "outputs": [
    {
     "data": {
      "text/plain": [
       "<matplotlib.text.Text at 0x227ee600a90>"
      ]
     },
     "execution_count": 125,
     "metadata": {},
     "output_type": "execute_result"
    },
    {
     "data": {
      "image/png": "[encoded data removed]",
      "text/plain": [
       "<matplotlib.figure.Figure at 0x227e49478d0>"
      ]
     },
     "metadata": {},
     "output_type": "display_data"
    }
   ],
   "source": [
    "gender_vbar = df['driver_gender'].value_counts(normalize=True).mul(100).plot.pie(figsize=(4, 4), fontsize=16)\n",
    "xaxis = gender_vbar.axes.get_xaxis()\n",
    "xaxis.set_visible(False)\n",
    "gender_vbar.axes.set_ylabel('')\n",
    "# gender_vbar.axes.set_ylabel('%')\n",
    "# table = gender_vbar.tables[0]\n",
    "# table.scale(1, 2)"
   ]
  },
  {
   "cell_type": "markdown",
   "metadata": {},
   "source": [
    "#### Age Breakdown\n",
    "\n",
    "Those in their 20's have the highest percentage of traffic stops at 30.66%, with those in their 30's and 40's following suit, at 20.9% and 18.9% respectively."
   ]
  },
  {
   "cell_type": "code",
   "execution_count": 126,
   "metadata": {
    "ExecuteTime": {
     "end_time": "2018-05-13T18:56:05.464381Z",
     "start_time": "2018-05-13T14:56:05.416124-04:00"
    },
    "collapsed": true
   },
   "outputs": [
    {
     "data": {
      "text/plain": [
       "count    313274.000000\n",
       "mean         38.066325\n",
       "std          14.428419\n",
       "min           0.000000\n",
       "25%          26.000000\n",
       "50%          35.000000\n",
       "75%          49.000000\n",
       "max          99.000000\n",
       "Name: driver_age_raw, dtype: float64"
      ]
     },
     "execution_count": 126,
     "metadata": {},
     "output_type": "execute_result"
    }
   ],
   "source": [
    "# df['driver_age_raw'].describe()\n",
    "\n",
    "# [TODO:  Remove or make a pretty table]"
   ]
  },
  {
   "cell_type": "code",
   "execution_count": 127,
   "metadata": {
    "ExecuteTime": {
     "end_time": "2018-05-13T18:56:05.681447Z",
     "start_time": "2018-05-13T14:56:05.465885-04:00"
    }
   },
   "outputs": [
    {
     "data": {
      "text/plain": [
       "<matplotlib.text.Text at 0x227b3a584e0>"
      ]
     },
     "execution_count": 127,
     "metadata": {},
     "output_type": "execute_result"
    },
    {
     "data": {
      "image/png": "[encoded data removed]",
      "text/plain": [
       "<matplotlib.figure.Figure at 0x227e4947940>"
      ]
     },
     "metadata": {},
     "output_type": "display_data"
    }
   ],
   "source": [
    "age_bins = pd.cut(df['driver_age_raw'], bins=[0, 10, 20, 30, 40, 50, 60, 70, 80, 90, 100], include_lowest=True)\n",
    "ax = age_bins.value_counts(sort=False, normalize=True).mul(100).plot.bar(rot=0, color=\"b\", figsize=(15,4))\n",
    "ax.axes.set_ylabel('%')"
   ]
  },
  {
   "cell_type": "markdown",
   "metadata": {},
   "source": [
    "274 records specify ages that are less than 15 years old, which appear to be typos and will be removed in the pre-processing stage."
   ]
  },
  {
   "cell_type": "code",
   "execution_count": 128,
   "metadata": {
    "ExecuteTime": {
     "end_time": "2018-05-13T18:56:05.912922Z",
     "start_time": "2018-05-13T14:56:05.682951-04:00"
    }
   },
   "outputs": [
    {
     "data": {
      "image/png": "[encoded data removed]",
      "text/plain": [
       "<matplotlib.figure.Figure at 0x227d788fa90>"
      ]
     },
     "metadata": {},
     "output_type": "display_data"
    }
   ],
   "source": [
    "weird_ages_rows = df[df[\"driver_age_raw\"] < 15]['driver_age_raw']\n",
    "weird_ages = weird_ages_rows.value_counts(sort=False).plot.bar(figsize=(13, 4), table=True, title='Age Values Count')\n",
    "xaxis = weird_ages.axes.get_xaxis()\n",
    "xaxis.set_visible(False)\n",
    "weird_ages.axes.set_ylabel('Count')\n",
    "table = weird_ages.tables[0]\n",
    "table.scale(1, 2)"
   ]
  },
  {
   "cell_type": "markdown",
   "metadata": {},
   "source": [
    "### Algorithms and Techniques\n",
    "In this section, you will need to discuss the algorithms and techniques you intend to use for solving the problem. You should justify the use of each one based on the characteristics of the problem and the problem domain. Questions to ask yourself when writing this section:\n",
    "- _Are the algorithms you will use, including any default variables/parameters in the project clearly defined?_\n",
    "- _Are the techniques to be used thoroughly discussed and justified?_\n",
    "- _Is it made clear how the input data or datasets will be handled by the algorithms and techniques chosen?_"
   ]
  },
  {
   "cell_type": "markdown",
   "metadata": {},
   "source": [
    "<!--\n",
    "To solve this problem, I will experiment with three algorithms:\n",
    "1. The VotingClassifier from the scikit-learn library\n",
    "1. GradientBoostingClassifier also  from the scikit-learn library\n",
    "1. XGBoost from the Distributed(Deep) Machine Learning Community (DMLC) at https://github.com/dmlc/xgboost.\n",
    "-->\n",
    "\n",
    "Since this is a multi-class classification problem, I will experiment with the following  algorithms that scikit-learn lists as multi-class at http://scikit-learn.org/stable/modules/multiclass.html:\n",
    "\n",
    "<table width=80%>\n",
    "<thead>\n",
    "<tr>\n",
    "    <th style=\"text-align: left; width: 25%;\">Classifier</th>\n",
    "    <th style=\"text-align: left;\">Description</th>\n",
    "</tr>\n",
    "</thead>\n",
    "<tbody>\n",
    "<tr>\n",
    "    <td style=\"vertical-align:top; text-align: left; width: 25%;\">**GaussianNB**</td>\n",
    "    <td style=\"vertical-align:top; text-align: left;\">\n",
    "        <ul>\n",
    "            <li>Implements the Gaussian Naive Bayes algorithm.</li>\n",
    "            <li>Known to work well with large datasets such as this one.</li>\n",
    "            <li>assumes that the presence of a particular feature in a class is unrelated to the presence of any other feature</li>\n",
    "        </ul>\n",
    "    </td>\n",
    "</tr>\n",
    "<tr>\n",
    "    <td style=\"vertical-align:top; text-align: left; width: 25%;\">**RandomForestClassifier**</td>\n",
    "    <td style=\"vertical-align:top; text-align: left;\">\n",
    "        <ul>\n",
    "            <li>Meta estimator that fits a number of decision tree classifiers on dataset sub-samples, using averages to improve predictive accuracy and minimize over-fitting.</li>\n",
    "            <li>Intrinsically suited for multiclass problems.</li>\n",
    "            <li>Works well with a mixture of numerical and categorical features</li>\n",
    "        </ul>\n",
    "    </td>\n",
    "</tr>\n",
    "<tr>\n",
    "    <td style=\"vertical-align:top; text-align: left; width: 25%;\">**DecisionTreeClassifier**</td>\n",
    "    <td style=\"vertical-align:top; text-align: left;\">\n",
    "        <ul>\n",
    "            <li>Non-parametric learning method that predicts the value of a target variable by learning simple decision rules inferred from data features.</li>\n",
    "            <li>Works well with regression and classification problems.</li>\n",
    "            <li>Some regard as \"set it and forget it\" due to the minimal optimization needed</li>\n",
    "        </ul>\n",
    "    </td>\n",
    "</tr>\n",
    "<tr>\n",
    "    <td style=\"vertical-align:top; text-align: left; width: 25%;\">**GradientBoostingClassifier**</td>\n",
    "    <td style=\"vertical-align:top; text-align: left;\">\n",
    "        <ul>\n",
    "            <li>Builds an additive model in a forward stage-wise fashion, allowing for the optimization of random differentiable loss functions.</li>\n",
    "            <li>Generally performs better than `random forest`.</li>\n",
    "            <li>Provides a plethora of tuning parameters.</li>\n",
    "        </ul>\n",
    "    </td>\n",
    "</tr>\n",
    "</tbody>\n",
    "</table>\n"
   ]
  },
  {
   "cell_type": "markdown",
   "metadata": {},
   "source": [
    "For the most part, I used the default parameters for each classifier, with the exception of the **`n_jobs`**, **`verbose`**, and **`random_state`** parameters when available, which are specified as follows:"
   ]
  },
  {
   "cell_type": "markdown",
   "metadata": {},
   "source": [
    "<table>\n",
    "    <thead>\n",
    "        <tr>\n",
    "            <th></th>\n",
    "            <th colspan=4 style=\"text-align: center;\">Classifier</th>\n",
    "        </tr>\n",
    "        <tr>\n",
    "            <th style=\"text-align: center;\">Parameter</th>\n",
    "            <th style=\"text-align: center;\">GaussianNB</th>\n",
    "            <th style=\"text-align: center;\">RandomForestClassifier</th>\n",
    "            <th style=\"text-align: center;\">DecisionTreeClassifier</th>\n",
    "            <th class=\"s2 softmerge\">GradientBoostingClassifier</th>\n",
    "        </tr>\n",
    "    </thead>\n",
    "    <tbody>\n",
    "        <tr>\n",
    "            <td style=\"text-align: left; font-weight: bold;\">bootstrap</td>\n",
    "            <td style=\"text-align: center;\"></td>\n",
    "            <td style=\"text-align: center;\">True</td>\n",
    "            <td style=\"text-align: center;\"></td>\n",
    "            <td style=\"text-align: center;\"></td>\n",
    "        </tr>\n",
    "        <tr>\n",
    "            <td style=\"text-align: left; font-weight: bold;\">class_weight</td>\n",
    "            <td style=\"text-align: center;\"></td>\n",
    "            <td style=\"text-align: center;\">None</td>\n",
    "            <td style=\"text-align: center;\">None</td>\n",
    "            <td style=\"text-align: center;\"></td>\n",
    "        </tr>\n",
    "        <tr>\n",
    "            <td style=\"text-align: left; font-weight: bold;\">criterion</td>\n",
    "            <td style=\"text-align: center;\"></td>\n",
    "            <td style=\"text-align: center;\">gini</td>\n",
    "            <td style=\"text-align: center;\">gini</td>\n",
    "            <td style=\"text-align: center;\">friedman_mse</td>\n",
    "        </tr>\n",
    "        <tr>\n",
    "            <td style=\"text-align: left; font-weight: bold;\">init</td>\n",
    "            <td style=\"text-align: center;\"></td>\n",
    "            <td style=\"text-align: center;\"></td>\n",
    "            <td style=\"text-align: center;\"></td>\n",
    "            <td style=\"text-align: center;\">None</td>\n",
    "        </tr>\n",
    "        <tr>\n",
    "            <td style=\"text-align: left; font-weight: bold;\">learning_rate</td>\n",
    "            <td style=\"text-align: center;\"></td>\n",
    "            <td style=\"text-align: center;\"></td>\n",
    "            <td style=\"text-align: center;\"></td>\n",
    "            <td style=\"text-align: center;\">0.1</td>\n",
    "        </tr>\n",
    "        <tr>\n",
    "            <td style=\"text-align: left; font-weight: bold;\">loss</td>\n",
    "            <td style=\"text-align: center;\"></td>\n",
    "            <td style=\"text-align: center;\"></td>\n",
    "            <td style=\"text-align: center;\"></td>\n",
    "            <td style=\"text-align: center;\">deviance</td>\n",
    "        </tr>\n",
    "        <tr>\n",
    "            <td style=\"text-align: left; font-weight: bold;\">max_depth</td>\n",
    "            <td style=\"text-align: center;\"></td>\n",
    "            <td style=\"text-align: center;\">None</td>\n",
    "            <td style=\"text-align: center;\">None</td>\n",
    "            <td style=\"text-align: center;\">3</td>\n",
    "        </tr>\n",
    "        <tr>\n",
    "            <td style=\"text-align: left; font-weight: bold;\">max_features</td>\n",
    "            <td style=\"text-align: center;\"></td>\n",
    "            <td style=\"text-align: center;\">auto</td>\n",
    "            <td style=\"text-align: center;\">None</td>\n",
    "            <td style=\"text-align: center;\">None</td>\n",
    "        </tr>\n",
    "        <tr>\n",
    "            <td style=\"text-align: left; font-weight: bold;\">max_leaf_nodes</td>\n",
    "            <td style=\"text-align: center;\"></td>\n",
    "            <td style=\"text-align: center;\">None</td>\n",
    "            <td style=\"text-align: center;\">None</td>\n",
    "            <td style=\"text-align: center;\">None</td>\n",
    "        </tr>\n",
    "        <tr>\n",
    "            <td style=\"text-align: left; font-weight: bold;\">min_impurity_split</td>\n",
    "            <td style=\"text-align: center;\"></td>\n",
    "            <td style=\"text-align: center;\">0.0000001</td>\n",
    "            <td style=\"text-align: center;\">0.0000001</td>\n",
    "            <td style=\"text-align: center;\">0.0000001</td>\n",
    "        </tr>\n",
    "        <tr>\n",
    "            <td style=\"text-align: left; font-weight: bold;\">min_samples_leaf</td>\n",
    "            <td style=\"text-align: center;\"></td>\n",
    "            <td style=\"text-align: center;\">1</td>\n",
    "            <td style=\"text-align: center;\">1</td>\n",
    "            <td style=\"text-align: center;\">1</td>\n",
    "        </tr>\n",
    "        <tr>\n",
    "            <td style=\"text-align: left; font-weight: bold;\">min_samples_split</td>\n",
    "            <td style=\"text-align: center;\"></td>\n",
    "            <td style=\"text-align: center;\">2</td>\n",
    "            <td style=\"text-align: center;\">2</td>\n",
    "            <td style=\"text-align: center;\">2</td>\n",
    "        </tr>\n",
    "        <tr>\n",
    "            <td style=\"text-align: left; font-weight: bold;\">min_weight_fraction_leaf</td>\n",
    "            <td style=\"text-align: center;\"></td>\n",
    "            <td style=\"text-align: center;\">0</td>\n",
    "            <td style=\"text-align: center;\">0</td>\n",
    "            <td style=\"text-align: center;\">0</td>\n",
    "        </tr>\n",
    "        <tr>\n",
    "            <td style=\"text-align: left; font-weight: bold;\">n_estimators</td>\n",
    "            <td style=\"text-align: center;\"></td>\n",
    "            <td style=\"text-align: center;\">10</td>\n",
    "            <td style=\"text-align: center;\"></td>\n",
    "            <td style=\"text-align: center;\">100</td>\n",
    "        </tr>\n",
    "        <tr>\n",
    "            <td style=\"text-align: left; font-weight: bold;\">n_jobs</td>\n",
    "            <td style=\"text-align: center;\"></td>\n",
    "            <td style=\"text-align: center; font-weight: bold;\">8</td>\n",
    "            <td style=\"text-align: center;\"></td>\n",
    "            <td style=\"text-align: center;\"></td>\n",
    "        </tr>\n",
    "        <tr>\n",
    "            <td style=\"text-align: left; font-weight: bold;\">oob_score</td>\n",
    "            <td style=\"text-align: center;\"></td>\n",
    "            <td style=\"text-align: center;\">False</td>\n",
    "            <td style=\"text-align: center;\">best</td>\n",
    "            <td style=\"text-align: center;\"></td>\n",
    "        </tr>\n",
    "        <tr>\n",
    "            <td style=\"text-align: left; font-weight: bold;\">presort</td>\n",
    "            <td style=\"text-align: center;\"></td>\n",
    "            <td style=\"text-align: center;\"></td>\n",
    "            <td style=\"text-align: center;\">False</td>\n",
    "            <td style=\"text-align: center;\">auto</td>\n",
    "        </tr>\n",
    "        <tr>\n",
    "            <td style=\"text-align: left; font-weight: bold;\">priors</td>\n",
    "            <td style=\"text-align: center;\">None</td>\n",
    "            <td style=\"text-align: center;\"></td>\n",
    "            <td style=\"text-align: center;\"></td>\n",
    "            <td style=\"text-align: center;\"></td>\n",
    "        </tr>\n",
    "        <tr>\n",
    "            <td style=\"text-align: left; font-weight: bold;\">random_state</td>\n",
    "            <td style=\"text-align: center;\"></td>\n",
    "            <td style=\"text-align: center; font-weight: bold;\">0</td>\n",
    "            <td style=\"text-align: center; font-weight: bold;\">0</td>\n",
    "            <td style=\"text-align: center; font-weight: bold;\">0</td>\n",
    "        </tr>\n",
    "        <tr>\n",
    "            <td style=\"text-align: left; font-weight: bold;\">splitter</td>\n",
    "            <td style=\"text-align: center;\"></td>\n",
    "            <td style=\"text-align: center;\"></td>\n",
    "            <td style=\"text-align: center;\">best</td>\n",
    "            <td style=\"text-align: center;\"></td>\n",
    "        </tr>\n",
    "        <tr>\n",
    "            <td style=\"text-align: left; font-weight: bold;\">subsample</td>\n",
    "            <td style=\"text-align: center;\"></td>\n",
    "            <td style=\"text-align: center;\"></td>\n",
    "            <td style=\"text-align: center;\"></td>\n",
    "            <td style=\"text-align: center;\">1</td>\n",
    "        </tr>\n",
    "        <tr>\n",
    "            <td style=\"text-align: left; font-weight: bold;\">verbose</td>\n",
    "            <td style=\"text-align: center;\"></td>\n",
    "            <td style=\"text-align: center; font-weight: bold;\">3</td>\n",
    "            <td style=\"text-align: center;\"></td>\n",
    "            <td style=\"text-align: center; font-weight: bold;\">3</td>\n",
    "        </tr>\n",
    "        <tr>\n",
    "            <td style=\"text-align: left; font-weight: bold;\">warm_start</td>\n",
    "            <td style=\"text-align: center;\"></td>\n",
    "            <td style=\"text-align: center;\">False</td>\n",
    "            <td style=\"text-align: center;\"></td>\n",
    "            <td style=\"text-align: center;\">False</td>\n",
    "        </tr>\n",
    "    </tbody>\n",
    "</table>"
   ]
  },
  {
   "cell_type": "markdown",
   "metadata": {
    "ExecuteTime": {
     "end_time": "2018-05-24T03:54:30.394209Z",
     "start_time": "2018-05-24T03:54:30.383675Z"
    }
   },
   "source": [
    "After experimenting with different configurations of the dataset, I will move forward with the best performing model and tune its hyperparameters.\n",
    "\n",
    "<!--\n",
    "I may need to manipulate my dataset until a desired accuracy score is reached.  At that point, I will select the most accurate classifier and conduct a grid search to tune its hyperparameters.\n",
    "\n",
    "Finally, I hope to take advantage of my NVIDIA<sup>&reg;</sup> GeForce<sup>&reg;</sup> GTX 1080Ti GPU by using the **`XGBoost`** classifier.  Short for \"e**X**treme **G**radient **Boost**ing,\" XGBoost is an optimized distributed gradient boosting library that implements machine learning algorithms under the Gradient Boosting framework and supports NVIDIA<sup>&reg;</sup> GPU's.  It has been used in many winning Kaggle competition solutions ([TODO: Add reference to https://github.com/dmlc/xgboost/tree/master/demo#machine-learning-challenge-winning-solutions).\n",
    "-->\n"
   ]
  },
  {
   "cell_type": "markdown",
   "metadata": {},
   "source": [
    "### Benchmark\n",
    "In this section, you will need to provide a clearly defined benchmark result or threshold for comparing across performances obtained by your solution. The reasoning behind the benchmark (in the case where it is not an established result) should be discussed. Questions to ask yourself when writing this section:\n",
    "- _Has some result or value been provided that acts as a benchmark for measuring performance?_\n",
    "- _Is it clear how this result or value was obtained (whether by data or by hypothesis)?_\n",
    "\n",
    "As far as I know, there is no external benchmark to assess the accuracy of a traffic stop outcome prediction.  From my analysis of the data, generating a naive predictor that predicts the outcome to be most common value, \"Ticket,\" should suffice as a benchmark.  \"Ticket\" comprises ~70% of all outcomes as described in the following table:\n",
    "\n",
    "| Outcome         | Count   |    %   |\n",
    "|:----------------|--------:|-------:|\n",
    "|Arrest           |   7,312 |  2.33% |\n",
    "|Summons          |  12,205 |  3.90% |\n",
    "|**Ticket**       | **218,973** | **69.89%** |\n",
    "|Verbal Warning\t  |  47,753 | 15.24% |\n",
    "|Written Warning  |  27,070 |  8.64% |\n",
    "|                 | 313,313 |        |\n",
    "\n",
    "To ensure that I am doing a fair comparison, I will run this model against the same test set that will be used as input to the **`score()`** functions of the classifiers specified above.\n",
    "\n"
   ]
  },
  {
   "cell_type": "markdown",
   "metadata": {},
   "source": [
    "## III. Methodology\n",
    "_(approx. 3-5 pages)_\n",
    "\n",
    "### Data Preprocessing\n",
    "In this section, all of your preprocessing steps will need to be clearly documented, if any were necessary. From the previous section, any of the abnormalities or characteristics that you identified about the dataset will be addressed and corrected here. Questions to ask yourself when writing this section:\n",
    "- _If the algorithms chosen require preprocessing steps like feature selection or feature transformations, have they been properly documented?_\n",
    "- _Based on the **Data Exploration** section, if there were abnormalities or characteristics that needed to be addressed, have they been properly corrected?_\n",
    "- _If no preprocessing is needed, has it been made clear why?_"
   ]
  },
  {
   "cell_type": "markdown",
   "metadata": {},
   "source": [
    "I performed the following preprocessing steps on the raw dataset to generate training and testing sets for classifier development:\n",
    "\n",
    "1. Dropped the data columns that I believed were unnecessary, namely:\n",
    "```\n",
    "    county_fips\n",
    "    driver_age\n",
    "    driver_race_raw\n",
    "    fine_grained_location\n",
    "    id\n",
    "    is_arrested\n",
    "    location_raw\n",
    "    officer_id\n",
    "    police_department\n",
    "    search_type\n",
    "    search_type_raw\n",
    "    state\n",
    "```\n",
    "1. Removed rows where **`stop_outcome`** and **`county_name`** had empty values, as well as rows which had **`driver_age_raw`** values below 15.\n",
    "1. Calculated the median traffic stop time and used it to fill in the null values for the **`stop_time`** field.\n",
    "1. Split **`stop_date`** and **`stop_time`** string values into **`month`**, **`day`**, **`hour`**, and **`min`** numerical value columns then dropped the **`stop_date`** and **`stop_time`** columns.\n",
    "1. Normalized the violations data by combining values from the **`violation`** and **`violation_raw`** columns, merging similar values into a common value, then manually one-hot encoded the values into their own binary columns, which were then appended to the main dataframe as additional features.  I subsequently dropped the **`violation`** and **`violation_raw`** columns.\n",
    "1. Converted **`search_conducted`** and **`contraband_found`** columns to binary values in-place.\n",
    "1. Normalized **`driver_age`** values to values between 0.0 and 1.0 using **`sklearn.preprocessing.MinMaxScaler`** in-place.\n",
    "1. Performed one-hot encoding on the following categorical value fields:  **`county_name`**, **`driver_gender`**, **`driver_race`**, **`stop_duration`**.\n",
    "\n"
   ]
  },
  {
   "cell_type": "code",
   "execution_count": 129,
   "metadata": {
    "ExecuteTime": {
     "end_time": "2018-05-13T18:56:06.276425Z",
     "start_time": "2018-05-13T14:56:05.913926-04:00"
    },
    "collapsed": true
   },
   "outputs": [],
   "source": [
    "# Append one-hot encoded violations\n",
    "df = pd.concat([df, df_violations], axis=1)\n",
    "\n",
    "# Remove records with age less than 15\n",
    "df.drop(index=weird_ages_rows.index, inplace=True)\n",
    "\n",
    "# Fill in empty **`stop_time`** with median value\n",
    "populated = df[df.stop_time.notnull()]['stop_time'].sort_values()\n",
    "median_stop_time = populated.iloc[populated.shape[0] // 2]\n",
    "df['stop_time'].fillna(median_stop_time, inplace=True)"
   ]
  },
  {
   "cell_type": "code",
   "execution_count": 130,
   "metadata": {
    "ExecuteTime": {
     "end_time": "2018-05-13T18:56:06.280902Z",
     "start_time": "2018-05-13T14:56:06.277392-04:00"
    },
    "collapsed": true
   },
   "outputs": [
    {
     "data": {
      "text/plain": [
       "(313129, 28)"
      ]
     },
     "execution_count": 130,
     "metadata": {},
     "output_type": "execute_result"
    }
   ],
   "source": [
    "# df.shape"
   ]
  },
  {
   "cell_type": "code",
   "execution_count": 131,
   "metadata": {
    "ExecuteTime": {
     "end_time": "2018-05-13T18:56:18.308942Z",
     "start_time": "2018-05-13T14:56:06.281905-04:00"
    },
    "collapsed": true
   },
   "outputs": [],
   "source": [
    "# Categorize stop_time into time-of-day: \"morning, afternoon, evening, small hours\"\n",
    "def day_period(time_str):\n",
    "    hour = time_str.hour\n",
    "    if hour >= 0 and hour < 6:\n",
    "        return 'Small Hours'\n",
    "    elif hour >= 6 and hour < 12:\n",
    "        return 'Morning'\n",
    "    elif hour >= 12 and hour < 18:\n",
    "        return 'Afternoon'\n",
    "    else:\n",
    "        return 'Evening'\n",
    "\n",
    "df['day_period'] = pd.to_datetime(df['stop_time']).apply(day_period)\n"
   ]
  },
  {
   "cell_type": "code",
   "execution_count": 132,
   "metadata": {
    "ExecuteTime": {
     "end_time": "2018-05-13T18:56:18.313482Z",
     "start_time": "2018-05-13T14:56:18.309946-04:00"
    },
    "collapsed": true
   },
   "outputs": [
    {
     "data": {
      "text/plain": [
       "(313129, 29)"
      ]
     },
     "execution_count": 132,
     "metadata": {},
     "output_type": "execute_result"
    }
   ],
   "source": [
    "# df.shape"
   ]
  },
  {
   "cell_type": "code",
   "execution_count": 133,
   "metadata": {
    "ExecuteTime": {
     "end_time": "2018-05-13T18:56:20.609798Z",
     "start_time": "2018-05-13T14:56:18.314458-04:00"
    },
    "collapsed": true
   },
   "outputs": [],
   "source": [
    "# Categorize stop_date by season\n",
    "def season(stop_date):\n",
    "    month = datetime.strptime(stop_date, '%Y-%m-%d').month\n",
    "    if month >= 3 and month < 6:\n",
    "        return 'Spring'\n",
    "    elif month >= 6 and month < 9:\n",
    "        return 'Summer'\n",
    "    elif month >= 9 and month < 12:\n",
    "        return 'Fall'\n",
    "    return 'Winter'\n",
    "\n",
    "df['season'] = df['stop_date'].apply(season)"
   ]
  },
  {
   "cell_type": "code",
   "execution_count": 134,
   "metadata": {
    "ExecuteTime": {
     "end_time": "2018-05-13T18:56:20.698034Z",
     "start_time": "2018-05-13T14:56:20.611183-04:00"
    },
    "collapsed": true
   },
   "outputs": [],
   "source": [
    "# Transform driver_gender to binary\n",
    "df['is_male'] = df['driver_gender'].apply(lambda x: 1 if x == 'M' else 0)"
   ]
  },
  {
   "cell_type": "code",
   "execution_count": 135,
   "metadata": {
    "ExecuteTime": {
     "end_time": "2018-05-13T18:56:28.402297Z",
     "start_time": "2018-05-13T14:56:20.699040-04:00"
    },
    "collapsed": true
   },
   "outputs": [],
   "source": [
    "# Experiment: See whether labelencoding location_raw improves performance\n",
    "from sklearn.preprocessing import LabelEncoder\n",
    "\n",
    "le = LabelEncoder()\n",
    "df['location_raw'] = le.fit_transform(df['location_raw'])"
   ]
  },
  {
   "cell_type": "code",
   "execution_count": 136,
   "metadata": {
    "ExecuteTime": {
     "end_time": "2018-05-13T18:56:28.406308Z",
     "start_time": "2018-05-13T14:56:28.403300-04:00"
    },
    "collapsed": true
   },
   "outputs": [
    {
     "data": {
      "text/plain": [
       "(313129, 31)"
      ]
     },
     "execution_count": 136,
     "metadata": {},
     "output_type": "execute_result"
    }
   ],
   "source": [
    "# df.shape"
   ]
  },
  {
   "cell_type": "code",
   "execution_count": 137,
   "metadata": {
    "ExecuteTime": {
     "end_time": "2018-05-13T18:56:28.488050Z",
     "start_time": "2018-05-13T14:56:28.407311-04:00"
    },
    "collapsed": true
   },
   "outputs": [],
   "source": [
    "# Drop columns no longer needed due to normalization\n",
    "drop_cols = [\n",
    "    'driver_gender',\n",
    "#     'county_name',\n",
    "#     'location_raw',\n",
    "#     'officer_id',\n",
    "    'stop_date',\n",
    "    'stop_time',\n",
    "    'violation_raw',\n",
    "    'violation',\n",
    "]\n",
    "\n",
    "df.drop(drop_cols, axis=1, inplace=True)"
   ]
  },
  {
   "cell_type": "code",
   "execution_count": 138,
   "metadata": {
    "ExecuteTime": {
     "end_time": "2018-05-13T18:56:28.493540Z",
     "start_time": "2018-05-13T14:56:28.489028-04:00"
    },
    "collapsed": true
   },
   "outputs": [
    {
     "data": {
      "text/plain": [
       "(313129, 26)"
      ]
     },
     "execution_count": 138,
     "metadata": {},
     "output_type": "execute_result"
    }
   ],
   "source": [
    "# df.shape"
   ]
  },
  {
   "cell_type": "code",
   "execution_count": 139,
   "metadata": {
    "ExecuteTime": {
     "end_time": "2018-05-13T18:56:28.706141Z",
     "start_time": "2018-05-13T14:56:28.495044-04:00"
    },
    "collapsed": true
   },
   "outputs": [],
   "source": [
    "# Convert booleans to 0 and 1\n",
    "df['search_conducted'] = df['search_conducted'].apply(lambda x: int(x))\n",
    "df['contraband_found'] = df['contraband_found'].apply(lambda x: int(x))"
   ]
  },
  {
   "cell_type": "code",
   "execution_count": null,
   "metadata": {
    "ExecuteTime": {
     "end_time": "2018-05-13T18:56:29.133802Z",
     "start_time": "2018-05-13T14:56:28.707645-04:00"
    },
    "collapsed": true
   },
   "outputs": [],
   "source": [
    "# Normalize driver_age\n",
    "from sklearn.preprocessing import MinMaxScaler\n",
    "\n",
    "scaler = MinMaxScaler() # default=(0, 1)\n",
    "features_transformed = pd.DataFrame(data=df)\n",
    "features_transformed['driver_age_raw'] = scaler.fit_transform(features_transformed['driver_age_raw'].reshape(-1, 1))\n",
    "# features_transformed"
   ]
  },
  {
   "cell_type": "code",
   "execution_count": 141,
   "metadata": {
    "ExecuteTime": {
     "end_time": "2018-05-13T18:56:29.138791Z",
     "start_time": "2018-05-13T14:56:29.134780-04:00"
    }
   },
   "outputs": [
    {
     "data": {
      "text/plain": [
       "(313129, 26)"
      ]
     },
     "execution_count": 141,
     "metadata": {},
     "output_type": "execute_result"
    }
   ],
   "source": [
    "features_transformed.shape"
   ]
  },
  {
   "cell_type": "code",
   "execution_count": 142,
   "metadata": {
    "ExecuteTime": {
     "end_time": "2018-05-13T18:56:29.356404Z",
     "start_time": "2018-05-13T14:56:29.139795-04:00"
    },
    "collapsed": true
   },
   "outputs": [],
   "source": [
    "features_transformed.drop_duplicates(inplace=True)"
   ]
  },
  {
   "cell_type": "code",
   "execution_count": 143,
   "metadata": {
    "ExecuteTime": {
     "end_time": "2018-05-13T18:56:29.360408Z",
     "start_time": "2018-05-13T14:56:29.357373-04:00"
    },
    "collapsed": true
   },
   "outputs": [
    {
     "data": {
      "text/plain": [
       "(277733, 26)"
      ]
     },
     "execution_count": 143,
     "metadata": {},
     "output_type": "execute_result"
    }
   ],
   "source": [
    "# features_transformed.shape"
   ]
  },
  {
   "cell_type": "code",
   "execution_count": 144,
   "metadata": {
    "ExecuteTime": {
     "end_time": "2018-05-13T18:56:29.379431Z",
     "start_time": "2018-05-13T14:56:29.361383-04:00"
    },
    "collapsed": true
   },
   "outputs": [],
   "source": [
    "# Prefix officer id numbers as dtype is object and get_dummies() creates some duplicate columns\n",
    "# features_transformed['officer_id'] = le.fit_transform(features_transformed['officer_id'].apply(lambda x: 'no_{}'.format(x)))\n"
   ]
  },
  {
   "cell_type": "code",
   "execution_count": 145,
   "metadata": {
    "ExecuteTime": {
     "end_time": "2018-05-13T18:56:29.490727Z",
     "start_time": "2018-05-13T14:56:29.380434-04:00"
    },
    "collapsed": true
   },
   "outputs": [
    {
     "data": {
      "text/plain": [
       "array(['location_raw', 'driver_age_raw', 'search_conducted',\n",
       "       'contraband_found', 'stop_outcome', 'violation_bad_stop',\n",
       "       'violation_cell_phone', 'violation_display_of_plates',\n",
       "       'violation_equipment', 'violation_license', 'violation_lights',\n",
       "       'violation_moving_violation', 'violation_other',\n",
       "       'violation_registration', 'violation_safe_movement',\n",
       "       'violation_seatbelt', 'violation_speeding',\n",
       "       'violation_suspended_license', 'violation_traffic_control_signal',\n",
       "       'violation_window_tint', 'is_male', 'county_name_Fairfield County',\n",
       "       'county_name_Hartford County', 'county_name_Litchfield County',\n",
       "       'county_name_Middlesex County', 'county_name_New Haven County',\n",
       "       'county_name_New London County', 'county_name_Tolland County',\n",
       "       'county_name_Windham County', 'driver_race_Asian',\n",
       "       'driver_race_Black', 'driver_race_Hispanic', 'driver_race_Other',\n",
       "       'driver_race_White', 'stop_duration_1-15 min',\n",
       "       'stop_duration_16-30 min', 'stop_duration_30+ min',\n",
       "       'day_period_Afternoon', 'day_period_Evening', 'day_period_Morning',\n",
       "       'day_period_Small Hours', 'season_Fall', 'season_Spring',\n",
       "       'season_Summer', 'season_Winter'], dtype=object)"
      ]
     },
     "execution_count": 145,
     "metadata": {},
     "output_type": "execute_result"
    }
   ],
   "source": [
    "# One-hot encode categorical variables\n",
    "cols_to_encode = [\n",
    "#     'location_raw',\n",
    "    'county_name',\n",
    "    'driver_race',\n",
    "#     'officer_id',\n",
    "    'stop_duration',\n",
    "    'day_period',\n",
    "    'season',\n",
    "]\n",
    "final_features = pd.get_dummies(features_transformed, columns=cols_to_encode)\n",
    "# final_features.columns.values"
   ]
  },
  {
   "cell_type": "code",
   "execution_count": 164,
   "metadata": {
    "ExecuteTime": {
     "end_time": "2018-05-13T21:13:52.604203Z",
     "start_time": "2018-05-13T17:13:52.574123-04:00"
    },
    "collapsed": true
   },
   "outputs": [],
   "source": [
    "from datetime import datetime\n",
    "\n",
    "timestamp = datetime.now().strftime('%Y%m%d%H%M%S')\n",
    "\n",
    "non_oversampled = final_features.copy(deep=True)\n",
    "non_oversampled_outcomes = non_oversampled.pop('stop_outcome')\n",
    "\n",
    "# non_oversampled.to_pickle('./final_features-{}-non_oversampled.pkl'.format(timestamp))\n",
    "# non_oversampled_outcomes.to_pickle('./labels-{}-non_oversampled.pkl'.format(timestamp))\n",
    "# print('timestamp = {}'.format(timestamp))"
   ]
  },
  {
   "cell_type": "markdown",
   "metadata": {},
   "source": [
    "### Implementation\n",
    "In this section, the process for which metrics, algorithms, and techniques that you implemented for the given data will need to be clearly documented. It should be abundantly clear how the implementation was carried out, and discussion should be made regarding any complications that occurred during this process. Questions to ask yourself when writing this section:\n",
    "- _Is it made clear how the algorithms and techniques were implemented with the given datasets or input data?_\n",
    "- _Were there any complications with the original metrics or techniques that required changing prior to acquiring a solution?_\n",
    "- _Was there any part of the coding process (e.g., writing complicated functions) that should be documented?_"
   ]
  },
  {
   "cell_type": "markdown",
   "metadata": {},
   "source": [
    "#### _Is it made clear how the algorithms and techniques were implemented with the given datasets or input data?_\n",
    "\n",
    "<!--\n",
    "For the **`sklearn.linear_model.SGDClassifier`**, untuned, this classifier produced an abysmal score of **`0.3173951596077613`** or **31.74% accuracy**.\n",
    "\n",
    "In my preliminary testing with the following classifiers, I kept hitting a ceiling of 82% prediction accuracy no matter how many runs I set or parameters I tweaked.  So, I decided to add the **`location_raw`** data back into the training data, and the accuracy improved significantly.  The results that follow reflect the addition of this data column.\n",
    "\n",
    "The **VotingClassifier** resulted in a score of **`0.9195076152722721`**, considerably more accurate than the SGDClassifier.  I was pleaantly surprised by this result, not expecting to achieve this level of accuracy with no parameter tuning.  Curious, I fitted each classifier independently, again with just the default parameters, and generated the following results:\n",
    "\n",
    "| Classifier                  | Accuracy Score | Training Time  |\n",
    "|:----------------------------|:--------------:|:--------------:|\n",
    "| RandomForestClassifier      |      0.9140    |      9.55 secs |\n",
    "| GaussianNB                  |      0.4560    |     0.959 secs |\n",
    "| DecisionTreeClassifier      |      0.9102    |      4.43 secs |\n",
    "| GradientBoostingClassifier  |      0.5133    |  7 min 13 secs |\n",
    "\n",
    "Next, with minimal parameters set, **XGBoost** achieved **0.114328 error**, equating to **88.57% accuracy**. This result was achieved after 9,006 runs where the **`early_stopping_rounds`** parameter was set to 50.  To clarify, I set the number of rounds to 10,000, but the model would stop training once the current run generated an error that was no lower than the lowest eror over the previous 50 runs.  Please note that I am using [training] run and round synonymously.  An interesting issue I encounted was that the browser I was using for the Jupyter notebook to code this run kept crashing once the training session got past 3,300+ runs, so I had to move the code to a Python script and execute it from the command line.  Based on my recollection, the training time took around an hour and a half to achieve this score.\n",
    "-->\n",
    "\n",
    "As part of my implementation, I performed an 80/20 split of the preprocessed data into training and test sets, respectively.  Feeding the training set into the selected classifiers' **fit()** functions and subsequently calling the resulting fitted models' **score()** functions with the test set achieved the following accuracy scores:\n",
    "\n",
    "| Algorithm | Accuracy Score |\n",
    "|:----------|:--------------:|\n",
    "| (**Benchmark**) | **0.6912** |\n",
    "| GaussianNB | 0.643051 |\n",
    "| DecisionTreeClassifier | 0.537262 |\n",
    "| RandomForestClassifier | 0.685543 |\n",
    "| **GradientBoostingClassifier** | **0.718311** |\n",
    "\n",
    "Only the **GradientBoostingClassifier** performed better than the benchmark, and only by .027111 or 2.71%.  In an effort to improve performance, I tested different modifications to the data set.  To make this task easier to understand and track, I created the following flags and then tested different combinations between them in different stages:\n",
    "\n",
    "<!--\n",
    "| Flag | Description |\n",
    "|:-----|:------------|\n",
    "| include_location_raw | Add **`location_raw`** column to the data set |\n",
    "| include_driver_race | Add **`driver_race`** column to the data set |\n",
    "| label_encode_categoricals | Use sklearn.preprocessing.LabelEncoder to encode categorical column values. If False, use pandas.get_dummies() to one-hot encode each categorical column value into its own binary value column |\n",
    "| oversample | Oversample the data to address data set imbalance |\n",
    "| undersample | Undersample the data to address data set imbalance |\n",
    "\n",
    "-->\n",
    "<style>\n",
    "\n",
    "</style>\n",
    "<table width=80%>\n",
    "<thead>\n",
    "<tr>\n",
    "    <th style=\"text-align: left; width: 25%;\">Flag</th>\n",
    "    <th style=\"text-align: left;\">Description</th>\n",
    "</tr>\n",
    "</thead>\n",
    "<tbody>\n",
    "    <tr>\n",
    "        <td style=\"text-align: left; width: 25%;\">include_location_raw</td>\n",
    "        <td style=\"text-align: left;\">Add **`location_raw`** column to the data set</td>\n",
    "    </tr>\n",
    "    <tr>\n",
    "        <td style=\"text-align: left; width: 25%;\">include_driver_race</td>\n",
    "        <td style=\"text-align: left;\">Add **`driver_race`** column to the data set</td>\n",
    "    </tr>\n",
    "    <tr>\n",
    "        <td style=\"text-align: left; width: 25%; vertical-align: top;\">label_encode_categoricals</td>\n",
    "        <td style=\"text-align: left;\">Use sklearn.preprocessing.LabelEncoder to encode categorical column values. If False, use pandas.get_dummies() to one-hot encode each categorical column value into its own binary value column.</td>\n",
    "    </tr>\n",
    "    <tr>\n",
    "        <td style=\"text-align: left; width: 25%;\">oversample</td>\n",
    "        <td style=\"text-align: left;\">Oversample the data to address data set imbalance</td>\n",
    "    </tr>\n",
    "    <tr>\n",
    "        <td style=\"text-align: left; width: 25%;\">undersample</td>\n",
    "        <td style=\"text-align: left;\">Undersample the data to address data set imbalance</td>\n",
    "    </tr>\n",
    "</tbody>\n",
    "</table>"
   ]
  },
  {
   "cell_type": "markdown",
   "metadata": {},
   "source": [
    "The process of **oversampling** involved calculating a multiplier for each outcome value by dividing the number of rows of the outcome with the highest row count by each of the other outcome row counts then rounding down.  The non-largest outcome value rows were then replicated by their multipliers and appended to the main dataset, with the resulting dataset being shuffled prior to splitting into training and testing sets.\n",
    "\n",
    "**Undersampling** involved removing a percentage of rows that had a **`stop_outcome`** value of \"Ticket.\"  I experimented with different values between 1-50%, but the accuracy always decreased.  Stage 5 below with the `undersampling` flag checked reflects a 1% removal of \"Ticket\" rows.\n",
    "\n",
    "The accuracy score results are shown below, where the scores reflect the increase or decrease in accuracy by changing one flag (Please note that Stage 1 reflects the initial implementation results):\n",
    "\n",
    "<table border=\"0\" cellspacing=\"0\" cellpadding=\"0\" class=\"ta1\">\n",
    "    <tr class=\"ro1\">\n",
    "        <td style=\"text-align:left;\" class=\"ce1\"> </td>\n",
    "        <td colspan=7 style=\"text-align:center;font-weight: bold;\" class=\"ce11\">STAGES</td>\n",
    "    </tr>\n",
    "    <tr class=\"ro1\">\n",
    "        <td style=\"text-align:left;width:213.45pt; font-weight: bold;\" class=\"ce2\">\n",
    "            <p>FLAGS</p>\n",
    "        </td>\n",
    "        <td style=\"text-align:right; width:73.76pt; \" class=\"ce12\">\n",
    "            <p>1</p>\n",
    "        </td>\n",
    "        <td style=\"text-align:right; width:73.76pt; \" class=\"ce12\">\n",
    "            <p>2</p>\n",
    "        </td>\n",
    "        <td style=\"text-align:right; width:73.76pt; \" class=\"ce12\">\n",
    "            <p>3</p>\n",
    "        </td>\n",
    "        <td style=\"text-align:right; width:73.76pt; \" class=\"ce12\">\n",
    "            <p>4</p>\n",
    "        </td>\n",
    "        <td style=\"text-align:right; width:73.76pt; \" class=\"ce12\">\n",
    "            <p>5</p>\n",
    "        </td>\n",
    "        <td style=\"text-align:right; width:73.76pt; \" class=\"ce12\">\n",
    "            <p>6</p>\n",
    "        </td>\n",
    "        <td style=\"text-align:right; width:73.76pt; \" class=\"ce12\">\n",
    "            <p>7</p>\n",
    "        </td>\n",
    "    </tr>\n",
    "    <tr class=\"ro1\">\n",
    "        <td style=\"text-align:left;width:213.45pt; \" class=\"ce1\">\n",
    "            <p>include_location_raw</p>\n",
    "        </td>\n",
    "        <td style=\"text-align:left;width:73.76pt; \" class=\"ce13\"> </td>\n",
    "        <td style=\"text-align:left;width:73.76pt; \" class=\"ce13\">\n",
    "            <p>&#10004;</p>\n",
    "        </td>\n",
    "        <td style=\"text-align:left;width:73.76pt; \" class=\"ce13\">\n",
    "            <p>&#10004;</p>\n",
    "        </td>\n",
    "        <td style=\"text-align:left;width:73.76pt; \" class=\"ce13\">\n",
    "            <p>&#10004;</p>\n",
    "        </td>\n",
    "        <td style=\"text-align:left;width:73.76pt; \" class=\"ce13\">\n",
    "            <p>&#10004;</p>\n",
    "        </td>\n",
    "        <td style=\"text-align:left;width:73.76pt; \" class=\"ce13\">\n",
    "            <p>&#10004;</p>\n",
    "        </td>\n",
    "        <td style=\"text-align:left;width:73.76pt; \" class=\"ce13\">\n",
    "            <p>&#10004;</p>\n",
    "        </td>\n",
    "    </tr>\n",
    "    <tr class=\"ro1\">\n",
    "        <td style=\"text-align:left;width:213.45pt; \" class=\"ce3\">\n",
    "            <p>include_driver_race</p>\n",
    "        </td>\n",
    "        <td style=\"text-align:left;width:73.76pt; \" class=\"ce13\">\n",
    "            <p>&#10004;</p>\n",
    "        </td>\n",
    "        <td style=\"text-align:left;width:73.76pt; \" class=\"ce13\">\n",
    "            <p>&#10004;</p>\n",
    "        </td>\n",
    "        <td style=\"text-align:left;width:73.76pt; \" class=\"ce13\">\n",
    "            <p>&#10004;</p>\n",
    "        </td>\n",
    "        <td style=\"text-align:left;width:73.76pt; \" class=\"ce13\">\n",
    "            <p>&#10004;</p>\n",
    "        </td>\n",
    "        <td style=\"text-align:left;width:73.76pt; \" class=\"ce13\">\n",
    "            <p>&#10004;</p>\n",
    "        </td>\n",
    "        <td style=\"text-align:left;width:73.76pt; \" class=\"ce13\"> </td>\n",
    "        <td style=\"text-align:left;width:73.76pt; \" class=\"ce13\"> </td>\n",
    "    </tr>\n",
    "    <tr class=\"ro1\">\n",
    "        <td style=\"text-align:left;width:213.45pt; \" class=\"ce1\">\n",
    "            <p>label_encode_categoricals</p>\n",
    "        </td>\n",
    "        <td style=\"text-align:left;width:73.76pt; \" class=\"ce13\"> </td>\n",
    "        <td style=\"text-align:left;width:73.76pt; \" class=\"ce13\"> </td>\n",
    "        <td style=\"text-align:left;width:73.76pt; \" class=\"ce13\">\n",
    "            <p>&#10004;</p>\n",
    "        </td>\n",
    "        <td style=\"text-align:left;width:73.76pt; \" class=\"ce13\">\n",
    "            <p>&#10004;</p>\n",
    "        </td>\n",
    "        <td style=\"text-align:left;width:73.76pt; \" class=\"ce13\">\n",
    "            <p>&#10004;</p>\n",
    "        </td>\n",
    "        <td style=\"text-align:left;width:73.76pt; \" class=\"ce13\"> </td>\n",
    "        <td style=\"text-align:left;width:73.76pt; \" class=\"ce13\">\n",
    "            <p>&#10004;</p>\n",
    "        </td>\n",
    "    </tr>\n",
    "    <tr class=\"ro1\">\n",
    "        <td style=\"text-align:left;width:213.45pt; \" class=\"ce1\">\n",
    "            <p>oversample</p>\n",
    "        </td>\n",
    "        <td style=\"text-align:left;width:73.76pt; \" class=\"ce13\"> </td>\n",
    "        <td style=\"text-align:left;width:73.76pt; \" class=\"ce13\"> </td>\n",
    "        <td style=\"text-align:left;width:73.76pt; \" class=\"ce13\"> </td>\n",
    "        <td style=\"text-align:left;width:73.76pt; \" class=\"ce13\">\n",
    "            <p>&#10004;</p>\n",
    "        </td>\n",
    "        <td style=\"text-align:left;width:73.76pt; \" class=\"ce13\"> </td>\n",
    "        <td style=\"text-align:left;width:73.76pt; \" class=\"ce13\"> </td>\n",
    "        <td style=\"text-align:left;width:73.76pt; \" class=\"ce13\"> </td>\n",
    "    </tr>\n",
    "    <tr class=\"ro1\">\n",
    "        <td style=\"text-align:left;width:213.45pt; \" class=\"ce1\">\n",
    "            <p>undersample</p>\n",
    "        </td>\n",
    "        <td style=\"text-align:left;width:73.76pt; \" class=\"ce13\"> </td>\n",
    "        <td style=\"text-align:left;width:73.76pt; \" class=\"ce13\"> </td>\n",
    "        <td style=\"text-align:left;width:73.76pt; \" class=\"ce13\"> </td>\n",
    "        <td style=\"text-align:left;width:73.76pt; \" class=\"ce13\"> </td>\n",
    "        <td style=\"text-align:left;width:73.76pt; \" class=\"ce13\">\n",
    "            <p>&#10004;</p>\n",
    "        </td>\n",
    "        <td style=\"text-align:left;width:73.76pt; \" class=\"ce13\"> </td>\n",
    "        <td style=\"text-align:left;width:73.76pt; \" class=\"ce13\"> </td>\n",
    "    </tr>\n",
    "    <tr class=\"ro1\">\n",
    "        <td style=\"text-align:left;width:213.45pt; \" class=\"ce2\">\n",
    "            <p><b>CLASSIFIER SCORES</b></p>\n",
    "        </td>\n",
    "        <td style=\"text-align:left;width:73.76pt; \" class=\"ce13\"> </td>\n",
    "        <td style=\"text-align:left;width:73.76pt; \" class=\"ce13\"> </td>\n",
    "        <td style=\"text-align:left;width:73.76pt; \" class=\"ce13\"> </td>\n",
    "        <td style=\"text-align:left;width:73.76pt; \" class=\"ce13\"> </td>\n",
    "        <td style=\"text-align:left;width:73.76pt; \" class=\"ce13\"> </td>\n",
    "        <td style=\"text-align:left;width:73.76pt; \" class=\"ce13\"> </td>\n",
    "        <td style=\"text-align:left;width:73.76pt; \" class=\"ce13\"> </td>\n",
    "    </tr>\n",
    "    <!--\n",
    "    <tr class=\"ro1\">\n",
    "        <td style=\"text-align:left;width:213.45pt; \" class=\"ce2\">\n",
    "            <p>SGDClassifier</p>\n",
    "        </td>\n",
    "        <td style=\"text-align:right; width:73.76pt; \" class=\"ce13\">\n",
    "            <p>0.694371</p>\n",
    "        </td>\n",
    "        <td style=\"text-align:right; width:73.76pt; \" class=\"ce13\">\n",
    "            <p>0.707311</p>\n",
    "        </td>\n",
    "        <td style=\"text-align:right; width:73.76pt; \" class=\"ce13\">\n",
    "            <p>0.370454</p>\n",
    "        </td>\n",
    "        <td style=\"text-align:right; width:73.76pt; \" class=\"ce13\">\n",
    "            <p>0.704465</p>\n",
    "        </td>\n",
    "        <td style=\"text-align:right; width:73.76pt; \" class=\"ce13\">\n",
    "            <p>0.694838</p>\n",
    "        </td>\n",
    "        <td style=\"text-align:right; width:73.76pt; \" class=\"ce13\">\n",
    "            <p>0.703134</p>\n",
    "        </td>\n",
    "        <td style=\"text-align:right; width:73.76pt; \" class=\"ce13\">\n",
    "            <p>0.69509</p>\n",
    "        </td>\n",
    "    </tr>\n",
    "    -->\n",
    "    <tr class=\"ro1\">\n",
    "        <td style=\"text-align:left;width:213.45pt; \" class=\"ce1\">\n",
    "            <p>GaussianNB</p>\n",
    "        </td>\n",
    "        <td style=\"text-align:right; width:73.76pt; \" class=\"ce13\">\n",
    "            <p>0.643051</p>\n",
    "        </td>\n",
    "        <td style=\"text-align:right; width:73.76pt; \" class=\"ce13\">\n",
    "            <p>0.202978</p>\n",
    "        </td>\n",
    "        <td style=\"text-align:right; width:73.76pt; \" class=\"ce13\">\n",
    "            <p>0.686507</p>\n",
    "        </td>\n",
    "        <td style=\"text-align:right; width:73.76pt; \" class=\"ce13\">\n",
    "            <p>0.685147</p>\n",
    "        </td>\n",
    "        <td style=\"text-align:right; width:73.76pt; \" class=\"ce13\">\n",
    "            <p>0.686523</p>\n",
    "        </td>\n",
    "        <td style=\"text-align:right; width:73.76pt; \" class=\"ce13\">\n",
    "            <p>0.207804</p>\n",
    "        </td>\n",
    "        <td style=\"text-align:right; width:73.76pt; \" class=\"ce13\">\n",
    "            <p>0.685847</p>\n",
    "        </td>\n",
    "    </tr>\n",
    "    <tr class=\"ro1\">\n",
    "        <td style=\"text-align:left;width:213.45pt; \" class=\"ce1\">\n",
    "            <p>DecisionTreeClassifier</p>\n",
    "        </td>\n",
    "        <td style=\"text-align:right; width:73.76pt; \" class=\"ce13\">\n",
    "            <p>0.537262</p>\n",
    "        </td>\n",
    "        <td style=\"text-align:right; width:73.76pt; \" class=\"ce13\">\n",
    "            <p>0.571481</p>\n",
    "        </td>\n",
    "        <td style=\"text-align:right; width:73.76pt; \" class=\"ce13\">\n",
    "            <p>0.559568</p>\n",
    "        </td>\n",
    "        <td style=\"text-align:right; width:73.76pt; \" class=\"ce13\">\n",
    "            <p>0.567211</p>\n",
    "        </td>\n",
    "        <td style=\"text-align:right; width:73.76pt; \" class=\"ce13\">\n",
    "            <p>0.553123</p>\n",
    "        </td>\n",
    "        <td style=\"text-align:right; width:73.76pt; \" class=\"ce13\">\n",
    "            <p>0.568991</p>\n",
    "        </td>\n",
    "        <td style=\"text-align:right; width:73.76pt; \" class=\"ce13\">\n",
    "            <p>0.556581</p>\n",
    "        </td>\n",
    "    </tr>\n",
    "    <tr class=\"ro1\">\n",
    "        <td style=\"text-align:left;width:213.45pt; \" class=\"ce1\">\n",
    "            <p>RandomForestClassifier</p>\n",
    "        </td>\n",
    "        <td style=\"text-align:right; width:73.76pt; \" class=\"ce13\">\n",
    "            <p>0.685543</p>\n",
    "        </td>\n",
    "        <td style=\"text-align:right; width:73.76pt; \" class=\"ce14\">\n",
    "            <p>0.70189</p>\n",
    "        </td>\n",
    "        <td style=\"text-align:right; width:73.76pt; \" class=\"ce13\">\n",
    "            <p>0.696357</p>\n",
    "        </td>\n",
    "        <td style=\"text-align:right; width:73.76pt; \" class=\"ce13\">\n",
    "            <p>0.681789</p>\n",
    "        </td>\n",
    "        <td style=\"text-align:right; width:73.76pt; \" class=\"ce13\">\n",
    "            <p>0.693015</p>\n",
    "        </td>\n",
    "        <td style=\"text-align:right; width:73.76pt; \" class=\"ce13\">\n",
    "            <p>0.702271</p>\n",
    "        </td>\n",
    "        <td style=\"text-align:right; width:73.76pt; \" class=\"ce13\">\n",
    "            <p>0.69653</p>\n",
    "        </td>\n",
    "    </tr>\n",
    "    <tr class=\"ro1\">\n",
    "        <td style=\"text-align:left;width:213.45pt; \" class=\"ce1\">\n",
    "            <p>GradientBoostingClassifier</p>\n",
    "        </td>\n",
    "        <td style=\"text-align:right; width:73.76pt; \" class=\"ce14\">\n",
    "            <p>0.718311</p>\n",
    "        </td>\n",
    "        <td style=\"text-align:right; width:73.76pt; \" class=\"ce14\">\n",
    "            <p>0.724262</p>\n",
    "        </td>\n",
    "        <td style=\"text-align:right; width:73.76pt; \" class=\"ce13\">\n",
    "            <p>0.721336</p>\n",
    "        </td>\n",
    "        <td style=\"text-align:right; width:73.76pt; \" class=\"ce13\">\n",
    "            <p>0.711789</p>\n",
    "        </td>\n",
    "        <td style=\"text-align:right; width:73.76pt; \" class=\"ce13\">\n",
    "            <p>0.715451</p>\n",
    "        </td>\n",
    "        <td style=\"text-align:right; width:73.76pt; \" class=\"ce13\">\n",
    "            <p>**0.724468**</p>\n",
    "        </td>\n",
    "        <td style=\"text-align:right; width:73.76pt; \" class=\"ce13\">\n",
    "            <p>0.721238</p>\n",
    "        </td>\n",
    "    </tr>\n",
    "    <!--\n",
    "    <tr class=\"ro1\">\n",
    "        <td style=\"text-align:left;width:213.45pt; \" class=\"ce1\">\n",
    "            <p>GradientBoostingClassifier (Tuned)</p>\n",
    "        </td>\n",
    "        <td style=\"text-align:right; width:73.76pt; \" class=\"ce14\">\n",
    "            <p>0.717432</p>\n",
    "        </td>\n",
    "        <td style=\"text-align:right; width:73.76pt; \" class=\"ce14\">\n",
    "            <p>0.7285</p>\n",
    "        </td>\n",
    "        <td style=\"text-align:right; width:73.76pt; \" class=\"ce13\">\n",
    "            <p>0.728404</p>\n",
    "        </td>\n",
    "        <td style=\"text-align:right; width:73.76pt; \" class=\"ce13\">\n",
    "            <p>0.706416</p>\n",
    "        </td>\n",
    "        <td style=\"text-align:right; width:73.76pt; \" class=\"ce13\">\n",
    "            <p>0.70536</p>\n",
    "        </td>\n",
    "        <td style=\"text-align:right; width:73.76pt; \" class=\"ce13\">\n",
    "            <p>0.72885</p>\n",
    "        </td>\n",
    "        <td style=\"text-align:right; width:73.76pt; \" class=\"ce13\">\n",
    "            <p>0.728466</p>\n",
    "        </td>\n",
    "    </tr>\n",
    "    -->\n",
    " </table>\n"
   ]
  },
  {
   "cell_type": "markdown",
   "metadata": {},
   "source": [
    "A few notable observations stand out:\n",
    "\n",
    "1. The **GradientBoostingClassifier** consistently outperforms the other classifiers for this dataset.\n",
    "1. Adding the **`1ocation_raw`** field back into the dataset improves performance.\n",
    "1. One-hot encoding is preferable over using the `LabelEncoder()` for this use case.\n",
    "1. Over/under-sampling decreases accuracy performance for this problem.  Not shown here are results from testing several values for outcome multipliers to balance the dataset.\n",
    "1. Dropping **`driver_race`** appears to increase performance slightly, so it may be an unnecessary data column for this classifier.\n",
    "1. The Stage 6 combination of flags and dataset had the best performance and should be used for hyperparameter tuning."
   ]
  },
  {
   "cell_type": "markdown",
   "metadata": {},
   "source": [
    "\n",
    "\n",
    "#### _Were there any complications with the original metrics or techniques that required changing prior to acquiring a solution?_\n",
    "\n",
    "<!--\n",
    "- XGBoost's API enables you to create and train a model through a method or a class:  xgb.train or XGBClassifier.  The latter can be used with **`sklearn.model_selection.GridSearchCV`** to perform a grid search.  Unfortunately, I was not able to get it to work with my GPU, so I implemented a manual grid search in which I experimented with various values for 3 parameter variables [TODO: list the variables] until minimum error was achieved using sample sets of 10,000 rows.\n",
    "-->\n",
    "\n",
    "\n",
    "#### Was there any part of the coding process (e.g., writing complicated functions) that should be documented?"
   ]
  },
  {
   "cell_type": "markdown",
   "metadata": {},
   "source": [
    "### Refinement\n",
    "In this section, you will need to discuss the process of improvement you made upon the algorithms and techniques you used in your implementation. For example, adjusting parameters for certain models to acquire improved solutions would fall under the refinement category. Your initial and final solutions should be reported, as well as any significant intermediate results as necessary. Questions to ask yourself when writing this section:\n",
    "- _Has an initial solution been found and clearly reported?_\n",
    "- _Is the process of improvement clearly documented, such as what techniques were used?_\n",
    "- _Are intermediate and final solutions clearly reported as the process is improved?_"
   ]
  },
  {
   "cell_type": "markdown",
   "metadata": {},
   "source": [
    "#### _Has an initial solution been found and clearly reported?_\n",
    "\n",
    "The results above show that the **GradientBoostingClassifier** is the best classifier for this project, using the dataset from the stage 6 configuration.  To optimize this model, I will use **`sklearn.model_selection.RandomizedSearchCV`** to perform a randomized search of select parameters for the GradientBoostingClassifier class.  RandomizedSearchCV is similar to GridSearchCV which performs an exhaustive search over specified parameter values for an estimator, using cross-validation.  RandomizedSearchCV differs slightly from GridSearchCV in that, rather than searching over all specified parameter values, it performs a randomized search where each setting is sampled from a distribution over possible parameter values.  As a result, RandomizedSearchCV is able to complete a search for optimal parameters values in less time than GridSearchCV with slightly less accuracy.\n",
    "\n",
    "I chose the following list of values to search for the GradientBoostingClassifier class:\n",
    "\n",
    "* criterion = [ 'friedman_mse', 'mse', 'mae' ]\n",
    "* learning_rate = [ 0.09, 0.1 ]\n",
    "* max_depth = [ 5, 6, 7 ]\n",
    "* max_features = [ None, 219<feature count> ]\n",
    "* subsample = [ 0.85, 0.9, 0.85 ]\n",
    "\n",
    "The RandomizedSearchCV class was instantiated with a dictionary of these parameters as the **params_distribution** input parameter along with the following input parameters:\n",
    "\n",
    "* scoring='accuracy'\n",
    "* cv=5\n",
    "* verbose=3\n",
    "* n_iter=1\n",
    "\n",
    "**`cv`** is the number of cross-folds to use for validation, and `n_iter` specifies the number of iterations.   The model instance was then called with the `.fit()` method with the training dataset as its input.\n",
    "\n",
    "It is important to note that `n_iter` provides the ability to limit the duration for a search.  The higher the number the more samplings RandomizedSearchCV performs.  In my case, one iteration took 38 minutes to complete.  \n",
    "\n",
    "#### _Is the process of improvement clearly documented, such as what techniques were used?_\n",
    "\n",
    "Once RandomizedSearchCV completed its search, the optimal parameter values that were returned for the GradientBoostingClassifier class were the following:\n",
    "\n",
    "* criterion='mse'\n",
    "* learning_rate=0.1\n",
    "* max_depth=5\n",
    "* max_features=219\n",
    "* subsample=0.85\n",
    "\n",
    "<!--\n",
    "As mentioned earlier, I added the **`location_raw`** column back into the training data after my preliminary training runs reached an accuracy limit.  To add this data column back, I tried one-hot encoding it, but doing so added 184 feature columns, one for each unique value.  This resulted in out-of-memory errors while training a model and was not a feasible option.  To overcome this, I used **`sklearn.preprocessing.LabelEncoder`** which transforms each unique value into an integer value which could be transformed back into its string label value later on.  The added benefit is that only one feature column slot is used.\n",
    "\n",
    "Next, I focused on tuning XGBoost's parameters to leverage my GPU and perform more experiments with different parameters in a shorter period of time than with just a CPU.  I attempted to implement a grid search using **`sklearn.model_selection.GridSearchCV`**.  Unfortunately, I was not able to leverage my GPU to do this using XGBoost's **`XGBClassifier`** class.  Even though there were no errors while fitting this model, I monitored GPU activity with NVIDIA's **`nvidia-smi`** utility and saw that the GPU was not being used.\n",
    "\n",
    "Instead, to leverage the GPU, I mimicked a grid search by using the **`xgb.train()`** function with the **`tree_method`** parameter set to \"gpu_hist\", iterating through different values for various parameters through nested Python for-loops and a data sample of 10,000 rows.  The optimal set of parameters I found for XGBoost were the following:\n",
    "\n",
    "| Parameter | Value |\n",
    "|-----------|:-----:|\n",
    "| objective | multi:softmax |\n",
    "| learning_rate | 0.0983 |\n",
    "| max_depth | 19 |\n",
    "| silent | 0 |\n",
    "| nthread | 8 |\n",
    "| tree_method | gpu_hist |\n",
    "| subsample | 0.9 |\n",
    "| num_class | 44 |\n",
    "\n",
    "-->\n",
    "\n",
    "#### _Are intermediate and final solutions clearly reported as the process is improved?_\n",
    "\n",
    "<!--\n",
    "I set the **`num_boost_rounds`** to \"10000\" and **`early_stopping_rounds`** to \"50\", so that the classifier would attempt no more than 10,000 runs and would stop fitting once the error was higher than the lowest error over the previous 50 runs.  With these parameters, XGBoost achieved an error of **0.061229918631337366** or **93.88% accuracy** over 597 runs in 1 hour and 3 minutes.  The result is somewhat disappointing as it only represents a **2.48% improvement** over the best CPU-bound classifier, RandomForestClassifier, which achieved 91.4% accuracy in 9.55 seconds.\n",
    "\n",
    "\n",
    "Results after adding back **`location_raw`**:\n",
    "\n",
    "| Classifier                  | Accuracy Score | Training Time  |\n",
    "|:----------------------------|:--------------:|:--------------:|\n",
    "| RandomForestClassifier      |      0.9264    |     5.10 secs  |\n",
    "| GaussianNB                  |      0.3754    |     1.54 secs  |\n",
    "| DecisionTreeClassifier      |      0.9190    |     1.13 secs  |\n",
    "| GradientBoostingClassifier  |      0.    |  7 min 13 secs |\n",
    "\n",
    "\n",
    "Using RandomizedSearchCV with RandomForestClassifier and the following parameters:\n",
    "    'n_estimators': [10, 100],\n",
    "    'criterion': ['gini', 'entropy'],\n",
    "    'max_depth': [None, 19],\n",
    "    'max_features': [None, 'sqrt', 'log2'],\n",
    "    'n_jobs': [8],\n",
    "    'random_state': [0],\n",
    "    'verbose': [3],\n",
    "\n",
    "...determined that optimal params are:\n",
    "verbose=3\n",
    "random_state=0\n",
    "n_jobs=8\n",
    "n_estimators=<n_estimators>\n",
    "max_features=\"sqrt\"\n",
    "max_depth=None\n",
    "criterion=\"entropy\"\n",
    "\n",
    "Did further tuning with n_estimators and got following performance:\n",
    "\n",
    "    n_estimators=50   # 0.9301481326935114   18.5 s\n",
    "    n_estimators=100  # 0.9306175672856248   35.7 s\n",
    "    n_estimators=200  # 0.930732317963697\n",
    "    n_estimators=450  # 0.9310922178176507\n",
    "    n_estimators=675  # 0.9312121844356352  # 3 mins\n",
    "\n",
    "    n_estimators=1 0   # 0.9288092760517318     4.61s\n",
    "    n_estimators=100   # 0.9321787820226947       39s\n",
    "    n_estimators=450   # 0.9322828402953273    2m 26s\n",
    "    n_estimators=675   # 0.9322283335810911    8m  2s\n",
    "-->\n"
   ]
  },
  {
   "cell_type": "markdown",
   "metadata": {},
   "source": [
    "## IV. Results\n",
    "_(approx. 2-3 pages)_\n",
    "\n",
    "### Model Evaluation and Validation\n",
    "In this section, the final model and any supporting qualities should be evaluated in detail. It should be clear how the final model was derived and why this model was chosen. In addition, some type of analysis should be used to validate the robustness of this model and its solution, such as manipulating the input data or environment to see how the model’s solution is affected (this is called sensitivity analysis). Questions to ask yourself when writing this section:\n",
    "- _Is the final model reasonable and aligning with solution expectations? Are the final parameters of the model appropriate?_\n",
    "- _Has the final model been tested with various inputs to evaluate whether the model generalizes well to unseen data?_\n",
    "- _Is the model robust enough for the problem? Do small perturbations (changes) in training data or the input space greatly affect the results?_\n",
    "- _Can results found from the model be trusted?_"
   ]
  },
  {
   "cell_type": "code",
   "execution_count": null,
   "metadata": {
    "ExecuteTime": {
     "end_time": "2018-05-25T21:19:36.088977Z",
     "start_time": "2018-05-25T21:06:04.864256Z"
    },
    "collapsed": true,
    "scrolled": false
   },
   "outputs": [],
   "source": [
    "import pickle\n",
    "from sklearn.ensemble import RandomForestClassifier, GradientBoostingClassifier\n",
    "\n",
    "\n",
    "X_train = pickle.load(open('./data/stage6-train.pkl', 'rb'))\n",
    "y_train = X_train.pop('stop_outcome')\n",
    "X_test = pickle.load(open('./data/stage6-test.pkl', 'rb'))\n",
    "y_test = X_test.pop('stop_outcome')\n",
    "\n",
    "gbc = GradientBoostingClassifier(criterion='mse', learning_rate=0.1, max_depth=5, max_features=219,\n",
    "                                 subsample=0.85, verbose=3, random_state=0)\n",
    "gbc.fit(X_train, y_train)\n",
    "print('{}'.format(gbc.score(X_test, y_test)))"
   ]
  },
  {
   "cell_type": "markdown",
   "metadata": {},
   "source": [
    "For the final model, I instantiated GradientBoostingClassifier with these parameters, fitted the model, and got an accuracy score of **0.7288** for the stage 6 test set -- an improvement of 0.0044 or 0.44% over the non-tuned GradientBoostingClassifier instance.  To compare the results with the other stages, I retrained and scored the GradientBoostingClassifier class with the optimal parameters using the dataset configurations for each of the other stages, and the results are as follows:"
   ]
  },
  {
   "cell_type": "markdown",
   "metadata": {},
   "source": [
    "<table border=\"0\" cellspacing=\"0\" cellpadding=\"0\" class=\"ta1\">\n",
    "    <tr class=\"ro1\">\n",
    "        <td style=\"text-align:left;\" class=\"ce1\"> </td>\n",
    "        <td colspan=7 style=\"text-align:center;font-weight: bold;\" class=\"ce11\">STAGES</td>\n",
    "    </tr>\n",
    "    <tr class=\"ro1\">\n",
    "        <td style=\"text-align:left;width:213.45pt; font-weight: bold;\" class=\"ce2\">\n",
    "            <p>FLAGS</p>\n",
    "        </td>\n",
    "        <td style=\"text-align:right; width:73.76pt; \" class=\"ce12\">\n",
    "            <p>1</p>\n",
    "        </td>\n",
    "        <td style=\"text-align:right; width:73.76pt; \" class=\"ce12\">\n",
    "            <p>2</p>\n",
    "        </td>\n",
    "        <td style=\"text-align:right; width:73.76pt; \" class=\"ce12\">\n",
    "            <p>3</p>\n",
    "        </td>\n",
    "        <td style=\"text-align:right; width:73.76pt; \" class=\"ce12\">\n",
    "            <p>4</p>\n",
    "        </td>\n",
    "        <td style=\"text-align:right; width:73.76pt; \" class=\"ce12\">\n",
    "            <p>5</p>\n",
    "        </td>\n",
    "        <td style=\"text-align:right; width:73.76pt; \" class=\"ce12\">\n",
    "            <p>6</p>\n",
    "        </td>\n",
    "        <td style=\"text-align:right; width:73.76pt; \" class=\"ce12\">\n",
    "            <p>7</p>\n",
    "        </td>\n",
    "    </tr>\n",
    "    <tr class=\"ro1\">\n",
    "        <td style=\"text-align:left;width:213.45pt; \" class=\"ce1\">\n",
    "            <p>include_location_raw</p>\n",
    "        </td>\n",
    "        <td style=\"text-align:left;width:73.76pt; \" class=\"ce13\"> </td>\n",
    "        <td style=\"text-align:left;width:73.76pt; \" class=\"ce13\">\n",
    "            <p>&#10004;</p>\n",
    "        </td>\n",
    "        <td style=\"text-align:left;width:73.76pt; \" class=\"ce13\">\n",
    "            <p>&#10004;</p>\n",
    "        </td>\n",
    "        <td style=\"text-align:left;width:73.76pt; \" class=\"ce13\">\n",
    "            <p>&#10004;</p>\n",
    "        </td>\n",
    "        <td style=\"text-align:left;width:73.76pt; \" class=\"ce13\">\n",
    "            <p>&#10004;</p>\n",
    "        </td>\n",
    "        <td style=\"text-align:left;width:73.76pt; \" class=\"ce13\">\n",
    "            <p>&#10004;</p>\n",
    "        </td>\n",
    "        <td style=\"text-align:left;width:73.76pt; \" class=\"ce13\">\n",
    "            <p>&#10004;</p>\n",
    "        </td>\n",
    "    </tr>\n",
    "    <tr class=\"ro1\">\n",
    "        <td style=\"text-align:left;width:213.45pt; \" class=\"ce3\">\n",
    "            <p>include_driver_race</p>\n",
    "        </td>\n",
    "        <td style=\"text-align:left;width:73.76pt; \" class=\"ce13\">\n",
    "            <p>&#10004;</p>\n",
    "        </td>\n",
    "        <td style=\"text-align:left;width:73.76pt; \" class=\"ce13\">\n",
    "            <p>&#10004;</p>\n",
    "        </td>\n",
    "        <td style=\"text-align:left;width:73.76pt; \" class=\"ce13\">\n",
    "            <p>&#10004;</p>\n",
    "        </td>\n",
    "        <td style=\"text-align:left;width:73.76pt; \" class=\"ce13\">\n",
    "            <p>&#10004;</p>\n",
    "        </td>\n",
    "        <td style=\"text-align:left;width:73.76pt; \" class=\"ce13\">\n",
    "            <p>&#10004;</p>\n",
    "        </td>\n",
    "        <td style=\"text-align:left;width:73.76pt; \" class=\"ce13\"> </td>\n",
    "        <td style=\"text-align:left;width:73.76pt; \" class=\"ce13\"> </td>\n",
    "    </tr>\n",
    "    <tr class=\"ro1\">\n",
    "        <td style=\"text-align:left;width:213.45pt; \" class=\"ce1\">\n",
    "            <p>label_encode_categoricals</p>\n",
    "        </td>\n",
    "        <td style=\"text-align:left;width:73.76pt; \" class=\"ce13\"> </td>\n",
    "        <td style=\"text-align:left;width:73.76pt; \" class=\"ce13\"> </td>\n",
    "        <td style=\"text-align:left;width:73.76pt; \" class=\"ce13\">\n",
    "            <p>&#10004;</p>\n",
    "        </td>\n",
    "        <td style=\"text-align:left;width:73.76pt; \" class=\"ce13\">\n",
    "            <p>&#10004;</p>\n",
    "        </td>\n",
    "        <td style=\"text-align:left;width:73.76pt; \" class=\"ce13\">\n",
    "            <p>&#10004;</p>\n",
    "        </td>\n",
    "        <td style=\"text-align:left;width:73.76pt; \" class=\"ce13\"> </td>\n",
    "        <td style=\"text-align:left;width:73.76pt; \" class=\"ce13\">\n",
    "            <p>&#10004;</p>\n",
    "        </td>\n",
    "    </tr>\n",
    "    <tr class=\"ro1\">\n",
    "        <td style=\"text-align:left;width:213.45pt; \" class=\"ce1\">\n",
    "            <p>oversample</p>\n",
    "        </td>\n",
    "        <td style=\"text-align:left;width:73.76pt; \" class=\"ce13\"> </td>\n",
    "        <td style=\"text-align:left;width:73.76pt; \" class=\"ce13\"> </td>\n",
    "        <td style=\"text-align:left;width:73.76pt; \" class=\"ce13\"> </td>\n",
    "        <td style=\"text-align:left;width:73.76pt; \" class=\"ce13\">\n",
    "            <p>&#10004;</p>\n",
    "        </td>\n",
    "        <td style=\"text-align:left;width:73.76pt; \" class=\"ce13\"> </td>\n",
    "        <td style=\"text-align:left;width:73.76pt; \" class=\"ce13\"> </td>\n",
    "        <td style=\"text-align:left;width:73.76pt; \" class=\"ce13\"> </td>\n",
    "    </tr>\n",
    "    <tr class=\"ro1\">\n",
    "        <td style=\"text-align:left;width:213.45pt; \" class=\"ce1\">\n",
    "            <p>undersample</p>\n",
    "        </td>\n",
    "        <td style=\"text-align:left;width:73.76pt; \" class=\"ce13\"> </td>\n",
    "        <td style=\"text-align:left;width:73.76pt; \" class=\"ce13\"> </td>\n",
    "        <td style=\"text-align:left;width:73.76pt; \" class=\"ce13\"> </td>\n",
    "        <td style=\"text-align:left;width:73.76pt; \" class=\"ce13\"> </td>\n",
    "        <td style=\"text-align:left;width:73.76pt; \" class=\"ce13\">\n",
    "            <p>&#10004;</p>\n",
    "        </td>\n",
    "        <td style=\"text-align:left;width:73.76pt; \" class=\"ce13\"> </td>\n",
    "        <td style=\"text-align:left;width:73.76pt; \" class=\"ce13\"> </td>\n",
    "    </tr>\n",
    "    <tr class=\"ro1\">\n",
    "        <td style=\"text-align:left;width:213.45pt; \" class=\"ce2\">\n",
    "            <p><b>CLASSIFIER SCORES</b></p>\n",
    "        </td>\n",
    "        <td style=\"text-align:left;width:73.76pt; \" class=\"ce13\"> </td>\n",
    "        <td style=\"text-align:left;width:73.76pt; \" class=\"ce13\"> </td>\n",
    "        <td style=\"text-align:left;width:73.76pt; \" class=\"ce13\"> </td>\n",
    "        <td style=\"text-align:left;width:73.76pt; \" class=\"ce13\"> </td>\n",
    "        <td style=\"text-align:left;width:73.76pt; \" class=\"ce13\"> </td>\n",
    "        <td style=\"text-align:left;width:73.76pt; \" class=\"ce13\"> </td>\n",
    "        <td style=\"text-align:left;width:73.76pt; \" class=\"ce13\"> </td>\n",
    "    </tr>\n",
    "    <!--\n",
    "    <tr class=\"ro1\">\n",
    "        <td style=\"text-align:left;width:213.45pt; \" class=\"ce2\">\n",
    "            <p>SGDClassifier</p>\n",
    "        </td>\n",
    "        <td style=\"text-align:right; width:73.76pt; \" class=\"ce13\">\n",
    "            <p>0.694371</p>\n",
    "        </td>\n",
    "        <td style=\"text-align:right; width:73.76pt; \" class=\"ce13\">\n",
    "            <p>0.707311</p>\n",
    "        </td>\n",
    "        <td style=\"text-align:right; width:73.76pt; \" class=\"ce13\">\n",
    "            <p>0.370454</p>\n",
    "        </td>\n",
    "        <td style=\"text-align:right; width:73.76pt; \" class=\"ce13\">\n",
    "            <p>0.704465</p>\n",
    "        </td>\n",
    "        <td style=\"text-align:right; width:73.76pt; \" class=\"ce13\">\n",
    "            <p>0.694838</p>\n",
    "        </td>\n",
    "        <td style=\"text-align:right; width:73.76pt; \" class=\"ce13\">\n",
    "            <p>0.703134</p>\n",
    "        </td>\n",
    "        <td style=\"text-align:right; width:73.76pt; \" class=\"ce13\">\n",
    "            <p>0.69509</p>\n",
    "        </td>\n",
    "    </tr>\n",
    "    -->\n",
    "    <tr class=\"ro1\">\n",
    "        <td style=\"text-align:left;width:213.45pt; \" class=\"ce1\">\n",
    "            <p>GaussianNB</p>\n",
    "        </td>\n",
    "        <td style=\"text-align:right; width:73.76pt; \" class=\"ce13\">\n",
    "            <p>0.643051</p>\n",
    "        </td>\n",
    "        <td style=\"text-align:right; width:73.76pt; \" class=\"ce13\">\n",
    "            <p>0.202978</p>\n",
    "        </td>\n",
    "        <td style=\"text-align:right; width:73.76pt; \" class=\"ce13\">\n",
    "            <p>0.686507</p>\n",
    "        </td>\n",
    "        <td style=\"text-align:right; width:73.76pt; \" class=\"ce13\">\n",
    "            <p>0.685147</p>\n",
    "        </td>\n",
    "        <td style=\"text-align:right; width:73.76pt; \" class=\"ce13\">\n",
    "            <p>0.686523</p>\n",
    "        </td>\n",
    "        <td style=\"text-align:right; width:73.76pt; \" class=\"ce13\">\n",
    "            <p>0.207804</p>\n",
    "        </td>\n",
    "        <td style=\"text-align:right; width:73.76pt; \" class=\"ce13\">\n",
    "            <p>0.685847</p>\n",
    "        </td>\n",
    "    </tr>\n",
    "    <tr class=\"ro1\">\n",
    "        <td style=\"text-align:left;width:213.45pt; \" class=\"ce1\">\n",
    "            <p>DecisionTreeClassifier</p>\n",
    "        </td>\n",
    "        <td style=\"text-align:right; width:73.76pt; \" class=\"ce13\">\n",
    "            <p>0.537262</p>\n",
    "        </td>\n",
    "        <td style=\"text-align:right; width:73.76pt; \" class=\"ce13\">\n",
    "            <p>0.571481</p>\n",
    "        </td>\n",
    "        <td style=\"text-align:right; width:73.76pt; \" class=\"ce13\">\n",
    "            <p>0.559568</p>\n",
    "        </td>\n",
    "        <td style=\"text-align:right; width:73.76pt; \" class=\"ce13\">\n",
    "            <p>0.567211</p>\n",
    "        </td>\n",
    "        <td style=\"text-align:right; width:73.76pt; \" class=\"ce13\">\n",
    "            <p>0.553123</p>\n",
    "        </td>\n",
    "        <td style=\"text-align:right; width:73.76pt; \" class=\"ce13\">\n",
    "            <p>0.568991</p>\n",
    "        </td>\n",
    "        <td style=\"text-align:right; width:73.76pt; \" class=\"ce13\">\n",
    "            <p>0.556581</p>\n",
    "        </td>\n",
    "    </tr>\n",
    "    <tr class=\"ro1\">\n",
    "        <td style=\"text-align:left;width:213.45pt; \" class=\"ce1\">\n",
    "            <p>RandomForestClassifier</p>\n",
    "        </td>\n",
    "        <td style=\"text-align:right; width:73.76pt; \" class=\"ce13\">\n",
    "            <p>0.685543</p>\n",
    "        </td>\n",
    "        <td style=\"text-align:right; width:73.76pt; \" class=\"ce14\">\n",
    "            <p>0.70189</p>\n",
    "        </td>\n",
    "        <td style=\"text-align:right; width:73.76pt; \" class=\"ce13\">\n",
    "            <p>0.696357</p>\n",
    "        </td>\n",
    "        <td style=\"text-align:right; width:73.76pt; \" class=\"ce13\">\n",
    "            <p>0.681789</p>\n",
    "        </td>\n",
    "        <td style=\"text-align:right; width:73.76pt; \" class=\"ce13\">\n",
    "            <p>0.693015</p>\n",
    "        </td>\n",
    "        <td style=\"text-align:right; width:73.76pt; \" class=\"ce13\">\n",
    "            <p>0.702271</p>\n",
    "        </td>\n",
    "        <td style=\"text-align:right; width:73.76pt; \" class=\"ce13\">\n",
    "            <p>0.69653</p>\n",
    "        </td>\n",
    "    </tr>\n",
    "    <tr class=\"ro1\">\n",
    "        <td style=\"text-align:left;width:213.45pt; \" class=\"ce1\">\n",
    "            <p>GradientBoostingClassifier</p>\n",
    "        </td>\n",
    "        <td style=\"text-align:right; width:73.76pt; \" class=\"ce14\">\n",
    "            <p>0.718311</p>\n",
    "        </td>\n",
    "        <td style=\"text-align:right; width:73.76pt; \" class=\"ce14\">\n",
    "            <p>0.724262</p>\n",
    "        </td>\n",
    "        <td style=\"text-align:right; width:73.76pt; \" class=\"ce13\">\n",
    "            <p>0.721336</p>\n",
    "        </td>\n",
    "        <td style=\"text-align:right; width:73.76pt; \" class=\"ce13\">\n",
    "            <p>0.711789</p>\n",
    "        </td>\n",
    "        <td style=\"text-align:right; width:73.76pt; \" class=\"ce13\">\n",
    "            <p>0.715451</p>\n",
    "        </td>\n",
    "        <td style=\"text-align:right; width:73.76pt; \" class=\"ce13\">\n",
    "            <p>0.724468</p>\n",
    "        </td>\n",
    "        <td style=\"text-align:right; width:73.76pt; \" class=\"ce13\">\n",
    "            <p>0.721238</p>\n",
    "        </td>\n",
    "    </tr>\n",
    "    <tr class=\"ro1\">\n",
    "        <td style=\"text-align:left;width:213.45pt; font-weight: bold;\" class=\"ce1\">\n",
    "            <p>GradientBoostingClassifier (Tuned)</p>\n",
    "        </td>\n",
    "        <td style=\"text-align:right; width:73.76pt; font-weight: bold;\" class=\"ce14\">\n",
    "            <p>0.71882</p>\n",
    "        </td>\n",
    "        <td style=\"text-align:right; width:73.76pt; font-weight: bold;\" class=\"ce14\">\n",
    "            <p>0.7280679</p>\n",
    "        </td>\n",
    "        <td style=\"text-align:right; width:73.76pt; font-weight: bold;\" class=\"ce13\">\n",
    "            <p>0.72805</p>\n",
    "        </td>\n",
    "        <td style=\"text-align:right; width:73.76pt; font-weight: bold;\" class=\"ce13\">\n",
    "            <p>0.709054</p>\n",
    "        </td>\n",
    "        <td style=\"text-align:right; width:73.76pt; font-weight: bold;\" class=\"ce13\">\n",
    "            <p>0.70456</p>\n",
    "        </td>\n",
    "        <td style=\"text-align:right; width:73.76pt; font-weight: bold;\" class=\"ce13\">\n",
    "            <p>0.728882</p>\n",
    "        </td>\n",
    "        <td style=\"text-align:right; width:73.76pt; font-weight: bold;\" class=\"ce13\">\n",
    "            <p>0.72781</p>\n",
    "        </td>\n",
    "    </tr>\n",
    "    <!--\n",
    "    <tr class=\"ro1\">\n",
    "        <td style=\"text-align:left;width:213.45pt; \" class=\"ce1\">\n",
    "            <p>GradientBoostingClassifier (Tuned)</p>\n",
    "        </td>\n",
    "        <td style=\"text-align:right; width:73.76pt; \" class=\"ce14\">\n",
    "            <p>0.717432</p>\n",
    "        </td>\n",
    "        <td style=\"text-align:right; width:73.76pt; \" class=\"ce14\">\n",
    "            <p>0.7285</p>\n",
    "        </td>\n",
    "        <td style=\"text-align:right; width:73.76pt; \" class=\"ce13\">\n",
    "            <p>0.728404</p>\n",
    "        </td>\n",
    "        <td style=\"text-align:right; width:73.76pt; \" class=\"ce13\">\n",
    "            <p>0.706416</p>\n",
    "        </td>\n",
    "        <td style=\"text-align:right; width:73.76pt; \" class=\"ce13\">\n",
    "            <p>0.70536</p>\n",
    "        </td>\n",
    "        <td style=\"text-align:right; width:73.76pt; \" class=\"ce13\">\n",
    "            <p>0.72885</p>\n",
    "        </td>\n",
    "        <td style=\"text-align:right; width:73.76pt; \" class=\"ce13\">\n",
    "            <p>0.728466</p>\n",
    "        </td>\n",
    "    </tr>\n",
    "    -->\n",
    " </table>\n"
   ]
  },
  {
   "cell_type": "markdown",
   "metadata": {},
   "source": [
    "#### _Is the final model reasonable and aligning with solution expectations? Are the final parameters of the model appropriate?_\n",
    "\n",
    "As the table above shows, the optimal model has the following traits:\n",
    "\n",
    "* An instance of the GradientBoostingClassifier class with the following parameters:\n",
    "  1. criterion='mse'\n",
    "  1. learning_rate=0.1\n",
    "  1. max_depth=5\n",
    "  1. max_features=219\n",
    "  1. subsample=0.85\n",
    "* Trained with data that went through the preprocessing steps detailed above.\n",
    "* Trained with the **`location_raw`** data column.\n",
    "* Trained without the **`driver_age`** data column.\n",
    "* Categorical data column values were one-hot encoded.\n",
    "\n",
    "\n",
    "#### _Has the final model been tested with various inputs to evaluate whether the model generalizes well to unseen data?_\n",
    "\n",
    "<!--\n",
    "The final model I chose was the XGBoost classifier with the parameters specified in the previous section.  Even though it took **`RandomForestClassifier`** and **`DecisionTreeClassifier`** mere seconds to achieve accuracy scores there were only ~2.5% lower, XGBoost still had the highest accuracy.\n",
    "\n",
    "To ensure that I could be confident of my classifier, I sliced 5% of the dataset, before feeding the dataset through **`sklearn.model_selection.train_test_split`**, for the purpose of adding a second testing set that was not involved in the training process at all.  Testing model predictions with this dataset was consistent, usually within 1/10000th of the error from the test set generated by **`train_test_split`**.\n",
    "-->\n",
    "\n",
    "\n",
    "#### _Is the model robust enough for the problem? Do small perturbations (changes) in training data or the input space greatly affect the results?_\n",
    "\n",
    "#### _Can results found from the model be trusted?_\n"
   ]
  },
  {
   "cell_type": "code",
   "execution_count": null,
   "metadata": {
    "ExecuteTime": {
     "end_time": "2018-05-12T23:33:03.406611Z",
     "start_time": "2018-05-12T19:33:03.099768-04:00"
    }
   },
   "outputs": [],
   "source": [
    "# Plot training and testing results\n",
    "\n",
    "# logfile = 'runs/201805111748-oversampled-647-run.log'\n",
    "\n",
    "# error_results = {\n",
    "#     'train': [],\n",
    "#     'test': [],\n",
    "# }\n",
    "\n",
    "# with open(logfile, 'r') as f:\n",
    "#     for line in f:\n",
    "#         tokens = line.strip().split('\\t')\n",
    "#         error_results['train'].append(float(tokens[1].split(':')[1]))\n",
    "#         error_results['test'].append(float(tokens[2].split(':')[1]))\n",
    "\n",
    "# df_errors = pd.DataFrame(error_results)\n",
    "# df_accuracy = df_errors.copy()\n",
    "# df_accuracy_processed = df_accuracy.mul(-1).add(1)\n",
    "\n",
    "# learning_curve = df_accuracy_processed.plot.line(title='Learning curve', figsize=(12,7))\n",
    "# learning_curve.set_xlabel('Number of runs')\n",
    "# learning_curve.set_ylabel('Accuracy')\n"
   ]
  },
  {
   "cell_type": "markdown",
   "metadata": {},
   "source": [
    "### Justification\n",
    "\n",
    "<!--\n",
    "In this section, your model’s final solution and its results should be compared to the benchmark you established earlier in the project using some type of statistical analysis. You should also justify whether these results and the solution are significant enough to have solved the problem posed in the project. Questions to ask yourself when writing this section:\n",
    "- _Are the final results found stronger than the benchmark result reported earlier?_\n",
    "- _Have you thoroughly analyzed and discussed the final solution?_\n",
    "- _Is the final solution significant enough to have solved the problem?_\n",
    "-->"
   ]
  },
  {
   "cell_type": "markdown",
   "metadata": {},
   "source": [
    "<!--\n",
    "#### _Are the final results found stronger than the benchmark result reported earlier?_\n",
    "-->\n",
    "\n",
    "The final model predicts traffic stop outcomes better than the benchmark model, but not by much.  Of the actual outcomes for traffic stops in the test set, it accurately predicts their outcomes 72.89% of the time, just 3.77% better than the benchmark model which can do so 69.12% of the time.\n",
    "\n",
    "This is encapsulated in the formula to calculate recall:\n",
    "\n",
    "$$\n",
    "\\frac{T_p}{T_p+F_n}\n",
    "$$\n",
    "\n",
    "where ${T_p}$ = True Positives and ${F_n}$ = False Negatives\n",
    "\n",
    "A confusion matrix with recall scores is provided in the next section.\n",
    "\n",
    "<!--\n",
    "#### _Have you thoroughly analyzed and discussed the final solution?_\n",
    "\n",
    "#### _Is the final solution significant enough to have solved the problem?_\n",
    "-->\n",
    "\n",
    "I had hoped to achieve accuracy greater than 90%, but after extensive testing and experimentation on the dataset and with different algorithms (including some not detailed in this report), I do not believe it would be achievable with the features available in this dataset."
   ]
  },
  {
   "cell_type": "markdown",
   "metadata": {},
   "source": [
    "## V. Conclusion\n",
    "<!--\n",
    "_(approx. 1-2 pages)_\n",
    "-->"
   ]
  },
  {
   "cell_type": "markdown",
   "metadata": {},
   "source": [
    "### Free-Form Visualization\n",
    "In this section, you will need to provide some form of visualization that emphasizes an important quality about the project. It is much more free-form, but should reasonably support a significant result or characteristic about the problem that you want to discuss. Questions to ask yourself when writing this section:\n",
    "- _Have you visualized a relevant or important quality about the problem, dataset, input data, or results?_\n",
    "- _Is the visualization thoroughly analyzed and discussed?_\n",
    "- _If a plot is provided, are the axes, title, and datum clearly defined?_"
   ]
  },
  {
   "cell_type": "markdown",
   "metadata": {},
   "source": [
    "<!--\n",
    "#### Have you visualized a relevant or important quality about the problem, dataset, input data, or results?\n",
    "-->\n",
    "\n",
    "Here is a horizontal barchart of the sorted feature importances from the tuned **`GradientBoostingClassifier`**:"
   ]
  },
  {
   "cell_type": "code",
   "execution_count": 8,
   "metadata": {
    "ExecuteTime": {
     "end_time": "2018-05-25T21:33:50.936269Z",
     "start_time": "2018-05-25T21:33:50.630735Z"
    },
    "scrolled": false
   },
   "outputs": [
    {
     "data": {
      "text/plain": [
       "Text(0,0.5,'Features')"
      ]
     },
     "execution_count": 8,
     "metadata": {},
     "output_type": "execute_result"
    },
    {
     "data": {
      "image/png": "[encoded data removed]",
      "text/plain": [
       "<matplotlib.figure.Figure at 0x7fba92037198>"
      ]
     },
     "metadata": {},
     "output_type": "display_data"
    }
   ],
   "source": [
    "# TODO: Confirm F-score is the proper y_label\n",
    "\n",
    "gbc_tuned_df = pd.DataFrame(data=gbc.feature_importances_[:15], index=X_train.columns.values[:15])\n",
    "gbc_tuned_plot = gbc_tuned_df.sort_values(by=0).plot.barh(figsize=(15, 10), fontsize=14)\n",
    "gbc_tuned_plot.axes.legend().set_visible(False)\n",
    "gbc_tuned_plot.set_title('Feature Importance Ranked', fontsize=14)\n",
    "gbc_tuned_plot.axes.set_xlabel('Relative ranking score that sums to 1.0', fontsize=14)\n",
    "gbc_tuned_plot.axes.set_ylabel('Features', fontsize=14)"
   ]
  },
  {
   "cell_type": "markdown",
   "metadata": {},
   "source": [
    "The chart indicates that the **hour** of the day and the **age** of the driver are the most important features used in predicting the outcome of a traffic stop in our dataset.  However, this is likely to be an inaccurate reflection of feature importance, as the top 5 ranked features are the only numerical data columns in the training set, and the remaining columns are binary value columns from features that were one-hot encoded from categorical data columns.  In the stages that used **`LabelEncoder()`** to enumerate categorical values in-place, the top ranked feature was **`location_raw`** which suggests that the **city** in which a driver is stopped has a strong influence on the outcome."
   ]
  },
  {
   "cell_type": "markdown",
   "metadata": {},
   "source": [
    "Perhaps, we could gain better insight by analyzing the confusion matrix for our test set.  The following plot illustrates the accuracy (recall) scores of this classifier, with darker cells signifying higher recall:"
   ]
  },
  {
   "cell_type": "code",
   "execution_count": 6,
   "metadata": {
    "ExecuteTime": {
     "end_time": "2018-05-25T21:24:51.006253Z",
     "start_time": "2018-05-25T21:24:49.585581Z"
    },
    "scrolled": false
   },
   "outputs": [
    {
     "data": {
      "image/png": "[encoded data removed]",
      "text/plain": [
       "<matplotlib.figure.Figure at 0x7fba92136320>"
      ]
     },
     "metadata": {},
     "output_type": "display_data"
    }
   ],
   "source": [
    "classes = ['Arrest', 'Summons', 'Ticket', 'Verbal Warning', 'Written Warning']\n",
    "# cm = pd.DataFrame(data=confusion_matrix(y_test, gbc.predict(X_test)), columns=classes, index=classes)\n",
    "cm = confusion_matrix(y_test, gbc.predict(X_test))\n",
    "cm = cm.astype('float') / cm.sum(axis=1)[:, np.newaxis]\n",
    "np.set_printoptions(precision=4)\n",
    "plt.figure(figsize=(10, 10))\n",
    "plt.imshow(cm, interpolation='nearest', cmap=plt.cm.Blues)\n",
    "plt.title('Confusion Matrix (Accuracy Scores)', fontsize=14)\n",
    "plt.colorbar()\n",
    "tick_marks = np.arange(len(classes))\n",
    "plt.xticks(tick_marks, classes, rotation=45, fontsize=14)\n",
    "plt.yticks(tick_marks, classes, fontsize=14)\n",
    "\n",
    "fmt = '.4f'\n",
    "thresh = cm.max() / 2.\n",
    "for i, j in itertools.product(range(cm.shape[0]), range(cm.shape[1])):\n",
    "    plt.text(j, i, format(cm[i, j], fmt),\n",
    "             horizontalalignment=\"center\",\n",
    "             fontsize=14,\n",
    "             color=\"white\" if cm[i, j] > thresh else \"black\")\n",
    "\n",
    "plt.tight_layout()\n",
    "plt.ylabel('Actual Outcome', fontsize=14)\n",
    "plt.xlabel('Predicted Outcome', fontsize=14)\n",
    "plt.show()"
   ]
  },
  {
   "cell_type": "code",
   "execution_count": 61,
   "metadata": {
    "ExecuteTime": {
     "end_time": "2018-05-25T05:34:53.763958Z",
     "start_time": "2018-05-25T05:34:52.767192Z"
    }
   },
   "outputs": [
    {
     "data": {
      "text/plain": [
       "(array([ 0.5316,  0.6586,  0.7579,  0.4878,  0.5789]),\n",
       " array([ 0.358 ,  0.2657,  0.9558,  0.2581,  0.1225]),\n",
       " array([ 0.4278,  0.3787,  0.8455,  0.3376,  0.2022]),\n",
       " array([ 1408,  2657, 43224,  8743,  6498]))"
      ]
     },
     "execution_count": 61,
     "metadata": {},
     "output_type": "execute_result"
    }
   ],
   "source": [
    "# REMOVEME?\n",
    "precision_recall_fscore_support(y_test, gbc.predict(X_test), average=None)"
   ]
  },
  {
   "cell_type": "markdown",
   "metadata": {},
   "source": [
    "The only outcome that this classifier is able to predict accurately is \"Ticket\" with a recall score of 0.9558, which means that out of all of the traffic stops that actually resulted in a \"Ticket,\" this classifier correctly predicted an outcome to be a \"Ticket\" 95.58% of the time.  The next most accurate outcome is \"Arrest\" at 35.80% recall.  The least accurate is \"Written Warning\" at 12.25%.  Intuitively, this may make sense, as the criteria as to what leads to a \"Ticket\" or a \"Written Warning\" is likely to be the same, with the probable differing determinant being the officer's discretion.\n"
   ]
  },
  {
   "cell_type": "markdown",
   "metadata": {},
   "source": [
    "<!--\n",
    "#### Is the visualization thoroughly analyzed and discussed?\n",
    "\n",
    "#### If a plot is provided, are the axes, title, and datum clearly defined?\n",
    "-->"
   ]
  },
  {
   "cell_type": "markdown",
   "metadata": {},
   "source": [
    "### Reflection\n",
    "In this section, you will summarize the entire end-to-end problem solution and discuss one or two particular aspects of the project you found interesting or difficult. You are expected to reflect on the project as a whole to show that you have a firm understanding of the entire process employed in your work. Questions to ask yourself when writing this section:\n",
    "- _Have you thoroughly summarized the entire process you used for this project?_\n",
    "- _Were there any interesting aspects of the project?_\n",
    "- _Were there any difficult aspects of the project?_\n",
    "- _Does the final model and solution fit your expectations for the problem, and should it be used in a general setting to solve these types of problems?_"
   ]
  },
  {
   "cell_type": "markdown",
   "metadata": {},
   "source": [
    "<!--\n",
    "#### _Have you thoroughly summarized the entire process you used for this project?_\n",
    "-->\n",
    "\n",
    "For this project, I took traffic stop data compiled from the Stanford Open Policing Project(SOPP) and created a model to predict their outcomes.  After transforming the data into a form suitable to use as input to a slate of different classification algorithms, I trained the models and compared their predictive capabilities, picked the most accurate, and tuned its hyperparameters to optimize performance.  The optimized model outperforms the benchmark model by only a modest margin.  \n",
    "\n",
    "<!--\n",
    "#### _Were there any interesting aspects of the project?_\n",
    "-->\n",
    "\n",
    "I had hoped to achieve accuracy greater than 90%, but after extensive testing and experimentation on the dataset and different algorithms (including some not detailed in this report), I do not believe it is achievable with the given dataset.  The number and quality of features may be insufficient.  It may be possible that data for other states might provide better feature signals, but the nature of the problem may be a problem itself.  The factors that influence the outcome of a traffic stop may depend on more than the features that were available in this dataset.\n",
    "\n",
    "\n",
    "<!--\n",
    "There were many interesting aspects of the project.  I experienced many moments of discovery as I experimented with data structures and tuned various hyperparameters.  For me, the most interesting aspect was seeing how big of an impact adding the **`location_raw`** field had on accuracy performance.  Prior to that, I kept hitting a ceiling of 82% accuracy no matter which algorithm I used or which hyperparameters I tuned.\n",
    "\n",
    "**`location_raw`** had the second highest feature importance.  The field with the highest importance was **`driver_age`**.  It makes sense as it is the only truly numerical field in the dataset, even if it is more characteristic of a discrete label.\n",
    "-->\n",
    "\n",
    "<!--\n",
    "#### _Were there any difficult aspects of the project?_\n",
    "-->\n",
    "\n",
    "<!--\n",
    "Because XGBoost has been used in so many winning Kaggle competition solutions, I expected there to be more information available in forums and blog posts to resolve issues.  For some of the problems I encountered, the information was surprisingly sparse.\n",
    "\n",
    "Of course, training time is always an issue.  I used my own hardware rig for training, and even with an Intel i7-7700K CPU (quad-core with 8 threads) with 16 GB RAM and an NVIDIA GTX 1080Ti GPU, it felt long and time-consuming for many experiments.  I am sure it would have felt even more tedious and prolonged had I only been able to use a CPU-only system.\n",
    "-->\n",
    "\n",
    "I found a few aspects of this project to be challenging:\n",
    "\n",
    "1. Insufficient memory made it impossible to include the **`officer_id`** field.  With 2,105 unique values, this field could not be one-hot encoded nor encoded with the **`sklearn.preprocessing.LabelEncoder`**.\n",
    "1. At one point, I made the mistake of extracting the test set after oversampling, which set me down an incorrect path for longer than it should have.  Doing so gave extremely high accuracy that was misleading.\n",
    "1. I had to resist the urge to continually try as many algorithms as possible to improve accuracy. At some point, I came to the realization that I could not improve accuracy any further.\n",
    "\n",
    "<!--\n",
    "#### _Does the final model and solution fit your expectations for the problem, and should it be used in a general setting to solve these types of problems?_\n",
    "-->\n",
    "\n",
    "Finally, the model is unlikely to be practical as a predictor of traffic stop outcomes.  It does marginally better than just guessing that the outcome will be a ticket.  The data shows that most outcomes are speeding tickets.  Arrests are rare, at least in the state of Connecticut.  \n"
   ]
  },
  {
   "cell_type": "markdown",
   "metadata": {},
   "source": [
    "### Improvement\n",
    "In this section, you will need to provide discussion as to how one aspect of the implementation you designed could be improved. As an example, consider ways your implementation can be made more general, and what would need to be modified. You do not need to make this improvement, but the potential solutions resulting from these changes are considered and compared/contrasted to your current solution. Questions to ask yourself when writing this section:\n",
    "- _Are there further improvements that could be made on the algorithms or techniques you used in this project?_\n",
    "- _Were there algorithms or techniques you researched that you did not know how to implement, but would consider using if you knew how?_\n",
    "- _If you used your final solution as the new benchmark, do you think an even better solution exists?_"
   ]
  },
  {
   "cell_type": "markdown",
   "metadata": {
    "ExecuteTime": {
     "end_time": "2018-05-10T15:15:20.388236Z",
     "start_time": "2018-05-10T11:15:20.382220-04:00"
    }
   },
   "source": [
    "<!--\n",
    "#### _Are there further improvements that could be made on the algorithms or techniques you used in this project?_\n",
    "-->\n",
    "\n",
    "It may be possible to increase accuracy by finding ways to incorporate the **`officer_id`** field.  I suspect that increased hardware RAM might make it possible, but there is also the risk that any model created with such granular data might be more prone to overfitting.  But, incorporating this field might reveal and incorporate biases of certain officers into our model which might improve accuracy.\n",
    "\n",
    "Other than that, I am unaware of any other ways to improve this model's accuracy.  Perhaps, finding a way to add other features would be beneficial, such as: the vehicle's make, model, and year; number of occupants; or speed of the vehicle when the officer signaled for the driver to pull over.\n",
    "\n",
    "<!--\n",
    "#### _Were there algorithms or techniques you researched that you did not know how to implement, but would consider using if you knew how?_\n",
    "-->\n",
    "\n",
    "Although I did not detail my experiments with GPU-leveraging algorithms, I did try out **`XGBoost`** with my GPU, but found that accuracy was no better than **`GradientBoostingClassifier`**.  Further, some believe that **`Light GBM`** has slightly better accuracy and is more performant than XGBoost as it splits its trees leaf-wise, instead of level-wise like XGBoost does, but I did not experiment with it.  I do not have much hope that it would do much better than the results I achieved with **`GradientBoostingClassifier`**.\n",
    "\n",
    "<!--\n",
    "As I experimented and researched solutions for problems I encountered while developing my model, I came across another boosting framework called, Light GBM, that, at least by one benchmark test by Analytics Vidya, may be slightly more accurate and significantly more performant (see \"Which algorithm takes the crown: Light GBM vs XGBOOST?\" at https://www.analyticsvidhya.com/blog/2017/06/which-algorithm-takes-the-crown-light-gbm-vs-xgboost/).  Light GBM splits its trees leaf-wise, instead of level-wise as XGBoost does.\n",
    "-->\n",
    "\n",
    "<!--\n",
    "#### - _If you used your final solution as the new benchmark, do you think an even better solution exists?_\n",
    "-->\n",
    "\n",
    "<!--\n",
    "My benchmark of 95% accuracy is quite high and may be difficult to improve.  Of course, there is always the possibility thtat an even better solution exists.  Further hyperparameter tuning might achieve this.  Plus, experiments with Light GBM or a convolutional neural network might also improve performance.\n",
    "-->"
   ]
  },
  {
   "cell_type": "markdown",
   "metadata": {
    "collapsed": true
   },
   "source": [
    "-----------\n",
    "\n",
    "**Before submitting, ask yourself. . .**\n",
    "\n",
    "- Does the project report you’ve written follow a well-organized structure similar to that of the project template?\n",
    "- Is each section (particularly **Analysis** and **Methodology**) written in a clear, concise and specific fashion? Are there any ambiguous terms or phrases that need clarification?\n",
    "- Would the intended audience of your project be able to understand your analysis, methods, and results?\n",
    "- Have you properly proof-read your project report to assure there are minimal grammatical and spelling mistakes?\n",
    "- Are all the resources used for this project correctly cited and referenced?\n",
    "- Is the code that implements your solution easily readable and properly commented?\n",
    "- Does the code execute without error and produce results similar to those reported?"
   ]
  },
  {
   "cell_type": "markdown",
   "metadata": {},
   "source": [
    "## References\n",
    "\n"
   ]
  },
  {
   "cell_type": "code",
   "execution_count": null,
   "metadata": {
    "collapsed": true
   },
   "outputs": [],
   "source": []
  }
 ],
 "metadata": {
  "anaconda-cloud": {},
  "hide_input": true,
  "kernelspec": {
   "display_name": "Python 3",
   "language": "python",
   "name": "python3"
  },
  "language_info": {
   "codemirror_mode": {
    "name": "ipython",
    "version": 3
   },
   "file_extension": ".py",
   "mimetype": "text/x-python",
   "name": "python",
   "nbconvert_exporter": "python",
   "pygments_lexer": "ipython3",
   "version": "3.6.1"
  },
  "toc": {
   "base_numbering": 1,
   "nav_menu": {},
   "number_sections": true,
   "sideBar": true,
   "skip_h1_title": false,
   "title_cell": "Table of Contents",
   "title_sidebar": "Contents",
   "toc_cell": false,
   "toc_position": {
    "height": "calc(100% - 180px)",
    "left": "10px",
    "top": "150px",
    "width": "305px"
   },
   "toc_section_display": true,
   "toc_window_display": false
  },
  "varInspector": {
   "cols": {
    "lenName": 16,
    "lenType": 16,
    "lenVar": 40
   },
   "kernels_config": {
    "python": {
     "delete_cmd_postfix": "",
     "delete_cmd_prefix": "del ",
     "library": "var_list.py",
     "varRefreshCmd": "print(var_dic_list())"
    },
    "r": {
     "delete_cmd_postfix": ") ",
     "delete_cmd_prefix": "rm(",
     "library": "var_list.r",
     "varRefreshCmd": "cat(var_dic_list()) "
    }
   },
   "position": {
    "height": "519px",
    "left": "844px",
    "right": "9.33333px",
    "top": "120px",
    "width": "361px"
   },
   "types_to_exclude": [
    "module",
    "function",
    "builtin_function_or_method",
    "instance",
    "_Feature"
   ],
   "window_display": false
  }
 },
 "nbformat": 4,
 "nbformat_minor": 2
}
