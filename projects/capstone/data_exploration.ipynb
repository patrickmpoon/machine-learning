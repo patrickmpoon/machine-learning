{
 "cells": [
  {
   "cell_type": "code",
   "execution_count": 1,
   "metadata": {
    "collapsed": true
   },
   "outputs": [],
   "source": [
    "import humanize\n",
    "import numpy as np\n",
    "import pandas as pd\n",
    "from datetime import datetime\n",
    "\n",
    "%matplotlib inline"
   ]
  },
  {
   "cell_type": "code",
   "execution_count": 2,
   "metadata": {
    "collapsed": false
   },
   "outputs": [
    {
     "name": "stderr",
     "output_type": "stream",
     "text": [
      "D:\\AppData\\Local\\conda\\conda\\envs\\kaggle\\lib\\site-packages\\IPython\\core\\interactiveshell.py:2717: DtypeWarning: Columns (22) have mixed types. Specify dtype option on import or set low_memory=False.\n",
      "  interactivity=interactivity, compiler=compiler, result=result)\n"
     ]
    }
   ],
   "source": [
    "df = pd.read_csv('./data/CT-clean.csv')"
   ]
  },
  {
   "cell_type": "markdown",
   "metadata": {},
   "source": [
    "# Data Exploration"
   ]
  },
  {
   "cell_type": "code",
   "execution_count": 3,
   "metadata": {
    "collapsed": false
   },
   "outputs": [
    {
     "name": "stdout",
     "output_type": "stream",
     "text": [
      "<class 'pandas.core.frame.DataFrame'>\n",
      "RangeIndex: 318669 entries, 0 to 318668\n",
      "Data columns (total 24 columns):\n",
      "id                       318669 non-null object\n",
      "state                    318669 non-null object\n",
      "stop_date                318669 non-null object\n",
      "stop_time                318447 non-null object\n",
      "location_raw             318628 non-null object\n",
      "county_name              318627 non-null object\n",
      "county_fips              318627 non-null float64\n",
      "fine_grained_location    317006 non-null object\n",
      "police_department        318669 non-null object\n",
      "driver_gender            318669 non-null object\n",
      "driver_age_raw           318669 non-null int64\n",
      "driver_age               318395 non-null float64\n",
      "driver_race_raw          318669 non-null object\n",
      "driver_race              318669 non-null object\n",
      "violation_raw            318669 non-null object\n",
      "violation                318669 non-null object\n",
      "search_conducted         318669 non-null bool\n",
      "search_type_raw          4846 non-null object\n",
      "search_type              4846 non-null object\n",
      "contraband_found         318669 non-null bool\n",
      "stop_outcome             313313 non-null object\n",
      "is_arrested              313313 non-null object\n",
      "officer_id               318669 non-null object\n",
      "stop_duration            318669 non-null object\n",
      "dtypes: bool(2), float64(2), int64(1), object(19)\n",
      "memory usage: 54.1+ MB\n"
     ]
    }
   ],
   "source": [
    "df.info()"
   ]
  },
  {
   "cell_type": "code",
   "execution_count": 4,
   "metadata": {
    "collapsed": false,
    "deletable": true,
    "editable": true
   },
   "outputs": [
    {
     "data": {
      "text/html": [
       "<div>\n",
       "<style scoped>\n",
       "    .dataframe tbody tr th:only-of-type {\n",
       "        vertical-align: middle;\n",
       "    }\n",
       "\n",
       "    .dataframe tbody tr th {\n",
       "        vertical-align: top;\n",
       "    }\n",
       "\n",
       "    .dataframe thead th {\n",
       "        text-align: right;\n",
       "    }\n",
       "</style>\n",
       "<table border=\"1\" class=\"dataframe\">\n",
       "  <thead>\n",
       "    <tr style=\"text-align: right;\">\n",
       "      <th></th>\n",
       "      <th>county_fips</th>\n",
       "      <th>driver_age_raw</th>\n",
       "      <th>driver_age</th>\n",
       "    </tr>\n",
       "  </thead>\n",
       "  <tbody>\n",
       "    <tr>\n",
       "      <th>count</th>\n",
       "      <td>318627.000000</td>\n",
       "      <td>318669.000000</td>\n",
       "      <td>318395.000000</td>\n",
       "    </tr>\n",
       "    <tr>\n",
       "      <th>mean</th>\n",
       "      <td>9008.013775</td>\n",
       "      <td>38.088041</td>\n",
       "      <td>38.119490</td>\n",
       "    </tr>\n",
       "    <tr>\n",
       "      <th>std</th>\n",
       "      <td>4.471330</td>\n",
       "      <td>14.463289</td>\n",
       "      <td>14.429378</td>\n",
       "    </tr>\n",
       "    <tr>\n",
       "      <th>min</th>\n",
       "      <td>9001.000000</td>\n",
       "      <td>0.000000</td>\n",
       "      <td>15.000000</td>\n",
       "    </tr>\n",
       "    <tr>\n",
       "      <th>25%</th>\n",
       "      <td>9003.000000</td>\n",
       "      <td>26.000000</td>\n",
       "      <td>26.000000</td>\n",
       "    </tr>\n",
       "    <tr>\n",
       "      <th>50%</th>\n",
       "      <td>9009.000000</td>\n",
       "      <td>35.000000</td>\n",
       "      <td>35.000000</td>\n",
       "    </tr>\n",
       "    <tr>\n",
       "      <th>75%</th>\n",
       "      <td>9011.000000</td>\n",
       "      <td>49.000000</td>\n",
       "      <td>49.000000</td>\n",
       "    </tr>\n",
       "    <tr>\n",
       "      <th>max</th>\n",
       "      <td>9015.000000</td>\n",
       "      <td>99.000000</td>\n",
       "      <td>99.000000</td>\n",
       "    </tr>\n",
       "  </tbody>\n",
       "</table>\n",
       "</div>"
      ],
      "text/plain": [
       "         county_fips  driver_age_raw     driver_age\n",
       "count  318627.000000   318669.000000  318395.000000\n",
       "mean     9008.013775       38.088041      38.119490\n",
       "std         4.471330       14.463289      14.429378\n",
       "min      9001.000000        0.000000      15.000000\n",
       "25%      9003.000000       26.000000      26.000000\n",
       "50%      9009.000000       35.000000      35.000000\n",
       "75%      9011.000000       49.000000      49.000000\n",
       "max      9015.000000       99.000000      99.000000"
      ]
     },
     "execution_count": 4,
     "metadata": {},
     "output_type": "execute_result"
    }
   ],
   "source": [
    "df.describe()"
   ]
  },
  {
   "cell_type": "markdown",
   "metadata": {},
   "source": [
    "## Date range"
   ]
  },
  {
   "cell_type": "code",
   "execution_count": 5,
   "metadata": {
    "collapsed": false,
    "deletable": true,
    "editable": true
   },
   "outputs": [],
   "source": [
    "first_date = datetime.strptime(df['stop_date'].min(), '%Y-%m-%d')\n",
    "last_date = datetime.strptime(df['stop_date'].max(), '%Y-%m-%d')"
   ]
  },
  {
   "cell_type": "code",
   "execution_count": 6,
   "metadata": {
    "collapsed": false,
    "deletable": true,
    "editable": true
   },
   "outputs": [
    {
     "data": {
      "text/plain": [
       "'1 year, 5 months'"
      ]
     },
     "execution_count": 6,
     "metadata": {},
     "output_type": "execute_result"
    }
   ],
   "source": [
    "humanize.naturaldelta(last_date - first_date)"
   ]
  },
  {
   "cell_type": "markdown",
   "metadata": {},
   "source": [
    "## Sample rows\n",
    "### Columns 1-8"
   ]
  },
  {
   "cell_type": "code",
   "execution_count": 7,
   "metadata": {
    "collapsed": false,
    "deletable": true,
    "editable": true
   },
   "outputs": [
    {
     "data": {
      "text/html": [
       "<div>\n",
       "<style scoped>\n",
       "    .dataframe tbody tr th:only-of-type {\n",
       "        vertical-align: middle;\n",
       "    }\n",
       "\n",
       "    .dataframe tbody tr th {\n",
       "        vertical-align: top;\n",
       "    }\n",
       "\n",
       "    .dataframe thead th {\n",
       "        text-align: right;\n",
       "    }\n",
       "</style>\n",
       "<table border=\"1\" class=\"dataframe\">\n",
       "  <thead>\n",
       "    <tr style=\"text-align: right;\">\n",
       "      <th></th>\n",
       "      <th>id</th>\n",
       "      <th>state</th>\n",
       "      <th>stop_date</th>\n",
       "      <th>stop_time</th>\n",
       "      <th>location_raw</th>\n",
       "      <th>county_name</th>\n",
       "      <th>county_fips</th>\n",
       "      <th>fine_grained_location</th>\n",
       "    </tr>\n",
       "  </thead>\n",
       "  <tbody>\n",
       "    <tr>\n",
       "      <th>0</th>\n",
       "      <td>CT-2013-00001</td>\n",
       "      <td>CT</td>\n",
       "      <td>2013-10-01</td>\n",
       "      <td>00:01</td>\n",
       "      <td>westport</td>\n",
       "      <td>Fairfield County</td>\n",
       "      <td>9001.0</td>\n",
       "      <td>00000 N I 95 (WESTPORT, T158) X 18 LL</td>\n",
       "    </tr>\n",
       "    <tr>\n",
       "      <th>1</th>\n",
       "      <td>CT-2013-00002</td>\n",
       "      <td>CT</td>\n",
       "      <td>2013-10-01</td>\n",
       "      <td>00:02</td>\n",
       "      <td>mansfield</td>\n",
       "      <td>Tolland County</td>\n",
       "      <td>9013.0</td>\n",
       "      <td>rte 195 storrs</td>\n",
       "    </tr>\n",
       "    <tr>\n",
       "      <th>2</th>\n",
       "      <td>CT-2013-00003</td>\n",
       "      <td>CT</td>\n",
       "      <td>2013-10-01</td>\n",
       "      <td>00:07</td>\n",
       "      <td>franklin</td>\n",
       "      <td>New London County</td>\n",
       "      <td>9011.0</td>\n",
       "      <td>Rt 32/whippoorwill</td>\n",
       "    </tr>\n",
       "    <tr>\n",
       "      <th>3</th>\n",
       "      <td>CT-2013-00004</td>\n",
       "      <td>CT</td>\n",
       "      <td>2013-10-01</td>\n",
       "      <td>00:10</td>\n",
       "      <td>danbury</td>\n",
       "      <td>Fairfield County</td>\n",
       "      <td>9001.0</td>\n",
       "      <td>I-84</td>\n",
       "    </tr>\n",
       "    <tr>\n",
       "      <th>4</th>\n",
       "      <td>CT-2013-00005</td>\n",
       "      <td>CT</td>\n",
       "      <td>2013-10-01</td>\n",
       "      <td>00:10</td>\n",
       "      <td>east hartford</td>\n",
       "      <td>Hartford County</td>\n",
       "      <td>9003.0</td>\n",
       "      <td>00000 W I 84 (EAST HARTFORD, T043)E.OF XT.56</td>\n",
       "    </tr>\n",
       "  </tbody>\n",
       "</table>\n",
       "</div>"
      ],
      "text/plain": [
       "              id state   stop_date stop_time   location_raw  \\\n",
       "0  CT-2013-00001    CT  2013-10-01     00:01       westport   \n",
       "1  CT-2013-00002    CT  2013-10-01     00:02      mansfield   \n",
       "2  CT-2013-00003    CT  2013-10-01     00:07       franklin   \n",
       "3  CT-2013-00004    CT  2013-10-01     00:10        danbury   \n",
       "4  CT-2013-00005    CT  2013-10-01     00:10  east hartford   \n",
       "\n",
       "         county_name  county_fips  \\\n",
       "0   Fairfield County       9001.0   \n",
       "1     Tolland County       9013.0   \n",
       "2  New London County       9011.0   \n",
       "3   Fairfield County       9001.0   \n",
       "4    Hartford County       9003.0   \n",
       "\n",
       "                          fine_grained_location  \n",
       "0         00000 N I 95 (WESTPORT, T158) X 18 LL  \n",
       "1                                rte 195 storrs  \n",
       "2                            Rt 32/whippoorwill  \n",
       "3                                          I-84  \n",
       "4  00000 W I 84 (EAST HARTFORD, T043)E.OF XT.56  "
      ]
     },
     "execution_count": 7,
     "metadata": {},
     "output_type": "execute_result"
    }
   ],
   "source": [
    "df.iloc[:,:8].head()"
   ]
  },
  {
   "cell_type": "code",
   "execution_count": 8,
   "metadata": {
    "collapsed": false,
    "deletable": true,
    "editable": true
   },
   "outputs": [
    {
     "data": {
      "text/html": [
       "<div>\n",
       "<style scoped>\n",
       "    .dataframe tbody tr th:only-of-type {\n",
       "        vertical-align: middle;\n",
       "    }\n",
       "\n",
       "    .dataframe tbody tr th {\n",
       "        vertical-align: top;\n",
       "    }\n",
       "\n",
       "    .dataframe thead th {\n",
       "        text-align: right;\n",
       "    }\n",
       "</style>\n",
       "<table border=\"1\" class=\"dataframe\">\n",
       "  <thead>\n",
       "    <tr style=\"text-align: right;\">\n",
       "      <th></th>\n",
       "      <th>id</th>\n",
       "      <th>state</th>\n",
       "      <th>stop_date</th>\n",
       "      <th>stop_time</th>\n",
       "      <th>location_raw</th>\n",
       "      <th>county_name</th>\n",
       "      <th>county_fips</th>\n",
       "      <th>fine_grained_location</th>\n",
       "    </tr>\n",
       "  </thead>\n",
       "  <tbody>\n",
       "    <tr>\n",
       "      <th>318664</th>\n",
       "      <td>CT-2015-39331</td>\n",
       "      <td>CT</td>\n",
       "      <td>2015-03-31</td>\n",
       "      <td>12:49</td>\n",
       "      <td>bolton</td>\n",
       "      <td>Tolland County</td>\n",
       "      <td>9013.0</td>\n",
       "      <td>W RT 44 AND QUARRY RD      (BOLTON, T012)</td>\n",
       "    </tr>\n",
       "    <tr>\n",
       "      <th>318665</th>\n",
       "      <td>CT-2015-39332</td>\n",
       "      <td>CT</td>\n",
       "      <td>2015-03-31</td>\n",
       "      <td>12:49</td>\n",
       "      <td>killingly</td>\n",
       "      <td>Windham County</td>\n",
       "      <td>9015.0</td>\n",
       "      <td>395 s/b x 91</td>\n",
       "    </tr>\n",
       "    <tr>\n",
       "      <th>318666</th>\n",
       "      <td>CT-2015-39333</td>\n",
       "      <td>CT</td>\n",
       "      <td>2015-03-31</td>\n",
       "      <td>12:50</td>\n",
       "      <td>bridgeport</td>\n",
       "      <td>Fairfield County</td>\n",
       "      <td>9001.0</td>\n",
       "      <td>00027 N I 95  (BRIDGEPORT, T015)</td>\n",
       "    </tr>\n",
       "    <tr>\n",
       "      <th>318667</th>\n",
       "      <td>CT-2015-39334</td>\n",
       "      <td>CT</td>\n",
       "      <td>2015-03-31</td>\n",
       "      <td>12:52</td>\n",
       "      <td>enfield</td>\n",
       "      <td>Hartford County</td>\n",
       "      <td>9003.0</td>\n",
       "      <td>00000 N EXIT 46  (ENFIELD, T049)</td>\n",
       "    </tr>\n",
       "    <tr>\n",
       "      <th>318668</th>\n",
       "      <td>CT-2015-39335</td>\n",
       "      <td>CT</td>\n",
       "      <td>2015-03-31</td>\n",
       "      <td>12:59</td>\n",
       "      <td>washington</td>\n",
       "      <td>Litchfield County</td>\n",
       "      <td>9005.0</td>\n",
       "      <td>old litchfield rd</td>\n",
       "    </tr>\n",
       "  </tbody>\n",
       "</table>\n",
       "</div>"
      ],
      "text/plain": [
       "                   id state   stop_date stop_time location_raw  \\\n",
       "318664  CT-2015-39331    CT  2015-03-31     12:49       bolton   \n",
       "318665  CT-2015-39332    CT  2015-03-31     12:49    killingly   \n",
       "318666  CT-2015-39333    CT  2015-03-31     12:50   bridgeport   \n",
       "318667  CT-2015-39334    CT  2015-03-31     12:52      enfield   \n",
       "318668  CT-2015-39335    CT  2015-03-31     12:59   washington   \n",
       "\n",
       "              county_name  county_fips  \\\n",
       "318664     Tolland County       9013.0   \n",
       "318665     Windham County       9015.0   \n",
       "318666   Fairfield County       9001.0   \n",
       "318667    Hartford County       9003.0   \n",
       "318668  Litchfield County       9005.0   \n",
       "\n",
       "                            fine_grained_location  \n",
       "318664  W RT 44 AND QUARRY RD      (BOLTON, T012)  \n",
       "318665                               395 s/b x 91  \n",
       "318666           00027 N I 95  (BRIDGEPORT, T015)  \n",
       "318667           00000 N EXIT 46  (ENFIELD, T049)  \n",
       "318668                          old litchfield rd  "
      ]
     },
     "execution_count": 8,
     "metadata": {},
     "output_type": "execute_result"
    }
   ],
   "source": [
    "df.iloc[:,:8].tail()"
   ]
  },
  {
   "cell_type": "markdown",
   "metadata": {
    "deletable": true,
    "editable": true
   },
   "source": [
    "### Columns 9-16"
   ]
  },
  {
   "cell_type": "code",
   "execution_count": 9,
   "metadata": {
    "collapsed": false,
    "deletable": true,
    "editable": true
   },
   "outputs": [
    {
     "data": {
      "text/html": [
       "<div>\n",
       "<style scoped>\n",
       "    .dataframe tbody tr th:only-of-type {\n",
       "        vertical-align: middle;\n",
       "    }\n",
       "\n",
       "    .dataframe tbody tr th {\n",
       "        vertical-align: top;\n",
       "    }\n",
       "\n",
       "    .dataframe thead th {\n",
       "        text-align: right;\n",
       "    }\n",
       "</style>\n",
       "<table border=\"1\" class=\"dataframe\">\n",
       "  <thead>\n",
       "    <tr style=\"text-align: right;\">\n",
       "      <th></th>\n",
       "      <th>police_department</th>\n",
       "      <th>driver_gender</th>\n",
       "      <th>driver_age_raw</th>\n",
       "      <th>driver_age</th>\n",
       "      <th>driver_race_raw</th>\n",
       "      <th>driver_race</th>\n",
       "      <th>violation_raw</th>\n",
       "      <th>violation</th>\n",
       "    </tr>\n",
       "  </thead>\n",
       "  <tbody>\n",
       "    <tr>\n",
       "      <th>0</th>\n",
       "      <td>State Police</td>\n",
       "      <td>F</td>\n",
       "      <td>69</td>\n",
       "      <td>69.0</td>\n",
       "      <td>Black</td>\n",
       "      <td>Black</td>\n",
       "      <td>Speed Related</td>\n",
       "      <td>Speeding</td>\n",
       "    </tr>\n",
       "    <tr>\n",
       "      <th>1</th>\n",
       "      <td>State Police</td>\n",
       "      <td>M</td>\n",
       "      <td>20</td>\n",
       "      <td>20.0</td>\n",
       "      <td>White</td>\n",
       "      <td>White</td>\n",
       "      <td>Moving Violation</td>\n",
       "      <td>Moving violation</td>\n",
       "    </tr>\n",
       "    <tr>\n",
       "      <th>2</th>\n",
       "      <td>State Police</td>\n",
       "      <td>M</td>\n",
       "      <td>34</td>\n",
       "      <td>34.0</td>\n",
       "      <td>Hispanic</td>\n",
       "      <td>Hispanic</td>\n",
       "      <td>Speed Related</td>\n",
       "      <td>Speeding</td>\n",
       "    </tr>\n",
       "    <tr>\n",
       "      <th>3</th>\n",
       "      <td>State Police</td>\n",
       "      <td>M</td>\n",
       "      <td>46</td>\n",
       "      <td>46.0</td>\n",
       "      <td>Black</td>\n",
       "      <td>Black</td>\n",
       "      <td>Speed Related</td>\n",
       "      <td>Speeding</td>\n",
       "    </tr>\n",
       "    <tr>\n",
       "      <th>4</th>\n",
       "      <td>State Police</td>\n",
       "      <td>M</td>\n",
       "      <td>30</td>\n",
       "      <td>30.0</td>\n",
       "      <td>White</td>\n",
       "      <td>White</td>\n",
       "      <td>Speed Related</td>\n",
       "      <td>Speeding</td>\n",
       "    </tr>\n",
       "  </tbody>\n",
       "</table>\n",
       "</div>"
      ],
      "text/plain": [
       "  police_department driver_gender  driver_age_raw  driver_age driver_race_raw  \\\n",
       "0      State Police             F              69        69.0           Black   \n",
       "1      State Police             M              20        20.0           White   \n",
       "2      State Police             M              34        34.0        Hispanic   \n",
       "3      State Police             M              46        46.0           Black   \n",
       "4      State Police             M              30        30.0           White   \n",
       "\n",
       "  driver_race     violation_raw         violation  \n",
       "0       Black     Speed Related          Speeding  \n",
       "1       White  Moving Violation  Moving violation  \n",
       "2    Hispanic     Speed Related          Speeding  \n",
       "3       Black     Speed Related          Speeding  \n",
       "4       White     Speed Related          Speeding  "
      ]
     },
     "execution_count": 9,
     "metadata": {},
     "output_type": "execute_result"
    }
   ],
   "source": [
    "df.iloc[:,8:16].head()"
   ]
  },
  {
   "cell_type": "markdown",
   "metadata": {
    "deletable": true,
    "editable": true
   },
   "source": [
    "### Columns 17-24"
   ]
  },
  {
   "cell_type": "code",
   "execution_count": 10,
   "metadata": {
    "collapsed": false,
    "deletable": true,
    "editable": true
   },
   "outputs": [
    {
     "data": {
      "text/html": [
       "<div>\n",
       "<style scoped>\n",
       "    .dataframe tbody tr th:only-of-type {\n",
       "        vertical-align: middle;\n",
       "    }\n",
       "\n",
       "    .dataframe tbody tr th {\n",
       "        vertical-align: top;\n",
       "    }\n",
       "\n",
       "    .dataframe thead th {\n",
       "        text-align: right;\n",
       "    }\n",
       "</style>\n",
       "<table border=\"1\" class=\"dataframe\">\n",
       "  <thead>\n",
       "    <tr style=\"text-align: right;\">\n",
       "      <th></th>\n",
       "      <th>search_conducted</th>\n",
       "      <th>search_type_raw</th>\n",
       "      <th>search_type</th>\n",
       "      <th>contraband_found</th>\n",
       "      <th>stop_outcome</th>\n",
       "      <th>is_arrested</th>\n",
       "      <th>officer_id</th>\n",
       "      <th>stop_duration</th>\n",
       "    </tr>\n",
       "  </thead>\n",
       "  <tbody>\n",
       "    <tr>\n",
       "      <th>0</th>\n",
       "      <td>False</td>\n",
       "      <td>NaN</td>\n",
       "      <td>NaN</td>\n",
       "      <td>False</td>\n",
       "      <td>Ticket</td>\n",
       "      <td>False</td>\n",
       "      <td>1000002754</td>\n",
       "      <td>1-15 min</td>\n",
       "    </tr>\n",
       "    <tr>\n",
       "      <th>1</th>\n",
       "      <td>False</td>\n",
       "      <td>NaN</td>\n",
       "      <td>NaN</td>\n",
       "      <td>False</td>\n",
       "      <td>Verbal Warning</td>\n",
       "      <td>False</td>\n",
       "      <td>1000001903</td>\n",
       "      <td>1-15 min</td>\n",
       "    </tr>\n",
       "    <tr>\n",
       "      <th>2</th>\n",
       "      <td>False</td>\n",
       "      <td>NaN</td>\n",
       "      <td>NaN</td>\n",
       "      <td>False</td>\n",
       "      <td>Ticket</td>\n",
       "      <td>False</td>\n",
       "      <td>1000002711</td>\n",
       "      <td>1-15 min</td>\n",
       "    </tr>\n",
       "    <tr>\n",
       "      <th>3</th>\n",
       "      <td>False</td>\n",
       "      <td>NaN</td>\n",
       "      <td>NaN</td>\n",
       "      <td>False</td>\n",
       "      <td>Written Warning</td>\n",
       "      <td>False</td>\n",
       "      <td>113658284</td>\n",
       "      <td>1-15 min</td>\n",
       "    </tr>\n",
       "    <tr>\n",
       "      <th>4</th>\n",
       "      <td>False</td>\n",
       "      <td>NaN</td>\n",
       "      <td>NaN</td>\n",
       "      <td>False</td>\n",
       "      <td>Ticket</td>\n",
       "      <td>False</td>\n",
       "      <td>830814942</td>\n",
       "      <td>1-15 min</td>\n",
       "    </tr>\n",
       "  </tbody>\n",
       "</table>\n",
       "</div>"
      ],
      "text/plain": [
       "   search_conducted search_type_raw search_type  contraband_found  \\\n",
       "0             False             NaN         NaN             False   \n",
       "1             False             NaN         NaN             False   \n",
       "2             False             NaN         NaN             False   \n",
       "3             False             NaN         NaN             False   \n",
       "4             False             NaN         NaN             False   \n",
       "\n",
       "      stop_outcome is_arrested  officer_id stop_duration  \n",
       "0           Ticket       False  1000002754      1-15 min  \n",
       "1   Verbal Warning       False  1000001903      1-15 min  \n",
       "2           Ticket       False  1000002711      1-15 min  \n",
       "3  Written Warning       False   113658284      1-15 min  \n",
       "4           Ticket       False   830814942      1-15 min  "
      ]
     },
     "execution_count": 10,
     "metadata": {},
     "output_type": "execute_result"
    }
   ],
   "source": [
    "df.iloc[:,16:24].head()"
   ]
  },
  {
   "cell_type": "code",
   "execution_count": 11,
   "metadata": {
    "collapsed": false
   },
   "outputs": [
    {
     "data": {
      "text/plain": [
       "array(['Ticket', 'Verbal Warning', 'Written Warning', nan, 'Summons',\n",
       "       'Arrest'], dtype=object)"
      ]
     },
     "execution_count": 11,
     "metadata": {},
     "output_type": "execute_result"
    }
   ],
   "source": [
    "df['stop_outcome'].unique()"
   ]
  },
  {
   "cell_type": "code",
   "execution_count": 12,
   "metadata": {
    "collapsed": false,
    "deletable": true,
    "editable": true
   },
   "outputs": [
    {
     "data": {
      "text/plain": [
       "Ticket             218973\n",
       "Verbal Warning      47753\n",
       "Written Warning     27070\n",
       "Summons             12205\n",
       "Arrest               7312\n",
       "Name: stop_outcome, dtype: int64"
      ]
     },
     "execution_count": 12,
     "metadata": {},
     "output_type": "execute_result"
    }
   ],
   "source": [
    "df['stop_outcome'].value_counts()"
   ]
  },
  {
   "cell_type": "code",
   "execution_count": 13,
   "metadata": {
    "collapsed": false,
    "deletable": true,
    "editable": true
   },
   "outputs": [
    {
     "data": {
      "text/plain": [
       "Ticket             0.698895\n",
       "Verbal Warning     0.152413\n",
       "Written Warning    0.086399\n",
       "Summons            0.038955\n",
       "Arrest             0.023338\n",
       "Name: stop_outcome, dtype: float64"
      ]
     },
     "execution_count": 13,
     "metadata": {},
     "output_type": "execute_result"
    }
   ],
   "source": [
    "df['stop_outcome'].value_counts(normalize=True)"
   ]
  },
  {
   "cell_type": "code",
   "execution_count": 14,
   "metadata": {
    "collapsed": false
   },
   "outputs": [
    {
     "data": {
      "text/plain": [
       "array([2013, 2014, 2015], dtype=int64)"
      ]
     },
     "execution_count": 14,
     "metadata": {},
     "output_type": "execute_result"
    }
   ],
   "source": [
    "years = df['id'].apply(lambda x: int(x.split('-')[1]))\n",
    "years.unique()"
   ]
  },
  {
   "cell_type": "markdown",
   "metadata": {
    "deletable": true,
    "editable": true
   },
   "source": [
    "# Data Preprocessing"
   ]
  },
  {
   "cell_type": "markdown",
   "metadata": {},
   "source": [
    "## Null Values"
   ]
  },
  {
   "cell_type": "code",
   "execution_count": 15,
   "metadata": {
    "collapsed": false
   },
   "outputs": [
    {
     "data": {
      "text/plain": [
       "id                            0\n",
       "state                         0\n",
       "stop_date                     0\n",
       "stop_time                   222\n",
       "location_raw                 41\n",
       "county_name                  42\n",
       "county_fips                  42\n",
       "fine_grained_location      1663\n",
       "police_department             0\n",
       "driver_gender                 0\n",
       "driver_age_raw                0\n",
       "driver_age                  274\n",
       "driver_race_raw               0\n",
       "driver_race                   0\n",
       "violation_raw                 0\n",
       "violation                     0\n",
       "search_conducted              0\n",
       "search_type_raw          313823\n",
       "search_type              313823\n",
       "contraband_found              0\n",
       "stop_outcome               5356\n",
       "is_arrested                5356\n",
       "officer_id                    0\n",
       "stop_duration                 0\n",
       "dtype: int64"
      ]
     },
     "execution_count": 15,
     "metadata": {},
     "output_type": "execute_result"
    }
   ],
   "source": [
    "df.isnull().sum()"
   ]
  },
  {
   "cell_type": "markdown",
   "metadata": {},
   "source": [
    "## Replace stop_time nulls with median stop_time"
   ]
  },
  {
   "cell_type": "code",
   "execution_count": 16,
   "metadata": {
    "collapsed": false,
    "deletable": true,
    "editable": true
   },
   "outputs": [
    {
     "name": "stdout",
     "output_type": "stream",
     "text": [
      "08:29\n"
     ]
    }
   ],
   "source": [
    "populated = df['stop_time'].sort_values()\n",
    "median_stop_time = populated[populated.shape[0] // 2]\n",
    "print(median_stop_time)\n",
    "df['stop_time'].fillna(median_stop_time, inplace=True)"
   ]
  },
  {
   "cell_type": "code",
   "execution_count": 17,
   "metadata": {
    "collapsed": false,
    "deletable": true,
    "editable": true
   },
   "outputs": [
    {
     "data": {
      "text/plain": [
       "id                            0\n",
       "state                         0\n",
       "stop_date                     0\n",
       "stop_time                     0\n",
       "location_raw                 41\n",
       "county_name                  42\n",
       "county_fips                  42\n",
       "fine_grained_location      1663\n",
       "police_department             0\n",
       "driver_gender                 0\n",
       "driver_age_raw                0\n",
       "driver_age                  274\n",
       "driver_race_raw               0\n",
       "driver_race                   0\n",
       "violation_raw                 0\n",
       "violation                     0\n",
       "search_conducted              0\n",
       "search_type_raw          313823\n",
       "search_type              313823\n",
       "contraband_found              0\n",
       "stop_outcome               5356\n",
       "is_arrested                5356\n",
       "officer_id                    0\n",
       "stop_duration                 0\n",
       "dtype: int64"
      ]
     },
     "execution_count": 17,
     "metadata": {},
     "output_type": "execute_result"
    }
   ],
   "source": [
    "df.isnull().sum()"
   ]
  },
  {
   "cell_type": "markdown",
   "metadata": {},
   "source": [
    "## Convert `stop_time` to \"morning, afternoon, evening, small hours\""
   ]
  },
  {
   "cell_type": "code",
   "execution_count": 18,
   "metadata": {
    "collapsed": false
   },
   "outputs": [],
   "source": [
    "def day_period(time_str):\n",
    "    hour = time_str.hour\n",
    "\n",
    "    if hour >= 0 and hour < 6:\n",
    "        return 'Small Hours'\n",
    "    elif hour >= 6 and hour < 12:\n",
    "        return 'Morning'\n",
    "    elif hour >= 12 and hour < 18:\n",
    "        return 'Afternoon'\n",
    "    else:\n",
    "        return 'Evening'\n",
    "\n",
    "df['day_period'] = pd.to_datetime(df['stop_time']).apply(day_period)\n"
   ]
  },
  {
   "cell_type": "markdown",
   "metadata": {},
   "source": [
    "## Convert date to Season"
   ]
  },
  {
   "cell_type": "code",
   "execution_count": 19,
   "metadata": {
    "collapsed": false
   },
   "outputs": [],
   "source": [
    "def season(stop_date):\n",
    "    month = datetime.strptime(stop_date, '%Y-%m-%d').month\n",
    "    if month >= 3 and month < 6:\n",
    "        return 'Spring'\n",
    "    elif month >= 6 and month < 9:\n",
    "        return 'Summer'\n",
    "    elif month >= 9 and month < 12:\n",
    "        return 'Fall'\n",
    "    return 'Winter'\n",
    "\n",
    "\n",
    "df['season'] = df['stop_date'].apply(season)\n"
   ]
  },
  {
   "cell_type": "markdown",
   "metadata": {},
   "source": [
    "## Convert driver_gender to binary"
   ]
  },
  {
   "cell_type": "code",
   "execution_count": 20,
   "metadata": {
    "collapsed": false
   },
   "outputs": [],
   "source": [
    "df['is_male'] = df['driver_gender'].apply(lambda x: 1 if x == 'M' else 0)"
   ]
  },
  {
   "cell_type": "markdown",
   "metadata": {},
   "source": [
    "## Fix violations"
   ]
  },
  {
   "cell_type": "code",
   "execution_count": 24,
   "metadata": {
    "collapsed": false
   },
   "outputs": [
    {
     "name": "stdout",
     "output_type": "stream",
     "text": [
      "bad_stop\n",
      "cell_phone\n",
      "display_of_plates\n",
      "equipment\n",
      "license\n",
      "lights\n",
      "moving_violation\n",
      "other\n",
      "registration\n",
      "safe_movement\n",
      "seatbelt\n",
      "speeding\n",
      "suspended_license\n",
      "traffic_control_signal\n",
      "window_tint\n"
     ]
    },
    {
     "data": {
      "text/plain": [
       "['violation_bad_stop',\n",
       " 'violation_cell_phone',\n",
       " 'violation_display_of_plates',\n",
       " 'violation_equipment',\n",
       " 'violation_license',\n",
       " 'violation_lights',\n",
       " 'violation_moving_violation',\n",
       " 'violation_other',\n",
       " 'violation_registration',\n",
       " 'violation_safe_movement',\n",
       " 'violation_seatbelt',\n",
       " 'violation_speeding',\n",
       " 'violation_suspended_license',\n",
       " 'violation_traffic_control_signal',\n",
       " 'violation_window_tint']"
      ]
     },
     "execution_count": 24,
     "metadata": {},
     "output_type": "execute_result"
    }
   ],
   "source": [
    "def fix_violation(violation):\n",
    "    if violation == 'defective lights':\n",
    "        return 'lights'\n",
    "    elif violation == 'equipment violation':\n",
    "        return 'equipment'\n",
    "    elif violation == 'other/error':\n",
    "        return 'other'\n",
    "    elif violation == 'registration/plates':\n",
    "        return 'registration'\n",
    "    elif violation == 'seat belt':\n",
    "        return 'seatbelt'\n",
    "    elif violation == 'speed related':\n",
    "        return 'speeding'\n",
    "    elif violation == 'stop sign/light' or violation == 'stop sign':\n",
    "        return 'bad_stop'\n",
    "    return violation.replace(' ', '_')\n",
    "\n",
    "\n",
    "violations = []\n",
    "\n",
    "for violation in list(df.violation.unique()) + list(df.violation_raw.unique()):\n",
    "    tokens = violation.lower().split(',')\n",
    "    violations.extend([fix_violation(token) for token in tokens])\n",
    "\n",
    "# print(sorted(set(violations)))\n",
    "\n",
    "# violations_raw = []\n",
    "# for violation in df.violation_raw.unique():\n",
    "#     tokens = violation.lower().split(',')\n",
    "#     violations_raw.extend(tokens)\n",
    "\n",
    "# # print(sorted(set(violations_raw)))\n",
    "\n",
    "# for v in sorted(set(violations + violations_raw)):\n",
    "violations = sorted(set(violations))\n",
    "for v in violations:\n",
    "    print(v)\n",
    "\n",
    "# all_vs = list(df.violation.unique()) + list(df.violation_raw.unique())\n",
    "# all_vs\n",
    "\n",
    "# df.index\n",
    "def get_merged(violations):\n",
    "    merged = []\n",
    "    tokens = violations.lower().split(',')\n",
    "    return list(set([fix_violation(violation) for violation in tokens]))\n",
    "    \n",
    "merged = df[['violation_raw', 'violation']].apply(lambda x: ','.join(x), axis=1).apply(get_merged)\n",
    "merged\n",
    "\n",
    "violation_col_headers = ['violation_{}'.format(violation.replace(' ', '_')) for violation in violations]\n",
    "violation_col_headers"
   ]
  },
  {
   "cell_type": "code",
   "execution_count": 25,
   "metadata": {
    "collapsed": true
   },
   "outputs": [],
   "source": [
    "def onehot_encode_violations(arr_violations):\n",
    "    row = np.zeros(len(violations))\n",
    "    for v in arr_violations:\n",
    "        row[violations.index(v)] = 1\n",
    "    return row\n",
    "\n",
    "df_violations = merged.apply(onehot_encode_violations).apply(lambda x: pd.Series(x, dtype=int))\n",
    "df_violations.columns = violation_col_headers\n"
   ]
  },
  {
   "cell_type": "code",
   "execution_count": 27,
   "metadata": {
    "collapsed": false,
    "deletable": true,
    "editable": true
   },
   "outputs": [
    {
     "data": {
      "text/plain": [
       "violation_bad_stop                    7104\n",
       "violation_cell_phone                 20017\n",
       "violation_display_of_plates           5769\n",
       "violation_equipment                   2958\n",
       "violation_license                     2934\n",
       "violation_lights                     12107\n",
       "violation_moving_violation           27928\n",
       "violation_other                      87411\n",
       "violation_registration               37577\n",
       "violation_safe_movement               5010\n",
       "violation_seatbelt                   12093\n",
       "violation_speeding                  100616\n",
       "violation_suspended_license           2934\n",
       "violation_traffic_control_signal      5010\n",
       "violation_window_tint                 2262\n",
       "dtype: int64"
      ]
     },
     "execution_count": 27,
     "metadata": {},
     "output_type": "execute_result"
    }
   ],
   "source": [
    "df_violations.sum()"
   ]
  },
  {
   "cell_type": "markdown",
   "metadata": {},
   "source": [
    "## Drop empty or unnecessary columns"
   ]
  },
  {
   "cell_type": "code",
   "execution_count": 21,
   "metadata": {
    "collapsed": true
   },
   "outputs": [],
   "source": [
    "# Rationale for dropping certain columns\n",
    "#\n",
    "# - id: Not needed\n",
    "# - state: All values are \"CT\"\n",
    "# - stop_date: Converted to season\n",
    "# - stop_time: Binned to day_period above\n",
    "# - location_raw`:  Gives specific city values, but this may be too granular.  county_name specifies a wider area that should\n",
    "#                    encompass sufficient demographics to draw insights\n",
    "# - county_fips: Repetitive with county_name.\n",
    "# - fine_grained_location: Too specific.  county_name should be sufficient.\n",
    "# - police_department:  All values are \"State police\"\n",
    "# - search_type_raw and search_type: Very few values and doesn't provide insight for what we're seeking to answer\n",
    "# - driver_gender: one-hot encoded to is_male\n",
    "# - driver_age: repetitive as driver_age_raw provides same info, plus this column has some missing values\n",
    "# - driver_race_raw: repetitive with driver_race\n",
    "# - officer_id: There are many officers.  It might be more insightful to find out whether there is a systemic issue at the\n",
    "#               organization level rather than individual\n",
    "# - is_arrested: repetitive as stop_outcome has \"Arrest\" value\n",
    "# - violation_raw and violation: No longer needed since values have been normalized and one-hot encoded\n",
    "cols_to_drop = ['id', 'state', 'stop_date', 'stop_time', 'location_raw', 'county_fips', 'fine_grained_location',\n",
    "                'police_department', 'search_type_raw', 'search_type', 'driver_gender', 'driver_age', 'driver_race_raw',\n",
    "                'officer_id', 'is_arrested', 'violation_raw', 'violation']\n",
    "df = df.drop(cols_to_drop, axis=1)"
   ]
  },
  {
   "cell_type": "markdown",
   "metadata": {},
   "source": [
    "## Drop empty `stop_outcome` rows"
   ]
  },
  {
   "cell_type": "code",
   "execution_count": 23,
   "metadata": {
    "collapsed": true
   },
   "outputs": [],
   "source": [
    "# Remove rows with empty values in specific fields\n",
    "df = df.dropna(subset=['stop_outcome'], axis=0)"
   ]
  },
  {
   "cell_type": "markdown",
   "metadata": {},
   "source": [
    "## Data Distributions"
   ]
  },
  {
   "cell_type": "code",
   "execution_count": 22,
   "metadata": {
    "collapsed": false,
    "deletable": true,
    "editable": true
   },
   "outputs": [
    {
     "data": {
      "text/plain": [
       "<matplotlib.axes._subplots.AxesSubplot at 0x1a845511b00>"
      ]
     },
     "execution_count": 22,
     "metadata": {},
     "output_type": "execute_result"
    },
    {
     "data": {
      "image/png": "[encoded data removed]",
      "text/plain": [
       "<matplotlib.figure.Figure at 0x1a848900940>"
      ]
     },
     "metadata": {},
     "output_type": "display_data"
    }
   ],
   "source": [
    "df['stop_outcome'].value_counts().plot('bar')"
   ]
  },
  {
   "cell_type": "code",
   "execution_count": null,
   "metadata": {
    "collapsed": true
   },
   "outputs": [],
   "source": []
  }
 ],
 "metadata": {
  "anaconda-cloud": {},
  "kernelspec": {
   "display_name": "Python 3",
   "language": "python",
   "name": "python3"
  },
  "language_info": {
   "codemirror_mode": {
    "name": "ipython",
    "version": 3
   },
   "file_extension": ".py",
   "mimetype": "text/x-python",
   "name": "python",
   "nbconvert_exporter": "python",
   "pygments_lexer": "ipython3",
   "version": "3.5.3"
  }
 },
 "nbformat": 4,
 "nbformat_minor": 2
}
