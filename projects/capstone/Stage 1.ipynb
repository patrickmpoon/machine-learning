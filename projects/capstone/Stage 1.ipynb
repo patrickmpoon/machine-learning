{
 "cells": [
  {
   "cell_type": "markdown",
   "metadata": {},
   "source": [
    "# Stage 1\n",
    "\n",
    "- has **`location_raw`**: False\n",
    "- vars one-hot encoded: True\n",
    "- var label-encoded: False\n",
    "- oversampled: False"
   ]
  },
  {
   "cell_type": "code",
   "execution_count": 1,
   "metadata": {
    "ExecuteTime": {
     "end_time": "2018-05-21T02:21:25.173823Z",
     "start_time": "2018-05-21T02:21:24.670979Z"
    },
    "collapsed": true
   },
   "outputs": [],
   "source": [
    "import pickle\n",
    "\n",
    "import humanize\n",
    "import numpy as np\n",
    "import pandas as pd\n",
    "from datetime import datetime\n",
    "from sklearn.ensemble import RandomForestClassifier, GradientBoostingClassifier\n",
    "from sklearn.externals.joblib import parallel_backend\n",
    "from sklearn.metrics import accuracy_score, confusion_matrix, precision_recall_fscore_support\n",
    "from sklearn.model_selection import train_test_split\n",
    "\n",
    "\n",
    "%matplotlib inline\n",
    "%load_ext autoreload"
   ]
  },
  {
   "cell_type": "code",
   "execution_count": 2,
   "metadata": {
    "ExecuteTime": {
     "end_time": "2018-05-21T02:21:25.225801Z",
     "start_time": "2018-05-21T02:21:25.174710Z"
    }
   },
   "outputs": [
    {
     "name": "stdout",
     "output_type": "stream",
     "text": [
      "Row counts:\n",
      "\ttrain: 250131\n",
      "\ttest: 62533\n"
     ]
    }
   ],
   "source": [
    "X_train = pickle.load(open('./data/stage6-train.pkl', 'rb'))\n",
    "y_train = X_train.pop('stop_outcome')\n",
    "X_test = pickle.load(open('./data/stage6-test.pkl', 'rb'))\n",
    "y_test = X_test.pop('stop_outcome')\n",
    "\n",
    "print('Row counts:\\n\\ttrain: {}\\n\\ttest: {}'.format(X_train.shape[0], X_test.shape[0]))\n"
   ]
  },
  {
   "cell_type": "code",
   "execution_count": 3,
   "metadata": {
    "ExecuteTime": {
     "end_time": "2018-05-21T02:21:25.229123Z",
     "start_time": "2018-05-21T02:21:25.226541Z"
    },
    "collapsed": true
   },
   "outputs": [],
   "source": [
    "# Split the 'features' and 'labels' data into training and testing sets\n",
    "# X_train, X_test, y_train, y_test = train_test_split(features,\n",
    "#                                                     labels, \n",
    "#                                                     test_size=0.2, \n",
    "#                                                     random_state=0)\n",
    "# final_test_features = pickle.load(open('./data/final_test_set.pkl', 'rb'))\n",
    "# final_test_outcomes = final_test_features.pop('stop_outcome')\n",
    "# print('Final test set row count: {}'.format(final_test_features.shape[0]))\n",
    "\n",
    "# X_train = features\n",
    "# y_train = labels\n",
    "# X_test = final_test_features\n",
    "# y_test = final_test_outcomes"
   ]
  },
  {
   "cell_type": "markdown",
   "metadata": {},
   "source": [
    "# Benchmark"
   ]
  },
  {
   "cell_type": "code",
   "execution_count": 4,
   "metadata": {
    "ExecuteTime": {
     "end_time": "2018-05-21T02:21:25.246834Z",
     "start_time": "2018-05-21T02:21:25.229962Z"
    }
   },
   "outputs": [
    {
     "data": {
      "text/plain": [
       "0.69125101946172418"
      ]
     },
     "execution_count": 4,
     "metadata": {},
     "output_type": "execute_result"
    }
   ],
   "source": [
    "predictions = [2]\n",
    "accuracy_score(y_test, predictions * y_test.shape[0])"
   ]
  },
  {
   "cell_type": "markdown",
   "metadata": {},
   "source": [
    "# Simple Linear Classifier"
   ]
  },
  {
   "cell_type": "code",
   "execution_count": 5,
   "metadata": {
    "ExecuteTime": {
     "end_time": "2018-05-21T02:21:26.050068Z",
     "start_time": "2018-05-21T02:21:25.247670Z"
    }
   },
   "outputs": [
    {
     "name": "stderr",
     "output_type": "stream",
     "text": [
      "/home/pato/anaconda2/envs/py36/lib/python3.6/site-packages/sklearn/linear_model/stochastic_gradient.py:128: FutureWarning: max_iter and tol parameters have been added in <class 'sklearn.linear_model.stochastic_gradient.SGDClassifier'> in 0.19. If both are left unset, they default to max_iter=5 and tol=None. If tol is not None, max_iter defaults to max_iter=1000. From 0.21, default max_iter will be 1000, and default tol will be 1e-3.\n",
      "  \"and default tol will be 1e-3.\" % type(self), FutureWarning)\n"
     ]
    },
    {
     "data": {
      "text/plain": [
       "0.69374570226920185"
      ]
     },
     "execution_count": 5,
     "metadata": {},
     "output_type": "execute_result"
    }
   ],
   "source": [
    "from sklearn import linear_model\n",
    "\n",
    "clf_sgd = linear_model.SGDClassifier()\n",
    "clf_sgd.fit(X_train, y_train)\n",
    "clf_sgd.score(X_test, y_test)"
   ]
  },
  {
   "cell_type": "markdown",
   "metadata": {},
   "source": [
    "# VotingClassifier"
   ]
  },
  {
   "cell_type": "code",
   "execution_count": 6,
   "metadata": {
    "ExecuteTime": {
     "end_time": "2018-05-21T02:21:27.497937Z",
     "start_time": "2018-05-21T02:21:26.050811Z"
    }
   },
   "outputs": [
    {
     "name": "stdout",
     "output_type": "stream",
     "text": [
      "eclf score: 0.5561703420593926\n"
     ]
    }
   ],
   "source": [
    "from sklearn.linear_model import LogisticRegression\n",
    "from sklearn.naive_bayes import GaussianNB\n",
    "from sklearn.ensemble import RandomForestClassifier, GradientBoostingClassifier, VotingClassifier\n",
    "from sklearn.tree import DecisionTreeClassifier\n",
    "\n",
    "# clf1 = RandomForestClassifier(n_jobs=8, verbose=3, random_state=0)\n",
    "clf2 = GaussianNB()\n",
    "clf3 = DecisionTreeClassifier(random_state=0)\n",
    "# clf4 = GradientBoostingClassifier(verbose=3, random_state=0)\n",
    "\n",
    "eclf = VotingClassifier(estimators=[\n",
    "#                                     ('rf', clf1),\n",
    "                                    ('gnb', clf2),\n",
    "                                    ('dt', clf3),\n",
    "#                                     ('gb', clf4)\n",
    "                                   ], voting='soft')\n",
    "eclf = eclf.fit(X_train, y_train)\n",
    "print('eclf score: {}'.format(eclf.score(X_test, y_test)))"
   ]
  },
  {
   "cell_type": "code",
   "execution_count": 7,
   "metadata": {
    "ExecuteTime": {
     "end_time": "2018-05-21T02:21:27.501418Z",
     "start_time": "2018-05-21T02:21:27.498819Z"
    }
   },
   "outputs": [
    {
     "data": {
      "text/plain": [
       "[GaussianNB(priors=None),\n",
       " DecisionTreeClassifier(class_weight=None, criterion='gini', max_depth=None,\n",
       "             max_features=None, max_leaf_nodes=None,\n",
       "             min_impurity_decrease=0.0, min_impurity_split=None,\n",
       "             min_samples_leaf=1, min_samples_split=2,\n",
       "             min_weight_fraction_leaf=0.0, presort=False, random_state=0,\n",
       "             splitter='best')]"
      ]
     },
     "execution_count": 7,
     "metadata": {},
     "output_type": "execute_result"
    }
   ],
   "source": [
    "eclf.estimators_"
   ]
  },
  {
   "cell_type": "markdown",
   "metadata": {
    "collapsed": true
   },
   "source": [
    "# RandomForestClassifier"
   ]
  },
  {
   "cell_type": "code",
   "execution_count": 8,
   "metadata": {
    "ExecuteTime": {
     "end_time": "2018-05-21T02:21:28.559745Z",
     "start_time": "2018-05-21T02:21:27.502277Z"
    }
   },
   "outputs": [
    {
     "name": "stdout",
     "output_type": "stream",
     "text": [
      "building tree 2 of 10\n",
      "building tree 3 of 10building tree 5 of 10building tree 6 of 10building tree 1 of 10building tree 7 of 10building tree 4 of 10\n",
      "\n",
      "\n",
      "\n",
      "\n",
      "\n",
      "building tree 8 of 10\n",
      "building tree 9 of 10\n",
      "building tree 10 of 10\n"
     ]
    },
    {
     "name": "stderr",
     "output_type": "stream",
     "text": [
      "[Parallel(n_jobs=8)]: Done   3 out of  10 | elapsed:    0.6s remaining:    1.3s\n",
      "[Parallel(n_jobs=8)]: Done   7 out of  10 | elapsed:    0.6s remaining:    0.3s\n"
     ]
    },
    {
     "name": "stdout",
     "output_type": "stream",
     "text": [
      "0.6995186541506084\n"
     ]
    },
    {
     "name": "stderr",
     "output_type": "stream",
     "text": [
      "[Parallel(n_jobs=8)]: Done  10 out of  10 | elapsed:    0.8s finished\n",
      "[Parallel(n_jobs=8)]: Done   3 out of  10 | elapsed:    0.0s remaining:    0.1s\n",
      "[Parallel(n_jobs=8)]: Done   7 out of  10 | elapsed:    0.0s remaining:    0.0s\n",
      "[Parallel(n_jobs=8)]: Done  10 out of  10 | elapsed:    0.1s finished\n"
     ]
    }
   ],
   "source": [
    "rfc = RandomForestClassifier(n_jobs=8, verbose=3, random_state=0)\n",
    "rfc.fit(X_train, y_train)\n",
    "print('{}'.format(rfc.score(X_test, y_test)))"
   ]
  },
  {
   "cell_type": "markdown",
   "metadata": {
    "collapsed": true
   },
   "source": [
    "# GradientBoostingClassifier"
   ]
  },
  {
   "cell_type": "code",
   "execution_count": 9,
   "metadata": {
    "ExecuteTime": {
     "end_time": "2018-05-21T02:22:52.127614Z",
     "start_time": "2018-05-21T02:21:28.561956Z"
    }
   },
   "outputs": [
    {
     "name": "stdout",
     "output_type": "stream",
     "text": [
      "0.7199718548606335\n"
     ]
    }
   ],
   "source": [
    "gbc = GradientBoostingClassifier(random_state=0)\n",
    "gbc.fit(X_train, y_train)\n",
    "print('{}'.format(gbc.score(X_test, y_test)))"
   ]
  },
  {
   "cell_type": "markdown",
   "metadata": {},
   "source": [
    "## GradientBoostingClassifier (Tuned)\n"
   ]
  },
  {
   "cell_type": "code",
   "execution_count": 10,
   "metadata": {
    "ExecuteTime": {
     "end_time": "2018-05-21T02:27:06.405032Z",
     "start_time": "2018-05-21T02:22:52.128366Z"
    },
    "scrolled": false
   },
   "outputs": [
    {
     "name": "stdout",
     "output_type": "stream",
     "text": [
      "      Iter       Train Loss      OOB Improve   Remaining Time \n",
      "         1      275431.5227        2403.6603            3.96m\n",
      "         2      258564.9943        1880.8472            3.90m\n",
      "         3      244993.9534        1488.8967            3.85m\n",
      "         4      233980.4180        1236.2195            3.80m\n",
      "         5      224674.9008        1017.5219            3.79m\n",
      "         6      217231.6770         797.8777            3.74m\n",
      "         7      210869.0884         700.8846            3.72m\n",
      "         8      205708.7714         542.1076            3.69m\n",
      "         9      201339.8812         473.1935            3.65m\n",
      "        10      197804.2383         407.9366            3.62m\n",
      "        11      194474.7335         343.5645            3.59m\n",
      "        12      191923.0222         277.6174            3.57m\n",
      "        13      189387.3880         262.7271            3.56m\n",
      "        14      187102.1279         222.3698            3.53m\n",
      "        15      185623.9048         174.1965            3.49m\n",
      "        16      184011.5171         192.1765            3.47m\n",
      "        17      182091.2562         160.9236            3.45m\n",
      "        18      180904.1341         142.1580            3.42m\n",
      "        19      179583.4295         123.3887            3.39m\n",
      "        20      178441.3133          88.0277            3.36m\n",
      "        21      177751.2355          98.5832            3.32m\n",
      "        22      176410.2783         104.6385            3.29m\n",
      "        23      175783.5107          78.4347            3.26m\n",
      "        24      175030.1382          73.5928            3.23m\n",
      "        25      174442.6066          55.1563            3.19m\n",
      "        26      173510.2888          69.3276            3.15m\n",
      "        27      172989.5715          42.4712            3.11m\n",
      "        28      172412.6392          45.1071            3.07m\n",
      "        29      172160.0363          36.9927            3.02m\n",
      "        30      171605.8953          40.8250            2.98m\n",
      "        31      171198.8980          52.1090            2.95m\n",
      "        32      170342.5811          31.5239            2.91m\n",
      "        33      170169.6182          25.0846            2.86m\n",
      "        34      170018.4574          27.3903            2.82m\n",
      "        35      169521.1959          25.2872            2.78m\n",
      "        36      169306.7043          18.6744            2.74m\n",
      "        37      168916.3229          29.4423            2.70m\n",
      "        38      168859.0201          18.1769            2.65m\n",
      "        39      168414.9546          24.2501            2.62m\n",
      "        40      167975.8998          32.7198            2.58m\n",
      "        41      167955.5051          10.4743            2.53m\n",
      "        42      167629.4217          24.8460            2.49m\n",
      "        43      167229.6001          17.7204            2.44m\n",
      "        44      166862.6388           5.8416            2.39m\n",
      "        45      166793.0564          21.4925            2.35m\n",
      "        46      166478.4483          17.1205            2.31m\n",
      "        47      166283.3355           8.8753            2.27m\n",
      "        48      165991.3595          18.6326            2.23m\n",
      "        49      165794.9823           6.9515            2.18m\n",
      "        50      165705.9073           9.4370            2.14m\n",
      "        51      165242.0906           8.9864            2.10m\n",
      "        52      165226.9648           6.4852            2.05m\n",
      "        53      165190.8393          10.2172            2.01m\n",
      "        54      164908.3346           4.7847            1.97m\n",
      "        55      164793.0775           5.8334            1.92m\n",
      "        56      164540.3495          13.2289            1.88m\n",
      "        57      164405.5799          11.9873            1.84m\n",
      "        58      164240.8045           8.9303            1.79m\n",
      "        59      164322.2595           2.4120            1.75m\n",
      "        60      164072.0169           2.4742            1.71m\n",
      "        61      163696.6067           4.2711            1.66m\n",
      "        62      163439.6339           7.6416            1.62m\n",
      "        63      163531.7262           2.1430            1.57m\n",
      "        64      163265.2430           6.1264            1.53m\n",
      "        65      163283.4389           3.8979            1.49m\n",
      "        66      162798.3514          11.7303            1.45m\n",
      "        67      162927.3983           2.6236            1.40m\n",
      "        68      162863.2915           1.5652            1.36m\n",
      "        69      162438.0716           8.8708            1.32m\n",
      "        70      162563.9175           5.3716            1.27m\n",
      "        71      162378.4534           3.9662            1.23m\n",
      "        72      162055.5916           5.4657            1.19m\n",
      "        73      161919.5627           2.0015            1.15m\n",
      "        74      161800.7030           1.5968            1.11m\n",
      "        75      161773.8169           3.9552            1.06m\n",
      "        76      161588.0081           2.8062            1.02m\n",
      "        77      161453.8561          -1.0992           58.73s\n",
      "        78      161303.2072           0.7261           56.09s\n",
      "        79      161035.7216           0.5848           53.57s\n",
      "        80      160954.1239          -0.0718           50.99s\n",
      "        81      161223.5011           0.5333           48.43s\n",
      "        82      161044.9437          -0.1138           45.81s\n",
      "        83      160901.4013           4.2652           43.24s\n",
      "        84      160314.9794           2.7802           40.78s\n",
      "        85      160296.4874           3.0870           38.20s\n",
      "        86      160380.4927          -0.8254           35.64s\n",
      "        87      160698.3482          -1.4133           33.04s\n",
      "        88      160202.7134          -4.0237           30.49s\n",
      "        89      160160.0141          -0.4720           27.94s\n",
      "        90      159978.1114          -2.1516           25.38s\n",
      "        91      159934.0405           2.7746           22.83s\n",
      "        92      160089.5116           0.2831           20.29s\n",
      "        93      159836.6305           1.9328           17.76s\n",
      "        94      159704.5933           0.7639           15.23s\n",
      "        95      159523.9784           2.1969           12.70s\n",
      "        96      159653.2638           0.4927           10.15s\n",
      "        97      159323.7060           0.3989            7.61s\n",
      "        98      159433.7323           0.0726            5.07s\n",
      "        99      159216.1648          -0.2475            2.54s\n",
      "       100      159265.4838           0.7390            0.00s\n",
      "0.727327970831401\n"
     ]
    }
   ],
   "source": [
    "gbc_tuned = GradientBoostingClassifier(\n",
    "    learning_rate=0.0983,\n",
    "    max_depth=6,\n",
    "#     max_depth=9,\n",
    "    max_features=len(list(X_train.columns.values)),\n",
    "    subsample=0.9,\n",
    "    verbose=3,\n",
    "    random_state=0,\n",
    ")\n",
    "gbc_tuned.fit(X_train, y_train)\n",
    "print('{}'.format(gbc_tuned.score(X_test, y_test)))"
   ]
  },
  {
   "cell_type": "code",
   "execution_count": 11,
   "metadata": {
    "ExecuteTime": {
     "end_time": "2018-05-21T02:27:07.017645Z",
     "start_time": "2018-05-21T02:27:06.405818Z"
    }
   },
   "outputs": [
    {
     "data": {
      "text/html": [
       "<div>\n",
       "<style scoped>\n",
       "    .dataframe tbody tr th:only-of-type {\n",
       "        vertical-align: middle;\n",
       "    }\n",
       "\n",
       "    .dataframe tbody tr th {\n",
       "        vertical-align: top;\n",
       "    }\n",
       "\n",
       "    .dataframe thead th {\n",
       "        text-align: right;\n",
       "    }\n",
       "</style>\n",
       "<table border=\"1\" class=\"dataframe\">\n",
       "  <thead>\n",
       "    <tr style=\"text-align: right;\">\n",
       "      <th></th>\n",
       "      <th>Arrest</th>\n",
       "      <th>Summons</th>\n",
       "      <th>Ticket</th>\n",
       "      <th>Verbal Warning</th>\n",
       "      <th>Written Warning</th>\n",
       "    </tr>\n",
       "  </thead>\n",
       "  <tbody>\n",
       "    <tr>\n",
       "      <th>Arrest</th>\n",
       "      <td>520</td>\n",
       "      <td>122</td>\n",
       "      <td>700</td>\n",
       "      <td>55</td>\n",
       "      <td>9</td>\n",
       "    </tr>\n",
       "    <tr>\n",
       "      <th>Summons</th>\n",
       "      <td>182</td>\n",
       "      <td>665</td>\n",
       "      <td>1714</td>\n",
       "      <td>78</td>\n",
       "      <td>18</td>\n",
       "    </tr>\n",
       "    <tr>\n",
       "      <th>Ticket</th>\n",
       "      <td>294</td>\n",
       "      <td>193</td>\n",
       "      <td>41004</td>\n",
       "      <td>1411</td>\n",
       "      <td>324</td>\n",
       "    </tr>\n",
       "    <tr>\n",
       "      <th>Verbal Warning</th>\n",
       "      <td>22</td>\n",
       "      <td>37</td>\n",
       "      <td>5892</td>\n",
       "      <td>2552</td>\n",
       "      <td>240</td>\n",
       "    </tr>\n",
       "    <tr>\n",
       "      <th>Written Warning</th>\n",
       "      <td>23</td>\n",
       "      <td>11</td>\n",
       "      <td>4421</td>\n",
       "      <td>1305</td>\n",
       "      <td>741</td>\n",
       "    </tr>\n",
       "  </tbody>\n",
       "</table>\n",
       "</div>"
      ],
      "text/plain": [
       "                 Arrest  Summons  Ticket  Verbal Warning  Written Warning\n",
       "Arrest              520      122     700              55                9\n",
       "Summons             182      665    1714              78               18\n",
       "Ticket              294      193   41004            1411              324\n",
       "Verbal Warning       22       37    5892            2552              240\n",
       "Written Warning      23       11    4421            1305              741"
      ]
     },
     "execution_count": 11,
     "metadata": {},
     "output_type": "execute_result"
    }
   ],
   "source": [
    "headers = ['Arrest', 'Summons', 'Ticket', 'Verbal Warning', 'Written Warning']\n",
    "cm = pd.DataFrame(data=confusion_matrix(y_test, gbc_tuned.predict(X_test)), columns=headers, index=headers)\n",
    "cm"
   ]
  },
  {
   "cell_type": "code",
   "execution_count": 12,
   "metadata": {
    "ExecuteTime": {
     "end_time": "2018-05-21T02:27:07.562474Z",
     "start_time": "2018-05-21T02:27:07.018381Z"
    }
   },
   "outputs": [
    {
     "data": {
      "text/plain": [
       "(array([ 0.49951969,  0.64688716,  0.76313488,  0.47250509,  0.55630631]),\n",
       " array([ 0.36984353,  0.25028227,  0.94859575,  0.29189066,  0.11398246]),\n",
       " array([ 0.42501022,  0.36092266,  0.84581825,  0.36085973,  0.18919954]),\n",
       " array([ 1406,  2657, 43226,  8743,  6501]))"
      ]
     },
     "execution_count": 12,
     "metadata": {},
     "output_type": "execute_result"
    }
   ],
   "source": [
    "precision_recall_fscore_support(y_test, gbc_tuned.predict(X_test), average=None)"
   ]
  },
  {
   "cell_type": "code",
   "execution_count": 13,
   "metadata": {
    "ExecuteTime": {
     "end_time": "2018-05-21T02:27:08.110627Z",
     "start_time": "2018-05-21T02:27:07.563244Z"
    }
   },
   "outputs": [
    {
     "data": {
      "text/plain": [
       "(0.72732797083140099, 0.72732797083140099, 0.72732797083140099, None)"
      ]
     },
     "execution_count": 13,
     "metadata": {},
     "output_type": "execute_result"
    }
   ],
   "source": [
    "precision_recall_fscore_support(y_test, gbc_tuned.predict(X_test), average='micro')"
   ]
  },
  {
   "cell_type": "code",
   "execution_count": 14,
   "metadata": {
    "ExecuteTime": {
     "end_time": "2018-05-21T02:27:08.661616Z",
     "start_time": "2018-05-21T02:27:08.111592Z"
    }
   },
   "outputs": [
    {
     "data": {
      "text/plain": [
       "(0.5876706251352537, 0.39491893463056255, 0.43636207885233008, None)"
      ]
     },
     "execution_count": 14,
     "metadata": {},
     "output_type": "execute_result"
    }
   ],
   "source": [
    "precision_recall_fscore_support(y_test, gbc_tuned.predict(X_test), average='macro')"
   ]
  },
  {
   "cell_type": "code",
   "execution_count": 15,
   "metadata": {
    "ExecuteTime": {
     "end_time": "2018-05-21T02:27:08.957797Z",
     "start_time": "2018-05-21T02:27:08.662390Z"
    }
   },
   "outputs": [
    {
     "data": {
      "image/png": "[encoded data removed]",
      "text/plain": [
       "<matplotlib.figure.Figure at 0x7fd4a5536710>"
      ]
     },
     "metadata": {},
     "output_type": "display_data"
    }
   ],
   "source": [
    "gbc_tuned_df = pd.DataFrame(data=gbc_tuned.feature_importances_, index=X_train.columns.values)\n",
    "gbc_tuned_plot = gbc_tuned_df.sort_values(by=0).plot.barh(figsize=(15, 10), fontsize=14)\n",
    "gbc_tuned_plot.axes.legend().set_visible(False)"
   ]
  }
 ],
 "metadata": {
  "anaconda-cloud": {},
  "hide_input": false,
  "kernelspec": {
   "display_name": "Python 3",
   "language": "python",
   "name": "python3"
  },
  "language_info": {
   "codemirror_mode": {
    "name": "ipython",
    "version": 3
   },
   "file_extension": ".py",
   "mimetype": "text/x-python",
   "name": "python",
   "nbconvert_exporter": "python",
   "pygments_lexer": "ipython3",
   "version": "3.6.1"
  },
  "toc": {
   "base_numbering": 1,
   "nav_menu": {},
   "number_sections": true,
   "sideBar": true,
   "skip_h1_title": false,
   "title_cell": "Table of Contents",
   "title_sidebar": "Contents",
   "toc_cell": false,
   "toc_position": {},
   "toc_section_display": true,
   "toc_window_display": false
  },
  "varInspector": {
   "cols": {
    "lenName": 16,
    "lenType": 16,
    "lenVar": 40
   },
   "kernels_config": {
    "python": {
     "delete_cmd_postfix": "",
     "delete_cmd_prefix": "del ",
     "library": "var_list.py",
     "varRefreshCmd": "print(var_dic_list())"
    },
    "r": {
     "delete_cmd_postfix": ") ",
     "delete_cmd_prefix": "rm(",
     "library": "var_list.r",
     "varRefreshCmd": "cat(var_dic_list()) "
    }
   },
   "types_to_exclude": [
    "module",
    "function",
    "builtin_function_or_method",
    "instance",
    "_Feature"
   ],
   "window_display": false
  }
 },
 "nbformat": 4,
 "nbformat_minor": 2
}
