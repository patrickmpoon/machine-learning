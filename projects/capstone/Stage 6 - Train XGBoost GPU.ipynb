{
 "cells": [
  {
   "cell_type": "markdown",
   "metadata": {},
   "source": [
    "# Stage 6: Train XGBoost (GPU)"
   ]
  },
  {
   "cell_type": "code",
   "execution_count": 1,
   "metadata": {
    "ExecuteTime": {
     "end_time": "2018-05-20T22:56:11.338305Z",
     "start_time": "2018-05-20T22:56:10.196930Z"
    },
    "collapsed": true
   },
   "outputs": [],
   "source": [
    "from datetime import datetime\n",
    "import pickle\n",
    "\n",
    "from sklearn.ensemble import RandomForestClassifier, GradientBoostingClassifier, VotingClassifier\n",
    "from sklearn.linear_model import LogisticRegression\n",
    "from sklearn.model_selection import RandomizedSearchCV, train_test_split\n",
    "from sklearn.naive_bayes import GaussianNB\n",
    "from sklearn.preprocessing import LabelEncoder\n",
    "from sklearn.tree import DecisionTreeClassifier\n",
    "import humanize\n",
    "import numpy as np\n",
    "import pandas as pd\n",
    "import xgboost as xgb\n",
    "\n",
    "from xgboost import XGBClassifier\n",
    "from sklearn.model_selection import GridSearchCV\n",
    "from sklearn.model_selection import StratifiedKFold\n",
    "from matplotlib import pyplot\n",
    "\n",
    "%matplotlib inline\n",
    "%load_ext autoreload"
   ]
  },
  {
   "cell_type": "code",
   "execution_count": 2,
   "metadata": {
    "ExecuteTime": {
     "end_time": "2018-05-20T22:56:11.395113Z",
     "start_time": "2018-05-20T22:56:11.339077Z"
    }
   },
   "outputs": [
    {
     "name": "stdout",
     "output_type": "stream",
     "text": [
      "Row counts:\n",
      "\ttrain: 250247\n",
      "\ttest: 62562\n"
     ]
    }
   ],
   "source": [
    "encoder = LabelEncoder()\n",
    "\n",
    "# features = pickle.load(open('./data/stage4-l_encoded-oversampled.pkl', 'rb'))\n",
    "# labels = encoder.fit_transform(features.pop('stop_outcome'))\n",
    "\n",
    "X_train = pickle.load(open('./data/stage6-train.pkl', 'rb'))\n",
    "# y_train = encoder.fit_transform(X_train.pop('stop_outcome'))\n",
    "y_train = X_train.pop('stop_outcome')\n",
    "X_test = pickle.load(open('./data/stage6-test.pkl', 'rb'))\n",
    "# y_test = encoder.fit_transform(X_test.pop('stop_outcome'))\n",
    "y_test = X_test.pop('stop_outcome')\n",
    "\n",
    "print('Row counts:\\n\\ttrain: {}\\n\\ttest: {}'.format(X_train.shape[0], X_test.shape[0]))\n"
   ]
  },
  {
   "cell_type": "code",
   "execution_count": 3,
   "metadata": {
    "ExecuteTime": {
     "end_time": "2018-05-20T22:56:11.398189Z",
     "start_time": "2018-05-20T22:56:11.395867Z"
    },
    "collapsed": true
   },
   "outputs": [],
   "source": [
    "# Take out 5% of data for final final testing; shuffle first\n",
    "# lop_off_pct = .20\n",
    "# lop_off_idx = round(features.shape[0] * lop_off_pct)\n",
    "# print('lop_off_idx = {}'.format(lop_off_idx))\n",
    "\n",
    "# final_test_features = features[:lop_off_idx]\n",
    "# final_test_outcomes = labels[:lop_off_idx]\n",
    "\n",
    "# features = features[lop_off_idx:]\n",
    "# labels = labels[lop_off_idx:]"
   ]
  },
  {
   "cell_type": "code",
   "execution_count": 4,
   "metadata": {
    "ExecuteTime": {
     "end_time": "2018-05-20T22:56:11.402214Z",
     "start_time": "2018-05-20T22:56:11.398984Z"
    },
    "collapsed": true
   },
   "outputs": [],
   "source": [
    "# Take out 5% of data for final final testing; shuffle first\n",
    "# final_test_features = pickle.load(open('./data/final_test_set.pkl', 'rb'))\n",
    "# final_test_outcomes = encoder.fit_transform(final_test_features.pop('stop_outcome'))\n",
    "# print('Final test set row count: {}'.format(final_test_features.shape[0]))"
   ]
  },
  {
   "cell_type": "code",
   "execution_count": 5,
   "metadata": {
    "ExecuteTime": {
     "end_time": "2018-05-20T22:56:11.406766Z",
     "start_time": "2018-05-20T22:56:11.403426Z"
    },
    "collapsed": true
   },
   "outputs": [],
   "source": [
    "# Split the 'features' and 'labels' data into training and testing sets\n",
    "# X_train, X_test, y_train, y_test = train_test_split(features,\n",
    "#                                                     labels, \n",
    "#                                                     test_size=0.2, \n",
    "#                                                     random_state=0)\n",
    "# X_train = features\n",
    "# y_train = labels\n",
    "# X_test = final_test_features\n",
    "# y_test = final_test_outcomes\n"
   ]
  },
  {
   "cell_type": "code",
   "execution_count": 6,
   "metadata": {
    "ExecuteTime": {
     "end_time": "2018-05-20T22:56:11.487137Z",
     "start_time": "2018-05-20T22:56:11.407644Z"
    },
    "collapsed": true
   },
   "outputs": [],
   "source": [
    "xg_train = xgb.DMatrix(X_train.values, label=y_train)\n",
    "xg_test = xgb.DMatrix(X_test.values, label=y_test)\n",
    "# xg_test_2 = xgb.DMatrix(final_test_features.values, label=final_test_outcomes)"
   ]
  },
  {
   "cell_type": "markdown",
   "metadata": {},
   "source": [
    "## Non-tuned hyperparameters"
   ]
  },
  {
   "cell_type": "code",
   "execution_count": 7,
   "metadata": {
    "ExecuteTime": {
     "end_time": "2018-05-20T22:56:11.491471Z",
     "start_time": "2018-05-20T22:56:11.488038Z"
    },
    "collapsed": true
   },
   "outputs": [],
   "source": [
    "params = {\n",
    "    'objective': 'multi:softmax',\n",
    "#     'learning_rate': 0.0983,\n",
    "#     'max_depth': 19,\n",
    "    'num_class': 6,\n",
    "    'silent': 0,\n",
    "    'nthread': 8,\n",
    "    'tree_method': 'gpu_hist',\n",
    "#     'subsample': 0.9,\n",
    "}\n"
   ]
  },
  {
   "cell_type": "code",
   "execution_count": 8,
   "metadata": {
    "ExecuteTime": {
     "end_time": "2018-05-20T22:56:24.639543Z",
     "start_time": "2018-05-20T22:56:11.492552Z"
    }
   },
   "outputs": [
    {
     "name": "stdout",
     "output_type": "stream",
     "text": [
      "[0]\ttrain-merror:0.272039\ttest-merror:0.279467\n",
      "Multiple eval metrics have been passed: 'test-merror' will be used for early stopping.\n",
      "\n",
      "Will train until test-merror hasn't improved in 50 rounds.\n",
      "[1]\ttrain-merror:0.271979\ttest-merror:0.283511\n",
      "[2]\ttrain-merror:0.271843\ttest-merror:0.282152\n",
      "[3]\ttrain-merror:0.271624\ttest-merror:0.282456\n",
      "[4]\ttrain-merror:0.271532\ttest-merror:0.281721\n",
      "[5]\ttrain-merror:0.271044\ttest-merror:0.281577\n",
      "[6]\ttrain-merror:0.270545\ttest-merror:0.280266\n",
      "[7]\ttrain-merror:0.270269\ttest-merror:0.280186\n",
      "[8]\ttrain-merror:0.269102\ttest-merror:0.279307\n",
      "[9]\ttrain-merror:0.268683\ttest-merror:0.279003\n",
      "[10]\ttrain-merror:0.267879\ttest-merror:0.278508\n",
      "[11]\ttrain-merror:0.267224\ttest-merror:0.277772\n",
      "[12]\ttrain-merror:0.266681\ttest-merror:0.277437\n",
      "[13]\ttrain-merror:0.265945\ttest-merror:0.277021\n",
      "[14]\ttrain-merror:0.26543\ttest-merror:0.277053\n",
      "[15]\ttrain-merror:0.264171\ttest-merror:0.276622\n",
      "[16]\ttrain-merror:0.263612\ttest-merror:0.276318\n",
      "[17]\ttrain-merror:0.263096\ttest-merror:0.276126\n",
      "[18]\ttrain-merror:0.262545\ttest-merror:0.275599\n",
      "[19]\ttrain-merror:0.261685\ttest-merror:0.275407\n",
      "[20]\ttrain-merror:0.261218\ttest-merror:0.275774\n",
      "[21]\ttrain-merror:0.260834\ttest-merror:0.275806\n",
      "[22]\ttrain-merror:0.260734\ttest-merror:0.27571\n",
      "[23]\ttrain-merror:0.260127\ttest-merror:0.27464\n",
      "[24]\ttrain-merror:0.25934\ttest-merror:0.274656\n",
      "[25]\ttrain-merror:0.259076\ttest-merror:0.274544\n",
      "[26]\ttrain-merror:0.258628\ttest-merror:0.274879\n",
      "[27]\ttrain-merror:0.258185\ttest-merror:0.275007\n",
      "[28]\ttrain-merror:0.257669\ttest-merror:0.27464\n",
      "[29]\ttrain-merror:0.257366\ttest-merror:0.27392\n",
      "[30]\ttrain-merror:0.256774\ttest-merror:0.273936\n",
      "[31]\ttrain-merror:0.256371\ttest-merror:0.273888\n",
      "[32]\ttrain-merror:0.256003\ttest-merror:0.273824\n",
      "[33]\ttrain-merror:0.255444\ttest-merror:0.273569\n",
      "[34]\ttrain-merror:0.255116\ttest-merror:0.273553\n",
      "[35]\ttrain-merror:0.254604\ttest-merror:0.273345\n",
      "[36]\ttrain-merror:0.254321\ttest-merror:0.273089\n",
      "[37]\ttrain-merror:0.253889\ttest-merror:0.272817\n",
      "[38]\ttrain-merror:0.253538\ttest-merror:0.272769\n",
      "[39]\ttrain-merror:0.253234\ttest-merror:0.272578\n",
      "[40]\ttrain-merror:0.252898\ttest-merror:0.272769\n",
      "[41]\ttrain-merror:0.25273\ttest-merror:0.272833\n",
      "[42]\ttrain-merror:0.252459\ttest-merror:0.272498\n",
      "[43]\ttrain-merror:0.252239\ttest-merror:0.272658\n",
      "[44]\ttrain-merror:0.251823\ttest-merror:0.272546\n",
      "[45]\ttrain-merror:0.251535\ttest-merror:0.272626\n",
      "[46]\ttrain-merror:0.2512\ttest-merror:0.272721\n",
      "[47]\ttrain-merror:0.250904\ttest-merror:0.272737\n",
      "[48]\ttrain-merror:0.250664\ttest-merror:0.272689\n",
      "[49]\ttrain-merror:0.250477\ttest-merror:0.272689\n",
      "[50]\ttrain-merror:0.250197\ttest-merror:0.272466\n",
      "[51]\ttrain-merror:0.249929\ttest-merror:0.272402\n",
      "[52]\ttrain-merror:0.249757\ttest-merror:0.272498\n",
      "[53]\ttrain-merror:0.249493\ttest-merror:0.272146\n",
      "[54]\ttrain-merror:0.249258\ttest-merror:0.272018\n",
      "[55]\ttrain-merror:0.24907\ttest-merror:0.271794\n",
      "[56]\ttrain-merror:0.248878\ttest-merror:0.271794\n",
      "[57]\ttrain-merror:0.248606\ttest-merror:0.272034\n",
      "[58]\ttrain-merror:0.248463\ttest-merror:0.272162\n",
      "[59]\ttrain-merror:0.248283\ttest-merror:0.27253\n",
      "[60]\ttrain-merror:0.248059\ttest-merror:0.27253\n",
      "[61]\ttrain-merror:0.247739\ttest-merror:0.27253\n",
      "[62]\ttrain-merror:0.247663\ttest-merror:0.272658\n",
      "[63]\ttrain-merror:0.247328\ttest-merror:0.272546\n",
      "[64]\ttrain-merror:0.247196\ttest-merror:0.272674\n",
      "[65]\ttrain-merror:0.247072\ttest-merror:0.272785\n",
      "[66]\ttrain-merror:0.246956\ttest-merror:0.272737\n",
      "[67]\ttrain-merror:0.246596\ttest-merror:0.272514\n",
      "[68]\ttrain-merror:0.246409\ttest-merror:0.272562\n",
      "[69]\ttrain-merror:0.246257\ttest-merror:0.272578\n",
      "[70]\ttrain-merror:0.246197\ttest-merror:0.272642\n",
      "[71]\ttrain-merror:0.245957\ttest-merror:0.272642\n",
      "[72]\ttrain-merror:0.245669\ttest-merror:0.272562\n",
      "[73]\ttrain-merror:0.245398\ttest-merror:0.272466\n",
      "[74]\ttrain-merror:0.245234\ttest-merror:0.272642\n",
      "[75]\ttrain-merror:0.24519\ttest-merror:0.272721\n",
      "[76]\ttrain-merror:0.244986\ttest-merror:0.272705\n",
      "[77]\ttrain-merror:0.244762\ttest-merror:0.272721\n",
      "[78]\ttrain-merror:0.244626\ttest-merror:0.272705\n",
      "[79]\ttrain-merror:0.24449\ttest-merror:0.272594\n",
      "[80]\ttrain-merror:0.244195\ttest-merror:0.272817\n",
      "[81]\ttrain-merror:0.243999\ttest-merror:0.273009\n",
      "[82]\ttrain-merror:0.243907\ttest-merror:0.273089\n",
      "[83]\ttrain-merror:0.243567\ttest-merror:0.273137\n",
      "[84]\ttrain-merror:0.243479\ttest-merror:0.272913\n",
      "[85]\ttrain-merror:0.243439\ttest-merror:0.272865\n",
      "[86]\ttrain-merror:0.2433\ttest-merror:0.273025\n",
      "[87]\ttrain-merror:0.243064\ttest-merror:0.273153\n",
      "[88]\ttrain-merror:0.242908\ttest-merror:0.273121\n",
      "[89]\ttrain-merror:0.24272\ttest-merror:0.273169\n",
      "[90]\ttrain-merror:0.242508\ttest-merror:0.273201\n",
      "[91]\ttrain-merror:0.242341\ttest-merror:0.273329\n",
      "[92]\ttrain-merror:0.242221\ttest-merror:0.273473\n",
      "[93]\ttrain-merror:0.242109\ttest-merror:0.273473\n",
      "[94]\ttrain-merror:0.241997\ttest-merror:0.273345\n",
      "[95]\ttrain-merror:0.241717\ttest-merror:0.273265\n",
      "[96]\ttrain-merror:0.241577\ttest-merror:0.273377\n",
      "[97]\ttrain-merror:0.241314\ttest-merror:0.273537\n",
      "[98]\ttrain-merror:0.241082\ttest-merror:0.273601\n",
      "[99]\ttrain-merror:0.240934\ttest-merror:0.273537\n",
      "[100]\ttrain-merror:0.240806\ttest-merror:0.273585\n",
      "[101]\ttrain-merror:0.240646\ttest-merror:0.273633\n",
      "[102]\ttrain-merror:0.240303\ttest-merror:0.273872\n",
      "[103]\ttrain-merror:0.240239\ttest-merror:0.273776\n",
      "[104]\ttrain-merror:0.240159\ttest-merror:0.273872\n",
      "[105]\ttrain-merror:0.240067\ttest-merror:0.274064\n",
      "Stopping. Best iteration:\n",
      "[55]\ttrain-merror:0.24907\ttest-merror:0.271794\n",
      "\n"
     ]
    }
   ],
   "source": [
    "watchlist = [(xg_train, 'train'), (xg_test, 'test')]\n",
    "num_round = 10000\n",
    "# num_round = 5\n",
    "\n",
    "bst = xgb.train(params=params, dtrain=xg_train, num_boost_round=num_round, evals=watchlist, early_stopping_rounds=50)\n",
    "# bst = xgb.train(params=params, dtrain=xg_train, num_boost_round=num_round, evals=watchlist)"
   ]
  },
  {
   "cell_type": "code",
   "execution_count": 9,
   "metadata": {
    "ExecuteTime": {
     "end_time": "2018-05-20T22:56:25.160161Z",
     "start_time": "2018-05-20T22:56:24.640662Z"
    },
    "collapsed": true
   },
   "outputs": [],
   "source": [
    "pickle.dump(bst, open('runs/bst-nontuned.pkl', 'wb'))"
   ]
  },
  {
   "cell_type": "markdown",
   "metadata": {},
   "source": [
    "## Tuned hyperparameters"
   ]
  },
  {
   "cell_type": "code",
   "execution_count": 10,
   "metadata": {
    "ExecuteTime": {
     "end_time": "2018-05-20T22:56:25.184897Z",
     "start_time": "2018-05-20T22:56:25.161681Z"
    },
    "collapsed": true
   },
   "outputs": [],
   "source": [
    "params = {\n",
    "    'objective': 'multi:softmax',\n",
    "    'learning_rate': 0.0983,\n",
    "    'max_depth': 19,\n",
    "    'silent': 0,\n",
    "    'nthread': 8,\n",
    "#     'num_class': 45,\n",
    "#     'predictor': 'gpu_predictor',\n",
    "#     'max_bin': 512,\n",
    "    'tree_method': 'gpu_hist',\n",
    "#     'alpha': 0.8,\n",
    "#     'gamma': 10.0,\n",
    "    'subsample': 0.9,\n",
    "#     'lambda': 0.9,,\n",
    "#     'colsample_bytree': 0.9,\n",
    "#     'colsample_bylevel': 0.3,\n",
    "#     'scale_pos_weight': 0.1,\n",
    "#     'updater': 'grow_histmaker,refresh,prune',\n",
    "#     'grow_policy': 'lossguide',\n",
    "#     'max_leaves': 20000,\n",
    "#     'max_bin': 1024,\n",
    "#     'base_score': 1.0,\n",
    "#     'eval_metric': 'merror',\n",
    "#     'max_delta_step': 8,\n",
    "}\n",
    "\n",
    "params['num_class'] = len(list(X_train.columns.values))\n",
    "\n",
    "# model = XGBClassifier(xgb_params)\n",
    "# num_rounds = 3\n",
    "# model = xgb.train(xgb_params, xg_train, num_rounds)\n",
    "\n",
    "# n_estimators = [500, 1500, 2500]\n",
    "# max_depth = [5, 12, 19]\n",
    "# n_estimators = [5, 10]\n",
    "# max_depth = [2]\n",
    "\n",
    "# param_grid = {\n",
    "#     'n_estimators': n_estimators,\n",
    "#     'max_depth': max_depth,\n",
    "# }\n",
    "# kfold = StratifiedKFold(n_splits=10, shuffle=True, random_state=0)"
   ]
  },
  {
   "cell_type": "code",
   "execution_count": 11,
   "metadata": {
    "ExecuteTime": {
     "end_time": "2018-05-20T23:01:22.392538Z",
     "start_time": "2018-05-20T22:56:25.186399Z"
    },
    "scrolled": false
   },
   "outputs": [
    {
     "name": "stdout",
     "output_type": "stream",
     "text": [
      "[0]\ttrain-merror:0.255663\ttest-merror:0.277069\n",
      "Multiple eval metrics have been passed: 'test-merror' will be used for early stopping.\n",
      "\n",
      "Will train until test-merror hasn't improved in 150 rounds.\n",
      "[1]\ttrain-merror:0.248558\ttest-merror:0.276174\n",
      "[2]\ttrain-merror:0.241469\ttest-merror:0.275519\n",
      "[3]\ttrain-merror:0.235395\ttest-merror:0.275471\n",
      "[4]\ttrain-merror:0.230077\ttest-merror:0.275455\n",
      "[5]\ttrain-merror:0.224878\ttest-merror:0.275407\n",
      "[6]\ttrain-merror:0.219959\ttest-merror:0.274911\n",
      "[7]\ttrain-merror:0.2147\ttest-merror:0.275327\n",
      "[8]\ttrain-merror:0.21064\ttest-merror:0.275055\n",
      "[9]\ttrain-merror:0.206148\ttest-merror:0.275375\n",
      "[10]\ttrain-merror:0.202092\ttest-merror:0.275455\n",
      "[11]\ttrain-merror:0.19788\ttest-merror:0.276046\n",
      "[12]\ttrain-merror:0.194264\ttest-merror:0.275822\n",
      "[13]\ttrain-merror:0.191035\ttest-merror:0.27587\n",
      "[14]\ttrain-merror:0.187735\ttest-merror:0.276046\n",
      "[15]\ttrain-merror:0.18441\ttest-merror:0.276046\n",
      "[16]\ttrain-merror:0.181309\ttest-merror:0.276382\n",
      "[17]\ttrain-merror:0.177844\ttest-merror:0.276526\n",
      "[18]\ttrain-merror:0.174324\ttest-merror:0.276414\n",
      "[19]\ttrain-merror:0.171239\ttest-merror:0.275726\n",
      "[20]\ttrain-merror:0.16759\ttest-merror:0.276174\n",
      "[21]\ttrain-merror:0.164178\ttest-merror:0.276606\n",
      "[22]\ttrain-merror:0.160865\ttest-merror:0.27643\n",
      "[23]\ttrain-merror:0.157452\ttest-merror:0.276749\n",
      "[24]\ttrain-merror:0.154164\ttest-merror:0.276893\n",
      "[25]\ttrain-merror:0.150755\ttest-merror:0.277117\n",
      "[26]\ttrain-merror:0.147414\ttest-merror:0.277325\n",
      "[27]\ttrain-merror:0.144261\ttest-merror:0.277229\n",
      "[28]\ttrain-merror:0.141228\ttest-merror:0.277261\n",
      "[29]\ttrain-merror:0.138207\ttest-merror:0.277437\n",
      "[30]\ttrain-merror:0.134967\ttest-merror:0.277245\n",
      "[31]\ttrain-merror:0.131978\ttest-merror:0.277613\n",
      "[32]\ttrain-merror:0.128825\ttest-merror:0.278236\n",
      "[33]\ttrain-merror:0.125656\ttest-merror:0.27806\n",
      "[34]\ttrain-merror:0.122507\ttest-merror:0.278284\n",
      "[35]\ttrain-merror:0.11951\ttest-merror:0.278795\n",
      "[36]\ttrain-merror:0.116385\ttest-merror:0.278731\n",
      "[37]\ttrain-merror:0.113468\ttest-merror:0.278859\n",
      "[38]\ttrain-merror:0.110627\ttest-merror:0.279131\n",
      "[39]\ttrain-merror:0.107254\ttest-merror:0.279323\n",
      "[40]\ttrain-merror:0.104305\ttest-merror:0.279627\n",
      "[41]\ttrain-merror:0.101368\ttest-merror:0.279483\n",
      "[42]\ttrain-merror:0.098455\ttest-merror:0.279451\n",
      "[43]\ttrain-merror:0.09547\ttest-merror:0.279547\n",
      "[44]\ttrain-merror:0.092597\ttest-merror:0.279738\n",
      "[45]\ttrain-merror:0.089647\ttest-merror:0.279914\n",
      "[46]\ttrain-merror:0.08719\ttest-merror:0.279962\n",
      "[47]\ttrain-merror:0.084377\ttest-merror:0.279962\n",
      "[48]\ttrain-merror:0.081392\ttest-merror:0.280058\n",
      "[49]\ttrain-merror:0.078734\ttest-merror:0.280474\n",
      "[50]\ttrain-merror:0.076161\ttest-merror:0.28073\n",
      "[51]\ttrain-merror:0.073587\ttest-merror:0.280809\n",
      "[52]\ttrain-merror:0.070862\ttest-merror:0.280841\n",
      "[53]\ttrain-merror:0.068352\ttest-merror:0.280714\n",
      "[54]\ttrain-merror:0.065599\ttest-merror:0.280793\n",
      "[55]\ttrain-merror:0.063497\ttest-merror:0.28065\n",
      "[56]\ttrain-merror:0.061\ttest-merror:0.280985\n",
      "[57]\ttrain-merror:0.058354\ttest-merror:0.280921\n",
      "[58]\ttrain-merror:0.056017\ttest-merror:0.280682\n",
      "[59]\ttrain-merror:0.053971\ttest-merror:0.280969\n",
      "[60]\ttrain-merror:0.051821\ttest-merror:0.280953\n",
      "[61]\ttrain-merror:0.049751\ttest-merror:0.281385\n",
      "[62]\ttrain-merror:0.04812\ttest-merror:0.281337\n",
      "[63]\ttrain-merror:0.046566\ttest-merror:0.281305\n",
      "[64]\ttrain-merror:0.04504\ttest-merror:0.281193\n",
      "[65]\ttrain-merror:0.043273\ttest-merror:0.281257\n",
      "[66]\ttrain-merror:0.041503\ttest-merror:0.281385\n",
      "[67]\ttrain-merror:0.040192\ttest-merror:0.281449\n",
      "[68]\ttrain-merror:0.038806\ttest-merror:0.2818\n",
      "[69]\ttrain-merror:0.037387\ttest-merror:0.281625\n",
      "[70]\ttrain-merror:0.035753\ttest-merror:0.281832\n",
      "[71]\ttrain-merror:0.034198\ttest-merror:0.281705\n",
      "[72]\ttrain-merror:0.03276\ttest-merror:0.281417\n",
      "[73]\ttrain-merror:0.031661\ttest-merror:0.281689\n",
      "[74]\ttrain-merror:0.030602\ttest-merror:0.28196\n",
      "[75]\ttrain-merror:0.029471\ttest-merror:0.281816\n",
      "[76]\ttrain-merror:0.02836\ttest-merror:0.282104\n",
      "[77]\ttrain-merror:0.027485\ttest-merror:0.282104\n",
      "[78]\ttrain-merror:0.026342\ttest-merror:0.282104\n",
      "[79]\ttrain-merror:0.025411\ttest-merror:0.282152\n",
      "[80]\ttrain-merror:0.024688\ttest-merror:0.282344\n",
      "[81]\ttrain-merror:0.02412\ttest-merror:0.282791\n",
      "[82]\ttrain-merror:0.023437\ttest-merror:0.282632\n",
      "[83]\ttrain-merror:0.022634\ttest-merror:0.28236\n",
      "[84]\ttrain-merror:0.022122\ttest-merror:0.2822\n",
      "[85]\ttrain-merror:0.021247\ttest-merror:0.282328\n",
      "[86]\ttrain-merror:0.020748\ttest-merror:0.28228\n",
      "[87]\ttrain-merror:0.020004\ttest-merror:0.282232\n",
      "[88]\ttrain-merror:0.019325\ttest-merror:0.28244\n",
      "[89]\ttrain-merror:0.018526\ttest-merror:0.282344\n",
      "[90]\ttrain-merror:0.017986\ttest-merror:0.282312\n",
      "[91]\ttrain-merror:0.017371\ttest-merror:0.282248\n",
      "[92]\ttrain-merror:0.016883\ttest-merror:0.282536\n",
      "[93]\ttrain-merror:0.01654\ttest-merror:0.282728\n",
      "[94]\ttrain-merror:0.016212\ttest-merror:0.282424\n",
      "[95]\ttrain-merror:0.015688\ttest-merror:0.282696\n",
      "[96]\ttrain-merror:0.015141\ttest-merror:0.282791\n",
      "[97]\ttrain-merror:0.014626\ttest-merror:0.283287\n",
      "[98]\ttrain-merror:0.014098\ttest-merror:0.283431\n",
      "[99]\ttrain-merror:0.013531\ttest-merror:0.283287\n",
      "[100]\ttrain-merror:0.013263\ttest-merror:0.283015\n",
      "[101]\ttrain-merror:0.012819\ttest-merror:0.282903\n",
      "[102]\ttrain-merror:0.012216\ttest-merror:0.283095\n",
      "[103]\ttrain-merror:0.011948\ttest-merror:0.283271\n",
      "[104]\ttrain-merror:0.011481\ttest-merror:0.283447\n",
      "[105]\ttrain-merror:0.011065\ttest-merror:0.283383\n",
      "[106]\ttrain-merror:0.010785\ttest-merror:0.283495\n",
      "[107]\ttrain-merror:0.010382\ttest-merror:0.283735\n",
      "[108]\ttrain-merror:0.00991\ttest-merror:0.283655\n",
      "[109]\ttrain-merror:0.009459\ttest-merror:0.283447\n",
      "[110]\ttrain-merror:0.009211\ttest-merror:0.283495\n",
      "[111]\ttrain-merror:0.008871\ttest-merror:0.283319\n",
      "[112]\ttrain-merror:0.008695\ttest-merror:0.283495\n",
      "[113]\ttrain-merror:0.008384\ttest-merror:0.283127\n",
      "[114]\ttrain-merror:0.008072\ttest-merror:0.283255\n",
      "[115]\ttrain-merror:0.00774\ttest-merror:0.282791\n",
      "[116]\ttrain-merror:0.007521\ttest-merror:0.283047\n",
      "[117]\ttrain-merror:0.007321\ttest-merror:0.283399\n",
      "[118]\ttrain-merror:0.007169\ttest-merror:0.283287\n",
      "[119]\ttrain-merror:0.006945\ttest-merror:0.283399\n",
      "[120]\ttrain-merror:0.006621\ttest-merror:0.283671\n",
      "[121]\ttrain-merror:0.006438\ttest-merror:0.283639\n",
      "[122]\ttrain-merror:0.006174\ttest-merror:0.283543\n",
      "[123]\ttrain-merror:0.005998\ttest-merror:0.283447\n",
      "[124]\ttrain-merror:0.005814\ttest-merror:0.283559\n",
      "[125]\ttrain-merror:0.005598\ttest-merror:0.283751\n",
      "[126]\ttrain-merror:0.005379\ttest-merror:0.283575\n",
      "[127]\ttrain-merror:0.005279\ttest-merror:0.283351\n",
      "[128]\ttrain-merror:0.005015\ttest-merror:0.283846\n",
      "[129]\ttrain-merror:0.004899\ttest-merror:0.283926\n",
      "[130]\ttrain-merror:0.004767\ttest-merror:0.283607\n",
      "[131]\ttrain-merror:0.004655\ttest-merror:0.283671\n",
      "[132]\ttrain-merror:0.004591\ttest-merror:0.283479\n",
      "[133]\ttrain-merror:0.004424\ttest-merror:0.283511\n",
      "[134]\ttrain-merror:0.004324\ttest-merror:0.283319\n",
      "[135]\ttrain-merror:0.004196\ttest-merror:0.283383\n",
      "[136]\ttrain-merror:0.004124\ttest-merror:0.283383\n",
      "[137]\ttrain-merror:0.003992\ttest-merror:0.283399\n",
      "[138]\ttrain-merror:0.003856\ttest-merror:0.283591\n",
      "[139]\ttrain-merror:0.003756\ttest-merror:0.283798\n",
      "[140]\ttrain-merror:0.003596\ttest-merror:0.284054\n",
      "[141]\ttrain-merror:0.003481\ttest-merror:0.283814\n",
      "[142]\ttrain-merror:0.003309\ttest-merror:0.28391\n",
      "[143]\ttrain-merror:0.003177\ttest-merror:0.283751\n",
      "[144]\ttrain-merror:0.003093\ttest-merror:0.283607\n",
      "[145]\ttrain-merror:0.002973\ttest-merror:0.283814\n",
      "[146]\ttrain-merror:0.002925\ttest-merror:0.28383\n",
      "[147]\ttrain-merror:0.002801\ttest-merror:0.283926\n",
      "[148]\ttrain-merror:0.002773\ttest-merror:0.283942\n",
      "[149]\ttrain-merror:0.002693\ttest-merror:0.284198\n",
      "[150]\ttrain-merror:0.002637\ttest-merror:0.283942\n",
      "[151]\ttrain-merror:0.002565\ttest-merror:0.28415\n",
      "[152]\ttrain-merror:0.002537\ttest-merror:0.284022\n",
      "[153]\ttrain-merror:0.002438\ttest-merror:0.284006\n",
      "[154]\ttrain-merror:0.002366\ttest-merror:0.28407\n",
      "[155]\ttrain-merror:0.002298\ttest-merror:0.28415\n",
      "[156]\ttrain-merror:0.00225\ttest-merror:0.284214\n",
      "Stopping. Best iteration:\n",
      "[6]\ttrain-merror:0.219959\ttest-merror:0.274911\n",
      "\n"
     ]
    }
   ],
   "source": [
    "watchlist = [(xg_train, 'train'), (xg_test, 'test')]\n",
    "num_round = 10000\n",
    "# num_round = 5\n",
    "\n",
    "bst = xgb.train(params=params, dtrain=xg_train, num_boost_round=num_round, evals=watchlist, early_stopping_rounds=150)\n",
    "# bst = xgb.train(params=params, dtrain=xg_train, num_boost_round=num_round, evals=watchlist)"
   ]
  },
  {
   "cell_type": "code",
   "execution_count": 12,
   "metadata": {
    "ExecuteTime": {
     "end_time": "2018-05-20T23:01:23.461210Z",
     "start_time": "2018-05-20T23:01:22.393960Z"
    },
    "collapsed": true
   },
   "outputs": [],
   "source": [
    "pickle.dump(bst, open('runs/bst-tuned.pkl', 'wb'))"
   ]
  },
  {
   "cell_type": "code",
   "execution_count": 13,
   "metadata": {
    "ExecuteTime": {
     "end_time": "2018-05-20T23:01:23.475852Z",
     "start_time": "2018-05-20T23:01:23.461955Z"
    },
    "collapsed": true
   },
   "outputs": [],
   "source": [
    "pred = bst.predict(xg_test)"
   ]
  },
  {
   "cell_type": "code",
   "execution_count": 14,
   "metadata": {
    "ExecuteTime": {
     "end_time": "2018-05-20T23:01:23.481844Z",
     "start_time": "2018-05-20T23:01:23.476817Z"
    }
   },
   "outputs": [
    {
     "name": "stdout",
     "output_type": "stream",
     "text": [
      "Test error = 0.2842140596528244\n"
     ]
    }
   ],
   "source": [
    "error_rate = np.sum(pred != y_test) / y_test.shape[0]\n",
    "print('Test error = {}'.format(error_rate))"
   ]
  },
  {
   "cell_type": "code",
   "execution_count": 15,
   "metadata": {
    "ExecuteTime": {
     "end_time": "2018-05-20T23:01:30.295495Z",
     "start_time": "2018-05-20T23:01:23.485101Z"
    }
   },
   "outputs": [
    {
     "data": {
      "image/png": "[encoded data removed]",
      "text/plain": [
       "<matplotlib.figure.Figure at 0x7fef8bfdd400>"
      ]
     },
     "metadata": {},
     "output_type": "display_data"
    }
   ],
   "source": [
    "ax = xgb.plot_importance(bst)\n",
    "fig = ax.figure\n",
    "fig.set_size_inches(15, 10)"
   ]
  },
  {
   "cell_type": "code",
   "execution_count": 16,
   "metadata": {
    "ExecuteTime": {
     "end_time": "2018-05-20T23:01:30.300499Z",
     "start_time": "2018-05-20T23:01:30.296549Z"
    }
   },
   "outputs": [
    {
     "name": "stdout",
     "output_type": "stream",
     "text": [
      "0: location_raw\n",
      "1: county_name\n",
      "2: driver_gender\n",
      "3: driver_age_raw\n",
      "4: stop_duration\n",
      "5: hour\n",
      "6: minute\n",
      "7: month\n",
      "8: day\n",
      "9: violation_bad_stop\n",
      "10: violation_cell_phone\n",
      "11: violation_display_of_plates\n",
      "12: violation_equipment\n",
      "13: violation_license\n",
      "14: violation_lights\n",
      "15: violation_moving_violation\n",
      "16: violation_other\n",
      "17: violation_registration\n",
      "18: violation_safe_movement\n",
      "19: violation_seatbelt\n",
      "20: violation_speeding\n",
      "21: violation_suspended_license\n",
      "22: violation_traffic_control_signal\n",
      "23: violation_window_tint\n"
     ]
    }
   ],
   "source": [
    "for idx, c in enumerate(X_train.columns.values):\n",
    "    print('{}: {}'.format(idx, c))"
   ]
  },
  {
   "cell_type": "code",
   "execution_count": 17,
   "metadata": {
    "ExecuteTime": {
     "end_time": "2018-05-20T23:01:30.303246Z",
     "start_time": "2018-05-20T23:01:30.301347Z"
    },
    "collapsed": true
   },
   "outputs": [],
   "source": [
    "# pred_2 = bst.predict(xg_test_2)"
   ]
  },
  {
   "cell_type": "code",
   "execution_count": 18,
   "metadata": {
    "ExecuteTime": {
     "end_time": "2018-05-20T23:01:30.309221Z",
     "start_time": "2018-05-20T23:01:30.304104Z"
    },
    "collapsed": true
   },
   "outputs": [],
   "source": [
    "# error_rate = np.sum(pred_2 != encoder.fit_transform(final_test_outcomes)) / final_test_outcomes.shape[0]\n",
    "# print('Test error [test_2] = {}'.format(error_rate))"
   ]
  },
  {
   "cell_type": "markdown",
   "metadata": {},
   "source": [
    "### Plot results"
   ]
  },
  {
   "cell_type": "code",
   "execution_count": 19,
   "metadata": {
    "ExecuteTime": {
     "end_time": "2018-05-20T23:01:30.313363Z",
     "start_time": "2018-05-20T23:01:30.310082Z"
    },
    "collapsed": true
   },
   "outputs": [],
   "source": [
    "# error_results = {\n",
    "#     'train': [],\n",
    "#     'test': [],\n",
    "# }\n",
    "\n",
    "# with open('xgboost-447_run-201805100107.log', 'r') as f:\n",
    "#     for line in f:\n",
    "#         tokens = line.strip().split('\\t')\n",
    "#         error_results['train'].append(float(tokens[1].split(':')[1]))\n",
    "#         error_results['test'].append(float(tokens[2].split(':')[1]))\n",
    "\n",
    "# df_errors = pd.DataFrame(error_results)\n",
    "\n",
    "# learning_curve = df_errors.plot.line(title='Learning curve', figsize=(8,5))\n",
    "# learning_curve.set_xlabel('Number of runs')\n",
    "# learning_curve.set_ylabel('Error')"
   ]
  },
  {
   "cell_type": "code",
   "execution_count": 20,
   "metadata": {
    "ExecuteTime": {
     "end_time": "2018-05-20T23:01:30.317109Z",
     "start_time": "2018-05-20T23:01:30.314146Z"
    },
    "collapsed": true
   },
   "outputs": [],
   "source": [
    "# df_accuracy = df_errors.copy()\n",
    "# df_accuracy_processed = df_accuracy.mul(-1).add(1)\n",
    "\n",
    "# learning_curve = df_accuracy_processed.plot.line(title='Learning curve', figsize=(8,5))\n",
    "# learning_curve.set_xlabel('Number of runs')\n",
    "# learning_curve.set_ylabel('Accuracy')"
   ]
  },
  {
   "cell_type": "code",
   "execution_count": 21,
   "metadata": {
    "ExecuteTime": {
     "end_time": "2018-05-20T23:01:30.320866Z",
     "start_time": "2018-05-20T23:01:30.317914Z"
    },
    "collapsed": true
   },
   "outputs": [],
   "source": [
    "# final_model = final_features.copy(deep=True)\n",
    "# final_model['stop_outcome'] = outcomes\n",
    "# final_model.to_csv('runs/201805100107-0.062-error-final_model.csv')"
   ]
  },
  {
   "cell_type": "markdown",
   "metadata": {},
   "source": [
    "# History"
   ]
  },
  {
   "cell_type": "markdown",
   "metadata": {},
   "source": [
    "| Stage | Non-Tuned | Tuned Error |\n",
    "|:-----:|:------:|:------:|\n",
    "|   1   | | 0.4939 |\n",
    "|   2   | 0.2821 | 0.2967 |\n",
    "|   3   | 0.2821 | 0.2992 |\n",
    "|   4   |  | 0.3894 |\n"
   ]
  },
  {
   "cell_type": "code",
   "execution_count": null,
   "metadata": {
    "collapsed": true
   },
   "outputs": [],
   "source": []
  }
 ],
 "metadata": {
  "anaconda-cloud": {},
  "hide_input": false,
  "kernelspec": {
   "display_name": "Python 3",
   "language": "python",
   "name": "python3"
  },
  "language_info": {
   "codemirror_mode": {
    "name": "ipython",
    "version": 3
   },
   "file_extension": ".py",
   "mimetype": "text/x-python",
   "name": "python",
   "nbconvert_exporter": "python",
   "pygments_lexer": "ipython3",
   "version": "3.6.1"
  },
  "toc": {
   "base_numbering": 1,
   "nav_menu": {},
   "number_sections": true,
   "sideBar": true,
   "skip_h1_title": false,
   "title_cell": "Table of Contents",
   "title_sidebar": "Contents",
   "toc_cell": false,
   "toc_position": {},
   "toc_section_display": true,
   "toc_window_display": false
  },
  "varInspector": {
   "cols": {
    "lenName": 16,
    "lenType": 16,
    "lenVar": 40
   },
   "kernels_config": {
    "python": {
     "delete_cmd_postfix": "",
     "delete_cmd_prefix": "del ",
     "library": "var_list.py",
     "varRefreshCmd": "print(var_dic_list())"
    },
    "r": {
     "delete_cmd_postfix": ") ",
     "delete_cmd_prefix": "rm(",
     "library": "var_list.r",
     "varRefreshCmd": "cat(var_dic_list()) "
    }
   },
   "types_to_exclude": [
    "module",
    "function",
    "builtin_function_or_method",
    "instance",
    "_Feature"
   ],
   "window_display": false
  }
 },
 "nbformat": 4,
 "nbformat_minor": 2
}
