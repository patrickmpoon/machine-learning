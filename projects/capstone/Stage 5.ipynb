{
 "cells": [
  {
   "cell_type": "markdown",
   "metadata": {},
   "source": [
    "# Stage 5\n",
    "\n",
    "- has **`location_raw`**: False\n",
    "- vars one-hot encoded: True\n",
    "- var label-encoded: False\n",
    "- oversampled: False"
   ]
  },
  {
   "cell_type": "code",
   "execution_count": 1,
   "metadata": {
    "ExecuteTime": {
     "end_time": "2018-05-23T11:38:59.422508Z",
     "start_time": "2018-05-23T11:38:58.973895Z"
    },
    "collapsed": true
   },
   "outputs": [],
   "source": [
    "import pickle\n",
    "\n",
    "import humanize\n",
    "import numpy as np\n",
    "import pandas as pd\n",
    "from datetime import datetime\n",
    "from sklearn.ensemble import RandomForestClassifier, GradientBoostingClassifier\n",
    "from sklearn.externals.joblib import parallel_backend\n",
    "from sklearn.metrics import accuracy_score, confusion_matrix, precision_recall_fscore_support\n",
    "from sklearn.model_selection import train_test_split\n",
    "\n",
    "\n",
    "%matplotlib inline\n",
    "%load_ext autoreload"
   ]
  },
  {
   "cell_type": "code",
   "execution_count": 2,
   "metadata": {
    "ExecuteTime": {
     "end_time": "2018-05-23T11:38:59.479464Z",
     "start_time": "2018-05-23T11:38:59.423242Z"
    }
   },
   "outputs": [
    {
     "name": "stdout",
     "output_type": "stream",
     "text": [
      "Row counts:\n",
      "\ttrain: 248380\n",
      "\ttest: 62534\n"
     ]
    }
   ],
   "source": [
    "X_train = pickle.load(open('./data/stage5-train.pkl', 'rb'))\n",
    "y_train = X_train.pop('stop_outcome')\n",
    "X_test = pickle.load(open('./data/stage5-test.pkl', 'rb'))\n",
    "y_test = X_test.pop('stop_outcome')\n",
    "\n",
    "print('Row counts:\\n\\ttrain: {}\\n\\ttest: {}'.format(X_train.shape[0], X_test.shape[0]))\n"
   ]
  },
  {
   "cell_type": "markdown",
   "metadata": {},
   "source": [
    "# Classifiers"
   ]
  },
  {
   "cell_type": "code",
   "execution_count": 3,
   "metadata": {
    "ExecuteTime": {
     "end_time": "2018-05-23T11:38:59.523517Z",
     "start_time": "2018-05-23T11:38:59.480480Z"
    },
    "collapsed": true
   },
   "outputs": [],
   "source": [
    "from sklearn.ensemble import RandomForestClassifier, GradientBoostingClassifier\n",
    "from sklearn.linear_model import SGDClassifier\n",
    "from sklearn.naive_bayes import GaussianNB\n",
    "from sklearn.tree import DecisionTreeClassifier\n",
    "\n",
    "\n",
    "class Classifier(object):\n",
    "    def __init__(self, classifier):\n",
    "        self.clf = classifier\n",
    "        self.fitted = False\n",
    "        self.name = self.get_name(self.clf)\n",
    "        self.score_val = 0.0\n",
    "\n",
    "    def get_name(self, classifier):\n",
    "        return str(classifier.__class__).split('.')[-1].replace(\"'>\", \"\")\n",
    "        \n",
    "    def fit(self, X_train, y_train):\n",
    "        self.clf.fit(X_train, y_train)\n",
    "        self.fitted = True\n",
    "\n",
    "    def score(self, X_train, y_train):\n",
    "        if self.fitted:\n",
    "            print('Scoring...')\n",
    "            self.score_val = self.clf.score(X_train, y_train)\n",
    "            print(self.score_val)\n",
    "        else:\n",
    "            print('Please run the .fit() method first')\n",
    "\n",
    "        \n",
    "clf = {\n",
    "    'sgd': Classifier(SGDClassifier()),\n",
    "    'gnb': Classifier(GaussianNB()),\n",
    "    'dtc': Classifier(DecisionTreeClassifier(random_state=0)),\n",
    "    'rfc': Classifier(RandomForestClassifier(n_jobs=8, verbose=3, random_state=0)),\n",
    "    'gbc': Classifier(GradientBoostingClassifier(random_state=0)),\n",
    "    'gbc_tuned': Classifier(GradientBoostingClassifier(\n",
    "    #     learning_rate=0.0983,\n",
    "        max_depth=6,\n",
    "    #     max_features=len(list(X_train.columns.values)),\n",
    "        subsample=0.9,\n",
    "        verbose=3,\n",
    "        random_state=0,\n",
    "    )),\n",
    "}\n",
    "        \n",
    "    "
   ]
  },
  {
   "cell_type": "code",
   "execution_count": 4,
   "metadata": {
    "ExecuteTime": {
     "end_time": "2018-05-23T11:38:59.528524Z",
     "start_time": "2018-05-23T11:38:59.524400Z"
    },
    "collapsed": true
   },
   "outputs": [],
   "source": [
    "# Split the 'features' and 'labels' data into training and testing sets\n",
    "# X_train, X_test, y_train, y_test = train_test_split(features,\n",
    "#                                                     labels, \n",
    "#                                                     test_size=0.2, \n",
    "#                                                     random_state=0)\n",
    "# final_test_features = pickle.load(open('./data/final_test_set.pkl', 'rb'))\n",
    "# final_test_outcomes = final_test_features.pop('stop_outcome')\n",
    "# print('Final test set row count: {}'.format(final_test_features.shape[0]))\n",
    "\n",
    "# X_train = features\n",
    "# y_train = labels\n",
    "# X_test = final_test_features\n",
    "# y_test = final_test_outcomes"
   ]
  },
  {
   "cell_type": "markdown",
   "metadata": {},
   "source": [
    "# Benchmark"
   ]
  },
  {
   "cell_type": "code",
   "execution_count": 5,
   "metadata": {
    "ExecuteTime": {
     "end_time": "2018-05-23T11:38:59.552648Z",
     "start_time": "2018-05-23T11:38:59.529587Z"
    }
   },
   "outputs": [
    {
     "data": {
      "text/plain": [
       "0.69127194806025527"
      ]
     },
     "execution_count": 5,
     "metadata": {},
     "output_type": "execute_result"
    }
   ],
   "source": [
    "# LabelEncoded value for \"Ticket\" outcome is 2\n",
    "predictions = [2]\n",
    "accuracy_score(y_test, predictions * y_test.shape[0])"
   ]
  },
  {
   "cell_type": "markdown",
   "metadata": {},
   "source": [
    "# Simple Linear Classifier"
   ]
  },
  {
   "cell_type": "code",
   "execution_count": 6,
   "metadata": {
    "ExecuteTime": {
     "end_time": "2018-05-23T11:39:00.387317Z",
     "start_time": "2018-05-23T11:38:59.553698Z"
    }
   },
   "outputs": [
    {
     "name": "stderr",
     "output_type": "stream",
     "text": [
      "/home/pato/anaconda2/envs/py36/lib/python3.6/site-packages/sklearn/linear_model/stochastic_gradient.py:128: FutureWarning: max_iter and tol parameters have been added in <class 'sklearn.linear_model.stochastic_gradient.SGDClassifier'> in 0.19. If both are left unset, they default to max_iter=5 and tol=None. If tol is not None, max_iter defaults to max_iter=1000. From 0.21, default max_iter will be 1000, and default tol will be 1e-3.\n",
      "  \"and default tol will be 1e-3.\" % type(self), FutureWarning)\n"
     ]
    },
    {
     "name": "stdout",
     "output_type": "stream",
     "text": [
      "Scoring...\n",
      "0.694838008124\n"
     ]
    }
   ],
   "source": [
    "clf['sgd'].fit(X_train, y_train)\n",
    "clf['sgd'].score(X_test, y_test)"
   ]
  },
  {
   "cell_type": "markdown",
   "metadata": {
    "collapsed": true
   },
   "source": [
    "# GaussianNB"
   ]
  },
  {
   "cell_type": "code",
   "execution_count": 7,
   "metadata": {
    "ExecuteTime": {
     "end_time": "2018-05-23T11:39:00.561980Z",
     "start_time": "2018-05-23T11:39:00.388318Z"
    }
   },
   "outputs": [
    {
     "name": "stdout",
     "output_type": "stream",
     "text": [
      "Scoring...\n",
      "0.686522531743\n"
     ]
    }
   ],
   "source": [
    "clf['gnb'].fit(X_train, y_train)\n",
    "clf['gnb'].score(X_test, y_test)"
   ]
  },
  {
   "cell_type": "markdown",
   "metadata": {
    "collapsed": true
   },
   "source": [
    "# DecisionTreeClassifier"
   ]
  },
  {
   "cell_type": "code",
   "execution_count": 8,
   "metadata": {
    "ExecuteTime": {
     "end_time": "2018-05-23T11:39:01.978621Z",
     "start_time": "2018-05-23T11:39:00.563065Z"
    }
   },
   "outputs": [
    {
     "name": "stdout",
     "output_type": "stream",
     "text": [
      "Scoring...\n",
      "0.553123101033\n"
     ]
    }
   ],
   "source": [
    "clf['dtc'].fit(X_train, y_train)\n",
    "clf['dtc'].score(X_test, y_test)"
   ]
  },
  {
   "cell_type": "markdown",
   "metadata": {
    "collapsed": true
   },
   "source": [
    "# RandomForestClassifier"
   ]
  },
  {
   "cell_type": "code",
   "execution_count": 9,
   "metadata": {
    "ExecuteTime": {
     "end_time": "2018-05-23T11:39:03.254420Z",
     "start_time": "2018-05-23T11:39:01.980409Z"
    }
   },
   "outputs": [
    {
     "name": "stdout",
     "output_type": "stream",
     "text": [
      "building tree 4 of 10building tree 3 of 10building tree 5 of 10building tree 6 of 10building tree 7 of 10building tree 1 of 10building tree 8 of 10building tree 2 of 10\n",
      "\n",
      "\n",
      "\n",
      "\n",
      "\n",
      "\n",
      "\n",
      "building tree 9 of 10\n",
      "building tree 10 of 10\n"
     ]
    },
    {
     "name": "stderr",
     "output_type": "stream",
     "text": [
      "[Parallel(n_jobs=8)]: Done   3 out of  10 | elapsed:    0.6s remaining:    1.4s\n",
      "[Parallel(n_jobs=8)]: Done   7 out of  10 | elapsed:    0.7s remaining:    0.3s\n",
      "[Parallel(n_jobs=8)]: Done  10 out of  10 | elapsed:    0.9s finished\n",
      "[Parallel(n_jobs=8)]: Done   3 out of  10 | elapsed:    0.1s remaining:    0.3s\n"
     ]
    },
    {
     "name": "stdout",
     "output_type": "stream",
     "text": [
      "Scoring...\n",
      "0.69301499984\n"
     ]
    },
    {
     "name": "stderr",
     "output_type": "stream",
     "text": [
      "[Parallel(n_jobs=8)]: Done   7 out of  10 | elapsed:    0.1s remaining:    0.1s\n",
      "[Parallel(n_jobs=8)]: Done  10 out of  10 | elapsed:    0.1s finished\n"
     ]
    }
   ],
   "source": [
    "# rfc = RandomForestClassifier(n_jobs=8, verbose=3, random_state=0)\n",
    "clf['rfc'].fit(X_train, y_train)\n",
    "clf['rfc'].score(X_test, y_test)"
   ]
  },
  {
   "cell_type": "markdown",
   "metadata": {
    "collapsed": true
   },
   "source": [
    "# GradientBoostingClassifier"
   ]
  },
  {
   "cell_type": "code",
   "execution_count": 10,
   "metadata": {
    "ExecuteTime": {
     "end_time": "2018-05-23T11:40:47.459024Z",
     "start_time": "2018-05-23T11:39:03.255829Z"
    }
   },
   "outputs": [
    {
     "name": "stdout",
     "output_type": "stream",
     "text": [
      "Scoring...\n",
      "0.715450794768\n"
     ]
    }
   ],
   "source": [
    "# gbc = GradientBoostingClassifier(random_state=0)\n",
    "clf['gbc'].fit(X_train, y_train)\n",
    "clf['gbc'].score(X_test, y_test)"
   ]
  },
  {
   "cell_type": "markdown",
   "metadata": {},
   "source": [
    "## GradientBoostingClassifier (Tuned)\n"
   ]
  },
  {
   "cell_type": "code",
   "execution_count": 11,
   "metadata": {
    "ExecuteTime": {
     "end_time": "2018-05-23T11:45:50.786472Z",
     "start_time": "2018-05-23T11:40:47.460048Z"
    },
    "scrolled": true
   },
   "outputs": [
    {
     "name": "stdout",
     "output_type": "stream",
     "text": [
      "      Iter       Train Loss      OOB Improve   Remaining Time \n",
      "         1      273947.2154        2453.8955            4.87m\n",
      "         2      256796.5198        1865.0200            4.68m\n",
      "         3      243185.4063        1493.6829            4.56m\n",
      "         4      232246.6806        1192.7276            4.48m\n",
      "         5      223301.8579         978.9661            4.54m\n",
      "         6      215812.2861         810.9543            4.56m\n",
      "         7      209833.2831         654.0383            4.48m\n",
      "         8      204866.8404         550.7500            4.41m\n",
      "         9      200632.6290         467.3031            4.40m\n",
      "        10      197013.1422         389.4868            4.34m\n",
      "        11      194088.7384         327.3185            4.29m\n",
      "        12      190950.6517         321.6822            4.32m\n",
      "        13      188414.1771         257.3716            4.34m\n",
      "        14      186256.3078         217.0008            4.32m\n",
      "        15      184205.8695         205.6652            4.29m\n",
      "        16      182731.7089         179.0251            4.29m\n",
      "        17      181215.3020         145.3041            4.26m\n",
      "        18      179916.2944         154.0969            4.23m\n",
      "        19      178563.3342         120.6685            4.18m\n",
      "        20      177567.6656          94.5473            4.12m\n",
      "        21      176483.9141          78.8682            4.06m\n",
      "        22      175484.8254         122.0520            4.02m\n",
      "        23      174653.9401          70.1178            4.05m\n",
      "        24      173838.3769          70.3403            4.13m\n",
      "        25      173393.8975          73.8313            4.07m\n",
      "        26      172596.3649          63.5376            4.03m\n",
      "        27      172054.5303          42.2995            3.96m\n",
      "        28      171384.7454          50.2639            3.90m\n",
      "        29      170500.4105          57.5438            3.84m\n",
      "        30      170145.5858          34.5503            3.78m\n",
      "        31      169832.3059          29.2685            3.73m\n",
      "        32      169111.7513          56.9462            3.68m\n",
      "        33      168796.5357          31.8329            3.62m\n",
      "        34      168655.4357          35.5981            3.57m\n",
      "        35      168132.8288          20.7215            3.51m\n",
      "        36      167615.7786          27.9824            3.47m\n",
      "        37      167401.7227          40.7542            3.42m\n",
      "        38      166987.0575          30.8061            3.38m\n",
      "        39      166590.2135          15.5988            3.32m\n",
      "        40      166383.1357          25.3229            3.26m\n",
      "        41      166021.9255          16.0783            3.21m\n",
      "        42      165689.3664          19.9584            3.15m\n",
      "        43      165380.8549          15.2509            3.11m\n",
      "        44      165222.9028          15.0813            3.05m\n",
      "        45      165072.9066           6.2914            2.99m\n",
      "        46      164882.7232          12.0274            2.93m\n",
      "        47      164800.7701          14.7715            2.88m\n",
      "        48      164358.5574          10.2791            2.81m\n",
      "        49      164186.2072          12.0809            2.75m\n",
      "        50      164000.7837          10.3375            2.69m\n",
      "        51      163735.8949          15.1002            2.64m\n",
      "        52      163437.7772           8.0676            2.58m\n",
      "        53      163331.7344           7.9932            2.52m\n",
      "        54      163076.4707          15.5748            2.47m\n",
      "        55      163003.0466          10.5886            2.41m\n",
      "        56      162977.8660           4.3494            2.35m\n",
      "        57      162657.6051           3.6605            2.29m\n",
      "        58      162704.1753           2.7318            2.23m\n",
      "        59      162194.3921           6.1331            2.18m\n",
      "        60      162436.4947           5.4405            2.12m\n",
      "        61      161987.6757           7.7181            2.07m\n",
      "        62      161768.4476           8.6274            2.01m\n",
      "        63      161858.9007           3.9634            1.96m\n",
      "        64      161521.0239           3.9765            1.90m\n",
      "        65      161607.4253           3.7534            1.85m\n",
      "        66      161557.4540           5.3980            1.79m\n",
      "        67      161280.2687           6.4926            1.74m\n",
      "        68      161235.2789           0.3097            1.68m\n",
      "        69      160883.1455           1.3732            1.63m\n",
      "        70      160885.3856           5.5519            1.57m\n",
      "        71      160665.2544           0.1790            1.52m\n",
      "        72      160415.0733           4.7915            1.46m\n",
      "        73      160358.9383           4.2719            1.41m\n",
      "        74      160349.1447           4.7790            1.36m\n",
      "        75      159850.8783           0.3009            1.30m\n",
      "        76      160021.8202           5.5298            1.25m\n",
      "        77      160096.2095           1.9348            1.20m\n",
      "        78      159778.5677           4.7479            1.14m\n",
      "        79      159706.9816          -0.2713            1.09m\n",
      "        80      159503.9968           6.5841            1.04m\n",
      "        81      159405.4211          -1.1218           58.93s\n",
      "        82      159439.3927           7.5638           55.81s\n",
      "        83      159205.9971          -0.7032           52.60s\n",
      "        84      159059.7206           3.5787           49.48s\n",
      "        85      159042.7172          -1.6650           46.28s\n",
      "        86      158599.9695          -0.7549           43.12s\n",
      "        87      158906.3925           5.3517           40.01s\n",
      "        88      158689.5314          -0.8145           36.86s\n",
      "        89      158509.3074           0.2459           33.72s\n",
      "        90      158303.1932          -0.8730           30.59s\n",
      "        91      158443.2958          -4.1784           27.47s\n",
      "        92      158152.9411           2.2108           24.41s\n",
      "        93      158171.0531           3.5434           21.34s\n",
      "        94      158069.7982           1.5819           18.28s\n",
      "        95      157667.0730           1.3914           15.21s\n",
      "        96      157812.8314           2.3084           12.15s\n",
      "        97      157885.6182          -0.7375            9.11s\n",
      "        98      157796.4326           1.0422            6.06s\n",
      "        99      157585.7948           2.0090            3.03s\n",
      "       100      157372.6643          -1.4989            0.00s\n",
      "Scoring...\n",
      "0.705360284006\n"
     ]
    }
   ],
   "source": [
    "# gbc_tuned = GradientBoostingClassifier(\n",
    "# #     learning_rate=0.0983,\n",
    "#     max_depth=6,\n",
    "# #     max_features=len(list(X_train.columns.values)),\n",
    "#     subsample=0.9,\n",
    "#     verbose=3,\n",
    "#     random_state=0,\n",
    "# )\n",
    "clf['gbc_tuned'].fit(X_train, y_train)\n",
    "clf['gbc_tuned'].score(X_test, y_test)"
   ]
  },
  {
   "cell_type": "markdown",
   "metadata": {},
   "source": [
    "### Confusion Matrix"
   ]
  },
  {
   "cell_type": "code",
   "execution_count": 12,
   "metadata": {
    "ExecuteTime": {
     "end_time": "2018-05-23T11:45:51.401278Z",
     "start_time": "2018-05-23T11:45:50.787312Z"
    }
   },
   "outputs": [
    {
     "data": {
      "text/html": [
       "<div>\n",
       "<style scoped>\n",
       "    .dataframe tbody tr th:only-of-type {\n",
       "        vertical-align: middle;\n",
       "    }\n",
       "\n",
       "    .dataframe tbody tr th {\n",
       "        vertical-align: top;\n",
       "    }\n",
       "\n",
       "    .dataframe thead th {\n",
       "        text-align: right;\n",
       "    }\n",
       "</style>\n",
       "<table border=\"1\" class=\"dataframe\">\n",
       "  <thead>\n",
       "    <tr style=\"text-align: right;\">\n",
       "      <th></th>\n",
       "      <th>Arrest</th>\n",
       "      <th>Summons</th>\n",
       "      <th>Ticket</th>\n",
       "      <th>Verbal Warning</th>\n",
       "      <th>Written Warning</th>\n",
       "    </tr>\n",
       "  </thead>\n",
       "  <tbody>\n",
       "    <tr>\n",
       "      <th>Arrest</th>\n",
       "      <td>543</td>\n",
       "      <td>133</td>\n",
       "      <td>642</td>\n",
       "      <td>83</td>\n",
       "      <td>7</td>\n",
       "    </tr>\n",
       "    <tr>\n",
       "      <th>Summons</th>\n",
       "      <td>177</td>\n",
       "      <td>827</td>\n",
       "      <td>1517</td>\n",
       "      <td>104</td>\n",
       "      <td>32</td>\n",
       "    </tr>\n",
       "    <tr>\n",
       "      <th>Ticket</th>\n",
       "      <td>321</td>\n",
       "      <td>430</td>\n",
       "      <td>39023</td>\n",
       "      <td>2867</td>\n",
       "      <td>587</td>\n",
       "    </tr>\n",
       "    <tr>\n",
       "      <th>Verbal Warning</th>\n",
       "      <td>28</td>\n",
       "      <td>56</td>\n",
       "      <td>5521</td>\n",
       "      <td>2861</td>\n",
       "      <td>277</td>\n",
       "    </tr>\n",
       "    <tr>\n",
       "      <th>Written Warning</th>\n",
       "      <td>23</td>\n",
       "      <td>30</td>\n",
       "      <td>4111</td>\n",
       "      <td>1479</td>\n",
       "      <td>855</td>\n",
       "    </tr>\n",
       "  </tbody>\n",
       "</table>\n",
       "</div>"
      ],
      "text/plain": [
       "                 Arrest  Summons  Ticket  Verbal Warning  Written Warning\n",
       "Arrest              543      133     642              83                7\n",
       "Summons             177      827    1517             104               32\n",
       "Ticket              321      430   39023            2867              587\n",
       "Verbal Warning       28       56    5521            2861              277\n",
       "Written Warning      23       30    4111            1479              855"
      ]
     },
     "execution_count": 12,
     "metadata": {},
     "output_type": "execute_result"
    }
   ],
   "source": [
    "headers = ['Arrest', 'Summons', 'Ticket', 'Verbal Warning', 'Written Warning']\n",
    "cm = pd.DataFrame(data=confusion_matrix(y_test, clf['gbc_tuned'].clf.predict(X_test)), columns=headers, index=headers)\n",
    "cm"
   ]
  },
  {
   "cell_type": "code",
   "execution_count": 13,
   "metadata": {
    "ExecuteTime": {
     "end_time": "2018-05-23T11:45:51.958436Z",
     "start_time": "2018-05-23T11:45:51.402295Z"
    }
   },
   "outputs": [
    {
     "data": {
      "text/plain": [
       "(array([ 0.49725275,  0.5602981 ,  0.76795765,  0.38693535,  0.48634812]),\n",
       " array([ 0.38565341,  0.31125329,  0.90272509,  0.32723322,  0.13157895]),\n",
       " array([ 0.4344    ,  0.40019356,  0.82990579,  0.35458883,  0.20712209]),\n",
       " array([ 1408,  2657, 43228,  8743,  6498]))"
      ]
     },
     "execution_count": 13,
     "metadata": {},
     "output_type": "execute_result"
    }
   ],
   "source": [
    "precision_recall_fscore_support(y_test, clf['gbc_tuned'].clf.predict(X_test), average=None)"
   ]
  },
  {
   "cell_type": "code",
   "execution_count": 14,
   "metadata": {
    "ExecuteTime": {
     "end_time": "2018-05-23T11:45:52.504719Z",
     "start_time": "2018-05-23T11:45:51.959184Z"
    }
   },
   "outputs": [
    {
     "data": {
      "text/plain": [
       "(0.70536028400550099, 0.70536028400550099, 0.70536028400550099, None)"
      ]
     },
     "execution_count": 14,
     "metadata": {},
     "output_type": "execute_result"
    }
   ],
   "source": [
    "precision_recall_fscore_support(y_test, clf['gbc_tuned'].clf.predict(X_test), average='micro')"
   ]
  },
  {
   "cell_type": "code",
   "execution_count": 15,
   "metadata": {
    "ExecuteTime": {
     "end_time": "2018-05-23T11:45:53.053955Z",
     "start_time": "2018-05-23T11:45:52.505471Z"
    }
   },
   "outputs": [
    {
     "data": {
      "text/plain": [
       "(0.53975839511125268, 0.41168879007667025, 0.44524205538258277, None)"
      ]
     },
     "execution_count": 15,
     "metadata": {},
     "output_type": "execute_result"
    }
   ],
   "source": [
    "precision_recall_fscore_support(y_test, clf['gbc_tuned'].clf.predict(X_test), average='macro')"
   ]
  },
  {
   "cell_type": "code",
   "execution_count": 16,
   "metadata": {
    "ExecuteTime": {
     "end_time": "2018-05-23T11:45:53.373420Z",
     "start_time": "2018-05-23T11:45:53.054892Z"
    }
   },
   "outputs": [
    {
     "data": {
      "image/png": "[encoded data removed]",
      "text/plain": [
       "<matplotlib.figure.Figure at 0x7f0daafc5898>"
      ]
     },
     "metadata": {},
     "output_type": "display_data"
    }
   ],
   "source": [
    "gbc_tuned_df = pd.DataFrame(data=clf['gbc_tuned'].clf.feature_importances_, index=X_train.columns.values)\n",
    "gbc_tuned_plot = gbc_tuned_df.sort_values(by=0).plot.barh(figsize=(15, 10), fontsize=14)\n",
    "gbc_tuned_plot.axes.legend().set_visible(False)"
   ]
  },
  {
   "cell_type": "code",
   "execution_count": 17,
   "metadata": {
    "ExecuteTime": {
     "end_time": "2018-05-23T11:45:53.379742Z",
     "start_time": "2018-05-23T11:45:53.374358Z"
    }
   },
   "outputs": [
    {
     "data": {
      "text/plain": [
       "sgd          0.694838\n",
       "gnb          0.686523\n",
       "dtc          0.553123\n",
       "rfc          0.693015\n",
       "gbc          0.715451\n",
       "gbc_tuned    0.705360\n",
       "dtype: float64"
      ]
     },
     "execution_count": 17,
     "metadata": {},
     "output_type": "execute_result"
    }
   ],
   "source": [
    "keys = clf.keys()\n",
    "scores = [clf[key].score_val for key in keys]\n",
    "results = pd.Series(scores, index=keys)\n",
    "results"
   ]
  },
  {
   "cell_type": "code",
   "execution_count": null,
   "metadata": {
    "collapsed": true
   },
   "outputs": [],
   "source": []
  }
 ],
 "metadata": {
  "anaconda-cloud": {},
  "hide_input": false,
  "kernelspec": {
   "display_name": "Python 3",
   "language": "python",
   "name": "python3"
  },
  "language_info": {
   "codemirror_mode": {
    "name": "ipython",
    "version": 3
   },
   "file_extension": ".py",
   "mimetype": "text/x-python",
   "name": "python",
   "nbconvert_exporter": "python",
   "pygments_lexer": "ipython3",
   "version": "3.6.1"
  },
  "toc": {
   "base_numbering": 1,
   "nav_menu": {},
   "number_sections": true,
   "sideBar": true,
   "skip_h1_title": false,
   "title_cell": "Table of Contents",
   "title_sidebar": "Contents",
   "toc_cell": false,
   "toc_position": {},
   "toc_section_display": true,
   "toc_window_display": false
  },
  "varInspector": {
   "cols": {
    "lenName": 16,
    "lenType": 16,
    "lenVar": 40
   },
   "kernels_config": {
    "python": {
     "delete_cmd_postfix": "",
     "delete_cmd_prefix": "del ",
     "library": "var_list.py",
     "varRefreshCmd": "print(var_dic_list())"
    },
    "r": {
     "delete_cmd_postfix": ") ",
     "delete_cmd_prefix": "rm(",
     "library": "var_list.r",
     "varRefreshCmd": "cat(var_dic_list()) "
    }
   },
   "types_to_exclude": [
    "module",
    "function",
    "builtin_function_or_method",
    "instance",
    "_Feature"
   ],
   "window_display": false
  }
 },
 "nbformat": 4,
 "nbformat_minor": 2
}
