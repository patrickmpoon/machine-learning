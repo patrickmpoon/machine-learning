{
 "cells": [
  {
   "cell_type": "code",
   "execution_count": 1,
   "metadata": {
    "ExecuteTime": {
     "end_time": "2018-05-10T04:14:34.318566Z",
     "start_time": "2018-05-10T00:14:33.609061-04:00"
    },
    "collapsed": false,
    "deletable": true,
    "editable": true
   },
   "outputs": [],
   "source": [
    "import pickle\n",
    "\n",
    "import humanize\n",
    "import numpy as np\n",
    "import pandas as pd\n",
    "from datetime import datetime\n",
    "from sklearn.utils import shuffle\n",
    "\n",
    "%matplotlib inline\n",
    "%load_ext autoreload"
   ]
  },
  {
   "cell_type": "code",
   "execution_count": 2,
   "metadata": {
    "ExecuteTime": {
     "end_time": "2018-05-10T04:14:34.457048Z",
     "start_time": "2018-05-10T00:14:34.319568-04:00"
    },
    "collapsed": true,
    "deletable": true,
    "editable": true
   },
   "outputs": [],
   "source": [
    "# Oversampled\n",
    "timestamp = '20180509221611'\n",
    "final_features = pd.read_pickle('./final_features-{}.pkl'.format(timestamp))\n",
    "outcomes = pd.read_pickle('./labels-{}.pkl'.format(timestamp))"
   ]
  },
  {
   "cell_type": "code",
   "execution_count": 3,
   "metadata": {
    "ExecuteTime": {
     "end_time": "2018-05-10T04:14:34.726653Z",
     "start_time": "2018-05-10T00:14:34.457937-04:00"
    },
    "collapsed": false,
    "deletable": true,
    "editable": true
   },
   "outputs": [
    {
     "name": "stdout",
     "output_type": "stream",
     "text": [
      "lop_off_idx = 50452\n"
     ]
    }
   ],
   "source": [
    "# Take out 5% of data for final final testing; shuffle first\n",
    "\n",
    "final_features['stop_outcome'] = outcomes\n",
    "final_features = shuffle(final_features, random_state=0)\n",
    "outcomes = final_features.pop('stop_outcome')\n",
    "\n",
    "\n",
    "lop_off_pct = .05\n",
    "lop_off_idx = round(final_features.shape[0] * lop_off_pct)\n",
    "print('lop_off_idx = {}'.format(lop_off_idx))\n",
    "\n",
    "final_test_features = final_features[:lop_off_idx]\n",
    "final_test_outcomes = outcomes[:lop_off_idx]\n",
    "\n",
    "final_features = final_features[lop_off_idx:]\n",
    "outcomes = outcomes[lop_off_idx:]"
   ]
  },
  {
   "cell_type": "code",
   "execution_count": 4,
   "metadata": {
    "ExecuteTime": {
     "end_time": "2018-05-10T04:14:34.730663Z",
     "start_time": "2018-05-10T00:14:34.727655-04:00"
    },
    "collapsed": true,
    "deletable": true,
    "editable": true
   },
   "outputs": [],
   "source": [
    "# Non-oversamled\n",
    "# timestamp = '20180509221611'\n",
    "# final_features = pd.read_pickle('./final_features-{}-non_oversampled.pkl'.format(timestamp))\n",
    "# outcomes = pd.read_pickle('./labels-{}-non_oversampled.pkl'.format(timestamp))"
   ]
  },
  {
   "cell_type": "code",
   "execution_count": 5,
   "metadata": {
    "ExecuteTime": {
     "end_time": "2018-05-10T04:14:35.346300Z",
     "start_time": "2018-05-10T00:14:34.732669-04:00"
    },
    "collapsed": true,
    "deletable": true,
    "editable": true
   },
   "outputs": [],
   "source": [
    "from sklearn.preprocessing import LabelEncoder\n",
    "\n",
    "le = LabelEncoder()\n",
    "encoded_outcomes = le.fit_transform(outcomes)"
   ]
  },
  {
   "cell_type": "code",
   "execution_count": 6,
   "metadata": {
    "ExecuteTime": {
     "end_time": "2018-05-10T04:14:35.588947Z",
     "start_time": "2018-05-10T00:14:35.347303-04:00"
    },
    "collapsed": true,
    "deletable": true,
    "editable": true
   },
   "outputs": [],
   "source": [
    "from sklearn.model_selection import train_test_split\n",
    "\n",
    "# # Split the 'features' and 'income' data into training and testing sets\n",
    "X_train, X_test, y_train, y_test = train_test_split(final_features, \n",
    "                                                    encoded_outcomes, \n",
    "                                                    test_size=0.2, \n",
    "                                                    random_state=0)\n"
   ]
  },
  {
   "cell_type": "code",
   "execution_count": 7,
   "metadata": {
    "ExecuteTime": {
     "end_time": "2018-05-10T04:14:35.591955Z",
     "start_time": "2018-05-10T00:14:35.589949-04:00"
    },
    "collapsed": false,
    "deletable": true,
    "editable": true
   },
   "outputs": [],
   "source": [
    "# Take out 5% of data for final final testing; shuffle first\n",
    "# final_features = shuffle(final_features, random_state=0)\n",
    "\n",
    "# lop_off_pct = .05\n",
    "# lop_off_idx = round(X_train.shape[0] * lop_off_pct)\n",
    "# print('lop_off_idx = {}'.format(lop_off_idx))\n",
    "\n",
    "# final_test_features = X_train[:lop_off_idx]\n",
    "# final_test_outcomes = y_train[:lop_off_idx]\n",
    "\n",
    "# X_train = X_train[lop_off_idx:]\n",
    "# y_train = y_train[lop_off_idx:]"
   ]
  },
  {
   "cell_type": "code",
   "execution_count": 8,
   "metadata": {
    "ExecuteTime": {
     "end_time": "2018-05-10T04:14:35.615043Z",
     "start_time": "2018-05-10T00:14:35.592957-04:00"
    },
    "collapsed": true,
    "deletable": true,
    "editable": true
   },
   "outputs": [],
   "source": [
    "import xgboost as xgb\n",
    "from xgboost import XGBClassifier\n",
    "from sklearn.model_selection import GridSearchCV\n",
    "from sklearn.model_selection import StratifiedKFold\n",
    "import matplotlib\n",
    "# matplotlib.use('Agg')\n",
    "from matplotlib import pyplot\n"
   ]
  },
  {
   "cell_type": "code",
   "execution_count": 9,
   "metadata": {
    "ExecuteTime": {
     "end_time": "2018-05-10T04:14:36.379101Z",
     "start_time": "2018-05-10T00:14:35.616018-04:00"
    },
    "collapsed": true,
    "deletable": true,
    "editable": true
   },
   "outputs": [],
   "source": [
    "xg_train = xgb.DMatrix(X_train.values, label=y_train)\n",
    "xg_test = xgb.DMatrix(X_test.values, label=y_test)\n",
    "xg_test_2 = xgb.DMatrix(final_test_features.values, label=le.fit_transform(final_test_outcomes))"
   ]
  },
  {
   "cell_type": "code",
   "execution_count": 10,
   "metadata": {
    "ExecuteTime": {
     "end_time": "2018-05-10T04:14:36.387092Z",
     "start_time": "2018-05-10T00:14:36.380100-04:00"
    },
    "collapsed": false,
    "deletable": true,
    "editable": true
   },
   "outputs": [],
   "source": [
    "params = {\n",
    "    'objective': 'multi:softmax',\n",
    "    'learning_rate': 0.0983,\n",
    "    'max_depth': 19,\n",
    "    'silent': 0,\n",
    "    'nthread': 8,\n",
    "#     'num_class': 45,\n",
    "#     'predictor': 'gpu_predictor',\n",
    "#     'max_bin': 512,\n",
    "    'tree_method': 'gpu_hist',\n",
    "#     'alpha': 0.8,\n",
    "#     'gamma': 10.0,\n",
    "    'subsample': 0.9,\n",
    "#     'lambda': 0.9,,\n",
    "#     'colsample_bytree': 0.9,\n",
    "#     'colsample_bylevel': 0.3,\n",
    "#     'scale_pos_weight': 0.1,\n",
    "#     'updater': 'grow_histmaker,refresh,prune',\n",
    "#     'grow_policy': 'lossguide',\n",
    "#     'max_leaves': 20000,\n",
    "#     'max_bin': 1024,\n",
    "#     'base_score': 1.0,\n",
    "#     'eval_metric': 'merror',\n",
    "#     'max_delta_step': 8,\n",
    "}\n",
    "\n",
    "params['num_class'] = len(list(final_features.columns.values))\n",
    "\n",
    "# model = XGBClassifier(xgb_params)\n",
    "# num_rounds = 3\n",
    "# model = xgb.train(xgb_params, xg_train, num_rounds)\n",
    "\n",
    "# n_estimators = [500, 1500, 2500]\n",
    "# max_depth = [5, 12, 19]\n",
    "# n_estimators = [5, 10]\n",
    "# max_depth = [2]\n",
    "\n",
    "# param_grid = {\n",
    "#     'n_estimators': n_estimators,\n",
    "#     'max_depth': max_depth,\n",
    "# }\n",
    "# kfold = StratifiedKFold(n_splits=10, shuffle=True, random_state=0)"
   ]
  },
  {
   "cell_type": "code",
   "execution_count": 11,
   "metadata": {
    "ExecuteTime": {
     "end_time": "2018-05-10T04:59:37.221565Z",
     "start_time": "2018-05-10T00:14:36.388097-04:00"
    },
    "collapsed": false,
    "deletable": true,
    "editable": true,
    "scrolled": false
   },
   "outputs": [
    {
     "name": "stdout",
     "output_type": "stream",
     "text": [
      "[0]\ttrain-merror:0.383538\ttest-merror:0.395415\n",
      "Multiple eval metrics have been passed: 'test-merror' will be used for early stopping.\n",
      "\n",
      "Will train until test-merror hasn't improved in 10 rounds.\n",
      "[1]\ttrain-merror:0.337566\ttest-merror:0.35532\n",
      "[2]\ttrain-merror:0.310191\ttest-merror:0.331515\n",
      "[3]\ttrain-merror:0.289116\ttest-merror:0.312586\n",
      "[4]\ttrain-merror:0.271925\ttest-merror:0.297298\n",
      "[5]\ttrain-merror:0.259175\ttest-merror:0.285208\n",
      "[6]\ttrain-merror:0.248352\ttest-merror:0.275902\n",
      "[7]\ttrain-merror:0.238152\ttest-merror:0.266868\n",
      "[8]\ttrain-merror:0.229307\ttest-merror:0.258575\n",
      "[9]\ttrain-merror:0.222397\ttest-merror:0.252368\n",
      "[10]\ttrain-merror:0.214422\ttest-merror:0.24554\n",
      "[11]\ttrain-merror:0.207869\ttest-merror:0.239772\n",
      "[12]\ttrain-merror:0.202116\ttest-merror:0.234503\n",
      "[13]\ttrain-merror:0.196931\ttest-merror:0.229632\n",
      "[14]\ttrain-merror:0.19231\ttest-merror:0.225496\n",
      "[15]\ttrain-merror:0.187734\ttest-merror:0.220947\n",
      "[16]\ttrain-merror:0.18333\ttest-merror:0.216967\n",
      "[17]\ttrain-merror:0.179635\ttest-merror:0.213515\n",
      "[18]\ttrain-merror:0.17622\ttest-merror:0.210192\n",
      "[19]\ttrain-merror:0.173114\ttest-merror:0.207381\n",
      "[20]\ttrain-merror:0.16981\ttest-merror:0.204454\n",
      "[21]\ttrain-merror:0.167061\ttest-merror:0.202243\n",
      "[22]\ttrain-merror:0.163347\ttest-merror:0.198618\n",
      "[23]\ttrain-merror:0.160575\ttest-merror:0.196114\n",
      "[24]\ttrain-merror:0.158189\ttest-merror:0.194002\n",
      "[25]\ttrain-merror:0.155249\ttest-merror:0.191514\n",
      "[26]\ttrain-merror:0.153445\ttest-merror:0.189751\n",
      "[27]\ttrain-merror:0.151129\ttest-merror:0.18793\n",
      "[28]\ttrain-merror:0.148935\ttest-merror:0.186042\n",
      "[29]\ttrain-merror:0.147179\ttest-merror:0.184644\n",
      "[30]\ttrain-merror:0.145479\ttest-merror:0.183267\n",
      "[31]\ttrain-merror:0.14311\ttest-merror:0.181097\n",
      "[32]\ttrain-merror:0.141075\ttest-merror:0.179308\n",
      "[33]\ttrain-merror:0.139751\ttest-merror:0.178177\n",
      "[34]\ttrain-merror:0.138004\ttest-merror:0.176518\n",
      "[35]\ttrain-merror:0.136516\ttest-merror:0.175115\n",
      "[36]\ttrain-merror:0.135135\ttest-merror:0.173936\n",
      "[37]\ttrain-merror:0.133809\ttest-merror:0.172799\n",
      "[38]\ttrain-merror:0.132355\ttest-merror:0.171589\n",
      "[39]\ttrain-merror:0.130655\ttest-merror:0.169904\n",
      "[40]\ttrain-merror:0.129459\ttest-merror:0.169028\n",
      "[41]\ttrain-merror:0.128008\ttest-merror:0.167771\n",
      "[42]\ttrain-merror:0.126271\ttest-merror:0.166253\n",
      "[43]\ttrain-merror:0.12495\ttest-merror:0.165043\n",
      "[44]\ttrain-merror:0.123544\ttest-merror:0.163979\n",
      "[45]\ttrain-merror:0.122138\ttest-merror:0.16281\n",
      "[46]\ttrain-merror:0.120798\ttest-merror:0.161611\n",
      "[47]\ttrain-merror:0.119851\ttest-merror:0.160708\n",
      "[48]\ttrain-merror:0.118838\ttest-merror:0.159916\n",
      "[49]\ttrain-merror:0.117936\ttest-merror:0.159117\n",
      "[50]\ttrain-merror:0.11681\ttest-merror:0.158314\n",
      "[51]\ttrain-merror:0.115767\ttest-merror:0.157281\n",
      "[52]\ttrain-merror:0.114634\ttest-merror:0.156296\n",
      "[53]\ttrain-merror:0.113759\ttest-merror:0.155618\n",
      "[54]\ttrain-merror:0.112263\ttest-merror:0.15434\n",
      "[55]\ttrain-merror:0.111373\ttest-merror:0.153411\n",
      "[56]\ttrain-merror:0.110353\ttest-merror:0.152707\n",
      "[57]\ttrain-merror:0.109164\ttest-merror:0.151799\n",
      "[58]\ttrain-merror:0.10778\ttest-merror:0.150631\n",
      "[59]\ttrain-merror:0.106783\ttest-merror:0.149802\n",
      "[60]\ttrain-merror:0.10539\ttest-merror:0.148602\n",
      "[61]\ttrain-merror:0.103957\ttest-merror:0.147486\n",
      "[62]\ttrain-merror:0.102489\ttest-merror:0.146031\n",
      "[63]\ttrain-merror:0.101006\ttest-merror:0.144628\n",
      "[64]\ttrain-merror:0.099024\ttest-merror:0.142755\n",
      "[65]\ttrain-merror:0.096936\ttest-merror:0.140815\n",
      "[66]\ttrain-merror:0.095885\ttest-merror:0.139959\n",
      "[67]\ttrain-merror:0.094872\ttest-merror:0.139005\n",
      "[68]\ttrain-merror:0.093423\ttest-merror:0.137748\n",
      "[69]\ttrain-merror:0.092462\ttest-merror:0.137002\n",
      "[70]\ttrain-merror:0.090624\ttest-merror:0.135494\n",
      "[71]\ttrain-merror:0.08925\ttest-merror:0.13419\n",
      "[72]\ttrain-merror:0.087456\ttest-merror:0.132427\n",
      "[73]\ttrain-merror:0.086292\ttest-merror:0.131332\n",
      "[74]\ttrain-merror:0.085014\ttest-merror:0.130315\n",
      "[75]\ttrain-merror:0.083999\ttest-merror:0.129434\n",
      "[76]\ttrain-merror:0.082591\ttest-merror:0.128041\n",
      "[77]\ttrain-merror:0.081764\ttest-merror:0.127149\n",
      "[78]\ttrain-merror:0.079905\ttest-merror:0.125396\n",
      "[79]\ttrain-merror:0.078928\ttest-merror:0.124458\n",
      "[80]\ttrain-merror:0.0772\ttest-merror:0.123028\n",
      "[81]\ttrain-merror:0.075388\ttest-merror:0.121344\n",
      "[82]\ttrain-merror:0.073904\ttest-merror:0.119894\n",
      "[83]\ttrain-merror:0.072542\ttest-merror:0.118668\n",
      "[84]\ttrain-merror:0.071554\ttest-merror:0.117912\n",
      "[85]\ttrain-merror:0.070305\ttest-merror:0.116858\n",
      "[86]\ttrain-merror:0.068922\ttest-merror:0.115632\n",
      "[87]\ttrain-merror:0.067381\ttest-merror:0.114172\n",
      "[88]\ttrain-merror:0.066416\ttest-merror:0.113243\n",
      "[89]\ttrain-merror:0.065625\ttest-merror:0.112503\n",
      "[90]\ttrain-merror:0.064366\ttest-merror:0.111355\n",
      "[91]\ttrain-merror:0.063112\ttest-merror:0.110348\n",
      "[92]\ttrain-merror:0.06203\ttest-merror:0.109326\n",
      "[93]\ttrain-merror:0.060839\ttest-merror:0.108283\n",
      "[94]\ttrain-merror:0.059838\ttest-merror:0.107464\n",
      "[95]\ttrain-merror:0.058772\ttest-merror:0.106431\n",
      "[96]\ttrain-merror:0.057723\ttest-merror:0.105268\n",
      "[97]\ttrain-merror:0.056634\ttest-merror:0.104319\n",
      "[98]\ttrain-merror:0.055545\ttest-merror:0.103354\n",
      "[99]\ttrain-merror:0.054635\ttest-merror:0.102159\n",
      "[100]\ttrain-merror:0.05395\ttest-merror:0.101346\n",
      "[101]\ttrain-merror:0.052885\ttest-merror:0.100412\n",
      "[102]\ttrain-merror:0.051635\ttest-merror:0.099238\n",
      "[103]\ttrain-merror:0.05066\ttest-merror:0.098221\n",
      "[104]\ttrain-merror:0.050165\ttest-merror:0.097481\n",
      "[105]\ttrain-merror:0.049455\ttest-merror:0.09686\n",
      "[106]\ttrain-merror:0.048445\ttest-merror:0.095932\n",
      "[107]\ttrain-merror:0.048001\ttest-merror:0.095712\n",
      "[108]\ttrain-merror:0.047412\ttest-merror:0.095191\n",
      "[109]\ttrain-merror:0.046881\ttest-merror:0.094528\n",
      "[110]\ttrain-merror:0.046049\ttest-merror:0.093694\n",
      "[111]\ttrain-merror:0.045487\ttest-merror:0.093125\n",
      "[112]\ttrain-merror:0.04525\ttest-merror:0.092828\n",
      "[113]\ttrain-merror:0.044603\ttest-merror:0.091879\n",
      "[114]\ttrain-merror:0.044147\ttest-merror:0.091456\n",
      "[115]\ttrain-merror:0.043877\ttest-merror:0.091206\n",
      "[116]\ttrain-merror:0.043336\ttest-merror:0.090674\n",
      "[117]\ttrain-merror:0.042871\ttest-merror:0.090257\n",
      "[118]\ttrain-merror:0.042419\ttest-merror:0.089704\n",
      "[119]\ttrain-merror:0.041979\ttest-merror:0.089297\n",
      "[120]\ttrain-merror:0.041481\ttest-merror:0.088895\n",
      "[121]\ttrain-merror:0.040927\ttest-merror:0.088348\n",
      "[122]\ttrain-merror:0.040552\ttest-merror:0.08781\n",
      "[123]\ttrain-merror:0.040013\ttest-merror:0.087273\n",
      "[124]\ttrain-merror:0.039774\ttest-merror:0.087143\n",
      "[125]\ttrain-merror:0.039503\ttest-merror:0.086762\n",
      "[126]\ttrain-merror:0.039246\ttest-merror:0.086465\n",
      "[127]\ttrain-merror:0.039088\ttest-merror:0.086334\n",
      "[128]\ttrain-merror:0.038884\ttest-merror:0.086183\n",
      "[129]\ttrain-merror:0.038644\ttest-merror:0.085792\n",
      "[130]\ttrain-merror:0.038365\ttest-merror:0.085541\n",
      "[131]\ttrain-merror:0.038002\ttest-merror:0.084989\n",
      "[132]\ttrain-merror:0.037771\ttest-merror:0.084717\n",
      "[133]\ttrain-merror:0.037521\ttest-merror:0.08431\n",
      "[134]\ttrain-merror:0.037196\ttest-merror:0.083992\n",
      "[135]\ttrain-merror:0.037024\ttest-merror:0.083737\n",
      "[136]\ttrain-merror:0.036653\ttest-merror:0.083325\n",
      "[137]\ttrain-merror:0.036415\ttest-merror:0.083027\n",
      "[138]\ttrain-merror:0.036201\ttest-merror:0.082714\n",
      "[139]\ttrain-merror:0.035869\ttest-merror:0.082407\n",
      "[140]\ttrain-merror:0.035697\ttest-merror:0.082146\n",
      "[141]\ttrain-merror:0.035497\ttest-merror:0.081885\n",
      "[142]\ttrain-merror:0.035276\ttest-merror:0.081624\n",
      "[143]\ttrain-merror:0.034998\ttest-merror:0.08117\n",
      "[144]\ttrain-merror:0.034794\ttest-merror:0.080962\n",
      "[145]\ttrain-merror:0.034714\ttest-merror:0.080925\n",
      "[146]\ttrain-merror:0.034407\ttest-merror:0.080623\n",
      "[147]\ttrain-merror:0.034262\ttest-merror:0.080341\n",
      "[148]\ttrain-merror:0.034052\ttest-merror:0.080028\n",
      "[149]\ttrain-merror:0.033844\ttest-merror:0.079903\n",
      "[150]\ttrain-merror:0.033699\ttest-merror:0.079663\n",
      "[151]\ttrain-merror:0.033381\ttest-merror:0.079361\n",
      "[152]\ttrain-merror:0.033243\ttest-merror:0.079188\n",
      "[153]\ttrain-merror:0.03305\ttest-merror:0.078912\n",
      "[154]\ttrain-merror:0.032811\ttest-merror:0.078542\n",
      "[155]\ttrain-merror:0.032651\ttest-merror:0.078375\n",
      "[156]\ttrain-merror:0.03255\ttest-merror:0.07826\n",
      "[157]\ttrain-merror:0.032419\ttest-merror:0.07815\n",
      "[158]\ttrain-merror:0.032254\ttest-merror:0.078067\n",
      "[159]\ttrain-merror:0.032098\ttest-merror:0.077733\n",
      "[160]\ttrain-merror:0.031872\ttest-merror:0.077472\n",
      "[161]\ttrain-merror:0.031754\ttest-merror:0.077191\n",
      "[162]\ttrain-merror:0.03164\ttest-merror:0.07705\n",
      "[163]\ttrain-merror:0.031481\ttest-merror:0.076899\n",
      "[164]\ttrain-merror:0.031375\ttest-merror:0.076726\n",
      "[165]\ttrain-merror:0.031186\ttest-merror:0.076591\n",
      "[166]\ttrain-merror:0.031107\ttest-merror:0.076539\n",
      "[167]\ttrain-merror:0.030901\ttest-merror:0.076247\n",
      "[168]\ttrain-merror:0.030746\ttest-merror:0.076028\n",
      "[169]\ttrain-merror:0.030683\ttest-merror:0.075835\n",
      "[170]\ttrain-merror:0.030519\ttest-merror:0.075808\n",
      "[171]\ttrain-merror:0.030426\ttest-merror:0.075615\n",
      "[172]\ttrain-merror:0.030262\ttest-merror:0.07548\n",
      "[173]\ttrain-merror:0.030147\ttest-merror:0.07524\n",
      "[174]\ttrain-merror:0.030023\ttest-merror:0.075209\n",
      "[175]\ttrain-merror:0.029916\ttest-merror:0.075026\n",
      "[176]\ttrain-merror:0.029779\ttest-merror:0.074937\n",
      "[177]\ttrain-merror:0.029661\ttest-merror:0.074765\n",
      "[178]\ttrain-merror:0.029582\ttest-merror:0.074656\n",
      "[179]\ttrain-merror:0.029518\ttest-merror:0.074531\n",
      "[180]\ttrain-merror:0.029404\ttest-merror:0.074338\n",
      "[181]\ttrain-merror:0.029329\ttest-merror:0.074176\n",
      "[182]\ttrain-merror:0.029178\ttest-merror:0.073978\n",
      "[183]\ttrain-merror:0.029067\ttest-merror:0.073759\n",
      "[184]\ttrain-merror:0.028951\ttest-merror:0.073701\n",
      "[185]\ttrain-merror:0.028847\ttest-merror:0.07366\n",
      "[186]\ttrain-merror:0.02874\ttest-merror:0.073503\n",
      "[187]\ttrain-merror:0.028672\ttest-merror:0.07331\n",
      "[188]\ttrain-merror:0.028539\ttest-merror:0.073148\n",
      "[189]\ttrain-merror:0.028434\ttest-merror:0.072877\n",
      "[190]\ttrain-merror:0.028367\ttest-merror:0.072809\n",
      "[191]\ttrain-merror:0.02825\ttest-merror:0.07259\n",
      "[192]\ttrain-merror:0.028174\ttest-merror:0.072595\n",
      "[193]\ttrain-merror:0.028102\ttest-merror:0.072486\n",
      "[194]\ttrain-merror:0.027959\ttest-merror:0.072251\n",
      "[195]\ttrain-merror:0.027864\ttest-merror:0.072246\n",
      "[196]\ttrain-merror:0.027724\ttest-merror:0.072016\n",
      "[197]\ttrain-merror:0.027662\ttest-merror:0.071844\n",
      "[198]\ttrain-merror:0.027595\ttest-merror:0.07186\n",
      "[199]\ttrain-merror:0.027523\ttest-merror:0.071714\n",
      "[200]\ttrain-merror:0.027457\ttest-merror:0.071693\n",
      "[201]\ttrain-merror:0.027398\ttest-merror:0.071641\n",
      "[202]\ttrain-merror:0.027277\ttest-merror:0.071505\n",
      "[203]\ttrain-merror:0.02721\ttest-merror:0.071286\n",
      "[204]\ttrain-merror:0.027126\ttest-merror:0.071161\n",
      "[205]\ttrain-merror:0.027093\ttest-merror:0.071067\n",
      "[206]\ttrain-merror:0.027033\ttest-merror:0.071046\n",
      "[207]\ttrain-merror:0.02701\ttest-merror:0.070989\n",
      "[208]\ttrain-merror:0.02694\ttest-merror:0.070791\n",
      "[209]\ttrain-merror:0.026857\ttest-merror:0.070765\n",
      "[210]\ttrain-merror:0.026768\ttest-merror:0.070723\n",
      "[211]\ttrain-merror:0.026703\ttest-merror:0.070483\n",
      "[212]\ttrain-merror:0.026658\ttest-merror:0.070504\n",
      "[213]\ttrain-merror:0.026582\ttest-merror:0.070415\n",
      "[214]\ttrain-merror:0.026536\ttest-merror:0.070373\n",
      "[215]\ttrain-merror:0.026436\ttest-merror:0.07017\n",
      "[216]\ttrain-merror:0.026395\ttest-merror:0.070097\n",
      "[217]\ttrain-merror:0.026355\ttest-merror:0.07004\n",
      "[218]\ttrain-merror:0.02623\ttest-merror:0.069883\n",
      "[219]\ttrain-merror:0.026163\ttest-merror:0.069742\n",
      "[220]\ttrain-merror:0.026114\ttest-merror:0.069617\n",
      "[221]\ttrain-merror:0.026086\ttest-merror:0.069643\n",
      "[222]\ttrain-merror:0.026032\ttest-merror:0.069701\n",
      "[223]\ttrain-merror:0.025986\ttest-merror:0.06957\n",
      "[224]\ttrain-merror:0.025922\ttest-merror:0.069419\n",
      "[225]\ttrain-merror:0.025856\ttest-merror:0.069362\n",
      "[226]\ttrain-merror:0.025833\ttest-merror:0.069356\n",
      "[227]\ttrain-merror:0.025772\ttest-merror:0.069278\n",
      "[228]\ttrain-merror:0.025736\ttest-merror:0.069226\n",
      "[229]\ttrain-merror:0.025682\ttest-merror:0.069069\n",
      "[230]\ttrain-merror:0.025648\ttest-merror:0.069012\n",
      "[231]\ttrain-merror:0.025541\ttest-merror:0.068783\n",
      "[232]\ttrain-merror:0.025497\ttest-merror:0.068689\n",
      "[233]\ttrain-merror:0.025433\ttest-merror:0.06859\n",
      "[234]\ttrain-merror:0.025393\ttest-merror:0.068631\n",
      "[235]\ttrain-merror:0.025329\ttest-merror:0.068553\n",
      "[236]\ttrain-merror:0.02526\ttest-merror:0.068381\n",
      "[237]\ttrain-merror:0.025218\ttest-merror:0.068344\n",
      "[238]\ttrain-merror:0.025174\ttest-merror:0.068376\n",
      "[239]\ttrain-merror:0.025124\ttest-merror:0.068313\n",
      "[240]\ttrain-merror:0.025059\ttest-merror:0.068209\n",
      "[241]\ttrain-merror:0.024954\ttest-merror:0.068099\n",
      "[242]\ttrain-merror:0.024906\ttest-merror:0.068016\n",
      "[243]\ttrain-merror:0.024842\ttest-merror:0.067943\n",
      "[244]\ttrain-merror:0.024806\ttest-merror:0.067859\n",
      "[245]\ttrain-merror:0.024763\ttest-merror:0.067745\n",
      "[246]\ttrain-merror:0.024737\ttest-merror:0.067719\n",
      "[247]\ttrain-merror:0.024691\ttest-merror:0.067557\n",
      "[248]\ttrain-merror:0.024656\ttest-merror:0.067499\n",
      "[249]\ttrain-merror:0.024609\ttest-merror:0.06751\n",
      "[250]\ttrain-merror:0.024563\ttest-merror:0.067432\n",
      "[251]\ttrain-merror:0.024539\ttest-merror:0.067395\n",
      "[252]\ttrain-merror:0.02452\ttest-merror:0.067244\n",
      "[253]\ttrain-merror:0.024486\ttest-merror:0.067113\n",
      "[254]\ttrain-merror:0.024456\ttest-merror:0.067093\n",
      "[255]\ttrain-merror:0.024421\ttest-merror:0.066967\n",
      "[256]\ttrain-merror:0.024386\ttest-merror:0.066926\n",
      "[257]\ttrain-merror:0.024364\ttest-merror:0.066853\n",
      "[258]\ttrain-merror:0.024317\ttest-merror:0.066853\n",
      "[259]\ttrain-merror:0.02427\ttest-merror:0.066712\n",
      "[260]\ttrain-merror:0.024248\ttest-merror:0.066639\n",
      "[261]\ttrain-merror:0.024226\ttest-merror:0.066644\n",
      "[262]\ttrain-merror:0.024192\ttest-merror:0.066602\n",
      "[263]\ttrain-merror:0.024168\ttest-merror:0.066482\n",
      "[264]\ttrain-merror:0.024146\ttest-merror:0.066508\n",
      "[265]\ttrain-merror:0.02411\ttest-merror:0.06643\n",
      "[266]\ttrain-merror:0.024081\ttest-merror:0.066477\n",
      "[267]\ttrain-merror:0.024021\ttest-merror:0.066394\n",
      "[268]\ttrain-merror:0.023993\ttest-merror:0.066368\n",
      "[269]\ttrain-merror:0.023935\ttest-merror:0.0663\n",
      "[270]\ttrain-merror:0.02391\ttest-merror:0.066201\n",
      "[271]\ttrain-merror:0.023881\ttest-merror:0.066122\n",
      "[272]\ttrain-merror:0.023851\ttest-merror:0.066086\n",
      "[273]\ttrain-merror:0.02383\ttest-merror:0.066003\n",
      "[274]\ttrain-merror:0.023798\ttest-merror:0.065976\n",
      "[275]\ttrain-merror:0.023778\ttest-merror:0.065929\n",
      "[276]\ttrain-merror:0.023767\ttest-merror:0.065883\n",
      "[277]\ttrain-merror:0.023754\ttest-merror:0.065903\n",
      "[278]\ttrain-merror:0.023729\ttest-merror:0.06581\n",
      "[279]\ttrain-merror:0.02368\ttest-merror:0.065731\n",
      "[280]\ttrain-merror:0.023678\ttest-merror:0.065778\n",
      "[281]\ttrain-merror:0.023645\ttest-merror:0.0657\n",
      "[282]\ttrain-merror:0.023619\ttest-merror:0.065622\n",
      "[283]\ttrain-merror:0.023602\ttest-merror:0.065601\n",
      "[284]\ttrain-merror:0.023568\ttest-merror:0.065637\n",
      "[285]\ttrain-merror:0.023546\ttest-merror:0.065533\n",
      "[286]\ttrain-merror:0.023517\ttest-merror:0.065486\n",
      "[287]\ttrain-merror:0.023494\ttest-merror:0.065418\n",
      "[288]\ttrain-merror:0.023444\ttest-merror:0.065351\n",
      "[289]\ttrain-merror:0.023426\ttest-merror:0.065351\n",
      "[290]\ttrain-merror:0.023409\ttest-merror:0.065262\n",
      "[291]\ttrain-merror:0.0234\ttest-merror:0.065184\n",
      "[292]\ttrain-merror:0.023361\ttest-merror:0.065074\n",
      "[293]\ttrain-merror:0.023347\ttest-merror:0.065043\n",
      "[294]\ttrain-merror:0.02333\ttest-merror:0.065069\n",
      "[295]\ttrain-merror:0.023308\ttest-merror:0.06498\n",
      "[296]\ttrain-merror:0.023289\ttest-merror:0.064959\n",
      "[297]\ttrain-merror:0.023263\ttest-merror:0.064902\n",
      "[298]\ttrain-merror:0.023246\ttest-merror:0.064855\n",
      "[299]\ttrain-merror:0.023216\ttest-merror:0.06485\n",
      "[300]\ttrain-merror:0.023189\ttest-merror:0.064839\n",
      "[301]\ttrain-merror:0.023169\ttest-merror:0.064792\n",
      "[302]\ttrain-merror:0.023155\ttest-merror:0.064699\n",
      "[303]\ttrain-merror:0.023124\ttest-merror:0.064709\n",
      "[304]\ttrain-merror:0.023107\ttest-merror:0.064688\n",
      "[305]\ttrain-merror:0.023096\ttest-merror:0.064745\n",
      "[306]\ttrain-merror:0.023068\ttest-merror:0.064631\n",
      "[307]\ttrain-merror:0.023058\ttest-merror:0.064615\n",
      "[308]\ttrain-merror:0.023027\ttest-merror:0.0645\n",
      "[309]\ttrain-merror:0.023004\ttest-merror:0.064459\n",
      "[310]\ttrain-merror:0.022988\ttest-merror:0.064433\n",
      "[311]\ttrain-merror:0.022975\ttest-merror:0.064427\n",
      "[312]\ttrain-merror:0.02295\ttest-merror:0.06438\n",
      "[313]\ttrain-merror:0.022932\ttest-merror:0.064349\n",
      "[314]\ttrain-merror:0.02292\ttest-merror:0.064302\n",
      "[315]\ttrain-merror:0.022916\ttest-merror:0.064349\n",
      "[316]\ttrain-merror:0.022889\ttest-merror:0.06437\n",
      "[317]\ttrain-merror:0.022877\ttest-merror:0.064318\n",
      "[318]\ttrain-merror:0.022871\ttest-merror:0.064354\n",
      "[319]\ttrain-merror:0.022851\ttest-merror:0.064391\n",
      "[320]\ttrain-merror:0.022832\ttest-merror:0.064339\n",
      "[321]\ttrain-merror:0.022798\ttest-merror:0.064339\n",
      "[322]\ttrain-merror:0.022774\ttest-merror:0.064292\n",
      "[323]\ttrain-merror:0.022757\ttest-merror:0.064203\n",
      "[324]\ttrain-merror:0.022753\ttest-merror:0.064255\n",
      "[325]\ttrain-merror:0.022746\ttest-merror:0.064172\n",
      "[326]\ttrain-merror:0.022736\ttest-merror:0.064078\n",
      "[327]\ttrain-merror:0.022712\ttest-merror:0.064104\n",
      "[328]\ttrain-merror:0.022706\ttest-merror:0.064052\n",
      "[329]\ttrain-merror:0.022689\ttest-merror:0.063968\n",
      "[330]\ttrain-merror:0.022662\ttest-merror:0.063848\n",
      "[331]\ttrain-merror:0.022641\ttest-merror:0.063869\n",
      "[332]\ttrain-merror:0.022622\ttest-merror:0.063822\n",
      "[333]\ttrain-merror:0.022606\ttest-merror:0.063796\n",
      "[334]\ttrain-merror:0.022597\ttest-merror:0.063812\n",
      "[335]\ttrain-merror:0.022584\ttest-merror:0.063796\n",
      "[336]\ttrain-merror:0.022577\ttest-merror:0.063848\n",
      "[337]\ttrain-merror:0.022559\ttest-merror:0.06377\n",
      "[338]\ttrain-merror:0.022526\ttest-merror:0.06376\n",
      "[339]\ttrain-merror:0.022519\ttest-merror:0.063707\n",
      "[340]\ttrain-merror:0.02251\ttest-merror:0.063681\n",
      "[341]\ttrain-merror:0.022507\ttest-merror:0.063713\n",
      "[342]\ttrain-merror:0.022487\ttest-merror:0.063629\n",
      "[343]\ttrain-merror:0.022481\ttest-merror:0.063551\n",
      "[344]\ttrain-merror:0.022474\ttest-merror:0.063556\n",
      "[345]\ttrain-merror:0.022459\ttest-merror:0.063483\n",
      "[346]\ttrain-merror:0.022447\ttest-merror:0.063395\n",
      "[347]\ttrain-merror:0.022431\ttest-merror:0.063353\n",
      "[348]\ttrain-merror:0.022414\ttest-merror:0.063248\n",
      "[349]\ttrain-merror:0.022414\ttest-merror:0.063212\n",
      "[350]\ttrain-merror:0.022404\ttest-merror:0.063233\n",
      "[351]\ttrain-merror:0.022396\ttest-merror:0.063264\n",
      "[352]\ttrain-merror:0.022397\ttest-merror:0.063254\n",
      "[353]\ttrain-merror:0.02238\ttest-merror:0.063228\n",
      "[354]\ttrain-merror:0.022363\ttest-merror:0.063228\n",
      "[355]\ttrain-merror:0.022341\ttest-merror:0.063191\n",
      "[356]\ttrain-merror:0.022337\ttest-merror:0.063118\n",
      "[357]\ttrain-merror:0.022333\ttest-merror:0.06305\n",
      "[358]\ttrain-merror:0.022319\ttest-merror:0.063113\n",
      "[359]\ttrain-merror:0.022309\ttest-merror:0.063092\n",
      "[360]\ttrain-merror:0.022297\ttest-merror:0.063029\n",
      "[361]\ttrain-merror:0.02228\ttest-merror:0.062998\n",
      "[362]\ttrain-merror:0.022271\ttest-merror:0.062977\n",
      "[363]\ttrain-merror:0.022263\ttest-merror:0.062977\n",
      "[364]\ttrain-merror:0.022249\ttest-merror:0.062998\n",
      "[365]\ttrain-merror:0.022243\ttest-merror:0.06292\n",
      "[366]\ttrain-merror:0.022233\ttest-merror:0.062962\n",
      "[367]\ttrain-merror:0.022224\ttest-merror:0.062967\n",
      "[368]\ttrain-merror:0.022223\ttest-merror:0.062951\n",
      "[369]\ttrain-merror:0.022211\ttest-merror:0.062915\n",
      "[370]\ttrain-merror:0.022202\ttest-merror:0.0628\n",
      "[371]\ttrain-merror:0.022187\ttest-merror:0.062763\n",
      "[372]\ttrain-merror:0.022186\ttest-merror:0.062743\n",
      "[373]\ttrain-merror:0.02218\ttest-merror:0.062727\n",
      "[374]\ttrain-merror:0.022173\ttest-merror:0.062696\n",
      "[375]\ttrain-merror:0.022168\ttest-merror:0.062649\n",
      "[376]\ttrain-merror:0.022165\ttest-merror:0.062612\n",
      "[377]\ttrain-merror:0.022154\ttest-merror:0.062638\n",
      "[378]\ttrain-merror:0.022146\ttest-merror:0.062711\n",
      "[379]\ttrain-merror:0.02214\ttest-merror:0.062685\n",
      "[380]\ttrain-merror:0.022126\ttest-merror:0.062643\n",
      "[381]\ttrain-merror:0.022121\ttest-merror:0.062659\n",
      "[382]\ttrain-merror:0.022122\ttest-merror:0.06268\n",
      "[383]\ttrain-merror:0.022107\ttest-merror:0.062654\n",
      "[384]\ttrain-merror:0.022104\ttest-merror:0.06255\n",
      "[385]\ttrain-merror:0.022104\ttest-merror:0.062503\n",
      "[386]\ttrain-merror:0.022092\ttest-merror:0.06257\n",
      "[387]\ttrain-merror:0.022078\ttest-merror:0.062576\n",
      "[388]\ttrain-merror:0.02207\ttest-merror:0.062523\n",
      "[389]\ttrain-merror:0.022062\ttest-merror:0.062482\n",
      "[390]\ttrain-merror:0.022064\ttest-merror:0.06256\n",
      "[391]\ttrain-merror:0.022061\ttest-merror:0.062456\n",
      "[392]\ttrain-merror:0.022058\ttest-merror:0.062482\n",
      "[393]\ttrain-merror:0.022057\ttest-merror:0.062414\n",
      "[394]\ttrain-merror:0.022054\ttest-merror:0.062388\n",
      "[395]\ttrain-merror:0.022052\ttest-merror:0.062466\n",
      "[396]\ttrain-merror:0.022047\ttest-merror:0.06243\n",
      "[397]\ttrain-merror:0.022037\ttest-merror:0.062383\n",
      "[398]\ttrain-merror:0.022027\ttest-merror:0.062357\n",
      "[399]\ttrain-merror:0.02203\ttest-merror:0.062278\n",
      "[400]\ttrain-merror:0.022023\ttest-merror:0.062367\n",
      "[401]\ttrain-merror:0.022023\ttest-merror:0.06231\n",
      "[402]\ttrain-merror:0.022013\ttest-merror:0.062299\n",
      "[403]\ttrain-merror:0.022007\ttest-merror:0.062304\n",
      "[404]\ttrain-merror:0.022004\ttest-merror:0.062242\n",
      "[405]\ttrain-merror:0.022\ttest-merror:0.062164\n",
      "[406]\ttrain-merror:0.021994\ttest-merror:0.062132\n",
      "[407]\ttrain-merror:0.021991\ttest-merror:0.062122\n",
      "[408]\ttrain-merror:0.021985\ttest-merror:0.062184\n",
      "[409]\ttrain-merror:0.021981\ttest-merror:0.062211\n",
      "[410]\ttrain-merror:0.021974\ttest-merror:0.062153\n",
      "[411]\ttrain-merror:0.021971\ttest-merror:0.062153\n",
      "[412]\ttrain-merror:0.021972\ttest-merror:0.062132\n",
      "[413]\ttrain-merror:0.021968\ttest-merror:0.062122\n",
      "[414]\ttrain-merror:0.021962\ttest-merror:0.062101\n",
      "[415]\ttrain-merror:0.021961\ttest-merror:0.062221\n",
      "[416]\ttrain-merror:0.021957\ttest-merror:0.062164\n",
      "[417]\ttrain-merror:0.021954\ttest-merror:0.062122\n",
      "[418]\ttrain-merror:0.021953\ttest-merror:0.062117\n",
      "[419]\ttrain-merror:0.021949\ttest-merror:0.062059\n",
      "[420]\ttrain-merror:0.021945\ttest-merror:0.062012\n",
      "[421]\ttrain-merror:0.021945\ttest-merror:0.062044\n",
      "[422]\ttrain-merror:0.021944\ttest-merror:0.06207\n",
      "[423]\ttrain-merror:0.021944\ttest-merror:0.062038\n",
      "[424]\ttrain-merror:0.021941\ttest-merror:0.062018\n",
      "[425]\ttrain-merror:0.021937\ttest-merror:0.062023\n",
      "[426]\ttrain-merror:0.021934\ttest-merror:0.06208\n",
      "[427]\ttrain-merror:0.021929\ttest-merror:0.062012\n",
      "[428]\ttrain-merror:0.021925\ttest-merror:0.061986\n",
      "[429]\ttrain-merror:0.021923\ttest-merror:0.062044\n",
      "[430]\ttrain-merror:0.021919\ttest-merror:0.061965\n",
      "[431]\ttrain-merror:0.021911\ttest-merror:0.061965\n",
      "[432]\ttrain-merror:0.021907\ttest-merror:0.061939\n",
      "[433]\ttrain-merror:0.021907\ttest-merror:0.061934\n",
      "[434]\ttrain-merror:0.021902\ttest-merror:0.061871\n",
      "[435]\ttrain-merror:0.021899\ttest-merror:0.061856\n",
      "[436]\ttrain-merror:0.021895\ttest-merror:0.061814\n",
      "[437]\ttrain-merror:0.02189\ttest-merror:0.061731\n",
      "[438]\ttrain-merror:0.021889\ttest-merror:0.061814\n",
      "[439]\ttrain-merror:0.021889\ttest-merror:0.061887\n",
      "[440]\ttrain-merror:0.021885\ttest-merror:0.061903\n",
      "[441]\ttrain-merror:0.021885\ttest-merror:0.061939\n",
      "[442]\ttrain-merror:0.021885\ttest-merror:0.061939\n",
      "[443]\ttrain-merror:0.021882\ttest-merror:0.061887\n",
      "[444]\ttrain-merror:0.021876\ttest-merror:0.061871\n",
      "[445]\ttrain-merror:0.021871\ttest-merror:0.061871\n",
      "[446]\ttrain-merror:0.021864\ttest-merror:0.061913\n",
      "[447]\ttrain-merror:0.021863\ttest-merror:0.061871\n",
      "Stopping. Best iteration:\n",
      "[437]\ttrain-merror:0.02189\ttest-merror:0.061731\n",
      "\n"
     ]
    }
   ],
   "source": [
    "watchlist = [(xg_train, 'train'), (xg_test, 'test')]\n",
    "num_round = 1000\n",
    "# num_round = 5\n",
    "\n",
    "bst = xgb.train(params=params, dtrain=xg_train, num_boost_round=num_round, evals=watchlist, early_stopping_rounds=10)\n",
    "# bst = xgb.train(params=params, dtrain=xg_train, num_boost_round=num_round, evals=watchlist)"
   ]
  },
  {
   "cell_type": "code",
   "execution_count": 12,
   "metadata": {
    "ExecuteTime": {
     "end_time": "2018-05-10T04:59:37.272702Z",
     "start_time": "2018-05-10T00:59:37.228083-04:00"
    },
    "collapsed": true,
    "deletable": true,
    "editable": true
   },
   "outputs": [],
   "source": [
    "pred = bst.predict(xg_test)"
   ]
  },
  {
   "cell_type": "code",
   "execution_count": 13,
   "metadata": {
    "ExecuteTime": {
     "end_time": "2018-05-10T04:59:37.280723Z",
     "start_time": "2018-05-10T00:59:37.273705-04:00"
    },
    "collapsed": false,
    "deletable": true,
    "editable": true
   },
   "outputs": [
    {
     "name": "stdout",
     "output_type": "stream",
     "text": [
      "Test error using softmax = 0.06187147924055915\n"
     ]
    }
   ],
   "source": [
    "error_rate = np.sum(pred != y_test) / y_test.shape[0]\n",
    "print('Test error using softmax = {}'.format(error_rate))"
   ]
  },
  {
   "cell_type": "code",
   "execution_count": 14,
   "metadata": {
    "ExecuteTime": {
     "end_time": "2018-05-10T05:00:23.219654Z",
     "start_time": "2018-05-10T00:59:37.282227-04:00"
    },
    "collapsed": false,
    "deletable": true,
    "editable": true
   },
   "outputs": [
    {
     "data": {
      "image/png": "[encoded data removed]",
      "text/plain": [
       "<matplotlib.figure.Figure at 0x1febbda06a0>"
      ]
     },
     "metadata": {},
     "output_type": "display_data"
    }
   ],
   "source": [
    "ax = xgb.plot_importance(bst)\n",
    "fig = ax.figure\n",
    "fig.set_size_inches(15, 10)"
   ]
  },
  {
   "cell_type": "code",
   "execution_count": 15,
   "metadata": {
    "ExecuteTime": {
     "end_time": "2018-05-10T05:00:23.229180Z",
     "start_time": "2018-05-10T01:00:23.220657-04:00"
    },
    "collapsed": false,
    "deletable": true,
    "editable": true
   },
   "outputs": [
    {
     "name": "stdout",
     "output_type": "stream",
     "text": [
      "0: location_raw\n",
      "1: driver_age_raw\n",
      "2: search_conducted\n",
      "3: contraband_found\n",
      "4: violation_bad_stop\n",
      "5: violation_cell_phone\n",
      "6: violation_display_of_plates\n",
      "7: violation_equipment\n",
      "8: violation_license\n",
      "9: violation_lights\n",
      "10: violation_moving_violation\n",
      "11: violation_other\n",
      "12: violation_registration\n",
      "13: violation_safe_movement\n",
      "14: violation_seatbelt\n",
      "15: violation_speeding\n",
      "16: violation_suspended_license\n",
      "17: violation_traffic_control_signal\n",
      "18: violation_window_tint\n",
      "19: is_male\n",
      "20: county_name_Fairfield County\n",
      "21: county_name_Hartford County\n",
      "22: county_name_Litchfield County\n",
      "23: county_name_Middlesex County\n",
      "24: county_name_New Haven County\n",
      "25: county_name_New London County\n",
      "26: county_name_Tolland County\n",
      "27: county_name_Windham County\n",
      "28: driver_race_Asian\n",
      "29: driver_race_Black\n",
      "30: driver_race_Hispanic\n",
      "31: driver_race_Other\n",
      "32: driver_race_White\n",
      "33: stop_duration_1-15 min\n",
      "34: stop_duration_16-30 min\n",
      "35: stop_duration_30+ min\n",
      "36: day_period_Afternoon\n",
      "37: day_period_Evening\n",
      "38: day_period_Morning\n",
      "39: day_period_Small Hours\n",
      "40: season_Fall\n",
      "41: season_Spring\n",
      "42: season_Summer\n",
      "43: season_Winter\n"
     ]
    }
   ],
   "source": [
    "for idx, c in enumerate(final_features.columns.values):\n",
    "    print('{}: {}'.format(idx, c))"
   ]
  },
  {
   "cell_type": "code",
   "execution_count": 16,
   "metadata": {
    "ExecuteTime": {
     "end_time": "2018-05-10T05:00:23.834112Z",
     "start_time": "2018-05-10T01:00:23.230683-04:00"
    },
    "collapsed": false,
    "deletable": true,
    "editable": true
   },
   "outputs": [],
   "source": [
    "pred_2 = bst.predict(xg_test_2)"
   ]
  },
  {
   "cell_type": "code",
   "execution_count": 22,
   "metadata": {
    "ExecuteTime": {
     "end_time": "2018-05-10T05:04:53.896159Z",
     "start_time": "2018-05-10T01:04:53.866078-04:00"
    },
    "collapsed": false,
    "deletable": true,
    "editable": true
   },
   "outputs": [
    {
     "name": "stdout",
     "output_type": "stream",
     "text": [
      "Test error using softmax [test_2] = 0.06156346626496472\n"
     ]
    }
   ],
   "source": [
    "error_rate = np.sum(pred_2 != le.fit_transform(final_test_outcomes)) / final_test_outcomes.shape[0]\n",
    "print('Test error using softmax [test_2] = {}'.format(error_rate))"
   ]
  },
  {
   "cell_type": "code",
   "execution_count": null,
   "metadata": {
    "ExecuteTime": {
     "end_time": "2018-05-10T03:41:01.312100Z",
     "start_time": "2018-05-09T23:41:00.263130-04:00"
    },
    "collapsed": false
   },
   "outputs": [],
   "source": [
    "from sklearn.utils import shuffle\n",
    "\n",
    "ff2 = final_features.copy(deep=True)\n",
    "ff2['stop_outcome'] = outcomes\n",
    "\n",
    "ff2 = shuffle(ff2, random_state=8, n_samples=100000)\n",
    "ff2_outcomes = le.fit_transform(ff2.pop('stop_outcome'))\n",
    "\n",
    "xg_test_3 = xgb.DMatrix(ff2.values, label=ff2_outcomes)\n",
    "\n",
    "pred_3 = bst.predict(xg_test_3)\n",
    "\n",
    "error_rate_3 = np.sum(pred_2 != ff2_outcomes) / ff2_outcomes.shape[0]\n",
    "\n",
    "print('Test error using softmax [test_3] = {}'.format(error_rate_3))"
   ]
  },
  {
   "cell_type": "code",
   "execution_count": 23,
   "metadata": {
    "ExecuteTime": {
     "end_time": "2018-05-10T05:08:10.643649Z",
     "start_time": "2018-05-10T01:08:04.579344-04:00"
    },
    "collapsed": false
   },
   "outputs": [],
   "source": [
    "pickle.dump(bst, open('runs/201805100107-0.062-error-oversampled-bst.pkl', 'wb'))"
   ]
  },
  {
   "cell_type": "code",
   "execution_count": null,
   "metadata": {
    "ExecuteTime": {
     "end_time": "2018-05-10T03:07:57.935386Z",
     "start_time": "2018-05-09T23:07:57.925359-04:00"
    },
    "collapsed": true,
    "deletable": true,
    "editable": true
   },
   "outputs": [],
   "source": [
    "# from datetime import datetime\n",
    "# import pickle\n",
    "\n",
    "# timestamp = datetime.now().strftime('%Y%m%d%H%M%S')\n",
    "\n",
    "# pickle(bst, open('{}-bst.pkl'.format(timestamp), 'wb')\n",
    "# pickle(pred, open('{}-pred.pkl'.format(timestamp), 'wb')\n"
   ]
  },
  {
   "cell_type": "markdown",
   "metadata": {},
   "source": [
    "### Plot results"
   ]
  },
  {
   "cell_type": "code",
   "execution_count": 24,
   "metadata": {
    "ExecuteTime": {
     "end_time": "2018-05-10T12:06:46.669594Z",
     "start_time": "2018-05-10T08:06:45.206803-04:00"
    },
    "collapsed": false
   },
   "outputs": [
    {
     "data": {
      "text/plain": [
       "<matplotlib.text.Text at 0x1febdfba9b0>"
      ]
     },
     "execution_count": 24,
     "metadata": {},
     "output_type": "execute_result"
    },
    {
     "data": {
      "image/png": "[encoded data removed]",
      "text/plain": [
       "<matplotlib.figure.Figure at 0x1febdf7c6d8>"
      ]
     },
     "metadata": {},
     "output_type": "display_data"
    }
   ],
   "source": [
    "error_results = {\n",
    "    'train': [],\n",
    "    'test': [],\n",
    "}\n",
    "\n",
    "with open('xgboost-447_run-201805100107.log', 'r') as f:\n",
    "    for line in f:\n",
    "        tokens = line.strip().split('\\t')\n",
    "        error_results['train'].append(float(tokens[1].split(':')[1]))\n",
    "        error_results['test'].append(float(tokens[2].split(':')[1]))\n",
    "\n",
    "df_errors = pd.DataFrame(error_results)\n",
    "\n",
    "learning_curve = df_errors.plot.line(title='Learning curve', figsize=(8,5))\n",
    "learning_curve.set_xlabel('Number of runs')\n",
    "learning_curve.set_ylabel('Error')"
   ]
  },
  {
   "cell_type": "code",
   "execution_count": 25,
   "metadata": {
    "ExecuteTime": {
     "end_time": "2018-05-10T12:07:41.479527Z",
     "start_time": "2018-05-10T08:07:40.501291-04:00"
    },
    "collapsed": false
   },
   "outputs": [
    {
     "data": {
      "text/plain": [
       "<matplotlib.text.Text at 0x1febfb21fd0>"
      ]
     },
     "execution_count": 25,
     "metadata": {},
     "output_type": "execute_result"
    },
    {
     "data": {
      "image/png": "[encoded data removed]",
      "text/plain": [
       "<matplotlib.figure.Figure at 0x1febfae6a58>"
      ]
     },
     "metadata": {},
     "output_type": "display_data"
    }
   ],
   "source": [
    "df_accuracy = df_errors.copy()\n",
    "df_accuracy_processed = df_accuracy.mul(-1).add(1)\n",
    "\n",
    "learning_curve = df_accuracy_processed.plot.line(title='Learning curve', figsize=(8,5))\n",
    "learning_curve.set_xlabel('Number of runs')\n",
    "learning_curve.set_ylabel('Accuracy')"
   ]
  },
  {
   "cell_type": "code",
   "execution_count": null,
   "metadata": {
    "collapsed": true
   },
   "outputs": [],
   "source": []
  }
 ],
 "metadata": {
  "anaconda-cloud": {},
  "hide_input": false,
  "kernelspec": {
   "display_name": "Python 3",
   "language": "python",
   "name": "python3"
  },
  "language_info": {
   "codemirror_mode": {
    "name": "ipython",
    "version": 3
   },
   "file_extension": ".py",
   "mimetype": "text/x-python",
   "name": "python",
   "nbconvert_exporter": "python",
   "pygments_lexer": "ipython3",
   "version": "3.5.3"
  },
  "toc": {
   "base_numbering": 1,
   "nav_menu": {},
   "number_sections": true,
   "sideBar": true,
   "skip_h1_title": false,
   "title_cell": "Table of Contents",
   "title_sidebar": "Contents",
   "toc_cell": false,
   "toc_position": {},
   "toc_section_display": true,
   "toc_window_display": false
  },
  "varInspector": {
   "cols": {
    "lenName": 16,
    "lenType": 16,
    "lenVar": 40
   },
   "kernels_config": {
    "python": {
     "delete_cmd_postfix": "",
     "delete_cmd_prefix": "del ",
     "library": "var_list.py",
     "varRefreshCmd": "print(var_dic_list())"
    },
    "r": {
     "delete_cmd_postfix": ") ",
     "delete_cmd_prefix": "rm(",
     "library": "var_list.r",
     "varRefreshCmd": "cat(var_dic_list()) "
    }
   },
   "types_to_exclude": [
    "module",
    "function",
    "builtin_function_or_method",
    "instance",
    "_Feature"
   ],
   "window_display": false
  }
 },
 "nbformat": 4,
 "nbformat_minor": 2
}
