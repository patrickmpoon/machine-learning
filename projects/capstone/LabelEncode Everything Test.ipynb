{
 "cells": [
  {
   "cell_type": "code",
   "execution_count": 1,
   "metadata": {
    "ExecuteTime": {
     "end_time": "2018-05-16T01:51:53.432721Z",
     "start_time": "2018-05-15T21:51:34.374901-04:00"
    },
    "collapsed": true,
    "hide_input": false
   },
   "outputs": [],
   "source": [
    "from datetime import datetime\n",
    "\n",
    "import humanize\n",
    "import numpy as np\n",
    "import pandas as pd\n",
    "import pickle\n",
    "import time\n",
    "from sklearn.ensemble import RandomForestClassifier, GradientBoostingClassifier, VotingClassifier\n",
    "from sklearn.linear_model import LogisticRegression\n",
    "from sklearn.metrics import classification_report\n",
    "from sklearn.model_selection import GridSearchCV, RandomizedSearchCV, train_test_split\n",
    "from sklearn.naive_bayes import GaussianNB\n",
    "from sklearn.preprocessing import LabelEncoder\n",
    "from sklearn.tree import DecisionTreeClassifier\n",
    "from sklearn.utils import shuffle\n",
    "from tabulate import tabulate\n",
    "\n",
    "\n",
    "%matplotlib inline"
   ]
  },
  {
   "cell_type": "code",
   "execution_count": 2,
   "metadata": {
    "ExecuteTime": {
     "end_time": "2018-05-15T21:42:37.924601Z",
     "start_time": "2018-05-15T17:42:36.996134-04:00"
    }
   },
   "outputs": [
    {
     "name": "stderr",
     "output_type": "stream",
     "text": [
      "D:\\AppData\\Local\\conda\\conda\\envs\\kaggle\\lib\\site-packages\\IPython\\core\\interactiveshell.py:2717: DtypeWarning: Columns (22) have mixed types. Specify dtype option on import or set low_memory=False.\n",
      "  interactivity=interactivity, compiler=compiler, result=result)\n"
     ]
    }
   ],
   "source": [
    "df = pd.read_csv('./data/CT-clean.csv', header=0)"
   ]
  },
  {
   "cell_type": "code",
   "execution_count": 3,
   "metadata": {
    "ExecuteTime": {
     "end_time": "2018-05-15T21:42:37.971727Z",
     "start_time": "2018-05-15T17:42:37.925605-04:00"
    },
    "collapsed": true
   },
   "outputs": [],
   "source": [
    "# Drop columns that clearly should be dropped\n",
    "\n",
    "drop_cols = [\n",
    "    'county_fips',\n",
    "    'driver_age',\n",
    "    'driver_race_raw',\n",
    "    'fine_grained_location',\n",
    "    'id',\n",
    "    'is_arrested',\n",
    "    'officer_id',\n",
    "    'police_department',\n",
    "    'search_type_raw',\n",
    "    'search_type',\n",
    "    'state',\n",
    "]\n",
    "\n",
    "df.drop(drop_cols, axis=1, inplace=True)"
   ]
  },
  {
   "cell_type": "code",
   "execution_count": 4,
   "metadata": {
    "ExecuteTime": {
     "end_time": "2018-05-15T21:42:37.976739Z",
     "start_time": "2018-05-15T17:42:37.972731-04:00"
    }
   },
   "outputs": [
    {
     "data": {
      "text/plain": [
       "(318669, 13)"
      ]
     },
     "execution_count": 4,
     "metadata": {},
     "output_type": "execute_result"
    }
   ],
   "source": [
    "df.shape"
   ]
  },
  {
   "cell_type": "code",
   "execution_count": 5,
   "metadata": {
    "ExecuteTime": {
     "end_time": "2018-05-15T21:42:38.148195Z",
     "start_time": "2018-05-15T17:42:37.977742-04:00"
    }
   },
   "outputs": [
    {
     "data": {
      "text/plain": [
       "stop_date              0\n",
       "stop_time            222\n",
       "location_raw          41\n",
       "county_name           42\n",
       "driver_gender          0\n",
       "driver_age_raw         0\n",
       "driver_race            0\n",
       "violation_raw          0\n",
       "violation              0\n",
       "search_conducted       0\n",
       "contraband_found       0\n",
       "stop_outcome        5356\n",
       "stop_duration          0\n",
       "dtype: int64"
      ]
     },
     "execution_count": 5,
     "metadata": {},
     "output_type": "execute_result"
    }
   ],
   "source": [
    "df.isnull().sum()"
   ]
  },
  {
   "cell_type": "code",
   "execution_count": 6,
   "metadata": {
    "ExecuteTime": {
     "end_time": "2018-05-15T21:42:38.219385Z",
     "start_time": "2018-05-15T17:42:38.149199-04:00"
    },
    "collapsed": true
   },
   "outputs": [],
   "source": [
    "# Drop empty stop_outcome and county_name/county_fips rows\n",
    "\n",
    "df.dropna(subset=['stop_outcome', 'county_name'], axis=0, inplace=True)"
   ]
  },
  {
   "cell_type": "code",
   "execution_count": 7,
   "metadata": {
    "ExecuteTime": {
     "end_time": "2018-05-15T21:42:38.223396Z",
     "start_time": "2018-05-15T17:42:38.220388-04:00"
    }
   },
   "outputs": [
    {
     "data": {
      "text/plain": [
       "(313274, 13)"
      ]
     },
     "execution_count": 7,
     "metadata": {},
     "output_type": "execute_result"
    }
   ],
   "source": [
    "df.shape"
   ]
  },
  {
   "cell_type": "code",
   "execution_count": 8,
   "metadata": {
    "ExecuteTime": {
     "end_time": "2018-05-15T21:42:38.346724Z",
     "start_time": "2018-05-15T17:42:38.224400-04:00"
    }
   },
   "outputs": [
    {
     "data": {
      "text/plain": [
       "stop_date             0\n",
       "stop_time           220\n",
       "location_raw          0\n",
       "county_name           0\n",
       "driver_gender         0\n",
       "driver_age_raw        0\n",
       "driver_race           0\n",
       "violation_raw         0\n",
       "violation             0\n",
       "search_conducted      0\n",
       "contraband_found      0\n",
       "stop_outcome          0\n",
       "stop_duration         0\n",
       "dtype: int64"
      ]
     },
     "execution_count": 8,
     "metadata": {},
     "output_type": "execute_result"
    }
   ],
   "source": [
    "df.isnull().sum()"
   ]
  },
  {
   "cell_type": "markdown",
   "metadata": {},
   "source": [
    "#### Outcomes by Violations\n",
    "\n",
    "Two columns, **`violation`** and **`violations_raw`**, provide information about the related violation(s) involved in a traffic stop outcome.  Unfortunately, these columns suffer from repetitive values and inconsistent data entry issues.  For example, some values are phrased differently yet have the same meaning.  I will need to settle on a standard value for these duplicate values and perform one-hot encoding for each class value."
   ]
  },
  {
   "cell_type": "code",
   "execution_count": 9,
   "metadata": {
    "ExecuteTime": {
     "end_time": "2018-05-15T17:43:23.628733Z",
     "start_time": "2018-05-15T17:42:38.347726-04:00"
    },
    "collapsed": true
   },
   "outputs": [],
   "source": [
    "def normalize_violation(violation):\n",
    "    \"\"\"Normalize violation values\n",
    "    \"\"\"\n",
    "    if violation == 'defective lights':\n",
    "        return 'lights'\n",
    "    elif violation == 'equipment violation':\n",
    "        return 'equipment'\n",
    "    elif violation == 'other/error':\n",
    "        return 'other'\n",
    "    elif violation == 'registration/plates':\n",
    "        return 'registration'\n",
    "    elif violation == 'seat belt':\n",
    "        return 'seatbelt'\n",
    "    elif violation == 'speed related':\n",
    "        return 'speeding'\n",
    "    elif violation == 'stop sign/light' or violation == 'stop sign':\n",
    "        return 'bad_stop'\n",
    "    return violation.replace(' ', '_')\n",
    "\n",
    "\n",
    "def merge_violations(violations):\n",
    "    \"\"\"Merge violation and violation_raw columns\n",
    "    \"\"\"\n",
    "    merged = []\n",
    "    tokens = violations.lower().split(',')\n",
    "    return list(set([normalize_violation(violation) for violation in tokens]))\n",
    "    \n",
    "\n",
    "def onehot_encode_violations(arr_violations):\n",
    "    row = np.zeros(len(violations))\n",
    "    for v in arr_violations:\n",
    "        row[violations.index(v)] = 1\n",
    "    return row\n",
    "\n",
    "\n",
    "violations = []\n",
    "\n",
    "for violation in list(df.violation.unique()) + list(df.violation_raw.unique()):\n",
    "    tokens = violation.lower().split(',')\n",
    "    violations.extend([normalize_violation(token) for token in tokens])\n",
    "\n",
    "violations = sorted(set(violations))\n",
    "\n",
    "merged = df[['violation_raw', 'violation']].apply(lambda x: ','.join(x), axis=1).apply(merge_violations)\n",
    "\n",
    "violation_col_headers = ['violation_{}'.format(violation.replace(' ', '_')) for violation in violations]\n",
    "\n",
    "df_violations = merged.apply(onehot_encode_violations).apply(lambda x: pd.Series(x, dtype=int))\n",
    "df_violations.columns = violation_col_headers"
   ]
  },
  {
   "cell_type": "code",
   "execution_count": 10,
   "metadata": {
    "ExecuteTime": {
     "end_time": "2018-05-15T17:43:23.993703Z",
     "start_time": "2018-05-15T13:43:23.629736-04:00"
    },
    "collapsed": true
   },
   "outputs": [],
   "source": [
    "# Append one-hot encoded violations\n",
    "df = pd.concat([df, df_violations], axis=1)\n",
    "\n",
    "# Remove records with age less than 15\n",
    "weird_ages_rows = df[df[\"driver_age_raw\"] < 15]['driver_age_raw']\n",
    "df.drop(index=weird_ages_rows.index, inplace=True)\n",
    "\n",
    "# Fill in empty **`stop_time`** with median value\n",
    "populated = df[df.stop_time.notnull()]['stop_time'].sort_values()\n",
    "median_stop_time = populated.iloc[populated.shape[0] // 2]\n",
    "df['stop_time'].fillna(median_stop_time, inplace=True)"
   ]
  },
  {
   "cell_type": "code",
   "execution_count": 11,
   "metadata": {
    "ExecuteTime": {
     "end_time": "2018-05-15T17:43:23.996712Z",
     "start_time": "2018-05-15T13:43:23.994706-04:00"
    },
    "collapsed": true
   },
   "outputs": [],
   "source": [
    "# df.shape"
   ]
  },
  {
   "cell_type": "code",
   "execution_count": 12,
   "metadata": {
    "ExecuteTime": {
     "end_time": "2018-05-15T17:43:35.309311Z",
     "start_time": "2018-05-15T13:43:23.997716-04:00"
    },
    "collapsed": true
   },
   "outputs": [],
   "source": [
    "# Categorize stop_time into time-of-day: \"morning, afternoon, evening, small hours\"\n",
    "def day_period(time_str):\n",
    "    hour = time_str.hour\n",
    "    if hour >= 0 and hour < 6:\n",
    "        return 'Small Hours'\n",
    "    elif hour >= 6 and hour < 12:\n",
    "        return 'Morning'\n",
    "    elif hour >= 12 and hour < 18:\n",
    "        return 'Afternoon'\n",
    "    else:\n",
    "        return 'Evening'\n",
    "\n",
    "df['day_period'] = pd.to_datetime(df['stop_time']).apply(day_period)\n"
   ]
  },
  {
   "cell_type": "code",
   "execution_count": 13,
   "metadata": {
    "ExecuteTime": {
     "end_time": "2018-05-15T17:43:35.312821Z",
     "start_time": "2018-05-15T13:43:35.310314-04:00"
    },
    "collapsed": true
   },
   "outputs": [],
   "source": [
    "# df.shape"
   ]
  },
  {
   "cell_type": "code",
   "execution_count": 14,
   "metadata": {
    "ExecuteTime": {
     "end_time": "2018-05-15T17:43:37.658698Z",
     "start_time": "2018-05-15T13:43:35.314324-04:00"
    },
    "collapsed": true
   },
   "outputs": [],
   "source": [
    "# Categorize stop_date by season\n",
    "def season(stop_date):\n",
    "    month = datetime.strptime(stop_date, '%Y-%m-%d').month\n",
    "    if month >= 3 and month < 6:\n",
    "        return 'Spring'\n",
    "    elif month >= 6 and month < 9:\n",
    "        return 'Summer'\n",
    "    elif month >= 9 and month < 12:\n",
    "        return 'Fall'\n",
    "    return 'Winter'\n",
    "\n",
    "df['season'] = df['stop_date'].apply(season)"
   ]
  },
  {
   "cell_type": "code",
   "execution_count": 15,
   "metadata": {
    "ExecuteTime": {
     "end_time": "2018-05-15T17:43:37.754954Z",
     "start_time": "2018-05-15T13:43:37.659701-04:00"
    },
    "collapsed": true
   },
   "outputs": [],
   "source": [
    "# Transform driver_gender to binary\n",
    "df['is_male'] = df['driver_gender'].apply(lambda x: 1 if x == 'M' else 0)"
   ]
  },
  {
   "cell_type": "code",
   "execution_count": 16,
   "metadata": {
    "ExecuteTime": {
     "end_time": "2018-05-15T17:43:40.947033Z",
     "start_time": "2018-05-15T13:43:37.755956-04:00"
    },
    "collapsed": true
   },
   "outputs": [],
   "source": [
    "# Experiment: See whether labelencoding location_raw improves performance\n",
    "from sklearn.preprocessing import LabelEncoder\n",
    "\n",
    "le_location_raw = LabelEncoder()\n",
    "le_county_name = LabelEncoder()\n",
    "le_driver_race = LabelEncoder()\n",
    "le_stop_duration = LabelEncoder()\n",
    "le_day_period = LabelEncoder()\n",
    "le_season = LabelEncoder()\n",
    "\n",
    "df['location_raw'] = le_location_raw.fit_transform(df['location_raw'])\n",
    "df['county_name'] = le_county_name.fit_transform(df['county_name'])\n",
    "df['driver_race'] = le_driver_race.fit_transform(df['driver_race'])\n",
    "df['stop_duration'] = le_stop_duration.fit_transform(df['stop_duration'])\n",
    "df['day_period'] = le_day_period.fit_transform(df['day_period'])\n",
    "df['season'] = le_season.fit_transform(df['season'])\n"
   ]
  },
  {
   "cell_type": "code",
   "execution_count": 17,
   "metadata": {
    "ExecuteTime": {
     "end_time": "2018-05-15T17:43:40.950043Z",
     "start_time": "2018-05-15T13:43:40.948036-04:00"
    },
    "collapsed": true
   },
   "outputs": [],
   "source": [
    "# df.shape"
   ]
  },
  {
   "cell_type": "code",
   "execution_count": 18,
   "metadata": {
    "ExecuteTime": {
     "end_time": "2018-05-15T17:43:40.996690Z",
     "start_time": "2018-05-15T13:43:40.951047-04:00"
    },
    "collapsed": true
   },
   "outputs": [],
   "source": [
    "# Drop columns no longer needed due to normalization\n",
    "drop_cols = [\n",
    "    'driver_gender',\n",
    "#     'county_name',\n",
    "#     'location_raw',\n",
    "#     'officer_id',\n",
    "    'stop_date',\n",
    "    'stop_time',\n",
    "    'violation_raw',\n",
    "    'violation',\n",
    "]\n",
    "\n",
    "df.drop(drop_cols, axis=1, inplace=True)"
   ]
  },
  {
   "cell_type": "code",
   "execution_count": 19,
   "metadata": {
    "ExecuteTime": {
     "end_time": "2018-05-15T17:43:41.000175Z",
     "start_time": "2018-05-15T13:43:40.997669-04:00"
    },
    "collapsed": true
   },
   "outputs": [],
   "source": [
    "# df.shape"
   ]
  },
  {
   "cell_type": "code",
   "execution_count": 20,
   "metadata": {
    "ExecuteTime": {
     "end_time": "2018-05-15T17:43:41.225274Z",
     "start_time": "2018-05-15T13:43:41.001679-04:00"
    },
    "collapsed": true
   },
   "outputs": [],
   "source": [
    "# Convert booleans to 0 and 1\n",
    "df['search_conducted'] = df['search_conducted'].apply(lambda x: int(x))\n",
    "df['contraband_found'] = df['contraband_found'].apply(lambda x: int(x))"
   ]
  },
  {
   "cell_type": "code",
   "execution_count": 21,
   "metadata": {
    "ExecuteTime": {
     "end_time": "2018-05-15T17:43:41.259365Z",
     "start_time": "2018-05-15T13:43:41.226277-04:00"
    }
   },
   "outputs": [
    {
     "name": "stderr",
     "output_type": "stream",
     "text": [
      "D:\\AppData\\Local\\conda\\conda\\envs\\kaggle\\lib\\site-packages\\ipykernel\\__main__.py:6: FutureWarning: reshape is deprecated and will raise in a subsequent release. Please use .values.reshape(...) instead\n",
      "D:\\AppData\\Local\\conda\\conda\\envs\\kaggle\\lib\\site-packages\\sklearn\\utils\\validation.py:429: DataConversionWarning: Data with input dtype int64 was converted to float64 by MinMaxScaler.\n",
      "  warnings.warn(msg, _DataConversionWarning)\n"
     ]
    }
   ],
   "source": [
    "# Normalize driver_age\n",
    "from sklearn.preprocessing import MinMaxScaler\n",
    "\n",
    "scaler = MinMaxScaler() # default=(0, 1)\n",
    "features_transformed = pd.DataFrame(data=df)\n",
    "features_transformed['driver_age_raw'] = scaler.fit_transform(features_transformed['driver_age_raw'].reshape(-1, 1))\n",
    "# features_transformed"
   ]
  },
  {
   "cell_type": "code",
   "execution_count": 22,
   "metadata": {
    "ExecuteTime": {
     "end_time": "2018-05-15T17:43:41.264377Z",
     "start_time": "2018-05-15T13:43:41.260869-04:00"
    }
   },
   "outputs": [
    {
     "data": {
      "text/plain": [
       "(313129, 26)"
      ]
     },
     "execution_count": 22,
     "metadata": {},
     "output_type": "execute_result"
    }
   ],
   "source": [
    "features_transformed.shape"
   ]
  },
  {
   "cell_type": "code",
   "execution_count": 23,
   "metadata": {
    "ExecuteTime": {
     "end_time": "2018-05-15T17:43:41.545124Z",
     "start_time": "2018-05-15T13:43:41.266383-04:00"
    },
    "collapsed": true
   },
   "outputs": [],
   "source": [
    "features_transformed.drop_duplicates(inplace=True)"
   ]
  },
  {
   "cell_type": "code",
   "execution_count": 24,
   "metadata": {
    "ExecuteTime": {
     "end_time": "2018-05-15T17:43:41.549637Z",
     "start_time": "2018-05-15T13:43:41.547130-04:00"
    },
    "collapsed": true
   },
   "outputs": [],
   "source": [
    "# features_transformed.shape"
   ]
  },
  {
   "cell_type": "code",
   "execution_count": 25,
   "metadata": {
    "ExecuteTime": {
     "end_time": "2018-05-15T17:43:41.558159Z",
     "start_time": "2018-05-15T13:43:41.551641-04:00"
    },
    "collapsed": true
   },
   "outputs": [],
   "source": [
    "# Prefix officer id numbers as dtype is object and get_dummies() creates some duplicate columns\n",
    "# features_transformed['officer_id'] = le.fit_transform(features_transformed['officer_id'].apply(lambda x: 'no_{}'.format(x)))\n"
   ]
  },
  {
   "cell_type": "code",
   "execution_count": 26,
   "metadata": {
    "ExecuteTime": {
     "end_time": "2018-05-15T17:43:41.573198Z",
     "start_time": "2018-05-15T13:43:41.561167-04:00"
    },
    "collapsed": true
   },
   "outputs": [],
   "source": [
    "# One-hot encode categorical variables\n",
    "# cols_to_encode = [\n",
    "# #     'location_raw',\n",
    "#     'county_name',\n",
    "#     'driver_race',\n",
    "# #     'officer_id',\n",
    "#     'stop_duration',\n",
    "#     'day_period',\n",
    "#     'season',\n",
    "# ]\n",
    "# final_features = pd.get_dummies(features_transformed, columns=cols_to_encode)\n",
    "# final_features.columns.values"
   ]
  },
  {
   "cell_type": "code",
   "execution_count": 27,
   "metadata": {
    "ExecuteTime": {
     "end_time": "2018-05-15T17:43:41.583225Z",
     "start_time": "2018-05-15T13:43:41.575204-04:00"
    },
    "collapsed": true
   },
   "outputs": [],
   "source": [
    "final_features = features_transformed"
   ]
  },
  {
   "cell_type": "code",
   "execution_count": 28,
   "metadata": {
    "ExecuteTime": {
     "end_time": "2018-05-15T17:43:41.592751Z",
     "start_time": "2018-05-15T13:43:41.585731-04:00"
    },
    "collapsed": true
   },
   "outputs": [],
   "source": [
    "# final_features.shape"
   ]
  },
  {
   "cell_type": "code",
   "execution_count": 29,
   "metadata": {
    "ExecuteTime": {
     "end_time": "2018-05-15T17:43:41.599769Z",
     "start_time": "2018-05-15T13:43:41.594756-04:00"
    },
    "collapsed": true
   },
   "outputs": [],
   "source": [
    "from datetime import datetime\n",
    "\n",
    "timestamp = datetime.now().strftime('%Y%m%d%H%M%S')\n",
    "\n",
    "# non_oversampled = final_features.copy(deep=True)\n",
    "# non_oversampled_outcomes = non_oversampled.pop('stop_outcome')\n",
    "\n",
    "# non_oversampled.to_pickle('./final_features-{}-non_oversampled.pkl'.format(timestamp))\n",
    "# non_oversampled_outcomes.to_pickle('./labels-{}-non_oversampled.pkl'.format(timestamp))\n",
    "# print('timestamp = {}'.format(timestamp))"
   ]
  },
  {
   "cell_type": "markdown",
   "metadata": {},
   "source": [
    "An additional preprocessing step I took was oversampling the data to address the extreme imbalance in the traffic stop outcomes.  I computed a multiplier for each non-\"Ticket\" outcome value:"
   ]
  },
  {
   "cell_type": "code",
   "execution_count": 30,
   "metadata": {
    "ExecuteTime": {
     "end_time": "2018-05-15T17:43:41.727107Z",
     "start_time": "2018-05-15T13:43:41.601274-04:00"
    },
    "collapsed": true
   },
   "outputs": [],
   "source": [
    "tickets = final_features.loc[final_features['stop_outcome'] == 'Ticket']\n",
    "arrests = final_features.loc[final_features['stop_outcome'] == 'Arrest']\n",
    "summons = final_features.loc[final_features['stop_outcome'] == 'Summons']\n",
    "ww = final_features.loc[final_features['stop_outcome'] == 'Written Warning']\n",
    "vw = final_features.loc[final_features['stop_outcome'] == 'Verbal Warning']"
   ]
  },
  {
   "cell_type": "code",
   "execution_count": 31,
   "metadata": {
    "ExecuteTime": {
     "end_time": "2018-05-15T17:43:41.732623Z",
     "start_time": "2018-05-15T13:43:41.728111-04:00"
    },
    "collapsed": true
   },
   "outputs": [],
   "source": [
    "multiplier_arrests = tickets.shape[0] // arrests.shape[0]\n",
    "multiplier_summons = tickets.shape[0] // summons.shape[0]\n",
    "multiplier_ww = tickets.shape[0] // ww.shape[0]\n",
    "multiplier_vw = tickets.shape[0] // vw.shape[0]\n",
    "# print('Arrests: {}\\nSummons: {}\\nWW: {}\\nVW: {}'.format(multiplier_arrests, multiplier_summons, multiplier_ww, multiplier_vw))\n",
    "# Output:\n",
    "# Arrests: 26\n",
    "# Summons: 15\n",
    "# WW: 7\n",
    "# VW: 4\n"
   ]
  },
  {
   "cell_type": "markdown",
   "metadata": {},
   "source": [
    "| Outcome         | Multiplier |\n",
    "|:----------------|:----------:|\n",
    "| Arrest          |     26     |\n",
    "| Summons         |     15     |\n",
    "| Written Warning |      7     |\n",
    "| Verbal Warning  |      4     |"
   ]
  },
  {
   "cell_type": "code",
   "execution_count": 32,
   "metadata": {
    "ExecuteTime": {
     "end_time": "2018-05-15T17:43:42.115156Z",
     "start_time": "2018-05-15T13:43:41.734126-04:00"
    },
    "collapsed": true
   },
   "outputs": [],
   "source": [
    "oversampled = final_features.append([arrests] * multiplier_arrests, ignore_index=True)\n",
    "oversampled = oversampled.append([summons] * multiplier_summons, ignore_index=True)\n",
    "oversampled = oversampled.append([ww] * multiplier_ww, ignore_index=True)\n",
    "oversampled = oversampled.append([vw] * multiplier_vw, ignore_index=True)\n",
    "# oversampled.shape"
   ]
  },
  {
   "cell_type": "code",
   "execution_count": 33,
   "metadata": {
    "ExecuteTime": {
     "end_time": "2018-05-15T17:43:43.044770Z",
     "start_time": "2018-05-15T13:43:42.116158-04:00"
    }
   },
   "outputs": [
    {
     "name": "stdout",
     "output_type": "stream",
     "text": [
      "timestamp = 20180515134342\n"
     ]
    }
   ],
   "source": [
    "from datetime import datetime\n",
    "\n",
    "timestamp = datetime.now().strftime('%Y%m%d%H%M%S')\n",
    "\n",
    "oversampled.to_pickle('./oversampled-labelencoded_test{}.pkl'.format(timestamp))\n",
    "# outcomes.to_pickle('./labels-{}-labelencoded_test.pkl'.format(timestamp))\n",
    "print('timestamp = {}'.format(timestamp))"
   ]
  },
  {
   "cell_type": "code",
   "execution_count": 34,
   "metadata": {
    "ExecuteTime": {
     "end_time": "2018-05-15T17:43:43.048780Z",
     "start_time": "2018-05-15T13:43:43.045773-04:00"
    },
    "collapsed": true
   },
   "outputs": [],
   "source": [
    "# Extract target labels\n",
    "outcomes = oversampled.pop('stop_outcome')"
   ]
  },
  {
   "cell_type": "markdown",
   "metadata": {},
   "source": [
    "I then replicated the associated rows by their multipliers, and the more balanced resulting distribution of outcomes is illustrated in the following bar chart:"
   ]
  },
  {
   "cell_type": "code",
   "execution_count": 35,
   "metadata": {
    "ExecuteTime": {
     "end_time": "2018-05-15T17:43:43.552662Z",
     "start_time": "2018-05-15T13:43:43.049783-04:00"
    },
    "scrolled": false
   },
   "outputs": [
    {
     "data": {
      "image/png": "[encoded data removed]",
      "text/plain": [
       "<matplotlib.figure.Figure at 0x28d94992d68>"
      ]
     },
     "metadata": {},
     "output_type": "display_data"
    }
   ],
   "source": [
    "outcome_breakdown = outcomes.value_counts(normalize=True).mul(100).apply(lambda x: float('{:.6f}'.format(x))).plot.bar(figsize=(15, 3), table=True, fontsize=14)\n",
    "outcome_breakdown.axes.get_xaxis().set_visible(False)\n",
    "outcome_breakdown.axes.set_ylabel('%', fontsize=18)\n",
    "outcome_breakdown.tables[0].auto_set_font_size(False)\n",
    "outcome_breakdown.tables[0].set_fontsize(14)\n",
    "outcome_breakdown.tables[0].scale(1, 2)"
   ]
  },
  {
   "cell_type": "code",
   "execution_count": 36,
   "metadata": {
    "ExecuteTime": {
     "end_time": "2018-05-15T17:43:43.557675Z",
     "start_time": "2018-05-15T13:43:43.554165-04:00"
    }
   },
   "outputs": [
    {
     "data": {
      "text/plain": [
       "(1009048, 25)"
      ]
     },
     "execution_count": 36,
     "metadata": {},
     "output_type": "execute_result"
    }
   ],
   "source": [
    "oversampled.shape"
   ]
  },
  {
   "cell_type": "code",
   "execution_count": 37,
   "metadata": {
    "ExecuteTime": {
     "end_time": "2018-05-15T17:43:43.569705Z",
     "start_time": "2018-05-15T13:43:43.558677-04:00"
    }
   },
   "outputs": [
    {
     "data": {
      "text/plain": [
       "array(['location_raw', 'county_name', 'driver_age_raw', 'driver_race',\n",
       "       'search_conducted', 'contraband_found', 'stop_duration',\n",
       "       'violation_bad_stop', 'violation_cell_phone',\n",
       "       'violation_display_of_plates', 'violation_equipment',\n",
       "       'violation_license', 'violation_lights',\n",
       "       'violation_moving_violation', 'violation_other',\n",
       "       'violation_registration', 'violation_safe_movement',\n",
       "       'violation_seatbelt', 'violation_speeding',\n",
       "       'violation_suspended_license', 'violation_traffic_control_signal',\n",
       "       'violation_window_tint', 'day_period', 'season', 'is_male'],\n",
       "      dtype=object)"
      ]
     },
     "execution_count": 37,
     "metadata": {},
     "output_type": "execute_result"
    }
   ],
   "source": [
    "oversampled.columns.values"
   ]
  },
  {
   "cell_type": "code",
   "execution_count": 38,
   "metadata": {
    "ExecuteTime": {
     "end_time": "2018-05-15T17:43:43.578730Z",
     "start_time": "2018-05-15T13:43:43.571212-04:00"
    }
   },
   "outputs": [
    {
     "name": "stdout",
     "output_type": "stream",
     "text": [
      "timestamp = 20180515134343\n"
     ]
    }
   ],
   "source": [
    "from datetime import datetime\n",
    "\n",
    "timestamp = datetime.now().strftime('%Y%m%d%H%M%S')\n",
    "\n",
    "# oversampled.to_pickle('./final_features-labelencoded_test{}.pkl'.format(timestamp))\n",
    "# outcomes.to_pickle('./labels-{}-labelencoded_test.pkl'.format(timestamp))\n",
    "print('timestamp = {}'.format(timestamp))"
   ]
  },
  {
   "cell_type": "code",
   "execution_count": 2,
   "metadata": {
    "ExecuteTime": {
     "end_time": "2018-05-16T01:54:34.871192Z",
     "start_time": "2018-05-15T21:54:31.864196-04:00"
    },
    "collapsed": true
   },
   "outputs": [],
   "source": [
    "from sklearn.preprocessing import LabelEncoder\n",
    "from sklearn.utils import shuffle\n",
    "\n",
    "le_outcomes = LabelEncoder()\n",
    "\n",
    "oversampled = pickle.load(open('oversampled-labelencoded_test20180515105408.pkl', 'rb'))\n",
    "oversampled['stop_outcome'] = le_outcomes.fit_transform(oversampled['stop_outcome'])\n",
    "\n",
    "oversampled = shuffle(oversampled, random_state=0)\n",
    "outcomes = oversampled.pop('stop_outcome')"
   ]
  },
  {
   "cell_type": "code",
   "execution_count": 1,
   "metadata": {
    "ExecuteTime": {
     "end_time": "2018-05-15T19:27:11.321552Z",
     "start_time": "2018-05-15T19:27:10.936585Z"
    }
   },
   "outputs": [
    {
     "ename": "NameError",
     "evalue": "name 'outcomes' is not defined",
     "output_type": "error",
     "traceback": [
      "\u001b[0;31m---------------------------------------------------------------------------\u001b[0m",
      "\u001b[0;31mNameError\u001b[0m                                 Traceback (most recent call last)",
      "\u001b[0;32m<ipython-input-1-39f777dcb485>\u001b[0m in \u001b[0;36m<module>\u001b[0;34m()\u001b[0m\n\u001b[1;32m      2\u001b[0m \u001b[0;34m\u001b[0m\u001b[0m\n\u001b[1;32m      3\u001b[0m \u001b[0mle_outcomes\u001b[0m \u001b[0;34m=\u001b[0m \u001b[0mLabelEncoder\u001b[0m\u001b[0;34m(\u001b[0m\u001b[0;34m)\u001b[0m\u001b[0;34m\u001b[0m\u001b[0m\n\u001b[0;32m----> 4\u001b[0;31m \u001b[0mencoded_outcomes\u001b[0m \u001b[0;34m=\u001b[0m \u001b[0mle_outcomes\u001b[0m\u001b[0;34m.\u001b[0m\u001b[0mfit_transform\u001b[0m\u001b[0;34m(\u001b[0m\u001b[0moutcomes\u001b[0m\u001b[0;34m)\u001b[0m\u001b[0;34m\u001b[0m\u001b[0m\n\u001b[0m",
      "\u001b[0;31mNameError\u001b[0m: name 'outcomes' is not defined"
     ]
    }
   ],
   "source": [
    "# Take out 5% of data for final final testing; shuffle first\n",
    "lop_off_pct = .05\n",
    "lop_off_idx = round(oversampled.shape[0] * lop_off_pct)\n",
    "print('lop_off_idx = {}'.format(lop_off_idx))\n",
    "\n",
    "final_test_features = oversampled[:lop_off_idx]\n",
    "final_test_outcomes = outcomes[:lop_off_idx]\n",
    "\n",
    "oversampled = oversampled[lop_off_idx:]\n",
    "outcomes = outcomes[lop_off_idx:]"
   ]
  },
  {
   "cell_type": "code",
   "execution_count": 3,
   "metadata": {
    "ExecuteTime": {
     "end_time": "2018-05-16T01:54:35.433687Z",
     "start_time": "2018-05-15T21:54:35.133891-04:00"
    },
    "collapsed": true
   },
   "outputs": [],
   "source": [
    "from sklearn.model_selection import train_test_split\n",
    "\n",
    "# # Split the 'features' and 'income' data into training and testing sets\n",
    "X_train, X_test, y_train, y_test = train_test_split(oversampled, \n",
    "                                                    outcomes, \n",
    "                                                    test_size=0.2, \n",
    "                                                    random_state=0)\n"
   ]
  },
  {
   "cell_type": "code",
   "execution_count": 53,
   "metadata": {
    "ExecuteTime": {
     "end_time": "2018-05-14T20:52:17.431190Z",
     "start_time": "2018-05-14T16:45:21.955808-04:00"
    }
   },
   "outputs": [
    {
     "name": "stdout",
     "output_type": "stream",
     "text": [
      "building tree 1 of 10building tree 2 of 10building tree 3 of 10building tree 4 of 10building tree 5 of 10building tree 6 of 10building tree 7 of 10building tree 8 of 10\n",
      "\n",
      "\n",
      "\n",
      "\n",
      "\n",
      "\n",
      "\n",
      "building tree 9 of 10\n",
      "building tree 10 of 10\n"
     ]
    },
    {
     "name": "stderr",
     "output_type": "stream",
     "text": [
      "[Parallel(n_jobs=8)]: Done   3 out of  10 | elapsed:    2.7s remaining:    6.4s\n",
      "[Parallel(n_jobs=8)]: Done   7 out of  10 | elapsed:    2.8s remaining:    1.1s\n",
      "[Parallel(n_jobs=8)]: Done  10 out of  10 | elapsed:    4.0s finished\n"
     ]
    },
    {
     "name": "stdout",
     "output_type": "stream",
     "text": [
      "      Iter       Train Loss   Remaining Time \n",
      "         1     1250488.2855            7.09m\n",
      "         2     1213922.7555            7.04m\n",
      "         3     1184023.0160            6.96m\n",
      "         4     1159762.9953            6.87m\n",
      "         5     1139437.7825            6.81m\n",
      "         6     1122359.8648            6.74m\n",
      "         7     1108090.7823            6.65m\n",
      "         8     1095242.0953            6.57m\n",
      "         9     1084593.4635            6.49m\n",
      "        10     1075614.4722            6.38m\n",
      "        11     1067488.4778            6.30m\n",
      "        12     1060443.9464            6.22m\n",
      "        13     1054320.2715            6.15m\n",
      "        14     1049155.1351            6.06m\n",
      "        15     1044216.5068            6.00m\n",
      "        16     1040172.8483            5.92m\n",
      "        17     1036683.3920            5.81m\n",
      "        18     1033255.4860            5.73m\n",
      "        19     1030436.8449            5.65m\n",
      "        20     1027656.8533            5.57m\n",
      "        21     1025305.0790            5.48m\n",
      "        22     1022894.6600            5.40m\n",
      "        23     1020476.9027            5.34m\n",
      "        24     1018112.8276            5.26m\n",
      "        25     1016052.4780            5.18m\n",
      "        26     1014274.3285            5.10m\n",
      "        27     1012312.9985            5.03m\n",
      "        28     1010505.7183            4.96m\n",
      "        29     1008213.0643            4.89m\n",
      "        30     1006597.6100            4.82m\n",
      "        31     1005369.9046            4.75m\n",
      "        32     1004127.6714            4.67m\n",
      "        33     1002231.2148            4.60m\n",
      "        34     1000946.1077            4.53m\n",
      "        35      999337.9782            4.47m\n",
      "        36      998349.4619            4.40m\n",
      "        37      997299.8675            4.32m\n",
      "        38      995992.3252            4.26m\n",
      "        39      995144.8202            4.19m\n",
      "        40      994232.9567            4.11m\n",
      "        41      993343.9099            4.04m\n",
      "        42      992057.7803            3.97m\n",
      "        43      991135.2251            3.90m\n",
      "        44      990299.4375            3.84m\n",
      "        45      989147.4290            3.77m\n",
      "        46      988509.0542            3.69m\n",
      "        47      987869.5509            3.62m\n",
      "        48      986568.2219            3.56m\n",
      "        49      985730.8184            3.49m\n",
      "        50      984797.6090            3.42m\n",
      "        51      984213.3447            3.35m\n",
      "        52      983471.3661            3.28m\n",
      "        53      982505.1557            3.22m\n",
      "        54      981912.3949            3.15m\n",
      "        55      981178.4887            3.07m\n",
      "        56      980612.6908            3.00m\n",
      "        57      980075.7522            2.93m\n",
      "        58      979404.8719            2.86m\n",
      "        59      978840.7772            2.79m\n",
      "        60      978184.2523            2.72m\n",
      "        61      977482.9335            2.65m\n",
      "        62      976445.2697            2.59m\n",
      "        63      975781.0026            2.52m\n",
      "        64      975163.6071            2.45m\n",
      "        65      974648.5527            2.38m\n",
      "        66      974030.7578            2.32m\n",
      "        67      973440.3244            2.25m\n",
      "        68      973086.6690            2.18m\n",
      "        69      972552.5391            2.11m\n",
      "        70      972120.9411            2.04m\n",
      "        71      971650.4290            1.97m\n",
      "        72      971088.7707            1.90m\n",
      "        73      970641.3864            1.83m\n",
      "        74      970363.7961            1.76m\n",
      "        75      969681.6414            1.69m\n",
      "        76      969248.9161            1.63m\n",
      "        77      968914.9622            1.56m\n",
      "        78      968571.5944            1.49m\n",
      "        79      967838.2584            1.42m\n",
      "        80      967397.1506            1.35m\n",
      "        81      966994.0245            1.29m\n",
      "        82      966635.5715            1.22m\n",
      "        83      966309.7487            1.15m\n",
      "        84      965830.2549            1.08m\n",
      "        85      965567.1802            1.01m\n",
      "        86      964973.5277           56.72s\n",
      "        87      964735.5596           52.60s\n",
      "        88      964423.0062           48.55s\n",
      "        89      964156.9613           44.49s\n",
      "        90      963706.8474           40.43s\n",
      "        91      963311.9864           36.38s\n",
      "        92      962939.2264           32.33s\n",
      "        93      962196.2689           28.31s\n",
      "        94      961826.3101           24.25s\n",
      "        95      961643.6775           20.19s\n",
      "        96      961411.2809           16.14s\n",
      "        97      960936.1817           12.11s\n",
      "        98      960712.1875            8.07s\n",
      "        99      960402.4643            4.03s\n",
      "       100      960170.9031            0.00s\n"
     ]
    },
    {
     "name": "stderr",
     "output_type": "stream",
     "text": [
      "[Parallel(n_jobs=8)]: Done   3 out of  10 | elapsed:    0.0s remaining:    0.2s\n",
      "[Parallel(n_jobs=8)]: Done   7 out of  10 | elapsed:    0.1s remaining:    0.0s\n",
      "[Parallel(n_jobs=8)]: Done  10 out of  10 | elapsed:    0.1s finished\n"
     ]
    },
    {
     "name": "stdout",
     "output_type": "stream",
     "text": [
      "eclf score: 0.9311035132054903\n"
     ]
    },
    {
     "name": "stderr",
     "output_type": "stream",
     "text": [
      "D:\\AppData\\Local\\conda\\conda\\envs\\kaggle\\lib\\site-packages\\sklearn\\preprocessing\\label.py:171: DeprecationWarning: The truth value of an empty array is ambiguous. Returning False, but in future this will result in an error. Use `array.size > 0` to check that an array is not empty.\n",
      "  if diff:\n"
     ]
    }
   ],
   "source": [
    "clf1 = RandomForestClassifier(n_jobs=8, verbose=3, random_state=0)\n",
    "clf2 = GaussianNB()\n",
    "clf3 = DecisionTreeClassifier(random_state=0)\n",
    "clf4 = GradientBoostingClassifier(verbose=3, random_state=0)\n",
    "\n",
    "eclf = VotingClassifier(estimators=[\n",
    "        ('rf', clf1), ('gnb', clf2), ('dt', clf3), ('gb', clf4)],\n",
    "        voting='soft')\n",
    "eclf = eclf.fit(X_train, y_train)\n",
    "print('eclf score: {}'.format(eclf.score(X_test, y_test)))"
   ]
  },
  {
   "cell_type": "code",
   "execution_count": 154,
   "metadata": {
    "ExecuteTime": {
     "end_time": "2018-05-15T03:51:44.203708Z",
     "start_time": "2018-05-14T23:51:42.664206-04:00"
    }
   },
   "outputs": [
    {
     "name": "stdout",
     "output_type": "stream",
     "text": [
      "GaussianNB: 0.3754381389526393\n"
     ]
    }
   ],
   "source": [
    "gnb = GaussianNB()\n",
    "gnb.fit(X_train, y_train)\n",
    "print('GaussianNB: {}'.format(gnb.score(X_test, y_test)))"
   ]
  },
  {
   "cell_type": "code",
   "execution_count": 46,
   "metadata": {
    "ExecuteTime": {
     "end_time": "2018-05-14T20:33:17.601206Z",
     "start_time": "2018-05-14T16:06:10.816276-04:00"
    }
   },
   "outputs": [
    {
     "name": "stdout",
     "output_type": "stream",
     "text": [
      "GradientBoostingClassifier: 0.5131410732867548\n"
     ]
    }
   ],
   "source": [
    "gbc = GradientBoostingClassifier(random_state=0)\n",
    "gbc.fit(X_train, y_train)\n",
    "print('GradientBoostingClassifier: {}'.format(gbc.score(X_test, y_test)))"
   ]
  },
  {
   "cell_type": "code",
   "execution_count": 155,
   "metadata": {
    "ExecuteTime": {
     "end_time": "2018-05-15T03:51:53.482072Z",
     "start_time": "2018-05-14T23:51:49.776842-04:00"
    }
   },
   "outputs": [
    {
     "name": "stdout",
     "output_type": "stream",
     "text": [
      "DecisionTreeClassifier: 0.9172804089296891\n"
     ]
    }
   ],
   "source": [
    "dtc = DecisionTreeClassifier(random_state=0)\n",
    "dtc.fit(X_train, y_train)\n",
    "print('DecisionTreeClassifier: {}'.format(dtc.score(X_test, y_test)))"
   ]
  },
  {
   "cell_type": "code",
   "execution_count": 156,
   "metadata": {
    "ExecuteTime": {
     "end_time": "2018-05-15T03:51:59.065971Z",
     "start_time": "2018-05-14T23:51:57.938444-04:00"
    }
   },
   "outputs": [
    {
     "name": "stdout",
     "output_type": "stream",
     "text": [
      "DecisionTreeClassifier: 0.919017316920509\n"
     ]
    }
   ],
   "source": [
    "dtc2 = DecisionTreeClassifier(random_state=0, splitter=\"random\", max_features=\"log2\")\n",
    "dtc2.fit(X_train, y_train)\n",
    "print('DecisionTreeClassifier: {}'.format(dtc2.score(X_test, y_test)))"
   ]
  },
  {
   "cell_type": "code",
   "execution_count": 153,
   "metadata": {
    "ExecuteTime": {
     "end_time": "2018-05-15T03:41:56.273849Z",
     "start_time": "2018-05-14T23:41:55.374584-04:00"
    }
   },
   "outputs": [
    {
     "ename": "ValueError",
     "evalue": "Mix of label input types (string and number)",
     "output_type": "error",
     "traceback": [
      "\u001b[1;31m---------------------------------------------------------------------------\u001b[0m",
      "\u001b[1;31mValueError\u001b[0m                                Traceback (most recent call last)",
      "\u001b[1;32m<ipython-input-153-7b4fdab01b10>\u001b[0m in \u001b[0;36m<module>\u001b[1;34m()\u001b[0m\n\u001b[1;32m----> 1\u001b[1;33m \u001b[0mprint\u001b[0m\u001b[1;33m(\u001b[0m\u001b[0mclassification_report\u001b[0m\u001b[1;33m(\u001b[0m\u001b[0mdtc2\u001b[0m\u001b[1;33m.\u001b[0m\u001b[0mpredict\u001b[0m\u001b[1;33m(\u001b[0m\u001b[0mX_test\u001b[0m\u001b[1;33m)\u001b[0m\u001b[1;33m,\u001b[0m \u001b[0my_test\u001b[0m\u001b[1;33m)\u001b[0m\u001b[1;33m)\u001b[0m\u001b[1;33m\u001b[0m\u001b[0m\n\u001b[0m",
      "\u001b[1;32mD:\\AppData\\Local\\conda\\conda\\envs\\kaggle\\lib\\site-packages\\sklearn\\metrics\\classification.py\u001b[0m in \u001b[0;36mclassification_report\u001b[1;34m(y_true, y_pred, labels, target_names, sample_weight, digits)\u001b[0m\n\u001b[0;32m   1389\u001b[0m \u001b[1;33m\u001b[0m\u001b[0m\n\u001b[0;32m   1390\u001b[0m     \u001b[1;32mif\u001b[0m \u001b[0mlabels\u001b[0m \u001b[1;32mis\u001b[0m \u001b[1;32mNone\u001b[0m\u001b[1;33m:\u001b[0m\u001b[1;33m\u001b[0m\u001b[0m\n\u001b[1;32m-> 1391\u001b[1;33m         \u001b[0mlabels\u001b[0m \u001b[1;33m=\u001b[0m \u001b[0munique_labels\u001b[0m\u001b[1;33m(\u001b[0m\u001b[0my_true\u001b[0m\u001b[1;33m,\u001b[0m \u001b[0my_pred\u001b[0m\u001b[1;33m)\u001b[0m\u001b[1;33m\u001b[0m\u001b[0m\n\u001b[0m\u001b[0;32m   1392\u001b[0m     \u001b[1;32melse\u001b[0m\u001b[1;33m:\u001b[0m\u001b[1;33m\u001b[0m\u001b[0m\n\u001b[0;32m   1393\u001b[0m         \u001b[0mlabels\u001b[0m \u001b[1;33m=\u001b[0m \u001b[0mnp\u001b[0m\u001b[1;33m.\u001b[0m\u001b[0masarray\u001b[0m\u001b[1;33m(\u001b[0m\u001b[0mlabels\u001b[0m\u001b[1;33m)\u001b[0m\u001b[1;33m\u001b[0m\u001b[0m\n",
      "\u001b[1;32mD:\\AppData\\Local\\conda\\conda\\envs\\kaggle\\lib\\site-packages\\sklearn\\utils\\multiclass.py\u001b[0m in \u001b[0;36munique_labels\u001b[1;34m(*ys)\u001b[0m\n\u001b[0;32m    102\u001b[0m     \u001b[1;31m# Check that we don't mix string type with number type\u001b[0m\u001b[1;33m\u001b[0m\u001b[1;33m\u001b[0m\u001b[0m\n\u001b[0;32m    103\u001b[0m     \u001b[1;32mif\u001b[0m \u001b[1;33m(\u001b[0m\u001b[0mlen\u001b[0m\u001b[1;33m(\u001b[0m\u001b[0mset\u001b[0m\u001b[1;33m(\u001b[0m\u001b[0misinstance\u001b[0m\u001b[1;33m(\u001b[0m\u001b[0mlabel\u001b[0m\u001b[1;33m,\u001b[0m \u001b[0mstring_types\u001b[0m\u001b[1;33m)\u001b[0m \u001b[1;32mfor\u001b[0m \u001b[0mlabel\u001b[0m \u001b[1;32min\u001b[0m \u001b[0mys_labels\u001b[0m\u001b[1;33m)\u001b[0m\u001b[1;33m)\u001b[0m \u001b[1;33m>\u001b[0m \u001b[1;36m1\u001b[0m\u001b[1;33m)\u001b[0m\u001b[1;33m:\u001b[0m\u001b[1;33m\u001b[0m\u001b[0m\n\u001b[1;32m--> 104\u001b[1;33m         \u001b[1;32mraise\u001b[0m \u001b[0mValueError\u001b[0m\u001b[1;33m(\u001b[0m\u001b[1;34m\"Mix of label input types (string and number)\"\u001b[0m\u001b[1;33m)\u001b[0m\u001b[1;33m\u001b[0m\u001b[0m\n\u001b[0m\u001b[0;32m    105\u001b[0m \u001b[1;33m\u001b[0m\u001b[0m\n\u001b[0;32m    106\u001b[0m     \u001b[1;32mreturn\u001b[0m \u001b[0mnp\u001b[0m\u001b[1;33m.\u001b[0m\u001b[0marray\u001b[0m\u001b[1;33m(\u001b[0m\u001b[0msorted\u001b[0m\u001b[1;33m(\u001b[0m\u001b[0mys_labels\u001b[0m\u001b[1;33m)\u001b[0m\u001b[1;33m)\u001b[0m\u001b[1;33m\u001b[0m\u001b[0m\n",
      "\u001b[1;31mValueError\u001b[0m: Mix of label input types (string and number)"
     ]
    }
   ],
   "source": [
    "print(classification_report(dtc2.predict(X_test), y_test))"
   ]
  },
  {
   "cell_type": "markdown",
   "metadata": {},
   "source": [
    "```\n",
    "              precision    recall  f1-score   support\n",
    "Arrest             1.00      0.97      0.98     40127\n",
    "Summons            1.00      0.96      0.98     40057\n",
    "Ticket             0.65      0.99      0.78     24189\n",
    "Verbal Warning     0.96      0.86      0.91     51690\n",
    "Written Warning    0.98      0.89      0.93     45747\n",
    "\n",
    "avg / total        0.94      0.92      0.93    201810\n",
    "```\n"
   ]
  },
  {
   "cell_type": "code",
   "execution_count": 157,
   "metadata": {
    "ExecuteTime": {
     "end_time": "2018-05-15T03:52:08.609725Z",
     "start_time": "2018-05-14T23:52:03.511820-04:00"
    }
   },
   "outputs": [
    {
     "name": "stdout",
     "output_type": "stream",
     "text": [
      "RandomForestClassifier: 0.9263770081368663\n"
     ]
    }
   ],
   "source": [
    "rfc = RandomForestClassifier(random_state=0, n_jobs=8)\n",
    "rfc.fit(X_train, y_train)\n",
    "print('RandomForestClassifier: {}'.format(rfc.score(X_test, y_test)))"
   ]
  },
  {
   "cell_type": "markdown",
   "metadata": {},
   "source": [
    "# XGBoost"
   ]
  },
  {
   "cell_type": "code",
   "execution_count": 141,
   "metadata": {
    "ExecuteTime": {
     "end_time": "2018-05-14T21:19:30.425164Z",
     "start_time": "2018-05-14T17:19:30.106383-04:00"
    },
    "collapsed": true
   },
   "outputs": [],
   "source": [
    "import xgboost as xgb\n",
    "from xgboost import XGBClassifier\n",
    "from sklearn.model_selection import GridSearchCV\n",
    "from sklearn.model_selection import StratifiedKFold\n",
    "import matplotlib\n",
    "# matplotlib.use('Agg')\n",
    "from matplotlib import pyplot\n"
   ]
  },
  {
   "cell_type": "code",
   "execution_count": 143,
   "metadata": {
    "ExecuteTime": {
     "end_time": "2018-05-14T21:19:47.272238Z",
     "start_time": "2018-05-14T17:19:46.820060-04:00"
    },
    "collapsed": true
   },
   "outputs": [],
   "source": [
    "xg_train = xgb.DMatrix(X_train.values, label=y_train)\n",
    "xg_test = xgb.DMatrix(X_test.values, label=y_test)\n",
    "xg_test_2 = xgb.DMatrix(final_test_features.values, label=le_outcomes.fit_transform(final_test_outcomes))"
   ]
  },
  {
   "cell_type": "code",
   "execution_count": 144,
   "metadata": {
    "ExecuteTime": {
     "end_time": "2018-05-14T21:19:53.361097Z",
     "start_time": "2018-05-14T17:19:53.356084-04:00"
    },
    "collapsed": true
   },
   "outputs": [],
   "source": [
    "params = {\n",
    "    'objective': 'multi:softmax',\n",
    "    'learning_rate': 0.0983,\n",
    "    'max_depth': 19,\n",
    "    'silent': 0,\n",
    "    'nthread': 8,\n",
    "#     'num_class': 45,\n",
    "#     'predictor': 'gpu_predictor',\n",
    "#     'max_bin': 512,\n",
    "    'tree_method': 'gpu_hist',\n",
    "#     'alpha': 0.8,\n",
    "#     'gamma': 10.0,\n",
    "    'subsample': 0.9,\n",
    "#     'lambda': 0.9,,\n",
    "#     'colsample_bytree': 0.9,\n",
    "#     'colsample_bylevel': 0.3,\n",
    "#     'scale_pos_weight': 0.1,\n",
    "#     'updater': 'grow_histmaker,refresh,prune',\n",
    "#     'grow_policy': 'lossguide',\n",
    "#     'max_leaves': 20000,\n",
    "#     'max_bin': 1024,\n",
    "#     'base_score': 1.0,\n",
    "#     'eval_metric': 'merror',\n",
    "#     'max_delta_step': 8,\n",
    "}\n",
    "\n",
    "params['num_class'] = len(list(final_features.columns.values))\n"
   ]
  },
  {
   "cell_type": "code",
   "execution_count": 145,
   "metadata": {
    "ExecuteTime": {
     "end_time": "2018-05-14T22:08:06.342675Z",
     "start_time": "2018-05-14T17:20:01.387423-04:00"
    },
    "scrolled": true
   },
   "outputs": [
    {
     "name": "stdout",
     "output_type": "stream",
     "text": [
      "[0]\ttrain-merror:0.341495\ttest-merror:0.359853\n",
      "Multiple eval metrics have been passed: 'test-merror' will be used for early stopping.\n",
      "\n",
      "Will train until test-merror hasn't improved in 50 rounds.\n",
      "[1]\ttrain-merror:0.295788\ttest-merror:0.31764\n",
      "[2]\ttrain-merror:0.271844\ttest-merror:0.296531\n",
      "[3]\ttrain-merror:0.25428\ttest-merror:0.279945\n",
      "[4]\ttrain-merror:0.241173\ttest-merror:0.267223\n",
      "[5]\ttrain-merror:0.231698\ttest-merror:0.258262\n",
      "[6]\ttrain-merror:0.21967\ttest-merror:0.248232\n",
      "[7]\ttrain-merror:0.211022\ttest-merror:0.240783\n",
      "[8]\ttrain-merror:0.201888\ttest-merror:0.2331\n",
      "[9]\ttrain-merror:0.194839\ttest-merror:0.226888\n",
      "[10]\ttrain-merror:0.188762\ttest-merror:0.221198\n",
      "[11]\ttrain-merror:0.182958\ttest-merror:0.215815\n",
      "[12]\ttrain-merror:0.177578\ttest-merror:0.211392\n",
      "[13]\ttrain-merror:0.172997\ttest-merror:0.207443\n",
      "[14]\ttrain-merror:0.169081\ttest-merror:0.203682\n",
      "[15]\ttrain-merror:0.165684\ttest-merror:0.200516\n",
      "[16]\ttrain-merror:0.162464\ttest-merror:0.197449\n",
      "[17]\ttrain-merror:0.159482\ttest-merror:0.19445\n",
      "[18]\ttrain-merror:0.156649\ttest-merror:0.191576\n",
      "[19]\ttrain-merror:0.153811\ttest-merror:0.188932\n",
      "[20]\ttrain-merror:0.151293\ttest-merror:0.18623\n",
      "[21]\ttrain-merror:0.148976\ttest-merror:0.184295\n",
      "[22]\ttrain-merror:0.146299\ttest-merror:0.181723\n",
      "[23]\ttrain-merror:0.144235\ttest-merror:0.179939\n",
      "[24]\ttrain-merror:0.142236\ttest-merror:0.178239\n",
      "[25]\ttrain-merror:0.140131\ttest-merror:0.176283\n",
      "[26]\ttrain-merror:0.138098\ttest-merror:0.174546\n",
      "[27]\ttrain-merror:0.136291\ttest-merror:0.173159\n",
      "[28]\ttrain-merror:0.134779\ttest-merror:0.171975\n",
      "[29]\ttrain-merror:0.133289\ttest-merror:0.170483\n",
      "[30]\ttrain-merror:0.131594\ttest-merror:0.168913\n",
      "[31]\ttrain-merror:0.129416\ttest-merror:0.167343\n",
      "[32]\ttrain-merror:0.12794\ttest-merror:0.16594\n",
      "[33]\ttrain-merror:0.126262\ttest-merror:0.164699\n",
      "[34]\ttrain-merror:0.124839\ttest-merror:0.163535\n",
      "[35]\ttrain-merror:0.123458\ttest-merror:0.162247\n",
      "[36]\ttrain-merror:0.122224\ttest-merror:0.161303\n",
      "[37]\ttrain-merror:0.120965\ttest-merror:0.160197\n",
      "[38]\ttrain-merror:0.1198\ttest-merror:0.159253\n",
      "[39]\ttrain-merror:0.11822\ttest-merror:0.158001\n",
      "[40]\ttrain-merror:0.116759\ttest-merror:0.156765\n",
      "[41]\ttrain-merror:0.115892\ttest-merror:0.156118\n",
      "[42]\ttrain-merror:0.114578\ttest-merror:0.155091\n",
      "[43]\ttrain-merror:0.113562\ttest-merror:0.154178\n",
      "[44]\ttrain-merror:0.112738\ttest-merror:0.153667\n",
      "[45]\ttrain-merror:0.111725\ttest-merror:0.152801\n",
      "[46]\ttrain-merror:0.110804\ttest-merror:0.152092\n",
      "[47]\ttrain-merror:0.109692\ttest-merror:0.151236\n",
      "[48]\ttrain-merror:0.108474\ttest-merror:0.150287\n",
      "[49]\ttrain-merror:0.107551\ttest-merror:0.149546\n",
      "[50]\ttrain-merror:0.106352\ttest-merror:0.14855\n",
      "[51]\ttrain-merror:0.104973\ttest-merror:0.14759\n",
      "[52]\ttrain-merror:0.103956\ttest-merror:0.146521\n",
      "[53]\ttrain-merror:0.103315\ttest-merror:0.145838\n",
      "[54]\ttrain-merror:0.102323\ttest-merror:0.14529\n",
      "[55]\ttrain-merror:0.101557\ttest-merror:0.144617\n",
      "[56]\ttrain-merror:0.100257\ttest-merror:0.143277\n",
      "[57]\ttrain-merror:0.099321\ttest-merror:0.14251\n",
      "[58]\ttrain-merror:0.098475\ttest-merror:0.141675\n",
      "[59]\ttrain-merror:0.097537\ttest-merror:0.140872\n",
      "[60]\ttrain-merror:0.096613\ttest-merror:0.140064\n",
      "[61]\ttrain-merror:0.095742\ttest-merror:0.139406\n",
      "[62]\ttrain-merror:0.094653\ttest-merror:0.138316\n",
      "[63]\ttrain-merror:0.093499\ttest-merror:0.137445\n",
      "[64]\ttrain-merror:0.092624\ttest-merror:0.136731\n",
      "[65]\ttrain-merror:0.090536\ttest-merror:0.134723\n",
      "[66]\ttrain-merror:0.089715\ttest-merror:0.134055\n",
      "[67]\ttrain-merror:0.088519\ttest-merror:0.132824\n",
      "[68]\ttrain-merror:0.087727\ttest-merror:0.132214\n",
      "[69]\ttrain-merror:0.086512\ttest-merror:0.131238\n",
      "[70]\ttrain-merror:0.085054\ttest-merror:0.130054\n",
      "[71]\ttrain-merror:0.083793\ttest-merror:0.129157\n",
      "[72]\ttrain-merror:0.082329\ttest-merror:0.127712\n",
      "[73]\ttrain-merror:0.081348\ttest-merror:0.126627\n",
      "[74]\ttrain-merror:0.080486\ttest-merror:0.126064\n",
      "[75]\ttrain-merror:0.079108\ttest-merror:0.12475\n",
      "[76]\ttrain-merror:0.077924\ttest-merror:0.123816\n",
      "[77]\ttrain-merror:0.076992\ttest-merror:0.122945\n",
      "[78]\ttrain-merror:0.07616\ttest-merror:0.12222\n",
      "[79]\ttrain-merror:0.074664\ttest-merror:0.120848\n",
      "[80]\ttrain-merror:0.073308\ttest-merror:0.119466\n",
      "[81]\ttrain-merror:0.072456\ttest-merror:0.118741\n",
      "[82]\ttrain-merror:0.071889\ttest-merror:0.118131\n",
      "[83]\ttrain-merror:0.070568\ttest-merror:0.116832\n",
      "[84]\ttrain-merror:0.068934\ttest-merror:0.115304\n",
      "[85]\ttrain-merror:0.068316\ttest-merror:0.114808\n",
      "[86]\ttrain-merror:0.06753\ttest-merror:0.114339\n",
      "[87]\ttrain-merror:0.066783\ttest-merror:0.113624\n",
      "[88]\ttrain-merror:0.065424\ttest-merror:0.112278\n",
      "[89]\ttrain-merror:0.063641\ttest-merror:0.110693\n",
      "[90]\ttrain-merror:0.062187\ttest-merror:0.1093\n",
      "[91]\ttrain-merror:0.061119\ttest-merror:0.108507\n",
      "[92]\ttrain-merror:0.060004\ttest-merror:0.107443\n",
      "[93]\ttrain-merror:0.058817\ttest-merror:0.106103\n",
      "[94]\ttrain-merror:0.058045\ttest-merror:0.105273\n",
      "[95]\ttrain-merror:0.057104\ttest-merror:0.104496\n",
      "[96]\ttrain-merror:0.056366\ttest-merror:0.103599\n",
      "[97]\ttrain-merror:0.055558\ttest-merror:0.103103\n",
      "[98]\ttrain-merror:0.054354\ttest-merror:0.10194\n",
      "[99]\ttrain-merror:0.053747\ttest-merror:0.101429\n",
      "[100]\ttrain-merror:0.053202\ttest-merror:0.100782\n",
      "[101]\ttrain-merror:0.052475\ttest-merror:0.100235\n",
      "[102]\ttrain-merror:0.051935\ttest-merror:0.099797\n",
      "[103]\ttrain-merror:0.051279\ttest-merror:0.099139\n",
      "[104]\ttrain-merror:0.050599\ttest-merror:0.098482\n",
      "[105]\ttrain-merror:0.050167\ttest-merror:0.097945\n",
      "[106]\ttrain-merror:0.049184\ttest-merror:0.097126\n",
      "[107]\ttrain-merror:0.048387\ttest-merror:0.096265\n",
      "[108]\ttrain-merror:0.047919\ttest-merror:0.095853\n",
      "[109]\ttrain-merror:0.047317\ttest-merror:0.095238\n",
      "[110]\ttrain-merror:0.046688\ttest-merror:0.094398\n",
      "[111]\ttrain-merror:0.046096\ttest-merror:0.093913\n",
      "[112]\ttrain-merror:0.045648\ttest-merror:0.093511\n",
      "[113]\ttrain-merror:0.04492\ttest-merror:0.092776\n",
      "[114]\ttrain-merror:0.044277\ttest-merror:0.091827\n",
      "[115]\ttrain-merror:0.043871\ttest-merror:0.091488\n",
      "[116]\ttrain-merror:0.043366\ttest-merror:0.091008\n",
      "[117]\ttrain-merror:0.042959\ttest-merror:0.090575\n",
      "[118]\ttrain-merror:0.042627\ttest-merror:0.090199\n",
      "[119]\ttrain-merror:0.042174\ttest-merror:0.089766\n",
      "[120]\ttrain-merror:0.041754\ttest-merror:0.089313\n",
      "[121]\ttrain-merror:0.041445\ttest-merror:0.089083\n",
      "[122]\ttrain-merror:0.041137\ttest-merror:0.088885\n",
      "[123]\ttrain-merror:0.040851\ttest-merror:0.088546\n",
      "[124]\ttrain-merror:0.040529\ttest-merror:0.088087\n",
      "[125]\ttrain-merror:0.040139\ttest-merror:0.08767\n",
      "[126]\ttrain-merror:0.039806\ttest-merror:0.087388\n",
      "[127]\ttrain-merror:0.039352\ttest-merror:0.086965\n",
      "[128]\ttrain-merror:0.038997\ttest-merror:0.086214\n",
      "[129]\ttrain-merror:0.038586\ttest-merror:0.085813\n",
      "[130]\ttrain-merror:0.038007\ttest-merror:0.085145\n",
      "[131]\ttrain-merror:0.03746\ttest-merror:0.084629\n",
      "[132]\ttrain-merror:0.037194\ttest-merror:0.084279\n",
      "[133]\ttrain-merror:0.036844\ttest-merror:0.084013\n",
      "[134]\ttrain-merror:0.03664\ttest-merror:0.083721\n",
      "[135]\ttrain-merror:0.036388\ttest-merror:0.083299\n",
      "[136]\ttrain-merror:0.036208\ttest-merror:0.083132\n",
      "[137]\ttrain-merror:0.036003\ttest-merror:0.082939\n",
      "[138]\ttrain-merror:0.035651\ttest-merror:0.082428\n",
      "[139]\ttrain-merror:0.035398\ttest-merror:0.082161\n",
      "[140]\ttrain-merror:0.035216\ttest-merror:0.081948\n",
      "[141]\ttrain-merror:0.03497\ttest-merror:0.081598\n",
      "[142]\ttrain-merror:0.03469\ttest-merror:0.081348\n",
      "[143]\ttrain-merror:0.034497\ttest-merror:0.081077\n",
      "[144]\ttrain-merror:0.034358\ttest-merror:0.080779\n",
      "[145]\ttrain-merror:0.034148\ttest-merror:0.080492\n",
      "[146]\ttrain-merror:0.033987\ttest-merror:0.080325\n",
      "[147]\ttrain-merror:0.033802\ttest-merror:0.080206\n",
      "[148]\ttrain-merror:0.033674\ttest-merror:0.080091\n",
      "[149]\ttrain-merror:0.033552\ttest-merror:0.080044\n",
      "[150]\ttrain-merror:0.033385\ttest-merror:0.079767\n",
      "[151]\ttrain-merror:0.033167\ttest-merror:0.0796\n",
      "[152]\ttrain-merror:0.033\ttest-merror:0.079235\n",
      "[153]\ttrain-merror:0.032824\ttest-merror:0.079136\n",
      "[154]\ttrain-merror:0.032627\ttest-merror:0.078881\n",
      "[155]\ttrain-merror:0.032485\ttest-merror:0.078792\n",
      "[156]\ttrain-merror:0.032305\ttest-merror:0.078625\n",
      "[157]\ttrain-merror:0.032117\ttest-merror:0.078333\n",
      "[158]\ttrain-merror:0.031931\ttest-merror:0.078161\n",
      "[159]\ttrain-merror:0.031755\ttest-merror:0.078062\n",
      "[160]\ttrain-merror:0.031545\ttest-merror:0.077895\n",
      "[161]\ttrain-merror:0.031413\ttest-merror:0.077629\n",
      "[162]\ttrain-merror:0.031203\ttest-merror:0.077326\n",
      "[163]\ttrain-merror:0.031039\ttest-merror:0.077212\n",
      "[164]\ttrain-merror:0.030799\ttest-merror:0.076982\n",
      "[165]\ttrain-merror:0.03071\ttest-merror:0.076685\n",
      "[166]\ttrain-merror:0.030619\ttest-merror:0.076476\n",
      "[167]\ttrain-merror:0.030511\ttest-merror:0.076346\n",
      "[168]\ttrain-merror:0.03036\ttest-merror:0.076241\n",
      "[169]\ttrain-merror:0.030225\ttest-merror:0.076142\n",
      "[170]\ttrain-merror:0.030139\ttest-merror:0.07597\n",
      "[171]\ttrain-merror:0.029983\ttest-merror:0.075751\n",
      "[172]\ttrain-merror:0.029856\ttest-merror:0.075579\n",
      "[173]\ttrain-merror:0.029787\ttest-merror:0.075475\n",
      "[174]\ttrain-merror:0.029698\ttest-merror:0.075339\n",
      "[175]\ttrain-merror:0.029518\ttest-merror:0.075125\n",
      "[176]\ttrain-merror:0.029431\ttest-merror:0.074937\n",
      "[177]\ttrain-merror:0.029339\ttest-merror:0.074786\n",
      "[178]\ttrain-merror:0.029194\ttest-merror:0.074609\n",
      "[179]\ttrain-merror:0.029119\ttest-merror:0.074437\n",
      "[180]\ttrain-merror:0.028962\ttest-merror:0.07427\n",
      "[181]\ttrain-merror:0.028913\ttest-merror:0.074228\n",
      "[182]\ttrain-merror:0.028763\ttest-merror:0.074145\n",
      "[183]\ttrain-merror:0.028672\ttest-merror:0.073889\n",
      "[184]\ttrain-merror:0.028577\ttest-merror:0.07366\n",
      "[185]\ttrain-merror:0.028488\ttest-merror:0.073623\n",
      "[186]\ttrain-merror:0.028361\ttest-merror:0.073487\n",
      "[187]\ttrain-merror:0.028284\ttest-merror:0.073425\n",
      "[188]\ttrain-merror:0.028131\ttest-merror:0.073211\n",
      "[189]\ttrain-merror:0.02801\ttest-merror:0.073086\n",
      "[190]\ttrain-merror:0.027891\ttest-merror:0.072851\n",
      "[191]\ttrain-merror:0.027806\ttest-merror:0.072731\n",
      "[192]\ttrain-merror:0.02772\ttest-merror:0.072486\n",
      "[193]\ttrain-merror:0.027646\ttest-merror:0.072512\n",
      "[194]\ttrain-merror:0.027607\ttest-merror:0.072397\n",
      "[195]\ttrain-merror:0.027532\ttest-merror:0.072256\n",
      "[196]\ttrain-merror:0.027407\ttest-merror:0.07209\n",
      "[197]\ttrain-merror:0.02735\ttest-merror:0.071949\n",
      "[198]\ttrain-merror:0.027315\ttest-merror:0.072022\n",
      "[199]\ttrain-merror:0.027244\ttest-merror:0.071823\n",
      "[200]\ttrain-merror:0.027188\ttest-merror:0.071818\n",
      "[201]\ttrain-merror:0.027098\ttest-merror:0.071693\n",
      "[202]\ttrain-merror:0.027038\ttest-merror:0.07161\n",
      "[203]\ttrain-merror:0.026952\ttest-merror:0.071521\n",
      "[204]\ttrain-merror:0.026894\ttest-merror:0.071521\n",
      "[205]\ttrain-merror:0.026774\ttest-merror:0.071276\n",
      "[206]\ttrain-merror:0.026712\ttest-merror:0.071281\n",
      "[207]\ttrain-merror:0.026656\ttest-merror:0.071245\n",
      "[208]\ttrain-merror:0.026535\ttest-merror:0.071036\n",
      "[209]\ttrain-merror:0.026498\ttest-merror:0.070895\n",
      "[210]\ttrain-merror:0.026407\ttest-merror:0.070832\n",
      "[211]\ttrain-merror:0.026335\ttest-merror:0.070702\n",
      "[212]\ttrain-merror:0.026281\ttest-merror:0.070619\n",
      "[213]\ttrain-merror:0.026247\ttest-merror:0.070556\n",
      "[214]\ttrain-merror:0.026188\ttest-merror:0.070493\n",
      "[215]\ttrain-merror:0.026127\ttest-merror:0.070483\n",
      "[216]\ttrain-merror:0.026069\ttest-merror:0.070316\n",
      "[217]\ttrain-merror:0.026015\ttest-merror:0.070238\n",
      "[218]\ttrain-merror:0.025931\ttest-merror:0.070081\n",
      "[219]\ttrain-merror:0.025875\ttest-merror:0.070003\n",
      "[220]\ttrain-merror:0.02582\ttest-merror:0.069961\n",
      "[221]\ttrain-merror:0.025768\ttest-merror:0.069862\n",
      "[222]\ttrain-merror:0.025708\ttest-merror:0.069852\n",
      "[223]\ttrain-merror:0.02566\ttest-merror:0.0698\n",
      "[224]\ttrain-merror:0.025575\ttest-merror:0.069591\n",
      "[225]\ttrain-merror:0.025533\ttest-merror:0.069555\n",
      "[226]\ttrain-merror:0.025493\ttest-merror:0.069581\n",
      "[227]\ttrain-merror:0.025416\ttest-merror:0.069455\n",
      "[228]\ttrain-merror:0.025384\ttest-merror:0.069362\n",
      "[229]\ttrain-merror:0.025317\ttest-merror:0.069289\n",
      "[230]\ttrain-merror:0.025223\ttest-merror:0.069153\n",
      "[231]\ttrain-merror:0.025175\ttest-merror:0.069142\n",
      "[232]\ttrain-merror:0.025149\ttest-merror:0.069054\n",
      "[233]\ttrain-merror:0.025087\ttest-merror:0.068908\n",
      "[234]\ttrain-merror:0.025034\ttest-merror:0.068929\n",
      "[235]\ttrain-merror:0.024988\ttest-merror:0.068757\n",
      "[236]\ttrain-merror:0.024926\ttest-merror:0.068595\n",
      "[237]\ttrain-merror:0.024874\ttest-merror:0.068647\n",
      "[238]\ttrain-merror:0.024867\ttest-merror:0.068673\n",
      "[239]\ttrain-merror:0.024851\ttest-merror:0.068605\n",
      "[240]\ttrain-merror:0.024801\ttest-merror:0.068527\n",
      "[241]\ttrain-merror:0.024754\ttest-merror:0.068438\n",
      "[242]\ttrain-merror:0.024707\ttest-merror:0.068303\n",
      "[243]\ttrain-merror:0.024649\ttest-merror:0.06823\n",
      "[244]\ttrain-merror:0.024623\ttest-merror:0.068167\n",
      "[245]\ttrain-merror:0.024592\ttest-merror:0.068146\n",
      "[246]\ttrain-merror:0.024558\ttest-merror:0.068183\n",
      "[247]\ttrain-merror:0.024536\ttest-merror:0.068099\n",
      "[248]\ttrain-merror:0.024482\ttest-merror:0.068094\n",
      "[249]\ttrain-merror:0.024437\ttest-merror:0.068011\n",
      "[250]\ttrain-merror:0.024419\ttest-merror:0.067912\n",
      "[251]\ttrain-merror:0.024347\ttest-merror:0.067875\n",
      "[252]\ttrain-merror:0.02431\ttest-merror:0.067812\n",
      "[253]\ttrain-merror:0.024299\ttest-merror:0.06776\n",
      "[254]\ttrain-merror:0.024263\ttest-merror:0.067755\n",
      "[255]\ttrain-merror:0.024228\ttest-merror:0.06775\n",
      "[256]\ttrain-merror:0.024207\ttest-merror:0.06764\n",
      "[257]\ttrain-merror:0.024189\ttest-merror:0.067583\n",
      "[258]\ttrain-merror:0.024153\ttest-merror:0.067599\n",
      "[259]\ttrain-merror:0.024113\ttest-merror:0.067635\n",
      "[260]\ttrain-merror:0.024068\ttest-merror:0.067619\n",
      "[261]\ttrain-merror:0.024023\ttest-merror:0.067437\n",
      "[262]\ttrain-merror:0.023997\ttest-merror:0.067369\n",
      "[263]\ttrain-merror:0.023973\ttest-merror:0.067244\n",
      "[264]\ttrain-merror:0.023941\ttest-merror:0.067187\n",
      "[265]\ttrain-merror:0.023859\ttest-merror:0.067145\n",
      "[266]\ttrain-merror:0.023846\ttest-merror:0.067103\n",
      "[267]\ttrain-merror:0.023817\ttest-merror:0.067061\n",
      "[268]\ttrain-merror:0.023768\ttest-merror:0.066936\n",
      "[269]\ttrain-merror:0.02374\ttest-merror:0.066931\n",
      "[270]\ttrain-merror:0.023713\ttest-merror:0.066853\n",
      "[271]\ttrain-merror:0.023686\ttest-merror:0.066785\n",
      "[272]\ttrain-merror:0.023673\ttest-merror:0.066801\n",
      "[273]\ttrain-merror:0.023632\ttest-merror:0.066691\n",
      "[274]\ttrain-merror:0.023581\ttest-merror:0.066618\n",
      "[275]\ttrain-merror:0.023558\ttest-merror:0.066571\n",
      "[276]\ttrain-merror:0.023538\ttest-merror:0.066519\n",
      "[277]\ttrain-merror:0.023499\ttest-merror:0.066467\n",
      "[278]\ttrain-merror:0.023464\ttest-merror:0.06643\n",
      "[279]\ttrain-merror:0.023461\ttest-merror:0.066409\n",
      "[280]\ttrain-merror:0.023437\ttest-merror:0.066388\n",
      "[281]\ttrain-merror:0.023408\ttest-merror:0.066258\n",
      "[282]\ttrain-merror:0.023391\ttest-merror:0.066253\n",
      "[283]\ttrain-merror:0.023365\ttest-merror:0.066195\n",
      "[284]\ttrain-merror:0.023335\ttest-merror:0.066117\n",
      "[285]\ttrain-merror:0.023317\ttest-merror:0.066138\n",
      "[286]\ttrain-merror:0.023293\ttest-merror:0.066096\n",
      "[287]\ttrain-merror:0.023276\ttest-merror:0.066008\n",
      "[288]\ttrain-merror:0.023242\ttest-merror:0.065935\n",
      "[289]\ttrain-merror:0.02322\ttest-merror:0.065945\n",
      "[290]\ttrain-merror:0.023189\ttest-merror:0.065862\n",
      "[291]\ttrain-merror:0.02318\ttest-merror:0.06583\n",
      "[292]\ttrain-merror:0.023169\ttest-merror:0.065815\n",
      "[293]\ttrain-merror:0.023146\ttest-merror:0.065747\n",
      "[294]\ttrain-merror:0.023137\ttest-merror:0.065731\n",
      "[295]\ttrain-merror:0.023103\ttest-merror:0.0657\n",
      "[296]\ttrain-merror:0.023072\ttest-merror:0.065679\n",
      "[297]\ttrain-merror:0.023052\ttest-merror:0.065502\n",
      "[298]\ttrain-merror:0.023035\ttest-merror:0.065497\n",
      "[299]\ttrain-merror:0.023019\ttest-merror:0.065544\n",
      "[300]\ttrain-merror:0.022989\ttest-merror:0.065507\n",
      "[301]\ttrain-merror:0.022971\ttest-merror:0.06546\n",
      "[302]\ttrain-merror:0.02295\ttest-merror:0.065403\n",
      "[303]\ttrain-merror:0.022932\ttest-merror:0.065413\n",
      "[304]\ttrain-merror:0.022932\ttest-merror:0.065444\n",
      "[305]\ttrain-merror:0.02292\ttest-merror:0.065304\n",
      "[306]\ttrain-merror:0.022895\ttest-merror:0.06534\n",
      "[307]\ttrain-merror:0.022875\ttest-merror:0.065251\n",
      "[308]\ttrain-merror:0.022856\ttest-merror:0.065215\n",
      "[309]\ttrain-merror:0.022834\ttest-merror:0.065262\n",
      "[310]\ttrain-merror:0.022815\ttest-merror:0.065126\n",
      "[311]\ttrain-merror:0.022799\ttest-merror:0.065225\n",
      "[312]\ttrain-merror:0.022789\ttest-merror:0.065189\n",
      "[313]\ttrain-merror:0.022773\ttest-merror:0.065126\n",
      "[314]\ttrain-merror:0.02274\ttest-merror:0.065095\n",
      "[315]\ttrain-merror:0.022731\ttest-merror:0.065079\n",
      "[316]\ttrain-merror:0.022721\ttest-merror:0.065069\n",
      "[317]\ttrain-merror:0.022712\ttest-merror:0.064949\n",
      "[318]\ttrain-merror:0.022693\ttest-merror:0.064923\n",
      "[319]\ttrain-merror:0.022676\ttest-merror:0.064944\n",
      "[320]\ttrain-merror:0.022663\ttest-merror:0.064954\n",
      "[321]\ttrain-merror:0.022662\ttest-merror:0.064923\n",
      "[322]\ttrain-merror:0.022648\ttest-merror:0.064965\n",
      "[323]\ttrain-merror:0.022636\ttest-merror:0.064881\n",
      "[324]\ttrain-merror:0.022619\ttest-merror:0.064975\n",
      "[325]\ttrain-merror:0.022602\ttest-merror:0.064933\n",
      "[326]\ttrain-merror:0.022581\ttest-merror:0.064912\n",
      "[327]\ttrain-merror:0.022575\ttest-merror:0.064938\n",
      "[328]\ttrain-merror:0.022566\ttest-merror:0.064871\n",
      "[329]\ttrain-merror:0.022546\ttest-merror:0.064782\n",
      "[330]\ttrain-merror:0.022538\ttest-merror:0.064719\n",
      "[331]\ttrain-merror:0.022525\ttest-merror:0.064652\n",
      "[332]\ttrain-merror:0.022523\ttest-merror:0.064657\n",
      "[333]\ttrain-merror:0.022511\ttest-merror:0.064662\n",
      "[334]\ttrain-merror:0.022493\ttest-merror:0.064568\n",
      "[335]\ttrain-merror:0.022487\ttest-merror:0.064532\n",
      "[336]\ttrain-merror:0.02247\ttest-merror:0.064532\n",
      "[337]\ttrain-merror:0.022466\ttest-merror:0.064558\n",
      "[338]\ttrain-merror:0.022459\ttest-merror:0.064532\n",
      "[339]\ttrain-merror:0.022452\ttest-merror:0.064511\n",
      "[340]\ttrain-merror:0.022438\ttest-merror:0.064532\n",
      "[341]\ttrain-merror:0.02242\ttest-merror:0.064469\n",
      "[342]\ttrain-merror:0.022408\ttest-merror:0.064516\n",
      "[343]\ttrain-merror:0.0224\ttest-merror:0.064474\n",
      "[344]\ttrain-merror:0.022386\ttest-merror:0.064485\n",
      "[345]\ttrain-merror:0.022379\ttest-merror:0.064547\n",
      "[346]\ttrain-merror:0.022369\ttest-merror:0.064438\n",
      "[347]\ttrain-merror:0.022358\ttest-merror:0.064365\n",
      "[348]\ttrain-merror:0.022348\ttest-merror:0.064365\n",
      "[349]\ttrain-merror:0.022339\ttest-merror:0.064354\n",
      "[350]\ttrain-merror:0.02233\ttest-merror:0.064323\n",
      "[351]\ttrain-merror:0.022322\ttest-merror:0.064313\n",
      "[352]\ttrain-merror:0.022315\ttest-merror:0.064182\n",
      "[353]\ttrain-merror:0.02231\ttest-merror:0.064229\n",
      "[354]\ttrain-merror:0.022309\ttest-merror:0.064213\n",
      "[355]\ttrain-merror:0.022294\ttest-merror:0.064224\n",
      "[356]\ttrain-merror:0.022283\ttest-merror:0.064208\n",
      "[357]\ttrain-merror:0.022281\ttest-merror:0.064203\n",
      "[358]\ttrain-merror:0.022271\ttest-merror:0.064187\n",
      "[359]\ttrain-merror:0.022258\ttest-merror:0.064151\n",
      "[360]\ttrain-merror:0.022251\ttest-merror:0.06414\n",
      "[361]\ttrain-merror:0.022241\ttest-merror:0.064135\n",
      "[362]\ttrain-merror:0.022234\ttest-merror:0.06412\n",
      "[363]\ttrain-merror:0.022225\ttest-merror:0.064062\n",
      "[364]\ttrain-merror:0.02222\ttest-merror:0.064067\n",
      "[365]\ttrain-merror:0.02222\ttest-merror:0.064052\n",
      "[366]\ttrain-merror:0.02221\ttest-merror:0.064099\n",
      "[367]\ttrain-merror:0.022195\ttest-merror:0.064104\n",
      "[368]\ttrain-merror:0.022186\ttest-merror:0.064015\n",
      "[369]\ttrain-merror:0.022174\ttest-merror:0.063984\n",
      "[370]\ttrain-merror:0.022167\ttest-merror:0.064015\n",
      "[371]\ttrain-merror:0.022154\ttest-merror:0.063963\n",
      "[372]\ttrain-merror:0.022142\ttest-merror:0.063974\n",
      "[373]\ttrain-merror:0.02213\ttest-merror:0.063817\n",
      "[374]\ttrain-merror:0.022129\ttest-merror:0.063895\n",
      "[375]\ttrain-merror:0.022124\ttest-merror:0.063843\n",
      "[376]\ttrain-merror:0.022117\ttest-merror:0.0639\n",
      "[377]\ttrain-merror:0.022109\ttest-merror:0.063827\n",
      "[378]\ttrain-merror:0.022101\ttest-merror:0.063781\n",
      "[379]\ttrain-merror:0.0221\ttest-merror:0.063817\n",
      "[380]\ttrain-merror:0.022097\ttest-merror:0.06377\n",
      "[381]\ttrain-merror:0.022099\ttest-merror:0.06377\n",
      "[382]\ttrain-merror:0.022091\ttest-merror:0.063864\n",
      "[383]\ttrain-merror:0.022087\ttest-merror:0.063781\n",
      "[384]\ttrain-merror:0.022084\ttest-merror:0.06377\n",
      "[385]\ttrain-merror:0.022082\ttest-merror:0.063734\n",
      "[386]\ttrain-merror:0.022078\ttest-merror:0.063681\n",
      "[387]\ttrain-merror:0.022073\ttest-merror:0.063666\n",
      "[388]\ttrain-merror:0.022069\ttest-merror:0.063593\n",
      "[389]\ttrain-merror:0.022067\ttest-merror:0.063619\n",
      "[390]\ttrain-merror:0.022053\ttest-merror:0.06365\n",
      "[391]\ttrain-merror:0.022052\ttest-merror:0.063619\n",
      "[392]\ttrain-merror:0.022048\ttest-merror:0.063556\n",
      "[393]\ttrain-merror:0.022037\ttest-merror:0.063556\n",
      "[394]\ttrain-merror:0.022039\ttest-merror:0.063556\n",
      "[395]\ttrain-merror:0.022032\ttest-merror:0.063546\n",
      "[396]\ttrain-merror:0.022034\ttest-merror:0.063551\n",
      "[397]\ttrain-merror:0.02203\ttest-merror:0.063504\n",
      "[398]\ttrain-merror:0.022022\ttest-merror:0.063546\n",
      "[399]\ttrain-merror:0.022015\ttest-merror:0.06352\n",
      "[400]\ttrain-merror:0.022014\ttest-merror:0.063588\n",
      "[401]\ttrain-merror:0.022011\ttest-merror:0.063619\n",
      "[402]\ttrain-merror:0.022009\ttest-merror:0.063561\n",
      "[403]\ttrain-merror:0.021997\ttest-merror:0.06352\n",
      "[404]\ttrain-merror:0.021984\ttest-merror:0.063614\n",
      "[405]\ttrain-merror:0.021983\ttest-merror:0.063551\n",
      "[406]\ttrain-merror:0.021979\ttest-merror:0.063588\n",
      "[407]\ttrain-merror:0.021972\ttest-merror:0.063561\n",
      "[408]\ttrain-merror:0.021972\ttest-merror:0.063462\n",
      "[409]\ttrain-merror:0.021964\ttest-merror:0.063494\n",
      "[410]\ttrain-merror:0.021957\ttest-merror:0.063405\n",
      "[411]\ttrain-merror:0.021959\ttest-merror:0.063546\n",
      "[412]\ttrain-merror:0.021958\ttest-merror:0.063473\n",
      "[413]\ttrain-merror:0.021951\ttest-merror:0.063468\n",
      "[414]\ttrain-merror:0.021947\ttest-merror:0.063421\n",
      "[415]\ttrain-merror:0.021941\ttest-merror:0.063415\n",
      "[416]\ttrain-merror:0.021931\ttest-merror:0.06341\n",
      "[417]\ttrain-merror:0.021932\ttest-merror:0.063395\n",
      "[418]\ttrain-merror:0.021928\ttest-merror:0.063353\n",
      "[419]\ttrain-merror:0.02192\ttest-merror:0.063368\n",
      "[420]\ttrain-merror:0.021919\ttest-merror:0.063353\n",
      "[421]\ttrain-merror:0.021915\ttest-merror:0.063353\n",
      "[422]\ttrain-merror:0.021911\ttest-merror:0.063332\n",
      "[423]\ttrain-merror:0.02191\ttest-merror:0.06328\n",
      "[424]\ttrain-merror:0.021906\ttest-merror:0.063316\n",
      "[425]\ttrain-merror:0.021904\ttest-merror:0.063353\n",
      "[426]\ttrain-merror:0.021904\ttest-merror:0.06341\n",
      "[427]\ttrain-merror:0.021903\ttest-merror:0.063353\n",
      "[428]\ttrain-merror:0.021899\ttest-merror:0.063358\n",
      "[429]\ttrain-merror:0.021893\ttest-merror:0.063395\n",
      "[430]\ttrain-merror:0.021891\ttest-merror:0.0634\n",
      "[431]\ttrain-merror:0.021889\ttest-merror:0.063295\n",
      "[432]\ttrain-merror:0.021884\ttest-merror:0.063327\n",
      "[433]\ttrain-merror:0.02188\ttest-merror:0.063353\n",
      "[434]\ttrain-merror:0.021877\ttest-merror:0.063337\n",
      "[435]\ttrain-merror:0.021876\ttest-merror:0.063353\n",
      "[436]\ttrain-merror:0.021878\ttest-merror:0.063301\n",
      "[437]\ttrain-merror:0.021874\ttest-merror:0.063348\n",
      "[438]\ttrain-merror:0.021873\ttest-merror:0.063264\n",
      "[439]\ttrain-merror:0.021871\ttest-merror:0.063155\n",
      "[440]\ttrain-merror:0.021869\ttest-merror:0.063212\n",
      "[441]\ttrain-merror:0.021865\ttest-merror:0.06316\n",
      "[442]\ttrain-merror:0.021864\ttest-merror:0.063181\n",
      "[443]\ttrain-merror:0.02186\ttest-merror:0.063254\n",
      "[444]\ttrain-merror:0.021856\ttest-merror:0.063228\n",
      "[445]\ttrain-merror:0.021852\ttest-merror:0.063202\n",
      "[446]\ttrain-merror:0.021852\ttest-merror:0.063165\n",
      "[447]\ttrain-merror:0.02185\ttest-merror:0.063066\n",
      "[448]\ttrain-merror:0.021848\ttest-merror:0.062988\n",
      "[449]\ttrain-merror:0.021847\ttest-merror:0.06304\n",
      "[450]\ttrain-merror:0.021848\ttest-merror:0.063035\n",
      "[451]\ttrain-merror:0.021843\ttest-merror:0.063019\n",
      "[452]\ttrain-merror:0.021841\ttest-merror:0.063045\n",
      "[453]\ttrain-merror:0.021841\ttest-merror:0.063009\n",
      "[454]\ttrain-merror:0.021838\ttest-merror:0.063082\n",
      "[455]\ttrain-merror:0.021837\ttest-merror:0.063102\n",
      "[456]\ttrain-merror:0.021838\ttest-merror:0.063108\n",
      "[457]\ttrain-merror:0.021838\ttest-merror:0.063045\n",
      "[458]\ttrain-merror:0.021834\ttest-merror:0.063108\n",
      "[459]\ttrain-merror:0.021834\ttest-merror:0.063019\n",
      "[460]\ttrain-merror:0.021833\ttest-merror:0.063118\n",
      "[461]\ttrain-merror:0.02183\ttest-merror:0.063097\n",
      "[462]\ttrain-merror:0.02183\ttest-merror:0.06316\n",
      "[463]\ttrain-merror:0.021828\ttest-merror:0.063139\n",
      "[464]\ttrain-merror:0.021826\ttest-merror:0.063113\n",
      "[465]\ttrain-merror:0.021826\ttest-merror:0.063019\n",
      "[466]\ttrain-merror:0.021825\ttest-merror:0.062998\n",
      "[467]\ttrain-merror:0.021821\ttest-merror:0.062936\n",
      "[468]\ttrain-merror:0.021817\ttest-merror:0.06293\n",
      "[469]\ttrain-merror:0.021814\ttest-merror:0.062998\n",
      "[470]\ttrain-merror:0.021811\ttest-merror:0.062962\n",
      "[471]\ttrain-merror:0.021807\ttest-merror:0.062936\n",
      "[472]\ttrain-merror:0.021805\ttest-merror:0.062972\n",
      "[473]\ttrain-merror:0.021804\ttest-merror:0.062988\n",
      "[474]\ttrain-merror:0.021801\ttest-merror:0.062951\n",
      "[475]\ttrain-merror:0.021801\ttest-merror:0.062946\n",
      "[476]\ttrain-merror:0.021799\ttest-merror:0.062951\n",
      "[477]\ttrain-merror:0.021799\ttest-merror:0.062962\n",
      "[478]\ttrain-merror:0.021798\ttest-merror:0.062982\n",
      "[479]\ttrain-merror:0.021791\ttest-merror:0.062946\n",
      "[480]\ttrain-merror:0.021787\ttest-merror:0.062816\n",
      "[481]\ttrain-merror:0.021783\ttest-merror:0.062857\n",
      "[482]\ttrain-merror:0.021784\ttest-merror:0.062831\n",
      "[483]\ttrain-merror:0.021783\ttest-merror:0.062894\n",
      "[484]\ttrain-merror:0.021783\ttest-merror:0.062863\n",
      "[485]\ttrain-merror:0.021783\ttest-merror:0.062769\n",
      "[486]\ttrain-merror:0.021782\ttest-merror:0.062758\n",
      "[487]\ttrain-merror:0.021779\ttest-merror:0.062732\n",
      "[488]\ttrain-merror:0.021778\ttest-merror:0.06269\n",
      "[489]\ttrain-merror:0.021777\ttest-merror:0.062758\n",
      "[490]\ttrain-merror:0.021777\ttest-merror:0.062753\n",
      "[491]\ttrain-merror:0.021774\ttest-merror:0.0628\n",
      "[492]\ttrain-merror:0.021771\ttest-merror:0.062831\n",
      "[493]\ttrain-merror:0.021768\ttest-merror:0.062831\n",
      "[494]\ttrain-merror:0.021765\ttest-merror:0.062863\n",
      "[495]\ttrain-merror:0.021761\ttest-merror:0.062857\n",
      "[496]\ttrain-merror:0.02176\ttest-merror:0.062857\n",
      "[497]\ttrain-merror:0.02176\ttest-merror:0.062789\n",
      "[498]\ttrain-merror:0.02176\ttest-merror:0.062847\n",
      "[499]\ttrain-merror:0.021758\ttest-merror:0.062873\n",
      "[500]\ttrain-merror:0.021758\ttest-merror:0.062847\n",
      "[501]\ttrain-merror:0.021754\ttest-merror:0.062763\n",
      "[502]\ttrain-merror:0.021756\ttest-merror:0.062816\n",
      "[503]\ttrain-merror:0.021756\ttest-merror:0.062795\n",
      "[504]\ttrain-merror:0.021752\ttest-merror:0.062737\n",
      "[505]\ttrain-merror:0.021752\ttest-merror:0.062727\n",
      "[506]\ttrain-merror:0.021751\ttest-merror:0.06268\n",
      "[507]\ttrain-merror:0.021747\ttest-merror:0.062711\n",
      "[508]\ttrain-merror:0.021748\ttest-merror:0.062737\n",
      "[509]\ttrain-merror:0.021748\ttest-merror:0.062737\n",
      "[510]\ttrain-merror:0.021745\ttest-merror:0.062732\n",
      "[511]\ttrain-merror:0.021744\ttest-merror:0.062722\n",
      "[512]\ttrain-merror:0.021744\ttest-merror:0.06267\n",
      "[513]\ttrain-merror:0.021741\ttest-merror:0.062758\n",
      "[514]\ttrain-merror:0.02174\ttest-merror:0.062795\n",
      "[515]\ttrain-merror:0.02174\ttest-merror:0.062763\n",
      "[516]\ttrain-merror:0.021739\ttest-merror:0.062607\n",
      "[517]\ttrain-merror:0.02174\ttest-merror:0.062664\n",
      "[518]\ttrain-merror:0.021738\ttest-merror:0.06268\n",
      "[519]\ttrain-merror:0.021738\ttest-merror:0.062701\n",
      "[520]\ttrain-merror:0.021736\ttest-merror:0.062706\n",
      "[521]\ttrain-merror:0.021732\ttest-merror:0.062649\n",
      "[522]\ttrain-merror:0.021734\ttest-merror:0.06268\n",
      "[523]\ttrain-merror:0.021731\ttest-merror:0.062743\n",
      "[524]\ttrain-merror:0.021732\ttest-merror:0.062701\n",
      "[525]\ttrain-merror:0.021731\ttest-merror:0.062795\n",
      "[526]\ttrain-merror:0.021728\ttest-merror:0.0628\n",
      "[527]\ttrain-merror:0.021728\ttest-merror:0.062784\n",
      "[528]\ttrain-merror:0.021728\ttest-merror:0.062685\n",
      "[529]\ttrain-merror:0.021726\ttest-merror:0.062701\n",
      "[530]\ttrain-merror:0.021725\ttest-merror:0.062659\n",
      "[531]\ttrain-merror:0.021725\ttest-merror:0.062737\n",
      "[532]\ttrain-merror:0.021725\ttest-merror:0.062789\n",
      "[533]\ttrain-merror:0.021725\ttest-merror:0.062643\n",
      "[534]\ttrain-merror:0.021725\ttest-merror:0.062617\n",
      "[535]\ttrain-merror:0.021725\ttest-merror:0.06257\n",
      "[536]\ttrain-merror:0.021723\ttest-merror:0.062586\n",
      "[537]\ttrain-merror:0.021723\ttest-merror:0.062602\n",
      "[538]\ttrain-merror:0.021723\ttest-merror:0.062643\n",
      "[539]\ttrain-merror:0.021723\ttest-merror:0.062607\n",
      "[540]\ttrain-merror:0.021723\ttest-merror:0.062628\n",
      "[541]\ttrain-merror:0.021723\ttest-merror:0.062565\n",
      "[542]\ttrain-merror:0.021723\ttest-merror:0.062523\n",
      "[543]\ttrain-merror:0.021723\ttest-merror:0.062612\n",
      "[544]\ttrain-merror:0.021722\ttest-merror:0.062612\n",
      "[545]\ttrain-merror:0.021721\ttest-merror:0.062617\n",
      "[546]\ttrain-merror:0.021721\ttest-merror:0.062576\n",
      "[547]\ttrain-merror:0.021721\ttest-merror:0.062596\n",
      "[548]\ttrain-merror:0.021721\ttest-merror:0.062576\n",
      "[549]\ttrain-merror:0.021721\ttest-merror:0.062612\n",
      "[550]\ttrain-merror:0.021721\ttest-merror:0.062565\n",
      "[551]\ttrain-merror:0.021721\ttest-merror:0.062638\n",
      "[552]\ttrain-merror:0.021721\ttest-merror:0.062617\n",
      "[553]\ttrain-merror:0.021721\ttest-merror:0.062623\n",
      "[554]\ttrain-merror:0.021721\ttest-merror:0.062659\n",
      "[555]\ttrain-merror:0.021721\ttest-merror:0.062664\n",
      "[556]\ttrain-merror:0.021721\ttest-merror:0.062628\n",
      "[557]\ttrain-merror:0.021721\ttest-merror:0.062659\n",
      "[558]\ttrain-merror:0.021721\ttest-merror:0.062643\n",
      "[559]\ttrain-merror:0.021719\ttest-merror:0.062706\n",
      "[560]\ttrain-merror:0.021719\ttest-merror:0.062737\n",
      "[561]\ttrain-merror:0.021719\ttest-merror:0.062737\n",
      "[562]\ttrain-merror:0.021719\ttest-merror:0.062737\n",
      "[563]\ttrain-merror:0.021719\ttest-merror:0.062664\n",
      "[564]\ttrain-merror:0.021718\ttest-merror:0.062716\n",
      "[565]\ttrain-merror:0.021718\ttest-merror:0.062774\n",
      "[566]\ttrain-merror:0.021718\ttest-merror:0.062784\n",
      "[567]\ttrain-merror:0.021718\ttest-merror:0.062722\n",
      "[568]\ttrain-merror:0.021718\ttest-merror:0.062748\n",
      "[569]\ttrain-merror:0.021718\ttest-merror:0.062675\n",
      "[570]\ttrain-merror:0.021718\ttest-merror:0.062722\n",
      "[571]\ttrain-merror:0.021717\ttest-merror:0.06269\n",
      "[572]\ttrain-merror:0.021717\ttest-merror:0.062664\n",
      "[573]\ttrain-merror:0.021717\ttest-merror:0.062664\n",
      "[574]\ttrain-merror:0.021717\ttest-merror:0.062664\n",
      "[575]\ttrain-merror:0.021714\ttest-merror:0.062659\n",
      "[576]\ttrain-merror:0.021714\ttest-merror:0.06267\n",
      "[577]\ttrain-merror:0.021713\ttest-merror:0.06268\n",
      "[578]\ttrain-merror:0.021713\ttest-merror:0.062649\n",
      "[579]\ttrain-merror:0.021713\ttest-merror:0.062716\n",
      "[580]\ttrain-merror:0.021713\ttest-merror:0.062716\n",
      "[581]\ttrain-merror:0.021713\ttest-merror:0.062758\n",
      "[582]\ttrain-merror:0.021713\ttest-merror:0.062711\n",
      "[583]\ttrain-merror:0.021713\ttest-merror:0.062716\n",
      "[584]\ttrain-merror:0.021713\ttest-merror:0.062805\n",
      "[585]\ttrain-merror:0.021713\ttest-merror:0.062743\n",
      "[586]\ttrain-merror:0.021713\ttest-merror:0.062737\n",
      "[587]\ttrain-merror:0.021713\ttest-merror:0.062753\n",
      "[588]\ttrain-merror:0.021713\ttest-merror:0.062722\n",
      "[589]\ttrain-merror:0.021713\ttest-merror:0.062643\n",
      "[590]\ttrain-merror:0.021713\ttest-merror:0.06267\n",
      "[591]\ttrain-merror:0.021713\ttest-merror:0.062664\n",
      "[592]\ttrain-merror:0.021711\ttest-merror:0.062596\n",
      "Stopping. Best iteration:\n",
      "[542]\ttrain-merror:0.021723\ttest-merror:0.062523\n",
      "\n"
     ]
    }
   ],
   "source": [
    "watchlist = [(xg_train, 'train'), (xg_test, 'test')]\n",
    "num_round = 10000\n",
    "# num_round = 5\n",
    "\n",
    "bst = xgb.train(params=params, dtrain=xg_train, num_boost_round=num_round, evals=watchlist, early_stopping_rounds=50)\n",
    "# bst = xgb.train(params=params, dtrain=xg_train, num_boost_round=num_round, evals=watchlist)"
   ]
  },
  {
   "cell_type": "code",
   "execution_count": 146,
   "metadata": {
    "ExecuteTime": {
     "end_time": "2018-05-14T22:10:35.793563Z",
     "start_time": "2018-05-14T18:10:35.766993-04:00"
    },
    "collapsed": true
   },
   "outputs": [],
   "source": [
    "pred = bst.predict(xg_test)"
   ]
  },
  {
   "cell_type": "code",
   "execution_count": 147,
   "metadata": {
    "ExecuteTime": {
     "end_time": "2018-05-14T22:10:35.805093Z",
     "start_time": "2018-05-14T18:10:35.795066-04:00"
    }
   },
   "outputs": [
    {
     "name": "stdout",
     "output_type": "stream",
     "text": [
      "Test error using softmax = 0.06259649488837889\n"
     ]
    }
   ],
   "source": [
    "error_rate = np.sum(pred != y_test) / y_test.shape[0]\n",
    "print('Test error using softmax = {}'.format(error_rate))"
   ]
  },
  {
   "cell_type": "code",
   "execution_count": 148,
   "metadata": {
    "ExecuteTime": {
     "end_time": "2018-05-14T22:11:40.472913Z",
     "start_time": "2018-05-14T18:10:35.807098-04:00"
    }
   },
   "outputs": [
    {
     "data": {
      "image/png": "[encoded data removed]",
      "text/plain": [
       "<matplotlib.figure.Figure at 0x1f6b53d4d68>"
      ]
     },
     "metadata": {},
     "output_type": "display_data"
    }
   ],
   "source": [
    "ax = xgb.plot_importance(bst)\n",
    "fig = ax.figure\n",
    "fig.set_size_inches(15, 10)"
   ]
  },
  {
   "cell_type": "code",
   "execution_count": 149,
   "metadata": {
    "ExecuteTime": {
     "end_time": "2018-05-14T22:20:05.907740Z",
     "start_time": "2018-05-14T18:20:05.901723-04:00"
    }
   },
   "outputs": [
    {
     "name": "stdout",
     "output_type": "stream",
     "text": [
      "0: location_raw\n",
      "1: county_name\n",
      "2: driver_age_raw\n",
      "3: driver_race\n",
      "4: search_conducted\n",
      "5: contraband_found\n",
      "6: stop_duration\n",
      "7: violation_bad_stop\n",
      "8: violation_cell_phone\n",
      "9: violation_display_of_plates\n",
      "10: violation_equipment\n",
      "11: violation_license\n",
      "12: violation_lights\n",
      "13: violation_moving_violation\n",
      "14: violation_other\n",
      "15: violation_registration\n",
      "16: violation_safe_movement\n",
      "17: violation_seatbelt\n",
      "18: violation_speeding\n",
      "19: violation_suspended_license\n",
      "20: violation_traffic_control_signal\n",
      "21: violation_window_tint\n",
      "22: day_period\n",
      "23: season\n",
      "24: is_male\n"
     ]
    }
   ],
   "source": [
    "for idx, c in enumerate(oversampled.columns.values):\n",
    "    print('{}: {}'.format(idx, c))"
   ]
  },
  {
   "cell_type": "code",
   "execution_count": 151,
   "metadata": {
    "ExecuteTime": {
     "end_time": "2018-05-14T23:36:05.985785Z",
     "start_time": "2018-05-14T19:36:02.053824-04:00"
    }
   },
   "outputs": [
    {
     "data": {
      "text/plain": [
       "<matplotlib.text.Text at 0x1f6be7399e8>"
      ]
     },
     "execution_count": 151,
     "metadata": {},
     "output_type": "execute_result"
    },
    {
     "data": {
      "image/png": "[encoded data removed]",
      "text/plain": [
       "<matplotlib.figure.Figure at 0x1f707bf97b8>"
      ]
     },
     "metadata": {},
     "output_type": "display_data"
    }
   ],
   "source": [
    "error_results = {\n",
    "    'train': [],\n",
    "    'test': [],\n",
    "}\n",
    "\n",
    "logfile = 'runs/201805111748-oversampled-0.0626-error-592-run.log'\n",
    "with open(logfile, 'r') as f:\n",
    "    for line in f:\n",
    "        tokens = line.strip().split('\\t')\n",
    "        error_results['train'].append(float(tokens[1].split(':')[1]))\n",
    "        error_results['test'].append(float(tokens[2].split(':')[1]))\n",
    "\n",
    "df_errors = pd.DataFrame(error_results)\n",
    "\n",
    "learning_curve = df_errors.plot.line(title='Learning curve', figsize=(8,5))\n",
    "learning_curve.set_xlabel('Number of runs')\n",
    "learning_curve.set_ylabel('Error')"
   ]
  },
  {
   "cell_type": "code",
   "execution_count": 152,
   "metadata": {
    "ExecuteTime": {
     "end_time": "2018-05-14T23:36:24.324347Z",
     "start_time": "2018-05-14T19:36:23.563547-04:00"
    }
   },
   "outputs": [
    {
     "data": {
      "text/plain": [
       "<matplotlib.text.Text at 0x1f6cda16f28>"
      ]
     },
     "execution_count": 152,
     "metadata": {},
     "output_type": "execute_result"
    },
    {
     "data": {
      "image/png": "[encoded data removed]",
      "text/plain": [
       "<matplotlib.figure.Figure at 0x1f6cd9e32e8>"
      ]
     },
     "metadata": {},
     "output_type": "display_data"
    }
   ],
   "source": [
    "df_accuracy = df_errors.copy()\n",
    "df_accuracy_processed = df_accuracy.mul(-1).add(1)\n",
    "\n",
    "learning_curve = df_accuracy_processed.plot.line(title='Learning curve', figsize=(8,5))\n",
    "learning_curve.set_xlabel('Number of runs')\n",
    "learning_curve.set_ylabel('Accuracy')"
   ]
  },
  {
   "cell_type": "markdown",
   "metadata": {},
   "source": [
    "# GridSearchCV"
   ]
  },
  {
   "cell_type": "markdown",
   "metadata": {},
   "source": [
    "## RandomForestClassifier"
   ]
  },
  {
   "cell_type": "code",
   "execution_count": 14,
   "metadata": {
    "ExecuteTime": {
     "end_time": "2018-05-15T20:45:19.279203Z",
     "start_time": "2018-05-15T20:06:40.274374Z"
    },
    "scrolled": true
   },
   "outputs": [
    {
     "name": "stdout",
     "output_type": "stream",
     "text": [
      "Fitting 5 folds for each of 10 candidates, totalling 50 fits\n",
      "[CV] verbose=3, random_state=0, n_jobs=8, n_estimators=10, max_features=sqrt, max_depth=None, criterion=gini \n",
      "[CV] verbose=3, random_state=0, n_jobs=8, n_estimators=10, max_features=sqrt, max_depth=None, criterion=gini \n",
      "building tree 2 of 10\n",
      "building tree 6 of 10\n",
      "building tree 3 of 10\n",
      "building tree 7 of 10\n",
      "building tree 5 of 10\n",
      "building tree 1 of 10\n",
      "building tree 8 of 10\n",
      "building tree 4 of 10\n",
      "[CV] verbose=3, random_state=0, n_jobs=8, n_estimators=10, max_features=sqrt, max_depth=None, criterion=gini \n",
      "[CV] verbose=3, random_state=0, n_jobs=8, n_estimators=10, max_features=sqrt, max_depth=None, criterion=gini \n",
      "building tree 4 of 10\n",
      "building tree 2 of 10\n",
      "building tree 1 of 10\n",
      "building tree 3 of 10\n",
      "building tree 7 of 10\n",
      "building tree 6 of 10\n",
      "building tree 8 of 10\n",
      "building tree 5 of 10\n",
      "[CV] verbose=3, random_state=0, n_jobs=8, n_estimators=10, max_features=sqrt, max_depth=None, criterion=gini \n",
      "[CV] verbose=3, random_state=0, n_jobs=8, n_estimators=10, max_features=None, max_depth=None, criterion=gini \n",
      "[CV] verbose=3, random_state=0, n_jobs=8, n_estimators=10, max_features=None, max_depth=None, criterion=gini \n",
      "building tree 4 of 10\n",
      "building tree 3 of 10\n",
      "building tree 1 of 10\n",
      "building tree 5 of 10\n",
      "building tree 4 of 10\n",
      "building tree 2 of 10\n",
      "building tree 5 of 10\n",
      "building tree 1 of 10\n",
      "building tree 2 of 10\n",
      "building tree 7 of 10\n",
      "building tree 3 of 10\n",
      "building tree 6 of 10\n",
      "building tree 8 of 10\n",
      "building tree 7 of 10\n",
      "building tree 8 of 10\n",
      "building tree 6 of 10\n",
      "building tree 2 of 10\n",
      "building tree 1 of 10\n",
      "building tree 3 of 10\n",
      "building tree 5 of 10\n",
      "building tree 4 of 10\n",
      "[CV] verbose=3, random_state=0, n_jobs=8, n_estimators=10, max_features=None, max_depth=None, criterion=gini \n",
      "building tree 8 of 10\n",
      "building tree 6 of 10\n",
      "building tree 7 of 10\n",
      "building tree 1 of 10\n",
      "building tree 7 of 10\n",
      "building tree 4 of 10\n",
      "building tree 6 of 10\n",
      "building tree 5 of 10\n",
      "building tree 2 of 10\n",
      "building tree 3 of 10\n",
      "building tree 8 of 10\n",
      "building tree 3 of 10\n",
      "building tree 2 of 10\n",
      "building tree 5 of 10\n",
      "building tree 4 of 10\n",
      "building tree 1 of 10\n",
      "building tree 7 of 10\n",
      "building tree 6 of 10\n",
      "building tree 8 of 10\n",
      "building tree 9 of 10\n",
      "building tree 5 of 10\n",
      "building tree 3 of 10\n",
      "building tree 2 of 10\n",
      "building tree 1 of 10\n",
      "building tree 4 of 10\n",
      "building tree 8 of 10\n",
      "building tree 7 of 10\n",
      "building tree 6 of 10\n",
      "building tree 10 of 10\n"
     ]
    },
    {
     "name": "stderr",
     "output_type": "stream",
     "text": [
      "[Parallel(n_jobs=8)]: Done   3 out of  10 | elapsed:    8.1s remaining:   19.0s\n",
      "[Parallel(n_jobs=8)]: Done   7 out of  10 | elapsed:   10.1s remaining:    4.3s\n"
     ]
    },
    {
     "name": "stdout",
     "output_type": "stream",
     "text": [
      "building tree 9 of 10\n",
      "building tree 10 of 10\n"
     ]
    },
    {
     "name": "stderr",
     "output_type": "stream",
     "text": [
      "[Parallel(n_jobs=8)]: Done   3 out of  10 | elapsed:   13.2s remaining:   30.7s\n"
     ]
    },
    {
     "name": "stdout",
     "output_type": "stream",
     "text": [
      "building tree 9 of 10\n",
      "building tree 10 of 10\n"
     ]
    },
    {
     "name": "stderr",
     "output_type": "stream",
     "text": [
      "[Parallel(n_jobs=8)]: Done   7 out of  10 | elapsed:   15.1s remaining:    6.5s\n"
     ]
    },
    {
     "name": "stdout",
     "output_type": "stream",
     "text": [
      "building tree 9 of 10\n",
      "building tree 9 of 10\n",
      "building tree 10 of 10\n"
     ]
    },
    {
     "name": "stderr",
     "output_type": "stream",
     "text": [
      "[Parallel(n_jobs=8)]: Done   3 out of  10 | elapsed:   14.4s remaining:   33.7s\n",
      "[Parallel(n_jobs=8)]: Done   3 out of  10 | elapsed:   14.9s remaining:   34.7s\n"
     ]
    },
    {
     "name": "stdout",
     "output_type": "stream",
     "text": [
      "building tree 10 of 10\n"
     ]
    },
    {
     "name": "stderr",
     "output_type": "stream",
     "text": [
      "[Parallel(n_jobs=8)]: Done   7 out of  10 | elapsed:   15.3s remaining:    6.6s\n",
      "[Parallel(n_jobs=8)]: Done   7 out of  10 | elapsed:   15.4s remaining:    6.6s\n",
      "[Parallel(n_jobs=8)]: Done   3 out of  10 | elapsed:   14.9s remaining:   34.8s\n",
      "[Parallel(n_jobs=8)]: Done   7 out of  10 | elapsed:   15.4s remaining:    6.6s\n",
      "[Parallel(n_jobs=8)]: Done  10 out of  10 | elapsed:   19.0s finished\n",
      "[Parallel(n_jobs=8)]: Done   3 out of  10 | elapsed:    0.7s remaining:    1.7s\n",
      "[Parallel(n_jobs=8)]: Done   7 out of  10 | elapsed:    0.8s remaining:    0.3s\n",
      "[Parallel(n_jobs=8)]: Done  10 out of  10 | elapsed:    1.2s finished\n",
      "[Parallel(n_jobs=8)]: Done  10 out of  10 | elapsed:   22.6s finished\n",
      "[Parallel(n_jobs=8)]: Done   3 out of  10 | elapsed:    2.2s remaining:    5.2s\n",
      "[Parallel(n_jobs=8)]: Done   7 out of  10 | elapsed:    2.4s remaining:    1.0s\n",
      "[Parallel(n_jobs=8)]: Done  10 out of  10 | elapsed:   22.5s finished\n",
      "[Parallel(n_jobs=8)]: Done   3 out of  10 | elapsed:    0.6s remaining:    1.4s\n",
      "[Parallel(n_jobs=8)]: Done   7 out of  10 | elapsed:    0.7s remaining:    0.3s\n",
      "[Parallel(n_jobs=8)]: Done  10 out of  10 | elapsed:    1.2s finished\n",
      "[Parallel(n_jobs=8)]: Done  10 out of  10 | elapsed:   22.8s finished\n",
      "[Parallel(n_jobs=8)]: Done  10 out of  10 | elapsed:   23.4s finished\n",
      "[Parallel(n_jobs=8)]: Done   3 out of  10 | elapsed:    0.6s remaining:    1.4s\n",
      "[Parallel(n_jobs=8)]: Done   7 out of  10 | elapsed:    0.6s remaining:    0.3s\n",
      "[Parallel(n_jobs=8)]: Done  10 out of  10 | elapsed:    1.2s finished\n",
      "[Parallel(n_jobs=8)]: Done  10 out of  10 | elapsed:    4.5s finished\n",
      "[Parallel(n_jobs=8)]: Done   3 out of  10 | elapsed:    0.6s remaining:    1.4s\n",
      "[Parallel(n_jobs=8)]: Done   7 out of  10 | elapsed:    0.7s remaining:    0.3s\n",
      "[Parallel(n_jobs=8)]: Done   3 out of  10 | elapsed:    0.8s remaining:    1.8s\n",
      "[Parallel(n_jobs=8)]: Done   7 out of  10 | elapsed:    0.8s remaining:    0.4s\n"
     ]
    },
    {
     "name": "stdout",
     "output_type": "stream",
     "text": [
      "[CV]  verbose=3, random_state=0, n_jobs=8, n_estimators=10, max_features=sqrt, max_depth=None, criterion=gini, score=0.915812423737527, total=  20.8s\n"
     ]
    },
    {
     "name": "stderr",
     "output_type": "stream",
     "text": [
      "[Parallel(n_jobs=8)]: Done  10 out of  10 | elapsed:    1.1s finished\n"
     ]
    },
    {
     "name": "stdout",
     "output_type": "stream",
     "text": [
      "[CV] verbose=3, random_state=0, n_jobs=8, n_estimators=10, max_features=None, max_depth=None, criterion=gini \n"
     ]
    },
    {
     "name": "stderr",
     "output_type": "stream",
     "text": [
      "[Parallel(n_jobs=8)]: Done  10 out of  10 | elapsed:    1.3s finished\n",
      "[Parallel(n_jobs=8)]: Done   3 out of  10 | elapsed:    2.4s remaining:    5.7s\n",
      "[Parallel(n_jobs=8)]: Done   7 out of  10 | elapsed:    2.7s remaining:    1.2s\n"
     ]
    },
    {
     "name": "stdout",
     "output_type": "stream",
     "text": [
      "building tree 3 of 10\n",
      "building tree 2 of 10\n",
      "building tree 8 of 10\n",
      "building tree 1 of 10\n",
      "building tree 5 of 10\n",
      "building tree 7 of 10\n",
      "building tree 6 of 10\n",
      "building tree 4 of 10\n"
     ]
    },
    {
     "name": "stderr",
     "output_type": "stream",
     "text": [
      "[Parallel(n_jobs=8)]: Done   3 out of  10 | elapsed:    2.9s remaining:    6.8s\n",
      "[Parallel(n_jobs=8)]: Done   7 out of  10 | elapsed:    3.1s remaining:    1.3s\n",
      "[Parallel(n_jobs=8)]: Done   3 out of  10 | elapsed:    3.0s remaining:    7.1s\n",
      "[Parallel(n_jobs=8)]: Done   7 out of  10 | elapsed:    3.2s remaining:    1.4s\n",
      "[Parallel(n_jobs=8)]: Done  10 out of  10 | elapsed:    5.2s finished\n",
      "[Parallel(n_jobs=8)]: Done   3 out of  10 | elapsed:    3.2s remaining:    7.6s\n",
      "[Parallel(n_jobs=8)]: Done   7 out of  10 | elapsed:    3.4s remaining:    1.5s\n"
     ]
    },
    {
     "name": "stdout",
     "output_type": "stream",
     "text": [
      "[CV]  verbose=3, random_state=0, n_jobs=8, n_estimators=10, max_features=sqrt, max_depth=None, criterion=gini, score=0.9164312967642833, total=  24.8s\n",
      "[CV] verbose=3, random_state=0, n_jobs=8, n_estimators=10, max_features=None, max_depth=None, criterion=gini \n"
     ]
    },
    {
     "name": "stderr",
     "output_type": "stream",
     "text": [
      "[Parallel(n_jobs=8)]: Done  10 out of  10 | elapsed:    5.6s finished\n"
     ]
    },
    {
     "name": "stdout",
     "output_type": "stream",
     "text": [
      "[CV]  verbose=3, random_state=0, n_jobs=8, n_estimators=10, max_features=sqrt, max_depth=None, criterion=gini, score=0.9166356969426689, total=  25.6s\n"
     ]
    },
    {
     "name": "stderr",
     "output_type": "stream",
     "text": [
      "[Parallel(n_jobs=8)]: Done  10 out of  10 | elapsed:    5.6s finished\n"
     ]
    },
    {
     "name": "stdout",
     "output_type": "stream",
     "text": [
      "[CV] verbose=3, random_state=0, n_jobs=8, n_estimators=100, max_features=None, max_depth=19, criterion=entropy \n",
      "building tree 9 of 10\n",
      "[CV]  verbose=3, random_state=0, n_jobs=8, n_estimators=10, max_features=sqrt, max_depth=None, criterion=gini, score=0.9163259997026907, total=  25.9s\n",
      "building tree 8 of 10\n",
      "building tree 5 of 10\n",
      "building tree 2 of 10\n",
      "building tree 3 of 10\n",
      "building tree 1 of 10\n"
     ]
    },
    {
     "name": "stderr",
     "output_type": "stream",
     "text": [
      "[Parallel(n_jobs=8)]: Done  10 out of  10 | elapsed:    5.6s finished\n"
     ]
    },
    {
     "name": "stdout",
     "output_type": "stream",
     "text": [
      "building tree 6 of 10\n",
      "building tree 7 of 10\n",
      "[CV] verbose=3, random_state=0, n_jobs=8, n_estimators=100, max_features=None, max_depth=19, criterion=entropy \n",
      "building tree 4 of 10\n",
      "building tree 9 of 10\n",
      "[CV]  verbose=3, random_state=0, n_jobs=8, n_estimators=10, max_features=sqrt, max_depth=None, criterion=gini, score=0.9169810152064171, total=  25.9s\n",
      "[CV] verbose=3, random_state=0, n_jobs=8, n_estimators=100, max_features=None, max_depth=19, criterion=entropy \n",
      "building tree 10 of 10\n",
      "building tree 10 of 10\n"
     ]
    },
    {
     "name": "stderr",
     "output_type": "stream",
     "text": [
      "[Parallel(n_jobs=8)]: Done   3 out of  10 | elapsed:   32.4s remaining:  1.3min\n"
     ]
    },
    {
     "name": "stdout",
     "output_type": "stream",
     "text": [
      "building tree 6 of 100\n",
      "building tree 8 of 100\n",
      "building tree 2 of 100\n",
      "building tree 3 of 100\n",
      "building tree 7 of 100\n"
     ]
    },
    {
     "name": "stderr",
     "output_type": "stream",
     "text": [
      "[Parallel(n_jobs=8)]: Done   3 out of  10 | elapsed:   31.5s remaining:  1.2min\n"
     ]
    },
    {
     "name": "stdout",
     "output_type": "stream",
     "text": [
      "building tree 5 of 100\n",
      "building tree 4 of 100\n",
      "building tree 1 of 100\n"
     ]
    },
    {
     "name": "stderr",
     "output_type": "stream",
     "text": [
      "[Parallel(n_jobs=8)]: Done   7 out of  10 | elapsed:   33.0s remaining:   14.2s\n"
     ]
    },
    {
     "name": "stdout",
     "output_type": "stream",
     "text": [
      "building tree 9 of 10\n"
     ]
    },
    {
     "name": "stderr",
     "output_type": "stream",
     "text": [
      "[Parallel(n_jobs=8)]: Done   7 out of  10 | elapsed:   32.2s remaining:   13.8s\n"
     ]
    },
    {
     "name": "stdout",
     "output_type": "stream",
     "text": [
      "building tree 10 of 10\n",
      "building tree 2 of 100\n",
      "building tree 6 of 100\n",
      "building tree 7 of 100\n",
      "building tree 8 of 100\n",
      "building tree 1 of 100\n",
      "building tree 5 of 100\n",
      "building tree 3 of 100\n",
      "building tree 4 of 100\n"
     ]
    },
    {
     "name": "stderr",
     "output_type": "stream",
     "text": [
      "[Parallel(n_jobs=8)]: Done   3 out of  10 | elapsed:   31.4s remaining:  1.2min\n"
     ]
    },
    {
     "name": "stdout",
     "output_type": "stream",
     "text": [
      "building tree 4 of 100\n",
      "building tree 5 of 100\n",
      "building tree 3 of 100\n",
      "building tree 2 of 100\n",
      "building tree 6 of 100\n",
      "building tree 7 of 100\n",
      "building tree 1 of 100\n",
      "building tree 8 of 100\n"
     ]
    },
    {
     "name": "stderr",
     "output_type": "stream",
     "text": [
      "[Parallel(n_jobs=8)]: Done   7 out of  10 | elapsed:   32.0s remaining:   13.7s\n"
     ]
    },
    {
     "name": "stdout",
     "output_type": "stream",
     "text": [
      "building tree 9 of 10\n",
      "building tree 10 of 10\n"
     ]
    },
    {
     "name": "stderr",
     "output_type": "stream",
     "text": [
      "[Parallel(n_jobs=8)]: Done   3 out of  10 | elapsed:   31.4s remaining:  1.2min\n",
      "[Parallel(n_jobs=8)]: Done   7 out of  10 | elapsed:   32.8s remaining:   14.1s\n"
     ]
    },
    {
     "name": "stdout",
     "output_type": "stream",
     "text": [
      "building tree 9 of 10\n",
      "building tree 10 of 10\n"
     ]
    },
    {
     "name": "stderr",
     "output_type": "stream",
     "text": [
      "[Parallel(n_jobs=8)]: Done   3 out of  10 | elapsed:   30.5s remaining:  1.2min\n"
     ]
    },
    {
     "name": "stdout",
     "output_type": "stream",
     "text": [
      "building tree 9 of 100\n"
     ]
    },
    {
     "name": "stderr",
     "output_type": "stream",
     "text": [
      "[Parallel(n_jobs=8)]: Done   7 out of  10 | elapsed:   31.0s remaining:   13.3s\n"
     ]
    },
    {
     "name": "stdout",
     "output_type": "stream",
     "text": [
      "building tree 10 of 100\n",
      "building tree 9 of 100\n",
      "building tree 9 of 100\n",
      "building tree 10 of 100\n",
      "building tree 11 of 100\n",
      "building tree 12 of 100\n",
      "building tree 11 of 100\n",
      "building tree 13 of 100\n",
      "building tree 12 of 100\n",
      "building tree 14 of 100\n",
      "building tree 13 of 100\n",
      "building tree 15 of 100\n"
     ]
    },
    {
     "name": "stderr",
     "output_type": "stream",
     "text": [
      "[Parallel(n_jobs=8)]: Done  10 out of  10 | elapsed:  1.0min finished\n"
     ]
    },
    {
     "name": "stdout",
     "output_type": "stream",
     "text": [
      "building tree 16 of 100\n",
      "building tree 10 of 100\n",
      "building tree 11 of 100\n",
      "building tree 12 of 100\n",
      "building tree 13 of 100\n",
      "building tree 14 of 100\n",
      "building tree 14 of 100\n",
      "building tree 15 of 100\n"
     ]
    },
    {
     "name": "stderr",
     "output_type": "stream",
     "text": [
      "[Parallel(n_jobs=8)]: Done  10 out of  10 | elapsed:  1.0min finished\n",
      "[Parallel(n_jobs=8)]: Done  10 out of  10 | elapsed:  1.1min finished\n",
      "[Parallel(n_jobs=8)]: Done   3 out of  10 | elapsed:    0.7s remaining:    1.7s\n",
      "[Parallel(n_jobs=8)]: Done   7 out of  10 | elapsed:    0.8s remaining:    0.3s\n"
     ]
    },
    {
     "name": "stdout",
     "output_type": "stream",
     "text": [
      "building tree 16 of 100\n",
      "building tree 15 of 100\n",
      "building tree 16 of 100\n"
     ]
    },
    {
     "name": "stderr",
     "output_type": "stream",
     "text": [
      "[Parallel(n_jobs=8)]: Done  10 out of  10 | elapsed:    1.4s finished\n",
      "[Parallel(n_jobs=8)]: Done   3 out of  10 | elapsed:    0.6s remaining:    1.5s\n",
      "[Parallel(n_jobs=8)]: Done   7 out of  10 | elapsed:    0.7s remaining:    0.3s\n",
      "[Parallel(n_jobs=8)]: Done   3 out of  10 | elapsed:    0.7s remaining:    1.7s\n",
      "[Parallel(n_jobs=8)]: Done   7 out of  10 | elapsed:    0.8s remaining:    0.3s\n",
      "[Parallel(n_jobs=8)]: Done  10 out of  10 | elapsed:    1.2s finished\n",
      "[Parallel(n_jobs=8)]: Done  10 out of  10 | elapsed:    1.2s finished\n",
      "[Parallel(n_jobs=8)]: Done   3 out of  10 | elapsed:    2.7s remaining:    6.3s\n",
      "[Parallel(n_jobs=8)]: Done   7 out of  10 | elapsed:    2.8s remaining:    1.2s\n",
      "[Parallel(n_jobs=8)]: Done   3 out of  10 | elapsed:    2.7s remaining:    6.4s\n",
      "[Parallel(n_jobs=8)]: Done   7 out of  10 | elapsed:    2.8s remaining:    1.2s\n",
      "[Parallel(n_jobs=8)]: Done   3 out of  10 | elapsed:    2.8s remaining:    6.6s\n",
      "[Parallel(n_jobs=8)]: Done   7 out of  10 | elapsed:    2.9s remaining:    1.2s\n",
      "[Parallel(n_jobs=8)]: Done  10 out of  10 | elapsed:    4.7s finished\n"
     ]
    },
    {
     "name": "stdout",
     "output_type": "stream",
     "text": [
      "[CV]  verbose=3, random_state=0, n_jobs=8, n_estimators=10, max_features=None, max_depth=None, criterion=gini, score=0.9119902383429959, total= 1.1min\n",
      "[CV] verbose=3, random_state=0, n_jobs=8, n_estimators=100, max_features=None, max_depth=19, criterion=entropy \n"
     ]
    },
    {
     "name": "stderr",
     "output_type": "stream",
     "text": [
      "[Parallel(n_jobs=8)]: Done  10 out of  10 | elapsed:    4.7s finished\n",
      "[Parallel(n_jobs=8)]: Done  10 out of  10 | elapsed:    4.8s finished\n"
     ]
    },
    {
     "name": "stdout",
     "output_type": "stream",
     "text": [
      "[CV]  verbose=3, random_state=0, n_jobs=8, n_estimators=10, max_features=None, max_depth=None, criterion=gini, score=0.913693573162876, total= 1.1min\n",
      "[CV] verbose=3, random_state=0, n_jobs=8, n_estimators=100, max_features=None, max_depth=19, criterion=entropy \n",
      "[CV]  verbose=3, random_state=0, n_jobs=8, n_estimators=10, max_features=None, max_depth=None, criterion=gini, score=0.9122199580053144, total= 1.1min\n",
      "[CV] verbose=3, random_state=0, n_jobs=8, n_estimators=100, max_features=sqrt, max_depth=19, criterion=gini \n",
      "building tree 6 of 100\n",
      "building tree 5 of 100\n",
      "building tree 8 of 100\n",
      "building tree 2 of 100\n",
      "building tree 3 of 100\n",
      "building tree 7 of 100\n",
      "building tree 4 of 100\n",
      "building tree 1 of 100\n",
      "building tree 7 of 100\n",
      "building tree 1 of 100\n",
      "building tree 4 of 100\n",
      "building tree 5 of 100\n",
      "building tree 8 of 100\n",
      "building tree 3 of 100\n",
      "building tree 2 of 100\n",
      "building tree 6 of 100\n",
      "building tree 3 of 100\n",
      "building tree 2 of 100\n",
      "building tree 6 of 100\n",
      "building tree 1 of 100\n",
      "building tree 4 of 100\n",
      "building tree 5 of 100\n",
      "building tree 8 of 100\n",
      "building tree 7 of 100\n",
      "building tree 9 of 100\n",
      "building tree 10 of 100\n",
      "building tree 11 of 100\n"
     ]
    },
    {
     "name": "stderr",
     "output_type": "stream",
     "text": [
      "[Parallel(n_jobs=8)]: Done  10 out of  10 | elapsed:  1.0min finished\n"
     ]
    },
    {
     "name": "stdout",
     "output_type": "stream",
     "text": [
      "building tree 12 of 100\n",
      "building tree 13 of 100\n",
      "building tree 14 of 100\n",
      "building tree 15 of 100\n",
      "building tree 16 of 100\n"
     ]
    },
    {
     "name": "stderr",
     "output_type": "stream",
     "text": [
      "[Parallel(n_jobs=8)]: Done   3 out of  10 | elapsed:    0.9s remaining:    2.2s\n",
      "[Parallel(n_jobs=8)]: Done   7 out of  10 | elapsed:    1.0s remaining:    0.4s\n",
      "[Parallel(n_jobs=8)]: Done  10 out of  10 | elapsed:    1.7s finished\n"
     ]
    },
    {
     "name": "stdout",
     "output_type": "stream",
     "text": [
      "building tree 17 of 100\n",
      "building tree 17 of 100\n",
      "building tree 18 of 100\n",
      "building tree 18 of 100\n"
     ]
    },
    {
     "name": "stderr",
     "output_type": "stream",
     "text": [
      "[Parallel(n_jobs=8)]: Done   3 out of  10 | elapsed:    3.4s remaining:    7.8s\n",
      "[Parallel(n_jobs=8)]: Done   7 out of  10 | elapsed:    3.4s remaining:    1.5s\n",
      "[Parallel(n_jobs=8)]: Done  10 out of  10 | elapsed:  1.0min finished\n"
     ]
    },
    {
     "name": "stdout",
     "output_type": "stream",
     "text": [
      "building tree 17 of 100\n",
      "building tree 19 of 100\n",
      "building tree 19 of 100\n",
      "building tree 20 of 100\n"
     ]
    },
    {
     "name": "stderr",
     "output_type": "stream",
     "text": [
      "[Parallel(n_jobs=8)]: Done   3 out of  10 | elapsed:    0.8s remaining:    1.9s\n"
     ]
    },
    {
     "name": "stdout",
     "output_type": "stream",
     "text": [
      "building tree 20 of 100\n"
     ]
    },
    {
     "name": "stderr",
     "output_type": "stream",
     "text": [
      "[Parallel(n_jobs=8)]: Done   7 out of  10 | elapsed:    0.8s remaining:    0.4s\n"
     ]
    },
    {
     "name": "stdout",
     "output_type": "stream",
     "text": [
      "building tree 21 of 100\n",
      "building tree 22 of 100\n",
      "building tree 18 of 100\n",
      "building tree 19 of 100\n",
      "building tree 21 of 100\n"
     ]
    },
    {
     "name": "stderr",
     "output_type": "stream",
     "text": [
      "[Parallel(n_jobs=8)]: Done  10 out of  10 | elapsed:    1.6s finished\n"
     ]
    },
    {
     "name": "stdout",
     "output_type": "stream",
     "text": [
      "building tree 23 of 100\n"
     ]
    },
    {
     "name": "stderr",
     "output_type": "stream",
     "text": [
      "[Parallel(n_jobs=8)]: Done  16 tasks      | elapsed:  1.1min\n"
     ]
    },
    {
     "name": "stdout",
     "output_type": "stream",
     "text": [
      "building tree 24 of 100\n",
      "building tree 22 of 100\n",
      "building tree 20 of 100\n"
     ]
    },
    {
     "name": "stderr",
     "output_type": "stream",
     "text": [
      "[Parallel(n_jobs=8)]: Done  10 out of  10 | elapsed:    6.7s finished\n"
     ]
    },
    {
     "name": "stdout",
     "output_type": "stream",
     "text": [
      "building tree 21 of 100\n",
      "[CV]  verbose=3, random_state=0, n_jobs=8, n_estimators=10, max_features=None, max_depth=None, criterion=gini, score=0.9121512809077845, total= 1.1min\n",
      "building tree 22 of 100\n",
      "[CV] verbose=3, random_state=0, n_jobs=8, n_estimators=100, max_features=sqrt, max_depth=19, criterion=gini \n",
      "building tree 23 of 100\n",
      "building tree 23 of 100\n"
     ]
    },
    {
     "name": "stderr",
     "output_type": "stream",
     "text": [
      "[Parallel(n_jobs=8)]: Done  16 tasks      | elapsed:  1.1min\n"
     ]
    },
    {
     "name": "stdout",
     "output_type": "stream",
     "text": [
      "building tree 24 of 100\n",
      "building tree 17 of 100\n",
      "building tree 24 of 100\n"
     ]
    },
    {
     "name": "stderr",
     "output_type": "stream",
     "text": [
      "[Parallel(n_jobs=8)]: Done  16 tasks      | elapsed:  1.1min\n"
     ]
    },
    {
     "name": "stdout",
     "output_type": "stream",
     "text": [
      "building tree 18 of 100\n",
      "building tree 19 of 100\n",
      "building tree 20 of 100\n",
      "building tree 21 of 100\n",
      "building tree 22 of 100\n"
     ]
    },
    {
     "name": "stderr",
     "output_type": "stream",
     "text": [
      "[Parallel(n_jobs=8)]: Done   3 out of  10 | elapsed:    3.4s remaining:    7.8s\n"
     ]
    },
    {
     "name": "stdout",
     "output_type": "stream",
     "text": [
      "building tree 23 of 100\n"
     ]
    },
    {
     "name": "stderr",
     "output_type": "stream",
     "text": [
      "[Parallel(n_jobs=8)]: Done   7 out of  10 | elapsed:    3.5s remaining:    1.5s\n",
      "[Parallel(n_jobs=8)]: Done  16 tasks      | elapsed:   25.8s\n"
     ]
    },
    {
     "name": "stdout",
     "output_type": "stream",
     "text": [
      "building tree 24 of 100\n",
      "building tree 2 of 100\n",
      "building tree 3 of 100\n",
      "building tree 4 of 100\n",
      "building tree 5 of 100\n",
      "building tree 6 of 100\n",
      "building tree 7 of 100\n",
      "building tree 1 of 100\n",
      "building tree 8 of 100\n"
     ]
    },
    {
     "name": "stderr",
     "output_type": "stream",
     "text": [
      "[Parallel(n_jobs=8)]: Done  10 out of  10 | elapsed:    6.9s finished\n"
     ]
    },
    {
     "name": "stdout",
     "output_type": "stream",
     "text": [
      "[CV]  verbose=3, random_state=0, n_jobs=8, n_estimators=10, max_features=None, max_depth=None, criterion=gini, score=0.912948682213757, total= 1.1min\n",
      "[CV] verbose=3, random_state=0, n_jobs=8, n_estimators=100, max_features=sqrt, max_depth=19, criterion=gini \n",
      "building tree 2 of 100\n",
      "building tree 5 of 100\n",
      "building tree 3 of 100\n",
      "building tree 4 of 100\n",
      "building tree 1 of 100\n",
      "building tree 7 of 100\n",
      "building tree 8 of 100\n",
      "building tree 6 of 100\n",
      "building tree 25 of 100\n",
      "building tree 9 of 100\n",
      "building tree 10 of 100\n",
      "building tree 11 of 100\n",
      "building tree 12 of 100\n",
      "building tree 13 of 100\n",
      "building tree 9 of 100\n",
      "building tree 26 of 100\n",
      "building tree 10 of 100\n",
      "building tree 14 of 100\n",
      "building tree 27 of 100\n",
      "building tree 28 of 100\n",
      "building tree 11 of 100\n",
      "building tree 15 of 100\n",
      "building tree 16 of 100\n",
      "building tree 12 of 100\n",
      "building tree 29 of 100\n",
      "building tree 13 of 100\n",
      "building tree 14 of 100\n",
      "building tree 9 of 100\n",
      "building tree 30 of 100\n",
      "building tree 15 of 100\n",
      "building tree 16 of 100\n",
      "building tree 10 of 100\n",
      "building tree 31 of 100\n",
      "building tree 11 of 100\n",
      "building tree 32 of 100\n",
      "building tree 12 of 100\n",
      "building tree 13 of 100\n",
      "building tree 14 of 100\n",
      "building tree 15 of 100\n",
      "building tree 16 of 100\n",
      "building tree 9 of 100\n",
      "building tree 10 of 100\n",
      "building tree 11 of 100\n",
      "building tree 12 of 100\n",
      "building tree 13 of 100\n",
      "building tree 14 of 100\n",
      "building tree 15 of 100\n",
      "building tree 16 of 100\n",
      "building tree 33 of 100\n",
      "building tree 34 of 100\n",
      "building tree 35 of 100\n",
      "building tree 36 of 100\n",
      "building tree 37 of 100\n",
      "building tree 17 of 100\n",
      "building tree 38 of 100\n",
      "building tree 18 of 100\n",
      "building tree 39 of 100\n",
      "building tree 19 of 100\n",
      "building tree 20 of 100\n",
      "building tree 21 of 100\n",
      "building tree 40 of 100\n",
      "building tree 22 of 100\n",
      "building tree 23 of 100\n"
     ]
    },
    {
     "name": "stderr",
     "output_type": "stream",
     "text": [
      "[Parallel(n_jobs=8)]: Done  16 tasks      | elapsed:   30.8s\n"
     ]
    },
    {
     "name": "stdout",
     "output_type": "stream",
     "text": [
      "building tree 24 of 100\n",
      "building tree 25 of 100\n",
      "building tree 25 of 100\n",
      "building tree 26 of 100\n",
      "building tree 27 of 100\n",
      "building tree 26 of 100\n",
      "building tree 25 of 100\n",
      "building tree 17 of 100\n",
      "building tree 26 of 100\n",
      "building tree 28 of 100\n",
      "building tree 18 of 100\n",
      "building tree 19 of 100\n",
      "building tree 20 of 100\n",
      "building tree 27 of 100\n",
      "building tree 29 of 100\n",
      "building tree 21 of 100\n",
      "building tree 30 of 100\n",
      "building tree 22 of 100\n",
      "building tree 27 of 100\n",
      "building tree 31 of 100\n",
      "building tree 32 of 100\n",
      "building tree 28 of 100\n",
      "building tree 23 of 100\n",
      "building tree 24 of 100\n"
     ]
    },
    {
     "name": "stderr",
     "output_type": "stream",
     "text": [
      "[Parallel(n_jobs=8)]: Done  16 tasks      | elapsed:   30.7s\n"
     ]
    },
    {
     "name": "stdout",
     "output_type": "stream",
     "text": [
      "building tree 29 of 100\n",
      "building tree 30 of 100\n",
      "building tree 31 of 100\n",
      "building tree 28 of 100\n",
      "building tree 29 of 100\n",
      "building tree 30 of 100\n",
      "building tree 41 of 100\n",
      "building tree 31 of 100\n",
      "building tree 32 of 100\n",
      "building tree 32 of 100\n",
      "building tree 42 of 100\n",
      "building tree 25 of 100\n",
      "building tree 43 of 100\n",
      "building tree 44 of 100\n",
      "building tree 45 of 100\n",
      "building tree 26 of 100\n",
      "building tree 46 of 100\n",
      "building tree 27 of 100\n",
      "building tree 47 of 100\n",
      "building tree 28 of 100\n",
      "building tree 29 of 100\n",
      "building tree 30 of 100\n",
      "building tree 48 of 100\n",
      "building tree 31 of 100\n",
      "building tree 32 of 100\n",
      "building tree 25 of 100\n",
      "building tree 27 of 100\n",
      "building tree 26 of 100\n",
      "building tree 28 of 100\n",
      "building tree 29 of 100\n",
      "building tree 30 of 100\n",
      "building tree 31 of 100\n",
      "building tree 32 of 100\n",
      "building tree 17 of 100\n",
      "building tree 49 of 100\n",
      "building tree 18 of 100\n",
      "building tree 17 of 100\n",
      "building tree 19 of 100\n",
      "building tree 18 of 100\n",
      "building tree 20 of 100\n",
      "building tree 21 of 100\n",
      "building tree 22 of 100\n",
      "building tree 23 of 100\n",
      "building tree 50 of 100\n",
      "building tree 51 of 100\n",
      "building tree 52 of 100\n"
     ]
    },
    {
     "name": "stderr",
     "output_type": "stream",
     "text": [
      "[Parallel(n_jobs=8)]: Done  16 tasks      | elapsed:  1.4min\n"
     ]
    },
    {
     "name": "stdout",
     "output_type": "stream",
     "text": [
      "building tree 24 of 100\n",
      "building tree 19 of 100\n",
      "building tree 20 of 100\n",
      "building tree 33 of 100\n",
      "building tree 53 of 100\n",
      "building tree 21 of 100\n",
      "building tree 22 of 100\n",
      "building tree 23 of 100\n",
      "building tree 34 of 100\n",
      "building tree 35 of 100\n",
      "building tree 36 of 100\n"
     ]
    },
    {
     "name": "stderr",
     "output_type": "stream",
     "text": [
      "[Parallel(n_jobs=8)]: Done  16 tasks      | elapsed:  1.4min\n"
     ]
    },
    {
     "name": "stdout",
     "output_type": "stream",
     "text": [
      "building tree 24 of 100\n",
      "building tree 37 of 100\n",
      "building tree 54 of 100\n",
      "building tree 55 of 100\n",
      "building tree 56 of 100\n",
      "building tree 38 of 100\n",
      "building tree 39 of 100\n",
      "building tree 40 of 100\n",
      "building tree 33 of 100\n",
      "building tree 34 of 100\n",
      "building tree 35 of 100\n",
      "building tree 36 of 100\n",
      "building tree 37 of 100\n",
      "building tree 38 of 100\n",
      "building tree 39 of 100\n",
      "building tree 57 of 100\n",
      "building tree 40 of 100\n",
      "building tree 58 of 100\n",
      "building tree 59 of 100\n",
      "building tree 41 of 100\n",
      "building tree 42 of 100\n",
      "building tree 43 of 100\n",
      "building tree 44 of 100\n",
      "building tree 60 of 100\n",
      "building tree 61 of 100\n",
      "building tree 62 of 100\n",
      "building tree 45 of 100\n",
      "building tree 63 of 100\n",
      "building tree 64 of 100\n",
      "building tree 46 of 100\n",
      "building tree 47 of 100\n",
      "building tree 33 of 100\n",
      "building tree 48 of 100\n",
      "building tree 34 of 100\n",
      "building tree 33 of 100\n",
      "building tree 41 of 100\n",
      "building tree 34 of 100\n",
      "building tree 42 of 100\n",
      "building tree 35 of 100\n",
      "building tree 33 of 100\n",
      "building tree 43 of 100\n",
      "building tree 36 of 100\n",
      "building tree 44 of 100\n",
      "building tree 34 of 100\n",
      "building tree 45 of 100\n",
      "building tree 46 of 100\n",
      "building tree 47 of 100\n",
      "building tree 35 of 100\n",
      "building tree 35 of 100\n",
      "building tree 37 of 100\n",
      "building tree 36 of 100\n",
      "building tree 37 of 100\n",
      "building tree 36 of 100\n",
      "building tree 38 of 100\n",
      "building tree 38 of 100\n",
      "building tree 39 of 100\n",
      "building tree 37 of 100\n",
      "building tree 65 of 100\n",
      "building tree 38 of 100\n",
      "building tree 39 of 100\n",
      "building tree 40 of 100\n",
      "building tree 48 of 100\n",
      "building tree 39 of 100\n",
      "building tree 49 of 100\n",
      "building tree 40 of 100\n",
      "building tree 40 of 100\n",
      "building tree 50 of 100\n",
      "building tree 66 of 100\n",
      "building tree 52 of 100\n",
      "building tree 51 of 100\n",
      "building tree 67 of 100\n",
      "building tree 53 of 100\n",
      "building tree 68 of 100\n",
      "building tree 69 of 100\n",
      "building tree 70 of 100\n",
      "building tree 71 of 100\n",
      "building tree 54 of 100\n",
      "building tree 72 of 100\n",
      "building tree 55 of 100\n",
      "building tree 56 of 100\n",
      "building tree 49 of 100\n",
      "building tree 50 of 100\n",
      "building tree 51 of 100\n",
      "building tree 52 of 100\n",
      "building tree 53 of 100\n",
      "building tree 54 of 100\n",
      "building tree 55 of 100\n",
      "building tree 56 of 100\n",
      "building tree 73 of 100\n",
      "building tree 25 of 100\n",
      "building tree 26 of 100\n",
      "building tree 27 of 100\n",
      "building tree 25 of 100\n",
      "building tree 28 of 100\n",
      "building tree 57 of 100\n",
      "building tree 29 of 100\n",
      "building tree 26 of 100\n",
      "building tree 58 of 100\n",
      "building tree 27 of 100\n",
      "building tree 28 of 100\n",
      "building tree 31 of 100\n",
      "building tree 30 of 100\n",
      "building tree 74 of 100\n",
      "building tree 29 of 100\n",
      "building tree 32 of 100\n",
      "building tree 30 of 100\n",
      "building tree 75 of 100\n",
      "building tree 76 of 100\n",
      "building tree 59 of 100\n",
      "building tree 60 of 100\n",
      "building tree 77 of 100\n",
      "building tree 31 of 100\n",
      "building tree 78 of 100\n",
      "building tree 79 of 100\n",
      "building tree 32 of 100\n",
      "building tree 61 of 100\n",
      "building tree 62 of 100\n",
      "building tree 80 of 100\n",
      "building tree 63 of 100\n",
      "building tree 64 of 100\n",
      "building tree 57 of 100\n",
      "building tree 58 of 100\n",
      "building tree 59 of 100\n",
      "building tree 60 of 100\n",
      "building tree 61 of 100\n",
      "building tree 62 of 100\n",
      "building tree 63 of 100\n",
      "building tree 64 of 100\n",
      "building tree 81 of 100\n",
      "building tree 65 of 100\n",
      "building tree 82 of 100\n",
      "building tree 66 of 100\n",
      "building tree 67 of 100\n",
      "building tree 83 of 100\n",
      "building tree 84 of 100\n",
      "building tree 85 of 100\n",
      "building tree 86 of 100\n",
      "building tree 87 of 100\n",
      "building tree 68 of 100\n",
      "building tree 69 of 100\n",
      "building tree 70 of 100\n",
      "building tree 71 of 100\n",
      "building tree 88 of 100\n",
      "building tree 41 of 100\n",
      "building tree 72 of 100\n",
      "building tree 65 of 100\n",
      "building tree 42 of 100\n",
      "building tree 41 of 100\n",
      "building tree 42 of 100\n",
      "building tree 66 of 100\n",
      "building tree 67 of 100\n",
      "building tree 41 of 100\n",
      "building tree 43 of 100\n",
      "building tree 42 of 100\n",
      "building tree 68 of 100\n",
      "building tree 69 of 100\n",
      "building tree 44 of 100\n",
      "building tree 45 of 100\n",
      "building tree 43 of 100\n",
      "building tree 43 of 100\n",
      "building tree 73 of 100\n",
      "building tree 70 of 100\n",
      "building tree 44 of 100\n",
      "building tree 44 of 100\n",
      "building tree 89 of 100\n",
      "building tree 71 of 100\n",
      "building tree 46 of 100\n",
      "building tree 47 of 100\n",
      "building tree 45 of 100\n",
      "building tree 46 of 100\n",
      "building tree 45 of 100\n",
      "building tree 46 of 100\n",
      "building tree 47 of 100\n",
      "building tree 72 of 100\n",
      "building tree 48 of 100\n",
      "building tree 47 of 100\n",
      "building tree 48 of 100\n",
      "building tree 74 of 100\n",
      "building tree 48 of 100\n",
      "building tree 90 of 100\n",
      "building tree 75 of 100\n",
      "building tree 91 of 100\n",
      "building tree 92 of 100\n",
      "building tree 93 of 100\n",
      "building tree 76 of 100\n",
      "building tree 77 of 100\n",
      "building tree 78 of 100\n",
      "building tree 94 of 100\n",
      "building tree 79 of 100\n",
      "building tree 95 of 100\n",
      "building tree 80 of 100\n",
      "building tree 96 of 100\n",
      "building tree 73 of 100\n",
      "building tree 74 of 100\n",
      "building tree 75 of 100\n",
      "building tree 76 of 100\n",
      "building tree 77 of 100\n",
      "building tree 81 of 100\n",
      "building tree 78 of 100\n",
      "building tree 33 of 100\n",
      "building tree 79 of 100\n",
      "building tree 33 of 100\n",
      "building tree 97 of 100\n",
      "building tree 80 of 100\n",
      "building tree 34 of 100\n",
      "building tree 34 of 100\n",
      "building tree 35 of 100\n",
      "building tree 35 of 100\n",
      "building tree 36 of 100\n",
      "building tree 37 of 100\n",
      "building tree 36 of 100\n",
      "building tree 38 of 100\n",
      "building tree 37 of 100\n",
      "building tree 38 of 100\n",
      "building tree 82 of 100\n",
      "building tree 39 of 100\n",
      "building tree 83 of 100\n",
      "building tree 39 of 100\n",
      "building tree 40 of 100\n",
      "building tree 98 of 100\n",
      "building tree 84 of 100\n",
      "building tree 99 of 100\n",
      "building tree 100 of 100\n",
      "building tree 85 of 100\n",
      "building tree 86 of 100\n",
      "building tree 40 of 100\n",
      "building tree 87 of 100\n",
      "building tree 88 of 100\n",
      "building tree 81 of 100\n",
      "building tree 82 of 100\n",
      "building tree 83 of 100\n",
      "building tree 84 of 100\n",
      "building tree 89 of 100\n",
      "building tree 85 of 100\n",
      "building tree 86 of 100\n",
      "building tree 87 of 100\n",
      "building tree 88 of 100\n",
      "building tree 90 of 100\n",
      "building tree 91 of 100\n"
     ]
    },
    {
     "name": "stderr",
     "output_type": "stream",
     "text": [
      "[Parallel(n_jobs=8)]: Done 100 out of 100 | elapsed:  3.2min finished\n"
     ]
    },
    {
     "name": "stdout",
     "output_type": "stream",
     "text": [
      "building tree 92 of 100\n",
      "building tree 49 of 100\n",
      "building tree 93 of 100\n"
     ]
    },
    {
     "name": "stderr",
     "output_type": "stream",
     "text": [
      "[Parallel(n_jobs=8)]: Done  16 tasks      | elapsed:    1.1s\n"
     ]
    },
    {
     "name": "stdout",
     "output_type": "stream",
     "text": [
      "building tree 94 of 100\n",
      "building tree 95 of 100\n",
      "building tree 89 of 100\n",
      "building tree 96 of 100\n",
      "building tree 50 of 100\n",
      "building tree 49 of 100\n"
     ]
    },
    {
     "name": "stderr",
     "output_type": "stream",
     "text": [
      "[Parallel(n_jobs=8)]: Done 100 out of 100 | elapsed:    5.9s finished\n"
     ]
    },
    {
     "name": "stdout",
     "output_type": "stream",
     "text": [
      "building tree 50 of 100\n",
      "building tree 49 of 100\n",
      "building tree 51 of 100\n",
      "building tree 50 of 100\n",
      "building tree 90 of 100\n",
      "building tree 51 of 100\n",
      "building tree 91 of 100\n",
      "building tree 97 of 100\n",
      "building tree 92 of 100\n",
      "building tree 52 of 100\n",
      "building tree 93 of 100\n",
      "building tree 53 of 100\n",
      "building tree 52 of 100\n",
      "building tree 51 of 100\n",
      "building tree 54 of 100\n",
      "building tree 94 of 100\n",
      "building tree 52 of 100\n",
      "building tree 53 of 100\n",
      "building tree 55 of 100\n",
      "building tree 53 of 100\n",
      "building tree 95 of 100\n",
      "building tree 96 of 100\n"
     ]
    },
    {
     "name": "stderr",
     "output_type": "stream",
     "text": [
      "[Parallel(n_jobs=8)]: Done  16 tasks      | elapsed:    4.0s\n"
     ]
    },
    {
     "name": "stdout",
     "output_type": "stream",
     "text": [
      "building tree 54 of 100\n",
      "building tree 54 of 100\n",
      "building tree 55 of 100\n",
      "building tree 98 of 100\n",
      "building tree 55 of 100\n",
      "building tree 56 of 100\n",
      "building tree 56 of 100\n",
      "building tree 56 of 100\n",
      "building tree 99 of 100\n",
      "building tree 100 of 100\n",
      "building tree 97 of 100\n",
      "building tree 98 of 100\n",
      "building tree 99 of 100\n",
      "building tree 100 of 100\n",
      "building tree 41 of 100\n",
      "building tree 41 of 100\n",
      "building tree 42 of 100\n",
      "building tree 42 of 100\n",
      "building tree 43 of 100\n",
      "building tree 43 of 100\n",
      "building tree 44 of 100\n",
      "building tree 45 of 100\n",
      "building tree 44 of 100\n",
      "building tree 46 of 100\n",
      "building tree 45 of 100\n",
      "building tree 47 of 100\n",
      "building tree 46 of 100\n"
     ]
    },
    {
     "name": "stderr",
     "output_type": "stream",
     "text": [
      "[Parallel(n_jobs=8)]: Done 100 out of 100 | elapsed:  3.2min finished\n"
     ]
    },
    {
     "name": "stdout",
     "output_type": "stream",
     "text": [
      "building tree 47 of 100\n",
      "building tree 48 of 100\n"
     ]
    },
    {
     "name": "stderr",
     "output_type": "stream",
     "text": [
      "[Parallel(n_jobs=8)]: Done  16 tasks      | elapsed:    1.0s\n",
      "[Parallel(n_jobs=8)]: Done 100 out of 100 | elapsed:   22.2s finished\n"
     ]
    },
    {
     "name": "stdout",
     "output_type": "stream",
     "text": [
      "building tree 48 of 100\n",
      "[CV]  verbose=3, random_state=0, n_jobs=8, n_estimators=100, max_features=sqrt, max_depth=19, criterion=gini, score=0.6969073825170797, total= 3.3min\n",
      "[CV] verbose=3, random_state=0, n_jobs=8, n_estimators=100, max_features=sqrt, max_depth=19, criterion=gini \n"
     ]
    },
    {
     "name": "stderr",
     "output_type": "stream",
     "text": [
      "[Parallel(n_jobs=8)]: Done 100 out of 100 | elapsed:    5.0s finished\n"
     ]
    },
    {
     "name": "stdout",
     "output_type": "stream",
     "text": [
      "building tree 3 of 100\n",
      "building tree 5 of 100\n",
      "building tree 2 of 100\n",
      "building tree 1 of 100\n",
      "building tree 4 of 100\n",
      "building tree 8 of 100\n",
      "building tree 7 of 100\n",
      "building tree 6 of 100\n"
     ]
    },
    {
     "name": "stderr",
     "output_type": "stream",
     "text": [
      "[Parallel(n_jobs=8)]: Done 100 out of 100 | elapsed:  3.2min finished\n",
      "[Parallel(n_jobs=8)]: Done  16 tasks      | elapsed:    1.0s\n",
      "[Parallel(n_jobs=8)]: Done  16 tasks      | elapsed:    3.6s\n",
      "[Parallel(n_jobs=8)]: Done 100 out of 100 | elapsed:    5.7s finished\n"
     ]
    },
    {
     "name": "stdout",
     "output_type": "stream",
     "text": [
      "building tree 57 of 100\n"
     ]
    },
    {
     "name": "stderr",
     "output_type": "stream",
     "text": [
      "[Parallel(n_jobs=8)]: Done  16 tasks      | elapsed:    3.7s\n"
     ]
    },
    {
     "name": "stdout",
     "output_type": "stream",
     "text": [
      "building tree 58 of 100\n",
      "building tree 57 of 100\n",
      "building tree 10 of 100\n",
      "building tree 9 of 100\n",
      "building tree 58 of 100\n",
      "building tree 11 of 100\n",
      "building tree 12 of 100\n",
      "building tree 57 of 100\n",
      "building tree 59 of 100\n",
      "building tree 58 of 100\n",
      "building tree 13 of 100\n",
      "building tree 15 of 100\n",
      "building tree 14 of 100\n",
      "building tree 59 of 100\n",
      "building tree 16 of 100\n",
      "building tree 60 of 100\n",
      "building tree 59 of 100\n",
      "building tree 61 of 100\n",
      "building tree 62 of 100\n",
      "building tree 60 of 100\n",
      "building tree 61 of 100\n",
      "building tree 60 of 100\n",
      "building tree 61 of 100\n",
      "building tree 63 of 100\n",
      "building tree 62 of 100\n",
      "building tree 62 of 100\n",
      "building tree 63 of 100\n",
      "building tree 64 of 100\n",
      "building tree 64 of 100\n",
      "building tree 63 of 100\n",
      "building tree 64 of 100\n"
     ]
    },
    {
     "name": "stderr",
     "output_type": "stream",
     "text": [
      "[Parallel(n_jobs=8)]: Done 100 out of 100 | elapsed:   22.8s finished\n"
     ]
    },
    {
     "name": "stdout",
     "output_type": "stream",
     "text": [
      "[CV]  verbose=3, random_state=0, n_jobs=8, n_estimators=100, max_features=sqrt, max_depth=19, criterion=gini, score=0.6982186214756454, total= 3.4min\n",
      "[CV] verbose=3, random_state=0, n_jobs=8, n_estimators=100, max_features=sqrt, max_depth=19, criterion=gini \n",
      "building tree 17 of 100\n",
      "building tree 18 of 100\n",
      "building tree 19 of 100\n",
      "building tree 20 of 100\n",
      "building tree 21 of 100\n",
      "building tree 22 of 100\n",
      "building tree 4 of 100\n",
      "building tree 8 of 100\n",
      "building tree 5 of 100\n",
      "building tree 2 of 100\n",
      "building tree 1 of 100\n",
      "building tree 6 of 100\n",
      "building tree 7 of 100\n",
      "building tree 3 of 100\n",
      "building tree 23 of 100\n"
     ]
    },
    {
     "name": "stderr",
     "output_type": "stream",
     "text": [
      "[Parallel(n_jobs=8)]: Done  16 tasks      | elapsed:   28.9s\n"
     ]
    },
    {
     "name": "stdout",
     "output_type": "stream",
     "text": [
      "building tree 24 of 100\n",
      "building tree 49 of 100\n"
     ]
    },
    {
     "name": "stderr",
     "output_type": "stream",
     "text": [
      "[Parallel(n_jobs=8)]: Done 100 out of 100 | elapsed:   22.6s finished\n"
     ]
    },
    {
     "name": "stdout",
     "output_type": "stream",
     "text": [
      "[CV]  verbose=3, random_state=0, n_jobs=8, n_estimators=100, max_features=sqrt, max_depth=19, criterion=gini, score=0.699191070809177, total= 3.4min\n",
      "[CV] verbose=3, random_state=0, n_jobs=8, n_estimators=100, max_features=log2, max_depth=None, criterion=entropy \n",
      "building tree 49 of 100\n",
      "building tree 50 of 100\n",
      "building tree 50 of 100\n",
      "building tree 51 of 100\n",
      "building tree 51 of 100\n",
      "building tree 52 of 100\n",
      "building tree 53 of 100\n",
      "building tree 52 of 100\n",
      "building tree 53 of 100\n",
      "building tree 54 of 100\n",
      "building tree 55 of 100\n",
      "building tree 54 of 100\n",
      "building tree 2 of 100\n",
      "building tree 7 of 100\n",
      "building tree 4 of 100\n",
      "building tree 6 of 100\n",
      "building tree 1 of 100\n",
      "building tree 5 of 100\n",
      "building tree 3 of 100\n",
      "building tree 8 of 100\n",
      "building tree 55 of 100\n",
      "building tree 56 of 100\n",
      "building tree 25 of 100\n",
      "building tree 56 of 100\n",
      "building tree 9 of 100\n",
      "building tree 10 of 100\n",
      "building tree 26 of 100\n",
      "building tree 27 of 100\n",
      "building tree 28 of 100\n",
      "building tree 11 of 100\n",
      "building tree 12 of 100\n",
      "building tree 29 of 100\n",
      "building tree 13 of 100\n",
      "building tree 30 of 100\n",
      "building tree 14 of 100\n",
      "building tree 31 of 100\n",
      "building tree 15 of 100\n",
      "building tree 16 of 100\n",
      "building tree 32 of 100\n",
      "building tree 9 of 100\n",
      "building tree 10 of 100\n",
      "building tree 11 of 100\n",
      "building tree 65 of 100\n",
      "building tree 12 of 100\n",
      "building tree 13 of 100\n",
      "building tree 14 of 100\n",
      "building tree 15 of 100\n",
      "building tree 16 of 100\n",
      "building tree 65 of 100\n",
      "building tree 33 of 100\n",
      "building tree 66 of 100\n",
      "building tree 17 of 100\n",
      "building tree 66 of 100\n",
      "building tree 34 of 100\n",
      "building tree 65 of 100\n",
      "building tree 35 of 100\n",
      "building tree 36 of 100\n",
      "building tree 37 of 100\n",
      "building tree 38 of 100\n",
      "building tree 66 of 100\n",
      "building tree 18 of 100\n",
      "building tree 19 of 100\n",
      "building tree 67 of 100\n",
      "building tree 20 of 100\n",
      "building tree 39 of 100\n",
      "building tree 21 of 100\n",
      "building tree 40 of 100\n",
      "building tree 22 of 100\n",
      "building tree 23 of 100\n",
      "building tree 67 of 100\n"
     ]
    },
    {
     "name": "stderr",
     "output_type": "stream",
     "text": [
      "[Parallel(n_jobs=8)]: Done  16 tasks      | elapsed:   31.2s\n"
     ]
    },
    {
     "name": "stdout",
     "output_type": "stream",
     "text": [
      "building tree 24 of 100\n",
      "building tree 68 of 100\n",
      "building tree 69 of 100\n",
      "building tree 70 of 100\n",
      "building tree 67 of 100\n",
      "building tree 68 of 100\n",
      "building tree 68 of 100\n",
      "building tree 71 of 100\n",
      "building tree 69 of 100\n",
      "building tree 69 of 100\n",
      "building tree 70 of 100\n",
      "building tree 71 of 100\n",
      "building tree 72 of 100\n",
      "building tree 70 of 100\n",
      "building tree 71 of 100\n",
      "building tree 72 of 100\n",
      "building tree 17 of 100\n",
      "building tree 72 of 100\n",
      "building tree 18 of 100\n",
      "building tree 20 of 100\n",
      "building tree 19 of 100\n",
      "building tree 21 of 100\n",
      "building tree 22 of 100\n",
      "building tree 23 of 100\n"
     ]
    },
    {
     "name": "stderr",
     "output_type": "stream",
     "text": [
      "[Parallel(n_jobs=8)]: Done  16 tasks      | elapsed:   35.4s\n"
     ]
    },
    {
     "name": "stdout",
     "output_type": "stream",
     "text": [
      "building tree 24 of 100\n",
      "building tree 41 of 100\n",
      "building tree 25 of 100\n",
      "building tree 42 of 100\n",
      "building tree 43 of 100\n",
      "building tree 44 of 100\n",
      "building tree 26 of 100\n",
      "building tree 45 of 100\n",
      "building tree 46 of 100\n",
      "building tree 27 of 100\n",
      "building tree 28 of 100\n",
      "building tree 29 of 100\n",
      "building tree 57 of 100\n",
      "building tree 47 of 100\n",
      "building tree 30 of 100\n",
      "building tree 31 of 100\n",
      "building tree 32 of 100\n",
      "building tree 48 of 100\n",
      "building tree 58 of 100\n",
      "building tree 57 of 100\n",
      "building tree 58 of 100\n",
      "building tree 59 of 100\n",
      "building tree 59 of 100\n",
      "building tree 60 of 100\n",
      "building tree 61 of 100\n",
      "building tree 62 of 100\n",
      "building tree 63 of 100\n",
      "building tree 60 of 100\n",
      "building tree 61 of 100\n",
      "building tree 62 of 100\n",
      "building tree 63 of 100\n",
      "building tree 64 of 100\n",
      "building tree 25 of 100\n",
      "building tree 26 of 100\n",
      "building tree 27 of 100\n",
      "building tree 28 of 100\n",
      "building tree 29 of 100\n",
      "building tree 64 of 100\n",
      "building tree 33 of 100\n",
      "building tree 30 of 100\n",
      "building tree 49 of 100\n",
      "building tree 50 of 100\n",
      "building tree 51 of 100\n",
      "building tree 52 of 100\n",
      "building tree 34 of 100\n",
      "building tree 31 of 100\n",
      "building tree 53 of 100\n",
      "building tree 54 of 100\n",
      "building tree 35 of 100\n",
      "building tree 36 of 100\n",
      "building tree 32 of 100\n",
      "building tree 37 of 100\n",
      "building tree 55 of 100\n",
      "building tree 38 of 100\n",
      "building tree 39 of 100\n",
      "building tree 40 of 100\n",
      "building tree 56 of 100\n",
      "building tree 73 of 100\n",
      "building tree 33 of 100\n",
      "building tree 73 of 100\n",
      "building tree 57 of 100\n",
      "building tree 41 of 100\n",
      "building tree 34 of 100\n",
      "building tree 42 of 100\n",
      "building tree 58 of 100\n",
      "building tree 59 of 100\n",
      "building tree 35 of 100\n",
      "building tree 74 of 100\n",
      "building tree 43 of 100\n",
      "building tree 44 of 100\n",
      "building tree 36 of 100\n",
      "building tree 73 of 100\n",
      "building tree 75 of 100\n",
      "building tree 60 of 100\n",
      "building tree 61 of 100\n",
      "building tree 74 of 100\n",
      "building tree 74 of 100\n",
      "building tree 62 of 100\n",
      "building tree 45 of 100\n",
      "building tree 37 of 100\n",
      "building tree 38 of 100\n",
      "building tree 39 of 100\n",
      "building tree 63 of 100\n",
      "building tree 46 of 100\n",
      "building tree 76 of 100\n",
      "building tree 47 of 100\n",
      "building tree 40 of 100\n",
      "building tree 77 of 100\n",
      "building tree 64 of 100\n",
      "building tree 78 of 100\n",
      "building tree 75 of 100\n",
      "building tree 75 of 100\n",
      "building tree 76 of 100\n",
      "building tree 48 of 100\n",
      "building tree 76 of 100\n",
      "building tree 77 of 100\n",
      "building tree 79 of 100\n",
      "building tree 77 of 100\n",
      "building tree 78 of 100\n",
      "building tree 79 of 100\n",
      "building tree 80 of 100\n",
      "building tree 78 of 100\n",
      "building tree 79 of 100\n",
      "building tree 80 of 100\n",
      "building tree 65 of 100\n",
      "building tree 49 of 100\n",
      "building tree 41 of 100\n",
      "building tree 80 of 100\n",
      "building tree 66 of 100\n",
      "building tree 50 of 100\n",
      "building tree 51 of 100\n",
      "building tree 42 of 100\n",
      "building tree 52 of 100\n",
      "building tree 67 of 100\n",
      "building tree 68 of 100\n",
      "building tree 69 of 100\n",
      "building tree 65 of 100\n",
      "building tree 43 of 100\n",
      "building tree 70 of 100\n",
      "building tree 53 of 100\n",
      "building tree 44 of 100\n",
      "building tree 71 of 100\n",
      "building tree 54 of 100\n",
      "building tree 45 of 100\n",
      "building tree 55 of 100\n",
      "building tree 56 of 100\n",
      "building tree 46 of 100\n",
      "building tree 47 of 100\n",
      "building tree 72 of 100\n",
      "building tree 66 of 100\n",
      "building tree 65 of 100\n",
      "building tree 48 of 100\n",
      "building tree 66 of 100\n",
      "building tree 67 of 100\n",
      "building tree 68 of 100\n",
      "building tree 69 of 100\n",
      "building tree 67 of 100\n",
      "building tree 70 of 100\n",
      "building tree 71 of 100\n",
      "building tree 68 of 100\n",
      "building tree 69 of 100\n",
      "building tree 70 of 100\n",
      "building tree 71 of 100\n",
      "building tree 57 of 100\n",
      "building tree 73 of 100\n",
      "building tree 58 of 100\n",
      "building tree 72 of 100\n",
      "building tree 49 of 100\n",
      "building tree 74 of 100\n",
      "building tree 75 of 100\n",
      "building tree 72 of 100\n",
      "building tree 59 of 100\n",
      "building tree 76 of 100\n",
      "building tree 60 of 100\n",
      "building tree 77 of 100\n",
      "building tree 78 of 100\n",
      "building tree 79 of 100\n",
      "building tree 61 of 100\n",
      "building tree 62 of 100\n",
      "building tree 50 of 100\n",
      "building tree 63 of 100\n",
      "building tree 64 of 100\n",
      "building tree 51 of 100\n",
      "building tree 52 of 100\n",
      "building tree 53 of 100\n",
      "building tree 80 of 100\n",
      "building tree 54 of 100\n",
      "building tree 55 of 100\n",
      "building tree 56 of 100\n",
      "building tree 81 of 100\n",
      "building tree 81 of 100\n",
      "building tree 82 of 100\n",
      "building tree 65 of 100\n",
      "building tree 81 of 100\n",
      "building tree 82 of 100\n",
      "building tree 66 of 100\n",
      "building tree 67 of 100\n",
      "building tree 83 of 100\n",
      "building tree 83 of 100\n",
      "building tree 84 of 100\n",
      "building tree 68 of 100\n",
      "building tree 57 of 100\n",
      "building tree 81 of 100\n",
      "building tree 82 of 100\n",
      "building tree 85 of 100\n",
      "building tree 82 of 100\n",
      "building tree 86 of 100\n",
      "building tree 69 of 100\n",
      "building tree 70 of 100\n",
      "building tree 84 of 100\n",
      "building tree 87 of 100\n",
      "building tree 71 of 100\n",
      "building tree 85 of 100\n",
      "building tree 88 of 100\n",
      "building tree 83 of 100\n",
      "building tree 84 of 100\n",
      "building tree 83 of 100\n",
      "building tree 86 of 100\n",
      "building tree 72 of 100\n",
      "building tree 84 of 100\n",
      "building tree 85 of 100\n",
      "building tree 58 of 100\n",
      "building tree 59 of 100\n",
      "building tree 87 of 100\n",
      "building tree 60 of 100\n",
      "building tree 61 of 100\n",
      "building tree 85 of 100\n",
      "building tree 62 of 100\n",
      "building tree 86 of 100\n",
      "building tree 87 of 100\n",
      "building tree 63 of 100\n",
      "building tree 64 of 100\n",
      "building tree 86 of 100\n",
      "building tree 89 of 100\n",
      "building tree 87 of 100\n",
      "building tree 88 of 100\n",
      "building tree 88 of 100\n",
      "building tree 90 of 100\n",
      "building tree 73 of 100\n",
      "building tree 74 of 100\n",
      "building tree 75 of 100\n",
      "building tree 76 of 100\n",
      "building tree 91 of 100\n",
      "building tree 77 of 100\n",
      "building tree 73 of 100\n",
      "building tree 88 of 100\n",
      "building tree 92 of 100\n",
      "building tree 93 of 100\n",
      "building tree 78 of 100\n",
      "building tree 94 of 100\n",
      "building tree 65 of 100\n",
      "building tree 95 of 100\n",
      "building tree 79 of 100\n",
      "building tree 96 of 100\n",
      "building tree 73 of 100\n",
      "building tree 80 of 100\n",
      "building tree 74 of 100\n",
      "building tree 74 of 100\n",
      "building tree 66 of 100\n",
      "building tree 75 of 100\n",
      "building tree 76 of 100\n",
      "building tree 67 of 100\n",
      "building tree 68 of 100\n",
      "building tree 77 of 100\n",
      "building tree 69 of 100\n",
      "building tree 75 of 100\n",
      "building tree 76 of 100\n",
      "building tree 70 of 100\n",
      "building tree 71 of 100\n",
      "building tree 78 of 100\n",
      "building tree 77 of 100\n",
      "building tree 79 of 100\n",
      "building tree 72 of 100\n",
      "building tree 97 of 100\n",
      "building tree 78 of 100\n",
      "building tree 79 of 100\n",
      "building tree 81 of 100\n",
      "building tree 82 of 100\n",
      "building tree 83 of 100\n",
      "building tree 98 of 100\n",
      "building tree 99 of 100\n",
      "building tree 80 of 100\n",
      "building tree 80 of 100\n",
      "building tree 100 of 100\n",
      "building tree 84 of 100\n",
      "building tree 85 of 100\n",
      "building tree 86 of 100\n",
      "building tree 87 of 100\n",
      "building tree 73 of 100\n",
      "building tree 88 of 100\n",
      "building tree 74 of 100\n",
      "building tree 75 of 100\n",
      "building tree 76 of 100\n",
      "building tree 77 of 100\n",
      "building tree 78 of 100\n",
      "building tree 79 of 100\n",
      "building tree 89 of 100\n",
      "building tree 80 of 100\n",
      "building tree 89 of 100\n",
      "building tree 89 of 100\n",
      "building tree 90 of 100\n"
     ]
    },
    {
     "name": "stderr",
     "output_type": "stream",
     "text": [
      "[Parallel(n_jobs=8)]: Done 100 out of 100 | elapsed:  3.2min finished\n"
     ]
    },
    {
     "name": "stdout",
     "output_type": "stream",
     "text": [
      "building tree 90 of 100\n",
      "building tree 91 of 100\n",
      "building tree 92 of 100\n",
      "building tree 93 of 100\n",
      "building tree 91 of 100\n"
     ]
    },
    {
     "name": "stderr",
     "output_type": "stream",
     "text": [
      "[Parallel(n_jobs=8)]: Done  16 tasks      | elapsed:    0.9s\n"
     ]
    },
    {
     "name": "stdout",
     "output_type": "stream",
     "text": [
      "building tree 89 of 100\n",
      "building tree 90 of 100\n",
      "building tree 90 of 100\n",
      "building tree 94 of 100\n",
      "building tree 92 of 100\n",
      "building tree 91 of 100\n",
      "building tree 93 of 100\n",
      "building tree 94 of 100\n",
      "building tree 81 of 100\n",
      "building tree 92 of 100\n",
      "building tree 91 of 100\n",
      "building tree 95 of 100\n",
      "building tree 92 of 100\n"
     ]
    },
    {
     "name": "stderr",
     "output_type": "stream",
     "text": [
      "[Parallel(n_jobs=8)]: Done 100 out of 100 | elapsed:    5.8s finished\n"
     ]
    },
    {
     "name": "stdout",
     "output_type": "stream",
     "text": [
      "building tree 96 of 100\n",
      "building tree 93 of 100\n",
      "building tree 93 of 100\n",
      "building tree 95 of 100\n",
      "building tree 94 of 100\n",
      "building tree 82 of 100\n",
      "building tree 95 of 100\n",
      "building tree 83 of 100\n",
      "building tree 84 of 100\n",
      "building tree 85 of 100\n",
      "building tree 86 of 100\n"
     ]
    },
    {
     "name": "stderr",
     "output_type": "stream",
     "text": [
      "[Parallel(n_jobs=8)]: Done  16 tasks      | elapsed:    3.6s\n"
     ]
    },
    {
     "name": "stdout",
     "output_type": "stream",
     "text": [
      "building tree 87 of 100\n",
      "building tree 94 of 100\n",
      "building tree 88 of 100\n",
      "building tree 95 of 100\n",
      "building tree 97 of 100\n",
      "building tree 96 of 100\n",
      "building tree 98 of 100\n",
      "building tree 96 of 100\n",
      "building tree 81 of 100\n",
      "building tree 99 of 100\n",
      "building tree 100 of 100\n",
      "building tree 96 of 100\n",
      "building tree 89 of 100\n",
      "building tree 81 of 100\n",
      "building tree 82 of 100\n",
      "building tree 83 of 100\n",
      "building tree 84 of 100\n",
      "building tree 82 of 100\n",
      "building tree 85 of 100\n",
      "building tree 83 of 100\n",
      "building tree 84 of 100\n",
      "building tree 86 of 100\n",
      "building tree 85 of 100\n",
      "building tree 87 of 100\n",
      "building tree 90 of 100\n",
      "building tree 91 of 100\n",
      "building tree 92 of 100\n",
      "building tree 93 of 100\n",
      "building tree 94 of 100\n",
      "building tree 95 of 100\n",
      "building tree 86 of 100\n",
      "building tree 96 of 100\n"
     ]
    },
    {
     "name": "stderr",
     "output_type": "stream",
     "text": [
      "[Parallel(n_jobs=8)]: Done 100 out of 100 | elapsed:  3.2min finished\n",
      "[Parallel(n_jobs=8)]: Done 100 out of 100 | elapsed:   22.3s finished\n"
     ]
    },
    {
     "name": "stdout",
     "output_type": "stream",
     "text": [
      "building tree 88 of 100\n",
      "building tree 87 of 100\n",
      "building tree 88 of 100\n",
      "[CV]  verbose=3, random_state=0, n_jobs=8, n_estimators=100, max_features=sqrt, max_depth=19, criterion=gini, score=0.7000582230811159, total= 3.4min\n",
      "[CV] verbose=3, random_state=0, n_jobs=8, n_estimators=100, max_features=log2, max_depth=None, criterion=entropy \n"
     ]
    },
    {
     "name": "stderr",
     "output_type": "stream",
     "text": [
      "[Parallel(n_jobs=8)]: Done  16 tasks      | elapsed:    1.0s\n"
     ]
    },
    {
     "name": "stdout",
     "output_type": "stream",
     "text": [
      "building tree 97 of 100\n",
      "building tree 2 of 100\n",
      "building tree 4 of 100\n",
      "building tree 5 of 100\n",
      "building tree 3 of 100\n",
      "building tree 1 of 100\n",
      "building tree 6 of 100\n",
      "building tree 7 of 100\n",
      "building tree 8 of 100\n"
     ]
    },
    {
     "name": "stderr",
     "output_type": "stream",
     "text": [
      "[Parallel(n_jobs=8)]: Done 100 out of 100 | elapsed:    5.8s finished\n"
     ]
    },
    {
     "name": "stdout",
     "output_type": "stream",
     "text": [
      "building tree 97 of 100\n",
      "building tree 98 of 100\n",
      "building tree 98 of 100\n",
      "building tree 97 of 100\n",
      "building tree 99 of 100\n"
     ]
    },
    {
     "name": "stderr",
     "output_type": "stream",
     "text": [
      "[Parallel(n_jobs=8)]: Done  16 tasks      | elapsed:    4.3s\n"
     ]
    },
    {
     "name": "stdout",
     "output_type": "stream",
     "text": [
      "building tree 100 of 100\n",
      "building tree 97 of 100\n",
      "building tree 98 of 100\n",
      "building tree 99 of 100\n",
      "building tree 98 of 100\n",
      "building tree 100 of 100\n",
      "building tree 99 of 100\n",
      "building tree 100 of 100\n",
      "building tree 99 of 100\n",
      "building tree 9 of 100\n",
      "building tree 10 of 100\n",
      "building tree 100 of 100\n",
      "building tree 11 of 100\n",
      "building tree 12 of 100\n",
      "building tree 13 of 100\n",
      "building tree 14 of 100\n",
      "building tree 15 of 100\n",
      "building tree 16 of 100\n"
     ]
    },
    {
     "name": "stderr",
     "output_type": "stream",
     "text": [
      "[Parallel(n_jobs=8)]: Done 100 out of 100 | elapsed:  3.6min finished\n"
     ]
    },
    {
     "name": "stdout",
     "output_type": "stream",
     "text": [
      "building tree 89 of 100\n"
     ]
    },
    {
     "name": "stderr",
     "output_type": "stream",
     "text": [
      "[Parallel(n_jobs=8)]: Done  16 tasks      | elapsed:    2.0s\n"
     ]
    },
    {
     "name": "stdout",
     "output_type": "stream",
     "text": [
      "building tree 90 of 100\n"
     ]
    },
    {
     "name": "stderr",
     "output_type": "stream",
     "text": [
      "[Parallel(n_jobs=8)]: Done 100 out of 100 | elapsed:   22.1s finished\n"
     ]
    },
    {
     "name": "stdout",
     "output_type": "stream",
     "text": [
      "[CV]  verbose=3, random_state=0, n_jobs=8, n_estimators=100, max_features=sqrt, max_depth=19, criterion=gini, score=0.7017188516212952, total= 3.4min\n",
      "building tree 91 of 100\n",
      "building tree 89 of 100\n",
      "[CV] verbose=3, random_state=0, n_jobs=8, n_estimators=100, max_features=log2, max_depth=None, criterion=entropy \n",
      "building tree 92 of 100\n",
      "building tree 17 of 100\n",
      "building tree 18 of 100\n",
      "building tree 90 of 100\n",
      "building tree 19 of 100\n",
      "building tree 91 of 100\n",
      "building tree 93 of 100\n",
      "building tree 20 of 100\n",
      "building tree 22 of 100\n",
      "building tree 21 of 100\n",
      "building tree 92 of 100\n",
      "building tree 94 of 100\n",
      "building tree 93 of 100\n",
      "building tree 95 of 100\n",
      "building tree 3 of 100\n",
      "building tree 2 of 100\n",
      "building tree 8 of 100\n",
      "building tree 1 of 100\n",
      "building tree 4 of 100\n",
      "building tree 7 of 100\n",
      "building tree 6 of 100\n",
      "building tree 23 of 100\n",
      "building tree 5 of 100\n"
     ]
    },
    {
     "name": "stderr",
     "output_type": "stream",
     "text": [
      "[Parallel(n_jobs=8)]: Done  16 tasks      | elapsed:   30.5s\n"
     ]
    },
    {
     "name": "stdout",
     "output_type": "stream",
     "text": [
      "building tree 24 of 100\n",
      "building tree 96 of 100\n",
      "building tree 94 of 100\n"
     ]
    },
    {
     "name": "stderr",
     "output_type": "stream",
     "text": [
      "[Parallel(n_jobs=8)]: Done 100 out of 100 | elapsed:   11.1s finished\n"
     ]
    },
    {
     "name": "stdout",
     "output_type": "stream",
     "text": [
      "building tree 95 of 100\n",
      "building tree 96 of 100\n",
      "building tree 25 of 100\n",
      "building tree 26 of 100\n",
      "building tree 27 of 100\n"
     ]
    },
    {
     "name": "stderr",
     "output_type": "stream",
     "text": [
      "[Parallel(n_jobs=8)]: Done 100 out of 100 | elapsed:  9.2min finished\n",
      "[Parallel(n_jobs=8)]: Done 100 out of 100 | elapsed:  9.2min finished\n",
      "[Parallel(n_jobs=8)]: Done 100 out of 100 | elapsed:  9.2min finished\n"
     ]
    },
    {
     "name": "stdout",
     "output_type": "stream",
     "text": [
      "building tree 10 of 100\n",
      "building tree 9 of 100\n",
      "building tree 15 of 100building tree 16 of 100\n",
      "building tree 13 of 100\n",
      "\n",
      "building tree 11 of 100building tree 12 of 100\n",
      "building tree 14 of 100\n",
      "building tree 30 of 100\n",
      "\n",
      "building tree 97 of 100\n",
      "building tree 98 of 100\n",
      "building tree 97 of 100\n",
      "building tree 99 of 100\n",
      "building tree 32 of 100\n",
      "building tree 29 of 100\n",
      "building tree 28 of 100\n",
      "building tree 31 of 100\n"
     ]
    },
    {
     "name": "stderr",
     "output_type": "stream",
     "text": [
      "[Parallel(n_jobs=8)]: Done  16 tasks      | elapsed:   27.2s\n"
     ]
    },
    {
     "name": "stdout",
     "output_type": "stream",
     "text": [
      "building tree 98 of 100\n",
      "building tree 100 of 100\n"
     ]
    },
    {
     "name": "stderr",
     "output_type": "stream",
     "text": [
      "[Parallel(n_jobs=8)]: Done  16 tasks      | elapsed:    1.2s\n",
      "[Parallel(n_jobs=8)]: Done  16 tasks      | elapsed:    1.5s\n",
      "[Parallel(n_jobs=8)]: Done  16 tasks      | elapsed:    2.3s\n"
     ]
    },
    {
     "name": "stdout",
     "output_type": "stream",
     "text": [
      "building tree 100 of 100\n",
      "building tree 99 of 100\n",
      "[CV] verbose=3, random_state=0, n_jobs=8, n_estimators=100, max_features=log2, max_depth=None, criterion=entropy \n",
      "building tree 33 of 100\n"
     ]
    },
    {
     "name": "stderr",
     "output_type": "stream",
     "text": [
      "[Parallel(n_jobs=8)]: Done 100 out of 100 | elapsed:    7.4s finished\n",
      "[Parallel(n_jobs=8)]: Done 100 out of 100 | elapsed:    7.8s finished\n"
     ]
    },
    {
     "name": "stdout",
     "output_type": "stream",
     "text": [
      "building tree 17 of 100\n"
     ]
    },
    {
     "name": "stderr",
     "output_type": "stream",
     "text": [
      "[Parallel(n_jobs=8)]: Done 100 out of 100 | elapsed:    9.1s finished\n"
     ]
    },
    {
     "name": "stdout",
     "output_type": "stream",
     "text": [
      "building tree 4 of 100\n",
      "building tree 3 of 100\n",
      "building tree 5 of 100\n",
      "building tree 1 of 100\n",
      "building tree 2 of 100\n",
      "building tree 7 of 100\n",
      "building tree 8 of 100\n",
      "building tree 6 of 100\n",
      "building tree 34 of 100\n",
      "building tree 18 of 100\n",
      "building tree 35 of 100\n"
     ]
    },
    {
     "name": "stderr",
     "output_type": "stream",
     "text": [
      "[Parallel(n_jobs=8)]: Done  16 tasks      | elapsed:    3.4s\n"
     ]
    },
    {
     "name": "stdout",
     "output_type": "stream",
     "text": [
      "building tree 19 of 100\n",
      "building tree 20 of 100\n"
     ]
    },
    {
     "name": "stderr",
     "output_type": "stream",
     "text": [
      "[Parallel(n_jobs=8)]: Done  16 tasks      | elapsed:    4.3s\n"
     ]
    },
    {
     "name": "stdout",
     "output_type": "stream",
     "text": [
      "building tree 21 of 100\n",
      "building tree 22 of 100\n",
      "building tree 36 of 100\n",
      "building tree 23 of 100\n",
      "building tree 37 of 100\n"
     ]
    },
    {
     "name": "stderr",
     "output_type": "stream",
     "text": [
      "[Parallel(n_jobs=8)]: Done  16 tasks      | elapsed:   48.6s\n"
     ]
    },
    {
     "name": "stdout",
     "output_type": "stream",
     "text": [
      "building tree 24 of 100\n"
     ]
    },
    {
     "name": "stderr",
     "output_type": "stream",
     "text": [
      "[Parallel(n_jobs=8)]: Done  16 tasks      | elapsed:    4.2s\n"
     ]
    },
    {
     "name": "stdout",
     "output_type": "stream",
     "text": [
      "building tree 38 of 100\n",
      "building tree 39 of 100\n",
      "building tree 40 of 100\n",
      "building tree 41 of 100\n",
      "building tree 25 of 100\n",
      "building tree 42 of 100\n",
      "building tree 43 of 100\n",
      "building tree 9 of 100\n",
      "building tree 10 of 100\n",
      "building tree 11 of 100\n",
      "building tree 12 of 100\n",
      "building tree 26 of 100\n",
      "building tree 13 of 100\n",
      "building tree 27 of 100\n",
      "building tree 28 of 100\n",
      "building tree 29 of 100\n",
      "building tree 30 of 100\n",
      "building tree 31 of 100\n",
      "building tree 44 of 100\n",
      "building tree 45 of 100\n",
      "building tree 46 of 100\n",
      "building tree 14 of 100\n",
      "building tree 15 of 100\n",
      "building tree 16 of 100\n",
      "building tree 32 of 100\n",
      "building tree 47 of 100\n"
     ]
    },
    {
     "name": "stderr",
     "output_type": "stream",
     "text": [
      "[Parallel(n_jobs=8)]: Done 100 out of 100 | elapsed:   21.7s finished\n",
      "[Parallel(n_jobs=8)]: Done 100 out of 100 | elapsed:   21.8s finished\n"
     ]
    },
    {
     "name": "stdout",
     "output_type": "stream",
     "text": [
      "[CV]  verbose=3, random_state=0, n_jobs=8, n_estimators=100, max_features=None, max_depth=19, criterion=entropy, score=0.7467419850354293, total= 9.4min\n",
      "building tree 48 of 100\n"
     ]
    },
    {
     "name": "stderr",
     "output_type": "stream",
     "text": [
      "[Parallel(n_jobs=8)]: Done  16 tasks      | elapsed: 10.4min\n"
     ]
    },
    {
     "name": "stdout",
     "output_type": "stream",
     "text": [
      "[CV] verbose=3, random_state=0, n_jobs=8, n_estimators=100, max_features=log2, max_depth=None, criterion=entropy \n",
      "[CV]  verbose=3, random_state=0, n_jobs=8, n_estimators=100, max_features=None, max_depth=19, criterion=entropy, score=0.7459553540458848, total= 9.4min\n",
      "[CV] verbose=3, random_state=0, n_jobs=8, n_estimators=10, max_features=None, max_depth=19, criterion=entropy \n",
      "building tree 33 of 100\n",
      "building tree 7 of 10\n",
      "building tree 1 of 10\n",
      "building tree 6 of 10\n",
      "building tree 2 of 10\n",
      "building tree 5 of 10\n",
      "building tree 4 of 10\n",
      "building tree 3 of 10\n",
      "building tree 8 of 10\n"
     ]
    },
    {
     "name": "stderr",
     "output_type": "stream",
     "text": [
      "[Parallel(n_jobs=8)]: Done 100 out of 100 | elapsed:   22.5s finished\n"
     ]
    },
    {
     "name": "stdout",
     "output_type": "stream",
     "text": [
      "building tree 49 of 100\n",
      "building tree 1 of 100\n",
      "building tree 2 of 100\n",
      "building tree 4 of 100\n",
      "building tree 3 of 100\n",
      "building tree 6 of 100\n",
      "building tree 7 of 100\n",
      "building tree 5 of 100\n",
      "building tree 8 of 100\n",
      "[CV]  verbose=3, random_state=0, n_jobs=8, n_estimators=100, max_features=None, max_depth=19, criterion=entropy, score=0.7451579136445565, total= 9.5min\n",
      "[CV] verbose=3, random_state=0, n_jobs=8, n_estimators=10, max_features=None, max_depth=19, criterion=entropy \n",
      "building tree 17 of 100\n"
     ]
    },
    {
     "name": "stderr",
     "output_type": "stream",
     "text": [
      "[Parallel(n_jobs=8)]: Done 100 out of 100 | elapsed:  9.2min finished\n"
     ]
    },
    {
     "name": "stdout",
     "output_type": "stream",
     "text": [
      "building tree 50 of 100\n",
      "building tree 2 of 10\n",
      "building tree 3 of 10\n",
      "building tree 4 of 10\n",
      "building tree 8 of 10\n",
      "building tree 7 of 10\n",
      "building tree 5 of 10\n",
      "building tree 18 of 100\n",
      "building tree 1 of 10\n",
      "building tree 6 of 10\n"
     ]
    },
    {
     "name": "stderr",
     "output_type": "stream",
     "text": [
      "[Parallel(n_jobs=8)]: Done  16 tasks      | elapsed:    1.0s\n"
     ]
    },
    {
     "name": "stdout",
     "output_type": "stream",
     "text": [
      "building tree 51 of 100\n",
      "building tree 34 of 100\n",
      "building tree 19 of 100\n",
      "building tree 20 of 100\n",
      "building tree 35 of 100\n",
      "building tree 21 of 100\n",
      "building tree 36 of 100\n",
      "building tree 52 of 100\n",
      "building tree 37 of 100\n",
      "building tree 53 of 100\n",
      "building tree 22 of 100\n",
      "building tree 54 of 100\n",
      "building tree 23 of 100\n"
     ]
    },
    {
     "name": "stderr",
     "output_type": "stream",
     "text": [
      "[Parallel(n_jobs=8)]: Done 100 out of 100 | elapsed:    6.0s finished\n",
      "[Parallel(n_jobs=8)]: Done 100 out of 100 | elapsed:  9.3min finished\n"
     ]
    },
    {
     "name": "stdout",
     "output_type": "stream",
     "text": [
      "building tree 39 of 100\n",
      "building tree 38 of 100\n"
     ]
    },
    {
     "name": "stderr",
     "output_type": "stream",
     "text": [
      "[Parallel(n_jobs=8)]: Done  16 tasks      | elapsed:   31.9s\n"
     ]
    },
    {
     "name": "stdout",
     "output_type": "stream",
     "text": [
      "building tree 24 of 100\n",
      "building tree 55 of 100\n"
     ]
    },
    {
     "name": "stderr",
     "output_type": "stream",
     "text": [
      "[Parallel(n_jobs=8)]: Done  16 tasks      | elapsed:    1.1s\n"
     ]
    },
    {
     "name": "stdout",
     "output_type": "stream",
     "text": [
      "building tree 40 of 100\n",
      "building tree 56 of 100\n"
     ]
    },
    {
     "name": "stderr",
     "output_type": "stream",
     "text": [
      "[Parallel(n_jobs=8)]: Done  16 tasks      | elapsed:    4.1s\n"
     ]
    },
    {
     "name": "stdout",
     "output_type": "stream",
     "text": [
      "building tree 41 of 100\n",
      "building tree 9 of 100\n",
      "building tree 10 of 100\n",
      "building tree 11 of 100\n",
      "building tree 12 of 100\n"
     ]
    },
    {
     "name": "stderr",
     "output_type": "stream",
     "text": [
      "[Parallel(n_jobs=8)]: Done 100 out of 100 | elapsed:    6.4s finished\n"
     ]
    },
    {
     "name": "stdout",
     "output_type": "stream",
     "text": [
      "building tree 25 of 100\n",
      "building tree 13 of 100\n",
      "building tree 57 of 100\n",
      "building tree 14 of 100\n",
      "building tree 15 of 100\n",
      "building tree 58 of 100\n",
      "building tree 16 of 100\n",
      "building tree 42 of 100\n",
      "building tree 26 of 100\n",
      "building tree 27 of 100\n",
      "building tree 59 of 100\n",
      "building tree 43 of 100\n"
     ]
    },
    {
     "name": "stderr",
     "output_type": "stream",
     "text": [
      "[Parallel(n_jobs=8)]: Done  16 tasks      | elapsed:    4.8s\n"
     ]
    },
    {
     "name": "stdout",
     "output_type": "stream",
     "text": [
      "building tree 28 of 100\n",
      "building tree 29 of 100\n",
      "building tree 60 of 100\n",
      "building tree 30 of 100\n",
      "building tree 44 of 100\n",
      "building tree 45 of 100\n",
      "building tree 46 of 100\n",
      "building tree 61 of 100\n",
      "building tree 62 of 100\n",
      "building tree 31 of 100\n",
      "building tree 32 of 100\n",
      "building tree 47 of 100\n",
      "building tree 63 of 100\n",
      "building tree 48 of 100\n",
      "building tree 64 of 100\n",
      "building tree 17 of 100\n",
      "building tree 49 of 100\n",
      "building tree 18 of 100\n",
      "building tree 33 of 100\n",
      "building tree 65 of 100\n",
      "building tree 19 of 100\n",
      "building tree 20 of 100\n",
      "building tree 21 of 100\n",
      "building tree 22 of 100\n",
      "building tree 23 of 100\n",
      "building tree 66 of 100\n",
      "building tree 34 of 100\n",
      "building tree 35 of 100\n",
      "building tree 67 of 100\n",
      "building tree 50 of 100\n"
     ]
    },
    {
     "name": "stderr",
     "output_type": "stream",
     "text": [
      "[Parallel(n_jobs=8)]: Done  16 tasks      | elapsed:   34.4s\n"
     ]
    },
    {
     "name": "stdout",
     "output_type": "stream",
     "text": [
      "building tree 24 of 100\n"
     ]
    },
    {
     "name": "stderr",
     "output_type": "stream",
     "text": [
      "[Parallel(n_jobs=8)]: Done 100 out of 100 | elapsed:   25.9s finished\n"
     ]
    },
    {
     "name": "stdout",
     "output_type": "stream",
     "text": [
      "[CV]  verbose=3, random_state=0, n_jobs=8, n_estimators=100, max_features=None, max_depth=19, criterion=entropy, score=0.7460063798816935, total= 9.3min\n",
      "[CV] verbose=3, random_state=0, n_jobs=8, n_estimators=10, max_features=None, max_depth=19, criterion=entropy \n",
      "building tree 36 of 100\n",
      "building tree 51 of 100\n",
      "building tree 37 of 100\n",
      "building tree 52 of 100\n",
      "building tree 68 of 100\n",
      "building tree 69 of 100\n",
      "building tree 53 of 100\n",
      "building tree 1 of 10\n",
      "building tree 2 of 10\n",
      "building tree 7 of 10\n",
      "building tree 5 of 10\n",
      "building tree 3 of 10\n",
      "building tree 8 of 10\n",
      "building tree 6 of 10\n",
      "building tree 4 of 10\n",
      "building tree 70 of 100\n",
      "building tree 71 of 100\n",
      "building tree 54 of 100\n",
      "building tree 38 of 100\n",
      "building tree 55 of 100\n",
      "building tree 9 of 10\n",
      "building tree 10 of 10\n",
      "building tree 39 of 100\n"
     ]
    },
    {
     "name": "stderr",
     "output_type": "stream",
     "text": [
      "[Parallel(n_jobs=8)]: Done   3 out of  10 | elapsed:   41.4s remaining:  1.6min\n"
     ]
    },
    {
     "name": "stdout",
     "output_type": "stream",
     "text": [
      "building tree 40 of 100\n",
      "building tree 56 of 100\n"
     ]
    },
    {
     "name": "stderr",
     "output_type": "stream",
     "text": [
      "[Parallel(n_jobs=8)]: Done   7 out of  10 | elapsed:   41.9s remaining:   18.0s\n",
      "[Parallel(n_jobs=8)]: Done 100 out of 100 | elapsed:   25.7s finished\n"
     ]
    },
    {
     "name": "stdout",
     "output_type": "stream",
     "text": [
      "[CV]  verbose=3, random_state=0, n_jobs=8, n_estimators=100, max_features=None, max_depth=19, criterion=entropy, score=0.7464384817402507, total= 9.4min\n",
      "[CV] verbose=3, random_state=0, n_jobs=8, n_estimators=10, max_features=None, max_depth=19, criterion=entropy \n",
      "building tree 72 of 100\n",
      "building tree 9 of 10\n",
      "building tree 10 of 10\n"
     ]
    },
    {
     "name": "stderr",
     "output_type": "stream",
     "text": [
      "[Parallel(n_jobs=8)]: Done   3 out of  10 | elapsed:   41.7s remaining:  1.6min\n"
     ]
    },
    {
     "name": "stdout",
     "output_type": "stream",
     "text": [
      "building tree 25 of 100\n",
      "building tree 57 of 100\n",
      "building tree 73 of 100\n",
      "building tree 41 of 100\n",
      "building tree 1 of 10\n",
      "building tree 2 of 10\n",
      "building tree 5 of 10\n",
      "building tree 6 of 10\n",
      "building tree 3 of 10\n",
      "building tree 4 of 10\n",
      "building tree 7 of 10\n",
      "building tree 8 of 10\n"
     ]
    },
    {
     "name": "stderr",
     "output_type": "stream",
     "text": [
      "[Parallel(n_jobs=8)]: Done   7 out of  10 | elapsed:   43.2s remaining:   18.5s\n"
     ]
    },
    {
     "name": "stdout",
     "output_type": "stream",
     "text": [
      "building tree 26 of 100\n",
      "building tree 27 of 100\n",
      "building tree 28 of 100\n",
      "building tree 29 of 100\n",
      "building tree 42 of 100\n",
      "building tree 74 of 100\n",
      "building tree 43 of 100\n",
      "building tree 30 of 100\n",
      "building tree 75 of 100\n",
      "building tree 58 of 100\n",
      "building tree 31 of 100\n",
      "building tree 32 of 100\n",
      "building tree 44 of 100\n",
      "building tree 59 of 100\n",
      "building tree 76 of 100\n",
      "building tree 60 of 100\n",
      "building tree 61 of 100\n",
      "building tree 45 of 100\n",
      "building tree 77 of 100\n",
      "building tree 78 of 100\n",
      "building tree 62 of 100\n",
      "building tree 79 of 100\n",
      "building tree 63 of 100\n",
      "building tree 46 of 100\n",
      "building tree 64 of 100\n",
      "building tree 47 of 100\n",
      "building tree 33 of 100\n",
      "building tree 34 of 100\n",
      "[CV] verbose=3, random_state=0, n_jobs=8, n_estimators=10, max_features=None, max_depth=19, criterion=entropy \n",
      "building tree 35 of 100\n",
      "building tree 36 of 100\n",
      "building tree 37 of 100\n",
      "building tree 38 of 100\n",
      "building tree 48 of 100\n",
      "building tree 39 of 100\n",
      "building tree 65 of 100\n",
      "building tree 49 of 100\n",
      "building tree 66 of 100\n",
      "building tree 4 of 10\n",
      "building tree 1 of 10\n",
      "building tree 2 of 10\n",
      "building tree 8 of 10\n",
      "building tree 5 of 10\n",
      "building tree 3 of 10\n",
      "building tree 6 of 10\n",
      "building tree 7 of 10\n",
      "building tree 50 of 100\n",
      "building tree 67 of 100\n",
      "building tree 40 of 100\n",
      "building tree 68 of 100\n",
      "building tree 51 of 100\n",
      "building tree 69 of 100\n",
      "building tree 52 of 100\n",
      "building tree 70 of 100\n",
      "building tree 53 of 100\n",
      "building tree 71 of 100\n",
      "building tree 41 of 100\n",
      "building tree 42 of 100\n",
      "building tree 9 of 10\n",
      "building tree 43 of 100\n",
      "building tree 54 of 100\n",
      "building tree 10 of 10\n",
      "building tree 55 of 100\n",
      "building tree 72 of 100\n",
      "building tree 44 of 100\n",
      "building tree 45 of 100\n"
     ]
    },
    {
     "name": "stderr",
     "output_type": "stream",
     "text": [
      "[Parallel(n_jobs=8)]: Done   3 out of  10 | elapsed:   33.4s remaining:  1.3min\n"
     ]
    },
    {
     "name": "stdout",
     "output_type": "stream",
     "text": [
      "building tree 56 of 100\n",
      "building tree 73 of 100\n",
      "building tree 46 of 100\n",
      "building tree 47 of 100\n",
      "building tree 57 of 100\n",
      "building tree 74 of 100\n",
      "building tree 75 of 100\n",
      "building tree 58 of 100\n",
      "building tree 48 of 100\n",
      "building tree 76 of 100\n"
     ]
    },
    {
     "name": "stderr",
     "output_type": "stream",
     "text": [
      "[Parallel(n_jobs=8)]: Done  10 out of  10 | elapsed:  1.3min finished\n"
     ]
    },
    {
     "name": "stdout",
     "output_type": "stream",
     "text": [
      "building tree 59 of 100\n"
     ]
    },
    {
     "name": "stderr",
     "output_type": "stream",
     "text": [
      "[Parallel(n_jobs=8)]: Done   3 out of  10 | elapsed:    0.4s remaining:    1.0s\n"
     ]
    },
    {
     "name": "stdout",
     "output_type": "stream",
     "text": [
      "building tree 77 of 100\n"
     ]
    },
    {
     "name": "stderr",
     "output_type": "stream",
     "text": [
      "[Parallel(n_jobs=8)]: Done   7 out of  10 | elapsed:    0.6s remaining:    0.3s\n",
      "[Parallel(n_jobs=8)]: Done  10 out of  10 | elapsed:    0.8s finished\n"
     ]
    },
    {
     "name": "stdout",
     "output_type": "stream",
     "text": [
      "building tree 60 of 100\n"
     ]
    },
    {
     "name": "stderr",
     "output_type": "stream",
     "text": [
      "[Parallel(n_jobs=8)]: Done   7 out of  10 | elapsed:   40.0s remaining:   17.2s\n"
     ]
    },
    {
     "name": "stdout",
     "output_type": "stream",
     "text": [
      "building tree 78 of 100\n",
      "building tree 9 of 10\n",
      "building tree 61 of 100\n"
     ]
    },
    {
     "name": "stderr",
     "output_type": "stream",
     "text": [
      "[Parallel(n_jobs=8)]: Done   3 out of  10 | elapsed:    1.5s remaining:    3.5s\n"
     ]
    },
    {
     "name": "stdout",
     "output_type": "stream",
     "text": [
      "building tree 49 of 100\n",
      "building tree 79 of 100\n",
      "building tree 10 of 10\n"
     ]
    },
    {
     "name": "stderr",
     "output_type": "stream",
     "text": [
      "[Parallel(n_jobs=8)]: Done   7 out of  10 | elapsed:    2.2s remaining:    0.9s\n",
      "[Parallel(n_jobs=8)]: Done   3 out of  10 | elapsed:   36.6s remaining:  1.4min\n",
      "[Parallel(n_jobs=8)]: Done  10 out of  10 | elapsed:    3.1s finished\n",
      "[Parallel(n_jobs=8)]: Done   7 out of  10 | elapsed:   37.5s remaining:   16.1s\n"
     ]
    },
    {
     "name": "stdout",
     "output_type": "stream",
     "text": [
      "[CV]  verbose=3, random_state=0, n_jobs=8, n_estimators=10, max_features=None, max_depth=19, criterion=entropy, score=0.7350246827171428, total= 1.3min\n",
      "[CV] verbose=3, random_state=0, n_jobs=8, n_estimators=10, max_features=None, max_depth=19, criterion=gini \n",
      "building tree 62 of 100\n",
      "building tree 50 of 100\n",
      "building tree 80 of 100\n",
      "building tree 51 of 100\n",
      "building tree 52 of 100\n"
     ]
    },
    {
     "name": "stderr",
     "output_type": "stream",
     "text": [
      "[Parallel(n_jobs=8)]: Done  10 out of  10 | elapsed:  1.4min finished\n"
     ]
    },
    {
     "name": "stdout",
     "output_type": "stream",
     "text": [
      "building tree 63 of 100\n",
      "building tree 81 of 100\n",
      "building tree 64 of 100\n",
      "building tree 53 of 100\n"
     ]
    },
    {
     "name": "stderr",
     "output_type": "stream",
     "text": [
      "[Parallel(n_jobs=8)]: Done   3 out of  10 | elapsed:    0.5s remaining:    1.1s\n",
      "[Parallel(n_jobs=8)]: Done   7 out of  10 | elapsed:    0.6s remaining:    0.2s\n"
     ]
    },
    {
     "name": "stdout",
     "output_type": "stream",
     "text": [
      "building tree 54 of 100\n"
     ]
    },
    {
     "name": "stderr",
     "output_type": "stream",
     "text": [
      "[Parallel(n_jobs=8)]: Done  10 out of  10 | elapsed:    0.8s finished\n"
     ]
    },
    {
     "name": "stdout",
     "output_type": "stream",
     "text": [
      "building tree 65 of 100\n",
      "building tree 1 of 10\n",
      "building tree 4 of 10\n",
      "building tree 2 of 10\n",
      "building tree 3 of 10\n",
      "building tree 5 of 10\n",
      "building tree 6 of 10\n",
      "building tree 8 of 10\n",
      "building tree 7 of 10\n",
      "building tree 55 of 100\n",
      "building tree 82 of 100\n",
      "building tree 66 of 100\n",
      "building tree 83 of 100\n"
     ]
    },
    {
     "name": "stderr",
     "output_type": "stream",
     "text": [
      "[Parallel(n_jobs=8)]: Done   3 out of  10 | elapsed:    1.8s remaining:    4.2s\n"
     ]
    },
    {
     "name": "stdout",
     "output_type": "stream",
     "text": [
      "building tree 67 of 100\n"
     ]
    },
    {
     "name": "stderr",
     "output_type": "stream",
     "text": [
      "[Parallel(n_jobs=8)]: Done   7 out of  10 | elapsed:    1.9s remaining:    0.8s\n"
     ]
    },
    {
     "name": "stdout",
     "output_type": "stream",
     "text": [
      "building tree 56 of 100\n",
      "building tree 84 of 100\n"
     ]
    },
    {
     "name": "stderr",
     "output_type": "stream",
     "text": [
      "[Parallel(n_jobs=8)]: Done  10 out of  10 | elapsed:    3.1s finished\n"
     ]
    },
    {
     "name": "stdout",
     "output_type": "stream",
     "text": [
      "building tree 85 of 100\n",
      "[CV]  verbose=3, random_state=0, n_jobs=8, n_estimators=10, max_features=None, max_depth=19, criterion=entropy, score=0.7361317575937764, total= 1.4min\n",
      "[CV] verbose=3, random_state=0, n_jobs=8, n_estimators=10, max_features=None, max_depth=19, criterion=gini \n",
      "building tree 68 of 100\n",
      "building tree 86 of 100\n",
      "building tree 69 of 100\n",
      "building tree 57 of 100\n",
      "building tree 5 of 10\n",
      "building tree 8 of 10\n",
      "building tree 3 of 10\n",
      "building tree 7 of 10\n",
      "building tree 2 of 10\n",
      "building tree 4 of 10\n",
      "building tree 6 of 10\n",
      "building tree 1 of 10\n",
      "building tree 87 of 100\n",
      "building tree 70 of 100\n",
      "building tree 9 of 10\n"
     ]
    },
    {
     "name": "stderr",
     "output_type": "stream",
     "text": [
      "[Parallel(n_jobs=8)]: Done   3 out of  10 | elapsed:   32.9s remaining:  1.3min\n"
     ]
    },
    {
     "name": "stdout",
     "output_type": "stream",
     "text": [
      "building tree 10 of 10\n",
      "building tree 88 of 100\n",
      "building tree 71 of 100\n",
      "building tree 72 of 100\n",
      "[CV] verbose=3, random_state=0, n_jobs=8, n_estimators=10, max_features=None, max_depth=19, criterion=gini \n",
      "building tree 58 of 100\n"
     ]
    },
    {
     "name": "stderr",
     "output_type": "stream",
     "text": [
      "[Parallel(n_jobs=8)]: Done   7 out of  10 | elapsed:   36.4s remaining:   15.6s\n"
     ]
    },
    {
     "name": "stdout",
     "output_type": "stream",
     "text": [
      "building tree 59 of 100\n",
      "building tree 60 of 100\n",
      "building tree 62 of 100\n",
      "building tree 61 of 100\n",
      "building tree 73 of 100\n",
      "building tree 2 of 10\n",
      "building tree 3 of 10\n",
      "building tree 5 of 10\n",
      "building tree 6 of 10\n",
      "building tree 4 of 10\n",
      "building tree 1 of 10\n",
      "building tree 8 of 10\n",
      "building tree 7 of 10\n",
      "building tree 63 of 100\n",
      "building tree 74 of 100\n",
      "building tree 64 of 100\n",
      "building tree 75 of 100\n",
      "building tree 76 of 100\n"
     ]
    },
    {
     "name": "stderr",
     "output_type": "stream",
     "text": [
      "[Parallel(n_jobs=8)]: Done  10 out of  10 | elapsed:  1.1min finished\n",
      "[Parallel(n_jobs=8)]: Done   3 out of  10 | elapsed:    0.4s remaining:    1.0s\n",
      "[Parallel(n_jobs=8)]: Done   7 out of  10 | elapsed:    0.5s remaining:    0.2s\n",
      "[Parallel(n_jobs=8)]: Done  10 out of  10 | elapsed:    0.8s finished\n"
     ]
    },
    {
     "name": "stdout",
     "output_type": "stream",
     "text": [
      "building tree 77 of 100\n",
      "building tree 65 of 100\n",
      "building tree 78 of 100\n"
     ]
    },
    {
     "name": "stderr",
     "output_type": "stream",
     "text": [
      "[Parallel(n_jobs=8)]: Done   3 out of  10 | elapsed:    1.6s remaining:    3.8s\n",
      "[Parallel(n_jobs=8)]: Done   7 out of  10 | elapsed:    1.7s remaining:    0.7s\n"
     ]
    },
    {
     "name": "stdout",
     "output_type": "stream",
     "text": [
      "building tree 79 of 100\n",
      "building tree 66 of 100\n",
      "building tree 67 of 100\n",
      "building tree 80 of 100\n"
     ]
    },
    {
     "name": "stderr",
     "output_type": "stream",
     "text": [
      "[Parallel(n_jobs=8)]: Done  10 out of  10 | elapsed:    3.0s finished\n"
     ]
    },
    {
     "name": "stdout",
     "output_type": "stream",
     "text": [
      "building tree 68 of 100\n",
      "building tree 81 of 100\n",
      "building tree 69 of 100\n",
      "building tree 70 of 100\n",
      "[CV]  verbose=3, random_state=0, n_jobs=8, n_estimators=10, max_features=None, max_depth=19, criterion=entropy, score=0.7376368861800704, total= 1.1min\n",
      "[CV] verbose=3, random_state=0, n_jobs=8, n_estimators=10, max_features=None, max_depth=19, criterion=gini \n",
      "building tree 71 of 100\n"
     ]
    },
    {
     "name": "stderr",
     "output_type": "stream",
     "text": [
      "[Parallel(n_jobs=8)]: Done  10 out of  10 | elapsed:  1.1min finished\n"
     ]
    },
    {
     "name": "stdout",
     "output_type": "stream",
     "text": [
      "building tree 5 of 10\n",
      "building tree 1 of 10\n",
      "building tree 3 of 10\n",
      "building tree 4 of 10\n",
      "building tree 8 of 10\n",
      "building tree 2 of 10\n",
      "building tree 6 of 10\n",
      "building tree 7 of 10\n",
      "building tree 82 of 100\n",
      "building tree 83 of 100\n"
     ]
    },
    {
     "name": "stderr",
     "output_type": "stream",
     "text": [
      "[Parallel(n_jobs=8)]: Done   3 out of  10 | elapsed:    0.4s remaining:    1.0s\n",
      "[Parallel(n_jobs=8)]: Done   7 out of  10 | elapsed:    0.5s remaining:    0.2s\n",
      "[Parallel(n_jobs=8)]: Done  10 out of  10 | elapsed:    0.8s finished\n"
     ]
    },
    {
     "name": "stdout",
     "output_type": "stream",
     "text": [
      "building tree 84 of 100\n",
      "building tree 72 of 100\n",
      "building tree 9 of 10\n",
      "building tree 85 of 100\n",
      "building tree 86 of 100\n",
      "building tree 73 of 100\n",
      "building tree 10 of 10\n"
     ]
    },
    {
     "name": "stderr",
     "output_type": "stream",
     "text": [
      "[Parallel(n_jobs=8)]: Done   3 out of  10 | elapsed:    1.8s remaining:    4.2s\n",
      "[Parallel(n_jobs=8)]: Done   7 out of  10 | elapsed:    2.0s remaining:    0.9s\n",
      "[Parallel(n_jobs=8)]: Done   3 out of  10 | elapsed:   34.3s remaining:  1.3min\n",
      "[Parallel(n_jobs=8)]: Done  10 out of  10 | elapsed:    3.4s finished\n",
      "[Parallel(n_jobs=8)]: Done   7 out of  10 | elapsed:   35.7s remaining:   15.3s\n"
     ]
    },
    {
     "name": "stdout",
     "output_type": "stream",
     "text": [
      "[CV]  verbose=3, random_state=0, n_jobs=8, n_estimators=10, max_features=None, max_depth=19, criterion=entropy, score=0.7350849809226501, total= 1.2min\n",
      "[CV] verbose=3, random_state=0, n_jobs=8, n_estimators=10, max_features=None, max_depth=19, criterion=gini \n",
      "building tree 74 of 100\n",
      "building tree 87 of 100\n",
      "building tree 75 of 100\n",
      "building tree 88 of 100\n",
      "building tree 89 of 100\n",
      "building tree 76 of 100\n",
      "building tree 77 of 100\n",
      "building tree 2 of 10\n",
      "building tree 1 of 10\n",
      "building tree 5 of 10\n",
      "building tree 7 of 10\n",
      "building tree 8 of 10\n",
      "building tree 3 of 10\n",
      "building tree 4 of 10\n",
      "building tree 6 of 10\n",
      "building tree 78 of 100\n",
      "building tree 79 of 100\n",
      "building tree 9 of 10\n",
      "building tree 10 of 10\n"
     ]
    },
    {
     "name": "stderr",
     "output_type": "stream",
     "text": [
      "[Parallel(n_jobs=8)]: Done   3 out of  10 | elapsed:   34.1s remaining:  1.3min\n"
     ]
    },
    {
     "name": "stdout",
     "output_type": "stream",
     "text": [
      "building tree 90 of 100\n",
      "building tree 91 of 100\n"
     ]
    },
    {
     "name": "stderr",
     "output_type": "stream",
     "text": [
      "[Parallel(n_jobs=8)]: Done   7 out of  10 | elapsed:   34.9s remaining:   15.0s\n"
     ]
    },
    {
     "name": "stdout",
     "output_type": "stream",
     "text": [
      "building tree 80 of 100\n",
      "building tree 92 of 100\n"
     ]
    },
    {
     "name": "stderr",
     "output_type": "stream",
     "text": [
      "[Parallel(n_jobs=8)]: Done  10 out of  10 | elapsed:  1.1min finished\n",
      "[Parallel(n_jobs=8)]: Done   3 out of  10 | elapsed:    0.4s remaining:    0.9s\n",
      "[Parallel(n_jobs=8)]: Done   7 out of  10 | elapsed:    0.5s remaining:    0.2s\n",
      "[Parallel(n_jobs=8)]: Done  10 out of  10 | elapsed:    0.8s finished\n"
     ]
    },
    {
     "name": "stdout",
     "output_type": "stream",
     "text": [
      "building tree 81 of 100\n",
      "building tree 93 of 100\n",
      "building tree 94 of 100\n"
     ]
    },
    {
     "name": "stderr",
     "output_type": "stream",
     "text": [
      "[Parallel(n_jobs=8)]: Done   3 out of  10 | elapsed:    1.5s remaining:    3.6s\n",
      "[Parallel(n_jobs=8)]: Done   7 out of  10 | elapsed:    1.9s remaining:    0.8s\n"
     ]
    },
    {
     "name": "stdout",
     "output_type": "stream",
     "text": [
      "building tree 9 of 10\n",
      "building tree 10 of 10\n"
     ]
    },
    {
     "name": "stderr",
     "output_type": "stream",
     "text": [
      "[Parallel(n_jobs=8)]: Done   3 out of  10 | elapsed:   33.1s remaining:  1.3min\n",
      "[Parallel(n_jobs=8)]: Done   7 out of  10 | elapsed:   33.7s remaining:   14.4s\n",
      "[Parallel(n_jobs=8)]: Done  10 out of  10 | elapsed:    3.2s finished\n"
     ]
    },
    {
     "name": "stdout",
     "output_type": "stream",
     "text": [
      "building tree 95 of 100\n",
      "[CV]  verbose=3, random_state=0, n_jobs=8, n_estimators=10, max_features=None, max_depth=19, criterion=entropy, score=0.733674006627644, total= 1.2min\n",
      "[CV] verbose=3, random_state=0, n_jobs=8, n_estimators=10, max_features=log2, max_depth=None, criterion=entropy \n",
      "building tree 82 of 100\n",
      "building tree 96 of 100\n",
      "building tree 83 of 100\n",
      "building tree 97 of 100\n",
      "building tree 84 of 100\n",
      "building tree 85 of 100\n",
      "building tree 86 of 100\n",
      "building tree 87 of 100\n",
      "building tree 4 of 10\n",
      "building tree 3 of 10\n",
      "building tree 2 of 10\n",
      "building tree 5 of 10\n",
      "building tree 7 of 10\n",
      "building tree 6 of 10\n",
      "building tree 1 of 10\n",
      "building tree 8 of 10\n",
      "building tree 98 of 100\n",
      "building tree 88 of 100\n",
      "building tree 99 of 100\n",
      "building tree 100 of 100\n",
      "building tree 89 of 100\n",
      "building tree 10 of 10\n",
      "building tree 9 of 10\n"
     ]
    },
    {
     "name": "stderr",
     "output_type": "stream",
     "text": [
      "[Parallel(n_jobs=8)]: Done   3 out of  10 | elapsed:   31.9s remaining:  1.2min\n",
      "[Parallel(n_jobs=8)]: Done   7 out of  10 | elapsed:   32.4s remaining:   13.9s\n"
     ]
    },
    {
     "name": "stdout",
     "output_type": "stream",
     "text": [
      "building tree 90 of 100\n",
      "building tree 91 of 100\n",
      "building tree 92 of 100\n",
      "building tree 93 of 100\n",
      "building tree 9 of 10\n",
      "building tree 10 of 10\n"
     ]
    },
    {
     "name": "stderr",
     "output_type": "stream",
     "text": [
      "[Parallel(n_jobs=8)]: Done   3 out of  10 | elapsed:   11.3s remaining:   26.3s\n"
     ]
    },
    {
     "name": "stdout",
     "output_type": "stream",
     "text": [
      "building tree 94 of 100\n"
     ]
    },
    {
     "name": "stderr",
     "output_type": "stream",
     "text": [
      "[Parallel(n_jobs=8)]: Done   7 out of  10 | elapsed:   11.9s remaining:    5.1s\n"
     ]
    },
    {
     "name": "stdout",
     "output_type": "stream",
     "text": [
      "building tree 95 of 100\n"
     ]
    },
    {
     "name": "stderr",
     "output_type": "stream",
     "text": [
      "[Parallel(n_jobs=8)]: Done  10 out of  10 | elapsed:  1.1min finished\n",
      "[Parallel(n_jobs=8)]: Done   3 out of  10 | elapsed:    0.4s remaining:    0.9s\n",
      "[Parallel(n_jobs=8)]: Done   7 out of  10 | elapsed:    0.4s remaining:    0.2s\n"
     ]
    },
    {
     "name": "stdout",
     "output_type": "stream",
     "text": [
      "building tree 96 of 100\n"
     ]
    },
    {
     "name": "stderr",
     "output_type": "stream",
     "text": [
      "[Parallel(n_jobs=8)]: Done  10 out of  10 | elapsed:    0.6s finished\n",
      "[Parallel(n_jobs=8)]: Done 100 out of 100 | elapsed:  2.9min finished\n"
     ]
    },
    {
     "name": "stdout",
     "output_type": "stream",
     "text": [
      "building tree 97 of 100\n",
      "building tree 9 of 10\n",
      "building tree 10 of 10\n"
     ]
    },
    {
     "name": "stderr",
     "output_type": "stream",
     "text": [
      "[Parallel(n_jobs=8)]: Done  16 tasks      | elapsed:    1.2s\n",
      "[Parallel(n_jobs=8)]: Done   3 out of  10 | elapsed:    1.2s remaining:    2.7s\n",
      "[Parallel(n_jobs=8)]: Done   7 out of  10 | elapsed:    1.3s remaining:    0.6s\n",
      "[Parallel(n_jobs=8)]: Done   3 out of  10 | elapsed:   28.4s remaining:  1.1min\n",
      "[Parallel(n_jobs=8)]: Done  10 out of  10 | elapsed:    2.2s finished\n"
     ]
    },
    {
     "name": "stdout",
     "output_type": "stream",
     "text": [
      "[CV]  verbose=3, random_state=0, n_jobs=8, n_estimators=10, max_features=None, max_depth=19, criterion=gini, score=0.7225749307830955, total= 1.1min\n",
      "[CV] verbose=3, random_state=0, n_jobs=8, n_estimators=10, max_features=log2, max_depth=None, criterion=entropy \n"
     ]
    },
    {
     "name": "stderr",
     "output_type": "stream",
     "text": [
      "[Parallel(n_jobs=8)]: Done   7 out of  10 | elapsed:   29.4s remaining:   12.6s\n",
      "[Parallel(n_jobs=8)]: Done  10 out of  10 | elapsed:  1.0min finished\n"
     ]
    },
    {
     "name": "stdout",
     "output_type": "stream",
     "text": [
      "building tree 6 of 10\n",
      "building tree 1 of 10\n",
      "building tree 5 of 10\n",
      "building tree 3 of 10\n",
      "building tree 8 of 10\n",
      "building tree 98 of 100\n",
      "building tree 7 of 10\n",
      "building tree 2 of 10\n",
      "building tree 4 of 10\n"
     ]
    },
    {
     "name": "stderr",
     "output_type": "stream",
     "text": [
      "[Parallel(n_jobs=8)]: Done   3 out of  10 | elapsed:    0.3s remaining:    0.8s\n",
      "[Parallel(n_jobs=8)]: Done   7 out of  10 | elapsed:    0.4s remaining:    0.2s\n"
     ]
    },
    {
     "name": "stdout",
     "output_type": "stream",
     "text": [
      "building tree 99 of 100\n",
      "building tree 100 of 100\n"
     ]
    },
    {
     "name": "stderr",
     "output_type": "stream",
     "text": [
      "[Parallel(n_jobs=8)]: Done  10 out of  10 | elapsed:    0.7s finished\n",
      "[Parallel(n_jobs=8)]: Done  10 out of  10 | elapsed:   19.0s finished\n",
      "[Parallel(n_jobs=8)]: Done   3 out of  10 | elapsed:    0.6s remaining:    1.4s\n",
      "[Parallel(n_jobs=8)]: Done   7 out of  10 | elapsed:    0.8s remaining:    0.3s\n",
      "[Parallel(n_jobs=8)]: Done 100 out of 100 | elapsed:    6.6s finished\n",
      "[Parallel(n_jobs=8)]: Done  10 out of  10 | elapsed:    1.0s finished\n",
      "[Parallel(n_jobs=8)]: Done  10 out of  10 | elapsed:   58.3s finished\n"
     ]
    },
    {
     "name": "stdout",
     "output_type": "stream",
     "text": [
      "[CV] verbose=3, random_state=0, n_jobs=8, n_estimators=10, max_features=log2, max_depth=None, criterion=entropy \n"
     ]
    },
    {
     "name": "stderr",
     "output_type": "stream",
     "text": [
      "[Parallel(n_jobs=8)]: Done   3 out of  10 | elapsed:    0.9s remaining:    2.1s\n",
      "[Parallel(n_jobs=8)]: Done   3 out of  10 | elapsed:    0.3s remaining:    0.8s\n",
      "[Parallel(n_jobs=8)]: Done   7 out of  10 | elapsed:    0.4s remaining:    0.2s\n",
      "[Parallel(n_jobs=8)]: Done  10 out of  10 | elapsed:    0.5s finished\n",
      "[Parallel(n_jobs=8)]: Done   3 out of  10 | elapsed:    1.2s remaining:    2.7s\n",
      "[Parallel(n_jobs=8)]: Done   7 out of  10 | elapsed:    1.2s remaining:    0.5s\n"
     ]
    },
    {
     "name": "stdout",
     "output_type": "stream",
     "text": [
      "building tree 2 of 10\n",
      "building tree 4 of 10\n",
      "building tree 3 of 10\n",
      "building tree 5 of 10\n",
      "building tree 8 of 10\n",
      "building tree 7 of 10\n",
      "building tree 6 of 10\n",
      "building tree 1 of 10\n"
     ]
    },
    {
     "name": "stderr",
     "output_type": "stream",
     "text": [
      "[Parallel(n_jobs=8)]: Done  10 out of  10 | elapsed:    1.8s finished\n",
      "[Parallel(n_jobs=8)]: Done   7 out of  10 | elapsed:    2.5s remaining:    1.1s\n"
     ]
    },
    {
     "name": "stdout",
     "output_type": "stream",
     "text": [
      "building tree 9 of 10\n"
     ]
    },
    {
     "name": "stderr",
     "output_type": "stream",
     "text": [
      "[Parallel(n_jobs=8)]: Done  10 out of  10 | elapsed:    3.0s finished\n"
     ]
    },
    {
     "name": "stdout",
     "output_type": "stream",
     "text": [
      "[CV]  verbose=3, random_state=0, n_jobs=8, n_estimators=10, max_features=None, max_depth=19, criterion=gini, score=0.725781675833705, total= 1.1min\n",
      "[CV] verbose=3, random_state=0, n_jobs=8, n_estimators=10, max_features=log2, max_depth=None, criterion=entropy \n"
     ]
    },
    {
     "name": "stderr",
     "output_type": "stream",
     "text": [
      "[Parallel(n_jobs=8)]: Done   3 out of  10 | elapsed:    1.3s remaining:    3.1s\n"
     ]
    },
    {
     "name": "stdout",
     "output_type": "stream",
     "text": [
      "[CV]  verbose=3, random_state=0, n_jobs=8, n_estimators=10, max_features=log2, max_depth=None, criterion=entropy, score=0.9166547950126666, total=  23.1s\n",
      "[CV] verbose=3, random_state=0, n_jobs=8, n_estimators=10, max_features=log2, max_depth=None, criterion=entropy \n"
     ]
    },
    {
     "name": "stderr",
     "output_type": "stream",
     "text": [
      "[Parallel(n_jobs=8)]: Done   7 out of  10 | elapsed:    1.5s remaining:    0.7s\n"
     ]
    },
    {
     "name": "stdout",
     "output_type": "stream",
     "text": [
      "building tree 10 of 10\n"
     ]
    },
    {
     "name": "stderr",
     "output_type": "stream",
     "text": [
      "[Parallel(n_jobs=8)]: Done  10 out of  10 | elapsed:    2.2s finished\n"
     ]
    },
    {
     "name": "stdout",
     "output_type": "stream",
     "text": [
      "[CV]  verbose=3, random_state=0, n_jobs=8, n_estimators=10, max_features=None, max_depth=19, criterion=gini, score=0.725781675833705, total= 1.0min\n",
      "building tree 2 of 10\n",
      "building tree 5 of 10\n",
      "building tree 1 of 10\n",
      "building tree 6 of 10\n",
      "building tree 7 of 10\n",
      "building tree 8 of 10\n",
      "building tree 3 of 10\n",
      "[CV] verbose=3, random_state=0, n_jobs=8, n_estimators=10, max_features=sqrt, max_depth=None, criterion=entropy \n",
      "building tree 4 of 10\n",
      "building tree 2 of 10\n",
      "building tree 1 of 10\n",
      "building tree 4 of 10\n",
      "building tree 8 of 10\n",
      "building tree 3 of 10\n",
      "building tree 5 of 10\n",
      "building tree 6 of 10\n",
      "building tree 7 of 10\n"
     ]
    },
    {
     "name": "stderr",
     "output_type": "stream",
     "text": [
      "[Parallel(n_jobs=8)]: Done   3 out of  10 | elapsed:    8.1s remaining:   18.9s\n",
      "[Parallel(n_jobs=8)]: Done  16 tasks      | elapsed:    4.6s\n"
     ]
    },
    {
     "name": "stdout",
     "output_type": "stream",
     "text": [
      "building tree 7 of 10\n",
      "building tree 1 of 10\n",
      "building tree 2 of 10\n",
      "building tree 5 of 10\n",
      "building tree 3 of 10\n",
      "building tree 8 of 10\n",
      "building tree 4 of 10\n",
      "building tree 6 of 10\n"
     ]
    },
    {
     "name": "stderr",
     "output_type": "stream",
     "text": [
      "[Parallel(n_jobs=8)]: Done   7 out of  10 | elapsed:   11.0s remaining:    4.7s\n",
      "[Parallel(n_jobs=8)]: Done  10 out of  10 | elapsed:   54.9s finished\n",
      "[Parallel(n_jobs=8)]: Done   3 out of  10 | elapsed:    0.4s remaining:    1.0s\n",
      "[Parallel(n_jobs=8)]: Done   7 out of  10 | elapsed:    0.5s remaining:    0.2s\n",
      "[Parallel(n_jobs=8)]: Done  10 out of  10 | elapsed:    0.8s finished\n"
     ]
    },
    {
     "name": "stdout",
     "output_type": "stream",
     "text": [
      "building tree 9 of 10\n",
      "building tree 10 of 10\n"
     ]
    },
    {
     "name": "stderr",
     "output_type": "stream",
     "text": [
      "[Parallel(n_jobs=8)]: Done   3 out of  10 | elapsed:   10.6s remaining:   24.7s\n",
      "[Parallel(n_jobs=8)]: Done  10 out of  10 | elapsed:   16.8s finished\n",
      "[Parallel(n_jobs=8)]: Done   7 out of  10 | elapsed:   11.9s remaining:    5.1s\n",
      "[Parallel(n_jobs=8)]: Done   3 out of  10 | elapsed:    1.4s remaining:    3.2s\n",
      "[Parallel(n_jobs=8)]: Done   7 out of  10 | elapsed:    1.5s remaining:    0.6s\n",
      "[Parallel(n_jobs=8)]: Done   3 out of  10 | elapsed:    0.9s remaining:    2.1s\n",
      "[Parallel(n_jobs=8)]: Done   7 out of  10 | elapsed:    0.9s remaining:    0.4s\n"
     ]
    },
    {
     "name": "stdout",
     "output_type": "stream",
     "text": [
      "building tree 9 of 10\n",
      "building tree 10 of 10\n"
     ]
    },
    {
     "name": "stderr",
     "output_type": "stream",
     "text": [
      "[Parallel(n_jobs=8)]: Done   3 out of  10 | elapsed:   10.9s remaining:   25.5s\n",
      "[Parallel(n_jobs=8)]: Done  10 out of  10 | elapsed:    1.5s finished\n"
     ]
    },
    {
     "name": "stdout",
     "output_type": "stream",
     "text": [
      "building tree 9 of 10\n"
     ]
    },
    {
     "name": "stderr",
     "output_type": "stream",
     "text": [
      "[Parallel(n_jobs=8)]: Done  10 out of  10 | elapsed:    2.6s finished\n"
     ]
    },
    {
     "name": "stdout",
     "output_type": "stream",
     "text": [
      "building tree 10 of 10\n"
     ]
    },
    {
     "name": "stderr",
     "output_type": "stream",
     "text": [
      "[Parallel(n_jobs=8)]: Done   3 out of  10 | elapsed:   11.0s remaining:   25.6s\n",
      "[Parallel(n_jobs=8)]: Done   7 out of  10 | elapsed:   11.4s remaining:    4.9s\n"
     ]
    },
    {
     "name": "stdout",
     "output_type": "stream",
     "text": [
      "[CV]  verbose=3, random_state=0, n_jobs=8, n_estimators=10, max_features=None, max_depth=19, criterion=gini, score=0.7249392993409642, total=  58.8s\n",
      "[CV] verbose=3, random_state=0, n_jobs=8, n_estimators=10, max_features=sqrt, max_depth=None, criterion=entropy \n"
     ]
    },
    {
     "name": "stderr",
     "output_type": "stream",
     "text": [
      "[Parallel(n_jobs=8)]: Done   7 out of  10 | elapsed:   11.7s remaining:    5.0s\n"
     ]
    },
    {
     "name": "stdout",
     "output_type": "stream",
     "text": [
      "building tree 9 of 10\n",
      "building tree 10 of 10\n"
     ]
    },
    {
     "name": "stderr",
     "output_type": "stream",
     "text": [
      "[Parallel(n_jobs=8)]: Done  10 out of  10 | elapsed:   51.7s finished\n",
      "[Parallel(n_jobs=8)]: Done   3 out of  10 | elapsed:   11.2s remaining:   26.2s\n"
     ]
    },
    {
     "name": "stdout",
     "output_type": "stream",
     "text": [
      "building tree 2 of 10\n",
      "building tree 5 of 10\n",
      "building tree 1 of 10\n",
      "building tree 3 of 10\n",
      "building tree 6 of 10\n",
      "building tree 7 of 10\n",
      "building tree 8 of 10\n",
      "building tree 4 of 10\n"
     ]
    },
    {
     "name": "stderr",
     "output_type": "stream",
     "text": [
      "[Parallel(n_jobs=8)]: Done   3 out of  10 | elapsed:    0.4s remaining:    0.9s\n",
      "[Parallel(n_jobs=8)]: Done   7 out of  10 | elapsed:   11.9s remaining:    5.1s\n",
      "[Parallel(n_jobs=8)]: Done   7 out of  10 | elapsed:    0.4s remaining:    0.2s\n",
      "[Parallel(n_jobs=8)]: Done  10 out of  10 | elapsed:    0.6s finished\n",
      "[Parallel(n_jobs=8)]: Done   3 out of  10 | elapsed:    2.2s remaining:    5.2s\n",
      "[Parallel(n_jobs=8)]: Done   7 out of  10 | elapsed:    2.5s remaining:    1.1s\n",
      "[Parallel(n_jobs=8)]: Done   3 out of  10 | elapsed:    1.0s remaining:    2.4s\n",
      "[Parallel(n_jobs=8)]: Done   7 out of  10 | elapsed:    1.1s remaining:    0.5s\n",
      "[Parallel(n_jobs=8)]: Done  10 out of  10 | elapsed:    4.2s finished\n",
      "[Parallel(n_jobs=8)]: Done  10 out of  10 | elapsed:   18.6s finished\n"
     ]
    },
    {
     "name": "stdout",
     "output_type": "stream",
     "text": [
      "[CV]  verbose=3, random_state=0, n_jobs=8, n_estimators=10, max_features=log2, max_depth=None, criterion=entropy, score=0.9171993459194292, total=  20.3s\n",
      "[CV] verbose=3, random_state=0, n_jobs=8, n_estimators=10, max_features=sqrt, max_depth=None, criterion=entropy \n"
     ]
    },
    {
     "name": "stderr",
     "output_type": "stream",
     "text": [
      "[Parallel(n_jobs=8)]: Done  10 out of  10 | elapsed:    1.9s finished\n",
      "[Parallel(n_jobs=8)]: Done   3 out of  10 | elapsed:    0.6s remaining:    1.3s\n",
      "[Parallel(n_jobs=8)]: Done   7 out of  10 | elapsed:    0.6s remaining:    0.3s\n"
     ]
    },
    {
     "name": "stdout",
     "output_type": "stream",
     "text": [
      "[CV]  verbose=3, random_state=0, n_jobs=8, n_estimators=10, max_features=None, max_depth=19, criterion=gini, score=0.7228963424076311, total=  55.1s\n",
      "[CV] verbose=3, random_state=0, n_jobs=8, n_estimators=10, max_features=sqrt, max_depth=None, criterion=entropy \n"
     ]
    },
    {
     "name": "stderr",
     "output_type": "stream",
     "text": [
      "[Parallel(n_jobs=8)]: Done  10 out of  10 | elapsed:    0.9s finished\n",
      "[Parallel(n_jobs=8)]: Done  10 out of  10 | elapsed:   17.5s finished\n"
     ]
    },
    {
     "name": "stdout",
     "output_type": "stream",
     "text": [
      "building tree 2 of 10\n",
      "building tree 4 of 10\n",
      "building tree 7 of 10\n",
      "building tree 3 of 10\n",
      "building tree 1 of 10\n",
      "building tree 8 of 10\n",
      "building tree 5 of 10\n",
      "building tree 6 of 10\n"
     ]
    },
    {
     "name": "stderr",
     "output_type": "stream",
     "text": [
      "[Parallel(n_jobs=8)]: Done   3 out of  10 | elapsed:    0.8s remaining:    1.8s\n",
      "[Parallel(n_jobs=8)]: Done   7 out of  10 | elapsed:    0.8s remaining:    0.3s\n"
     ]
    },
    {
     "name": "stdout",
     "output_type": "stream",
     "text": [
      "building tree 6 of 10\n",
      "building tree 2 of 10\n",
      "building tree 1 of 10\n",
      "building tree 4 of 10\n",
      "building tree 3 of 10\n",
      "building tree 5 of 10\n",
      "building tree 7 of 10\n"
     ]
    },
    {
     "name": "stderr",
     "output_type": "stream",
     "text": [
      "[Parallel(n_jobs=8)]: Done  10 out of  10 | elapsed:   18.5s finished\n"
     ]
    },
    {
     "name": "stdout",
     "output_type": "stream",
     "text": [
      "building tree 8 of 10\n"
     ]
    },
    {
     "name": "stderr",
     "output_type": "stream",
     "text": [
      "[Parallel(n_jobs=8)]: Done  10 out of  10 | elapsed:    1.4s finished\n",
      "[Parallel(n_jobs=8)]: Done   3 out of  10 | elapsed:    0.8s remaining:    2.0s\n",
      "[Parallel(n_jobs=8)]: Done   7 out of  10 | elapsed:    0.9s remaining:    0.4s\n",
      "[Parallel(n_jobs=8)]: Done   3 out of  10 | elapsed:    2.9s remaining:    6.8s\n",
      "[Parallel(n_jobs=8)]: Done  10 out of  10 | elapsed:    1.6s finished\n",
      "[Parallel(n_jobs=8)]: Done   7 out of  10 | elapsed:    3.1s remaining:    1.3s\n"
     ]
    },
    {
     "name": "stdout",
     "output_type": "stream",
     "text": [
      "building tree 9 of 10\n",
      "building tree 10 of 10\n"
     ]
    },
    {
     "name": "stderr",
     "output_type": "stream",
     "text": [
      "[Parallel(n_jobs=8)]: Done   3 out of  10 | elapsed:    2.8s remaining:    6.5s\n",
      "[Parallel(n_jobs=8)]: Done   3 out of  10 | elapsed:    9.8s remaining:   22.8s\n",
      "[Parallel(n_jobs=8)]: Done  10 out of  10 | elapsed:    5.4s finished\n",
      "[Parallel(n_jobs=8)]: Done   7 out of  10 | elapsed:    3.1s remaining:    1.3s\n"
     ]
    },
    {
     "name": "stdout",
     "output_type": "stream",
     "text": [
      "[CV]  verbose=3, random_state=0, n_jobs=8, n_estimators=10, max_features=log2, max_depth=None, criterion=entropy, score=0.91704449729944, total=  21.8s\n",
      "[CV] verbose=3, random_state=0, n_jobs=8, n_estimators=10, max_features=sqrt, max_depth=None, criterion=entropy \n"
     ]
    },
    {
     "name": "stderr",
     "output_type": "stream",
     "text": [
      "[Parallel(n_jobs=8)]: Done  10 out of  10 | elapsed:   21.8s finished\n",
      "[Parallel(n_jobs=8)]: Done   7 out of  10 | elapsed:   10.6s remaining:    4.5s\n",
      "[Parallel(n_jobs=8)]: Done   3 out of  10 | elapsed:    2.7s remaining:    6.4s\n",
      "[Parallel(n_jobs=8)]: Done   7 out of  10 | elapsed:    2.9s remaining:    1.2s\n",
      "[Parallel(n_jobs=8)]: Done   3 out of  10 | elapsed:    0.7s remaining:    1.7s\n",
      "[Parallel(n_jobs=8)]: Done   7 out of  10 | elapsed:    0.8s remaining:    0.4s\n",
      "[Parallel(n_jobs=8)]: Done  10 out of  10 | elapsed:    1.1s finished\n",
      "[Parallel(n_jobs=8)]: Done  10 out of  10 | elapsed:    5.1s finished\n"
     ]
    },
    {
     "name": "stdout",
     "output_type": "stream",
     "text": [
      "[CV]  verbose=3, random_state=0, n_jobs=8, n_estimators=10, max_features=log2, max_depth=None, criterion=entropy, score=0.9165427877706754, total=  21.1s\n",
      "[CV] verbose=3, random_state=0, n_jobs=8, n_estimators=100, max_features=None, max_depth=None, criterion=gini \n",
      "building tree 4 of 10\n",
      "building tree 8 of 10\n",
      "building tree 5 of 10\n",
      "building tree 1 of 10\n",
      "building tree 2 of 10\n",
      "building tree 6 of 10\n",
      "building tree 3 of 10\n",
      "building tree 7 of 10\n"
     ]
    },
    {
     "name": "stderr",
     "output_type": "stream",
     "text": [
      "[Parallel(n_jobs=8)]: Done  10 out of  10 | elapsed:    5.0s finished\n",
      "[Parallel(n_jobs=8)]: Done 100 out of 100 | elapsed:   30.8s finished\n"
     ]
    },
    {
     "name": "stdout",
     "output_type": "stream",
     "text": [
      "[CV]  verbose=3, random_state=0, n_jobs=8, n_estimators=10, max_features=log2, max_depth=None, criterion=entropy, score=0.9172349716621759, total=  22.2s\n",
      "[CV] verbose=3, random_state=0, n_jobs=8, n_estimators=100, max_features=None, max_depth=None, criterion=gini \n",
      "[CV]  verbose=3, random_state=0, n_jobs=8, n_estimators=100, max_features=log2, max_depth=None, criterion=entropy, score=0.9210457856399584, total= 3.1min\n",
      "building tree 9 of 10\n",
      "building tree 10 of 10\n",
      "building tree 5 of 100\n",
      "building tree 1 of 100\n",
      "building tree 4 of 100\n",
      "building tree 2 of 100\n",
      "building tree 6 of 100\n",
      "building tree 8 of 100\n",
      "building tree 3 of 100\n",
      "building tree 7 of 100\n",
      "[CV] verbose=3, random_state=0, n_jobs=8, n_estimators=100, max_features=None, max_depth=None, criterion=gini \n"
     ]
    },
    {
     "name": "stderr",
     "output_type": "stream",
     "text": [
      "[Parallel(n_jobs=8)]: Done   3 out of  10 | elapsed:   10.7s remaining:   24.9s\n"
     ]
    },
    {
     "name": "stdout",
     "output_type": "stream",
     "text": [
      "building tree 9 of 10\n",
      "building tree 10 of 10\n"
     ]
    },
    {
     "name": "stderr",
     "output_type": "stream",
     "text": [
      "[Parallel(n_jobs=8)]: Done   3 out of  10 | elapsed:    2.5s remaining:    5.9s\n",
      "[Parallel(n_jobs=8)]: Done   7 out of  10 | elapsed:    2.7s remaining:    1.1s\n",
      "[Parallel(n_jobs=8)]: Done   3 out of  10 | elapsed:   10.6s remaining:   24.7s\n",
      "[Parallel(n_jobs=8)]: Done   7 out of  10 | elapsed:   11.9s remaining:    5.1s\n",
      "[Parallel(n_jobs=8)]: Done   7 out of  10 | elapsed:   11.3s remaining:    4.8s\n"
     ]
    },
    {
     "name": "stdout",
     "output_type": "stream",
     "text": [
      "building tree 1 of 100\n",
      "building tree 4 of 100\n",
      "building tree 3 of 100\n",
      "building tree 2 of 100\n",
      "building tree 8 of 100\n",
      "building tree 5 of 100\n",
      "building tree 6 of 100\n",
      "building tree 7 of 100\n",
      "building tree 2 of 100\n",
      "building tree 7 of 100\n",
      "building tree 1 of 100\n",
      "building tree 4 of 100\n",
      "building tree 3 of 100\n",
      "building tree 5 of 100\n",
      "building tree 6 of 100\n",
      "building tree 8 of 100\n"
     ]
    },
    {
     "name": "stderr",
     "output_type": "stream",
     "text": [
      "[Parallel(n_jobs=8)]: Done  10 out of  10 | elapsed:    4.8s finished\n"
     ]
    },
    {
     "name": "stdout",
     "output_type": "stream",
     "text": [
      "[CV]  verbose=3, random_state=0, n_jobs=8, n_estimators=10, max_features=sqrt, max_depth=None, criterion=entropy, score=0.9167538975156241, total=  25.5s\n",
      "[CV] verbose=3, random_state=0, n_jobs=8, n_estimators=100, max_features=None, max_depth=None, criterion=gini \n"
     ]
    },
    {
     "name": "stderr",
     "output_type": "stream",
     "text": [
      "[Parallel(n_jobs=8)]: Done  10 out of  10 | elapsed:   18.9s finished\n",
      "[Parallel(n_jobs=8)]: Done   3 out of  10 | elapsed:    0.9s remaining:    2.0s\n",
      "[Parallel(n_jobs=8)]: Done   7 out of  10 | elapsed:    0.9s remaining:    0.4s\n",
      "[Parallel(n_jobs=8)]: Done  10 out of  10 | elapsed:    1.4s finished\n"
     ]
    },
    {
     "name": "stdout",
     "output_type": "stream",
     "text": [
      "building tree 5 of 100\n",
      "building tree 4 of 100\n",
      "building tree 3 of 100\n",
      "building tree 2 of 100\n",
      "building tree 8 of 100\n",
      "building tree 6 of 100\n",
      "building tree 7 of 100\n",
      "building tree 1 of 100\n",
      "building tree 9 of 10\n",
      "building tree 10 of 10\n"
     ]
    },
    {
     "name": "stderr",
     "output_type": "stream",
     "text": [
      "[Parallel(n_jobs=8)]: Done   3 out of  10 | elapsed:   10.7s remaining:   24.9s\n",
      "[Parallel(n_jobs=8)]: Done   7 out of  10 | elapsed:   12.6s remaining:    5.4s\n",
      "[Parallel(n_jobs=8)]: Done   3 out of  10 | elapsed:    3.3s remaining:    7.6s\n",
      "[Parallel(n_jobs=8)]: Done   7 out of  10 | elapsed:    3.4s remaining:    1.4s\n",
      "[Parallel(n_jobs=8)]: Done  10 out of  10 | elapsed:   21.6s finished\n",
      "[Parallel(n_jobs=8)]: Done  10 out of  10 | elapsed:   21.3s finished\n",
      "[Parallel(n_jobs=8)]: Done   3 out of  10 | elapsed:    0.8s remaining:    1.8s\n",
      "[Parallel(n_jobs=8)]: Done   7 out of  10 | elapsed:    0.9s remaining:    0.4s\n",
      "[Parallel(n_jobs=8)]: Done  10 out of  10 | elapsed:    5.8s finished\n",
      "[Parallel(n_jobs=8)]: Done   3 out of  10 | elapsed:    0.8s remaining:    1.8s\n",
      "[Parallel(n_jobs=8)]: Done   7 out of  10 | elapsed:    0.9s remaining:    0.4s\n",
      "[Parallel(n_jobs=8)]: Done  10 out of  10 | elapsed:    1.5s finished\n"
     ]
    },
    {
     "name": "stdout",
     "output_type": "stream",
     "text": [
      "[CV]  verbose=3, random_state=0, n_jobs=8, n_estimators=10, max_features=sqrt, max_depth=None, criterion=entropy, score=0.916065854021109, total=  22.4s\n",
      "[CV] verbose=3, random_state=0, n_jobs=8, n_estimators=100, max_features=None, max_depth=None, criterion=gini \n"
     ]
    },
    {
     "name": "stderr",
     "output_type": "stream",
     "text": [
      "[Parallel(n_jobs=8)]: Done  10 out of  10 | elapsed:    1.3s finished\n"
     ]
    },
    {
     "name": "stdout",
     "output_type": "stream",
     "text": [
      "building tree 2 of 100\n",
      "building tree 3 of 100\n",
      "building tree 4 of 100\n",
      "building tree 8 of 100\n",
      "building tree 5 of 100\n",
      "building tree 1 of 100\n",
      "building tree 7 of 100\n",
      "building tree 6 of 100\n"
     ]
    },
    {
     "name": "stderr",
     "output_type": "stream",
     "text": [
      "[Parallel(n_jobs=8)]: Done   3 out of  10 | elapsed:    2.8s remaining:    6.4s\n",
      "[Parallel(n_jobs=8)]: Done   7 out of  10 | elapsed:    3.4s remaining:    1.5s\n",
      "[Parallel(n_jobs=8)]: Done   3 out of  10 | elapsed:    3.6s remaining:    8.3s\n",
      "[Parallel(n_jobs=8)]: Done   7 out of  10 | elapsed:    3.7s remaining:    1.6s\n",
      "[Parallel(n_jobs=8)]: Done  10 out of  10 | elapsed:   22.3s finished\n",
      "[Parallel(n_jobs=8)]: Done  10 out of  10 | elapsed:    5.8s finished\n"
     ]
    },
    {
     "name": "stdout",
     "output_type": "stream",
     "text": [
      "[CV]  verbose=3, random_state=0, n_jobs=8, n_estimators=10, max_features=sqrt, max_depth=None, criterion=entropy, score=0.9171126306922353, total=  25.0s\n"
     ]
    },
    {
     "name": "stderr",
     "output_type": "stream",
     "text": [
      "[Parallel(n_jobs=8)]: Done  10 out of  10 | elapsed:    6.3s finished\n",
      "[Parallel(n_jobs=8)]: Done   3 out of  10 | elapsed:    0.8s remaining:    1.8s\n",
      "[Parallel(n_jobs=8)]: Done   7 out of  10 | elapsed:    0.9s remaining:    0.4s\n"
     ]
    },
    {
     "name": "stdout",
     "output_type": "stream",
     "text": [
      "[CV]  verbose=3, random_state=0, n_jobs=8, n_estimators=10, max_features=sqrt, max_depth=None, criterion=entropy, score=0.9172427035330261, total=  24.7s\n"
     ]
    },
    {
     "name": "stderr",
     "output_type": "stream",
     "text": [
      "[Parallel(n_jobs=8)]: Done  10 out of  10 | elapsed:    1.4s finished\n",
      "[Parallel(n_jobs=8)]: Done   3 out of  10 | elapsed:    2.9s remaining:    6.7s\n",
      "[Parallel(n_jobs=8)]: Done   7 out of  10 | elapsed:    3.0s remaining:    1.3s\n",
      "[Parallel(n_jobs=8)]: Done  10 out of  10 | elapsed:    5.4s finished\n"
     ]
    },
    {
     "name": "stdout",
     "output_type": "stream",
     "text": [
      "[CV]  verbose=3, random_state=0, n_jobs=8, n_estimators=10, max_features=sqrt, max_depth=None, criterion=entropy, score=0.9172969122611415, total=  26.2s\n",
      "building tree 9 of 100\n",
      "building tree 10 of 100\n",
      "building tree 11 of 100\n",
      "building tree 12 of 100\n",
      "building tree 13 of 100\n",
      "building tree 14 of 100\n",
      "building tree 15 of 100\n",
      "building tree 16 of 100\n",
      "building tree 9 of 100\n",
      "building tree 9 of 100\n",
      "building tree 10 of 100\n",
      "building tree 11 of 100\n",
      "building tree 10 of 100\n",
      "building tree 12 of 100\n",
      "building tree 13 of 100\n",
      "building tree 11 of 100\n",
      "building tree 13 of 100\n",
      "building tree 12 of 100\n",
      "building tree 14 of 100\n",
      "building tree 14 of 100\n",
      "building tree 15 of 100\n",
      "building tree 16 of 100\n",
      "building tree 15 of 100\n",
      "building tree 16 of 100\n",
      "building tree 9 of 100\n",
      "building tree 10 of 100\n",
      "building tree 11 of 100\n",
      "building tree 12 of 100\n",
      "building tree 14 of 100\n",
      "building tree 13 of 100\n",
      "building tree 15 of 100\n",
      "building tree 16 of 100\n",
      "building tree 9 of 100\n",
      "building tree 10 of 100\n",
      "building tree 11 of 100\n",
      "building tree 12 of 100\n",
      "building tree 13 of 100\n",
      "building tree 14 of 100\n",
      "building tree 15 of 100\n",
      "building tree 16 of 100\n",
      "building tree 17 of 100\n",
      "building tree 18 of 100\n",
      "building tree 19 of 100\n",
      "building tree 20 of 100\n",
      "building tree 21 of 100\n",
      "building tree 22 of 100\n",
      "building tree 23 of 100\n",
      "building tree 24 of 100\n"
     ]
    },
    {
     "name": "stderr",
     "output_type": "stream",
     "text": [
      "[Parallel(n_jobs=8)]: Done  16 tasks      | elapsed:  1.0min\n"
     ]
    },
    {
     "name": "stdout",
     "output_type": "stream",
     "text": [
      "building tree 17 of 100\n",
      "building tree 18 of 100\n",
      "building tree 17 of 100\n",
      "building tree 18 of 100\n",
      "building tree 19 of 100\n",
      "building tree 20 of 100\n",
      "building tree 19 of 100\n",
      "building tree 20 of 100\n",
      "building tree 21 of 100\n",
      "building tree 21 of 100\n",
      "building tree 22 of 100\n",
      "building tree 22 of 100\n",
      "building tree 23 of 100\n",
      "building tree 23 of 100\n"
     ]
    },
    {
     "name": "stderr",
     "output_type": "stream",
     "text": [
      "[Parallel(n_jobs=8)]: Done  16 tasks      | elapsed:  1.0min\n"
     ]
    },
    {
     "name": "stdout",
     "output_type": "stream",
     "text": [
      "building tree 24 of 100\n"
     ]
    },
    {
     "name": "stderr",
     "output_type": "stream",
     "text": [
      "[Parallel(n_jobs=8)]: Done  16 tasks      | elapsed:  1.0min\n"
     ]
    },
    {
     "name": "stdout",
     "output_type": "stream",
     "text": [
      "building tree 24 of 100\n",
      "building tree 17 of 100\n",
      "building tree 18 of 100\n",
      "building tree 19 of 100\n",
      "building tree 20 of 100\n",
      "building tree 21 of 100\n",
      "building tree 22 of 100\n",
      "building tree 23 of 100\n",
      "building tree 24 of 100\n"
     ]
    },
    {
     "name": "stderr",
     "output_type": "stream",
     "text": [
      "[Parallel(n_jobs=8)]: Done  16 tasks      | elapsed:  1.0min\n"
     ]
    },
    {
     "name": "stdout",
     "output_type": "stream",
     "text": [
      "building tree 17 of 100\n",
      "building tree 18 of 100\n",
      "building tree 19 of 100\n",
      "building tree 20 of 100\n",
      "building tree 21 of 100\n",
      "building tree 22 of 100\n",
      "building tree 23 of 100\n",
      "building tree 24 of 100\n"
     ]
    },
    {
     "name": "stderr",
     "output_type": "stream",
     "text": [
      "[Parallel(n_jobs=8)]: Done  16 tasks      | elapsed:  1.0min\n"
     ]
    },
    {
     "name": "stdout",
     "output_type": "stream",
     "text": [
      "building tree 25 of 100\n",
      "building tree 26 of 100\n",
      "building tree 27 of 100\n",
      "building tree 28 of 100\n",
      "building tree 29 of 100\n",
      "building tree 30 of 100\n",
      "building tree 31 of 100\n",
      "building tree 32 of 100\n",
      "building tree 25 of 100\n",
      "building tree 25 of 100\n",
      "building tree 26 of 100\n",
      "building tree 26 of 100\n",
      "building tree 27 of 100\n",
      "building tree 27 of 100\n",
      "building tree 28 of 100\n",
      "building tree 29 of 100\n",
      "building tree 28 of 100\n",
      "building tree 29 of 100\n",
      "building tree 30 of 100\n",
      "building tree 30 of 100\n",
      "building tree 31 of 100\n",
      "building tree 31 of 100\n",
      "building tree 32 of 100\n",
      "building tree 32 of 100\n",
      "building tree 25 of 100\n",
      "building tree 26 of 100\n",
      "building tree 27 of 100\n",
      "building tree 28 of 100\n",
      "building tree 29 of 100\n",
      "building tree 30 of 100\n",
      "building tree 31 of 100\n",
      "building tree 32 of 100\n",
      "building tree 25 of 100\n",
      "building tree 26 of 100\n",
      "building tree 27 of 100\n",
      "building tree 28 of 100\n",
      "building tree 29 of 100\n",
      "building tree 30 of 100\n",
      "building tree 31 of 100\n",
      "building tree 32 of 100\n",
      "building tree 33 of 100\n",
      "building tree 34 of 100\n",
      "building tree 35 of 100\n",
      "building tree 36 of 100\n",
      "building tree 37 of 100\n",
      "building tree 33 of 100\n",
      "building tree 38 of 100\n",
      "building tree 39 of 100\n",
      "building tree 40 of 100\n",
      "building tree 33 of 100\n",
      "building tree 34 of 100\n",
      "building tree 35 of 100\n",
      "building tree 34 of 100\n",
      "building tree 36 of 100\n",
      "building tree 37 of 100\n",
      "building tree 35 of 100\n",
      "building tree 36 of 100\n",
      "building tree 37 of 100\n",
      "building tree 38 of 100\n",
      "building tree 38 of 100\n",
      "building tree 39 of 100\n",
      "building tree 39 of 100\n",
      "building tree 40 of 100\n",
      "building tree 33 of 100\n",
      "building tree 40 of 100\n",
      "building tree 34 of 100\n",
      "building tree 35 of 100\n",
      "building tree 36 of 100\n",
      "building tree 37 of 100\n",
      "building tree 38 of 100\n",
      "building tree 39 of 100\n",
      "building tree 40 of 100\n",
      "building tree 33 of 100\n",
      "building tree 34 of 100\n",
      "building tree 35 of 100\n",
      "building tree 36 of 100\n",
      "building tree 37 of 100\n",
      "building tree 38 of 100\n",
      "building tree 39 of 100\n",
      "building tree 40 of 100\n",
      "building tree 41 of 100\n",
      "building tree 42 of 100\n",
      "building tree 43 of 100\n",
      "building tree 44 of 100\n",
      "building tree 45 of 100\n",
      "building tree 41 of 100\n",
      "building tree 46 of 100\n",
      "building tree 47 of 100\n",
      "building tree 48 of 100\n",
      "building tree 42 of 100\n",
      "building tree 41 of 100\n",
      "building tree 43 of 100\n",
      "building tree 42 of 100\n",
      "building tree 43 of 100\n",
      "building tree 44 of 100\n",
      "building tree 45 of 100\n",
      "building tree 44 of 100\n",
      "building tree 45 of 100\n",
      "building tree 46 of 100\n",
      "building tree 47 of 100\n",
      "building tree 46 of 100\n",
      "building tree 47 of 100\n",
      "building tree 48 of 100\n",
      "building tree 41 of 100\n",
      "building tree 48 of 100\n",
      "building tree 42 of 100\n",
      "building tree 43 of 100\n",
      "building tree 44 of 100\n",
      "building tree 45 of 100\n",
      "building tree 46 of 100\n",
      "building tree 47 of 100\n",
      "building tree 48 of 100\n",
      "building tree 41 of 100\n",
      "building tree 42 of 100\n",
      "building tree 43 of 100\n",
      "building tree 44 of 100\n",
      "building tree 45 of 100\n",
      "building tree 46 of 100\n",
      "building tree 47 of 100\n",
      "building tree 48 of 100\n",
      "building tree 49 of 100\n",
      "building tree 50 of 100\n",
      "building tree 49 of 100\n",
      "building tree 51 of 100\n",
      "building tree 52 of 100\n",
      "building tree 53 of 100\n",
      "building tree 54 of 100\n",
      "building tree 55 of 100\n",
      "building tree 50 of 100\n",
      "building tree 56 of 100\n",
      "building tree 51 of 100\n",
      "building tree 49 of 100\n",
      "building tree 52 of 100\n",
      "building tree 50 of 100\n",
      "building tree 49 of 100\n",
      "building tree 53 of 100\n",
      "building tree 55 of 100\n",
      "building tree 54 of 100\n",
      "building tree 53 of 100\n",
      "building tree 51 of 100\n",
      "building tree 50 of 100\n",
      "building tree 52 of 100\n",
      "building tree 51 of 100\n",
      "building tree 52 of 100\n",
      "building tree 56 of 100\n",
      "building tree 53 of 100\n",
      "building tree 54 of 100\n",
      "building tree 55 of 100\n",
      "building tree 49 of 100\n",
      "building tree 56 of 100\n",
      "building tree 50 of 100\n",
      "building tree 51 of 100\n",
      "building tree 52 of 100\n",
      "building tree 53 of 100\n",
      "building tree 54 of 100\n",
      "building tree 55 of 100\n",
      "building tree 56 of 100\n",
      "building tree 57 of 100\n",
      "building tree 58 of 100\n",
      "building tree 59 of 100\n",
      "building tree 60 of 100\n",
      "building tree 61 of 100\n",
      "building tree 62 of 100\n",
      "building tree 63 of 100\n",
      "building tree 64 of 100\n",
      "building tree 57 of 100\n",
      "building tree 58 of 100\n",
      "building tree 59 of 100\n",
      "building tree 60 of 100\n",
      "building tree 57 of 100\n",
      "building tree 58 of 100\n",
      "building tree 61 of 100\n",
      "building tree 62 of 100\n",
      "building tree 59 of 100\n",
      "building tree 60 of 100\n",
      "building tree 63 of 100\n",
      "building tree 64 of 100\n",
      "building tree 61 of 100\n",
      "building tree 62 of 100\n",
      "building tree 63 of 100\n",
      "building tree 57 of 100\n",
      "building tree 58 of 100\n",
      "building tree 64 of 100\n",
      "building tree 59 of 100\n",
      "building tree 60 of 100\n",
      "building tree 61 of 100\n",
      "building tree 62 of 100\n",
      "building tree 63 of 100\n",
      "building tree 64 of 100\n",
      "building tree 65 of 100\n",
      "building tree 66 of 100\n",
      "building tree 67 of 100\n",
      "building tree 68 of 100\n",
      "building tree 69 of 100\n",
      "building tree 70 of 100\n",
      "building tree 71 of 100\n",
      "building tree 65 of 100\n",
      "building tree 72 of 100\n",
      "building tree 66 of 100\n",
      "building tree 67 of 100\n",
      "building tree 68 of 100\n",
      "building tree 69 of 100\n",
      "building tree 70 of 100\n",
      "building tree 65 of 100\n",
      "building tree 66 of 100\n",
      "building tree 67 of 100\n",
      "building tree 71 of 100\n",
      "building tree 68 of 100\n",
      "building tree 72 of 100\n",
      "building tree 69 of 100\n",
      "building tree 70 of 100\n",
      "building tree 71 of 100\n",
      "building tree 65 of 100\n",
      "building tree 72 of 100\n",
      "building tree 66 of 100\n",
      "building tree 67 of 100\n",
      "building tree 68 of 100\n",
      "building tree 69 of 100\n",
      "building tree 70 of 100\n",
      "building tree 71 of 100\n",
      "building tree 72 of 100\n",
      "building tree 73 of 100\n",
      "building tree 74 of 100\n",
      "building tree 75 of 100\n",
      "building tree 76 of 100\n",
      "building tree 77 of 100\n",
      "building tree 78 of 100\n",
      "building tree 73 of 100\n",
      "building tree 79 of 100\n",
      "building tree 73 of 100\n",
      "building tree 74 of 100\n",
      "building tree 75 of 100\n",
      "building tree 76 of 100\n",
      "building tree 77 of 100\n",
      "building tree 78 of 100\n",
      "building tree 79 of 100\n",
      "building tree 80 of 100\n",
      "building tree 74 of 100\n",
      "building tree 75 of 100\n",
      "building tree 76 of 100\n",
      "building tree 77 of 100\n",
      "building tree 73 of 100\n",
      "building tree 78 of 100\n",
      "building tree 79 of 100\n",
      "building tree 74 of 100\n",
      "building tree 75 of 100\n",
      "building tree 76 of 100\n",
      "building tree 80 of 100\n",
      "building tree 77 of 100\n",
      "building tree 78 of 100\n",
      "building tree 79 of 100\n",
      "building tree 80 of 100\n",
      "building tree 81 of 100\n",
      "building tree 82 of 100\n",
      "building tree 81 of 100\n",
      "building tree 83 of 100\n",
      "building tree 82 of 100\n",
      "building tree 83 of 100\n",
      "building tree 84 of 100\n",
      "building tree 85 of 100\n",
      "building tree 86 of 100\n",
      "building tree 87 of 100\n",
      "building tree 88 of 100\n",
      "building tree 81 of 100\n",
      "building tree 84 of 100\n",
      "building tree 85 of 100\n",
      "building tree 86 of 100\n",
      "building tree 87 of 100\n",
      "building tree 82 of 100\n",
      "building tree 83 of 100\n",
      "building tree 84 of 100\n",
      "building tree 85 of 100\n",
      "building tree 88 of 100\n",
      "building tree 86 of 100\n",
      "building tree 87 of 100\n",
      "building tree 88 of 100\n",
      "building tree 89 of 100\n",
      "building tree 90 of 100\n",
      "building tree 89 of 100\n",
      "building tree 90 of 100\n",
      "building tree 91 of 100\n",
      "building tree 92 of 100\n",
      "building tree 93 of 100\n",
      "building tree 94 of 100\n",
      "building tree 91 of 100\n",
      "building tree 95 of 100\n",
      "building tree 92 of 100\n",
      "building tree 89 of 100\n",
      "building tree 96 of 100\n",
      "building tree 93 of 100\n",
      "building tree 94 of 100\n",
      "building tree 95 of 100\n",
      "building tree 90 of 100\n",
      "building tree 91 of 100\n",
      "building tree 92 of 100\n",
      "building tree 93 of 100\n",
      "building tree 96 of 100\n",
      "building tree 94 of 100\n",
      "building tree 95 of 100\n",
      "building tree 96 of 100\n",
      "building tree 97 of 100\n",
      "building tree 97 of 100\n",
      "building tree 98 of 100\n",
      "building tree 99 of 100\n",
      "building tree 98 of 100\n",
      "building tree 99 of 100\n",
      "building tree 100 of 100\n",
      "building tree 97 of 100\n",
      "building tree 100 of 100\n",
      "building tree 98 of 100\n",
      "building tree 99 of 100\n",
      "building tree 100 of 100\n"
     ]
    },
    {
     "name": "stderr",
     "output_type": "stream",
     "text": [
      "[Parallel(n_jobs=8)]: Done 100 out of 100 | elapsed:  5.2min finished\n",
      "[Parallel(n_jobs=8)]: Done 100 out of 100 | elapsed:  5.2min finished\n",
      "[Parallel(n_jobs=8)]: Done  16 tasks      | elapsed:    0.6s\n",
      "[Parallel(n_jobs=8)]: Done  16 tasks      | elapsed:    0.7s\n",
      "[Parallel(n_jobs=8)]: Done 100 out of 100 | elapsed:    3.1s finished\n",
      "[Parallel(n_jobs=8)]: Done 100 out of 100 | elapsed:    3.1s finished\n",
      "[Parallel(n_jobs=8)]: Done 100 out of 100 | elapsed:  5.1min finished\n",
      "[Parallel(n_jobs=8)]: Done  16 tasks      | elapsed:    0.4s\n",
      "[Parallel(n_jobs=8)]: Done  16 tasks      | elapsed:    2.7s\n",
      "[Parallel(n_jobs=8)]: Done  16 tasks      | elapsed:    2.8s\n",
      "[Parallel(n_jobs=8)]: Done 100 out of 100 | elapsed:    4.0s finished\n",
      "[Parallel(n_jobs=8)]: Done  16 tasks      | elapsed:    3.0s\n",
      "[Parallel(n_jobs=8)]: Done 100 out of 100 | elapsed:   15.9s finished\n",
      "[Parallel(n_jobs=8)]: Done 100 out of 100 | elapsed:   15.9s finished\n"
     ]
    },
    {
     "name": "stdout",
     "output_type": "stream",
     "text": [
      "[CV]  verbose=3, random_state=0, n_jobs=8, n_estimators=100, max_features=None, max_depth=None, criterion=gini, score=0.9180603042465686, total= 5.3min\n",
      "[CV]  verbose=3, random_state=0, n_jobs=8, n_estimators=100, max_features=None, max_depth=None, criterion=gini, score=0.9167409940042615, total= 5.3min\n"
     ]
    },
    {
     "name": "stderr",
     "output_type": "stream",
     "text": [
      "[Parallel(n_jobs=8)]: Done 100 out of 100 | elapsed:   13.1s finished\n"
     ]
    },
    {
     "name": "stdout",
     "output_type": "stream",
     "text": [
      "[CV]  verbose=3, random_state=0, n_jobs=8, n_estimators=100, max_features=None, max_depth=None, criterion=gini, score=0.9170119855058998, total= 5.2min\n"
     ]
    },
    {
     "name": "stderr",
     "output_type": "stream",
     "text": [
      "Process ForkPoolWorker-23:\n",
      "Process ForkPoolWorker-26:\n",
      "Process ForkPoolWorker-27:\n",
      "Process ForkPoolWorker-19:\n",
      "Process ForkPoolWorker-22:\n",
      "Process ForkPoolWorker-24:\n",
      "Traceback (most recent call last):\n",
      "  File \"/home/pato/anaconda2/envs/py36/lib/python3.6/multiprocessing/process.py\", line 249, in _bootstrap\n",
      "    self.run()\n",
      "Traceback (most recent call last):\n",
      "  File \"/home/pato/anaconda2/envs/py36/lib/python3.6/multiprocessing/process.py\", line 93, in run\n",
      "    self._target(*self._args, **self._kwargs)\n",
      "  File \"/home/pato/anaconda2/envs/py36/lib/python3.6/multiprocessing/process.py\", line 249, in _bootstrap\n",
      "    self.run()\n",
      "  File \"/home/pato/anaconda2/envs/py36/lib/python3.6/multiprocessing/pool.py\", line 108, in worker\n",
      "    task = get()\n",
      "  File \"/home/pato/anaconda2/envs/py36/lib/python3.6/multiprocessing/process.py\", line 93, in run\n",
      "    self._target(*self._args, **self._kwargs)\n",
      "  File \"/home/pato/anaconda2/envs/py36/lib/python3.6/site-packages/sklearn/externals/joblib/pool.py\", line 360, in get\n",
      "    racquire()\n",
      "Traceback (most recent call last):\n",
      "  File \"/home/pato/anaconda2/envs/py36/lib/python3.6/multiprocessing/pool.py\", line 108, in worker\n",
      "    task = get()\n",
      "Traceback (most recent call last):\n",
      "Traceback (most recent call last):\n",
      "KeyboardInterrupt\n",
      "  File \"/home/pato/anaconda2/envs/py36/lib/python3.6/multiprocessing/process.py\", line 249, in _bootstrap\n",
      "    self.run()\n",
      "  File \"/home/pato/anaconda2/envs/py36/lib/python3.6/multiprocessing/process.py\", line 93, in run\n",
      "    self._target(*self._args, **self._kwargs)\n",
      "  File \"/home/pato/anaconda2/envs/py36/lib/python3.6/multiprocessing/process.py\", line 249, in _bootstrap\n",
      "    self.run()\n",
      "  File \"/home/pato/anaconda2/envs/py36/lib/python3.6/multiprocessing/pool.py\", line 108, in worker\n",
      "    task = get()\n",
      "  File \"/home/pato/anaconda2/envs/py36/lib/python3.6/site-packages/sklearn/externals/joblib/pool.py\", line 360, in get\n",
      "    racquire()\n",
      "KeyboardInterrupt\n",
      "  File \"/home/pato/anaconda2/envs/py36/lib/python3.6/site-packages/sklearn/externals/joblib/pool.py\", line 360, in get\n",
      "    racquire()\n",
      "  File \"/home/pato/anaconda2/envs/py36/lib/python3.6/multiprocessing/process.py\", line 93, in run\n",
      "    self._target(*self._args, **self._kwargs)\n",
      "  File \"/home/pato/anaconda2/envs/py36/lib/python3.6/multiprocessing/process.py\", line 249, in _bootstrap\n",
      "    self.run()\n",
      "  File \"/home/pato/anaconda2/envs/py36/lib/python3.6/multiprocessing/pool.py\", line 108, in worker\n",
      "    task = get()\n",
      "KeyboardInterrupt\n",
      "Traceback (most recent call last):\n",
      "  File \"/home/pato/anaconda2/envs/py36/lib/python3.6/multiprocessing/process.py\", line 249, in _bootstrap\n",
      "    self.run()\n",
      "  File \"/home/pato/anaconda2/envs/py36/lib/python3.6/site-packages/sklearn/externals/joblib/pool.py\", line 360, in get\n",
      "    racquire()\n",
      "  File \"/home/pato/anaconda2/envs/py36/lib/python3.6/multiprocessing/process.py\", line 93, in run\n",
      "    self._target(*self._args, **self._kwargs)\n",
      "KeyboardInterrupt\n",
      "  File \"/home/pato/anaconda2/envs/py36/lib/python3.6/multiprocessing/pool.py\", line 108, in worker\n",
      "    task = get()\n",
      "  File \"/home/pato/anaconda2/envs/py36/lib/python3.6/site-packages/sklearn/externals/joblib/pool.py\", line 362, in get\n",
      "    return recv()\n",
      "  File \"/home/pato/anaconda2/envs/py36/lib/python3.6/multiprocessing/connection.py\", line 250, in recv\n",
      "    buf = self._recv_bytes()\n",
      "Process ForkPoolWorker-28:\n",
      "Traceback (most recent call last):\n",
      "  File \"/home/pato/anaconda2/envs/py36/lib/python3.6/multiprocessing/process.py\", line 249, in _bootstrap\n",
      "    self.run()\n",
      "  File \"/home/pato/anaconda2/envs/py36/lib/python3.6/multiprocessing/connection.py\", line 407, in _recv_bytes\n",
      "    buf = self._recv(4)\n",
      "  File \"/home/pato/anaconda2/envs/py36/lib/python3.6/multiprocessing/process.py\", line 93, in run\n",
      "    self._target(*self._args, **self._kwargs)\n",
      "  File \"/home/pato/anaconda2/envs/py36/lib/python3.6/multiprocessing/pool.py\", line 108, in worker\n",
      "    task = get()\n",
      "  File \"/home/pato/anaconda2/envs/py36/lib/python3.6/multiprocessing/connection.py\", line 379, in _recv\n",
      "    chunk = read(handle, remaining)\n",
      "Process ForkPoolWorker-29:\n",
      "  File \"/home/pato/anaconda2/envs/py36/lib/python3.6/multiprocessing/process.py\", line 93, in run\n",
      "    self._target(*self._args, **self._kwargs)\n",
      "Traceback (most recent call last):\n",
      "  File \"/home/pato/anaconda2/envs/py36/lib/python3.6/multiprocessing/pool.py\", line 108, in worker\n",
      "    task = get()\n",
      "  File \"/home/pato/anaconda2/envs/py36/lib/python3.6/multiprocessing/process.py\", line 249, in _bootstrap\n",
      "    self.run()\n",
      "  File \"/home/pato/anaconda2/envs/py36/lib/python3.6/multiprocessing/process.py\", line 93, in run\n",
      "    self._target(*self._args, **self._kwargs)\n",
      "  File \"/home/pato/anaconda2/envs/py36/lib/python3.6/multiprocessing/pool.py\", line 108, in worker\n",
      "    task = get()\n",
      "  File \"/home/pato/anaconda2/envs/py36/lib/python3.6/site-packages/sklearn/externals/joblib/pool.py\", line 360, in get\n",
      "    racquire()\n",
      "  File \"/home/pato/anaconda2/envs/py36/lib/python3.6/site-packages/sklearn/externals/joblib/pool.py\", line 360, in get\n",
      "    racquire()\n",
      "KeyboardInterrupt\n",
      "KeyboardInterrupt\n",
      "  File \"/home/pato/anaconda2/envs/py36/lib/python3.6/site-packages/sklearn/externals/joblib/pool.py\", line 360, in get\n",
      "    racquire()\n",
      "KeyboardInterrupt\n",
      "KeyboardInterrupt\n"
     ]
    },
    {
     "ename": "KeyboardInterrupt",
     "evalue": "",
     "output_type": "error",
     "traceback": [
      "\u001b[0;31m---------------------------------------------------------------------------\u001b[0m",
      "\u001b[0;31mKeyboardInterrupt\u001b[0m                         Traceback (most recent call last)",
      "\u001b[0;32m<ipython-input-14-3e1affa5cf25>\u001b[0m in \u001b[0;36m<module>\u001b[0;34m()\u001b[0m\n\u001b[1;32m     21\u001b[0m \u001b[0;34m\u001b[0m\u001b[0m\n\u001b[1;32m     22\u001b[0m \u001b[0mclf\u001b[0m \u001b[0;34m=\u001b[0m \u001b[0mRandomizedSearchCV\u001b[0m\u001b[0;34m(\u001b[0m\u001b[0mrfc\u001b[0m\u001b[0;34m,\u001b[0m \u001b[0mparams_rfc\u001b[0m\u001b[0;34m,\u001b[0m \u001b[0mscoring\u001b[0m\u001b[0;34m=\u001b[0m\u001b[0;34m'accuracy'\u001b[0m\u001b[0;34m,\u001b[0m \u001b[0mn_jobs\u001b[0m\u001b[0;34m=\u001b[0m\u001b[0;36m8\u001b[0m\u001b[0;34m,\u001b[0m \u001b[0mcv\u001b[0m\u001b[0;34m=\u001b[0m\u001b[0;36m5\u001b[0m\u001b[0;34m,\u001b[0m \u001b[0mverbose\u001b[0m\u001b[0;34m=\u001b[0m\u001b[0;36m3\u001b[0m\u001b[0;34m)\u001b[0m\u001b[0;34m\u001b[0m\u001b[0m\n\u001b[0;32m---> 23\u001b[0;31m \u001b[0mclf\u001b[0m\u001b[0;34m.\u001b[0m\u001b[0mfit\u001b[0m\u001b[0;34m(\u001b[0m\u001b[0mX_train\u001b[0m\u001b[0;34m,\u001b[0m \u001b[0my_train\u001b[0m\u001b[0;34m)\u001b[0m\u001b[0;34m\u001b[0m\u001b[0m\n\u001b[0m\u001b[1;32m     24\u001b[0m \u001b[0;34m\u001b[0m\u001b[0m\n\u001b[1;32m     25\u001b[0m \u001b[0mtimestamp\u001b[0m \u001b[0;34m=\u001b[0m \u001b[0mdatetime\u001b[0m\u001b[0;34m.\u001b[0m\u001b[0mnow\u001b[0m\u001b[0;34m(\u001b[0m\u001b[0;34m)\u001b[0m\u001b[0;34m.\u001b[0m\u001b[0mstrftime\u001b[0m\u001b[0;34m(\u001b[0m\u001b[0;34m'%Y%m%d%H%M%S'\u001b[0m\u001b[0;34m)\u001b[0m\u001b[0;34m\u001b[0m\u001b[0m\n",
      "\u001b[0;32m~/anaconda2/envs/py36/lib/python3.6/site-packages/sklearn/model_selection/_search.py\u001b[0m in \u001b[0;36mfit\u001b[0;34m(self, X, y, groups, **fit_params)\u001b[0m\n\u001b[1;32m    637\u001b[0m                                   error_score=self.error_score)\n\u001b[1;32m    638\u001b[0m           for parameters, (train, test) in product(candidate_params,\n\u001b[0;32m--> 639\u001b[0;31m                                                    cv.split(X, y, groups)))\n\u001b[0m\u001b[1;32m    640\u001b[0m \u001b[0;34m\u001b[0m\u001b[0m\n\u001b[1;32m    641\u001b[0m         \u001b[0;31m# if one choose to see train score, \"out\" will contain train score info\u001b[0m\u001b[0;34m\u001b[0m\u001b[0;34m\u001b[0m\u001b[0m\n",
      "\u001b[0;32m~/anaconda2/envs/py36/lib/python3.6/site-packages/sklearn/externals/joblib/parallel.py\u001b[0m in \u001b[0;36m__call__\u001b[0;34m(self, iterable)\u001b[0m\n\u001b[1;32m    787\u001b[0m                 \u001b[0;31m# consumption.\u001b[0m\u001b[0;34m\u001b[0m\u001b[0;34m\u001b[0m\u001b[0m\n\u001b[1;32m    788\u001b[0m                 \u001b[0mself\u001b[0m\u001b[0;34m.\u001b[0m\u001b[0m_iterating\u001b[0m \u001b[0;34m=\u001b[0m \u001b[0;32mFalse\u001b[0m\u001b[0;34m\u001b[0m\u001b[0m\n\u001b[0;32m--> 789\u001b[0;31m             \u001b[0mself\u001b[0m\u001b[0;34m.\u001b[0m\u001b[0mretrieve\u001b[0m\u001b[0;34m(\u001b[0m\u001b[0;34m)\u001b[0m\u001b[0;34m\u001b[0m\u001b[0m\n\u001b[0m\u001b[1;32m    790\u001b[0m             \u001b[0;31m# Make sure that we get a last message telling us we are done\u001b[0m\u001b[0;34m\u001b[0m\u001b[0;34m\u001b[0m\u001b[0m\n\u001b[1;32m    791\u001b[0m             \u001b[0melapsed_time\u001b[0m \u001b[0;34m=\u001b[0m \u001b[0mtime\u001b[0m\u001b[0;34m.\u001b[0m\u001b[0mtime\u001b[0m\u001b[0;34m(\u001b[0m\u001b[0;34m)\u001b[0m \u001b[0;34m-\u001b[0m \u001b[0mself\u001b[0m\u001b[0;34m.\u001b[0m\u001b[0m_start_time\u001b[0m\u001b[0;34m\u001b[0m\u001b[0m\n",
      "\u001b[0;32m~/anaconda2/envs/py36/lib/python3.6/site-packages/sklearn/externals/joblib/parallel.py\u001b[0m in \u001b[0;36mretrieve\u001b[0;34m(self)\u001b[0m\n\u001b[1;32m    697\u001b[0m             \u001b[0;32mtry\u001b[0m\u001b[0;34m:\u001b[0m\u001b[0;34m\u001b[0m\u001b[0m\n\u001b[1;32m    698\u001b[0m                 \u001b[0;32mif\u001b[0m \u001b[0mgetattr\u001b[0m\u001b[0;34m(\u001b[0m\u001b[0mself\u001b[0m\u001b[0;34m.\u001b[0m\u001b[0m_backend\u001b[0m\u001b[0;34m,\u001b[0m \u001b[0;34m'supports_timeout'\u001b[0m\u001b[0;34m,\u001b[0m \u001b[0;32mFalse\u001b[0m\u001b[0;34m)\u001b[0m\u001b[0;34m:\u001b[0m\u001b[0;34m\u001b[0m\u001b[0m\n\u001b[0;32m--> 699\u001b[0;31m                     \u001b[0mself\u001b[0m\u001b[0;34m.\u001b[0m\u001b[0m_output\u001b[0m\u001b[0;34m.\u001b[0m\u001b[0mextend\u001b[0m\u001b[0;34m(\u001b[0m\u001b[0mjob\u001b[0m\u001b[0;34m.\u001b[0m\u001b[0mget\u001b[0m\u001b[0;34m(\u001b[0m\u001b[0mtimeout\u001b[0m\u001b[0;34m=\u001b[0m\u001b[0mself\u001b[0m\u001b[0;34m.\u001b[0m\u001b[0mtimeout\u001b[0m\u001b[0;34m)\u001b[0m\u001b[0;34m)\u001b[0m\u001b[0;34m\u001b[0m\u001b[0m\n\u001b[0m\u001b[1;32m    700\u001b[0m                 \u001b[0;32melse\u001b[0m\u001b[0;34m:\u001b[0m\u001b[0;34m\u001b[0m\u001b[0m\n\u001b[1;32m    701\u001b[0m                     \u001b[0mself\u001b[0m\u001b[0;34m.\u001b[0m\u001b[0m_output\u001b[0m\u001b[0;34m.\u001b[0m\u001b[0mextend\u001b[0m\u001b[0;34m(\u001b[0m\u001b[0mjob\u001b[0m\u001b[0;34m.\u001b[0m\u001b[0mget\u001b[0m\u001b[0;34m(\u001b[0m\u001b[0;34m)\u001b[0m\u001b[0;34m)\u001b[0m\u001b[0;34m\u001b[0m\u001b[0m\n",
      "\u001b[0;32m~/anaconda2/envs/py36/lib/python3.6/multiprocessing/pool.py\u001b[0m in \u001b[0;36mget\u001b[0;34m(self, timeout)\u001b[0m\n\u001b[1;32m    600\u001b[0m \u001b[0;34m\u001b[0m\u001b[0m\n\u001b[1;32m    601\u001b[0m     \u001b[0;32mdef\u001b[0m \u001b[0mget\u001b[0m\u001b[0;34m(\u001b[0m\u001b[0mself\u001b[0m\u001b[0;34m,\u001b[0m \u001b[0mtimeout\u001b[0m\u001b[0;34m=\u001b[0m\u001b[0;32mNone\u001b[0m\u001b[0;34m)\u001b[0m\u001b[0;34m:\u001b[0m\u001b[0;34m\u001b[0m\u001b[0m\n\u001b[0;32m--> 602\u001b[0;31m         \u001b[0mself\u001b[0m\u001b[0;34m.\u001b[0m\u001b[0mwait\u001b[0m\u001b[0;34m(\u001b[0m\u001b[0mtimeout\u001b[0m\u001b[0;34m)\u001b[0m\u001b[0;34m\u001b[0m\u001b[0m\n\u001b[0m\u001b[1;32m    603\u001b[0m         \u001b[0;32mif\u001b[0m \u001b[0;32mnot\u001b[0m \u001b[0mself\u001b[0m\u001b[0;34m.\u001b[0m\u001b[0mready\u001b[0m\u001b[0;34m(\u001b[0m\u001b[0;34m)\u001b[0m\u001b[0;34m:\u001b[0m\u001b[0;34m\u001b[0m\u001b[0m\n\u001b[1;32m    604\u001b[0m             \u001b[0;32mraise\u001b[0m \u001b[0mTimeoutError\u001b[0m\u001b[0;34m\u001b[0m\u001b[0m\n",
      "\u001b[0;32m~/anaconda2/envs/py36/lib/python3.6/multiprocessing/pool.py\u001b[0m in \u001b[0;36mwait\u001b[0;34m(self, timeout)\u001b[0m\n\u001b[1;32m    597\u001b[0m \u001b[0;34m\u001b[0m\u001b[0m\n\u001b[1;32m    598\u001b[0m     \u001b[0;32mdef\u001b[0m \u001b[0mwait\u001b[0m\u001b[0;34m(\u001b[0m\u001b[0mself\u001b[0m\u001b[0;34m,\u001b[0m \u001b[0mtimeout\u001b[0m\u001b[0;34m=\u001b[0m\u001b[0;32mNone\u001b[0m\u001b[0;34m)\u001b[0m\u001b[0;34m:\u001b[0m\u001b[0;34m\u001b[0m\u001b[0m\n\u001b[0;32m--> 599\u001b[0;31m         \u001b[0mself\u001b[0m\u001b[0;34m.\u001b[0m\u001b[0m_event\u001b[0m\u001b[0;34m.\u001b[0m\u001b[0mwait\u001b[0m\u001b[0;34m(\u001b[0m\u001b[0mtimeout\u001b[0m\u001b[0;34m)\u001b[0m\u001b[0;34m\u001b[0m\u001b[0m\n\u001b[0m\u001b[1;32m    600\u001b[0m \u001b[0;34m\u001b[0m\u001b[0m\n\u001b[1;32m    601\u001b[0m     \u001b[0;32mdef\u001b[0m \u001b[0mget\u001b[0m\u001b[0;34m(\u001b[0m\u001b[0mself\u001b[0m\u001b[0;34m,\u001b[0m \u001b[0mtimeout\u001b[0m\u001b[0;34m=\u001b[0m\u001b[0;32mNone\u001b[0m\u001b[0;34m)\u001b[0m\u001b[0;34m:\u001b[0m\u001b[0;34m\u001b[0m\u001b[0m\n",
      "\u001b[0;32m~/anaconda2/envs/py36/lib/python3.6/threading.py\u001b[0m in \u001b[0;36mwait\u001b[0;34m(self, timeout)\u001b[0m\n\u001b[1;32m    549\u001b[0m             \u001b[0msignaled\u001b[0m \u001b[0;34m=\u001b[0m \u001b[0mself\u001b[0m\u001b[0;34m.\u001b[0m\u001b[0m_flag\u001b[0m\u001b[0;34m\u001b[0m\u001b[0m\n\u001b[1;32m    550\u001b[0m             \u001b[0;32mif\u001b[0m \u001b[0;32mnot\u001b[0m \u001b[0msignaled\u001b[0m\u001b[0;34m:\u001b[0m\u001b[0;34m\u001b[0m\u001b[0m\n\u001b[0;32m--> 551\u001b[0;31m                 \u001b[0msignaled\u001b[0m \u001b[0;34m=\u001b[0m \u001b[0mself\u001b[0m\u001b[0;34m.\u001b[0m\u001b[0m_cond\u001b[0m\u001b[0;34m.\u001b[0m\u001b[0mwait\u001b[0m\u001b[0;34m(\u001b[0m\u001b[0mtimeout\u001b[0m\u001b[0;34m)\u001b[0m\u001b[0;34m\u001b[0m\u001b[0m\n\u001b[0m\u001b[1;32m    552\u001b[0m             \u001b[0;32mreturn\u001b[0m \u001b[0msignaled\u001b[0m\u001b[0;34m\u001b[0m\u001b[0m\n\u001b[1;32m    553\u001b[0m \u001b[0;34m\u001b[0m\u001b[0m\n",
      "\u001b[0;32m~/anaconda2/envs/py36/lib/python3.6/threading.py\u001b[0m in \u001b[0;36mwait\u001b[0;34m(self, timeout)\u001b[0m\n\u001b[1;32m    293\u001b[0m         \u001b[0;32mtry\u001b[0m\u001b[0;34m:\u001b[0m    \u001b[0;31m# restore state no matter what (e.g., KeyboardInterrupt)\u001b[0m\u001b[0;34m\u001b[0m\u001b[0m\n\u001b[1;32m    294\u001b[0m             \u001b[0;32mif\u001b[0m \u001b[0mtimeout\u001b[0m \u001b[0;32mis\u001b[0m \u001b[0;32mNone\u001b[0m\u001b[0;34m:\u001b[0m\u001b[0;34m\u001b[0m\u001b[0m\n\u001b[0;32m--> 295\u001b[0;31m                 \u001b[0mwaiter\u001b[0m\u001b[0;34m.\u001b[0m\u001b[0macquire\u001b[0m\u001b[0;34m(\u001b[0m\u001b[0;34m)\u001b[0m\u001b[0;34m\u001b[0m\u001b[0m\n\u001b[0m\u001b[1;32m    296\u001b[0m                 \u001b[0mgotit\u001b[0m \u001b[0;34m=\u001b[0m \u001b[0;32mTrue\u001b[0m\u001b[0;34m\u001b[0m\u001b[0m\n\u001b[1;32m    297\u001b[0m             \u001b[0;32melse\u001b[0m\u001b[0;34m:\u001b[0m\u001b[0;34m\u001b[0m\u001b[0m\n",
      "\u001b[0;31mKeyboardInterrupt\u001b[0m: "
     ]
    }
   ],
   "source": [
    "params_rfc = {\n",
    "#     'class_weight': None,\n",
    "    'n_estimators': [10, 100],\n",
    "    'criterion': ['gini', 'entropy'],\n",
    "    'max_depth': [None, 19],\n",
    "    'max_features': [None, 'sqrt', 'log2'],\n",
    "#     'min_impurity_split': [0.0000001],\n",
    "\n",
    "#     'min_samples_split': [2, 5, 10], \n",
    "#     'min_samples_leaf':[1, 2, 4],\n",
    "\n",
    "#     'min_weight_fraction_leaf': [0],\n",
    "\n",
    "#     'max_leaf_nodes': [None, 100, 1000, 2000],\n",
    "    'n_jobs': [8],\n",
    "    'random_state': [0],\n",
    "    'verbose': [3],\n",
    "}\n",
    "\n",
    "rfc = RandomForestClassifier()\n",
    "\n",
    "clf = RandomizedSearchCV(rfc, params_rfc, scoring='accuracy', n_jobs=8, cv=5, verbose=3)\n",
    "clf.fit(X_train, y_train)\n",
    "\n",
    "timestamp = datetime.now().strftime('%Y%m%d%H%M%S')\n",
    "pickle.dump(clf, open('{}-randomforestclassifier-clf.pkl'.format(timestamp), 'wb'))"
   ]
  },
  {
   "cell_type": "code",
   "execution_count": 24,
   "metadata": {
    "ExecuteTime": {
     "end_time": "2018-05-15T21:21:36.847493Z",
     "start_time": "2018-05-15T21:21:36.798175Z"
    }
   },
   "outputs": [
    {
     "data": {
      "text/html": [
       "<div>\n",
       "<style scoped>\n",
       "    .dataframe tbody tr th:only-of-type {\n",
       "        vertical-align: middle;\n",
       "    }\n",
       "\n",
       "    .dataframe tbody tr th {\n",
       "        vertical-align: top;\n",
       "    }\n",
       "\n",
       "    .dataframe thead th {\n",
       "        text-align: right;\n",
       "    }\n",
       "</style>\n",
       "<table border=\"1\" class=\"dataframe\">\n",
       "  <thead>\n",
       "    <tr style=\"text-align: right;\">\n",
       "      <th></th>\n",
       "      <th>n_estimators</th>\n",
       "      <th>max_features</th>\n",
       "      <th>max_depth</th>\n",
       "      <th>criterion</th>\n",
       "      <th>score</th>\n",
       "    </tr>\n",
       "  </thead>\n",
       "  <tbody>\n",
       "    <tr>\n",
       "      <th>0</th>\n",
       "      <td>10</td>\n",
       "      <td>sqrt</td>\n",
       "      <td>None</td>\n",
       "      <td>gini</td>\n",
       "      <td>0.915812423737527</td>\n",
       "    </tr>\n",
       "    <tr>\n",
       "      <th>1</th>\n",
       "      <td>10</td>\n",
       "      <td>sqrt</td>\n",
       "      <td>None</td>\n",
       "      <td>gini</td>\n",
       "      <td>0.9164312967642833</td>\n",
       "    </tr>\n",
       "    <tr>\n",
       "      <th>2</th>\n",
       "      <td>10</td>\n",
       "      <td>sqrt</td>\n",
       "      <td>None</td>\n",
       "      <td>gini</td>\n",
       "      <td>0.9166356969426689</td>\n",
       "    </tr>\n",
       "    <tr>\n",
       "      <th>3</th>\n",
       "      <td>10</td>\n",
       "      <td>sqrt</td>\n",
       "      <td>None</td>\n",
       "      <td>gini</td>\n",
       "      <td>0.9163259997026907</td>\n",
       "    </tr>\n",
       "    <tr>\n",
       "      <th>4</th>\n",
       "      <td>10</td>\n",
       "      <td>sqrt</td>\n",
       "      <td>None</td>\n",
       "      <td>gini</td>\n",
       "      <td>0.9169810152064171</td>\n",
       "    </tr>\n",
       "    <tr>\n",
       "      <th>5</th>\n",
       "      <td>10</td>\n",
       "      <td>None</td>\n",
       "      <td>None</td>\n",
       "      <td>gini</td>\n",
       "      <td>0.9119902383429959</td>\n",
       "    </tr>\n",
       "    <tr>\n",
       "      <th>6</th>\n",
       "      <td>10</td>\n",
       "      <td>None</td>\n",
       "      <td>None</td>\n",
       "      <td>gini</td>\n",
       "      <td>0.913693573162876</td>\n",
       "    </tr>\n",
       "    <tr>\n",
       "      <th>7</th>\n",
       "      <td>10</td>\n",
       "      <td>None</td>\n",
       "      <td>None</td>\n",
       "      <td>gini</td>\n",
       "      <td>0.9122199580053144</td>\n",
       "    </tr>\n",
       "    <tr>\n",
       "      <th>8</th>\n",
       "      <td>10</td>\n",
       "      <td>None</td>\n",
       "      <td>None</td>\n",
       "      <td>gini</td>\n",
       "      <td>0.9121512809077845</td>\n",
       "    </tr>\n",
       "    <tr>\n",
       "      <th>9</th>\n",
       "      <td>10</td>\n",
       "      <td>None</td>\n",
       "      <td>None</td>\n",
       "      <td>gini</td>\n",
       "      <td>0.912948682213757</td>\n",
       "    </tr>\n",
       "    <tr>\n",
       "      <th>10</th>\n",
       "      <td>10</td>\n",
       "      <td>log2</td>\n",
       "      <td>None</td>\n",
       "      <td>entropy</td>\n",
       "      <td>0.9166547950126666</td>\n",
       "    </tr>\n",
       "    <tr>\n",
       "      <th>11</th>\n",
       "      <td>10</td>\n",
       "      <td>log2</td>\n",
       "      <td>None</td>\n",
       "      <td>entropy</td>\n",
       "      <td>0.9171993459194292</td>\n",
       "    </tr>\n",
       "    <tr>\n",
       "      <th>12</th>\n",
       "      <td>10</td>\n",
       "      <td>log2</td>\n",
       "      <td>None</td>\n",
       "      <td>entropy</td>\n",
       "      <td>0.91704449729944</td>\n",
       "    </tr>\n",
       "    <tr>\n",
       "      <th>13</th>\n",
       "      <td>10</td>\n",
       "      <td>log2</td>\n",
       "      <td>None</td>\n",
       "      <td>entropy</td>\n",
       "      <td>0.9165427877706754</td>\n",
       "    </tr>\n",
       "    <tr>\n",
       "      <th>14</th>\n",
       "      <td>10</td>\n",
       "      <td>log2</td>\n",
       "      <td>None</td>\n",
       "      <td>entropy</td>\n",
       "      <td>0.9172349716621759</td>\n",
       "    </tr>\n",
       "    <tr>\n",
       "      <th>15</th>\n",
       "      <td>100</td>\n",
       "      <td>log2</td>\n",
       "      <td>None</td>\n",
       "      <td>entropy</td>\n",
       "      <td>0.9210457856399584</td>\n",
       "    </tr>\n",
       "    <tr>\n",
       "      <th>16</th>\n",
       "      <td>10</td>\n",
       "      <td>sqrt</td>\n",
       "      <td>None</td>\n",
       "      <td>entropy</td>\n",
       "      <td>0.9167538975156241</td>\n",
       "    </tr>\n",
       "    <tr>\n",
       "      <th>17</th>\n",
       "      <td>10</td>\n",
       "      <td>sqrt</td>\n",
       "      <td>None</td>\n",
       "      <td>entropy</td>\n",
       "      <td>0.916065854021109</td>\n",
       "    </tr>\n",
       "    <tr>\n",
       "      <th>18</th>\n",
       "      <td>10</td>\n",
       "      <td>sqrt</td>\n",
       "      <td>None</td>\n",
       "      <td>entropy</td>\n",
       "      <td>0.9171126306922353</td>\n",
       "    </tr>\n",
       "    <tr>\n",
       "      <th>19</th>\n",
       "      <td>10</td>\n",
       "      <td>sqrt</td>\n",
       "      <td>None</td>\n",
       "      <td>entropy</td>\n",
       "      <td>0.9172427035330261</td>\n",
       "    </tr>\n",
       "    <tr>\n",
       "      <th>20</th>\n",
       "      <td>10</td>\n",
       "      <td>sqrt</td>\n",
       "      <td>None</td>\n",
       "      <td>entropy</td>\n",
       "      <td>0.9172969122611415</td>\n",
       "    </tr>\n",
       "    <tr>\n",
       "      <th>21</th>\n",
       "      <td>100</td>\n",
       "      <td>None</td>\n",
       "      <td>None</td>\n",
       "      <td>gini</td>\n",
       "      <td>0.9180603042465686</td>\n",
       "    </tr>\n",
       "    <tr>\n",
       "      <th>22</th>\n",
       "      <td>100</td>\n",
       "      <td>None</td>\n",
       "      <td>None</td>\n",
       "      <td>gini</td>\n",
       "      <td>0.9167409940042615</td>\n",
       "    </tr>\n",
       "    <tr>\n",
       "      <th>23</th>\n",
       "      <td>100</td>\n",
       "      <td>None</td>\n",
       "      <td>None</td>\n",
       "      <td>gini</td>\n",
       "      <td>0.9170119855058998</td>\n",
       "    </tr>\n",
       "  </tbody>\n",
       "</table>\n",
       "</div>"
      ],
      "text/plain": [
       "   n_estimators max_features max_depth criterion               score\n",
       "0            10         sqrt      None      gini   0.915812423737527\n",
       "1            10         sqrt      None      gini  0.9164312967642833\n",
       "2            10         sqrt      None      gini  0.9166356969426689\n",
       "3            10         sqrt      None      gini  0.9163259997026907\n",
       "4            10         sqrt      None      gini  0.9169810152064171\n",
       "5            10         None      None      gini  0.9119902383429959\n",
       "6            10         None      None      gini   0.913693573162876\n",
       "7            10         None      None      gini  0.9122199580053144\n",
       "8            10         None      None      gini  0.9121512809077845\n",
       "9            10         None      None      gini   0.912948682213757\n",
       "10           10         log2      None   entropy  0.9166547950126666\n",
       "11           10         log2      None   entropy  0.9171993459194292\n",
       "12           10         log2      None   entropy    0.91704449729944\n",
       "13           10         log2      None   entropy  0.9165427877706754\n",
       "14           10         log2      None   entropy  0.9172349716621759\n",
       "15          100         log2      None   entropy  0.9210457856399584\n",
       "16           10         sqrt      None   entropy  0.9167538975156241\n",
       "17           10         sqrt      None   entropy   0.916065854021109\n",
       "18           10         sqrt      None   entropy  0.9171126306922353\n",
       "19           10         sqrt      None   entropy  0.9172427035330261\n",
       "20           10         sqrt      None   entropy  0.9172969122611415\n",
       "21          100         None      None      gini  0.9180603042465686\n",
       "22          100         None      None      gini  0.9167409940042615\n",
       "23          100         None      None      gini  0.9170119855058998"
      ]
     },
     "execution_count": 24,
     "metadata": {},
     "output_type": "execute_result"
    }
   ],
   "source": [
    "log = [\"[CV]  verbose=3, random_state=0, n_jobs=8, n_estimators=10, max_features=sqrt, max_depth=None, criterion=gini, score=0.915812423737527, total=  20.8s\",\n",
    "\"[CV]  verbose=3, random_state=0, n_jobs=8, n_estimators=10, max_features=sqrt, max_depth=None, criterion=gini, score=0.9164312967642833, total=  24.8s\",\n",
    "\"[CV]  verbose=3, random_state=0, n_jobs=8, n_estimators=10, max_features=sqrt, max_depth=None, criterion=gini, score=0.9166356969426689, total=  25.6s\",\n",
    "\"[CV]  verbose=3, random_state=0, n_jobs=8, n_estimators=10, max_features=sqrt, max_depth=None, criterion=gini, score=0.9163259997026907, total=  25.9s\",\n",
    "\"[CV]  verbose=3, random_state=0, n_jobs=8, n_estimators=10, max_features=sqrt, max_depth=None, criterion=gini, score=0.9169810152064171, total=  25.9s\",\n",
    "\"[CV]  verbose=3, random_state=0, n_jobs=8, n_estimators=10, max_features=None, max_depth=None, criterion=gini, score=0.9119902383429959, total= 1.1min\",\n",
    "\"[CV]  verbose=3, random_state=0, n_jobs=8, n_estimators=10, max_features=None, max_depth=None, criterion=gini, score=0.913693573162876, total= 1.1min\",\n",
    "\"[CV]  verbose=3, random_state=0, n_jobs=8, n_estimators=10, max_features=None, max_depth=None, criterion=gini, score=0.9122199580053144, total= 1.1min\",\n",
    "\"[CV]  verbose=3, random_state=0, n_jobs=8, n_estimators=10, max_features=None, max_depth=None, criterion=gini, score=0.9121512809077845, total= 1.1min\",\n",
    "\"[CV]  verbose=3, random_state=0, n_jobs=8, n_estimators=10, max_features=None, max_depth=None, criterion=gini, score=0.912948682213757, total= 1.1min\",\n",
    "\"[CV]  verbose=3, random_state=0, n_jobs=8, n_estimators=10, max_features=log2, max_depth=None, criterion=entropy, score=0.9166547950126666, total=  23.1s\",\n",
    "\"[CV]  verbose=3, random_state=0, n_jobs=8, n_estimators=10, max_features=log2, max_depth=None, criterion=entropy, score=0.9171993459194292, total=  20.3s\",\n",
    "\"[CV]  verbose=3, random_state=0, n_jobs=8, n_estimators=10, max_features=log2, max_depth=None, criterion=entropy, score=0.91704449729944, total=  21.8s\",\n",
    "\"[CV]  verbose=3, random_state=0, n_jobs=8, n_estimators=10, max_features=log2, max_depth=None, criterion=entropy, score=0.9165427877706754, total=  21.1s\",\n",
    "\"[CV]  verbose=3, random_state=0, n_jobs=8, n_estimators=10, max_features=log2, max_depth=None, criterion=entropy, score=0.9172349716621759, total=  22.2s\",\n",
    "\"[CV]  verbose=3, random_state=0, n_jobs=8, n_estimators=100, max_features=log2, max_depth=None, criterion=entropy, score=0.9210457856399584, total= 3.1min\",\n",
    "\"[CV]  verbose=3, random_state=0, n_jobs=8, n_estimators=10, max_features=sqrt, max_depth=None, criterion=entropy, score=0.9167538975156241, total=  25.5s\",\n",
    "\"[CV]  verbose=3, random_state=0, n_jobs=8, n_estimators=10, max_features=sqrt, max_depth=None, criterion=entropy, score=0.916065854021109, total=  22.4s\",\n",
    "\"[CV]  verbose=3, random_state=0, n_jobs=8, n_estimators=10, max_features=sqrt, max_depth=None, criterion=entropy, score=0.9171126306922353, total=  25.0s\",\n",
    "\"[CV]  verbose=3, random_state=0, n_jobs=8, n_estimators=10, max_features=sqrt, max_depth=None, criterion=entropy, score=0.9172427035330261, total=  24.7s\",\n",
    "\"[CV]  verbose=3, random_state=0, n_jobs=8, n_estimators=10, max_features=sqrt, max_depth=None, criterion=entropy, score=0.9172969122611415, total=  26.2s\",\n",
    "\"[CV]  verbose=3, random_state=0, n_jobs=8, n_estimators=100, max_features=None, max_depth=None, criterion=gini, score=0.9180603042465686, total= 5.3min\",\n",
    "\"[CV]  verbose=3, random_state=0, n_jobs=8, n_estimators=100, max_features=None, max_depth=None, criterion=gini, score=0.9167409940042615, total= 5.3min\",\n",
    "\"[CV]  verbose=3, random_state=0, n_jobs=8, n_estimators=100, max_features=None, max_depth=None, criterion=gini, score=0.9170119855058998, total= 5.3min\"]\n",
    "\n",
    "lines = []\n",
    "for line in log:\n",
    "    line = line.replace(\"[CV]  verbose=3, random_state=0, n_jobs=8, \", \"\")\n",
    "    cols = line.split(\", \")\n",
    "    cols = cols\n",
    "    row = []\n",
    "    for col in cols[:-1]:\n",
    "        [key, val] = col.split(\"=\")\n",
    "        row.append(val)\n",
    "    lines.append(row)\n",
    "    \n",
    "# print(lines)\n",
    "tmp = pd.DataFrame(data=lines, columns=['n_estimators', 'max_features', 'max_depth', 'criterion', 'score'])\n",
    "tmp\n"
   ]
  },
  {
   "cell_type": "code",
   "execution_count": 1,
   "metadata": {
    "ExecuteTime": {
     "end_time": "2018-05-17T15:32:01.544995Z",
     "start_time": "2018-05-17T11:32:01.454695-04:00"
    },
    "scrolled": true
   },
   "outputs": [
    {
     "ename": "NameError",
     "evalue": "name 'clf' is not defined",
     "output_type": "error",
     "traceback": [
      "\u001b[1;31m---------------------------------------------------------------------------\u001b[0m",
      "\u001b[1;31mNameError\u001b[0m                                 Traceback (most recent call last)",
      "\u001b[1;32m<ipython-input-1-6874acebff11>\u001b[0m in \u001b[0;36m<module>\u001b[1;34m()\u001b[0m\n\u001b[1;32m----> 1\u001b[1;33m \u001b[0mprint\u001b[0m\u001b[1;33m(\u001b[0m\u001b[0mclf\u001b[0m\u001b[1;33m.\u001b[0m\u001b[0mscore\u001b[0m\u001b[1;33m(\u001b[0m\u001b[0mX_test\u001b[0m\u001b[1;33m,\u001b[0m \u001b[0my_test\u001b[0m\u001b[1;33m)\u001b[0m\u001b[1;33m)\u001b[0m\u001b[1;33m\u001b[0m\u001b[0m\n\u001b[0m",
      "\u001b[1;31mNameError\u001b[0m: name 'clf' is not defined"
     ]
    }
   ],
   "source": [
    "print(clf.score(X_test, y_test))"
   ]
  },
  {
   "cell_type": "code",
   "execution_count": 12,
   "metadata": {
    "ExecuteTime": {
     "end_time": "2018-05-15T20:01:40.026665Z",
     "start_time": "2018-05-15T20:01:40.006590Z"
    }
   },
   "outputs": [
    {
     "ename": "NameError",
     "evalue": "name 'final_test_features' is not defined",
     "output_type": "error",
     "traceback": [
      "\u001b[0;31m---------------------------------------------------------------------------\u001b[0m",
      "\u001b[0;31mNameError\u001b[0m                                 Traceback (most recent call last)",
      "\u001b[0;32m<ipython-input-12-de12f9e63288>\u001b[0m in \u001b[0;36m<module>\u001b[0;34m()\u001b[0m\n\u001b[0;32m----> 1\u001b[0;31m \u001b[0mprint\u001b[0m\u001b[0;34m(\u001b[0m\u001b[0mclf\u001b[0m\u001b[0;34m.\u001b[0m\u001b[0mscore\u001b[0m\u001b[0;34m(\u001b[0m\u001b[0mfinal_test_features\u001b[0m\u001b[0;34m,\u001b[0m \u001b[0mfinal_test_outcomes\u001b[0m\u001b[0;34m)\u001b[0m\u001b[0;34m)\u001b[0m\u001b[0;34m\u001b[0m\u001b[0m\n\u001b[0m",
      "\u001b[0;31mNameError\u001b[0m: name 'final_test_features' is not defined"
     ]
    }
   ],
   "source": [
    "print(clf.score(final_test_features, final_test_outcomes))"
   ]
  },
  {
   "cell_type": "code",
   "execution_count": 10,
   "metadata": {
    "ExecuteTime": {
     "end_time": "2018-05-15T20:01:12.287840Z",
     "start_time": "2018-05-15T20:01:12.259017Z"
    }
   },
   "outputs": [
    {
     "ename": "AttributeError",
     "evalue": "'RandomizedSearchCV' object has no attribute 'best_estimator_'",
     "output_type": "error",
     "traceback": [
      "\u001b[0;31m---------------------------------------------------------------------------\u001b[0m",
      "\u001b[0;31mAttributeError\u001b[0m                            Traceback (most recent call last)",
      "\u001b[0;32m<ipython-input-10-2d39bdb4c6dd>\u001b[0m in \u001b[0;36m<module>\u001b[0;34m()\u001b[0m\n\u001b[0;32m----> 1\u001b[0;31m \u001b[0mclf\u001b[0m\u001b[0;34m.\u001b[0m\u001b[0mbest_estimator_\u001b[0m\u001b[0;34m\u001b[0m\u001b[0m\n\u001b[0m",
      "\u001b[0;31mAttributeError\u001b[0m: 'RandomizedSearchCV' object has no attribute 'best_estimator_'"
     ]
    }
   ],
   "source": [
    "clf.best_estimator_"
   ]
  },
  {
   "cell_type": "code",
   "execution_count": null,
   "metadata": {
    "ExecuteTime": {
     "end_time": "2018-05-15T20:01:08.225529Z",
     "start_time": "2018-05-15T19:57:51.312Z"
    },
    "collapsed": true
   },
   "outputs": [],
   "source": [
    "clf.best_params_"
   ]
  },
  {
   "cell_type": "code",
   "execution_count": null,
   "metadata": {
    "ExecuteTime": {
     "end_time": "2018-05-15T20:01:08.225904Z",
     "start_time": "2018-05-15T19:57:51.314Z"
    },
    "collapsed": true
   },
   "outputs": [],
   "source": [
    "cv_results = pd.DataFrame(clf.cv_results_)\n",
    "cv_resultsb"
   ]
  },
  {
   "cell_type": "code",
   "execution_count": null,
   "metadata": {
    "ExecuteTime": {
     "end_time": "2018-05-15T20:01:08.226265Z",
     "start_time": "2018-05-15T19:57:51.316Z"
    },
    "collapsed": true
   },
   "outputs": [],
   "source": [
    "clf.best_index_"
   ]
  },
  {
   "cell_type": "code",
   "execution_count": 44,
   "metadata": {
    "ExecuteTime": {
     "end_time": "2018-05-15T17:46:32.354739Z",
     "start_time": "2018-05-15T13:46:13.812601-04:00"
    },
    "scrolled": true
   },
   "outputs": [
    {
     "name": "stdout",
     "output_type": "stream",
     "text": [
      "building tree 1 of 50building tree 2 of 50building tree 3 of 50building tree 4 of 50building tree 5 of 50building tree 6 of 50\n",
      "\n",
      "\n",
      "\n",
      "\n",
      "\n",
      "building tree 7 of 50\n",
      "building tree 8 of 50\n",
      "building tree 9 of 50\n",
      "building tree 10 of 50\n",
      "building tree 11 of 50\n",
      "building tree 12 of 50\n",
      "building tree 13 of 50\n",
      "building tree 14 of 50\n",
      "building tree 15 of 50\n",
      "building tree 16 of 50\n",
      "building tree 17 of 50\n",
      "building tree 18 of 50\n",
      "building tree 19 of 50\n",
      "building tree 20 of 50\n",
      "building tree 21 of 50building tree 22 of 50\n",
      "\n",
      "building tree 23 of 50\n",
      "building tree 24 of 50\n"
     ]
    },
    {
     "name": "stderr",
     "output_type": "stream",
     "text": [
      "[Parallel(n_jobs=8)]: Done  16 tasks      | elapsed:    5.5s\n"
     ]
    },
    {
     "name": "stdout",
     "output_type": "stream",
     "text": [
      "building tree 25 of 50\n",
      "building tree 26 of 50\n",
      "building tree 27 of 50\n",
      "building tree 28 of 50\n",
      "building tree 29 of 50\n",
      "building tree 30 of 50\n",
      "building tree 31 of 50\n",
      "building tree 32 of 50\n",
      "building tree 33 of 50\n",
      "building tree 34 of 50\n",
      "building tree 35 of 50\n",
      "building tree 36 of 50\n",
      "building tree 37 of 50\n",
      "building tree 38 of 50\n",
      "building tree 39 of 50\n",
      "building tree 40 of 50\n",
      "building tree 41 of 50building tree 42 of 50\n",
      "\n",
      "building tree 43 of 50\n",
      "building tree 44 of 50\n",
      "building tree 45 of 50\n",
      "building tree 46 of 50\n",
      "building tree 47 of 50\n",
      "building tree 48 of 50\n",
      "building tree 49 of 50\n",
      "building tree 50 of 50\n"
     ]
    },
    {
     "name": "stderr",
     "output_type": "stream",
     "text": [
      "[Parallel(n_jobs=8)]: Done  50 out of  50 | elapsed:   16.9s finished\n",
      "[Parallel(n_jobs=8)]: Done  16 tasks      | elapsed:    0.2s\n"
     ]
    },
    {
     "name": "stdout",
     "output_type": "stream",
     "text": [
      "0.9301481326935114\n"
     ]
    },
    {
     "name": "stderr",
     "output_type": "stream",
     "text": [
      "[Parallel(n_jobs=8)]: Done  50 out of  50 | elapsed:    0.9s finished\n"
     ]
    }
   ],
   "source": [
    "# n_estimators=50   # 0.9301481326935114   18.5 s\n",
    "# n_estimators=100  # 0.9306175672856248   35.7 s\n",
    "# n_estimators=200  # 0.930732317963697\n",
    "# n_estimators=450  # 0.9310922178176507\n",
    "# n_estimators=675  # 0.9312121844356352  # 3 mins\n",
    "n_estimators = 50\n",
    "max_features=\"sqrt\"\n",
    "rfc = RandomForestClassifier(verbose=3, random_state=0, n_jobs=8, n_estimators=n_estimators, max_features=max_features, max_depth=None, criterion=\"entropy\")\n",
    "rfc.fit(X_train, y_train)\n",
    "print('{}'.format(rfc.score(X_test, y_test)))"
   ]
  },
  {
   "cell_type": "code",
   "execution_count": 6,
   "metadata": {
    "ExecuteTime": {
     "end_time": "2018-05-16T00:58:27.904706Z",
     "start_time": "2018-05-15T20:58:23.290111-04:00"
    },
    "scrolled": true
   },
   "outputs": [
    {
     "name": "stdout",
     "output_type": "stream",
     "text": [
      "building tree 1 of 10building tree 3 of 10building tree 2 of 10building tree 4 of 10\n",
      "building tree 5 of 10building tree 6 of 10building tree 7 of 10building tree 8 of 10\n",
      "\n",
      "\n",
      "\n",
      "\n",
      "\n",
      "\n",
      "building tree 9 of 10\n",
      "building tree 10 of 10\n"
     ]
    },
    {
     "name": "stderr",
     "output_type": "stream",
     "text": [
      "[Parallel(n_jobs=8)]: Done   3 out of  10 | elapsed:    2.5s remaining:    5.9s\n",
      "[Parallel(n_jobs=8)]: Done   7 out of  10 | elapsed:    2.5s remaining:    1.0s\n",
      "[Parallel(n_jobs=8)]: Done  10 out of  10 | elapsed:    3.7s finished\n"
     ]
    },
    {
     "name": "stdout",
     "output_type": "stream",
     "text": [
      "0.9288092760517318\n"
     ]
    },
    {
     "name": "stderr",
     "output_type": "stream",
     "text": [
      "[Parallel(n_jobs=8)]: Done   3 out of  10 | elapsed:    0.0s remaining:    0.2s\n",
      "[Parallel(n_jobs=8)]: Done   7 out of  10 | elapsed:    0.1s remaining:    0.0s\n",
      "[Parallel(n_jobs=8)]: Done  10 out of  10 | elapsed:    0.1s finished\n"
     ]
    }
   ],
   "source": [
    "# n_estimators=1 0   # 0.9288092760517318     4.61s\n",
    "# n_estimators=100   # 0.9321787820226947       39s\n",
    "# n_estimators=450   # 0.9322828402953273    2m 26s\n",
    "# n_estimators=675   # 0.9322283335810911    8m  2s\n",
    "n_estimators = 10\n",
    "max_features=\"log2\"\n",
    "rfc = RandomForestClassifier(verbose=3, random_state=0, n_jobs=8, n_estimators=n_estimators, max_features=max_features, max_depth=None, criterion=\"entropy\")\n",
    "rfc.fit(X_train, y_train)\n",
    "print('{}'.format(rfc.score(X_test, y_test)))"
   ]
  },
  {
   "cell_type": "code",
   "execution_count": null,
   "metadata": {
    "collapsed": true
   },
   "outputs": [],
   "source": []
  }
 ],
 "metadata": {
  "anaconda-cloud": {},
  "hide_input": false,
  "kernelspec": {
   "display_name": "Python 3",
   "language": "python",
   "name": "python3"
  },
  "language_info": {
   "codemirror_mode": {
    "name": "ipython",
    "version": 3
   },
   "file_extension": ".py",
   "mimetype": "text/x-python",
   "name": "python",
   "nbconvert_exporter": "python",
   "pygments_lexer": "ipython3",
   "version": "3.6.1"
  },
  "toc": {
   "base_numbering": 1,
   "nav_menu": {},
   "number_sections": true,
   "sideBar": true,
   "skip_h1_title": false,
   "title_cell": "Table of Contents",
   "title_sidebar": "Contents",
   "toc_cell": false,
   "toc_position": {
    "height": "calc(100% - 180px)",
    "left": "10px",
    "top": "150px",
    "width": "305px"
   },
   "toc_section_display": true,
   "toc_window_display": false
  },
  "varInspector": {
   "cols": {
    "lenName": 16,
    "lenType": 16,
    "lenVar": 40
   },
   "kernels_config": {
    "python": {
     "delete_cmd_postfix": "",
     "delete_cmd_prefix": "del ",
     "library": "var_list.py",
     "varRefreshCmd": "print(var_dic_list())"
    },
    "r": {
     "delete_cmd_postfix": ") ",
     "delete_cmd_prefix": "rm(",
     "library": "var_list.r",
     "varRefreshCmd": "cat(var_dic_list()) "
    }
   },
   "types_to_exclude": [
    "module",
    "function",
    "builtin_function_or_method",
    "instance",
    "_Feature"
   ],
   "window_display": false
  }
 },
 "nbformat": 4,
 "nbformat_minor": 2
}
