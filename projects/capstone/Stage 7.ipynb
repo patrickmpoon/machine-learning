{
 "cells": [
  {
   "cell_type": "markdown",
   "metadata": {},
   "source": [
    "# Stage 7\n",
    "\n",
    "- has **`location_raw`**: False\n",
    "- vars one-hot encoded: True\n",
    "- var label-encoded: False\n",
    "- oversampled: False"
   ]
  },
  {
   "cell_type": "code",
   "execution_count": 1,
   "metadata": {
    "ExecuteTime": {
     "end_time": "2018-05-23T04:59:57.338141Z",
     "start_time": "2018-05-23T04:59:56.862696Z"
    },
    "collapsed": true
   },
   "outputs": [],
   "source": [
    "import pickle\n",
    "\n",
    "import humanize\n",
    "import numpy as np\n",
    "import pandas as pd\n",
    "from datetime import datetime\n",
    "from sklearn.ensemble import RandomForestClassifier, GradientBoostingClassifier\n",
    "from sklearn.externals.joblib import parallel_backend\n",
    "from sklearn.metrics import accuracy_score, confusion_matrix, precision_recall_fscore_support\n",
    "from sklearn.model_selection import train_test_split\n",
    "\n",
    "\n",
    "%matplotlib inline\n",
    "%load_ext autoreload"
   ]
  },
  {
   "cell_type": "code",
   "execution_count": 2,
   "metadata": {
    "ExecuteTime": {
     "end_time": "2018-05-23T04:59:57.395049Z",
     "start_time": "2018-05-23T04:59:57.338868Z"
    }
   },
   "outputs": [
    {
     "name": "stdout",
     "output_type": "stream",
     "text": [
      "Row counts:\n",
      "\ttrain: 250120\n",
      "\ttest: 62530\n"
     ]
    }
   ],
   "source": [
    "X_train = pickle.load(open('./data/stage7-train.pkl', 'rb'))\n",
    "y_train = X_train.pop('stop_outcome')\n",
    "X_test = pickle.load(open('./data/stage7-test.pkl', 'rb'))\n",
    "y_test = X_test.pop('stop_outcome')\n",
    "\n",
    "print('Row counts:\\n\\ttrain: {}\\n\\ttest: {}'.format(X_train.shape[0], X_test.shape[0]))\n"
   ]
  },
  {
   "cell_type": "markdown",
   "metadata": {},
   "source": [
    "# Classifiers"
   ]
  },
  {
   "cell_type": "code",
   "execution_count": 3,
   "metadata": {
    "ExecuteTime": {
     "end_time": "2018-05-23T04:59:57.460275Z",
     "start_time": "2018-05-23T04:59:57.395909Z"
    },
    "collapsed": true
   },
   "outputs": [],
   "source": [
    "from sklearn.ensemble import RandomForestClassifier, GradientBoostingClassifier\n",
    "from sklearn.linear_model import SGDClassifier\n",
    "from sklearn.naive_bayes import GaussianNB\n",
    "from sklearn.tree import DecisionTreeClassifier\n",
    "\n",
    "\n",
    "class Classifier(object):\n",
    "    def __init__(self, classifier):\n",
    "        self.clf = classifier\n",
    "        self.fitted = False\n",
    "        self.name = self.get_name(self.clf)\n",
    "        self.score_val = 0.0\n",
    "\n",
    "    def get_name(self, classifier):\n",
    "        return str(classifier.__class__).split('.')[-1].replace(\"'>\", \"\")\n",
    "        \n",
    "    def fit(self, X_train, y_train):\n",
    "        self.clf.fit(X_train, y_train)\n",
    "        self.fitted = True\n",
    "\n",
    "    def score(self, X_train, y_train):\n",
    "        if self.fitted:\n",
    "            print('Scoring...')\n",
    "            self.score_val = self.clf.score(X_train, y_train)\n",
    "            print(self.score_val)\n",
    "        else:\n",
    "            print('Please run the .fit() method first')\n",
    "\n",
    "        \n",
    "clf = {\n",
    "    'sgd': Classifier(SGDClassifier()),\n",
    "    'gnb': Classifier(GaussianNB()),\n",
    "    'dtc': Classifier(DecisionTreeClassifier(random_state=0)),\n",
    "    'rfc': Classifier(RandomForestClassifier(n_jobs=8, verbose=3, random_state=0)),\n",
    "    'gbc': Classifier(GradientBoostingClassifier(random_state=0)),\n",
    "    'gbc_tuned': Classifier(GradientBoostingClassifier(\n",
    "    #     learning_rate=0.0983,\n",
    "        max_depth=6,\n",
    "    #     max_features=len(list(X_train.columns.values)),\n",
    "        subsample=0.9,\n",
    "        verbose=3,\n",
    "        random_state=0,\n",
    "    )),\n",
    "}\n",
    "        \n",
    "    "
   ]
  },
  {
   "cell_type": "code",
   "execution_count": 4,
   "metadata": {
    "ExecuteTime": {
     "end_time": "2018-05-23T04:59:57.463665Z",
     "start_time": "2018-05-23T04:59:57.461031Z"
    },
    "collapsed": true
   },
   "outputs": [],
   "source": [
    "# Split the 'features' and 'labels' data into training and testing sets\n",
    "# X_train, X_test, y_train, y_test = train_test_split(features,\n",
    "#                                                     labels, \n",
    "#                                                     test_size=0.2, \n",
    "#                                                     random_state=0)\n",
    "# final_test_features = pickle.load(open('./data/final_test_set.pkl', 'rb'))\n",
    "# final_test_outcomes = final_test_features.pop('stop_outcome')\n",
    "# print('Final test set row count: {}'.format(final_test_features.shape[0]))\n",
    "\n",
    "# X_train = features\n",
    "# y_train = labels\n",
    "# X_test = final_test_features\n",
    "# y_test = final_test_outcomes"
   ]
  },
  {
   "cell_type": "markdown",
   "metadata": {},
   "source": [
    "# Benchmark"
   ]
  },
  {
   "cell_type": "code",
   "execution_count": 5,
   "metadata": {
    "ExecuteTime": {
     "end_time": "2018-05-23T04:59:57.481469Z",
     "start_time": "2018-05-23T04:59:57.464471Z"
    }
   },
   "outputs": [
    {
     "data": {
      "text/plain": [
       "0.69125219894450662"
      ]
     },
     "execution_count": 5,
     "metadata": {},
     "output_type": "execute_result"
    }
   ],
   "source": [
    "# LabelEncoded value for \"Ticket\" outcome is 2\n",
    "predictions = [2]\n",
    "accuracy_score(y_test, predictions * y_test.shape[0])"
   ]
  },
  {
   "cell_type": "markdown",
   "metadata": {},
   "source": [
    "# Simple Linear Classifier"
   ]
  },
  {
   "cell_type": "code",
   "execution_count": 6,
   "metadata": {
    "ExecuteTime": {
     "end_time": "2018-05-23T04:59:58.289159Z",
     "start_time": "2018-05-23T04:59:57.482243Z"
    }
   },
   "outputs": [
    {
     "name": "stderr",
     "output_type": "stream",
     "text": [
      "/home/pato/anaconda2/envs/py36/lib/python3.6/site-packages/sklearn/linear_model/stochastic_gradient.py:128: FutureWarning: max_iter and tol parameters have been added in <class 'sklearn.linear_model.stochastic_gradient.SGDClassifier'> in 0.19. If both are left unset, they default to max_iter=5 and tol=None. If tol is not None, max_iter defaults to max_iter=1000. From 0.21, default max_iter will be 1000, and default tol will be 1e-3.\n",
      "  \"and default tol will be 1e-3.\" % type(self), FutureWarning)\n"
     ]
    },
    {
     "name": "stdout",
     "output_type": "stream",
     "text": [
      "Scoring...\n",
      "0.695090356629\n"
     ]
    }
   ],
   "source": [
    "clf['sgd'].fit(X_train, y_train)\n",
    "clf['sgd'].score(X_test, y_test)"
   ]
  },
  {
   "cell_type": "markdown",
   "metadata": {
    "collapsed": true
   },
   "source": [
    "# GaussianNB"
   ]
  },
  {
   "cell_type": "code",
   "execution_count": 7,
   "metadata": {
    "ExecuteTime": {
     "end_time": "2018-05-23T04:59:58.452515Z",
     "start_time": "2018-05-23T04:59:58.289936Z"
    }
   },
   "outputs": [
    {
     "name": "stdout",
     "output_type": "stream",
     "text": [
      "Scoring...\n",
      "0.685846793539\n"
     ]
    }
   ],
   "source": [
    "clf['gnb'].fit(X_train, y_train)\n",
    "clf['gnb'].score(X_test, y_test)"
   ]
  },
  {
   "cell_type": "markdown",
   "metadata": {
    "collapsed": true
   },
   "source": [
    "# DecisionTreeClassifier"
   ]
  },
  {
   "cell_type": "code",
   "execution_count": 8,
   "metadata": {
    "ExecuteTime": {
     "end_time": "2018-05-23T04:59:59.821285Z",
     "start_time": "2018-05-23T04:59:58.453303Z"
    }
   },
   "outputs": [
    {
     "name": "stdout",
     "output_type": "stream",
     "text": [
      "Scoring...\n",
      "0.556580841196\n"
     ]
    }
   ],
   "source": [
    "clf['dtc'].fit(X_train, y_train)\n",
    "clf['dtc'].score(X_test, y_test)"
   ]
  },
  {
   "cell_type": "markdown",
   "metadata": {
    "collapsed": true
   },
   "source": [
    "# RandomForestClassifier"
   ]
  },
  {
   "cell_type": "code",
   "execution_count": 9,
   "metadata": {
    "ExecuteTime": {
     "end_time": "2018-05-23T05:00:00.986295Z",
     "start_time": "2018-05-23T04:59:59.822377Z"
    }
   },
   "outputs": [
    {
     "name": "stdout",
     "output_type": "stream",
     "text": [
      "building tree 4 of 10\n",
      "building tree 5 of 10building tree 6 of 10building tree 1 of 10building tree 3 of 10building tree 2 of 10building tree 7 of 10building tree 8 of 10\n",
      "\n",
      "\n",
      "\n",
      "\n",
      "\n",
      "\n",
      "building tree 9 of 10\n",
      "building tree 10 of 10\n"
     ]
    },
    {
     "name": "stderr",
     "output_type": "stream",
     "text": [
      "[Parallel(n_jobs=8)]: Done   3 out of  10 | elapsed:    0.6s remaining:    1.4s\n",
      "[Parallel(n_jobs=8)]: Done   7 out of  10 | elapsed:    0.7s remaining:    0.3s\n"
     ]
    },
    {
     "name": "stdout",
     "output_type": "stream",
     "text": [
      "Scoring...\n",
      "0.69652966576\n"
     ]
    },
    {
     "name": "stderr",
     "output_type": "stream",
     "text": [
      "[Parallel(n_jobs=8)]: Done  10 out of  10 | elapsed:    0.9s finished\n",
      "[Parallel(n_jobs=8)]: Done   3 out of  10 | elapsed:    0.0s remaining:    0.1s\n",
      "[Parallel(n_jobs=8)]: Done   7 out of  10 | elapsed:    0.0s remaining:    0.0s\n",
      "[Parallel(n_jobs=8)]: Done  10 out of  10 | elapsed:    0.1s finished\n"
     ]
    }
   ],
   "source": [
    "# rfc = RandomForestClassifier(n_jobs=8, verbose=3, random_state=0)\n",
    "clf['rfc'].fit(X_train, y_train)\n",
    "clf['rfc'].score(X_test, y_test)"
   ]
  },
  {
   "cell_type": "markdown",
   "metadata": {
    "collapsed": true
   },
   "source": [
    "# GradientBoostingClassifier"
   ]
  },
  {
   "cell_type": "code",
   "execution_count": 10,
   "metadata": {
    "ExecuteTime": {
     "end_time": "2018-05-23T05:01:27.894206Z",
     "start_time": "2018-05-23T05:00:00.988441Z"
    }
   },
   "outputs": [
    {
     "name": "stdout",
     "output_type": "stream",
     "text": [
      "Scoring...\n",
      "0.721237805853\n"
     ]
    }
   ],
   "source": [
    "# gbc = GradientBoostingClassifier(random_state=0)\n",
    "clf['gbc'].fit(X_train, y_train)\n",
    "clf['gbc'].score(X_test, y_test)"
   ]
  },
  {
   "cell_type": "markdown",
   "metadata": {},
   "source": [
    "## GradientBoostingClassifier (Tuned)\n"
   ]
  },
  {
   "cell_type": "code",
   "execution_count": 11,
   "metadata": {
    "ExecuteTime": {
     "end_time": "2018-05-23T05:05:54.337776Z",
     "start_time": "2018-05-23T05:01:27.895289Z"
    },
    "scrolled": true
   },
   "outputs": [
    {
     "name": "stdout",
     "output_type": "stream",
     "text": [
      "      Iter       Train Loss      OOB Improve   Remaining Time \n",
      "         1      275167.8526        2445.6268            4.17m\n",
      "         2      257982.8243        1890.3034            4.11m\n",
      "         3      244373.5874        1506.2041            4.07m\n",
      "         4      233113.6272        1237.0613            4.01m\n",
      "         5      223956.9667        1000.5782            3.98m\n",
      "         6      216682.7174         829.3906            3.94m\n",
      "         7      210327.6241         688.1295            3.90m\n",
      "         8      205216.7973         570.0063            3.86m\n",
      "         9      200755.7053         459.7494            3.82m\n",
      "        10      197158.2393         389.9104            3.79m\n",
      "        11      194127.2510         336.7597            3.76m\n",
      "        12      191707.0952         287.2700            3.75m\n",
      "        13      189166.2217         245.7881            3.73m\n",
      "        14      186819.1725         224.2045            3.70m\n",
      "        15      184954.9951         205.3895            3.68m\n",
      "        16      183231.6585         173.3165            3.65m\n",
      "        17      181785.4183         155.4046            3.62m\n",
      "        18      180386.3225         153.3488            3.60m\n",
      "        19      179235.8970         116.7293            3.57m\n",
      "        20      178231.5219          94.8400            3.53m\n",
      "        21      177144.3105          90.8852            3.50m\n",
      "        22      176116.7109          96.8423            3.47m\n",
      "        23      175388.3088          78.2695            3.43m\n",
      "        24      174486.0239          71.6554            3.39m\n",
      "        25      174118.9530          65.9761            3.35m\n",
      "        26      173465.7137          44.2596            3.30m\n",
      "        27      172723.0609          86.1543            3.28m\n",
      "        28      171948.0731          41.3453            3.24m\n",
      "        29      171349.4629          60.0993            3.21m\n",
      "        30      171088.7554          42.7104            3.16m\n",
      "        31      170531.6857          26.5439            3.11m\n",
      "        32      170095.5017          35.7583            3.06m\n",
      "        33      169553.1664          27.4255            3.01m\n",
      "        34      169382.3070          33.4599            2.97m\n",
      "        35      168832.6793          29.0487            2.92m\n",
      "        36      168805.9962          23.6130            2.88m\n",
      "        37      168482.2328          18.2622            2.84m\n",
      "        38      167910.0888          31.0746            2.80m\n",
      "        39      167453.3737          10.5429            2.74m\n",
      "        40      167411.0979          12.4604            2.70m\n",
      "        41      167198.0721          10.3021            2.65m\n",
      "        42      166992.5378          15.0153            2.61m\n",
      "        43      167056.4393           6.7082            2.56m\n",
      "        44      166571.6244          12.7541            2.52m\n",
      "        45      166416.1383          22.4731            2.47m\n",
      "        46      166304.2684          12.6063            2.43m\n",
      "        47      165939.7959          15.9865            2.38m\n",
      "        48      165737.0298          12.5881            2.34m\n",
      "        49      165254.9840          13.0121            2.29m\n",
      "        50      165328.4450           5.3178            2.25m\n",
      "        51      165081.0984           8.6951            2.20m\n",
      "        52      164785.7792           3.2815            2.15m\n",
      "        53      164878.9463           4.6200            2.10m\n",
      "        54      164639.1663          13.1508            2.06m\n",
      "        55      164357.7611           7.4291            2.01m\n",
      "        56      164111.9809           4.9919            1.97m\n",
      "        57      164153.5092           3.3670            1.92m\n",
      "        58      163575.9894           4.9033            1.88m\n",
      "        59      163753.3648          12.1892            1.84m\n",
      "        60      163591.5540          20.3001            1.79m\n",
      "        61      163420.8668           6.1359            1.75m\n",
      "        62      163057.9679           3.3435            1.70m\n",
      "        63      163106.5493           5.6075            1.65m\n",
      "        64      162956.3393           4.5916            1.61m\n",
      "        65      162695.1605           2.9849            1.56m\n",
      "        66      162421.1760           5.5910            1.52m\n",
      "        67      162234.6405           2.1210            1.47m\n",
      "        68      162164.2718           1.4538            1.43m\n",
      "        69      162203.7210           2.3923            1.38m\n",
      "        70      162099.6554           5.7868            1.34m\n",
      "        71      161821.1588           0.4420            1.29m\n",
      "        72      161757.4915           3.7998            1.25m\n",
      "        73      161930.2496           3.3828            1.20m\n",
      "        74      161467.9222          -0.7584            1.16m\n",
      "        75      161195.2314           1.7630            1.11m\n",
      "        76      161526.6336           1.3067            1.07m\n",
      "        77      161397.1996           8.0147            1.02m\n",
      "        78      161030.0890           3.3916           58.72s\n",
      "        79      160856.1197           4.6105           56.04s\n",
      "        80      160733.2830           2.7072           53.35s\n",
      "        81      160862.6438          -1.2444           50.60s\n",
      "        82      160502.9620           4.2001           47.96s\n",
      "        83      160614.6395           0.1178           45.29s\n",
      "        84      160403.1000          -1.2037           42.63s\n",
      "        85      160107.1840           0.7003           39.98s\n",
      "        86      160072.0533          -0.5725           37.33s\n",
      "        87      159894.5196           2.0053           34.67s\n",
      "        88      159989.6876           0.7220           31.98s\n",
      "        89      159875.8913           1.3235           29.30s\n",
      "        90      159501.7243           0.6641           26.61s\n",
      "        91      159688.6764          -2.5255           23.96s\n",
      "        92      159778.7528          -2.1745           21.30s\n",
      "        93      159446.5075           1.8576           18.65s\n",
      "        94      159398.9807           0.1026           15.98s\n",
      "        95      159277.4406           1.1334           13.30s\n",
      "        96      159046.5039           2.7450           10.64s\n",
      "        97      158881.4510          -0.0355            7.98s\n",
      "        98      158919.2372           0.7390            5.32s\n",
      "        99      158709.4562          -0.1106            2.66s\n",
      "       100      158699.0729          -0.1101            0.00s\n",
      "Scoring...\n",
      "0.728466336159\n"
     ]
    }
   ],
   "source": [
    "# gbc_tuned = GradientBoostingClassifier(\n",
    "# #     learning_rate=0.0983,\n",
    "#     max_depth=6,\n",
    "# #     max_features=len(list(X_train.columns.values)),\n",
    "#     subsample=0.9,\n",
    "#     verbose=3,\n",
    "#     random_state=0,\n",
    "# )\n",
    "clf['gbc_tuned'].fit(X_train, y_train)\n",
    "clf['gbc_tuned'].score(X_test, y_test)"
   ]
  },
  {
   "cell_type": "markdown",
   "metadata": {},
   "source": [
    "### Confusion Matrix"
   ]
  },
  {
   "cell_type": "code",
   "execution_count": 12,
   "metadata": {
    "ExecuteTime": {
     "end_time": "2018-05-23T05:05:54.943415Z",
     "start_time": "2018-05-23T05:05:54.338521Z"
    }
   },
   "outputs": [
    {
     "data": {
      "text/html": [
       "<div>\n",
       "<style scoped>\n",
       "    .dataframe tbody tr th:only-of-type {\n",
       "        vertical-align: middle;\n",
       "    }\n",
       "\n",
       "    .dataframe tbody tr th {\n",
       "        vertical-align: top;\n",
       "    }\n",
       "\n",
       "    .dataframe thead th {\n",
       "        text-align: right;\n",
       "    }\n",
       "</style>\n",
       "<table border=\"1\" class=\"dataframe\">\n",
       "  <thead>\n",
       "    <tr style=\"text-align: right;\">\n",
       "      <th></th>\n",
       "      <th>Arrest</th>\n",
       "      <th>Summons</th>\n",
       "      <th>Ticket</th>\n",
       "      <th>Verbal Warning</th>\n",
       "      <th>Written Warning</th>\n",
       "    </tr>\n",
       "  </thead>\n",
       "  <tbody>\n",
       "    <tr>\n",
       "      <th>Arrest</th>\n",
       "      <td>524</td>\n",
       "      <td>135</td>\n",
       "      <td>692</td>\n",
       "      <td>51</td>\n",
       "      <td>6</td>\n",
       "    </tr>\n",
       "    <tr>\n",
       "      <th>Summons</th>\n",
       "      <td>159</td>\n",
       "      <td>752</td>\n",
       "      <td>1643</td>\n",
       "      <td>83</td>\n",
       "      <td>20</td>\n",
       "    </tr>\n",
       "    <tr>\n",
       "      <th>Ticket</th>\n",
       "      <td>264</td>\n",
       "      <td>263</td>\n",
       "      <td>40937</td>\n",
       "      <td>1392</td>\n",
       "      <td>368</td>\n",
       "    </tr>\n",
       "    <tr>\n",
       "      <th>Verbal Warning</th>\n",
       "      <td>27</td>\n",
       "      <td>40</td>\n",
       "      <td>5923</td>\n",
       "      <td>2507</td>\n",
       "      <td>246</td>\n",
       "    </tr>\n",
       "    <tr>\n",
       "      <th>Written Warning</th>\n",
       "      <td>20</td>\n",
       "      <td>22</td>\n",
       "      <td>4354</td>\n",
       "      <td>1271</td>\n",
       "      <td>831</td>\n",
       "    </tr>\n",
       "  </tbody>\n",
       "</table>\n",
       "</div>"
      ],
      "text/plain": [
       "                 Arrest  Summons  Ticket  Verbal Warning  Written Warning\n",
       "Arrest              524      135     692              51                6\n",
       "Summons             159      752    1643              83               20\n",
       "Ticket              264      263   40937            1392              368\n",
       "Verbal Warning       27       40    5923            2507              246\n",
       "Written Warning      20       22    4354            1271              831"
      ]
     },
     "execution_count": 12,
     "metadata": {},
     "output_type": "execute_result"
    }
   ],
   "source": [
    "headers = ['Arrest', 'Summons', 'Ticket', 'Verbal Warning', 'Written Warning']\n",
    "cm = pd.DataFrame(data=confusion_matrix(y_test, clf['gbc_tuned'].clf.predict(X_test)), columns=headers, index=headers)\n",
    "cm"
   ]
  },
  {
   "cell_type": "code",
   "execution_count": 13,
   "metadata": {
    "ExecuteTime": {
     "end_time": "2018-05-23T05:05:55.500404Z",
     "start_time": "2018-05-23T05:05:54.944150Z"
    }
   },
   "outputs": [
    {
     "data": {
      "text/plain": [
       "(array([ 0.52716298,  0.62046205,  0.76447739,  0.47266214,  0.56492182]),\n",
       " array([ 0.37215909,  0.28302597,  0.94708958,  0.28674368,  0.1278855 ]),\n",
       " array([ 0.43630308,  0.38873094,  0.84604177,  0.35694454,  0.20855816]),\n",
       " array([ 1408,  2657, 43224,  8743,  6498]))"
      ]
     },
     "execution_count": 13,
     "metadata": {},
     "output_type": "execute_result"
    }
   ],
   "source": [
    "precision_recall_fscore_support(y_test, clf['gbc_tuned'].clf.predict(X_test), average=None)"
   ]
  },
  {
   "cell_type": "code",
   "execution_count": 14,
   "metadata": {
    "ExecuteTime": {
     "end_time": "2018-05-23T05:05:56.054040Z",
     "start_time": "2018-05-23T05:05:55.501153Z"
    }
   },
   "outputs": [
    {
     "data": {
      "text/plain": [
       "(0.72846633615864387, 0.72846633615864387, 0.72846633615864387, None)"
      ]
     },
     "execution_count": 14,
     "metadata": {},
     "output_type": "execute_result"
    }
   ],
   "source": [
    "precision_recall_fscore_support(y_test, clf['gbc_tuned'].clf.predict(X_test), average='micro')"
   ]
  },
  {
   "cell_type": "code",
   "execution_count": 15,
   "metadata": {
    "ExecuteTime": {
     "end_time": "2018-05-23T05:05:56.624033Z",
     "start_time": "2018-05-23T05:05:56.054841Z"
    }
   },
   "outputs": [
    {
     "data": {
      "text/plain": [
       "(0.58993727645546579, 0.40338076476016643, 0.44731569860829062, None)"
      ]
     },
     "execution_count": 15,
     "metadata": {},
     "output_type": "execute_result"
    }
   ],
   "source": [
    "precision_recall_fscore_support(y_test, clf['gbc_tuned'].clf.predict(X_test), average='macro')"
   ]
  },
  {
   "cell_type": "code",
   "execution_count": 16,
   "metadata": {
    "ExecuteTime": {
     "end_time": "2018-05-23T05:05:56.942426Z",
     "start_time": "2018-05-23T05:05:56.624802Z"
    }
   },
   "outputs": [
    {
     "data": {
      "image/png": "[encoded data removed]",
      "text/plain": [
       "<matplotlib.figure.Figure at 0x7ff446872898>"
      ]
     },
     "metadata": {},
     "output_type": "display_data"
    }
   ],
   "source": [
    "gbc_tuned_df = pd.DataFrame(data=clf['gbc_tuned'].clf.feature_importances_, index=X_train.columns.values)\n",
    "gbc_tuned_plot = gbc_tuned_df.sort_values(by=0).plot.barh(figsize=(15, 10), fontsize=14)\n",
    "gbc_tuned_plot.axes.legend().set_visible(False)"
   ]
  },
  {
   "cell_type": "code",
   "execution_count": 17,
   "metadata": {
    "ExecuteTime": {
     "end_time": "2018-05-23T05:05:56.947134Z",
     "start_time": "2018-05-23T05:05:56.943169Z"
    }
   },
   "outputs": [
    {
     "data": {
      "text/plain": [
       "sgd          0.695090\n",
       "gnb          0.685847\n",
       "dtc          0.556581\n",
       "rfc          0.696530\n",
       "gbc          0.721238\n",
       "gbc_tuned    0.728466\n",
       "dtype: float64"
      ]
     },
     "execution_count": 17,
     "metadata": {},
     "output_type": "execute_result"
    }
   ],
   "source": [
    "keys = clf.keys()\n",
    "scores = [clf[key].score_val for key in keys]\n",
    "results = pd.Series(scores, index=keys)\n",
    "results"
   ]
  },
  {
   "cell_type": "code",
   "execution_count": null,
   "metadata": {
    "collapsed": true
   },
   "outputs": [],
   "source": []
  }
 ],
 "metadata": {
  "anaconda-cloud": {},
  "hide_input": false,
  "kernelspec": {
   "display_name": "Python 3",
   "language": "python",
   "name": "python3"
  },
  "language_info": {
   "codemirror_mode": {
    "name": "ipython",
    "version": 3
   },
   "file_extension": ".py",
   "mimetype": "text/x-python",
   "name": "python",
   "nbconvert_exporter": "python",
   "pygments_lexer": "ipython3",
   "version": "3.6.1"
  },
  "toc": {
   "base_numbering": 1,
   "nav_menu": {},
   "number_sections": true,
   "sideBar": true,
   "skip_h1_title": false,
   "title_cell": "Table of Contents",
   "title_sidebar": "Contents",
   "toc_cell": false,
   "toc_position": {},
   "toc_section_display": true,
   "toc_window_display": false
  },
  "varInspector": {
   "cols": {
    "lenName": 16,
    "lenType": 16,
    "lenVar": 40
   },
   "kernels_config": {
    "python": {
     "delete_cmd_postfix": "",
     "delete_cmd_prefix": "del ",
     "library": "var_list.py",
     "varRefreshCmd": "print(var_dic_list())"
    },
    "r": {
     "delete_cmd_postfix": ") ",
     "delete_cmd_prefix": "rm(",
     "library": "var_list.r",
     "varRefreshCmd": "cat(var_dic_list()) "
    }
   },
   "types_to_exclude": [
    "module",
    "function",
    "builtin_function_or_method",
    "instance",
    "_Feature"
   ],
   "window_display": false
  }
 },
 "nbformat": 4,
 "nbformat_minor": 2
}
